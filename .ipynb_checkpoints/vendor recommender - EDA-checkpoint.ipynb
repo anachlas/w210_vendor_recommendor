{
 "cells": [
  {
   "cell_type": "markdown",
   "metadata": {},
   "source": [
    "# Vendor Recommender - EDA\n",
    "@olibolly"
   ]
  },
  {
   "cell_type": "markdown",
   "metadata": {},
   "source": [
    "# Open TO-DO\n",
    "- ** Link the notebook with github using ungit - DONE**\n",
    "- ** Provide access to the project if we go for Big query - DONE **\n",
    "- ** Re-pull EDA using updated 2016-2017 data**\n",
    "- ** Further EDA on collaborative filtering**\n",
    "- ** Run first regression to understand what features matter**\n",
    "- ** Join tables FAPIIS and USA spending **"
   ]
  },
  {
   "cell_type": "markdown",
   "metadata": {},
   "source": [
    "## Useful links\n",
    "- https://github.com/antontarasenko/gpq"
   ]
  },
  {
   "cell_type": "markdown",
   "metadata": {},
   "source": [
    "## Dataset"
   ]
  },
  {
   "cell_type": "markdown",
   "metadata": {},
   "source": [
    "\n",
    " - USASpending.gov available on BigQuery dataset (17 years of data, 45mn transactions, $6.7tn worth of goods and services): [gpqueries:contracts](https://bigquery.cloud.google.com/dataset/gpqueries:contracts) \n",
    " - Past Performance Information Retrieval System (PPIRS) -> review - **not public data**\n",
    "     - System for Award Management (SAM)\n",
    "     - FAPIIS\n",
    "     \n",
    " - **Are they any other dataset we should be considering?? **"
   ]
  },
  {
   "cell_type": "markdown",
   "metadata": {},
   "source": [
    "## Table `gpqueries:contracts.raw`"
   ]
  },
  {
   "cell_type": "markdown",
   "metadata": {},
   "source": [
    "Table [`gpqueries:contracts.raw`](https://bigquery.cloud.google.com/table/gpqueries:contracts.raw) contains the unmodified data from the [USASpending.gov archives](https://www.usaspending.gov/DownloadCenter/Pages/dataarchives.aspx). It's constructed from `<year>_All_Contracts_Full_20160515.csv.zip` files and includes contracts from 2000 to May 15, 2016.\n",
    "\n",
    "Table `gpqueries:contracts.raw` contains 45M rows and 225 columns.\n",
    "\n",
    "Each row refers to a transaction (a purchase or refund) made by a federal agency. It may be a pizza or an airplane.\n",
    "\n",
    "The columns are grouped into categories:\n",
    "\n",
    "- Transaction: `unique_transaction_id`-`baseandalloptionsvalue`\n",
    "- Buyer (government agency): `maj_agency_cat`-`fundedbyforeignentity`\n",
    "- Dates: `signeddate`-`lastdatetoorder`, `last_modified_date`\n",
    "- Contract: `contractactiontype`-`programacronym`\n",
    "- Contractor (supplier, vendor): `vendorname`-`statecode`\n",
    "- Place of performance: `PlaceofPerformanceCity`-`placeofperformancecongressionaldistrict`\n",
    "- Product or service bought: `psc_cat`-`manufacturingorganizationtype`\n",
    "- General contract information: `agencyid`-`idvmodificationnumber`\n",
    "- Competitive procedure: `solicitationid`-`statutoryexceptiontofairopportunity`\n",
    "- Contractor details: `organizationaltype`-`otherstatutoryauthority`\n",
    "- Contractor's executives: `prime_awardee_executive1`-`interagencycontractingauthority`\n",
    "\n",
    "Detailed description for each variable is available in the official codebook:\n",
    "\n",
    "- [`USAspending.govDownloadsDataDictionary.pdf`](https://www.usaspending.gov/DownloadCenter/Documents/USAspending.govDownloadsDataDictionary.pdf)"
   ]
  },
  {
   "cell_type": "code",
   "execution_count": 63,
   "metadata": {
    "collapsed": false
   },
   "outputs": [],
   "source": [
    "import google.datalab.bigquery as bq\n",
    "import pandas as pd\n",
    "import matplotlib.pyplot as plt\n",
    "\n",
    "import numpy as np\n",
    "import scipy as sp\n",
    "from sklearn.linear_model import LinearRegression\n",
    "from sklearn.preprocessing import LabelEncoder\n",
    "from sklearn.preprocessing import OneHotEncoder"
   ]
  },
  {
   "cell_type": "markdown",
   "metadata": {},
   "source": [
    "## SAM (System for Award Management) - exclusions\n",
    "\n",
    "- https://www.sam.gov/sam/transcript/SAM_Exclusions_Public_Extract_Layout.pdf"
   ]
  },
  {
   "cell_type": "code",
   "execution_count": 2,
   "metadata": {
    "collapsed": false
   },
   "outputs": [
    {
     "data": {
      "text/html": [
       "\n",
       "    <div class=\"bqtv\" id=\"1_149832088049\"><table><tr><th>Classification</th><th>Name</th><th>Prefix</th><th>First</th><th>Middle</th><th>Last</th><th>Suffix</th><th>Address_1</th><th>Address_2</th><th>Address_3</th><th>Address_4</th><th>City</th><th>State___Province</th><th>Country</th><th>Zip_Code</th><th>DUNS</th><th>Exclusion_Program</th><th>Excluding_Agency</th><th>CT_Code</th><th>Exclusion_Type</th><th>Additional_Comments</th><th>Active_Date</th><th>Termination_Date</th><th>Record_Status</th><th>Cross_Reference</th><th>SAM_Number</th><th>CAGE</th><th>NPI</th></tr><tr><td></td><td></td><td></td><td>DAMASO</td><td></td><td>LOPEZ NUNEZ</td><td></td><td></td><td></td><td></td><td></td><td>CULIACAN, SINALOA</td><td></td><td>MEX</td><td>80450</td><td></td><td></td><td></td><td></td><td></td><td></td><td>&nbsp;</td><td></td><td></td><td></td><td>S4MR47FDZ</td><td></td><td>&nbsp;</td></tr><tr><td></td><td></td><td></td><td>ZAKHARY KNYAZEVICH</td><td></td><td>KALASHOV</td><td></td><td></td><td></td><td></td><td></td><td>TBILISI</td><td></td><td>GEO</td><td></td><td></td><td></td><td></td><td></td><td></td><td></td><td>&nbsp;</td><td></td><td></td><td></td><td>S4MR479RJ</td><td></td><td>&nbsp;</td></tr><tr><td></td><td></td><td></td><td>FILEMON</td><td></td><td>GARCIA AYALA</td><td></td><td></td><td></td><td></td><td></td><td>MATAMOROS, TAMAULIPAS</td><td></td><td>MEX</td><td></td><td></td><td></td><td></td><td></td><td></td><td></td><td>&nbsp;</td><td></td><td></td><td></td><td>S4MR47VPQ</td><td></td><td>&nbsp;</td></tr><tr><td></td><td></td><td></td><td>MUSA</td><td></td><td>KALIM</td><td></td><td></td><td></td><td></td><td></td><td>QUETTA</td><td></td><td>PAK</td><td></td><td></td><td></td><td></td><td></td><td></td><td></td><td>&nbsp;</td><td></td><td></td><td></td><td>S4MR473KX</td><td></td><td>&nbsp;</td></tr><tr><td></td><td>LOS RASTROJOS</td><td></td><td></td><td></td><td></td><td></td><td></td><td></td><td></td><td></td><td></td><td></td><td>ECU</td><td></td><td></td><td></td><td></td><td></td><td></td><td></td><td>&nbsp;</td><td></td><td></td><td></td><td>S4MR47QK3</td><td></td><td>&nbsp;</td></tr></table></div>\n",
       "    <br />(rows: 5, time: 0.3s, cached, job: job_AlEbC7YCG3b0GVDiHeYlL06ikkg)<br />\n",
       "    <script>\n",
       "\n",
       "      require.config({\n",
       "        paths: {\n",
       "          d3: '//cdnjs.cloudflare.com/ajax/libs/d3/3.4.13/d3',\n",
       "          plotly: 'https://cdn.plot.ly/plotly-1.5.1.min.js?noext',\n",
       "          jquery: '//ajax.googleapis.com/ajax/libs/jquery/2.0.0/jquery.min'\n",
       "        },\n",
       "        map: {\n",
       "          '*': {\n",
       "            datalab: 'nbextensions/gcpdatalab'\n",
       "          }\n",
       "        },\n",
       "        shim: {\n",
       "          plotly: {\n",
       "            deps: ['d3', 'jquery'],\n",
       "            exports: 'plotly'\n",
       "          }\n",
       "        }\n",
       "      });\n",
       "\n",
       "      require(['datalab/charting', 'datalab/element!1_149832088049', 'base/js/events',\n",
       "          'datalab/style!/nbextensions/gcpdatalab/charting.css'],\n",
       "        function(charts, dom, events) {\n",
       "          charts.render('gcharts', dom, events, 'table', [], {\"rows\": [{\"c\": [{\"v\": \"\"}, {\"v\": \"\"}, {\"v\": \"\"}, {\"v\": \"DAMASO\"}, {\"v\": \"\"}, {\"v\": \"LOPEZ NUNEZ\"}, {\"v\": \"\"}, {\"v\": \"\"}, {\"v\": \"\"}, {\"v\": \"\"}, {\"v\": \"\"}, {\"v\": \"CULIACAN, SINALOA\"}, {\"v\": \"\"}, {\"v\": \"MEX\"}, {\"v\": \"80450\"}, {\"v\": \"\"}, {\"v\": \"\"}, {\"v\": \"\"}, {\"v\": \"\"}, {\"v\": \"\"}, {\"v\": \"\"}, {\"v\": null}, {\"v\": \"\"}, {\"v\": \"\"}, {\"v\": \"\"}, {\"v\": \"S4MR47FDZ\"}, {\"v\": \"\"}, {\"v\": null}]}, {\"c\": [{\"v\": \"\"}, {\"v\": \"\"}, {\"v\": \"\"}, {\"v\": \"ZAKHARY KNYAZEVICH\"}, {\"v\": \"\"}, {\"v\": \"KALASHOV\"}, {\"v\": \"\"}, {\"v\": \"\"}, {\"v\": \"\"}, {\"v\": \"\"}, {\"v\": \"\"}, {\"v\": \"TBILISI\"}, {\"v\": \"\"}, {\"v\": \"GEO\"}, {\"v\": \"\"}, {\"v\": \"\"}, {\"v\": \"\"}, {\"v\": \"\"}, {\"v\": \"\"}, {\"v\": \"\"}, {\"v\": \"\"}, {\"v\": null}, {\"v\": \"\"}, {\"v\": \"\"}, {\"v\": \"\"}, {\"v\": \"S4MR479RJ\"}, {\"v\": \"\"}, {\"v\": null}]}, {\"c\": [{\"v\": \"\"}, {\"v\": \"\"}, {\"v\": \"\"}, {\"v\": \"FILEMON\"}, {\"v\": \"\"}, {\"v\": \"GARCIA AYALA\"}, {\"v\": \"\"}, {\"v\": \"\"}, {\"v\": \"\"}, {\"v\": \"\"}, {\"v\": \"\"}, {\"v\": \"MATAMOROS, TAMAULIPAS\"}, {\"v\": \"\"}, {\"v\": \"MEX\"}, {\"v\": \"\"}, {\"v\": \"\"}, {\"v\": \"\"}, {\"v\": \"\"}, {\"v\": \"\"}, {\"v\": \"\"}, {\"v\": \"\"}, {\"v\": null}, {\"v\": \"\"}, {\"v\": \"\"}, {\"v\": \"\"}, {\"v\": \"S4MR47VPQ\"}, {\"v\": \"\"}, {\"v\": null}]}, {\"c\": [{\"v\": \"\"}, {\"v\": \"\"}, {\"v\": \"\"}, {\"v\": \"MUSA\"}, {\"v\": \"\"}, {\"v\": \"KALIM\"}, {\"v\": \"\"}, {\"v\": \"\"}, {\"v\": \"\"}, {\"v\": \"\"}, {\"v\": \"\"}, {\"v\": \"QUETTA\"}, {\"v\": \"\"}, {\"v\": \"PAK\"}, {\"v\": \"\"}, {\"v\": \"\"}, {\"v\": \"\"}, {\"v\": \"\"}, {\"v\": \"\"}, {\"v\": \"\"}, {\"v\": \"\"}, {\"v\": null}, {\"v\": \"\"}, {\"v\": \"\"}, {\"v\": \"\"}, {\"v\": \"S4MR473KX\"}, {\"v\": \"\"}, {\"v\": null}]}, {\"c\": [{\"v\": \"\"}, {\"v\": \"LOS RASTROJOS\"}, {\"v\": \"\"}, {\"v\": \"\"}, {\"v\": \"\"}, {\"v\": \"\"}, {\"v\": \"\"}, {\"v\": \"\"}, {\"v\": \"\"}, {\"v\": \"\"}, {\"v\": \"\"}, {\"v\": \"\"}, {\"v\": \"\"}, {\"v\": \"ECU\"}, {\"v\": \"\"}, {\"v\": \"\"}, {\"v\": \"\"}, {\"v\": \"\"}, {\"v\": \"\"}, {\"v\": \"\"}, {\"v\": \"\"}, {\"v\": null}, {\"v\": \"\"}, {\"v\": \"\"}, {\"v\": \"\"}, {\"v\": \"S4MR47QK3\"}, {\"v\": \"\"}, {\"v\": null}]}], \"cols\": [{\"type\": \"string\", \"id\": \"Classification\", \"label\": \"Classification\"}, {\"type\": \"string\", \"id\": \"Name\", \"label\": \"Name\"}, {\"type\": \"string\", \"id\": \"Prefix\", \"label\": \"Prefix\"}, {\"type\": \"string\", \"id\": \"First\", \"label\": \"First\"}, {\"type\": \"string\", \"id\": \"Middle\", \"label\": \"Middle\"}, {\"type\": \"string\", \"id\": \"Last\", \"label\": \"Last\"}, {\"type\": \"string\", \"id\": \"Suffix\", \"label\": \"Suffix\"}, {\"type\": \"string\", \"id\": \"Address_1\", \"label\": \"Address_1\"}, {\"type\": \"string\", \"id\": \"Address_2\", \"label\": \"Address_2\"}, {\"type\": \"string\", \"id\": \"Address_3\", \"label\": \"Address_3\"}, {\"type\": \"string\", \"id\": \"Address_4\", \"label\": \"Address_4\"}, {\"type\": \"string\", \"id\": \"City\", \"label\": \"City\"}, {\"type\": \"string\", \"id\": \"State___Province\", \"label\": \"State___Province\"}, {\"type\": \"string\", \"id\": \"Country\", \"label\": \"Country\"}, {\"type\": \"string\", \"id\": \"Zip_Code\", \"label\": \"Zip_Code\"}, {\"type\": \"string\", \"id\": \"DUNS\", \"label\": \"DUNS\"}, {\"type\": \"string\", \"id\": \"Exclusion_Program\", \"label\": \"Exclusion_Program\"}, {\"type\": \"string\", \"id\": \"Excluding_Agency\", \"label\": \"Excluding_Agency\"}, {\"type\": \"string\", \"id\": \"CT_Code\", \"label\": \"CT_Code\"}, {\"type\": \"string\", \"id\": \"Exclusion_Type\", \"label\": \"Exclusion_Type\"}, {\"type\": \"string\", \"id\": \"Additional_Comments\", \"label\": \"Additional_Comments\"}, {\"type\": \"date\", \"id\": \"Active_Date\", \"label\": \"Active_Date\"}, {\"type\": \"string\", \"id\": \"Termination_Date\", \"label\": \"Termination_Date\"}, {\"type\": \"string\", \"id\": \"Record_Status\", \"label\": \"Record_Status\"}, {\"type\": \"string\", \"id\": \"Cross_Reference\", \"label\": \"Cross_Reference\"}, {\"type\": \"string\", \"id\": \"SAM_Number\", \"label\": \"SAM_Number\"}, {\"type\": \"string\", \"id\": \"CAGE\", \"label\": \"CAGE\"}, {\"type\": \"number\", \"id\": \"NPI\", \"label\": \"NPI\"}]},\n",
       "            {\n",
       "              pageSize: 25,\n",
       "              cssClassNames:  {\n",
       "                tableRow: 'gchart-table-row',\n",
       "                headerRow: 'gchart-table-headerrow',\n",
       "                oddTableRow: 'gchart-table-oddrow',\n",
       "                selectedTableRow: 'gchart-table-selectedrow',\n",
       "                hoverTableRow: 'gchart-table-hoverrow',\n",
       "                tableCell: 'gchart-table-cell',\n",
       "                headerCell: 'gchart-table-headercell',\n",
       "                rowNumberCell: 'gchart-table-rownumcell'\n",
       "              }\n",
       "            },\n",
       "            {source_index: 0, fields: 'Classification,Name,Prefix,First,Middle,Last,Suffix,Address_1,Address_2,Address_3,Address_4,City,State___Province,Country,Zip_Code,DUNS,Exclusion_Program,Excluding_Agency,CT_Code,Exclusion_Type,Additional_Comments,Active_Date,Termination_Date,Record_Status,Cross_Reference,SAM_Number,CAGE,NPI', legacy: 'true'},\n",
       "            0,\n",
       "            5);\n",
       "        }\n",
       "      );\n",
       "    </script>\n",
       "  "
      ],
      "text/plain": [
       "QueryResultsTable job_AlEbC7YCG3b0GVDiHeYlL06ikkg"
      ]
     },
     "execution_count": 2,
     "metadata": {},
     "output_type": "execute_result"
    }
   ],
   "source": [
    "%%sql\n",
    "select * from [fiery-set-171213:vrec.sam_exclusions] limit 5"
   ]
  },
  {
   "cell_type": "code",
   "execution_count": 4,
   "metadata": {
    "collapsed": false
   },
   "outputs": [
    {
     "data": {
      "text/html": [
       "\n",
       "    <div class=\"bqtv\" id=\"2_149831071364\"><table><tr><th>Exclusion_Type</th></tr><tr><td></td></tr><tr><td>Ineligible (Proceedings Completed)</td></tr><tr><td>Voluntary Exclusion</td></tr><tr><td>Ineligible (Proceedings Pending)</td></tr><tr><td>Prohibition/Restriction</td></tr></table></div>\n",
       "    <br />(rows: 5, time: 0.4s,     4MB processed, job: job_Pf6PhpTQ2YepmOgiqLWwQbdCR6g)<br />\n",
       "    <script>\n",
       "\n",
       "      require.config({\n",
       "        paths: {\n",
       "          d3: '//cdnjs.cloudflare.com/ajax/libs/d3/3.4.13/d3',\n",
       "          plotly: 'https://cdn.plot.ly/plotly-1.5.1.min.js?noext',\n",
       "          jquery: '//ajax.googleapis.com/ajax/libs/jquery/2.0.0/jquery.min'\n",
       "        },\n",
       "        map: {\n",
       "          '*': {\n",
       "            datalab: 'nbextensions/gcpdatalab'\n",
       "          }\n",
       "        },\n",
       "        shim: {\n",
       "          plotly: {\n",
       "            deps: ['d3', 'jquery'],\n",
       "            exports: 'plotly'\n",
       "          }\n",
       "        }\n",
       "      });\n",
       "\n",
       "      require(['datalab/charting', 'datalab/element!2_149831071364', 'base/js/events',\n",
       "          'datalab/style!/nbextensions/gcpdatalab/charting.css'],\n",
       "        function(charts, dom, events) {\n",
       "          charts.render('gcharts', dom, events, 'table', [], {\"rows\": [{\"c\": [{\"v\": \"\"}]}, {\"c\": [{\"v\": \"Ineligible (Proceedings Completed)\"}]}, {\"c\": [{\"v\": \"Voluntary Exclusion\"}]}, {\"c\": [{\"v\": \"Ineligible (Proceedings Pending)\"}]}, {\"c\": [{\"v\": \"Prohibition/Restriction\"}]}], \"cols\": [{\"type\": \"string\", \"id\": \"Exclusion_Type\", \"label\": \"Exclusion_Type\"}]},\n",
       "            {\n",
       "              pageSize: 25,\n",
       "              cssClassNames:  {\n",
       "                tableRow: 'gchart-table-row',\n",
       "                headerRow: 'gchart-table-headerrow',\n",
       "                oddTableRow: 'gchart-table-oddrow',\n",
       "                selectedTableRow: 'gchart-table-selectedrow',\n",
       "                hoverTableRow: 'gchart-table-hoverrow',\n",
       "                tableCell: 'gchart-table-cell',\n",
       "                headerCell: 'gchart-table-headercell',\n",
       "                rowNumberCell: 'gchart-table-rownumcell'\n",
       "              }\n",
       "            },\n",
       "            {source_index: 1, fields: 'Exclusion_Type', legacy: 'true'},\n",
       "            0,\n",
       "            5);\n",
       "        }\n",
       "      );\n",
       "    </script>\n",
       "  "
      ],
      "text/plain": [
       "QueryResultsTable job_Pf6PhpTQ2YepmOgiqLWwQbdCR6g"
      ]
     },
     "execution_count": 4,
     "metadata": {},
     "output_type": "execute_result"
    }
   ],
   "source": [
    "%%sql\n",
    "select Exclusion_Type from [fiery-set-171213:vrec.sam_exclusions] group by 1;"
   ]
  },
  {
   "cell_type": "code",
   "execution_count": 5,
   "metadata": {
    "collapsed": false
   },
   "outputs": [
    {
     "data": {
      "text/html": [
       "\n",
       "    <div class=\"bqtv\" id=\"3_149831075742\"><table><tr><th>Classification</th></tr><tr><td></td></tr><tr><td>Individual</td></tr><tr><td>Special Entity Designation</td></tr><tr><td>Firm</td></tr><tr><td>Vessel</td></tr></table></div>\n",
       "    <br />(rows: 5, time: 0.4s,     1MB processed, job: job_ySnKks1ZSIgi66QF4mfYEKeoXKs)<br />\n",
       "    <script>\n",
       "\n",
       "      require.config({\n",
       "        paths: {\n",
       "          d3: '//cdnjs.cloudflare.com/ajax/libs/d3/3.4.13/d3',\n",
       "          plotly: 'https://cdn.plot.ly/plotly-1.5.1.min.js?noext',\n",
       "          jquery: '//ajax.googleapis.com/ajax/libs/jquery/2.0.0/jquery.min'\n",
       "        },\n",
       "        map: {\n",
       "          '*': {\n",
       "            datalab: 'nbextensions/gcpdatalab'\n",
       "          }\n",
       "        },\n",
       "        shim: {\n",
       "          plotly: {\n",
       "            deps: ['d3', 'jquery'],\n",
       "            exports: 'plotly'\n",
       "          }\n",
       "        }\n",
       "      });\n",
       "\n",
       "      require(['datalab/charting', 'datalab/element!3_149831075742', 'base/js/events',\n",
       "          'datalab/style!/nbextensions/gcpdatalab/charting.css'],\n",
       "        function(charts, dom, events) {\n",
       "          charts.render('gcharts', dom, events, 'table', [], {\"rows\": [{\"c\": [{\"v\": \"\"}]}, {\"c\": [{\"v\": \"Individual\"}]}, {\"c\": [{\"v\": \"Special Entity Designation\"}]}, {\"c\": [{\"v\": \"Firm\"}]}, {\"c\": [{\"v\": \"Vessel\"}]}], \"cols\": [{\"type\": \"string\", \"id\": \"Classification\", \"label\": \"Classification\"}]},\n",
       "            {\n",
       "              pageSize: 25,\n",
       "              cssClassNames:  {\n",
       "                tableRow: 'gchart-table-row',\n",
       "                headerRow: 'gchart-table-headerrow',\n",
       "                oddTableRow: 'gchart-table-oddrow',\n",
       "                selectedTableRow: 'gchart-table-selectedrow',\n",
       "                hoverTableRow: 'gchart-table-hoverrow',\n",
       "                tableCell: 'gchart-table-cell',\n",
       "                headerCell: 'gchart-table-headercell',\n",
       "                rowNumberCell: 'gchart-table-rownumcell'\n",
       "              }\n",
       "            },\n",
       "            {source_index: 2, fields: 'Classification', legacy: 'true'},\n",
       "            0,\n",
       "            5);\n",
       "        }\n",
       "      );\n",
       "    </script>\n",
       "  "
      ],
      "text/plain": [
       "QueryResultsTable job_ySnKks1ZSIgi66QF4mfYEKeoXKs"
      ]
     },
     "execution_count": 5,
     "metadata": {},
     "output_type": "execute_result"
    }
   ],
   "source": [
    "%%sql\n",
    "select Classification from [fiery-set-171213:vrec.sam_exclusions] group by 1;"
   ]
  },
  {
   "cell_type": "code",
   "execution_count": 6,
   "metadata": {
    "collapsed": false
   },
   "outputs": [
    {
     "data": {
      "text/html": [
       "\n",
       "    <div class=\"bqtv\" id=\"4_149831076553\"><table><tr><th>f0_</th></tr><tr><td>8659</td></tr></table></div>\n",
       "    <br />(rows: 1, time: 0.4s,     1MB processed, job: job_RYz4DZDpee5MvA6orEHhXQS4y-4)<br />\n",
       "    <script>\n",
       "\n",
       "      require.config({\n",
       "        paths: {\n",
       "          d3: '//cdnjs.cloudflare.com/ajax/libs/d3/3.4.13/d3',\n",
       "          plotly: 'https://cdn.plot.ly/plotly-1.5.1.min.js?noext',\n",
       "          jquery: '//ajax.googleapis.com/ajax/libs/jquery/2.0.0/jquery.min'\n",
       "        },\n",
       "        map: {\n",
       "          '*': {\n",
       "            datalab: 'nbextensions/gcpdatalab'\n",
       "          }\n",
       "        },\n",
       "        shim: {\n",
       "          plotly: {\n",
       "            deps: ['d3', 'jquery'],\n",
       "            exports: 'plotly'\n",
       "          }\n",
       "        }\n",
       "      });\n",
       "\n",
       "      require(['datalab/charting', 'datalab/element!4_149831076553', 'base/js/events',\n",
       "          'datalab/style!/nbextensions/gcpdatalab/charting.css'],\n",
       "        function(charts, dom, events) {\n",
       "          charts.render('gcharts', dom, events, 'table', [], {\"rows\": [{\"c\": [{\"v\": 8659}]}], \"cols\": [{\"type\": \"number\", \"id\": \"f0_\", \"label\": \"f0_\"}]},\n",
       "            {\n",
       "              pageSize: 25,\n",
       "              cssClassNames:  {\n",
       "                tableRow: 'gchart-table-row',\n",
       "                headerRow: 'gchart-table-headerrow',\n",
       "                oddTableRow: 'gchart-table-oddrow',\n",
       "                selectedTableRow: 'gchart-table-selectedrow',\n",
       "                hoverTableRow: 'gchart-table-hoverrow',\n",
       "                tableCell: 'gchart-table-cell',\n",
       "                headerCell: 'gchart-table-headercell',\n",
       "                rowNumberCell: 'gchart-table-rownumcell'\n",
       "              }\n",
       "            },\n",
       "            {source_index: 3, fields: 'f0_', legacy: 'true'},\n",
       "            0,\n",
       "            1);\n",
       "        }\n",
       "      );\n",
       "    </script>\n",
       "  "
      ],
      "text/plain": [
       "QueryResultsTable job_RYz4DZDpee5MvA6orEHhXQS4y-4"
      ]
     },
     "execution_count": 6,
     "metadata": {},
     "output_type": "execute_result"
    }
   ],
   "source": [
    "%%sql\n",
    "select\n",
    "count(*)\n",
    "from [fiery-set-171213:vrec.sam_exclusions] \n",
    "where Classification in ('Firm')\n",
    ";"
   ]
  },
  {
   "cell_type": "markdown",
   "metadata": {},
   "source": [
    "**There are 8,659 firms on the SAM exclusion list**"
   ]
  },
  {
   "cell_type": "code",
   "execution_count": 7,
   "metadata": {
    "collapsed": false
   },
   "outputs": [],
   "source": [
    "%%bq query -n df_query\n",
    "select\n",
    "EXTRACT(YEAR FROM Active_Date) as year,\n",
    "count(*) as count\n",
    "from `fiery-set-171213.vrec.sam_exclusions`\n",
    "where Classification in ('Firm')\n",
    "and Active_Date is not NULL\n",
    "group by 1\n",
    "order by 1;"
   ]
  },
  {
   "cell_type": "code",
   "execution_count": 8,
   "metadata": {
    "collapsed": false
   },
   "outputs": [
    {
     "data": {
      "text/plain": [
       "<matplotlib.text.Text at 0x7f304008ef90>"
      ]
     },
     "execution_count": 8,
     "metadata": {},
     "output_type": "execute_result"
    },
    {
     "data": {
      "image/png": "[encoded data removed]",
      "text/plain": [
       "<matplotlib.figure.Figure at 0x7f30400fce90>"
      ]
     },
     "metadata": {},
     "output_type": "display_data"
    }
   ],
   "source": [
    "df = df_query.execute(output_options=bq.QueryOutput.dataframe()).result()\n",
    "\n",
    "ax = df.plot(kind='bar', x='year', title='Excluded Firms per year', figsize=(15,8))\n",
    "ax.set_xlabel('Year')\n",
    "ax.set_ylabel('count')"
   ]
  },
  {
   "cell_type": "code",
   "execution_count": 9,
   "metadata": {
    "collapsed": false
   },
   "outputs": [
    {
     "data": {
      "text/html": [
       "\n",
       "    <div class=\"bqtv\" id=\"1_149831079406\"><table><tr><th>SAM_Number</th><th>count</th></tr><tr><td>S4MR4D26H</td><td>6</td></tr><tr><td>S4MR1SHZ2</td><td>4</td></tr><tr><td>S4MR3MGDX</td><td>3</td></tr><tr><td>S4MR3MKV5</td><td>3</td></tr><tr><td>S4MR3MQNF</td><td>3</td></tr></table></div>\n",
       "    <br />(rows: 5, time: 3.6s,     3MB processed, job: job_4GH4nq7hyaYir9EEBcZ34MV0j9w)<br />\n",
       "    <script>\n",
       "\n",
       "      require.config({\n",
       "        paths: {\n",
       "          d3: '//cdnjs.cloudflare.com/ajax/libs/d3/3.4.13/d3',\n",
       "          plotly: 'https://cdn.plot.ly/plotly-1.5.1.min.js?noext',\n",
       "          jquery: '//ajax.googleapis.com/ajax/libs/jquery/2.0.0/jquery.min'\n",
       "        },\n",
       "        map: {\n",
       "          '*': {\n",
       "            datalab: 'nbextensions/gcpdatalab'\n",
       "          }\n",
       "        },\n",
       "        shim: {\n",
       "          plotly: {\n",
       "            deps: ['d3', 'jquery'],\n",
       "            exports: 'plotly'\n",
       "          }\n",
       "        }\n",
       "      });\n",
       "\n",
       "      require(['datalab/charting', 'datalab/element!1_149831079406', 'base/js/events',\n",
       "          'datalab/style!/nbextensions/gcpdatalab/charting.css'],\n",
       "        function(charts, dom, events) {\n",
       "          charts.render('gcharts', dom, events, 'table', [], {\"rows\": [{\"c\": [{\"v\": \"S4MR4D26H\"}, {\"v\": 6}]}, {\"c\": [{\"v\": \"S4MR1SHZ2\"}, {\"v\": 4}]}, {\"c\": [{\"v\": \"S4MR3MGDX\"}, {\"v\": 3}]}, {\"c\": [{\"v\": \"S4MR3MKV5\"}, {\"v\": 3}]}, {\"c\": [{\"v\": \"S4MR3MQNF\"}, {\"v\": 3}]}], \"cols\": [{\"type\": \"string\", \"id\": \"SAM_Number\", \"label\": \"SAM_Number\"}, {\"type\": \"number\", \"id\": \"count\", \"label\": \"count\"}]},\n",
       "            {\n",
       "              pageSize: 25,\n",
       "              cssClassNames:  {\n",
       "                tableRow: 'gchart-table-row',\n",
       "                headerRow: 'gchart-table-headerrow',\n",
       "                oddTableRow: 'gchart-table-oddrow',\n",
       "                selectedTableRow: 'gchart-table-selectedrow',\n",
       "                hoverTableRow: 'gchart-table-hoverrow',\n",
       "                tableCell: 'gchart-table-cell',\n",
       "                headerCell: 'gchart-table-headercell',\n",
       "                rowNumberCell: 'gchart-table-rownumcell'\n",
       "              }\n",
       "            },\n",
       "            {source_index: 0, fields: 'SAM_Number,count'},\n",
       "            0,\n",
       "            5);\n",
       "        }\n",
       "      );\n",
       "    </script>\n",
       "  "
      ],
      "text/plain": [
       "QueryResultsTable job_4GH4nq7hyaYir9EEBcZ34MV0j9w"
      ]
     },
     "execution_count": 9,
     "metadata": {},
     "output_type": "execute_result"
    }
   ],
   "source": [
    "%%bq query\n",
    "select\n",
    "#Name,\n",
    "SAM_Number,\n",
    "count(*) as count\n",
    "from `fiery-set-171213.vrec.sam_exclusions`\n",
    "where Classification in ('Firm')\n",
    "#and Active_Date is not NULL\n",
    "group by 1\n",
    "order by 2 DESC\n",
    "limit 5;"
   ]
  },
  {
   "cell_type": "code",
   "execution_count": 10,
   "metadata": {
    "collapsed": false
   },
   "outputs": [
    {
     "data": {
      "text/html": [
       "\n",
       "    <div class=\"bqtv\" id=\"2_149831080223\"><table><tr><th>NPI</th><th>count</th></tr><tr><td>&nbsp;</td><td>8496</td></tr><tr><td>0</td><td>7</td></tr><tr><td>1215968847</td><td>4</td></tr><tr><td>1437333259</td><td>4</td></tr><tr><td>1083746069</td><td>3</td></tr></table></div>\n",
       "    <br />(rows: 5, time: 1.1s,     1MB processed, job: job_ZVarq8hj2tCJ3usoBuRsvFCvI0E)<br />\n",
       "    <script>\n",
       "\n",
       "      require.config({\n",
       "        paths: {\n",
       "          d3: '//cdnjs.cloudflare.com/ajax/libs/d3/3.4.13/d3',\n",
       "          plotly: 'https://cdn.plot.ly/plotly-1.5.1.min.js?noext',\n",
       "          jquery: '//ajax.googleapis.com/ajax/libs/jquery/2.0.0/jquery.min'\n",
       "        },\n",
       "        map: {\n",
       "          '*': {\n",
       "            datalab: 'nbextensions/gcpdatalab'\n",
       "          }\n",
       "        },\n",
       "        shim: {\n",
       "          plotly: {\n",
       "            deps: ['d3', 'jquery'],\n",
       "            exports: 'plotly'\n",
       "          }\n",
       "        }\n",
       "      });\n",
       "\n",
       "      require(['datalab/charting', 'datalab/element!2_149831080223', 'base/js/events',\n",
       "          'datalab/style!/nbextensions/gcpdatalab/charting.css'],\n",
       "        function(charts, dom, events) {\n",
       "          charts.render('gcharts', dom, events, 'table', [], {\"rows\": [{\"c\": [{\"v\": null}, {\"v\": 8496}]}, {\"c\": [{\"v\": 0}, {\"v\": 7}]}, {\"c\": [{\"v\": 1215968847}, {\"v\": 4}]}, {\"c\": [{\"v\": 1437333259}, {\"v\": 4}]}, {\"c\": [{\"v\": 1083746069}, {\"v\": 3}]}], \"cols\": [{\"type\": \"number\", \"id\": \"NPI\", \"label\": \"NPI\"}, {\"type\": \"number\", \"id\": \"count\", \"label\": \"count\"}]},\n",
       "            {\n",
       "              pageSize: 25,\n",
       "              cssClassNames:  {\n",
       "                tableRow: 'gchart-table-row',\n",
       "                headerRow: 'gchart-table-headerrow',\n",
       "                oddTableRow: 'gchart-table-oddrow',\n",
       "                selectedTableRow: 'gchart-table-selectedrow',\n",
       "                hoverTableRow: 'gchart-table-hoverrow',\n",
       "                tableCell: 'gchart-table-cell',\n",
       "                headerCell: 'gchart-table-headercell',\n",
       "                rowNumberCell: 'gchart-table-rownumcell'\n",
       "              }\n",
       "            },\n",
       "            {source_index: 1, fields: 'NPI,count'},\n",
       "            0,\n",
       "            5);\n",
       "        }\n",
       "      );\n",
       "    </script>\n",
       "  "
      ],
      "text/plain": [
       "QueryResultsTable job_ZVarq8hj2tCJ3usoBuRsvFCvI0E"
      ]
     },
     "execution_count": 10,
     "metadata": {},
     "output_type": "execute_result"
    }
   ],
   "source": [
    "%%bq query\n",
    "select\n",
    "NPI,\n",
    "count(*) as count\n",
    "from `fiery-set-171213.vrec.sam_exclusions`\n",
    "where Classification in ('Firm')\n",
    "#and CAGE is not NULL\n",
    "group by 1\n",
    "order by 2 DESC\n",
    "limit 5;"
   ]
  },
  {
   "cell_type": "code",
   "execution_count": 11,
   "metadata": {
    "collapsed": false
   },
   "outputs": [
    {
     "data": {
      "text/html": [
       "\n",
       "    <div class=\"bqtv\" id=\"3_149831081723\"><table><tr><th>CAGE</th><th>count</th></tr><tr><td></td><td>8102</td></tr><tr><td>0TEF4</td><td>4</td></tr><tr><td>4LD15</td><td>4</td></tr><tr><td>1YEC5</td><td>4</td></tr><tr><td>5S6L2</td><td>4</td></tr></table></div>\n",
       "    <br />(rows: 5, time: 7.8s,     2MB processed, job: job_S87HKiSB7xRCVzEq2v1cYJBfoMk)<br />\n",
       "    <script>\n",
       "\n",
       "      require.config({\n",
       "        paths: {\n",
       "          d3: '//cdnjs.cloudflare.com/ajax/libs/d3/3.4.13/d3',\n",
       "          plotly: 'https://cdn.plot.ly/plotly-1.5.1.min.js?noext',\n",
       "          jquery: '//ajax.googleapis.com/ajax/libs/jquery/2.0.0/jquery.min'\n",
       "        },\n",
       "        map: {\n",
       "          '*': {\n",
       "            datalab: 'nbextensions/gcpdatalab'\n",
       "          }\n",
       "        },\n",
       "        shim: {\n",
       "          plotly: {\n",
       "            deps: ['d3', 'jquery'],\n",
       "            exports: 'plotly'\n",
       "          }\n",
       "        }\n",
       "      });\n",
       "\n",
       "      require(['datalab/charting', 'datalab/element!3_149831081723', 'base/js/events',\n",
       "          'datalab/style!/nbextensions/gcpdatalab/charting.css'],\n",
       "        function(charts, dom, events) {\n",
       "          charts.render('gcharts', dom, events, 'table', [], {\"rows\": [{\"c\": [{\"v\": \"\"}, {\"v\": 8102}]}, {\"c\": [{\"v\": \"0TEF4\"}, {\"v\": 4}]}, {\"c\": [{\"v\": \"4LD15\"}, {\"v\": 4}]}, {\"c\": [{\"v\": \"1YEC5\"}, {\"v\": 4}]}, {\"c\": [{\"v\": \"5S6L2\"}, {\"v\": 4}]}], \"cols\": [{\"type\": \"string\", \"id\": \"CAGE\", \"label\": \"CAGE\"}, {\"type\": \"number\", \"id\": \"count\", \"label\": \"count\"}]},\n",
       "            {\n",
       "              pageSize: 25,\n",
       "              cssClassNames:  {\n",
       "                tableRow: 'gchart-table-row',\n",
       "                headerRow: 'gchart-table-headerrow',\n",
       "                oddTableRow: 'gchart-table-oddrow',\n",
       "                selectedTableRow: 'gchart-table-selectedrow',\n",
       "                hoverTableRow: 'gchart-table-hoverrow',\n",
       "                tableCell: 'gchart-table-cell',\n",
       "                headerCell: 'gchart-table-headercell',\n",
       "                rowNumberCell: 'gchart-table-rownumcell'\n",
       "              }\n",
       "            },\n",
       "            {source_index: 2, fields: 'CAGE,count'},\n",
       "            0,\n",
       "            5);\n",
       "        }\n",
       "      );\n",
       "    </script>\n",
       "  "
      ],
      "text/plain": [
       "QueryResultsTable job_S87HKiSB7xRCVzEq2v1cYJBfoMk"
      ]
     },
     "execution_count": 11,
     "metadata": {},
     "output_type": "execute_result"
    }
   ],
   "source": [
    "%%bq query\n",
    "select\n",
    "CAGE,\n",
    "count(*) as count\n",
    "from `fiery-set-171213.vrec.sam_exclusions`\n",
    "where Classification in ('Firm')\n",
    "#and CAGE is not NULL\n",
    "group by 1\n",
    "order by 2 DESC\n",
    "limit 5;"
   ]
  },
  {
   "cell_type": "markdown",
   "metadata": {},
   "source": [
    "** NPI and CAGE don't seem to be great keys to join the data - ideally we can use SAM ** "
   ]
  },
  {
   "cell_type": "markdown",
   "metadata": {},
   "source": [
    "## Federal Awardee Performance and Integrity Information System (FAPIIS)\n",
    "- This is the contractor's fault - you can do business with these contractors on SAM one cannot do business with\n",
    "- Only 5 years by design"
   ]
  },
  {
   "cell_type": "code",
   "execution_count": 12,
   "metadata": {
    "collapsed": false
   },
   "outputs": [
    {
     "data": {
      "text/html": [
       "\n",
       "    <div class=\"bqtv\" id=\"4_149831082459\"><table><tr><th>AGENCY</th><th>RECORD_TYPE</th><th>RECORD_DATE</th><th>CONTRACT_GRANT_NUMBER</th><th>REFERENCED_NUMBER</th><th>SOLICITATION_FUNDING_NUMBER</th><th>DUNS</th><th>CAGE</th><th>AWARDEE_NAME</th><th>ADDRESS1</th><th>ADDRESS2</th><th>CITY</th><th>STATE</th><th>ZIP_CODE</th><th>COUNTRY</th><th>VIOLATION_AGAINST</th><th>SUBCONTRACTOR_DUNS</th><th>SUBCONTRACTOR_CAGE</th><th>SUBCONTRACTOR_NAME</th><th>SUBCONTRACTOR_ADDRESS1</th><th>SUBCONTRACTOR_ADDRESS2</th><th>SUBCONTRACTOR_CITY</th><th>SUBCONTRACTOR_STATE</th><th>SUBCONTRACTOR_ZIP_CODE</th><th>SUBCONTRACTOR_COUNTRY</th><th>FSC</th><th>NAICS</th><th>AGENCY_CODE</th><th>CODE_2</th><th>OFFICIAL_NAME</th><th>OFFICIAL_PHONE</th><th>OFFICIAL_EMAIL</th><th>TERMINATION_TYPE</th><th>TERMINATION_DATE</th><th>USER</th><th>EMAIL</th><th>PHONE</th><th>COMMENTS</th></tr><tr><td>STATE, DEPARTMENT OF</td><td>Termination for Material Failure to Comply</td><td>2016-06-29</td><td>SWA80014GR035</td><td>&nbsp;</td><td>&nbsp;</td><td>539146515</td><td>&nbsp;</td><td>LUDWIG NDINDA PRIMARY PLAYGROUND PROJECT</td><td>P.O. BOX 15</td><td>&nbsp;</td><td>OKAKARARA</td><td>&nbsp;</td><td>&nbsp;</td><td>NAM</td><td>&nbsp;</td><td>&nbsp;</td><td>&nbsp;</td><td>&nbsp;</td><td>&nbsp;</td><td>&nbsp;</td><td>&nbsp;</td><td>&nbsp;</td><td>&nbsp;</td><td>&nbsp;</td><td>&nbsp;</td><td>&nbsp;</td><td>&nbsp;</td><td>1900</td><td>KRISTEN ERTHUM</td><td>202-647-7915</td><td>erthumk@state.gov</td><td>N/A</td><td>&nbsp;</td><td>&nbsp;</td><td>&nbsp;</td><td>&nbsp;</td><td>&nbsp;</td></tr><tr><td>DEPT OF THE NAVY</td><td>DoD Determination of Contractor Fault</td><td>2014-01-21</td><td>M6261313P0177</td><td>&nbsp;</td><td>&nbsp;</td><td>12820064</td><td>&nbsp;</td><td>NASSAU CABLE CORP</td><td>150 GREAT NECK RD STE 305</td><td>&nbsp;</td><td>GREAT NECK</td><td>NY</td><td>11021</td><td>US</td><td>&nbsp;</td><td>&nbsp;</td><td>&nbsp;</td><td>&nbsp;</td><td>&nbsp;</td><td>&nbsp;</td><td>&nbsp;</td><td>&nbsp;</td><td>&nbsp;</td><td>&nbsp;</td><td>&nbsp;</td><td>5895</td><td>331420</td><td>1700</td><td>KIM SAKURA HIGA</td><td>81989702577</td><td>sakura.higa@usmc.mil</td><td>N/A</td><td>&nbsp;</td><td>&nbsp;</td><td>&nbsp;</td><td>&nbsp;</td><td>&nbsp;</td></tr><tr><td>STATE, DEPARTMENT OF</td><td>Termination for Material Failure to Comply</td><td>2016-02-08</td><td>SCE20012GR094</td><td>&nbsp;</td><td>&nbsp;</td><td>659427269</td><td>&nbsp;</td><td>ORGANIZATION FOR HABITATION AND RESOURCES DEVELOPMENT</td><td>258, 18, RAILWAY STATION ROAD, THILLAYADI</td><td>&nbsp;</td><td>PUTTALAM</td><td>&nbsp;</td><td>&nbsp;</td><td>LKA</td><td>&nbsp;</td><td>&nbsp;</td><td>&nbsp;</td><td>&nbsp;</td><td>&nbsp;</td><td>&nbsp;</td><td>&nbsp;</td><td>&nbsp;</td><td>&nbsp;</td><td>&nbsp;</td><td>&nbsp;</td><td>&nbsp;</td><td>&nbsp;</td><td>1900</td><td>ELIADAH COE</td><td>202-647-9544</td><td>coeem@state.gov</td><td>N/A</td><td>&nbsp;</td><td>&nbsp;</td><td>&nbsp;</td><td>&nbsp;</td><td>&nbsp;</td></tr><tr><td>INTERIOR, DEPARTMENT OF THE</td><td>Subcontractor Payment Issues</td><td>2015-11-05</td><td>INR15PX00625</td><td>&nbsp;</td><td>&nbsp;</td><td>44271201</td><td>&nbsp;</td><td>D T M ASSOCIATES LIMITED LIABILITY COMPANY</td><td>1200 PENNSYLVANIA AVE</td><td>&nbsp;</td><td>MCDONOUGH</td><td>GA</td><td>302538999</td><td>USA</td><td>&nbsp;</td><td>&nbsp;</td><td>&nbsp;</td><td>&nbsp;</td><td>&nbsp;</td><td>&nbsp;</td><td>&nbsp;</td><td>&nbsp;</td><td>&nbsp;</td><td>&nbsp;</td><td>&nbsp;</td><td>3750</td><td>333112</td><td>1400</td><td>LYNETTE ROCK</td><td>801-524-3798</td><td>lrock@usbr.gov</td><td>N/A</td><td>&nbsp;</td><td>&nbsp;</td><td>&nbsp;</td><td>&nbsp;</td><td>&nbsp;</td></tr><tr><td>DEPT OF THE NAVY</td><td>DoD Determination of Contractor Fault</td><td>2017-01-09</td><td>N6883616P1114</td><td>&nbsp;</td><td>&nbsp;</td><td>79862858</td><td>7E6E6</td><td>OBELLO INC</td><td>7604 E 117TH TER</td><td>&nbsp;</td><td>KANSAS CITY</td><td>MO</td><td>641343925</td><td>USA</td><td>&nbsp;</td><td>&nbsp;</td><td>&nbsp;</td><td>&nbsp;</td><td>&nbsp;</td><td>&nbsp;</td><td>&nbsp;</td><td>&nbsp;</td><td>&nbsp;</td><td>&nbsp;</td><td>&nbsp;</td><td>D399</td><td>517919</td><td>1700</td><td>DAVID DIAZ</td><td>912-573-2656</td><td>david.diaz1@navy.mil</td><td>N/A</td><td>&nbsp;</td><td>&nbsp;</td><td>&nbsp;</td><td>&nbsp;</td><td>&nbsp;</td></tr></table></div>\n",
       "    <br />(rows: 5, time: 1.3s,   943KB processed, job: job_aRVGiTVZ6jOJTHeAr_gzfb_x__Q)<br />\n",
       "    <script>\n",
       "\n",
       "      require.config({\n",
       "        paths: {\n",
       "          d3: '//cdnjs.cloudflare.com/ajax/libs/d3/3.4.13/d3',\n",
       "          plotly: 'https://cdn.plot.ly/plotly-1.5.1.min.js?noext',\n",
       "          jquery: '//ajax.googleapis.com/ajax/libs/jquery/2.0.0/jquery.min'\n",
       "        },\n",
       "        map: {\n",
       "          '*': {\n",
       "            datalab: 'nbextensions/gcpdatalab'\n",
       "          }\n",
       "        },\n",
       "        shim: {\n",
       "          plotly: {\n",
       "            deps: ['d3', 'jquery'],\n",
       "            exports: 'plotly'\n",
       "          }\n",
       "        }\n",
       "      });\n",
       "\n",
       "      require(['datalab/charting', 'datalab/element!4_149831082459', 'base/js/events',\n",
       "          'datalab/style!/nbextensions/gcpdatalab/charting.css'],\n",
       "        function(charts, dom, events) {\n",
       "          charts.render('gcharts', dom, events, 'table', [], {\"rows\": [{\"c\": [{\"v\": \"STATE, DEPARTMENT OF\"}, {\"v\": \"Termination for Material Failure to Comply\"}, {\"v\": \"2016-06-29\"}, {\"v\": \"SWA80014GR035\"}, {\"v\": null}, {\"v\": null}, {\"v\": 539146515}, {\"v\": null}, {\"v\": \"LUDWIG NDINDA PRIMARY PLAYGROUND PROJECT\"}, {\"v\": \"P.O. BOX 15\"}, {\"v\": null}, {\"v\": \"OKAKARARA\"}, {\"v\": null}, {\"v\": null}, {\"v\": \"NAM\"}, {\"v\": null}, {\"v\": null}, {\"v\": null}, {\"v\": null}, {\"v\": null}, {\"v\": null}, {\"v\": null}, {\"v\": null}, {\"v\": null}, {\"v\": null}, {\"v\": null}, {\"v\": null}, {\"v\": null}, {\"v\": \"1900\"}, {\"v\": \"KRISTEN ERTHUM\"}, {\"v\": \"202-647-7915\"}, {\"v\": \"erthumk@state.gov\"}, {\"v\": \"N/A\"}, {\"v\": null}, {\"v\": null}, {\"v\": null}, {\"v\": null}, {\"v\": null}]}, {\"c\": [{\"v\": \"DEPT OF THE NAVY\"}, {\"v\": \"DoD Determination of Contractor Fault\"}, {\"v\": \"2014-01-21\"}, {\"v\": \"M6261313P0177\"}, {\"v\": null}, {\"v\": null}, {\"v\": 12820064}, {\"v\": null}, {\"v\": \"NASSAU CABLE CORP\"}, {\"v\": \"150 GREAT NECK RD STE 305\"}, {\"v\": null}, {\"v\": \"GREAT NECK\"}, {\"v\": \"NY\"}, {\"v\": \"11021\"}, {\"v\": \"US\"}, {\"v\": null}, {\"v\": null}, {\"v\": null}, {\"v\": null}, {\"v\": null}, {\"v\": null}, {\"v\": null}, {\"v\": null}, {\"v\": null}, {\"v\": null}, {\"v\": null}, {\"v\": \"5895\"}, {\"v\": 331420}, {\"v\": \"1700\"}, {\"v\": \"KIM SAKURA HIGA\"}, {\"v\": \"81989702577\"}, {\"v\": \"sakura.higa@usmc.mil\"}, {\"v\": \"N/A\"}, {\"v\": null}, {\"v\": null}, {\"v\": null}, {\"v\": null}, {\"v\": null}]}, {\"c\": [{\"v\": \"STATE, DEPARTMENT OF\"}, {\"v\": \"Termination for Material Failure to Comply\"}, {\"v\": \"2016-02-08\"}, {\"v\": \"SCE20012GR094\"}, {\"v\": null}, {\"v\": null}, {\"v\": 659427269}, {\"v\": null}, {\"v\": \"ORGANIZATION FOR HABITATION AND RESOURCES DEVELOPMENT\"}, {\"v\": \"258, 18, RAILWAY STATION ROAD, THILLAYADI\"}, {\"v\": null}, {\"v\": \"PUTTALAM\"}, {\"v\": null}, {\"v\": null}, {\"v\": \"LKA\"}, {\"v\": null}, {\"v\": null}, {\"v\": null}, {\"v\": null}, {\"v\": null}, {\"v\": null}, {\"v\": null}, {\"v\": null}, {\"v\": null}, {\"v\": null}, {\"v\": null}, {\"v\": null}, {\"v\": null}, {\"v\": \"1900\"}, {\"v\": \"ELIADAH COE\"}, {\"v\": \"202-647-9544\"}, {\"v\": \"coeem@state.gov\"}, {\"v\": \"N/A\"}, {\"v\": null}, {\"v\": null}, {\"v\": null}, {\"v\": null}, {\"v\": null}]}, {\"c\": [{\"v\": \"INTERIOR, DEPARTMENT OF THE\"}, {\"v\": \"Subcontractor Payment Issues\"}, {\"v\": \"2015-11-05\"}, {\"v\": \"INR15PX00625\"}, {\"v\": null}, {\"v\": null}, {\"v\": 44271201}, {\"v\": null}, {\"v\": \"D T M ASSOCIATES LIMITED LIABILITY COMPANY\"}, {\"v\": \"1200 PENNSYLVANIA AVE\"}, {\"v\": null}, {\"v\": \"MCDONOUGH\"}, {\"v\": \"GA\"}, {\"v\": \"302538999\"}, {\"v\": \"USA\"}, {\"v\": null}, {\"v\": null}, {\"v\": null}, {\"v\": null}, {\"v\": null}, {\"v\": null}, {\"v\": null}, {\"v\": null}, {\"v\": null}, {\"v\": null}, {\"v\": null}, {\"v\": \"3750\"}, {\"v\": 333112}, {\"v\": \"1400\"}, {\"v\": \"LYNETTE ROCK\"}, {\"v\": \"801-524-3798\"}, {\"v\": \"lrock@usbr.gov\"}, {\"v\": \"N/A\"}, {\"v\": null}, {\"v\": null}, {\"v\": null}, {\"v\": null}, {\"v\": null}]}, {\"c\": [{\"v\": \"DEPT OF THE NAVY\"}, {\"v\": \"DoD Determination of Contractor Fault\"}, {\"v\": \"2017-01-09\"}, {\"v\": \"N6883616P1114\"}, {\"v\": null}, {\"v\": null}, {\"v\": 79862858}, {\"v\": \"7E6E6\"}, {\"v\": \"OBELLO INC\"}, {\"v\": \"7604 E 117TH TER\"}, {\"v\": null}, {\"v\": \"KANSAS CITY\"}, {\"v\": \"MO\"}, {\"v\": \"641343925\"}, {\"v\": \"USA\"}, {\"v\": null}, {\"v\": null}, {\"v\": null}, {\"v\": null}, {\"v\": null}, {\"v\": null}, {\"v\": null}, {\"v\": null}, {\"v\": null}, {\"v\": null}, {\"v\": null}, {\"v\": \"D399\"}, {\"v\": 517919}, {\"v\": \"1700\"}, {\"v\": \"DAVID DIAZ\"}, {\"v\": \"912-573-2656\"}, {\"v\": \"david.diaz1@navy.mil\"}, {\"v\": \"N/A\"}, {\"v\": null}, {\"v\": null}, {\"v\": null}, {\"v\": null}, {\"v\": null}]}], \"cols\": [{\"type\": \"string\", \"id\": \"AGENCY\", \"label\": \"AGENCY\"}, {\"type\": \"string\", \"id\": \"RECORD_TYPE\", \"label\": \"RECORD_TYPE\"}, {\"type\": \"date\", \"id\": \"RECORD_DATE\", \"label\": \"RECORD_DATE\"}, {\"type\": \"string\", \"id\": \"CONTRACT_GRANT_NUMBER\", \"label\": \"CONTRACT_GRANT_NUMBER\"}, {\"type\": \"string\", \"id\": \"REFERENCED_NUMBER\", \"label\": \"REFERENCED_NUMBER\"}, {\"type\": \"string\", \"id\": \"SOLICITATION_FUNDING_NUMBER\", \"label\": \"SOLICITATION_FUNDING_NUMBER\"}, {\"type\": \"number\", \"id\": \"DUNS\", \"label\": \"DUNS\"}, {\"type\": \"string\", \"id\": \"CAGE\", \"label\": \"CAGE\"}, {\"type\": \"string\", \"id\": \"AWARDEE_NAME\", \"label\": \"AWARDEE_NAME\"}, {\"type\": \"string\", \"id\": \"ADDRESS1\", \"label\": \"ADDRESS1\"}, {\"type\": \"string\", \"id\": \"ADDRESS2\", \"label\": \"ADDRESS2\"}, {\"type\": \"string\", \"id\": \"CITY\", \"label\": \"CITY\"}, {\"type\": \"string\", \"id\": \"STATE\", \"label\": \"STATE\"}, {\"type\": \"string\", \"id\": \"ZIP_CODE\", \"label\": \"ZIP_CODE\"}, {\"type\": \"string\", \"id\": \"COUNTRY\", \"label\": \"COUNTRY\"}, {\"type\": \"string\", \"id\": \"VIOLATION_AGAINST\", \"label\": \"VIOLATION_AGAINST\"}, {\"type\": \"string\", \"id\": \"SUBCONTRACTOR_DUNS\", \"label\": \"SUBCONTRACTOR_DUNS\"}, {\"type\": \"string\", \"id\": \"SUBCONTRACTOR_CAGE\", \"label\": \"SUBCONTRACTOR_CAGE\"}, {\"type\": \"string\", \"id\": \"SUBCONTRACTOR_NAME\", \"label\": \"SUBCONTRACTOR_NAME\"}, {\"type\": \"string\", \"id\": \"SUBCONTRACTOR_ADDRESS1\", \"label\": \"SUBCONTRACTOR_ADDRESS1\"}, {\"type\": \"string\", \"id\": \"SUBCONTRACTOR_ADDRESS2\", \"label\": \"SUBCONTRACTOR_ADDRESS2\"}, {\"type\": \"string\", \"id\": \"SUBCONTRACTOR_CITY\", \"label\": \"SUBCONTRACTOR_CITY\"}, {\"type\": \"string\", \"id\": \"SUBCONTRACTOR_STATE\", \"label\": \"SUBCONTRACTOR_STATE\"}, {\"type\": \"string\", \"id\": \"SUBCONTRACTOR_ZIP_CODE\", \"label\": \"SUBCONTRACTOR_ZIP_CODE\"}, {\"type\": \"string\", \"id\": \"SUBCONTRACTOR_COUNTRY\", \"label\": \"SUBCONTRACTOR_COUNTRY\"}, {\"type\": \"string\", \"id\": \"FSC\", \"label\": \"FSC\"}, {\"type\": \"string\", \"id\": \"NAICS\", \"label\": \"NAICS\"}, {\"type\": \"number\", \"id\": \"AGENCY_CODE\", \"label\": \"AGENCY_CODE\"}, {\"type\": \"string\", \"id\": \"CODE_2\", \"label\": \"CODE_2\"}, {\"type\": \"string\", \"id\": \"OFFICIAL_NAME\", \"label\": \"OFFICIAL_NAME\"}, {\"type\": \"string\", \"id\": \"OFFICIAL_PHONE\", \"label\": \"OFFICIAL_PHONE\"}, {\"type\": \"string\", \"id\": \"OFFICIAL_EMAIL\", \"label\": \"OFFICIAL_EMAIL\"}, {\"type\": \"string\", \"id\": \"TERMINATION_TYPE\", \"label\": \"TERMINATION_TYPE\"}, {\"type\": \"date\", \"id\": \"TERMINATION_DATE\", \"label\": \"TERMINATION_DATE\"}, {\"type\": \"string\", \"id\": \"USER\", \"label\": \"USER\"}, {\"type\": \"string\", \"id\": \"EMAIL\", \"label\": \"EMAIL\"}, {\"type\": \"string\", \"id\": \"PHONE\", \"label\": \"PHONE\"}, {\"type\": \"string\", \"id\": \"COMMENTS\", \"label\": \"COMMENTS\"}]},\n",
       "            {\n",
       "              pageSize: 25,\n",
       "              cssClassNames:  {\n",
       "                tableRow: 'gchart-table-row',\n",
       "                headerRow: 'gchart-table-headerrow',\n",
       "                oddTableRow: 'gchart-table-oddrow',\n",
       "                selectedTableRow: 'gchart-table-selectedrow',\n",
       "                hoverTableRow: 'gchart-table-hoverrow',\n",
       "                tableCell: 'gchart-table-cell',\n",
       "                headerCell: 'gchart-table-headercell',\n",
       "                rowNumberCell: 'gchart-table-rownumcell'\n",
       "              }\n",
       "            },\n",
       "            {source_index: 3, fields: 'AGENCY,RECORD_TYPE,RECORD_DATE,CONTRACT_GRANT_NUMBER,REFERENCED_NUMBER,SOLICITATION_FUNDING_NUMBER,DUNS,CAGE,AWARDEE_NAME,ADDRESS1,ADDRESS2,CITY,STATE,ZIP_CODE,COUNTRY,VIOLATION_AGAINST,SUBCONTRACTOR_DUNS,SUBCONTRACTOR_CAGE,SUBCONTRACTOR_NAME,SUBCONTRACTOR_ADDRESS1,SUBCONTRACTOR_ADDRESS2,SUBCONTRACTOR_CITY,SUBCONTRACTOR_STATE,SUBCONTRACTOR_ZIP_CODE,SUBCONTRACTOR_COUNTRY,FSC,NAICS,AGENCY_CODE,CODE_2,OFFICIAL_NAME,OFFICIAL_PHONE,OFFICIAL_EMAIL,TERMINATION_TYPE,TERMINATION_DATE,USER,EMAIL,PHONE,COMMENTS'},\n",
       "            0,\n",
       "            5);\n",
       "        }\n",
       "      );\n",
       "    </script>\n",
       "  "
      ],
      "text/plain": [
       "QueryResultsTable job_aRVGiTVZ6jOJTHeAr_gzfb_x__Q"
      ]
     },
     "execution_count": 12,
     "metadata": {},
     "output_type": "execute_result"
    }
   ],
   "source": [
    "%%bq query\n",
    "select * \n",
    "from `fiery-set-171213.vrec.fapiis` \n",
    "limit 5"
   ]
  },
  {
   "cell_type": "code",
   "execution_count": 13,
   "metadata": {
    "collapsed": true
   },
   "outputs": [],
   "source": [
    "%%bq query -n df_query\n",
    "select\n",
    "EXTRACT(YEAR FROM RECORD_DATE) as year,\n",
    "count(*) as count\n",
    "from `fiery-set-171213.vrec.fapiis`\n",
    "group by 1\n",
    "order by 1;"
   ]
  },
  {
   "cell_type": "code",
   "execution_count": 14,
   "metadata": {
    "collapsed": false
   },
   "outputs": [
    {
     "data": {
      "text/plain": [
       "<matplotlib.text.Text at 0x7f3033c05f50>"
      ]
     },
     "execution_count": 14,
     "metadata": {},
     "output_type": "execute_result"
    },
    {
     "data": {
      "image/png": "[encoded data removed]",
      "text/plain": [
       "<matplotlib.figure.Figure at 0x7f304011e5d0>"
      ]
     },
     "metadata": {},
     "output_type": "display_data"
    }
   ],
   "source": [
    "df = df_query.execute(output_options=bq.QueryOutput.dataframe()).result()\n",
    "\n",
    "ax = df.plot(kind='bar', x='year', title='Firms by Record date', figsize=(10,5))\n",
    "ax.set_xlabel('Year')\n",
    "ax.set_ylabel('count')"
   ]
  },
  {
   "cell_type": "code",
   "execution_count": 15,
   "metadata": {
    "collapsed": true
   },
   "outputs": [],
   "source": [
    "%%bq query -n df_query\n",
    "select\n",
    "EXTRACT(YEAR FROM TERMINATION_DATE) as year,\n",
    "count(*) as count\n",
    "from `fiery-set-171213.vrec.fapiis`\n",
    "group by 1\n",
    "order by 1;"
   ]
  },
  {
   "cell_type": "code",
   "execution_count": 16,
   "metadata": {
    "collapsed": false
   },
   "outputs": [
    {
     "data": {
      "text/plain": [
       "<matplotlib.text.Text at 0x7f3033c13850>"
      ]
     },
     "execution_count": 16,
     "metadata": {},
     "output_type": "execute_result"
    },
    {
     "data": {
      "image/png": "[encoded data removed]",
      "text/plain": [
       "<matplotlib.figure.Figure at 0x7f304011e410>"
      ]
     },
     "metadata": {},
     "output_type": "display_data"
    }
   ],
   "source": [
    "df = df_query.execute(output_options=bq.QueryOutput.dataframe()).result()\n",
    "\n",
    "ax = df.plot(kind='bar', x='year', title='Firms by termination date', figsize=(10,5))\n",
    "ax.set_xlabel('Year')\n",
    "ax.set_ylabel('count')"
   ]
  },
  {
   "cell_type": "code",
   "execution_count": 17,
   "metadata": {
    "collapsed": false
   },
   "outputs": [
    {
     "data": {
      "text/html": [
       "\n",
       "    <div class=\"bqtv\" id=\"5_149831086614\"><table><tr><th>AWARDEE_NAME</th><th>DUNS</th><th>count</th></tr><tr><td>ALPHA RAPID ENGINEERING SOLUTIONS</td><td>968818497</td><td>96</td></tr><tr><td>SDV RECON INC</td><td>828479498</td><td>72</td></tr><tr><td>GIESTING &amp; ASSOCIATES, INC.</td><td>68939842</td><td>41</td></tr><tr><td>UNITED PROCUREMENT, L.P.</td><td>628036345</td><td>31</td></tr><tr><td>EPITECH, INC.</td><td>190378625</td><td>31</td></tr></table></div>\n",
       "    <br />(rows: 5, time: 1.2s,   101KB processed, job: job_s4zudvnCBv32DSETuG1Vb1HoCGg)<br />\n",
       "    <script>\n",
       "\n",
       "      require.config({\n",
       "        paths: {\n",
       "          d3: '//cdnjs.cloudflare.com/ajax/libs/d3/3.4.13/d3',\n",
       "          plotly: 'https://cdn.plot.ly/plotly-1.5.1.min.js?noext',\n",
       "          jquery: '//ajax.googleapis.com/ajax/libs/jquery/2.0.0/jquery.min'\n",
       "        },\n",
       "        map: {\n",
       "          '*': {\n",
       "            datalab: 'nbextensions/gcpdatalab'\n",
       "          }\n",
       "        },\n",
       "        shim: {\n",
       "          plotly: {\n",
       "            deps: ['d3', 'jquery'],\n",
       "            exports: 'plotly'\n",
       "          }\n",
       "        }\n",
       "      });\n",
       "\n",
       "      require(['datalab/charting', 'datalab/element!5_149831086614', 'base/js/events',\n",
       "          'datalab/style!/nbextensions/gcpdatalab/charting.css'],\n",
       "        function(charts, dom, events) {\n",
       "          charts.render('gcharts', dom, events, 'table', [], {\"rows\": [{\"c\": [{\"v\": \"ALPHA RAPID ENGINEERING SOLUTIONS\"}, {\"v\": 968818497}, {\"v\": 96}]}, {\"c\": [{\"v\": \"SDV RECON INC\"}, {\"v\": 828479498}, {\"v\": 72}]}, {\"c\": [{\"v\": \"GIESTING & ASSOCIATES, INC.\"}, {\"v\": 68939842}, {\"v\": 41}]}, {\"c\": [{\"v\": \"UNITED PROCUREMENT, L.P.\"}, {\"v\": 628036345}, {\"v\": 31}]}, {\"c\": [{\"v\": \"EPITECH, INC.\"}, {\"v\": 190378625}, {\"v\": 31}]}], \"cols\": [{\"type\": \"string\", \"id\": \"AWARDEE_NAME\", \"label\": \"AWARDEE_NAME\"}, {\"type\": \"number\", \"id\": \"DUNS\", \"label\": \"DUNS\"}, {\"type\": \"number\", \"id\": \"count\", \"label\": \"count\"}]},\n",
       "            {\n",
       "              pageSize: 25,\n",
       "              cssClassNames:  {\n",
       "                tableRow: 'gchart-table-row',\n",
       "                headerRow: 'gchart-table-headerrow',\n",
       "                oddTableRow: 'gchart-table-oddrow',\n",
       "                selectedTableRow: 'gchart-table-selectedrow',\n",
       "                hoverTableRow: 'gchart-table-hoverrow',\n",
       "                tableCell: 'gchart-table-cell',\n",
       "                headerCell: 'gchart-table-headercell',\n",
       "                rowNumberCell: 'gchart-table-rownumcell'\n",
       "              }\n",
       "            },\n",
       "            {source_index: 4, fields: 'AWARDEE_NAME,DUNS,count'},\n",
       "            0,\n",
       "            5);\n",
       "        }\n",
       "      );\n",
       "    </script>\n",
       "  "
      ],
      "text/plain": [
       "QueryResultsTable job_s4zudvnCBv32DSETuG1Vb1HoCGg"
      ]
     },
     "execution_count": 17,
     "metadata": {},
     "output_type": "execute_result"
    }
   ],
   "source": [
    "%%bq query\n",
    "select\n",
    "AWARDEE_NAME,\n",
    "DUNS,\n",
    "count(*) as count\n",
    "from `fiery-set-171213.vrec.fapiis`\n",
    "group by 1,2\n",
    "order by 3 DESC\n",
    "limit 5;"
   ]
  },
  {
   "cell_type": "code",
   "execution_count": 18,
   "metadata": {
    "collapsed": false
   },
   "outputs": [
    {
     "data": {
      "text/html": [
       "\n",
       "    <div class=\"bqtv\" id=\"6_149831087549\"><table><tr><th>AGENCY</th><th>RECORD_TYPE</th><th>RECORD_DATE</th><th>CONTRACT_GRANT_NUMBER</th><th>REFERENCED_NUMBER</th><th>SOLICITATION_FUNDING_NUMBER</th><th>DUNS</th><th>CAGE</th><th>AWARDEE_NAME</th><th>ADDRESS1</th><th>ADDRESS2</th><th>CITY</th><th>STATE</th><th>ZIP_CODE</th><th>COUNTRY</th><th>VIOLATION_AGAINST</th><th>SUBCONTRACTOR_DUNS</th><th>SUBCONTRACTOR_CAGE</th><th>SUBCONTRACTOR_NAME</th><th>SUBCONTRACTOR_ADDRESS1</th><th>SUBCONTRACTOR_ADDRESS2</th><th>SUBCONTRACTOR_CITY</th><th>SUBCONTRACTOR_STATE</th><th>SUBCONTRACTOR_ZIP_CODE</th><th>SUBCONTRACTOR_COUNTRY</th><th>FSC</th><th>NAICS</th><th>AGENCY_CODE</th><th>CODE_2</th><th>OFFICIAL_NAME</th><th>OFFICIAL_PHONE</th><th>OFFICIAL_EMAIL</th><th>TERMINATION_TYPE</th><th>TERMINATION_DATE</th><th>USER</th><th>EMAIL</th><th>PHONE</th><th>COMMENTS</th></tr><tr><td>DEFENSE COMMISSARY AGENCY (DECA)</td><td>Termination for Cause</td><td>2015-09-04</td><td>HDEC0413D00170257</td><td>&nbsp;</td><td>&nbsp;</td><td>968818497</td><td>6GLG3</td><td>ALPHA RAPID ENGINEERING SOLUTIONS</td><td>3159 SHRADER RD</td><td>&nbsp;</td><td>DOVER</td><td>NJ</td><td>7801</td><td>USA</td><td>&nbsp;</td><td>&nbsp;</td><td>&nbsp;</td><td>&nbsp;</td><td>&nbsp;</td><td>&nbsp;</td><td>&nbsp;</td><td>&nbsp;</td><td>&nbsp;</td><td>&nbsp;</td><td>&nbsp;</td><td>7420</td><td>333318</td><td>97AZ</td><td>DESSIE MILLS</td><td>8047348000</td><td>dessie.mills@deca.mil</td><td>Complete</td><td>&nbsp;</td><td>&nbsp;</td><td>&nbsp;</td><td>&nbsp;</td><td>&nbsp;</td></tr><tr><td>DEFENSE COMMISSARY AGENCY (DECA)</td><td>Termination for Cause</td><td>2015-09-04</td><td>HDEC0413D00170259</td><td>&nbsp;</td><td>&nbsp;</td><td>968818497</td><td>6GLG3</td><td>ALPHA RAPID ENGINEERING SOLUTIONS</td><td>3159 SHRADER RD</td><td>&nbsp;</td><td>DOVER</td><td>NJ</td><td>7801</td><td>USA</td><td>&nbsp;</td><td>&nbsp;</td><td>&nbsp;</td><td>&nbsp;</td><td>&nbsp;</td><td>&nbsp;</td><td>&nbsp;</td><td>&nbsp;</td><td>&nbsp;</td><td>&nbsp;</td><td>&nbsp;</td><td>7420</td><td>333318</td><td>97AZ</td><td>DESSIE MILLS</td><td>8047348000</td><td>dessie.mills@deca.mil</td><td>Complete</td><td>&nbsp;</td><td>&nbsp;</td><td>&nbsp;</td><td>&nbsp;</td><td>&nbsp;</td></tr><tr><td>DEFENSE COMMISSARY AGENCY (DECA)</td><td>Termination for Cause</td><td>2015-09-04</td><td>HDEC0413D00170260</td><td>&nbsp;</td><td>&nbsp;</td><td>968818497</td><td>6GLG3</td><td>ALPHA RAPID ENGINEERING SOLUTIONS</td><td>3159 SHRADER RD</td><td>&nbsp;</td><td>DOVER</td><td>NJ</td><td>7801</td><td>USA</td><td>&nbsp;</td><td>&nbsp;</td><td>&nbsp;</td><td>&nbsp;</td><td>&nbsp;</td><td>&nbsp;</td><td>&nbsp;</td><td>&nbsp;</td><td>&nbsp;</td><td>&nbsp;</td><td>&nbsp;</td><td>7420</td><td>333318</td><td>97AZ</td><td>DESSIE MILLS</td><td>8047348000</td><td>dessie.mills@deca.mil</td><td>Complete</td><td>&nbsp;</td><td>&nbsp;</td><td>&nbsp;</td><td>&nbsp;</td><td>&nbsp;</td></tr><tr><td>DEFENSE COMMISSARY AGENCY (DECA)</td><td>Termination for Cause</td><td>2015-09-02</td><td>268</td><td>HDEC0413D0017</td><td>&nbsp;</td><td>968818497</td><td>6GLG3</td><td>ALPHA RAPID ENGINEERING SOLUTIONS</td><td>3159 SHRADER RD</td><td>&nbsp;</td><td>DOVER</td><td>NJ</td><td>78015735</td><td>USA</td><td>&nbsp;</td><td>&nbsp;</td><td>&nbsp;</td><td>&nbsp;</td><td>&nbsp;</td><td>&nbsp;</td><td>&nbsp;</td><td>&nbsp;</td><td>&nbsp;</td><td>&nbsp;</td><td>&nbsp;</td><td>7420</td><td>333318</td><td>97AZ</td><td>DESSIE MILLS</td><td>8047348000</td><td>dessie.mills@deca.mil</td><td>Complete</td><td>&nbsp;</td><td>&nbsp;</td><td>&nbsp;</td><td>&nbsp;</td><td>&nbsp;</td></tr><tr><td>DEFENSE COMMISSARY AGENCY (DECA)</td><td>Termination for Cause</td><td>2015-09-04</td><td>HDEC0413D00170258</td><td>&nbsp;</td><td>&nbsp;</td><td>968818497</td><td>6GLG3</td><td>ALPHA RAPID ENGINEERING SOLUTIONS</td><td>3159 SHRADER RD</td><td>&nbsp;</td><td>DOVER</td><td>NJ</td><td>7801</td><td>USA</td><td>&nbsp;</td><td>&nbsp;</td><td>&nbsp;</td><td>&nbsp;</td><td>&nbsp;</td><td>&nbsp;</td><td>&nbsp;</td><td>&nbsp;</td><td>&nbsp;</td><td>&nbsp;</td><td>&nbsp;</td><td>7420</td><td>333318</td><td>97AZ</td><td>DESSIE MILLS</td><td>8047348000</td><td>dessie.mills@deca.mil</td><td>Complete</td><td>&nbsp;</td><td>&nbsp;</td><td>&nbsp;</td><td>&nbsp;</td><td>&nbsp;</td></tr></table></div>\n",
       "    <br />(rows: 5, time: 1.7s,   943KB processed, job: job_sGxn_-8wDhf9VNVCfpJ1V-yzcqY)<br />\n",
       "    <script>\n",
       "\n",
       "      require.config({\n",
       "        paths: {\n",
       "          d3: '//cdnjs.cloudflare.com/ajax/libs/d3/3.4.13/d3',\n",
       "          plotly: 'https://cdn.plot.ly/plotly-1.5.1.min.js?noext',\n",
       "          jquery: '//ajax.googleapis.com/ajax/libs/jquery/2.0.0/jquery.min'\n",
       "        },\n",
       "        map: {\n",
       "          '*': {\n",
       "            datalab: 'nbextensions/gcpdatalab'\n",
       "          }\n",
       "        },\n",
       "        shim: {\n",
       "          plotly: {\n",
       "            deps: ['d3', 'jquery'],\n",
       "            exports: 'plotly'\n",
       "          }\n",
       "        }\n",
       "      });\n",
       "\n",
       "      require(['datalab/charting', 'datalab/element!6_149831087549', 'base/js/events',\n",
       "          'datalab/style!/nbextensions/gcpdatalab/charting.css'],\n",
       "        function(charts, dom, events) {\n",
       "          charts.render('gcharts', dom, events, 'table', [], {\"rows\": [{\"c\": [{\"v\": \"DEFENSE COMMISSARY AGENCY (DECA)\"}, {\"v\": \"Termination for Cause\"}, {\"v\": \"2015-09-04\"}, {\"v\": \"HDEC0413D00170257\"}, {\"v\": null}, {\"v\": null}, {\"v\": 968818497}, {\"v\": \"6GLG3\"}, {\"v\": \"ALPHA RAPID ENGINEERING SOLUTIONS\"}, {\"v\": \"3159 SHRADER RD\"}, {\"v\": null}, {\"v\": \"DOVER\"}, {\"v\": \"NJ\"}, {\"v\": \"7801\"}, {\"v\": \"USA\"}, {\"v\": null}, {\"v\": null}, {\"v\": null}, {\"v\": null}, {\"v\": null}, {\"v\": null}, {\"v\": null}, {\"v\": null}, {\"v\": null}, {\"v\": null}, {\"v\": null}, {\"v\": \"7420\"}, {\"v\": 333318}, {\"v\": \"97AZ\"}, {\"v\": \"DESSIE MILLS\"}, {\"v\": \"8047348000\"}, {\"v\": \"dessie.mills@deca.mil\"}, {\"v\": \"Complete\"}, {\"v\": null}, {\"v\": null}, {\"v\": null}, {\"v\": null}, {\"v\": null}]}, {\"c\": [{\"v\": \"DEFENSE COMMISSARY AGENCY (DECA)\"}, {\"v\": \"Termination for Cause\"}, {\"v\": \"2015-09-04\"}, {\"v\": \"HDEC0413D00170259\"}, {\"v\": null}, {\"v\": null}, {\"v\": 968818497}, {\"v\": \"6GLG3\"}, {\"v\": \"ALPHA RAPID ENGINEERING SOLUTIONS\"}, {\"v\": \"3159 SHRADER RD\"}, {\"v\": null}, {\"v\": \"DOVER\"}, {\"v\": \"NJ\"}, {\"v\": \"7801\"}, {\"v\": \"USA\"}, {\"v\": null}, {\"v\": null}, {\"v\": null}, {\"v\": null}, {\"v\": null}, {\"v\": null}, {\"v\": null}, {\"v\": null}, {\"v\": null}, {\"v\": null}, {\"v\": null}, {\"v\": \"7420\"}, {\"v\": 333318}, {\"v\": \"97AZ\"}, {\"v\": \"DESSIE MILLS\"}, {\"v\": \"8047348000\"}, {\"v\": \"dessie.mills@deca.mil\"}, {\"v\": \"Complete\"}, {\"v\": null}, {\"v\": null}, {\"v\": null}, {\"v\": null}, {\"v\": null}]}, {\"c\": [{\"v\": \"DEFENSE COMMISSARY AGENCY (DECA)\"}, {\"v\": \"Termination for Cause\"}, {\"v\": \"2015-09-04\"}, {\"v\": \"HDEC0413D00170260\"}, {\"v\": null}, {\"v\": null}, {\"v\": 968818497}, {\"v\": \"6GLG3\"}, {\"v\": \"ALPHA RAPID ENGINEERING SOLUTIONS\"}, {\"v\": \"3159 SHRADER RD\"}, {\"v\": null}, {\"v\": \"DOVER\"}, {\"v\": \"NJ\"}, {\"v\": \"7801\"}, {\"v\": \"USA\"}, {\"v\": null}, {\"v\": null}, {\"v\": null}, {\"v\": null}, {\"v\": null}, {\"v\": null}, {\"v\": null}, {\"v\": null}, {\"v\": null}, {\"v\": null}, {\"v\": null}, {\"v\": \"7420\"}, {\"v\": 333318}, {\"v\": \"97AZ\"}, {\"v\": \"DESSIE MILLS\"}, {\"v\": \"8047348000\"}, {\"v\": \"dessie.mills@deca.mil\"}, {\"v\": \"Complete\"}, {\"v\": null}, {\"v\": null}, {\"v\": null}, {\"v\": null}, {\"v\": null}]}, {\"c\": [{\"v\": \"DEFENSE COMMISSARY AGENCY (DECA)\"}, {\"v\": \"Termination for Cause\"}, {\"v\": \"2015-09-02\"}, {\"v\": \"268\"}, {\"v\": \"HDEC0413D0017\"}, {\"v\": null}, {\"v\": 968818497}, {\"v\": \"6GLG3\"}, {\"v\": \"ALPHA RAPID ENGINEERING SOLUTIONS\"}, {\"v\": \"3159 SHRADER RD\"}, {\"v\": null}, {\"v\": \"DOVER\"}, {\"v\": \"NJ\"}, {\"v\": \"78015735\"}, {\"v\": \"USA\"}, {\"v\": null}, {\"v\": null}, {\"v\": null}, {\"v\": null}, {\"v\": null}, {\"v\": null}, {\"v\": null}, {\"v\": null}, {\"v\": null}, {\"v\": null}, {\"v\": null}, {\"v\": \"7420\"}, {\"v\": 333318}, {\"v\": \"97AZ\"}, {\"v\": \"DESSIE MILLS\"}, {\"v\": \"8047348000\"}, {\"v\": \"dessie.mills@deca.mil\"}, {\"v\": \"Complete\"}, {\"v\": null}, {\"v\": null}, {\"v\": null}, {\"v\": null}, {\"v\": null}]}, {\"c\": [{\"v\": \"DEFENSE COMMISSARY AGENCY (DECA)\"}, {\"v\": \"Termination for Cause\"}, {\"v\": \"2015-09-04\"}, {\"v\": \"HDEC0413D00170258\"}, {\"v\": null}, {\"v\": null}, {\"v\": 968818497}, {\"v\": \"6GLG3\"}, {\"v\": \"ALPHA RAPID ENGINEERING SOLUTIONS\"}, {\"v\": \"3159 SHRADER RD\"}, {\"v\": null}, {\"v\": \"DOVER\"}, {\"v\": \"NJ\"}, {\"v\": \"7801\"}, {\"v\": \"USA\"}, {\"v\": null}, {\"v\": null}, {\"v\": null}, {\"v\": null}, {\"v\": null}, {\"v\": null}, {\"v\": null}, {\"v\": null}, {\"v\": null}, {\"v\": null}, {\"v\": null}, {\"v\": \"7420\"}, {\"v\": 333318}, {\"v\": \"97AZ\"}, {\"v\": \"DESSIE MILLS\"}, {\"v\": \"8047348000\"}, {\"v\": \"dessie.mills@deca.mil\"}, {\"v\": \"Complete\"}, {\"v\": null}, {\"v\": null}, {\"v\": null}, {\"v\": null}, {\"v\": null}]}], \"cols\": [{\"type\": \"string\", \"id\": \"AGENCY\", \"label\": \"AGENCY\"}, {\"type\": \"string\", \"id\": \"RECORD_TYPE\", \"label\": \"RECORD_TYPE\"}, {\"type\": \"date\", \"id\": \"RECORD_DATE\", \"label\": \"RECORD_DATE\"}, {\"type\": \"string\", \"id\": \"CONTRACT_GRANT_NUMBER\", \"label\": \"CONTRACT_GRANT_NUMBER\"}, {\"type\": \"string\", \"id\": \"REFERENCED_NUMBER\", \"label\": \"REFERENCED_NUMBER\"}, {\"type\": \"string\", \"id\": \"SOLICITATION_FUNDING_NUMBER\", \"label\": \"SOLICITATION_FUNDING_NUMBER\"}, {\"type\": \"number\", \"id\": \"DUNS\", \"label\": \"DUNS\"}, {\"type\": \"string\", \"id\": \"CAGE\", \"label\": \"CAGE\"}, {\"type\": \"string\", \"id\": \"AWARDEE_NAME\", \"label\": \"AWARDEE_NAME\"}, {\"type\": \"string\", \"id\": \"ADDRESS1\", \"label\": \"ADDRESS1\"}, {\"type\": \"string\", \"id\": \"ADDRESS2\", \"label\": \"ADDRESS2\"}, {\"type\": \"string\", \"id\": \"CITY\", \"label\": \"CITY\"}, {\"type\": \"string\", \"id\": \"STATE\", \"label\": \"STATE\"}, {\"type\": \"string\", \"id\": \"ZIP_CODE\", \"label\": \"ZIP_CODE\"}, {\"type\": \"string\", \"id\": \"COUNTRY\", \"label\": \"COUNTRY\"}, {\"type\": \"string\", \"id\": \"VIOLATION_AGAINST\", \"label\": \"VIOLATION_AGAINST\"}, {\"type\": \"string\", \"id\": \"SUBCONTRACTOR_DUNS\", \"label\": \"SUBCONTRACTOR_DUNS\"}, {\"type\": \"string\", \"id\": \"SUBCONTRACTOR_CAGE\", \"label\": \"SUBCONTRACTOR_CAGE\"}, {\"type\": \"string\", \"id\": \"SUBCONTRACTOR_NAME\", \"label\": \"SUBCONTRACTOR_NAME\"}, {\"type\": \"string\", \"id\": \"SUBCONTRACTOR_ADDRESS1\", \"label\": \"SUBCONTRACTOR_ADDRESS1\"}, {\"type\": \"string\", \"id\": \"SUBCONTRACTOR_ADDRESS2\", \"label\": \"SUBCONTRACTOR_ADDRESS2\"}, {\"type\": \"string\", \"id\": \"SUBCONTRACTOR_CITY\", \"label\": \"SUBCONTRACTOR_CITY\"}, {\"type\": \"string\", \"id\": \"SUBCONTRACTOR_STATE\", \"label\": \"SUBCONTRACTOR_STATE\"}, {\"type\": \"string\", \"id\": \"SUBCONTRACTOR_ZIP_CODE\", \"label\": \"SUBCONTRACTOR_ZIP_CODE\"}, {\"type\": \"string\", \"id\": \"SUBCONTRACTOR_COUNTRY\", \"label\": \"SUBCONTRACTOR_COUNTRY\"}, {\"type\": \"string\", \"id\": \"FSC\", \"label\": \"FSC\"}, {\"type\": \"string\", \"id\": \"NAICS\", \"label\": \"NAICS\"}, {\"type\": \"number\", \"id\": \"AGENCY_CODE\", \"label\": \"AGENCY_CODE\"}, {\"type\": \"string\", \"id\": \"CODE_2\", \"label\": \"CODE_2\"}, {\"type\": \"string\", \"id\": \"OFFICIAL_NAME\", \"label\": \"OFFICIAL_NAME\"}, {\"type\": \"string\", \"id\": \"OFFICIAL_PHONE\", \"label\": \"OFFICIAL_PHONE\"}, {\"type\": \"string\", \"id\": \"OFFICIAL_EMAIL\", \"label\": \"OFFICIAL_EMAIL\"}, {\"type\": \"string\", \"id\": \"TERMINATION_TYPE\", \"label\": \"TERMINATION_TYPE\"}, {\"type\": \"date\", \"id\": \"TERMINATION_DATE\", \"label\": \"TERMINATION_DATE\"}, {\"type\": \"string\", \"id\": \"USER\", \"label\": \"USER\"}, {\"type\": \"string\", \"id\": \"EMAIL\", \"label\": \"EMAIL\"}, {\"type\": \"string\", \"id\": \"PHONE\", \"label\": \"PHONE\"}, {\"type\": \"string\", \"id\": \"COMMENTS\", \"label\": \"COMMENTS\"}]},\n",
       "            {\n",
       "              pageSize: 25,\n",
       "              cssClassNames:  {\n",
       "                tableRow: 'gchart-table-row',\n",
       "                headerRow: 'gchart-table-headerrow',\n",
       "                oddTableRow: 'gchart-table-oddrow',\n",
       "                selectedTableRow: 'gchart-table-selectedrow',\n",
       "                hoverTableRow: 'gchart-table-hoverrow',\n",
       "                tableCell: 'gchart-table-cell',\n",
       "                headerCell: 'gchart-table-headercell',\n",
       "                rowNumberCell: 'gchart-table-rownumcell'\n",
       "              }\n",
       "            },\n",
       "            {source_index: 5, fields: 'AGENCY,RECORD_TYPE,RECORD_DATE,CONTRACT_GRANT_NUMBER,REFERENCED_NUMBER,SOLICITATION_FUNDING_NUMBER,DUNS,CAGE,AWARDEE_NAME,ADDRESS1,ADDRESS2,CITY,STATE,ZIP_CODE,COUNTRY,VIOLATION_AGAINST,SUBCONTRACTOR_DUNS,SUBCONTRACTOR_CAGE,SUBCONTRACTOR_NAME,SUBCONTRACTOR_ADDRESS1,SUBCONTRACTOR_ADDRESS2,SUBCONTRACTOR_CITY,SUBCONTRACTOR_STATE,SUBCONTRACTOR_ZIP_CODE,SUBCONTRACTOR_COUNTRY,FSC,NAICS,AGENCY_CODE,CODE_2,OFFICIAL_NAME,OFFICIAL_PHONE,OFFICIAL_EMAIL,TERMINATION_TYPE,TERMINATION_DATE,USER,EMAIL,PHONE,COMMENTS'},\n",
       "            0,\n",
       "            5);\n",
       "        }\n",
       "      );\n",
       "    </script>\n",
       "  "
      ],
      "text/plain": [
       "QueryResultsTable job_sGxn_-8wDhf9VNVCfpJ1V-yzcqY"
      ]
     },
     "execution_count": 18,
     "metadata": {},
     "output_type": "execute_result"
    }
   ],
   "source": [
    "%%bq query\n",
    "select\n",
    "*\n",
    "from `fiery-set-171213.vrec.fapiis`\n",
    "where AWARDEE_NAME in ('ALPHA RAPID ENGINEERING SOLUTIONS')\n",
    "limit 5;"
   ]
  },
  {
   "cell_type": "code",
   "execution_count": 19,
   "metadata": {
    "collapsed": false
   },
   "outputs": [
    {
     "data": {
      "text/html": [
       "\n",
       "    <div class=\"bqtv\" id=\"7_149831088523\"><table><tr><th>RECORD_TYPE</th><th>count</th></tr><tr><td>Termination for Cause</td><td>1603</td></tr><tr><td>Termination for Default</td><td>1182</td></tr><tr><td>Administrative Agreement</td><td>158</td></tr><tr><td>Non-Responsibility Determination</td><td>48</td></tr><tr><td>Termination for Material Failure to Comply</td><td>8</td></tr><tr><td>DoD Determination of Contractor Fault</td><td>2</td></tr><tr><td>Subcontractor Payment Issues</td><td>1</td></tr></table></div>\n",
       "    <br />(rows: 7, time: 1.4s,    72KB processed, job: job_CUUCrloWjHkOFNz5rBo1EQSgFQc)<br />\n",
       "    <script>\n",
       "\n",
       "      require.config({\n",
       "        paths: {\n",
       "          d3: '//cdnjs.cloudflare.com/ajax/libs/d3/3.4.13/d3',\n",
       "          plotly: 'https://cdn.plot.ly/plotly-1.5.1.min.js?noext',\n",
       "          jquery: '//ajax.googleapis.com/ajax/libs/jquery/2.0.0/jquery.min'\n",
       "        },\n",
       "        map: {\n",
       "          '*': {\n",
       "            datalab: 'nbextensions/gcpdatalab'\n",
       "          }\n",
       "        },\n",
       "        shim: {\n",
       "          plotly: {\n",
       "            deps: ['d3', 'jquery'],\n",
       "            exports: 'plotly'\n",
       "          }\n",
       "        }\n",
       "      });\n",
       "\n",
       "      require(['datalab/charting', 'datalab/element!7_149831088523', 'base/js/events',\n",
       "          'datalab/style!/nbextensions/gcpdatalab/charting.css'],\n",
       "        function(charts, dom, events) {\n",
       "          charts.render('gcharts', dom, events, 'table', [], {\"rows\": [{\"c\": [{\"v\": \"Termination for Cause\"}, {\"v\": 1603}]}, {\"c\": [{\"v\": \"Termination for Default\"}, {\"v\": 1182}]}, {\"c\": [{\"v\": \"Administrative Agreement\"}, {\"v\": 158}]}, {\"c\": [{\"v\": \"Non-Responsibility Determination\"}, {\"v\": 48}]}, {\"c\": [{\"v\": \"Termination for Material Failure to Comply\"}, {\"v\": 8}]}, {\"c\": [{\"v\": \"DoD Determination of Contractor Fault\"}, {\"v\": 2}]}, {\"c\": [{\"v\": \"Subcontractor Payment Issues\"}, {\"v\": 1}]}], \"cols\": [{\"type\": \"string\", \"id\": \"RECORD_TYPE\", \"label\": \"RECORD_TYPE\"}, {\"type\": \"number\", \"id\": \"count\", \"label\": \"count\"}]},\n",
       "            {\n",
       "              pageSize: 25,\n",
       "              cssClassNames:  {\n",
       "                tableRow: 'gchart-table-row',\n",
       "                headerRow: 'gchart-table-headerrow',\n",
       "                oddTableRow: 'gchart-table-oddrow',\n",
       "                selectedTableRow: 'gchart-table-selectedrow',\n",
       "                hoverTableRow: 'gchart-table-hoverrow',\n",
       "                tableCell: 'gchart-table-cell',\n",
       "                headerCell: 'gchart-table-headercell',\n",
       "                rowNumberCell: 'gchart-table-rownumcell'\n",
       "              }\n",
       "            },\n",
       "            {source_index: 6, fields: 'RECORD_TYPE,count'},\n",
       "            0,\n",
       "            7);\n",
       "        }\n",
       "      );\n",
       "    </script>\n",
       "  "
      ],
      "text/plain": [
       "QueryResultsTable job_CUUCrloWjHkOFNz5rBo1EQSgFQc"
      ]
     },
     "execution_count": 19,
     "metadata": {},
     "output_type": "execute_result"
    }
   ],
   "source": [
    "%%bq query\n",
    "select\n",
    "RECORD_TYPE,\n",
    "count(*) as count\n",
    "from `fiery-set-171213.vrec.fapiis`\n",
    "group by 1\n",
    "order by 2 DESC"
   ]
  },
  {
   "cell_type": "markdown",
   "metadata": {},
   "source": [
    "**FAPIIS is not bad with 3002 DUNS code but time range goes only from 2012 to 2017**"
   ]
  },
  {
   "cell_type": "markdown",
   "metadata": {},
   "source": [
    "## USA Spending"
   ]
  },
  {
   "cell_type": "markdown",
   "metadata": {},
   "source": [
    "- Link to collaborative filtering\n",
    "- https://docs.google.com/presentation/d/1x5g-wIoSUGRSwDqHC6MhZBZD5d2LQ19WKFlRneN2TyU/edit#slide=id.p121\n",
    "\n",
    "- https://www.usaspending.gov/DownloadCenter/Documents/USAspending.govDownloadsDataDictionary.pdf"
   ]
  },
  {
   "cell_type": "code",
   "execution_count": 3,
   "metadata": {
    "collapsed": true
   },
   "outputs": [],
   "source": [
    "%%bq query -n df_query\n",
    "select count(*) as transactions\n",
    "from `fiery-set-171213.vrec.usa_spending_all`"
   ]
  },
  {
   "cell_type": "code",
   "execution_count": 4,
   "metadata": {
    "collapsed": false
   },
   "outputs": [
    {
     "data": {
      "text/html": [
       "<div>\n",
       "<table border=\"1\" class=\"dataframe\">\n",
       "  <thead>\n",
       "    <tr style=\"text-align: right;\">\n",
       "      <th></th>\n",
       "      <th>transactions</th>\n",
       "    </tr>\n",
       "  </thead>\n",
       "  <tbody>\n",
       "    <tr>\n",
       "      <th>0</th>\n",
       "      <td>49454646</td>\n",
       "    </tr>\n",
       "  </tbody>\n",
       "</table>\n",
       "</div>"
      ],
      "text/plain": [
       "   transactions\n",
       "0      49454646"
      ]
     },
     "execution_count": 4,
     "metadata": {},
     "output_type": "execute_result"
    }
   ],
   "source": [
    "df = df_query.execute(output_options=bq.QueryOutput.dataframe()).result()\n",
    "df.head()"
   ]
  },
  {
   "cell_type": "code",
   "execution_count": 22,
   "metadata": {
    "collapsed": false
   },
   "outputs": [
    {
     "data": {
      "text/html": [
       "\n",
       "    <div class=\"bqtv\" id=\"8_149831096806\"><table><tr><th>unique_transaction_id</th><th>transaction_status</th><th>dollarsobligated</th><th>baseandexercisedoptionsvalue</th><th>baseandalloptionsvalue</th><th>maj_agency_cat</th><th>mod_agency</th><th>maj_fund_agency_cat</th><th>contractingofficeagencyid</th><th>contractingofficeid</th><th>fundingrequestingagencyid</th><th>fundingrequestingofficeid</th><th>fundedbyforeignentity</th><th>signeddate</th><th>effectivedate</th><th>currentcompletiondate</th><th>ultimatecompletiondate</th><th>lastdatetoorder</th><th>contractactiontype</th><th>reasonformodification</th><th>typeofcontractpricing</th><th>priceevaluationpercentdifference</th><th>subcontractplan</th><th>lettercontract</th><th>multiyearcontract</th><th>performancebasedservicecontract</th><th>majorprogramcode</th><th>contingencyhumanitarianpeacekeepingoperation</th><th>contractfinancing</th><th>costorpricingdata</th><th>costaccountingstandardsclause</th><th>descriptionofcontractrequirement</th><th>purchasecardaspaymentmethod</th><th>numberofactions</th><th>nationalinterestactioncode</th><th>progsourceagency</th><th>progsourceaccount</th><th>progsourcesubacct</th><th>account_title</th><th>rec_flag</th><th>typeofidc</th><th>multipleorsingleawardidc</th><th>programacronym</th><th>vendorname</th><th>vendoralternatename</th><th>vendorlegalorganizationname</th><th>vendordoingasbusinessname</th><th>divisionname</th><th>divisionnumberorofficecode</th><th>vendorenabled</th><th>vendorlocationdisableflag</th><th>ccrexception</th><th>streetaddress</th><th>streetaddress2</th><th>streetaddress3</th><th>city</th><th>state</th><th>zipcode</th><th>vendorcountrycode</th><th>vendor_state_code</th><th>vendor_cd</th><th>congressionaldistrict</th><th>vendorsitecode</th><th>vendoralternatesitecode</th><th>dunsnumber</th><th>parentdunsnumber</th><th>phoneno</th><th>faxno</th><th>registrationdate</th><th>renewaldate</th><th>mod_parent</th><th>locationcode</th><th>statecode</th><th>PlaceofPerformanceCity</th><th>pop_state_code</th><th>placeofperformancecountrycode</th><th>placeofperformancezipcode</th><th>pop_cd</th><th>placeofperformancecongressionaldistrict</th><th>psc_cat</th><th>productorservicecode</th><th>systemequipmentcode</th><th>claimantprogramcode</th><th>principalnaicscode</th><th>informationtechnologycommercialitemcategory</th><th>gfe_gfp</th><th>useofepadesignatedproducts</th><th>recoveredmaterialclauses</th><th>seatransportation</th><th>contractbundling</th><th>consolidatedcontract</th><th>countryoforigin</th><th>placeofmanufacture</th><th>manufacturingorganizationtype</th><th>agencyid</th><th>piid</th><th>modnumber</th><th>transactionnumber</th><th>fiscal_year</th><th>idvagencyid</th><th>idvpiid</th><th>idvmodificationnumber</th><th>solicitationid</th><th>extentcompeted</th><th>reasonnotcompeted</th><th>numberofoffersreceived</th><th>commercialitemacquisitionprocedures</th><th>commercialitemtestprogram</th><th>smallbusinesscompetitivenessdemonstrationprogram</th><th>a76action</th><th>competitiveprocedures</th><th>solicitationprocedures</th><th>typeofsetaside</th><th>localareasetaside</th><th>evaluatedpreference</th><th>fedbizopps</th><th>research</th><th>statutoryexceptiontofairopportunity</th><th>organizationaltype</th><th>numberofemployees</th><th>annualrevenue</th><th>firm8aflag</th><th>hubzoneflag</th><th>sdbflag</th><th>issbacertifiedsmalldisadvantagedbusiness</th><th>shelteredworkshopflag</th><th>hbcuflag</th><th>educationalinstitutionflag</th><th>womenownedflag</th><th>veteranownedflag</th><th>srdvobflag</th><th>localgovernmentflag</th><th>minorityinstitutionflag</th><th>aiobflag</th><th>stategovernmentflag</th><th>federalgovernmentflag</th><th>minorityownedbusinessflag</th><th>apaobflag</th><th>tribalgovernmentflag</th><th>baobflag</th><th>naobflag</th><th>saaobflag</th><th>nonprofitorganizationflag</th><th>isothernotforprofitorganization</th><th>isforprofitorganization</th><th>isfoundation</th><th>haobflag</th><th>ishispanicservicinginstitution</th><th>emergingsmallbusinessflag</th><th>hospitalflag</th><th>contractingofficerbusinesssizedetermination</th><th>is1862landgrantcollege</th><th>is1890landgrantcollege</th><th>is1994landgrantcollege</th><th>isveterinarycollege</th><th>isveterinaryhospital</th><th>isprivateuniversityorcollege</th><th>isschoolofforestry</th><th>isstatecontrolledinstitutionofhigherlearning</th><th>isserviceprovider</th><th>receivescontracts</th><th>receivesgrants</th><th>receivescontractsandgrants</th><th>isairportauthority</th><th>iscouncilofgovernments</th><th>ishousingauthoritiespublicortribal</th><th>isinterstateentity</th><th>isplanningcommission</th><th>isportauthority</th><th>istransitauthority</th><th>issubchapterscorporation</th><th>islimitedliabilitycorporation</th><th>isforeignownedandlocated</th><th>isarchitectureandengineering</th><th>isdotcertifieddisadvantagedbusinessenterprise</th><th>iscitylocalgovernment</th><th>iscommunitydevelopedcorporationownedfirm</th><th>iscommunitydevelopmentcorporation</th><th>isconstructionfirm</th><th>ismanufacturerofgoods</th><th>iscorporateentitynottaxexempt</th><th>iscountylocalgovernment</th><th>isdomesticshelter</th><th>isfederalgovernmentagency</th><th>isfederallyfundedresearchanddevelopmentcorp</th><th>isforeigngovernment</th><th>isindiantribe</th><th>isintermunicipallocalgovernment</th><th>isinternationalorganization</th><th>islaborsurplusareafirm</th><th>islocalgovernmentowned</th><th>ismunicipalitylocalgovernment</th><th>isnativehawaiianownedorganizationorfirm</th><th>isotherbusinessororganization</th><th>isotherminorityowned</th><th>ispartnershiporlimitedliabilitypartnership</th><th>isschooldistrictlocalgovernment</th><th>issmallagriculturalcooperative</th><th>issoleproprietorship</th><th>istownshiplocalgovernment</th><th>istriballyownedfirm</th><th>istribalcollege</th><th>isalaskannativeownedcorporationorfirm</th><th>iscorporateentitytaxexempt</th><th>iswomenownedsmallbusiness</th><th>isecondisadvwomenownedsmallbusiness</th><th>isjointventurewomenownedsmallbusiness</th><th>isjointventureecondisadvwomenownedsmallbusiness</th><th>walshhealyact</th><th>servicecontractact</th><th>davisbaconact</th><th>clingercohenact</th><th>otherstatutoryauthority</th><th>prime_awardee_executive1</th><th>prime_awardee_executive1_compensation</th><th>prime_awardee_executive2</th><th>prime_awardee_executive2_compensation</th><th>prime_awardee_executive3</th><th>prime_awardee_executive3_compensation</th><th>prime_awardee_executive4</th><th>prime_awardee_executive4_compensation</th><th>prime_awardee_executive5</th><th>prime_awardee_executive5_compensation</th><th>interagencycontractingauthority</th><th>last_modified_date</th></tr><tr><td>f6020a9fe79d606e60f83102eb4ce222</td><td>active</td><td>0.0</td><td>0.0</td><td>-684.0</td><td>9700: DEPT OF DEFENSE</td><td>1700: DEPT OF THE NAVY</td><td>:</td><td>1700: DEPT OF THE NAVY</td><td>N62467: NAVY FACILITIES ENGINEERING COMMAND</td><td>:</td><td>:</td><td>Not Applicable</td><td>09/30/2002</td><td>09/30/2002</td><td>01/01/1900</td><td>01/01/1900</td><td>01/01/1900</td><td>IDC Indefinite Delivery Contract</td><td>:</td><td>NO: Not Reported</td><td>&nbsp;</td><td>:</td><td>X</td><td>N: No</td><td>N: NO - SERVICE WHERE PBA IS NOT USED.</td><td></td><td>:</td><td>:</td><td>:</td><td>X</td><td></td><td>:</td><td></td><td>:</td><td></td><td></td><td></td><td></td><td></td><td></td><td>S: SINGLE AWARD</td><td></td><td>NAVALES ENTERPRISES INCORPORATED</td><td></td><td></td><td></td><td></td><td></td><td></td><td></td><td></td><td>115 EAST TRAVIS STREET SUITE 1018</td><td></td><td></td><td>SAN ANTONIO</td><td>TX</td><td>782051611</td><td>UNITED STATES</td><td>TX</td><td>TX20</td><td>TX20</td><td>1545647280000PR</td><td>782051611</td><td>154564728</td><td>154564728</td><td></td><td></td><td>12/04/2001</td><td>08/10/2005</td><td>NAVALES ENTERPRISES  INC.</td><td></td><td>:</td><td></td><td>:</td><td>:</td><td></td><td></td><td></td><td></td><td>:</td><td>:</td><td>:</td><td>:</td><td>:</td><td>N: Transaction does not use GFE/GFP</td><td>:</td><td>:</td><td>:</td><td>D: NOT A BUNDLED REQUIREMENT</td><td>N: No</td><td></td><td>:</td><td>:</td><td>9700: DEPT OF DEFENSE</td><td>N6246701D3212</td><td>P00003</td><td></td><td>2002</td><td></td><td></td><td></td><td></td><td>B: NOT AVAILABLE FOR COMPETITION</td><td>OTH: AUTHORIZED BY STATUTE</td><td>1</td><td>D: </td><td>N: No</td><td>N: NO</td><td>No</td><td></td><td>NP: NEGOTIATED PROPOSAL/QUOTE</td><td>NONE: NO SET ASIDE USED.</td><td></td><td>NONE: NO PREFERENCE USED</td><td>X</td><td></td><td></td><td></td><td>80</td><td>3500000.0</td><td>N</td><td>Y</td><td>N</td><td>N</td><td>N</td><td>N</td><td>N</td><td>Y</td><td>N</td><td>N</td><td>N</td><td>N</td><td>N</td><td>N</td><td>N</td><td>Y</td><td>N</td><td>N</td><td>N</td><td>N</td><td>N</td><td>N</td><td>N</td><td>N</td><td>N</td><td>Y</td><td>N</td><td>Y</td><td>N</td><td>S: SMALL BUSINESS</td><td>N</td><td>N</td><td>N</td><td>N</td><td>N</td><td>N</td><td>N</td><td>N</td><td></td><td>N</td><td>N</td><td>N</td><td>N</td><td>N</td><td>N</td><td>N</td><td>N</td><td>N</td><td>N</td><td>N</td><td>N</td><td>N</td><td>N</td><td></td><td>N</td><td>N</td><td>N</td><td>N</td><td>N</td><td>N</td><td>N</td><td>N</td><td>N</td><td>N</td><td>N</td><td>N</td><td>N</td><td>N</td><td>N</td><td>N</td><td>N</td><td>N</td><td>N</td><td>N</td><td>N</td><td>N</td><td>N</td><td>N</td><td>N</td><td>N</td><td>N</td><td>N</td><td>N</td><td>N</td><td>N</td><td>N</td><td>N</td><td>X: Not Applicable</td><td>Y: Yes</td><td>X: Not Applicable</td><td>N: No</td><td></td><td></td><td>0.0</td><td></td><td>0.0</td><td></td><td>0.0</td><td></td><td>0.0</td><td></td><td>0.0</td><td>X: Not Applicable</td><td>09/23/2006</td></tr><tr><td>c5f34300d68a74b07c2f6fea94417767</td><td>active</td><td>0.0</td><td>0.0</td><td>0.0</td><td>9700: DEPT OF DEFENSE</td><td>1700: DEPT OF THE NAVY</td><td>:</td><td>1700: DEPT OF THE NAVY</td><td>C2472: NAVAL FACILITIES ENGINEERING COM</td><td>:</td><td>:</td><td>Not Applicable</td><td>09/30/2002</td><td>09/30/2002</td><td>01/01/1900</td><td>01/01/1900</td><td>12/15/2002</td><td>IDC Indefinite Delivery Contract</td><td>:</td><td>J: Firm Fixed Price</td><td>&nbsp;</td><td>B: PLAN NOT REQUIRED </td><td>X</td><td>N: No</td><td>N: NO - SERVICE WHERE PBA IS NOT USED.</td><td></td><td>:</td><td>:</td><td>N: No</td><td>X</td><td></td><td>:</td><td></td><td>NONE: None</td><td></td><td></td><td></td><td></td><td></td><td></td><td>S: SINGLE AWARD</td><td></td><td>OAK ENVIRONMENTAL CONSULTANTS,</td><td></td><td></td><td></td><td></td><td></td><td></td><td></td><td></td><td>GREENTREE MEWS</td><td></td><td></td><td>MARLTON</td><td>NJ</td><td>08053</td><td>UNITED STATES</td><td>NJ</td><td>NJ03</td><td>NJ03</td><td></td><td></td><td>809571375</td><td>809571375</td><td></td><td></td><td>01/01/1900</td><td>01/01/1900</td><td>THE OAK GROUP INC</td><td></td><td>:</td><td></td><td>:</td><td>:</td><td></td><td></td><td></td><td>Z</td><td>Z161: MAINT-REP-ALT/FAMILY HOUSING</td><td>:</td><td>C2: CONSTRUCTION</td><td>233220: MULTIFAMILY HOUSING CONSTRUCTION</td><td>:</td><td>N: Transaction does not use GFE/GFP</td><td>:</td><td>:</td><td>U: UNKNOWN</td><td>D: NOT A BUNDLED REQUIREMENT</td><td>N: No</td><td></td><td>:</td><td>:</td><td>9700: DEPT OF DEFENSE</td><td>N6247200D6959</td><td>0</td><td></td><td>2002</td><td></td><td></td><td></td><td></td><td>A: FULL AND OPEN COMPETITION</td><td>:</td><td>4</td><td>D: </td><td>N: No</td><td>Y: YES</td><td>No</td><td></td><td>:</td><td>NONE: NO SET ASIDE USED.</td><td></td><td>:</td><td>X</td><td></td><td></td><td></td><td>0</td><td>1000000.0</td><td>N</td><td>N</td><td>N</td><td>N</td><td>N</td><td>N</td><td>N</td><td>N</td><td>N</td><td>N</td><td>N</td><td>N</td><td>N</td><td>N</td><td>N</td><td>N</td><td>N</td><td>N</td><td>N</td><td>N</td><td>N</td><td>N</td><td>N</td><td>N</td><td>N</td><td>N</td><td>N</td><td>N</td><td>N</td><td>S: SMALL BUSINESS</td><td>N</td><td>N</td><td>N</td><td>N</td><td>N</td><td>N</td><td>N</td><td>N</td><td></td><td>N</td><td>N</td><td>N</td><td>N</td><td>N</td><td>N</td><td>N</td><td>N</td><td>N</td><td>N</td><td>N</td><td>N</td><td>N</td><td>N</td><td></td><td>N</td><td>N</td><td>N</td><td>N</td><td>N</td><td>N</td><td>N</td><td>N</td><td>N</td><td>N</td><td>N</td><td>N</td><td>N</td><td>N</td><td>N</td><td>N</td><td>N</td><td>N</td><td>N</td><td>N</td><td>N</td><td>N</td><td>N</td><td>N</td><td>N</td><td>N</td><td>N</td><td>N</td><td>N</td><td>N</td><td>N</td><td>N</td><td>N</td><td>Y: Yes</td><td>X: Not Applicable</td><td>X: Not Applicable</td><td>N: No</td><td></td><td></td><td>0.0</td><td></td><td>0.0</td><td></td><td>0.0</td><td></td><td>0.0</td><td></td><td>0.0</td><td>X: Not Applicable</td><td>11/16/2008</td></tr><tr><td>c18e540e266ef038ee5057dedafa09eb</td><td>active</td><td>0.0</td><td>0.0</td><td>0.0</td><td>9700: DEPT OF DEFENSE</td><td>1700: DEPT OF THE NAVY</td><td>:</td><td>1700: DEPT OF THE NAVY</td><td>C2836: FAR EAST CONTRACTS OFFICE</td><td>:</td><td>:</td><td>Not Applicable</td><td>04/26/2002</td><td>04/26/2002</td><td>01/01/1900</td><td>01/01/1900</td><td>08/15/2002</td><td>IDC Indefinite Delivery Contract</td><td>:</td><td>J: Firm Fixed Price</td><td>&nbsp;</td><td>B: PLAN NOT REQUIRED </td><td>X</td><td>N: No</td><td>X: NOT APPLICABLE</td><td></td><td>:</td><td>:</td><td>N: No</td><td>X</td><td></td><td>:</td><td></td><td>NONE: None</td><td></td><td></td><td></td><td></td><td></td><td></td><td>S: SINGLE AWARD</td><td></td><td>TOYOTA MOTOR CORP.</td><td></td><td></td><td></td><td></td><td></td><td></td><td></td><td></td><td>1-4-18, KORAKU</td><td></td><td></td><td>BUNKYO-KU</td><td>JA</td><td>112-8</td><td></td><td>JA</td><td></td><td></td><td></td><td></td><td>691239867</td><td>690564737</td><td></td><td></td><td>01/01/1900</td><td>01/01/1900</td><td>TOYOTA MOTOR CORPORATION</td><td></td><td>:</td><td></td><td>:</td><td>:</td><td></td><td></td><td></td><td>23</td><td>2310: PASSENGER MOTOR VEHICLES</td><td>:</td><td>C2: CONSTRUCTION</td><td>441229: ALL OTHER MOTOR VEHICLE DEALERS</td><td>:</td><td>N: Transaction does not use GFE/GFP</td><td>:</td><td>A: FAR 52.223-4 INCLUDED</td><td>U: UNKNOWN</td><td>D: NOT A BUNDLED REQUIREMENT</td><td>N: No</td><td></td><td>:</td><td>:</td><td>9700: DEPT OF DEFENSE</td><td>N6283602D2206</td><td>0</td><td></td><td>2002</td><td></td><td></td><td></td><td></td><td>A: FULL AND OPEN COMPETITION</td><td>:</td><td>5</td><td>D: </td><td>N: No</td><td>N: NO</td><td>No</td><td></td><td>:</td><td>NONE: NO SET ASIDE USED.</td><td></td><td>:</td><td>X</td><td></td><td></td><td></td><td>0</td><td>0.0</td><td>N</td><td>N</td><td>N</td><td>N</td><td>N</td><td>N</td><td>N</td><td>N</td><td>N</td><td>N</td><td>N</td><td>N</td><td>N</td><td>N</td><td>N</td><td>N</td><td>N</td><td>N</td><td>N</td><td>N</td><td>N</td><td>N</td><td>N</td><td>N</td><td>N</td><td>N</td><td>N</td><td>N</td><td>N</td><td>O: OTHER THAN SMALL BUSINESS</td><td>N</td><td>N</td><td>N</td><td>N</td><td>N</td><td>N</td><td>N</td><td>N</td><td></td><td>N</td><td>N</td><td>N</td><td>N</td><td>N</td><td>N</td><td>N</td><td>N</td><td>N</td><td>N</td><td>N</td><td>N</td><td>N</td><td>N</td><td></td><td>N</td><td>N</td><td>N</td><td>N</td><td>N</td><td>N</td><td>N</td><td>N</td><td>N</td><td>N</td><td>N</td><td>N</td><td>N</td><td>N</td><td>N</td><td>N</td><td>N</td><td>N</td><td>N</td><td>N</td><td>N</td><td>N</td><td>N</td><td>N</td><td>N</td><td>N</td><td>N</td><td>N</td><td>N</td><td>N</td><td>N</td><td>N</td><td>N</td><td>X: Not Applicable</td><td>X: Not Applicable</td><td>X: Not Applicable</td><td>N: No</td><td></td><td></td><td>0.0</td><td></td><td>0.0</td><td></td><td>0.0</td><td></td><td>0.0</td><td></td><td>0.0</td><td>X: Not Applicable</td><td>11/16/2008</td></tr><tr><td>9e6f87573e066a3b40278ccd5e0257a7</td><td>active</td><td>0.0</td><td>0.0</td><td>50000000.0</td><td>9700: DEPT OF DEFENSE</td><td>1700: DEPT OF THE NAVY</td><td>:</td><td>1700: DEPT OF THE NAVY</td><td>C2477: NAVAL FACILITIES ENGINEERING COM</td><td>:</td><td>:</td><td>Not Applicable</td><td>10/01/2001</td><td>10/01/2001</td><td>01/01/1900</td><td>01/01/1900</td><td>07/15/2003</td><td>IDC Indefinite Delivery Contract</td><td>:</td><td>J: Firm Fixed Price</td><td>&nbsp;</td><td>B: PLAN NOT REQUIRED </td><td>X</td><td>N: No</td><td>N: NO - SERVICE WHERE PBA IS NOT USED.</td><td></td><td>:</td><td>:</td><td>Y: Yes</td><td>X</td><td></td><td>:</td><td></td><td>NONE: None</td><td></td><td></td><td></td><td></td><td></td><td></td><td>M: MULTIPLE AWARD</td><td></td><td>VITERI CONSTRUCTION MANAGEMENT</td><td></td><td></td><td></td><td></td><td></td><td></td><td></td><td></td><td>11841 CANON BLVD</td><td></td><td></td><td>NEWPORT NEWS</td><td>VA</td><td>23606</td><td>UNITED STATES</td><td>VA</td><td>VA01</td><td>VA01</td><td></td><td></td><td>605898824</td><td>605898824</td><td></td><td></td><td>01/01/1900</td><td>01/01/1900</td><td>VITERI CONSTRUCTION MANAGEMENT  INC.</td><td></td><td>:</td><td></td><td>:</td><td>:</td><td></td><td></td><td></td><td>Y</td><td>Y119: CONSTRUCT/OTHER ADMIN &amp; SVCS BLDGS</td><td>:</td><td>C2: CONSTRUCTION</td><td>233320: COMMERCIAL AND INSTITUTIONAL BUILDING CONSTRUCTION</td><td>:</td><td>N: Transaction does not use GFE/GFP</td><td>:</td><td>:</td><td>U: UNKNOWN</td><td>D: NOT A BUNDLED REQUIREMENT</td><td>N: No</td><td></td><td>:</td><td>:</td><td>9700: DEPT OF DEFENSE</td><td>N6247700D0212</td><td>0</td><td></td><td>2002</td><td></td><td></td><td></td><td></td><td>D: FULL AND OPEN COMPETITION AFTER EXCLUSION OF SOURCES</td><td>:</td><td>24</td><td>D: </td><td>N: No</td><td>Y: YES</td><td>No</td><td></td><td>:</td><td>8A: 8A COMPETED</td><td></td><td>:</td><td>X</td><td></td><td></td><td></td><td>0</td><td>2000000.0</td><td>N</td><td>N</td><td>Y</td><td>Y</td><td>N</td><td>N</td><td>N</td><td>N</td><td>N</td><td>N</td><td>N</td><td>N</td><td>N</td><td>N</td><td>N</td><td>N</td><td>N</td><td>N</td><td>N</td><td>N</td><td>N</td><td>N</td><td>N</td><td>N</td><td>N</td><td>N</td><td>N</td><td>N</td><td>N</td><td>S: SMALL BUSINESS</td><td>N</td><td>N</td><td>N</td><td>N</td><td>N</td><td>N</td><td>N</td><td>N</td><td></td><td>N</td><td>N</td><td>N</td><td>N</td><td>N</td><td>N</td><td>N</td><td>N</td><td>N</td><td>N</td><td>N</td><td>N</td><td>N</td><td>N</td><td></td><td>N</td><td>N</td><td>N</td><td>N</td><td>N</td><td>N</td><td>N</td><td>N</td><td>N</td><td>N</td><td>N</td><td>N</td><td>N</td><td>N</td><td>N</td><td>N</td><td>N</td><td>N</td><td>N</td><td>N</td><td>N</td><td>N</td><td>N</td><td>N</td><td>N</td><td>N</td><td>N</td><td>N</td><td>N</td><td>N</td><td>N</td><td>N</td><td>N</td><td>X: Not Applicable</td><td>X: Not Applicable</td><td>Y: Yes</td><td>N: No</td><td></td><td></td><td>0.0</td><td></td><td>0.0</td><td></td><td>0.0</td><td></td><td>0.0</td><td></td><td>0.0</td><td>X: Not Applicable</td><td>02/12/2006</td></tr><tr><td>e9f432c59b29f480d1da3f4dd83f9311</td><td>active</td><td>0.0</td><td>0.0</td><td>0.0</td><td>9700: DEPT OF DEFENSE</td><td>1700: DEPT OF THE NAVY</td><td>:</td><td>1700: DEPT OF THE NAVY</td><td>NJ30A: NAVAL REGIONAL CONTRACTING CENTE</td><td>:</td><td>:</td><td>Not Applicable</td><td>03/26/2003</td><td>03/26/2003</td><td>01/01/1900</td><td>01/01/1900</td><td>04/15/2003</td><td>IDC Indefinite Delivery Contract</td><td>:</td><td>J: Firm Fixed Price</td><td>&nbsp;</td><td>B: PLAN NOT REQUIRED </td><td>X</td><td>N: No</td><td>X: NOT APPLICABLE</td><td></td><td>:</td><td>:</td><td>N: No</td><td>X</td><td></td><td>:</td><td></td><td>NONE: None</td><td></td><td></td><td></td><td></td><td></td><td></td><td>S: SINGLE AWARD</td><td></td><td>KAMAL M AL SULTAN CO</td><td></td><td></td><td></td><td></td><td></td><td></td><td></td><td></td><td>P O BOX 665</td><td></td><td></td><td>SHUWAIKH INDUS</td><td>KU</td><td></td><td></td><td>KU</td><td></td><td></td><td></td><td></td><td>535152375</td><td>535152375</td><td></td><td></td><td>01/01/1900</td><td>01/01/1900</td><td>KAMAL M AL SULTAN CO</td><td></td><td>:</td><td></td><td>:</td><td>:</td><td></td><td></td><td></td><td>89</td><td>8945: FOOD, OILS AND FATS</td><td>:</td><td>C2: CONSTRUCTION</td><td>424410: GENERAL LINE GROCERY MERCHANT WHOLESALERS</td><td>:</td><td>N: Transaction does not use GFE/GFP</td><td>:</td><td>:</td><td>N: NO</td><td>D: NOT A BUNDLED REQUIREMENT</td><td>N: No</td><td></td><td>:</td><td>:</td><td>9700: DEPT OF DEFENSE</td><td>N4940003AE425</td><td>0</td><td></td><td>2003</td><td></td><td></td><td></td><td></td><td>A: FULL AND OPEN COMPETITION</td><td>:</td><td>3</td><td>A: </td><td>N: No</td><td>N: NO</td><td>No</td><td></td><td>SP1: SIMPLIFIED ACQUISITION</td><td>NONE: NO SET ASIDE USED.</td><td></td><td>:</td><td>X</td><td></td><td></td><td></td><td>0</td><td>0.0</td><td>N</td><td>N</td><td>N</td><td>N</td><td>N</td><td>N</td><td>N</td><td>N</td><td>N</td><td>N</td><td>N</td><td>N</td><td>N</td><td>N</td><td>N</td><td>N</td><td>N</td><td>N</td><td>N</td><td>N</td><td>N</td><td>N</td><td>N</td><td>N</td><td>N</td><td>N</td><td>N</td><td>N</td><td>N</td><td>O: OTHER THAN SMALL BUSINESS</td><td>N</td><td>N</td><td>N</td><td>N</td><td>N</td><td>N</td><td>N</td><td>N</td><td></td><td>N</td><td>N</td><td>N</td><td>N</td><td>N</td><td>N</td><td>N</td><td>N</td><td>N</td><td>N</td><td>N</td><td>N</td><td>N</td><td>N</td><td></td><td>N</td><td>N</td><td>N</td><td>N</td><td>N</td><td>N</td><td>N</td><td>N</td><td>N</td><td>N</td><td>N</td><td>N</td><td>N</td><td>N</td><td>N</td><td>N</td><td>N</td><td>N</td><td>N</td><td>N</td><td>N</td><td>N</td><td>N</td><td>N</td><td>N</td><td>N</td><td>N</td><td>N</td><td>N</td><td>N</td><td>N</td><td>N</td><td>N</td><td>X: Not Applicable</td><td>X: Not Applicable</td><td>X: Not Applicable</td><td>N: No</td><td></td><td></td><td>0.0</td><td></td><td>0.0</td><td></td><td>0.0</td><td></td><td>0.0</td><td></td><td>0.0</td><td>X: Not Applicable</td><td>11/16/2008</td></tr></table></div>\n",
       "    <br />(rows: 5, time: 1.6s,    93GB processed, job: job_nBwQHKanq9PbypVCsB7JEXHY3GY)<br />\n",
       "    <script>\n",
       "\n",
       "      require.config({\n",
       "        paths: {\n",
       "          d3: '//cdnjs.cloudflare.com/ajax/libs/d3/3.4.13/d3',\n",
       "          plotly: 'https://cdn.plot.ly/plotly-1.5.1.min.js?noext',\n",
       "          jquery: '//ajax.googleapis.com/ajax/libs/jquery/2.0.0/jquery.min'\n",
       "        },\n",
       "        map: {\n",
       "          '*': {\n",
       "            datalab: 'nbextensions/gcpdatalab'\n",
       "          }\n",
       "        },\n",
       "        shim: {\n",
       "          plotly: {\n",
       "            deps: ['d3', 'jquery'],\n",
       "            exports: 'plotly'\n",
       "          }\n",
       "        }\n",
       "      });\n",
       "\n",
       "      require(['datalab/charting', 'datalab/element!8_149831096806', 'base/js/events',\n",
       "          'datalab/style!/nbextensions/gcpdatalab/charting.css'],\n",
       "        function(charts, dom, events) {\n",
       "          charts.render('gcharts', dom, events, 'table', [], {\"rows\": [{\"c\": [{\"v\": \"f6020a9fe79d606e60f83102eb4ce222\"}, {\"v\": \"active\"}, {\"v\": 0.0}, {\"v\": 0.0}, {\"v\": -684.0}, {\"v\": \"9700: DEPT OF DEFENSE\"}, {\"v\": \"1700: DEPT OF THE NAVY\"}, {\"v\": \":\"}, {\"v\": \"1700: DEPT OF THE NAVY\"}, {\"v\": \"N62467: NAVY FACILITIES ENGINEERING COMMAND\"}, {\"v\": \":\"}, {\"v\": \":\"}, {\"v\": \"Not Applicable\"}, {\"v\": \"09/30/2002\"}, {\"v\": \"09/30/2002\"}, {\"v\": \"01/01/1900\"}, {\"v\": \"01/01/1900\"}, {\"v\": \"01/01/1900\"}, {\"v\": \"IDC Indefinite Delivery Contract\"}, {\"v\": \":\"}, {\"v\": \"NO: Not Reported\"}, {\"v\": null}, {\"v\": \":\"}, {\"v\": \"X\"}, {\"v\": \"N: No\"}, {\"v\": \"N: NO - SERVICE WHERE PBA IS NOT USED.\"}, {\"v\": \"\"}, {\"v\": \":\"}, {\"v\": \":\"}, {\"v\": \":\"}, {\"v\": \"X\"}, {\"v\": \"\"}, {\"v\": \":\"}, {\"v\": \"\"}, {\"v\": \":\"}, {\"v\": \"\"}, {\"v\": \"\"}, {\"v\": \"\"}, {\"v\": \"\"}, {\"v\": \"\"}, {\"v\": \"\"}, {\"v\": \"S: SINGLE AWARD\"}, {\"v\": \"\"}, {\"v\": \"NAVALES ENTERPRISES INCORPORATED\"}, {\"v\": \"\"}, {\"v\": \"\"}, {\"v\": \"\"}, {\"v\": \"\"}, {\"v\": \"\"}, {\"v\": \"\"}, {\"v\": \"\"}, {\"v\": \"\"}, {\"v\": \"115 EAST TRAVIS STREET SUITE 1018\"}, {\"v\": \"\"}, {\"v\": \"\"}, {\"v\": \"SAN ANTONIO\"}, {\"v\": \"TX\"}, {\"v\": \"782051611\"}, {\"v\": \"UNITED STATES\"}, {\"v\": \"TX\"}, {\"v\": \"TX20\"}, {\"v\": \"TX20\"}, {\"v\": \"1545647280000PR\"}, {\"v\": \"782051611\"}, {\"v\": \"154564728\"}, {\"v\": \"154564728\"}, {\"v\": \"\"}, {\"v\": \"\"}, {\"v\": \"12/04/2001\"}, {\"v\": \"08/10/2005\"}, {\"v\": \"NAVALES ENTERPRISES  INC.\"}, {\"v\": \"\"}, {\"v\": \":\"}, {\"v\": \"\"}, {\"v\": \":\"}, {\"v\": \":\"}, {\"v\": \"\"}, {\"v\": \"\"}, {\"v\": \"\"}, {\"v\": \"\"}, {\"v\": \":\"}, {\"v\": \":\"}, {\"v\": \":\"}, {\"v\": \":\"}, {\"v\": \":\"}, {\"v\": \"N: Transaction does not use GFE/GFP\"}, {\"v\": \":\"}, {\"v\": \":\"}, {\"v\": \":\"}, {\"v\": \"D: NOT A BUNDLED REQUIREMENT\"}, {\"v\": \"N: No\"}, {\"v\": \"\"}, {\"v\": \":\"}, {\"v\": \":\"}, {\"v\": \"9700: DEPT OF DEFENSE\"}, {\"v\": \"N6246701D3212\"}, {\"v\": \"P00003\"}, {\"v\": \"\"}, {\"v\": 2002}, {\"v\": \"\"}, {\"v\": \"\"}, {\"v\": \"\"}, {\"v\": \"\"}, {\"v\": \"B: NOT AVAILABLE FOR COMPETITION\"}, {\"v\": \"OTH: AUTHORIZED BY STATUTE\"}, {\"v\": 1}, {\"v\": \"D: \"}, {\"v\": \"N: No\"}, {\"v\": \"N: NO\"}, {\"v\": \"No\"}, {\"v\": \"\"}, {\"v\": \"NP: NEGOTIATED PROPOSAL/QUOTE\"}, {\"v\": \"NONE: NO SET ASIDE USED.\"}, {\"v\": \"\"}, {\"v\": \"NONE: NO PREFERENCE USED\"}, {\"v\": \"X\"}, {\"v\": \"\"}, {\"v\": \"\"}, {\"v\": \"\"}, {\"v\": 80}, {\"v\": 3500000.0}, {\"v\": \"N\"}, {\"v\": \"Y\"}, {\"v\": \"N\"}, {\"v\": \"N\"}, {\"v\": \"N\"}, {\"v\": \"N\"}, {\"v\": \"N\"}, {\"v\": \"Y\"}, {\"v\": \"N\"}, {\"v\": \"N\"}, {\"v\": \"N\"}, {\"v\": \"N\"}, {\"v\": \"N\"}, {\"v\": \"N\"}, {\"v\": \"N\"}, {\"v\": \"Y\"}, {\"v\": \"N\"}, {\"v\": \"N\"}, {\"v\": \"N\"}, {\"v\": \"N\"}, {\"v\": \"N\"}, {\"v\": \"N\"}, {\"v\": \"N\"}, {\"v\": \"N\"}, {\"v\": \"N\"}, {\"v\": \"Y\"}, {\"v\": \"N\"}, {\"v\": \"Y\"}, {\"v\": \"N\"}, {\"v\": \"S: SMALL BUSINESS\"}, {\"v\": \"N\"}, {\"v\": \"N\"}, {\"v\": \"N\"}, {\"v\": \"N\"}, {\"v\": \"N\"}, {\"v\": \"N\"}, {\"v\": \"N\"}, {\"v\": \"N\"}, {\"v\": \"\"}, {\"v\": \"N\"}, {\"v\": \"N\"}, {\"v\": \"N\"}, {\"v\": \"N\"}, {\"v\": \"N\"}, {\"v\": \"N\"}, {\"v\": \"N\"}, {\"v\": \"N\"}, {\"v\": \"N\"}, {\"v\": \"N\"}, {\"v\": \"N\"}, {\"v\": \"N\"}, {\"v\": \"N\"}, {\"v\": \"N\"}, {\"v\": \"\"}, {\"v\": \"N\"}, {\"v\": \"N\"}, {\"v\": \"N\"}, {\"v\": \"N\"}, {\"v\": \"N\"}, {\"v\": \"N\"}, {\"v\": \"N\"}, {\"v\": \"N\"}, {\"v\": \"N\"}, {\"v\": \"N\"}, {\"v\": \"N\"}, {\"v\": \"N\"}, {\"v\": \"N\"}, {\"v\": \"N\"}, {\"v\": \"N\"}, {\"v\": \"N\"}, {\"v\": \"N\"}, {\"v\": \"N\"}, {\"v\": \"N\"}, {\"v\": \"N\"}, {\"v\": \"N\"}, {\"v\": \"N\"}, {\"v\": \"N\"}, {\"v\": \"N\"}, {\"v\": \"N\"}, {\"v\": \"N\"}, {\"v\": \"N\"}, {\"v\": \"N\"}, {\"v\": \"N\"}, {\"v\": \"N\"}, {\"v\": \"N\"}, {\"v\": \"N\"}, {\"v\": \"N\"}, {\"v\": \"X: Not Applicable\"}, {\"v\": \"Y: Yes\"}, {\"v\": \"X: Not Applicable\"}, {\"v\": \"N: No\"}, {\"v\": \"\"}, {\"v\": \"\"}, {\"v\": 0.0}, {\"v\": \"\"}, {\"v\": 0.0}, {\"v\": \"\"}, {\"v\": 0.0}, {\"v\": \"\"}, {\"v\": 0.0}, {\"v\": \"\"}, {\"v\": 0.0}, {\"v\": \"X: Not Applicable\"}, {\"v\": \"09/23/2006\"}]}, {\"c\": [{\"v\": \"c5f34300d68a74b07c2f6fea94417767\"}, {\"v\": \"active\"}, {\"v\": 0.0}, {\"v\": 0.0}, {\"v\": 0.0}, {\"v\": \"9700: DEPT OF DEFENSE\"}, {\"v\": \"1700: DEPT OF THE NAVY\"}, {\"v\": \":\"}, {\"v\": \"1700: DEPT OF THE NAVY\"}, {\"v\": \"C2472: NAVAL FACILITIES ENGINEERING COM\"}, {\"v\": \":\"}, {\"v\": \":\"}, {\"v\": \"Not Applicable\"}, {\"v\": \"09/30/2002\"}, {\"v\": \"09/30/2002\"}, {\"v\": \"01/01/1900\"}, {\"v\": \"01/01/1900\"}, {\"v\": \"12/15/2002\"}, {\"v\": \"IDC Indefinite Delivery Contract\"}, {\"v\": \":\"}, {\"v\": \"J: Firm Fixed Price\"}, {\"v\": null}, {\"v\": \"B: PLAN NOT REQUIRED \"}, {\"v\": \"X\"}, {\"v\": \"N: No\"}, {\"v\": \"N: NO - SERVICE WHERE PBA IS NOT USED.\"}, {\"v\": \"\"}, {\"v\": \":\"}, {\"v\": \":\"}, {\"v\": \"N: No\"}, {\"v\": \"X\"}, {\"v\": \"\"}, {\"v\": \":\"}, {\"v\": \"\"}, {\"v\": \"NONE: None\"}, {\"v\": \"\"}, {\"v\": \"\"}, {\"v\": \"\"}, {\"v\": \"\"}, {\"v\": \"\"}, {\"v\": \"\"}, {\"v\": \"S: SINGLE AWARD\"}, {\"v\": \"\"}, {\"v\": \"OAK ENVIRONMENTAL CONSULTANTS,\"}, {\"v\": \"\"}, {\"v\": \"\"}, {\"v\": \"\"}, {\"v\": \"\"}, {\"v\": \"\"}, {\"v\": \"\"}, {\"v\": \"\"}, {\"v\": \"\"}, {\"v\": \"GREENTREE MEWS\"}, {\"v\": \"\"}, {\"v\": \"\"}, {\"v\": \"MARLTON\"}, {\"v\": \"NJ\"}, {\"v\": \"08053\"}, {\"v\": \"UNITED STATES\"}, {\"v\": \"NJ\"}, {\"v\": \"NJ03\"}, {\"v\": \"NJ03\"}, {\"v\": \"\"}, {\"v\": \"\"}, {\"v\": \"809571375\"}, {\"v\": \"809571375\"}, {\"v\": \"\"}, {\"v\": \"\"}, {\"v\": \"01/01/1900\"}, {\"v\": \"01/01/1900\"}, {\"v\": \"THE OAK GROUP INC\"}, {\"v\": \"\"}, {\"v\": \":\"}, {\"v\": \"\"}, {\"v\": \":\"}, {\"v\": \":\"}, {\"v\": \"\"}, {\"v\": \"\"}, {\"v\": \"\"}, {\"v\": \"Z\"}, {\"v\": \"Z161: MAINT-REP-ALT/FAMILY HOUSING\"}, {\"v\": \":\"}, {\"v\": \"C2: CONSTRUCTION\"}, {\"v\": \"233220: MULTIFAMILY HOUSING CONSTRUCTION\"}, {\"v\": \":\"}, {\"v\": \"N: Transaction does not use GFE/GFP\"}, {\"v\": \":\"}, {\"v\": \":\"}, {\"v\": \"U: UNKNOWN\"}, {\"v\": \"D: NOT A BUNDLED REQUIREMENT\"}, {\"v\": \"N: No\"}, {\"v\": \"\"}, {\"v\": \":\"}, {\"v\": \":\"}, {\"v\": \"9700: DEPT OF DEFENSE\"}, {\"v\": \"N6247200D6959\"}, {\"v\": \"0\"}, {\"v\": \"\"}, {\"v\": 2002}, {\"v\": \"\"}, {\"v\": \"\"}, {\"v\": \"\"}, {\"v\": \"\"}, {\"v\": \"A: FULL AND OPEN COMPETITION\"}, {\"v\": \":\"}, {\"v\": 4}, {\"v\": \"D: \"}, {\"v\": \"N: No\"}, {\"v\": \"Y: YES\"}, {\"v\": \"No\"}, {\"v\": \"\"}, {\"v\": \":\"}, {\"v\": \"NONE: NO SET ASIDE USED.\"}, {\"v\": \"\"}, {\"v\": \":\"}, {\"v\": \"X\"}, {\"v\": \"\"}, {\"v\": \"\"}, {\"v\": \"\"}, {\"v\": 0}, {\"v\": 1000000.0}, {\"v\": \"N\"}, {\"v\": \"N\"}, {\"v\": \"N\"}, {\"v\": \"N\"}, {\"v\": \"N\"}, {\"v\": \"N\"}, {\"v\": \"N\"}, {\"v\": \"N\"}, {\"v\": \"N\"}, {\"v\": \"N\"}, {\"v\": \"N\"}, {\"v\": \"N\"}, {\"v\": \"N\"}, {\"v\": \"N\"}, {\"v\": \"N\"}, {\"v\": \"N\"}, {\"v\": \"N\"}, {\"v\": \"N\"}, {\"v\": \"N\"}, {\"v\": \"N\"}, {\"v\": \"N\"}, {\"v\": \"N\"}, {\"v\": \"N\"}, {\"v\": \"N\"}, {\"v\": \"N\"}, {\"v\": \"N\"}, {\"v\": \"N\"}, {\"v\": \"N\"}, {\"v\": \"N\"}, {\"v\": \"S: SMALL BUSINESS\"}, {\"v\": \"N\"}, {\"v\": \"N\"}, {\"v\": \"N\"}, {\"v\": \"N\"}, {\"v\": \"N\"}, {\"v\": \"N\"}, {\"v\": \"N\"}, {\"v\": \"N\"}, {\"v\": \"\"}, {\"v\": \"N\"}, {\"v\": \"N\"}, {\"v\": \"N\"}, {\"v\": \"N\"}, {\"v\": \"N\"}, {\"v\": \"N\"}, {\"v\": \"N\"}, {\"v\": \"N\"}, {\"v\": \"N\"}, {\"v\": \"N\"}, {\"v\": \"N\"}, {\"v\": \"N\"}, {\"v\": \"N\"}, {\"v\": \"N\"}, {\"v\": \"\"}, {\"v\": \"N\"}, {\"v\": \"N\"}, {\"v\": \"N\"}, {\"v\": \"N\"}, {\"v\": \"N\"}, {\"v\": \"N\"}, {\"v\": \"N\"}, {\"v\": \"N\"}, {\"v\": \"N\"}, {\"v\": \"N\"}, {\"v\": \"N\"}, {\"v\": \"N\"}, {\"v\": \"N\"}, {\"v\": \"N\"}, {\"v\": \"N\"}, {\"v\": \"N\"}, {\"v\": \"N\"}, {\"v\": \"N\"}, {\"v\": \"N\"}, {\"v\": \"N\"}, {\"v\": \"N\"}, {\"v\": \"N\"}, {\"v\": \"N\"}, {\"v\": \"N\"}, {\"v\": \"N\"}, {\"v\": \"N\"}, {\"v\": \"N\"}, {\"v\": \"N\"}, {\"v\": \"N\"}, {\"v\": \"N\"}, {\"v\": \"N\"}, {\"v\": \"N\"}, {\"v\": \"N\"}, {\"v\": \"Y: Yes\"}, {\"v\": \"X: Not Applicable\"}, {\"v\": \"X: Not Applicable\"}, {\"v\": \"N: No\"}, {\"v\": \"\"}, {\"v\": \"\"}, {\"v\": 0.0}, {\"v\": \"\"}, {\"v\": 0.0}, {\"v\": \"\"}, {\"v\": 0.0}, {\"v\": \"\"}, {\"v\": 0.0}, {\"v\": \"\"}, {\"v\": 0.0}, {\"v\": \"X: Not Applicable\"}, {\"v\": \"11/16/2008\"}]}, {\"c\": [{\"v\": \"c18e540e266ef038ee5057dedafa09eb\"}, {\"v\": \"active\"}, {\"v\": 0.0}, {\"v\": 0.0}, {\"v\": 0.0}, {\"v\": \"9700: DEPT OF DEFENSE\"}, {\"v\": \"1700: DEPT OF THE NAVY\"}, {\"v\": \":\"}, {\"v\": \"1700: DEPT OF THE NAVY\"}, {\"v\": \"C2836: FAR EAST CONTRACTS OFFICE\"}, {\"v\": \":\"}, {\"v\": \":\"}, {\"v\": \"Not Applicable\"}, {\"v\": \"04/26/2002\"}, {\"v\": \"04/26/2002\"}, {\"v\": \"01/01/1900\"}, {\"v\": \"01/01/1900\"}, {\"v\": \"08/15/2002\"}, {\"v\": \"IDC Indefinite Delivery Contract\"}, {\"v\": \":\"}, {\"v\": \"J: Firm Fixed Price\"}, {\"v\": null}, {\"v\": \"B: PLAN NOT REQUIRED \"}, {\"v\": \"X\"}, {\"v\": \"N: No\"}, {\"v\": \"X: NOT APPLICABLE\"}, {\"v\": \"\"}, {\"v\": \":\"}, {\"v\": \":\"}, {\"v\": \"N: No\"}, {\"v\": \"X\"}, {\"v\": \"\"}, {\"v\": \":\"}, {\"v\": \"\"}, {\"v\": \"NONE: None\"}, {\"v\": \"\"}, {\"v\": \"\"}, {\"v\": \"\"}, {\"v\": \"\"}, {\"v\": \"\"}, {\"v\": \"\"}, {\"v\": \"S: SINGLE AWARD\"}, {\"v\": \"\"}, {\"v\": \"TOYOTA MOTOR CORP.\"}, {\"v\": \"\"}, {\"v\": \"\"}, {\"v\": \"\"}, {\"v\": \"\"}, {\"v\": \"\"}, {\"v\": \"\"}, {\"v\": \"\"}, {\"v\": \"\"}, {\"v\": \"1-4-18, KORAKU\"}, {\"v\": \"\"}, {\"v\": \"\"}, {\"v\": \"BUNKYO-KU\"}, {\"v\": \"JA\"}, {\"v\": \"112-8\"}, {\"v\": \"\"}, {\"v\": \"JA\"}, {\"v\": \"\"}, {\"v\": \"\"}, {\"v\": \"\"}, {\"v\": \"\"}, {\"v\": \"691239867\"}, {\"v\": \"690564737\"}, {\"v\": \"\"}, {\"v\": \"\"}, {\"v\": \"01/01/1900\"}, {\"v\": \"01/01/1900\"}, {\"v\": \"TOYOTA MOTOR CORPORATION\"}, {\"v\": \"\"}, {\"v\": \":\"}, {\"v\": \"\"}, {\"v\": \":\"}, {\"v\": \":\"}, {\"v\": \"\"}, {\"v\": \"\"}, {\"v\": \"\"}, {\"v\": \"23\"}, {\"v\": \"2310: PASSENGER MOTOR VEHICLES\"}, {\"v\": \":\"}, {\"v\": \"C2: CONSTRUCTION\"}, {\"v\": \"441229: ALL OTHER MOTOR VEHICLE DEALERS\"}, {\"v\": \":\"}, {\"v\": \"N: Transaction does not use GFE/GFP\"}, {\"v\": \":\"}, {\"v\": \"A: FAR 52.223-4 INCLUDED\"}, {\"v\": \"U: UNKNOWN\"}, {\"v\": \"D: NOT A BUNDLED REQUIREMENT\"}, {\"v\": \"N: No\"}, {\"v\": \"\"}, {\"v\": \":\"}, {\"v\": \":\"}, {\"v\": \"9700: DEPT OF DEFENSE\"}, {\"v\": \"N6283602D2206\"}, {\"v\": \"0\"}, {\"v\": \"\"}, {\"v\": 2002}, {\"v\": \"\"}, {\"v\": \"\"}, {\"v\": \"\"}, {\"v\": \"\"}, {\"v\": \"A: FULL AND OPEN COMPETITION\"}, {\"v\": \":\"}, {\"v\": 5}, {\"v\": \"D: \"}, {\"v\": \"N: No\"}, {\"v\": \"N: NO\"}, {\"v\": \"No\"}, {\"v\": \"\"}, {\"v\": \":\"}, {\"v\": \"NONE: NO SET ASIDE USED.\"}, {\"v\": \"\"}, {\"v\": \":\"}, {\"v\": \"X\"}, {\"v\": \"\"}, {\"v\": \"\"}, {\"v\": \"\"}, {\"v\": 0}, {\"v\": 0.0}, {\"v\": \"N\"}, {\"v\": \"N\"}, {\"v\": \"N\"}, {\"v\": \"N\"}, {\"v\": \"N\"}, {\"v\": \"N\"}, {\"v\": \"N\"}, {\"v\": \"N\"}, {\"v\": \"N\"}, {\"v\": \"N\"}, {\"v\": \"N\"}, {\"v\": \"N\"}, {\"v\": \"N\"}, {\"v\": \"N\"}, {\"v\": \"N\"}, {\"v\": \"N\"}, {\"v\": \"N\"}, {\"v\": \"N\"}, {\"v\": \"N\"}, {\"v\": \"N\"}, {\"v\": \"N\"}, {\"v\": \"N\"}, {\"v\": \"N\"}, {\"v\": \"N\"}, {\"v\": \"N\"}, {\"v\": \"N\"}, {\"v\": \"N\"}, {\"v\": \"N\"}, {\"v\": \"N\"}, {\"v\": \"O: OTHER THAN SMALL BUSINESS\"}, {\"v\": \"N\"}, {\"v\": \"N\"}, {\"v\": \"N\"}, {\"v\": \"N\"}, {\"v\": \"N\"}, {\"v\": \"N\"}, {\"v\": \"N\"}, {\"v\": \"N\"}, {\"v\": \"\"}, {\"v\": \"N\"}, {\"v\": \"N\"}, {\"v\": \"N\"}, {\"v\": \"N\"}, {\"v\": \"N\"}, {\"v\": \"N\"}, {\"v\": \"N\"}, {\"v\": \"N\"}, {\"v\": \"N\"}, {\"v\": \"N\"}, {\"v\": \"N\"}, {\"v\": \"N\"}, {\"v\": \"N\"}, {\"v\": \"N\"}, {\"v\": \"\"}, {\"v\": \"N\"}, {\"v\": \"N\"}, {\"v\": \"N\"}, {\"v\": \"N\"}, {\"v\": \"N\"}, {\"v\": \"N\"}, {\"v\": \"N\"}, {\"v\": \"N\"}, {\"v\": \"N\"}, {\"v\": \"N\"}, {\"v\": \"N\"}, {\"v\": \"N\"}, {\"v\": \"N\"}, {\"v\": \"N\"}, {\"v\": \"N\"}, {\"v\": \"N\"}, {\"v\": \"N\"}, {\"v\": \"N\"}, {\"v\": \"N\"}, {\"v\": \"N\"}, {\"v\": \"N\"}, {\"v\": \"N\"}, {\"v\": \"N\"}, {\"v\": \"N\"}, {\"v\": \"N\"}, {\"v\": \"N\"}, {\"v\": \"N\"}, {\"v\": \"N\"}, {\"v\": \"N\"}, {\"v\": \"N\"}, {\"v\": \"N\"}, {\"v\": \"N\"}, {\"v\": \"N\"}, {\"v\": \"X: Not Applicable\"}, {\"v\": \"X: Not Applicable\"}, {\"v\": \"X: Not Applicable\"}, {\"v\": \"N: No\"}, {\"v\": \"\"}, {\"v\": \"\"}, {\"v\": 0.0}, {\"v\": \"\"}, {\"v\": 0.0}, {\"v\": \"\"}, {\"v\": 0.0}, {\"v\": \"\"}, {\"v\": 0.0}, {\"v\": \"\"}, {\"v\": 0.0}, {\"v\": \"X: Not Applicable\"}, {\"v\": \"11/16/2008\"}]}, {\"c\": [{\"v\": \"9e6f87573e066a3b40278ccd5e0257a7\"}, {\"v\": \"active\"}, {\"v\": 0.0}, {\"v\": 0.0}, {\"v\": 50000000.0}, {\"v\": \"9700: DEPT OF DEFENSE\"}, {\"v\": \"1700: DEPT OF THE NAVY\"}, {\"v\": \":\"}, {\"v\": \"1700: DEPT OF THE NAVY\"}, {\"v\": \"C2477: NAVAL FACILITIES ENGINEERING COM\"}, {\"v\": \":\"}, {\"v\": \":\"}, {\"v\": \"Not Applicable\"}, {\"v\": \"10/01/2001\"}, {\"v\": \"10/01/2001\"}, {\"v\": \"01/01/1900\"}, {\"v\": \"01/01/1900\"}, {\"v\": \"07/15/2003\"}, {\"v\": \"IDC Indefinite Delivery Contract\"}, {\"v\": \":\"}, {\"v\": \"J: Firm Fixed Price\"}, {\"v\": null}, {\"v\": \"B: PLAN NOT REQUIRED \"}, {\"v\": \"X\"}, {\"v\": \"N: No\"}, {\"v\": \"N: NO - SERVICE WHERE PBA IS NOT USED.\"}, {\"v\": \"\"}, {\"v\": \":\"}, {\"v\": \":\"}, {\"v\": \"Y: Yes\"}, {\"v\": \"X\"}, {\"v\": \"\"}, {\"v\": \":\"}, {\"v\": \"\"}, {\"v\": \"NONE: None\"}, {\"v\": \"\"}, {\"v\": \"\"}, {\"v\": \"\"}, {\"v\": \"\"}, {\"v\": \"\"}, {\"v\": \"\"}, {\"v\": \"M: MULTIPLE AWARD\"}, {\"v\": \"\"}, {\"v\": \"VITERI CONSTRUCTION MANAGEMENT\"}, {\"v\": \"\"}, {\"v\": \"\"}, {\"v\": \"\"}, {\"v\": \"\"}, {\"v\": \"\"}, {\"v\": \"\"}, {\"v\": \"\"}, {\"v\": \"\"}, {\"v\": \"11841 CANON BLVD\"}, {\"v\": \"\"}, {\"v\": \"\"}, {\"v\": \"NEWPORT NEWS\"}, {\"v\": \"VA\"}, {\"v\": \"23606\"}, {\"v\": \"UNITED STATES\"}, {\"v\": \"VA\"}, {\"v\": \"VA01\"}, {\"v\": \"VA01\"}, {\"v\": \"\"}, {\"v\": \"\"}, {\"v\": \"605898824\"}, {\"v\": \"605898824\"}, {\"v\": \"\"}, {\"v\": \"\"}, {\"v\": \"01/01/1900\"}, {\"v\": \"01/01/1900\"}, {\"v\": \"VITERI CONSTRUCTION MANAGEMENT  INC.\"}, {\"v\": \"\"}, {\"v\": \":\"}, {\"v\": \"\"}, {\"v\": \":\"}, {\"v\": \":\"}, {\"v\": \"\"}, {\"v\": \"\"}, {\"v\": \"\"}, {\"v\": \"Y\"}, {\"v\": \"Y119: CONSTRUCT/OTHER ADMIN & SVCS BLDGS\"}, {\"v\": \":\"}, {\"v\": \"C2: CONSTRUCTION\"}, {\"v\": \"233320: COMMERCIAL AND INSTITUTIONAL BUILDING CONSTRUCTION\"}, {\"v\": \":\"}, {\"v\": \"N: Transaction does not use GFE/GFP\"}, {\"v\": \":\"}, {\"v\": \":\"}, {\"v\": \"U: UNKNOWN\"}, {\"v\": \"D: NOT A BUNDLED REQUIREMENT\"}, {\"v\": \"N: No\"}, {\"v\": \"\"}, {\"v\": \":\"}, {\"v\": \":\"}, {\"v\": \"9700: DEPT OF DEFENSE\"}, {\"v\": \"N6247700D0212\"}, {\"v\": \"0\"}, {\"v\": \"\"}, {\"v\": 2002}, {\"v\": \"\"}, {\"v\": \"\"}, {\"v\": \"\"}, {\"v\": \"\"}, {\"v\": \"D: FULL AND OPEN COMPETITION AFTER EXCLUSION OF SOURCES\"}, {\"v\": \":\"}, {\"v\": 24}, {\"v\": \"D: \"}, {\"v\": \"N: No\"}, {\"v\": \"Y: YES\"}, {\"v\": \"No\"}, {\"v\": \"\"}, {\"v\": \":\"}, {\"v\": \"8A: 8A COMPETED\"}, {\"v\": \"\"}, {\"v\": \":\"}, {\"v\": \"X\"}, {\"v\": \"\"}, {\"v\": \"\"}, {\"v\": \"\"}, {\"v\": 0}, {\"v\": 2000000.0}, {\"v\": \"N\"}, {\"v\": \"N\"}, {\"v\": \"Y\"}, {\"v\": \"Y\"}, {\"v\": \"N\"}, {\"v\": \"N\"}, {\"v\": \"N\"}, {\"v\": \"N\"}, {\"v\": \"N\"}, {\"v\": \"N\"}, {\"v\": \"N\"}, {\"v\": \"N\"}, {\"v\": \"N\"}, {\"v\": \"N\"}, {\"v\": \"N\"}, {\"v\": \"N\"}, {\"v\": \"N\"}, {\"v\": \"N\"}, {\"v\": \"N\"}, {\"v\": \"N\"}, {\"v\": \"N\"}, {\"v\": \"N\"}, {\"v\": \"N\"}, {\"v\": \"N\"}, {\"v\": \"N\"}, {\"v\": \"N\"}, {\"v\": \"N\"}, {\"v\": \"N\"}, {\"v\": \"N\"}, {\"v\": \"S: SMALL BUSINESS\"}, {\"v\": \"N\"}, {\"v\": \"N\"}, {\"v\": \"N\"}, {\"v\": \"N\"}, {\"v\": \"N\"}, {\"v\": \"N\"}, {\"v\": \"N\"}, {\"v\": \"N\"}, {\"v\": \"\"}, {\"v\": \"N\"}, {\"v\": \"N\"}, {\"v\": \"N\"}, {\"v\": \"N\"}, {\"v\": \"N\"}, {\"v\": \"N\"}, {\"v\": \"N\"}, {\"v\": \"N\"}, {\"v\": \"N\"}, {\"v\": \"N\"}, {\"v\": \"N\"}, {\"v\": \"N\"}, {\"v\": \"N\"}, {\"v\": \"N\"}, {\"v\": \"\"}, {\"v\": \"N\"}, {\"v\": \"N\"}, {\"v\": \"N\"}, {\"v\": \"N\"}, {\"v\": \"N\"}, {\"v\": \"N\"}, {\"v\": \"N\"}, {\"v\": \"N\"}, {\"v\": \"N\"}, {\"v\": \"N\"}, {\"v\": \"N\"}, {\"v\": \"N\"}, {\"v\": \"N\"}, {\"v\": \"N\"}, {\"v\": \"N\"}, {\"v\": \"N\"}, {\"v\": \"N\"}, {\"v\": \"N\"}, {\"v\": \"N\"}, {\"v\": \"N\"}, {\"v\": \"N\"}, {\"v\": \"N\"}, {\"v\": \"N\"}, {\"v\": \"N\"}, {\"v\": \"N\"}, {\"v\": \"N\"}, {\"v\": \"N\"}, {\"v\": \"N\"}, {\"v\": \"N\"}, {\"v\": \"N\"}, {\"v\": \"N\"}, {\"v\": \"N\"}, {\"v\": \"N\"}, {\"v\": \"X: Not Applicable\"}, {\"v\": \"X: Not Applicable\"}, {\"v\": \"Y: Yes\"}, {\"v\": \"N: No\"}, {\"v\": \"\"}, {\"v\": \"\"}, {\"v\": 0.0}, {\"v\": \"\"}, {\"v\": 0.0}, {\"v\": \"\"}, {\"v\": 0.0}, {\"v\": \"\"}, {\"v\": 0.0}, {\"v\": \"\"}, {\"v\": 0.0}, {\"v\": \"X: Not Applicable\"}, {\"v\": \"02/12/2006\"}]}, {\"c\": [{\"v\": \"e9f432c59b29f480d1da3f4dd83f9311\"}, {\"v\": \"active\"}, {\"v\": 0.0}, {\"v\": 0.0}, {\"v\": 0.0}, {\"v\": \"9700: DEPT OF DEFENSE\"}, {\"v\": \"1700: DEPT OF THE NAVY\"}, {\"v\": \":\"}, {\"v\": \"1700: DEPT OF THE NAVY\"}, {\"v\": \"NJ30A: NAVAL REGIONAL CONTRACTING CENTE\"}, {\"v\": \":\"}, {\"v\": \":\"}, {\"v\": \"Not Applicable\"}, {\"v\": \"03/26/2003\"}, {\"v\": \"03/26/2003\"}, {\"v\": \"01/01/1900\"}, {\"v\": \"01/01/1900\"}, {\"v\": \"04/15/2003\"}, {\"v\": \"IDC Indefinite Delivery Contract\"}, {\"v\": \":\"}, {\"v\": \"J: Firm Fixed Price\"}, {\"v\": null}, {\"v\": \"B: PLAN NOT REQUIRED \"}, {\"v\": \"X\"}, {\"v\": \"N: No\"}, {\"v\": \"X: NOT APPLICABLE\"}, {\"v\": \"\"}, {\"v\": \":\"}, {\"v\": \":\"}, {\"v\": \"N: No\"}, {\"v\": \"X\"}, {\"v\": \"\"}, {\"v\": \":\"}, {\"v\": \"\"}, {\"v\": \"NONE: None\"}, {\"v\": \"\"}, {\"v\": \"\"}, {\"v\": \"\"}, {\"v\": \"\"}, {\"v\": \"\"}, {\"v\": \"\"}, {\"v\": \"S: SINGLE AWARD\"}, {\"v\": \"\"}, {\"v\": \"KAMAL M AL SULTAN CO\"}, {\"v\": \"\"}, {\"v\": \"\"}, {\"v\": \"\"}, {\"v\": \"\"}, {\"v\": \"\"}, {\"v\": \"\"}, {\"v\": \"\"}, {\"v\": \"\"}, {\"v\": \"P O BOX 665\"}, {\"v\": \"\"}, {\"v\": \"\"}, {\"v\": \"SHUWAIKH INDUS\"}, {\"v\": \"KU\"}, {\"v\": \"\"}, {\"v\": \"\"}, {\"v\": \"KU\"}, {\"v\": \"\"}, {\"v\": \"\"}, {\"v\": \"\"}, {\"v\": \"\"}, {\"v\": \"535152375\"}, {\"v\": \"535152375\"}, {\"v\": \"\"}, {\"v\": \"\"}, {\"v\": \"01/01/1900\"}, {\"v\": \"01/01/1900\"}, {\"v\": \"KAMAL M AL SULTAN CO\"}, {\"v\": \"\"}, {\"v\": \":\"}, {\"v\": \"\"}, {\"v\": \":\"}, {\"v\": \":\"}, {\"v\": \"\"}, {\"v\": \"\"}, {\"v\": \"\"}, {\"v\": \"89\"}, {\"v\": \"8945: FOOD, OILS AND FATS\"}, {\"v\": \":\"}, {\"v\": \"C2: CONSTRUCTION\"}, {\"v\": \"424410: GENERAL LINE GROCERY MERCHANT WHOLESALERS\"}, {\"v\": \":\"}, {\"v\": \"N: Transaction does not use GFE/GFP\"}, {\"v\": \":\"}, {\"v\": \":\"}, {\"v\": \"N: NO\"}, {\"v\": \"D: NOT A BUNDLED REQUIREMENT\"}, {\"v\": \"N: No\"}, {\"v\": \"\"}, {\"v\": \":\"}, {\"v\": \":\"}, {\"v\": \"9700: DEPT OF DEFENSE\"}, {\"v\": \"N4940003AE425\"}, {\"v\": \"0\"}, {\"v\": \"\"}, {\"v\": 2003}, {\"v\": \"\"}, {\"v\": \"\"}, {\"v\": \"\"}, {\"v\": \"\"}, {\"v\": \"A: FULL AND OPEN COMPETITION\"}, {\"v\": \":\"}, {\"v\": 3}, {\"v\": \"A: \"}, {\"v\": \"N: No\"}, {\"v\": \"N: NO\"}, {\"v\": \"No\"}, {\"v\": \"\"}, {\"v\": \"SP1: SIMPLIFIED ACQUISITION\"}, {\"v\": \"NONE: NO SET ASIDE USED.\"}, {\"v\": \"\"}, {\"v\": \":\"}, {\"v\": \"X\"}, {\"v\": \"\"}, {\"v\": \"\"}, {\"v\": \"\"}, {\"v\": 0}, {\"v\": 0.0}, {\"v\": \"N\"}, {\"v\": \"N\"}, {\"v\": \"N\"}, {\"v\": \"N\"}, {\"v\": \"N\"}, {\"v\": \"N\"}, {\"v\": \"N\"}, {\"v\": \"N\"}, {\"v\": \"N\"}, {\"v\": \"N\"}, {\"v\": \"N\"}, {\"v\": \"N\"}, {\"v\": \"N\"}, {\"v\": \"N\"}, {\"v\": \"N\"}, {\"v\": \"N\"}, {\"v\": \"N\"}, {\"v\": \"N\"}, {\"v\": \"N\"}, {\"v\": \"N\"}, {\"v\": \"N\"}, {\"v\": \"N\"}, {\"v\": \"N\"}, {\"v\": \"N\"}, {\"v\": \"N\"}, {\"v\": \"N\"}, {\"v\": \"N\"}, {\"v\": \"N\"}, {\"v\": \"N\"}, {\"v\": \"O: OTHER THAN SMALL BUSINESS\"}, {\"v\": \"N\"}, {\"v\": \"N\"}, {\"v\": \"N\"}, {\"v\": \"N\"}, {\"v\": \"N\"}, {\"v\": \"N\"}, {\"v\": \"N\"}, {\"v\": \"N\"}, {\"v\": \"\"}, {\"v\": \"N\"}, {\"v\": \"N\"}, {\"v\": \"N\"}, {\"v\": \"N\"}, {\"v\": \"N\"}, {\"v\": \"N\"}, {\"v\": \"N\"}, {\"v\": \"N\"}, {\"v\": \"N\"}, {\"v\": \"N\"}, {\"v\": \"N\"}, {\"v\": \"N\"}, {\"v\": \"N\"}, {\"v\": \"N\"}, {\"v\": \"\"}, {\"v\": \"N\"}, {\"v\": \"N\"}, {\"v\": \"N\"}, {\"v\": \"N\"}, {\"v\": \"N\"}, {\"v\": \"N\"}, {\"v\": \"N\"}, {\"v\": \"N\"}, {\"v\": \"N\"}, {\"v\": \"N\"}, {\"v\": \"N\"}, {\"v\": \"N\"}, {\"v\": \"N\"}, {\"v\": \"N\"}, {\"v\": \"N\"}, {\"v\": \"N\"}, {\"v\": \"N\"}, {\"v\": \"N\"}, {\"v\": \"N\"}, {\"v\": \"N\"}, {\"v\": \"N\"}, {\"v\": \"N\"}, {\"v\": \"N\"}, {\"v\": \"N\"}, {\"v\": \"N\"}, {\"v\": \"N\"}, {\"v\": \"N\"}, {\"v\": \"N\"}, {\"v\": \"N\"}, {\"v\": \"N\"}, {\"v\": \"N\"}, {\"v\": \"N\"}, {\"v\": \"N\"}, {\"v\": \"X: Not Applicable\"}, {\"v\": \"X: Not Applicable\"}, {\"v\": \"X: Not Applicable\"}, {\"v\": \"N: No\"}, {\"v\": \"\"}, {\"v\": \"\"}, {\"v\": 0.0}, {\"v\": \"\"}, {\"v\": 0.0}, {\"v\": \"\"}, {\"v\": 0.0}, {\"v\": \"\"}, {\"v\": 0.0}, {\"v\": \"\"}, {\"v\": 0.0}, {\"v\": \"X: Not Applicable\"}, {\"v\": \"11/16/2008\"}]}], \"cols\": [{\"type\": \"string\", \"id\": \"unique_transaction_id\", \"label\": \"unique_transaction_id\"}, {\"type\": \"string\", \"id\": \"transaction_status\", \"label\": \"transaction_status\"}, {\"type\": \"number\", \"id\": \"dollarsobligated\", \"label\": \"dollarsobligated\"}, {\"type\": \"number\", \"id\": \"baseandexercisedoptionsvalue\", \"label\": \"baseandexercisedoptionsvalue\"}, {\"type\": \"number\", \"id\": \"baseandalloptionsvalue\", \"label\": \"baseandalloptionsvalue\"}, {\"type\": \"string\", \"id\": \"maj_agency_cat\", \"label\": \"maj_agency_cat\"}, {\"type\": \"string\", \"id\": \"mod_agency\", \"label\": \"mod_agency\"}, {\"type\": \"string\", \"id\": \"maj_fund_agency_cat\", \"label\": \"maj_fund_agency_cat\"}, {\"type\": \"string\", \"id\": \"contractingofficeagencyid\", \"label\": \"contractingofficeagencyid\"}, {\"type\": \"string\", \"id\": \"contractingofficeid\", \"label\": \"contractingofficeid\"}, {\"type\": \"string\", \"id\": \"fundingrequestingagencyid\", \"label\": \"fundingrequestingagencyid\"}, {\"type\": \"string\", \"id\": \"fundingrequestingofficeid\", \"label\": \"fundingrequestingofficeid\"}, {\"type\": \"string\", \"id\": \"fundedbyforeignentity\", \"label\": \"fundedbyforeignentity\"}, {\"type\": \"string\", \"id\": \"signeddate\", \"label\": \"signeddate\"}, {\"type\": \"string\", \"id\": \"effectivedate\", \"label\": \"effectivedate\"}, {\"type\": \"string\", \"id\": \"currentcompletiondate\", \"label\": \"currentcompletiondate\"}, {\"type\": \"string\", \"id\": \"ultimatecompletiondate\", \"label\": \"ultimatecompletiondate\"}, {\"type\": \"string\", \"id\": \"lastdatetoorder\", \"label\": \"lastdatetoorder\"}, {\"type\": \"string\", \"id\": \"contractactiontype\", \"label\": \"contractactiontype\"}, {\"type\": \"string\", \"id\": \"reasonformodification\", \"label\": \"reasonformodification\"}, {\"type\": \"string\", \"id\": \"typeofcontractpricing\", \"label\": \"typeofcontractpricing\"}, {\"type\": \"number\", \"id\": \"priceevaluationpercentdifference\", \"label\": \"priceevaluationpercentdifference\"}, {\"type\": \"string\", \"id\": \"subcontractplan\", \"label\": \"subcontractplan\"}, {\"type\": \"string\", \"id\": \"lettercontract\", \"label\": \"lettercontract\"}, {\"type\": \"string\", \"id\": \"multiyearcontract\", \"label\": \"multiyearcontract\"}, {\"type\": \"string\", \"id\": \"performancebasedservicecontract\", \"label\": \"performancebasedservicecontract\"}, {\"type\": \"string\", \"id\": \"majorprogramcode\", \"label\": \"majorprogramcode\"}, {\"type\": \"string\", \"id\": \"contingencyhumanitarianpeacekeepingoperation\", \"label\": \"contingencyhumanitarianpeacekeepingoperation\"}, {\"type\": \"string\", \"id\": \"contractfinancing\", \"label\": \"contractfinancing\"}, {\"type\": \"string\", \"id\": \"costorpricingdata\", \"label\": \"costorpricingdata\"}, {\"type\": \"string\", \"id\": \"costaccountingstandardsclause\", \"label\": \"costaccountingstandardsclause\"}, {\"type\": \"string\", \"id\": \"descriptionofcontractrequirement\", \"label\": \"descriptionofcontractrequirement\"}, {\"type\": \"string\", \"id\": \"purchasecardaspaymentmethod\", \"label\": \"purchasecardaspaymentmethod\"}, {\"type\": \"string\", \"id\": \"numberofactions\", \"label\": \"numberofactions\"}, {\"type\": \"string\", \"id\": \"nationalinterestactioncode\", \"label\": \"nationalinterestactioncode\"}, {\"type\": \"string\", \"id\": \"progsourceagency\", \"label\": \"progsourceagency\"}, {\"type\": \"string\", \"id\": \"progsourceaccount\", \"label\": \"progsourceaccount\"}, {\"type\": \"string\", \"id\": \"progsourcesubacct\", \"label\": \"progsourcesubacct\"}, {\"type\": \"string\", \"id\": \"account_title\", \"label\": \"account_title\"}, {\"type\": \"string\", \"id\": \"rec_flag\", \"label\": \"rec_flag\"}, {\"type\": \"string\", \"id\": \"typeofidc\", \"label\": \"typeofidc\"}, {\"type\": \"string\", \"id\": \"multipleorsingleawardidc\", \"label\": \"multipleorsingleawardidc\"}, {\"type\": \"string\", \"id\": \"programacronym\", \"label\": \"programacronym\"}, {\"type\": \"string\", \"id\": \"vendorname\", \"label\": \"vendorname\"}, {\"type\": \"string\", \"id\": \"vendoralternatename\", \"label\": \"vendoralternatename\"}, {\"type\": \"string\", \"id\": \"vendorlegalorganizationname\", \"label\": \"vendorlegalorganizationname\"}, {\"type\": \"string\", \"id\": \"vendordoingasbusinessname\", \"label\": \"vendordoingasbusinessname\"}, {\"type\": \"string\", \"id\": \"divisionname\", \"label\": \"divisionname\"}, {\"type\": \"string\", \"id\": \"divisionnumberorofficecode\", \"label\": \"divisionnumberorofficecode\"}, {\"type\": \"string\", \"id\": \"vendorenabled\", \"label\": \"vendorenabled\"}, {\"type\": \"string\", \"id\": \"vendorlocationdisableflag\", \"label\": \"vendorlocationdisableflag\"}, {\"type\": \"string\", \"id\": \"ccrexception\", \"label\": \"ccrexception\"}, {\"type\": \"string\", \"id\": \"streetaddress\", \"label\": \"streetaddress\"}, {\"type\": \"string\", \"id\": \"streetaddress2\", \"label\": \"streetaddress2\"}, {\"type\": \"string\", \"id\": \"streetaddress3\", \"label\": \"streetaddress3\"}, {\"type\": \"string\", \"id\": \"city\", \"label\": \"city\"}, {\"type\": \"string\", \"id\": \"state\", \"label\": \"state\"}, {\"type\": \"string\", \"id\": \"zipcode\", \"label\": \"zipcode\"}, {\"type\": \"string\", \"id\": \"vendorcountrycode\", \"label\": \"vendorcountrycode\"}, {\"type\": \"string\", \"id\": \"vendor_state_code\", \"label\": \"vendor_state_code\"}, {\"type\": \"string\", \"id\": \"vendor_cd\", \"label\": \"vendor_cd\"}, {\"type\": \"string\", \"id\": \"congressionaldistrict\", \"label\": \"congressionaldistrict\"}, {\"type\": \"string\", \"id\": \"vendorsitecode\", \"label\": \"vendorsitecode\"}, {\"type\": \"string\", \"id\": \"vendoralternatesitecode\", \"label\": \"vendoralternatesitecode\"}, {\"type\": \"string\", \"id\": \"dunsnumber\", \"label\": \"dunsnumber\"}, {\"type\": \"string\", \"id\": \"parentdunsnumber\", \"label\": \"parentdunsnumber\"}, {\"type\": \"string\", \"id\": \"phoneno\", \"label\": \"phoneno\"}, {\"type\": \"string\", \"id\": \"faxno\", \"label\": \"faxno\"}, {\"type\": \"string\", \"id\": \"registrationdate\", \"label\": \"registrationdate\"}, {\"type\": \"string\", \"id\": \"renewaldate\", \"label\": \"renewaldate\"}, {\"type\": \"string\", \"id\": \"mod_parent\", \"label\": \"mod_parent\"}, {\"type\": \"string\", \"id\": \"locationcode\", \"label\": \"locationcode\"}, {\"type\": \"string\", \"id\": \"statecode\", \"label\": \"statecode\"}, {\"type\": \"string\", \"id\": \"PlaceofPerformanceCity\", \"label\": \"PlaceofPerformanceCity\"}, {\"type\": \"string\", \"id\": \"pop_state_code\", \"label\": \"pop_state_code\"}, {\"type\": \"string\", \"id\": \"placeofperformancecountrycode\", \"label\": \"placeofperformancecountrycode\"}, {\"type\": \"string\", \"id\": \"placeofperformancezipcode\", \"label\": \"placeofperformancezipcode\"}, {\"type\": \"string\", \"id\": \"pop_cd\", \"label\": \"pop_cd\"}, {\"type\": \"string\", \"id\": \"placeofperformancecongressionaldistrict\", \"label\": \"placeofperformancecongressionaldistrict\"}, {\"type\": \"string\", \"id\": \"psc_cat\", \"label\": \"psc_cat\"}, {\"type\": \"string\", \"id\": \"productorservicecode\", \"label\": \"productorservicecode\"}, {\"type\": \"string\", \"id\": \"systemequipmentcode\", \"label\": \"systemequipmentcode\"}, {\"type\": \"string\", \"id\": \"claimantprogramcode\", \"label\": \"claimantprogramcode\"}, {\"type\": \"string\", \"id\": \"principalnaicscode\", \"label\": \"principalnaicscode\"}, {\"type\": \"string\", \"id\": \"informationtechnologycommercialitemcategory\", \"label\": \"informationtechnologycommercialitemcategory\"}, {\"type\": \"string\", \"id\": \"gfe_gfp\", \"label\": \"gfe_gfp\"}, {\"type\": \"string\", \"id\": \"useofepadesignatedproducts\", \"label\": \"useofepadesignatedproducts\"}, {\"type\": \"string\", \"id\": \"recoveredmaterialclauses\", \"label\": \"recoveredmaterialclauses\"}, {\"type\": \"string\", \"id\": \"seatransportation\", \"label\": \"seatransportation\"}, {\"type\": \"string\", \"id\": \"contractbundling\", \"label\": \"contractbundling\"}, {\"type\": \"string\", \"id\": \"consolidatedcontract\", \"label\": \"consolidatedcontract\"}, {\"type\": \"string\", \"id\": \"countryoforigin\", \"label\": \"countryoforigin\"}, {\"type\": \"string\", \"id\": \"placeofmanufacture\", \"label\": \"placeofmanufacture\"}, {\"type\": \"string\", \"id\": \"manufacturingorganizationtype\", \"label\": \"manufacturingorganizationtype\"}, {\"type\": \"string\", \"id\": \"agencyid\", \"label\": \"agencyid\"}, {\"type\": \"string\", \"id\": \"piid\", \"label\": \"piid\"}, {\"type\": \"string\", \"id\": \"modnumber\", \"label\": \"modnumber\"}, {\"type\": \"string\", \"id\": \"transactionnumber\", \"label\": \"transactionnumber\"}, {\"type\": \"number\", \"id\": \"fiscal_year\", \"label\": \"fiscal_year\"}, {\"type\": \"string\", \"id\": \"idvagencyid\", \"label\": \"idvagencyid\"}, {\"type\": \"string\", \"id\": \"idvpiid\", \"label\": \"idvpiid\"}, {\"type\": \"string\", \"id\": \"idvmodificationnumber\", \"label\": \"idvmodificationnumber\"}, {\"type\": \"string\", \"id\": \"solicitationid\", \"label\": \"solicitationid\"}, {\"type\": \"string\", \"id\": \"extentcompeted\", \"label\": \"extentcompeted\"}, {\"type\": \"string\", \"id\": \"reasonnotcompeted\", \"label\": \"reasonnotcompeted\"}, {\"type\": \"number\", \"id\": \"numberofoffersreceived\", \"label\": \"numberofoffersreceived\"}, {\"type\": \"string\", \"id\": \"commercialitemacquisitionprocedures\", \"label\": \"commercialitemacquisitionprocedures\"}, {\"type\": \"string\", \"id\": \"commercialitemtestprogram\", \"label\": \"commercialitemtestprogram\"}, {\"type\": \"string\", \"id\": \"smallbusinesscompetitivenessdemonstrationprogram\", \"label\": \"smallbusinesscompetitivenessdemonstrationprogram\"}, {\"type\": \"string\", \"id\": \"a76action\", \"label\": \"a76action\"}, {\"type\": \"string\", \"id\": \"competitiveprocedures\", \"label\": \"competitiveprocedures\"}, {\"type\": \"string\", \"id\": \"solicitationprocedures\", \"label\": \"solicitationprocedures\"}, {\"type\": \"string\", \"id\": \"typeofsetaside\", \"label\": \"typeofsetaside\"}, {\"type\": \"string\", \"id\": \"localareasetaside\", \"label\": \"localareasetaside\"}, {\"type\": \"string\", \"id\": \"evaluatedpreference\", \"label\": \"evaluatedpreference\"}, {\"type\": \"string\", \"id\": \"fedbizopps\", \"label\": \"fedbizopps\"}, {\"type\": \"string\", \"id\": \"research\", \"label\": \"research\"}, {\"type\": \"string\", \"id\": \"statutoryexceptiontofairopportunity\", \"label\": \"statutoryexceptiontofairopportunity\"}, {\"type\": \"string\", \"id\": \"organizationaltype\", \"label\": \"organizationaltype\"}, {\"type\": \"number\", \"id\": \"numberofemployees\", \"label\": \"numberofemployees\"}, {\"type\": \"number\", \"id\": \"annualrevenue\", \"label\": \"annualrevenue\"}, {\"type\": \"string\", \"id\": \"firm8aflag\", \"label\": \"firm8aflag\"}, {\"type\": \"string\", \"id\": \"hubzoneflag\", \"label\": \"hubzoneflag\"}, {\"type\": \"string\", \"id\": \"sdbflag\", \"label\": \"sdbflag\"}, {\"type\": \"string\", \"id\": \"issbacertifiedsmalldisadvantagedbusiness\", \"label\": \"issbacertifiedsmalldisadvantagedbusiness\"}, {\"type\": \"string\", \"id\": \"shelteredworkshopflag\", \"label\": \"shelteredworkshopflag\"}, {\"type\": \"string\", \"id\": \"hbcuflag\", \"label\": \"hbcuflag\"}, {\"type\": \"string\", \"id\": \"educationalinstitutionflag\", \"label\": \"educationalinstitutionflag\"}, {\"type\": \"string\", \"id\": \"womenownedflag\", \"label\": \"womenownedflag\"}, {\"type\": \"string\", \"id\": \"veteranownedflag\", \"label\": \"veteranownedflag\"}, {\"type\": \"string\", \"id\": \"srdvobflag\", \"label\": \"srdvobflag\"}, {\"type\": \"string\", \"id\": \"localgovernmentflag\", \"label\": \"localgovernmentflag\"}, {\"type\": \"string\", \"id\": \"minorityinstitutionflag\", \"label\": \"minorityinstitutionflag\"}, {\"type\": \"string\", \"id\": \"aiobflag\", \"label\": \"aiobflag\"}, {\"type\": \"string\", \"id\": \"stategovernmentflag\", \"label\": \"stategovernmentflag\"}, {\"type\": \"string\", \"id\": \"federalgovernmentflag\", \"label\": \"federalgovernmentflag\"}, {\"type\": \"string\", \"id\": \"minorityownedbusinessflag\", \"label\": \"minorityownedbusinessflag\"}, {\"type\": \"string\", \"id\": \"apaobflag\", \"label\": \"apaobflag\"}, {\"type\": \"string\", \"id\": \"tribalgovernmentflag\", \"label\": \"tribalgovernmentflag\"}, {\"type\": \"string\", \"id\": \"baobflag\", \"label\": \"baobflag\"}, {\"type\": \"string\", \"id\": \"naobflag\", \"label\": \"naobflag\"}, {\"type\": \"string\", \"id\": \"saaobflag\", \"label\": \"saaobflag\"}, {\"type\": \"string\", \"id\": \"nonprofitorganizationflag\", \"label\": \"nonprofitorganizationflag\"}, {\"type\": \"string\", \"id\": \"isothernotforprofitorganization\", \"label\": \"isothernotforprofitorganization\"}, {\"type\": \"string\", \"id\": \"isforprofitorganization\", \"label\": \"isforprofitorganization\"}, {\"type\": \"string\", \"id\": \"isfoundation\", \"label\": \"isfoundation\"}, {\"type\": \"string\", \"id\": \"haobflag\", \"label\": \"haobflag\"}, {\"type\": \"string\", \"id\": \"ishispanicservicinginstitution\", \"label\": \"ishispanicservicinginstitution\"}, {\"type\": \"string\", \"id\": \"emergingsmallbusinessflag\", \"label\": \"emergingsmallbusinessflag\"}, {\"type\": \"string\", \"id\": \"hospitalflag\", \"label\": \"hospitalflag\"}, {\"type\": \"string\", \"id\": \"contractingofficerbusinesssizedetermination\", \"label\": \"contractingofficerbusinesssizedetermination\"}, {\"type\": \"string\", \"id\": \"is1862landgrantcollege\", \"label\": \"is1862landgrantcollege\"}, {\"type\": \"string\", \"id\": \"is1890landgrantcollege\", \"label\": \"is1890landgrantcollege\"}, {\"type\": \"string\", \"id\": \"is1994landgrantcollege\", \"label\": \"is1994landgrantcollege\"}, {\"type\": \"string\", \"id\": \"isveterinarycollege\", \"label\": \"isveterinarycollege\"}, {\"type\": \"string\", \"id\": \"isveterinaryhospital\", \"label\": \"isveterinaryhospital\"}, {\"type\": \"string\", \"id\": \"isprivateuniversityorcollege\", \"label\": \"isprivateuniversityorcollege\"}, {\"type\": \"string\", \"id\": \"isschoolofforestry\", \"label\": \"isschoolofforestry\"}, {\"type\": \"string\", \"id\": \"isstatecontrolledinstitutionofhigherlearning\", \"label\": \"isstatecontrolledinstitutionofhigherlearning\"}, {\"type\": \"string\", \"id\": \"isserviceprovider\", \"label\": \"isserviceprovider\"}, {\"type\": \"string\", \"id\": \"receivescontracts\", \"label\": \"receivescontracts\"}, {\"type\": \"string\", \"id\": \"receivesgrants\", \"label\": \"receivesgrants\"}, {\"type\": \"string\", \"id\": \"receivescontractsandgrants\", \"label\": \"receivescontractsandgrants\"}, {\"type\": \"string\", \"id\": \"isairportauthority\", \"label\": \"isairportauthority\"}, {\"type\": \"string\", \"id\": \"iscouncilofgovernments\", \"label\": \"iscouncilofgovernments\"}, {\"type\": \"string\", \"id\": \"ishousingauthoritiespublicortribal\", \"label\": \"ishousingauthoritiespublicortribal\"}, {\"type\": \"string\", \"id\": \"isinterstateentity\", \"label\": \"isinterstateentity\"}, {\"type\": \"string\", \"id\": \"isplanningcommission\", \"label\": \"isplanningcommission\"}, {\"type\": \"string\", \"id\": \"isportauthority\", \"label\": \"isportauthority\"}, {\"type\": \"string\", \"id\": \"istransitauthority\", \"label\": \"istransitauthority\"}, {\"type\": \"string\", \"id\": \"issubchapterscorporation\", \"label\": \"issubchapterscorporation\"}, {\"type\": \"string\", \"id\": \"islimitedliabilitycorporation\", \"label\": \"islimitedliabilitycorporation\"}, {\"type\": \"string\", \"id\": \"isforeignownedandlocated\", \"label\": \"isforeignownedandlocated\"}, {\"type\": \"string\", \"id\": \"isarchitectureandengineering\", \"label\": \"isarchitectureandengineering\"}, {\"type\": \"string\", \"id\": \"isdotcertifieddisadvantagedbusinessenterprise\", \"label\": \"isdotcertifieddisadvantagedbusinessenterprise\"}, {\"type\": \"string\", \"id\": \"iscitylocalgovernment\", \"label\": \"iscitylocalgovernment\"}, {\"type\": \"string\", \"id\": \"iscommunitydevelopedcorporationownedfirm\", \"label\": \"iscommunitydevelopedcorporationownedfirm\"}, {\"type\": \"string\", \"id\": \"iscommunitydevelopmentcorporation\", \"label\": \"iscommunitydevelopmentcorporation\"}, {\"type\": \"string\", \"id\": \"isconstructionfirm\", \"label\": \"isconstructionfirm\"}, {\"type\": \"string\", \"id\": \"ismanufacturerofgoods\", \"label\": \"ismanufacturerofgoods\"}, {\"type\": \"string\", \"id\": \"iscorporateentitynottaxexempt\", \"label\": \"iscorporateentitynottaxexempt\"}, {\"type\": \"string\", \"id\": \"iscountylocalgovernment\", \"label\": \"iscountylocalgovernment\"}, {\"type\": \"string\", \"id\": \"isdomesticshelter\", \"label\": \"isdomesticshelter\"}, {\"type\": \"string\", \"id\": \"isfederalgovernmentagency\", \"label\": \"isfederalgovernmentagency\"}, {\"type\": \"string\", \"id\": \"isfederallyfundedresearchanddevelopmentcorp\", \"label\": \"isfederallyfundedresearchanddevelopmentcorp\"}, {\"type\": \"string\", \"id\": \"isforeigngovernment\", \"label\": \"isforeigngovernment\"}, {\"type\": \"string\", \"id\": \"isindiantribe\", \"label\": \"isindiantribe\"}, {\"type\": \"string\", \"id\": \"isintermunicipallocalgovernment\", \"label\": \"isintermunicipallocalgovernment\"}, {\"type\": \"string\", \"id\": \"isinternationalorganization\", \"label\": \"isinternationalorganization\"}, {\"type\": \"string\", \"id\": \"islaborsurplusareafirm\", \"label\": \"islaborsurplusareafirm\"}, {\"type\": \"string\", \"id\": \"islocalgovernmentowned\", \"label\": \"islocalgovernmentowned\"}, {\"type\": \"string\", \"id\": \"ismunicipalitylocalgovernment\", \"label\": \"ismunicipalitylocalgovernment\"}, {\"type\": \"string\", \"id\": \"isnativehawaiianownedorganizationorfirm\", \"label\": \"isnativehawaiianownedorganizationorfirm\"}, {\"type\": \"string\", \"id\": \"isotherbusinessororganization\", \"label\": \"isotherbusinessororganization\"}, {\"type\": \"string\", \"id\": \"isotherminorityowned\", \"label\": \"isotherminorityowned\"}, {\"type\": \"string\", \"id\": \"ispartnershiporlimitedliabilitypartnership\", \"label\": \"ispartnershiporlimitedliabilitypartnership\"}, {\"type\": \"string\", \"id\": \"isschooldistrictlocalgovernment\", \"label\": \"isschooldistrictlocalgovernment\"}, {\"type\": \"string\", \"id\": \"issmallagriculturalcooperative\", \"label\": \"issmallagriculturalcooperative\"}, {\"type\": \"string\", \"id\": \"issoleproprietorship\", \"label\": \"issoleproprietorship\"}, {\"type\": \"string\", \"id\": \"istownshiplocalgovernment\", \"label\": \"istownshiplocalgovernment\"}, {\"type\": \"string\", \"id\": \"istriballyownedfirm\", \"label\": \"istriballyownedfirm\"}, {\"type\": \"string\", \"id\": \"istribalcollege\", \"label\": \"istribalcollege\"}, {\"type\": \"string\", \"id\": \"isalaskannativeownedcorporationorfirm\", \"label\": \"isalaskannativeownedcorporationorfirm\"}, {\"type\": \"string\", \"id\": \"iscorporateentitytaxexempt\", \"label\": \"iscorporateentitytaxexempt\"}, {\"type\": \"string\", \"id\": \"iswomenownedsmallbusiness\", \"label\": \"iswomenownedsmallbusiness\"}, {\"type\": \"string\", \"id\": \"isecondisadvwomenownedsmallbusiness\", \"label\": \"isecondisadvwomenownedsmallbusiness\"}, {\"type\": \"string\", \"id\": \"isjointventurewomenownedsmallbusiness\", \"label\": \"isjointventurewomenownedsmallbusiness\"}, {\"type\": \"string\", \"id\": \"isjointventureecondisadvwomenownedsmallbusiness\", \"label\": \"isjointventureecondisadvwomenownedsmallbusiness\"}, {\"type\": \"string\", \"id\": \"walshhealyact\", \"label\": \"walshhealyact\"}, {\"type\": \"string\", \"id\": \"servicecontractact\", \"label\": \"servicecontractact\"}, {\"type\": \"string\", \"id\": \"davisbaconact\", \"label\": \"davisbaconact\"}, {\"type\": \"string\", \"id\": \"clingercohenact\", \"label\": \"clingercohenact\"}, {\"type\": \"string\", \"id\": \"otherstatutoryauthority\", \"label\": \"otherstatutoryauthority\"}, {\"type\": \"string\", \"id\": \"prime_awardee_executive1\", \"label\": \"prime_awardee_executive1\"}, {\"type\": \"number\", \"id\": \"prime_awardee_executive1_compensation\", \"label\": \"prime_awardee_executive1_compensation\"}, {\"type\": \"string\", \"id\": \"prime_awardee_executive2\", \"label\": \"prime_awardee_executive2\"}, {\"type\": \"number\", \"id\": \"prime_awardee_executive2_compensation\", \"label\": \"prime_awardee_executive2_compensation\"}, {\"type\": \"string\", \"id\": \"prime_awardee_executive3\", \"label\": \"prime_awardee_executive3\"}, {\"type\": \"number\", \"id\": \"prime_awardee_executive3_compensation\", \"label\": \"prime_awardee_executive3_compensation\"}, {\"type\": \"string\", \"id\": \"prime_awardee_executive4\", \"label\": \"prime_awardee_executive4\"}, {\"type\": \"number\", \"id\": \"prime_awardee_executive4_compensation\", \"label\": \"prime_awardee_executive4_compensation\"}, {\"type\": \"string\", \"id\": \"prime_awardee_executive5\", \"label\": \"prime_awardee_executive5\"}, {\"type\": \"number\", \"id\": \"prime_awardee_executive5_compensation\", \"label\": \"prime_awardee_executive5_compensation\"}, {\"type\": \"string\", \"id\": \"interagencycontractingauthority\", \"label\": \"interagencycontractingauthority\"}, {\"type\": \"string\", \"id\": \"last_modified_date\", \"label\": \"last_modified_date\"}]},\n",
       "            {\n",
       "              pageSize: 25,\n",
       "              cssClassNames:  {\n",
       "                tableRow: 'gchart-table-row',\n",
       "                headerRow: 'gchart-table-headerrow',\n",
       "                oddTableRow: 'gchart-table-oddrow',\n",
       "                selectedTableRow: 'gchart-table-selectedrow',\n",
       "                hoverTableRow: 'gchart-table-hoverrow',\n",
       "                tableCell: 'gchart-table-cell',\n",
       "                headerCell: 'gchart-table-headercell',\n",
       "                rowNumberCell: 'gchart-table-rownumcell'\n",
       "              }\n",
       "            },\n",
       "            {source_index: 7, fields: 'unique_transaction_id,transaction_status,dollarsobligated,baseandexercisedoptionsvalue,baseandalloptionsvalue,maj_agency_cat,mod_agency,maj_fund_agency_cat,contractingofficeagencyid,contractingofficeid,fundingrequestingagencyid,fundingrequestingofficeid,fundedbyforeignentity,signeddate,effectivedate,currentcompletiondate,ultimatecompletiondate,lastdatetoorder,contractactiontype,reasonformodification,typeofcontractpricing,priceevaluationpercentdifference,subcontractplan,lettercontract,multiyearcontract,performancebasedservicecontract,majorprogramcode,contingencyhumanitarianpeacekeepingoperation,contractfinancing,costorpricingdata,costaccountingstandardsclause,descriptionofcontractrequirement,purchasecardaspaymentmethod,numberofactions,nationalinterestactioncode,progsourceagency,progsourceaccount,progsourcesubacct,account_title,rec_flag,typeofidc,multipleorsingleawardidc,programacronym,vendorname,vendoralternatename,vendorlegalorganizationname,vendordoingasbusinessname,divisionname,divisionnumberorofficecode,vendorenabled,vendorlocationdisableflag,ccrexception,streetaddress,streetaddress2,streetaddress3,city,state,zipcode,vendorcountrycode,vendor_state_code,vendor_cd,congressionaldistrict,vendorsitecode,vendoralternatesitecode,dunsnumber,parentdunsnumber,phoneno,faxno,registrationdate,renewaldate,mod_parent,locationcode,statecode,PlaceofPerformanceCity,pop_state_code,placeofperformancecountrycode,placeofperformancezipcode,pop_cd,placeofperformancecongressionaldistrict,psc_cat,productorservicecode,systemequipmentcode,claimantprogramcode,principalnaicscode,informationtechnologycommercialitemcategory,gfe_gfp,useofepadesignatedproducts,recoveredmaterialclauses,seatransportation,contractbundling,consolidatedcontract,countryoforigin,placeofmanufacture,manufacturingorganizationtype,agencyid,piid,modnumber,transactionnumber,fiscal_year,idvagencyid,idvpiid,idvmodificationnumber,solicitationid,extentcompeted,reasonnotcompeted,numberofoffersreceived,commercialitemacquisitionprocedures,commercialitemtestprogram,smallbusinesscompetitivenessdemonstrationprogram,a76action,competitiveprocedures,solicitationprocedures,typeofsetaside,localareasetaside,evaluatedpreference,fedbizopps,research,statutoryexceptiontofairopportunity,organizationaltype,numberofemployees,annualrevenue,firm8aflag,hubzoneflag,sdbflag,issbacertifiedsmalldisadvantagedbusiness,shelteredworkshopflag,hbcuflag,educationalinstitutionflag,womenownedflag,veteranownedflag,srdvobflag,localgovernmentflag,minorityinstitutionflag,aiobflag,stategovernmentflag,federalgovernmentflag,minorityownedbusinessflag,apaobflag,tribalgovernmentflag,baobflag,naobflag,saaobflag,nonprofitorganizationflag,isothernotforprofitorganization,isforprofitorganization,isfoundation,haobflag,ishispanicservicinginstitution,emergingsmallbusinessflag,hospitalflag,contractingofficerbusinesssizedetermination,is1862landgrantcollege,is1890landgrantcollege,is1994landgrantcollege,isveterinarycollege,isveterinaryhospital,isprivateuniversityorcollege,isschoolofforestry,isstatecontrolledinstitutionofhigherlearning,isserviceprovider,receivescontracts,receivesgrants,receivescontractsandgrants,isairportauthority,iscouncilofgovernments,ishousingauthoritiespublicortribal,isinterstateentity,isplanningcommission,isportauthority,istransitauthority,issubchapterscorporation,islimitedliabilitycorporation,isforeignownedandlocated,isarchitectureandengineering,isdotcertifieddisadvantagedbusinessenterprise,iscitylocalgovernment,iscommunitydevelopedcorporationownedfirm,iscommunitydevelopmentcorporation,isconstructionfirm,ismanufacturerofgoods,iscorporateentitynottaxexempt,iscountylocalgovernment,isdomesticshelter,isfederalgovernmentagency,isfederallyfundedresearchanddevelopmentcorp,isforeigngovernment,isindiantribe,isintermunicipallocalgovernment,isinternationalorganization,islaborsurplusareafirm,islocalgovernmentowned,ismunicipalitylocalgovernment,isnativehawaiianownedorganizationorfirm,isotherbusinessororganization,isotherminorityowned,ispartnershiporlimitedliabilitypartnership,isschooldistrictlocalgovernment,issmallagriculturalcooperative,issoleproprietorship,istownshiplocalgovernment,istriballyownedfirm,istribalcollege,isalaskannativeownedcorporationorfirm,iscorporateentitytaxexempt,iswomenownedsmallbusiness,isecondisadvwomenownedsmallbusiness,isjointventurewomenownedsmallbusiness,isjointventureecondisadvwomenownedsmallbusiness,walshhealyact,servicecontractact,davisbaconact,clingercohenact,otherstatutoryauthority,prime_awardee_executive1,prime_awardee_executive1_compensation,prime_awardee_executive2,prime_awardee_executive2_compensation,prime_awardee_executive3,prime_awardee_executive3_compensation,prime_awardee_executive4,prime_awardee_executive4_compensation,prime_awardee_executive5,prime_awardee_executive5_compensation,interagencycontractingauthority,last_modified_date'},\n",
       "            0,\n",
       "            5);\n",
       "        }\n",
       "      );\n",
       "    </script>\n",
       "  "
      ],
      "text/plain": [
       "QueryResultsTable job_nBwQHKanq9PbypVCsB7JEXHY3GY"
      ]
     },
     "execution_count": 22,
     "metadata": {},
     "output_type": "execute_result"
    }
   ],
   "source": [
    "%%bq query\n",
    "select *\n",
    "from `fiery-set-171213.vrec.usa_spending_all`\n",
    "where mod_agency in ('1700: DEPT OF THE NAVY')\n",
    "limit 5"
   ]
  },
  {
   "cell_type": "code",
   "execution_count": 23,
   "metadata": {
    "collapsed": true
   },
   "outputs": [],
   "source": [
    "%%bq query -n df_query\n",
    "select\n",
    "#substr(signeddate, 1, 2) month,\n",
    "fiscal_year as year,  \n",
    "count(*) transactions,\n",
    "sum(dollarsobligated) as dollarsobligated\n",
    "from `fiery-set-171213.vrec.usa_spending_all`\n",
    "group by year\n",
    "order by year asc"
   ]
  },
  {
   "cell_type": "code",
   "execution_count": 24,
   "metadata": {
    "collapsed": false
   },
   "outputs": [
    {
     "data": {
      "text/plain": [
       "<matplotlib.text.Text at 0x7f30321c8f90>"
      ]
     },
     "execution_count": 24,
     "metadata": {},
     "output_type": "execute_result"
    },
    {
     "data": {
      "image/png": "[encoded data removed]",
      "text/plain": [
       "<matplotlib.figure.Figure at 0x7f30322092d0>"
      ]
     },
     "metadata": {},
     "output_type": "display_data"
    }
   ],
   "source": [
    "df = df_query.execute(output_options=bq.QueryOutput.dataframe()).result()\n",
    "ax = df.set_index('year')['dollarsobligated'].plot(kind='bar', title='Government purchases by years')\n",
    "ax.set_ylabel('dollars obligated')"
   ]
  },
  {
   "cell_type": "code",
   "execution_count": 25,
   "metadata": {
    "collapsed": false
   },
   "outputs": [],
   "source": [
    "%%bq query -n df_query\n",
    "select\n",
    "fiscal_year as year,  \n",
    "sum(dollarsobligated)/count(*) as dollarsobligated\n",
    "from `fiery-set-171213.vrec.usa_spending_all`\n",
    "group by year\n",
    "order by year asc"
   ]
  },
  {
   "cell_type": "code",
   "execution_count": 26,
   "metadata": {
    "collapsed": false
   },
   "outputs": [
    {
     "data": {
      "text/plain": [
       "<matplotlib.text.Text at 0x7f303219b410>"
      ]
     },
     "execution_count": 26,
     "metadata": {},
     "output_type": "execute_result"
    },
    {
     "data": {
      "image/png": "[encoded data removed]",
      "text/plain": [
       "<matplotlib.figure.Figure at 0x7f303009c2d0>"
      ]
     },
     "metadata": {},
     "output_type": "display_data"
    }
   ],
   "source": [
    "df = df_query.execute(output_options=bq.QueryOutput.dataframe()).result()\n",
    "ax = df.set_index('year')['dollarsobligated'].plot(kind='bar', title='avg. transaction size by years')\n",
    "ax.set_ylabel('dollars obligated')"
   ]
  },
  {
   "cell_type": "markdown",
   "metadata": {},
   "source": [
    "** Which means we're dealing with 49.5M transactions totalling 6.7 trillion dollars. These purchases came from 622k vendors that won 2.2mn solicitations issued by government agencies.**"
   ]
  },
  {
   "cell_type": "code",
   "execution_count": 27,
   "metadata": {
    "collapsed": false
   },
   "outputs": [
    {
     "data": {
      "text/html": [
       "\n",
       "    <div class=\"bqtv\" id=\"9_149831103537\"><table><tr><th>maj_agency_cat</th><th>mod_agency</th><th>f0_</th></tr><tr><td>9700: DEPT OF DEFENSE</td><td>97AS: DEFENSE LOGISTICS AGENCY</td><td>5829407</td></tr><tr><td>4700: GENERAL SERVICES ADMINISTRATION</td><td>4730: FEDERAL ACQUISITION SERVICE</td><td>5001861</td></tr><tr><td>3600: VETERANS AFFAIRS, DEPARTMENT OF</td><td>3600: VETERANS AFFAIRS, DEPARTMENT OF</td><td>4956277</td></tr><tr><td>9700: DEPT OF DEFENSE</td><td>2100: DEPT OF THE ARMY</td><td>4338326</td></tr><tr><td>9700: Department of Defense</td><td></td><td>3663469</td></tr><tr><td>9700: DEPT OF DEFENSE</td><td>1700: DEPT OF THE NAVY</td><td>3561991</td></tr><tr><td>9700: Department of Defense</td><td>97AS: DEFENSE LOGISTICS AGENCY</td><td>3470140</td></tr><tr><td>9700: DEPT OF DEFENSE</td><td>5700: DEPT OF THE AIR FORCE</td><td>1701478</td></tr><tr><td>4700: GENERAL SERVICES ADMINISTRATION</td><td>4732: FEDERAL ACQUISITION SERVICE</td><td>1444491</td></tr><tr><td>4700: GENERAL SERVICES ADMINISTRATION</td><td>4740: PUBLIC BUILDINGS SERVICE</td><td>1436683</td></tr><tr><td>1500: JUSTICE, DEPARTMENT OF</td><td>1540: FEDERAL PRISON SYSTEM</td><td>895777</td></tr><tr><td>1900: STATE, DEPARTMENT OF</td><td>1900: STATE, DEPARTMENT OF</td><td>767320</td></tr><tr><td>9700: Department of Defense</td><td>2100: DEPT OF THE ARMY</td><td>538689</td></tr><tr><td>9700: Department of Defense</td><td>1700: DEPT OF THE NAVY</td><td>481765</td></tr><tr><td>7000: HOMELAND SECURITY, DEPARTMENT OF</td><td>7008: U.S. COAST GUARD</td><td>419564</td></tr><tr><td>1200: AGRICULTURE, DEPARTMENT OF</td><td>12C2: FOREST SERVICE</td><td>381536</td></tr><tr><td>8000: NATIONAL AERONAUTICS AND SPACE ADMINISTRATION</td><td>8000: NATIONAL AERONAUTICS AND SPACE ADMINISTRATION</td><td>346497</td></tr><tr><td>3600: Department of Veterans Affairs</td><td>3600: VETERANS AFFAIRS, DEPARTMENT OF</td><td>331327</td></tr><tr><td>7500: HEALTH AND HUMAN SERVICES, DEPARTMENT OF</td><td>7529: NATIONAL INSTITUTES OF HEALTH</td><td>325444</td></tr><tr><td>9700: DEPT OF DEFENSE</td><td>97AK: DEFENSE INFORMATION SYSTEMS AGENCY (DISA)</td><td>266946</td></tr></table></div>\n",
       "    <br />(rows: 20, time: 1.9s,     3GB processed, job: job_aJH44_BXKfXqvsuQUZLf05seXzA)<br />\n",
       "    <script>\n",
       "\n",
       "      require.config({\n",
       "        paths: {\n",
       "          d3: '//cdnjs.cloudflare.com/ajax/libs/d3/3.4.13/d3',\n",
       "          plotly: 'https://cdn.plot.ly/plotly-1.5.1.min.js?noext',\n",
       "          jquery: '//ajax.googleapis.com/ajax/libs/jquery/2.0.0/jquery.min'\n",
       "        },\n",
       "        map: {\n",
       "          '*': {\n",
       "            datalab: 'nbextensions/gcpdatalab'\n",
       "          }\n",
       "        },\n",
       "        shim: {\n",
       "          plotly: {\n",
       "            deps: ['d3', 'jquery'],\n",
       "            exports: 'plotly'\n",
       "          }\n",
       "        }\n",
       "      });\n",
       "\n",
       "      require(['datalab/charting', 'datalab/element!9_149831103537', 'base/js/events',\n",
       "          'datalab/style!/nbextensions/gcpdatalab/charting.css'],\n",
       "        function(charts, dom, events) {\n",
       "          charts.render('gcharts', dom, events, 'table', [], {\"rows\": [{\"c\": [{\"v\": \"9700: DEPT OF DEFENSE\"}, {\"v\": \"97AS: DEFENSE LOGISTICS AGENCY\"}, {\"v\": 5829407}]}, {\"c\": [{\"v\": \"4700: GENERAL SERVICES ADMINISTRATION\"}, {\"v\": \"4730: FEDERAL ACQUISITION SERVICE\"}, {\"v\": 5001861}]}, {\"c\": [{\"v\": \"3600: VETERANS AFFAIRS, DEPARTMENT OF\"}, {\"v\": \"3600: VETERANS AFFAIRS, DEPARTMENT OF\"}, {\"v\": 4956277}]}, {\"c\": [{\"v\": \"9700: DEPT OF DEFENSE\"}, {\"v\": \"2100: DEPT OF THE ARMY\"}, {\"v\": 4338326}]}, {\"c\": [{\"v\": \"9700: Department of Defense\"}, {\"v\": \"\"}, {\"v\": 3663469}]}, {\"c\": [{\"v\": \"9700: DEPT OF DEFENSE\"}, {\"v\": \"1700: DEPT OF THE NAVY\"}, {\"v\": 3561991}]}, {\"c\": [{\"v\": \"9700: Department of Defense\"}, {\"v\": \"97AS: DEFENSE LOGISTICS AGENCY\"}, {\"v\": 3470140}]}, {\"c\": [{\"v\": \"9700: DEPT OF DEFENSE\"}, {\"v\": \"5700: DEPT OF THE AIR FORCE\"}, {\"v\": 1701478}]}, {\"c\": [{\"v\": \"4700: GENERAL SERVICES ADMINISTRATION\"}, {\"v\": \"4732: FEDERAL ACQUISITION SERVICE\"}, {\"v\": 1444491}]}, {\"c\": [{\"v\": \"4700: GENERAL SERVICES ADMINISTRATION\"}, {\"v\": \"4740: PUBLIC BUILDINGS SERVICE\"}, {\"v\": 1436683}]}, {\"c\": [{\"v\": \"1500: JUSTICE, DEPARTMENT OF\"}, {\"v\": \"1540: FEDERAL PRISON SYSTEM\"}, {\"v\": 895777}]}, {\"c\": [{\"v\": \"1900: STATE, DEPARTMENT OF\"}, {\"v\": \"1900: STATE, DEPARTMENT OF\"}, {\"v\": 767320}]}, {\"c\": [{\"v\": \"9700: Department of Defense\"}, {\"v\": \"2100: DEPT OF THE ARMY\"}, {\"v\": 538689}]}, {\"c\": [{\"v\": \"9700: Department of Defense\"}, {\"v\": \"1700: DEPT OF THE NAVY\"}, {\"v\": 481765}]}, {\"c\": [{\"v\": \"7000: HOMELAND SECURITY, DEPARTMENT OF\"}, {\"v\": \"7008: U.S. COAST GUARD\"}, {\"v\": 419564}]}, {\"c\": [{\"v\": \"1200: AGRICULTURE, DEPARTMENT OF\"}, {\"v\": \"12C2: FOREST SERVICE\"}, {\"v\": 381536}]}, {\"c\": [{\"v\": \"8000: NATIONAL AERONAUTICS AND SPACE ADMINISTRATION\"}, {\"v\": \"8000: NATIONAL AERONAUTICS AND SPACE ADMINISTRATION\"}, {\"v\": 346497}]}, {\"c\": [{\"v\": \"3600: Department of Veterans Affairs\"}, {\"v\": \"3600: VETERANS AFFAIRS, DEPARTMENT OF\"}, {\"v\": 331327}]}, {\"c\": [{\"v\": \"7500: HEALTH AND HUMAN SERVICES, DEPARTMENT OF\"}, {\"v\": \"7529: NATIONAL INSTITUTES OF HEALTH\"}, {\"v\": 325444}]}, {\"c\": [{\"v\": \"9700: DEPT OF DEFENSE\"}, {\"v\": \"97AK: DEFENSE INFORMATION SYSTEMS AGENCY (DISA)\"}, {\"v\": 266946}]}], \"cols\": [{\"type\": \"string\", \"id\": \"maj_agency_cat\", \"label\": \"maj_agency_cat\"}, {\"type\": \"string\", \"id\": \"mod_agency\", \"label\": \"mod_agency\"}, {\"type\": \"number\", \"id\": \"f0_\", \"label\": \"f0_\"}]},\n",
       "            {\n",
       "              pageSize: 25,\n",
       "              cssClassNames:  {\n",
       "                tableRow: 'gchart-table-row',\n",
       "                headerRow: 'gchart-table-headerrow',\n",
       "                oddTableRow: 'gchart-table-oddrow',\n",
       "                selectedTableRow: 'gchart-table-selectedrow',\n",
       "                hoverTableRow: 'gchart-table-hoverrow',\n",
       "                tableCell: 'gchart-table-cell',\n",
       "                headerCell: 'gchart-table-headercell',\n",
       "                rowNumberCell: 'gchart-table-rownumcell'\n",
       "              }\n",
       "            },\n",
       "            {source_index: 8, fields: 'maj_agency_cat,mod_agency,f0_'},\n",
       "            0,\n",
       "            20);\n",
       "        }\n",
       "      );\n",
       "    </script>\n",
       "  "
      ],
      "text/plain": [
       "QueryResultsTable job_aJH44_BXKfXqvsuQUZLf05seXzA"
      ]
     },
     "execution_count": 27,
     "metadata": {},
     "output_type": "execute_result"
    }
   ],
   "source": [
    "%%bq query \n",
    "select\n",
    "maj_agency_cat,\n",
    "mod_agency,\n",
    "count(*)\n",
    "from `fiery-set-171213.vrec.usa_spending_all`\n",
    "group by 1,2\n",
    "order by 3 DESC\n",
    "limit 20"
   ]
  },
  {
   "cell_type": "code",
   "execution_count": 28,
   "metadata": {
    "collapsed": false
   },
   "outputs": [
    {
     "data": {
      "text/html": [
       "\n",
       "    <div class=\"bqtv\" id=\"10_149831104684\"><table><tr><th>mod_parent</th><th>vendorname</th><th>dollarsobligated</th></tr><tr><td>LOCKHEED MARTIN CORPORATION</td><td>LOCKHEED MARTIN CORPORATION</td><td>4.06140595405e+11</td></tr><tr><td>RAYTHEON COMPANY</td><td>RAYTHEON COMPANY</td><td>1.43185541382e+11</td></tr><tr><td>THE BOEING COMPANY</td><td>THE BOEING COMPANY</td><td>81604985662.4</td></tr><tr><td>THE BOEING COMPANY</td><td>MCDONNELL DOUGLAS CORPORATION</td><td>80799250038.5</td></tr><tr><td>GENERAL DYNAMICS CORPORATION</td><td>ELECTRIC BOAT CORPORATION</td><td>59956826888.2</td></tr><tr><td>THE BOEING COMPANY</td><td>BOEING COMPANY, THE</td><td>58976360811.5</td></tr><tr><td>MCKESSON CORPORATION</td><td>MCKESSON CORPORATION</td><td>51476224729.7</td></tr><tr><td>MISCELLANEOUS FOREIGN CONTRACTORS</td><td>MISCELLANEOUS FOREIGN CONTRACTORS</td><td>45689431658.1</td></tr><tr><td>NORTHROP GRUMMAN CORPORATION</td><td>NORTHROP GRUMMAN SYSTEMS CORPORATION</td><td>43705606171.4</td></tr><tr><td>UNITED TECHNOLOGIES CORPORATION</td><td>SIKORSKY AIRCRAFT CORPORATION</td><td>42109220881.9</td></tr><tr><td>KBR  INC.</td><td>KELLOGG BROWN AND ROOT SERVICES INCORPORATED (1250)</td><td>40346039073.6</td></tr><tr><td>LOCKHEED MARTIN CORPORATION</td><td>SANDIA CORP</td><td>39244387380.0</td></tr><tr><td>UNITED TECHNOLOGIES CORPORATION</td><td>UNITED TECHNOLOGIES CORPORATION</td><td>30902911172.6</td></tr><tr><td>GENERAL ELECTRIC COMPANY</td><td>GENERAL ELECTRIC COMPANY</td><td>30031810973.2</td></tr><tr><td>SAIC  INC.</td><td>SCIENCE APPLICATIONS INTERNATIONAL CORPORATION</td><td>27233963756.4</td></tr><tr><td>L-3 COMMUNICATIONS HOLDINGS  INC.</td><td>L-3 COMMUNICATIONS CORPORATION</td><td>26627349879.0</td></tr><tr><td>COMPUTER SCIENCES CORPORATION</td><td>COMPUTER SCIENCES CORPORATION</td><td>26373368163.9</td></tr><tr><td>LOCKHEED MARTIN CORPORATION</td><td>LOCKHEED MARTIN CORPORATION (3632)</td><td>24906143203.2</td></tr><tr><td>CALIFORNIA INSTITUTE OF TECHNOLOGY</td><td>CALIFORNIA INSTITUTE OF TECHNOLOGY</td><td>24371979504.1</td></tr><tr><td>BELL BOEING JOINT PROJECT OFFICE</td><td>BELL BOEING JOINT PROJECT OFFICE</td><td>24325611915.8</td></tr></table></div>\n",
       "    <br />(rows: 20, time: 2.3s,     3GB processed, job: job_U0FhvEK_u7QW9IUK6nCYESwtYm0)<br />\n",
       "    <script>\n",
       "\n",
       "      require.config({\n",
       "        paths: {\n",
       "          d3: '//cdnjs.cloudflare.com/ajax/libs/d3/3.4.13/d3',\n",
       "          plotly: 'https://cdn.plot.ly/plotly-1.5.1.min.js?noext',\n",
       "          jquery: '//ajax.googleapis.com/ajax/libs/jquery/2.0.0/jquery.min'\n",
       "        },\n",
       "        map: {\n",
       "          '*': {\n",
       "            datalab: 'nbextensions/gcpdatalab'\n",
       "          }\n",
       "        },\n",
       "        shim: {\n",
       "          plotly: {\n",
       "            deps: ['d3', 'jquery'],\n",
       "            exports: 'plotly'\n",
       "          }\n",
       "        }\n",
       "      });\n",
       "\n",
       "      require(['datalab/charting', 'datalab/element!10_149831104684', 'base/js/events',\n",
       "          'datalab/style!/nbextensions/gcpdatalab/charting.css'],\n",
       "        function(charts, dom, events) {\n",
       "          charts.render('gcharts', dom, events, 'table', [], {\"rows\": [{\"c\": [{\"v\": \"LOCKHEED MARTIN CORPORATION\"}, {\"v\": \"LOCKHEED MARTIN CORPORATION\"}, {\"v\": 406140595404.66}]}, {\"c\": [{\"v\": \"RAYTHEON COMPANY\"}, {\"v\": \"RAYTHEON COMPANY\"}, {\"v\": 143185541381.6701}]}, {\"c\": [{\"v\": \"THE BOEING COMPANY\"}, {\"v\": \"THE BOEING COMPANY\"}, {\"v\": 81604985662.44998}]}, {\"c\": [{\"v\": \"THE BOEING COMPANY\"}, {\"v\": \"MCDONNELL DOUGLAS CORPORATION\"}, {\"v\": 80799250038.49992}]}, {\"c\": [{\"v\": \"GENERAL DYNAMICS CORPORATION\"}, {\"v\": \"ELECTRIC BOAT CORPORATION\"}, {\"v\": 59956826888.189896}]}, {\"c\": [{\"v\": \"THE BOEING COMPANY\"}, {\"v\": \"BOEING COMPANY, THE\"}, {\"v\": 58976360811.490036}]}, {\"c\": [{\"v\": \"MCKESSON CORPORATION\"}, {\"v\": \"MCKESSON CORPORATION\"}, {\"v\": 51476224729.70006}]}, {\"c\": [{\"v\": \"MISCELLANEOUS FOREIGN CONTRACTORS\"}, {\"v\": \"MISCELLANEOUS FOREIGN CONTRACTORS\"}, {\"v\": 45689431658.148994}]}, {\"c\": [{\"v\": \"NORTHROP GRUMMAN CORPORATION\"}, {\"v\": \"NORTHROP GRUMMAN SYSTEMS CORPORATION\"}, {\"v\": 43705606171.37006}]}, {\"c\": [{\"v\": \"UNITED TECHNOLOGIES CORPORATION\"}, {\"v\": \"SIKORSKY AIRCRAFT CORPORATION\"}, {\"v\": 42109220881.90001}]}, {\"c\": [{\"v\": \"KBR  INC.\"}, {\"v\": \"KELLOGG BROWN AND ROOT SERVICES INCORPORATED (1250)\"}, {\"v\": 40346039073.550026}]}, {\"c\": [{\"v\": \"LOCKHEED MARTIN CORPORATION\"}, {\"v\": \"SANDIA CORP\"}, {\"v\": 39244387380.04997}]}, {\"c\": [{\"v\": \"UNITED TECHNOLOGIES CORPORATION\"}, {\"v\": \"UNITED TECHNOLOGIES CORPORATION\"}, {\"v\": 30902911172.599964}]}, {\"c\": [{\"v\": \"GENERAL ELECTRIC COMPANY\"}, {\"v\": \"GENERAL ELECTRIC COMPANY\"}, {\"v\": 30031810973.229992}]}, {\"c\": [{\"v\": \"SAIC  INC.\"}, {\"v\": \"SCIENCE APPLICATIONS INTERNATIONAL CORPORATION\"}, {\"v\": 27233963756.39003}]}, {\"c\": [{\"v\": \"L-3 COMMUNICATIONS HOLDINGS  INC.\"}, {\"v\": \"L-3 COMMUNICATIONS CORPORATION\"}, {\"v\": 26627349878.950012}]}, {\"c\": [{\"v\": \"COMPUTER SCIENCES CORPORATION\"}, {\"v\": \"COMPUTER SCIENCES CORPORATION\"}, {\"v\": 26373368163.87003}]}, {\"c\": [{\"v\": \"LOCKHEED MARTIN CORPORATION\"}, {\"v\": \"LOCKHEED MARTIN CORPORATION (3632)\"}, {\"v\": 24906143203.209984}]}, {\"c\": [{\"v\": \"CALIFORNIA INSTITUTE OF TECHNOLOGY\"}, {\"v\": \"CALIFORNIA INSTITUTE OF TECHNOLOGY\"}, {\"v\": 24371979504.13001}]}, {\"c\": [{\"v\": \"BELL BOEING JOINT PROJECT OFFICE\"}, {\"v\": \"BELL BOEING JOINT PROJECT OFFICE\"}, {\"v\": 24325611915.849983}]}], \"cols\": [{\"type\": \"string\", \"id\": \"mod_parent\", \"label\": \"mod_parent\"}, {\"type\": \"string\", \"id\": \"vendorname\", \"label\": \"vendorname\"}, {\"type\": \"number\", \"id\": \"dollarsobligated\", \"label\": \"dollarsobligated\"}]},\n",
       "            {\n",
       "              pageSize: 25,\n",
       "              cssClassNames:  {\n",
       "                tableRow: 'gchart-table-row',\n",
       "                headerRow: 'gchart-table-headerrow',\n",
       "                oddTableRow: 'gchart-table-oddrow',\n",
       "                selectedTableRow: 'gchart-table-selectedrow',\n",
       "                hoverTableRow: 'gchart-table-hoverrow',\n",
       "                tableCell: 'gchart-table-cell',\n",
       "                headerCell: 'gchart-table-headercell',\n",
       "                rowNumberCell: 'gchart-table-rownumcell'\n",
       "              }\n",
       "            },\n",
       "            {source_index: 9, fields: 'mod_parent,vendorname,dollarsobligated'},\n",
       "            0,\n",
       "            20);\n",
       "        }\n",
       "      );\n",
       "    </script>\n",
       "  "
      ],
      "text/plain": [
       "QueryResultsTable job_U0FhvEK_u7QW9IUK6nCYESwtYm0"
      ]
     },
     "execution_count": 28,
     "metadata": {},
     "output_type": "execute_result"
    }
   ],
   "source": [
    "%%bq query\n",
    "select\n",
    "mod_parent,\n",
    "vendorname,\n",
    "sum(dollarsobligated) as dollarsobligated\n",
    "from `fiery-set-171213.vrec.usa_spending_all`\n",
    "group by 1,2\n",
    "order by 3 DESC\n",
    "limit 20"
   ]
  },
  {
   "cell_type": "markdown",
   "metadata": {},
   "source": [
    "### Understanding where the budget is spent"
   ]
  },
  {
   "cell_type": "code",
   "execution_count": 29,
   "metadata": {
    "collapsed": false
   },
   "outputs": [
    {
     "data": {
      "text/html": [
       "\n",
       "    <div class=\"bqtv\" id=\"11_149831106892\"><table><tr><th>productorservicecode</th><th>systemequipmentcode</th><th>claimantprogramcode</th><th>principalnaicscode</th><th>dollarsobligated</th></tr><tr><td>1510: AIRCRAFT, FIXED WING</td><td>198: JSF (F-35) </td><td>A1A: AIRFRAMES AND SPARES</td><td>336411: AIRCRAFT MANUFACTURING</td><td>28184206750.3</td></tr><tr><td>AC15: DEFENSE AIRCRAFT (OPERATIONAL)</td><td>:</td><td>A1A: AIRFRAMES AND SPARES</td><td>336411: AIRCRAFT MANUFACTURING</td><td>26151446019.5</td></tr><tr><td>1510: AIRCRAFT, FIXED WING</td><td>:</td><td>A1A: AIRFRAMES AND SPARES</td><td>336411: AIRCRAFT MANUFACTURING</td><td>19916460350.7</td></tr><tr><td>1510: AIRCRAFT, FIXED WING</td><td>265: F/A-22 </td><td>A1A: AIRFRAMES AND SPARES</td><td>336411: AIRCRAFT MANUFACTURING</td><td>15905680755.8</td></tr><tr><td>1510: AIRCRAFT, FIXED WING</td><td>198: F-35</td><td>A1A: AIRFRAMES AND SPARES</td><td>336411: AIRCRAFT MANUFACTURING</td><td>14576942151.1</td></tr><tr><td>1510: AIRCRAFT, FIXED WING</td><td>220: C130-J </td><td>A1A: AIRFRAMES AND SPARES</td><td>336411: AIRCRAFT MANUFACTURING</td><td>9329833845.35</td></tr><tr><td>AR92: R&amp;D-OTHER SPACE-A RES/EXPL DEV</td><td>:</td><td>A2: MISSILE AND SPACE SYSTEMS</td><td>541710: RESEARCH AND DEVELOPMENT IN THE PHYSICAL, ENGINEERING, AND LIFE SCIENCES</td><td>7604013454.81</td></tr><tr><td>1510: AIRCRAFT, FIXED WING</td><td>198: F-35</td><td>A1A: AIRFRAMES AND SPARES</td><td>336411</td><td>6729682365.63</td></tr><tr><td>AC15: R&amp;D- DEFENSE SYSTEM: AIRCRAFT (OPERATIONAL SYSTEMS DEVELOPMENT)</td><td>:</td><td>A1A: AIRFRAMES AND SPARES</td><td>336411: AIRCRAFT MANUFACTURING</td><td>6320634728.51</td></tr><tr><td>1420: GUIDED MISSILE COMPONENTS</td><td>178: TRIDENT II MISSILE </td><td>A2: MISSILE AND SPACE SYSTEMS</td><td>336414: GUIDED MISSILE AND SPACE VEHICLE MANUFACTURING</td><td>6302806071.0</td></tr><tr><td>AC23: R&amp;D-MISSILE &amp; SPACE SYS-ADV DEV</td><td>CNX: THAAD-THEATER HIGH ALT AIR DEF</td><td>A2: MISSILE AND SPACE SYSTEMS</td><td>541710: RESEARCH AND DEVELOPMENT IN THE PHYSICAL, ENGINEERING, AND LIFE SCIENCES</td><td>5949829201.77</td></tr><tr><td>1410: GUIDED MISSILES</td><td>CAA: MISSILE DEFENSE AGENCY SUPPORT</td><td>A2: MISSILE AND SPACE SYSTEMS</td><td>336414: GUIDED MISSILE AND SPACE VEHICLE MANUFACTURING</td><td>5853241426.12</td></tr><tr><td>1510: AIRCRAFT, FIXED WING</td><td>220: C-130J </td><td>A1A: AIRFRAMES AND SPARES</td><td>336411</td><td>5045122922.06</td></tr><tr><td>1810: SPACE VEHICLES</td><td>210: SBIRS HIGH</td><td>A2: MISSILE AND SPACE SYSTEMS</td><td>336414: GUIDED MISSILE AND SPACE VEHICLE MANUFACTURING</td><td>4607513860.0</td></tr><tr><td>1905: COMBAT SHIPS AND LANDING VESSELS</td><td>374: LCS </td><td>A3: SHIPS</td><td>336611: SHIP BUILDING AND REPAIRING</td><td>4529595335.61</td></tr><tr><td>AR33: SPACE FLIGHT (ADVANCED)</td><td>:</td><td>:</td><td>541710: RESEARCH AND DEVELOPMENT IN THE PHYSICAL, ENGINEERING, AND LIFE SCIENCES</td><td>4403909376.94</td></tr><tr><td>AR33: R&amp;D- SPACE: FLIGHT (ADVANCED DEVELOPMENT)</td><td>:</td><td>:</td><td>541710: RESEARCH AND DEVELOPMENT IN THE PHYSICAL, ENGINEERING, AND LIFE SCIENCES</td><td>4339559223.83</td></tr><tr><td>1420: GUIDED MISSILE COMPONENTS</td><td>106: PATRIOT </td><td>A2: MISSILE AND SPACE SYSTEMS</td><td>336419: OTHER GUIDED MISSILE AND SPACE VEHICLE PARTS AND AUXILIARY EQUIPMENT MANUFACTURING</td><td>3931051623.01</td></tr><tr><td>J016: MAINT/REPAIR/REBUILD OF EQUIPMENT- AIRCRAFT COMPONENTS AND ACCESSORIES</td><td>265: F/A-22 </td><td>S1: SERVICES</td><td>488190: OTHER SUPPORT ACTIVITIES FOR AIR TRANSPORTATION</td><td>3840693155.95</td></tr><tr><td>AC17: R&amp;D-AIRCRAFT-COMERCLIZ</td><td>265: F/A-22 </td><td>A1A: AIRFRAMES AND SPARES</td><td>541710: RESEARCH AND DEVELOPMENT IN THE PHYSICAL, ENGINEERING, AND LIFE SCIENCES</td><td>3685231281.42</td></tr></table></div>\n",
       "    <br />(rows: 20, time: 1.9s,     7GB processed, job: job_x_0PqfgBlhqVEN6w5Ex8rnRRmsE)<br />\n",
       "    <script>\n",
       "\n",
       "      require.config({\n",
       "        paths: {\n",
       "          d3: '//cdnjs.cloudflare.com/ajax/libs/d3/3.4.13/d3',\n",
       "          plotly: 'https://cdn.plot.ly/plotly-1.5.1.min.js?noext',\n",
       "          jquery: '//ajax.googleapis.com/ajax/libs/jquery/2.0.0/jquery.min'\n",
       "        },\n",
       "        map: {\n",
       "          '*': {\n",
       "            datalab: 'nbextensions/gcpdatalab'\n",
       "          }\n",
       "        },\n",
       "        shim: {\n",
       "          plotly: {\n",
       "            deps: ['d3', 'jquery'],\n",
       "            exports: 'plotly'\n",
       "          }\n",
       "        }\n",
       "      });\n",
       "\n",
       "      require(['datalab/charting', 'datalab/element!11_149831106892', 'base/js/events',\n",
       "          'datalab/style!/nbextensions/gcpdatalab/charting.css'],\n",
       "        function(charts, dom, events) {\n",
       "          charts.render('gcharts', dom, events, 'table', [], {\"rows\": [{\"c\": [{\"v\": \"1510: AIRCRAFT, FIXED WING\"}, {\"v\": \"198: JSF (F-35) \"}, {\"v\": \"A1A: AIRFRAMES AND SPARES\"}, {\"v\": \"336411: AIRCRAFT MANUFACTURING\"}, {\"v\": 28184206750.29}]}, {\"c\": [{\"v\": \"AC15: DEFENSE AIRCRAFT (OPERATIONAL)\"}, {\"v\": \":\"}, {\"v\": \"A1A: AIRFRAMES AND SPARES\"}, {\"v\": \"336411: AIRCRAFT MANUFACTURING\"}, {\"v\": 26151446019.48}]}, {\"c\": [{\"v\": \"1510: AIRCRAFT, FIXED WING\"}, {\"v\": \":\"}, {\"v\": \"A1A: AIRFRAMES AND SPARES\"}, {\"v\": \"336411: AIRCRAFT MANUFACTURING\"}, {\"v\": 19916460350.660004}]}, {\"c\": [{\"v\": \"1510: AIRCRAFT, FIXED WING\"}, {\"v\": \"265: F/A-22 \"}, {\"v\": \"A1A: AIRFRAMES AND SPARES\"}, {\"v\": \"336411: AIRCRAFT MANUFACTURING\"}, {\"v\": 15905680755.769999}]}, {\"c\": [{\"v\": \"1510: AIRCRAFT, FIXED WING\"}, {\"v\": \"198: F-35\"}, {\"v\": \"A1A: AIRFRAMES AND SPARES\"}, {\"v\": \"336411: AIRCRAFT MANUFACTURING\"}, {\"v\": 14576942151.07}]}, {\"c\": [{\"v\": \"1510: AIRCRAFT, FIXED WING\"}, {\"v\": \"220: C130-J \"}, {\"v\": \"A1A: AIRFRAMES AND SPARES\"}, {\"v\": \"336411: AIRCRAFT MANUFACTURING\"}, {\"v\": 9329833845.349997}]}, {\"c\": [{\"v\": \"AR92: R&D-OTHER SPACE-A RES/EXPL DEV\"}, {\"v\": \":\"}, {\"v\": \"A2: MISSILE AND SPACE SYSTEMS\"}, {\"v\": \"541710: RESEARCH AND DEVELOPMENT IN THE PHYSICAL, ENGINEERING, AND LIFE SCIENCES\"}, {\"v\": 7604013454.810001}]}, {\"c\": [{\"v\": \"1510: AIRCRAFT, FIXED WING\"}, {\"v\": \"198: F-35\"}, {\"v\": \"A1A: AIRFRAMES AND SPARES\"}, {\"v\": \"336411\"}, {\"v\": 6729682365.63}]}, {\"c\": [{\"v\": \"AC15: R&D- DEFENSE SYSTEM: AIRCRAFT (OPERATIONAL SYSTEMS DEVELOPMENT)\"}, {\"v\": \":\"}, {\"v\": \"A1A: AIRFRAMES AND SPARES\"}, {\"v\": \"336411: AIRCRAFT MANUFACTURING\"}, {\"v\": 6320634728.509999}]}, {\"c\": [{\"v\": \"1420: GUIDED MISSILE COMPONENTS\"}, {\"v\": \"178: TRIDENT II MISSILE \"}, {\"v\": \"A2: MISSILE AND SPACE SYSTEMS\"}, {\"v\": \"336414: GUIDED MISSILE AND SPACE VEHICLE MANUFACTURING\"}, {\"v\": 6302806071.0}]}, {\"c\": [{\"v\": \"AC23: R&D-MISSILE & SPACE SYS-ADV DEV\"}, {\"v\": \"CNX: THAAD-THEATER HIGH ALT AIR DEF\"}, {\"v\": \"A2: MISSILE AND SPACE SYSTEMS\"}, {\"v\": \"541710: RESEARCH AND DEVELOPMENT IN THE PHYSICAL, ENGINEERING, AND LIFE SCIENCES\"}, {\"v\": 5949829201.77}]}, {\"c\": [{\"v\": \"1410: GUIDED MISSILES\"}, {\"v\": \"CAA: MISSILE DEFENSE AGENCY SUPPORT\"}, {\"v\": \"A2: MISSILE AND SPACE SYSTEMS\"}, {\"v\": \"336414: GUIDED MISSILE AND SPACE VEHICLE MANUFACTURING\"}, {\"v\": 5853241426.12}]}, {\"c\": [{\"v\": \"1510: AIRCRAFT, FIXED WING\"}, {\"v\": \"220: C-130J \"}, {\"v\": \"A1A: AIRFRAMES AND SPARES\"}, {\"v\": \"336411\"}, {\"v\": 5045122922.059999}]}, {\"c\": [{\"v\": \"1810: SPACE VEHICLES\"}, {\"v\": \"210: SBIRS HIGH\"}, {\"v\": \"A2: MISSILE AND SPACE SYSTEMS\"}, {\"v\": \"336414: GUIDED MISSILE AND SPACE VEHICLE MANUFACTURING\"}, {\"v\": 4607513860.0}]}, {\"c\": [{\"v\": \"1905: COMBAT SHIPS AND LANDING VESSELS\"}, {\"v\": \"374: LCS \"}, {\"v\": \"A3: SHIPS\"}, {\"v\": \"336611: SHIP BUILDING AND REPAIRING\"}, {\"v\": 4529595335.610001}]}, {\"c\": [{\"v\": \"AR33: SPACE FLIGHT (ADVANCED)\"}, {\"v\": \":\"}, {\"v\": \":\"}, {\"v\": \"541710: RESEARCH AND DEVELOPMENT IN THE PHYSICAL, ENGINEERING, AND LIFE SCIENCES\"}, {\"v\": 4403909376.94}]}, {\"c\": [{\"v\": \"AR33: R&D- SPACE: FLIGHT (ADVANCED DEVELOPMENT)\"}, {\"v\": \":\"}, {\"v\": \":\"}, {\"v\": \"541710: RESEARCH AND DEVELOPMENT IN THE PHYSICAL, ENGINEERING, AND LIFE SCIENCES\"}, {\"v\": 4339559223.83}]}, {\"c\": [{\"v\": \"1420: GUIDED MISSILE COMPONENTS\"}, {\"v\": \"106: PATRIOT \"}, {\"v\": \"A2: MISSILE AND SPACE SYSTEMS\"}, {\"v\": \"336419: OTHER GUIDED MISSILE AND SPACE VEHICLE PARTS AND AUXILIARY EQUIPMENT MANUFACTURING\"}, {\"v\": 3931051623.01}]}, {\"c\": [{\"v\": \"J016: MAINT/REPAIR/REBUILD OF EQUIPMENT- AIRCRAFT COMPONENTS AND ACCESSORIES\"}, {\"v\": \"265: F/A-22 \"}, {\"v\": \"S1: SERVICES\"}, {\"v\": \"488190: OTHER SUPPORT ACTIVITIES FOR AIR TRANSPORTATION\"}, {\"v\": 3840693155.9499993}]}, {\"c\": [{\"v\": \"AC17: R&D-AIRCRAFT-COMERCLIZ\"}, {\"v\": \"265: F/A-22 \"}, {\"v\": \"A1A: AIRFRAMES AND SPARES\"}, {\"v\": \"541710: RESEARCH AND DEVELOPMENT IN THE PHYSICAL, ENGINEERING, AND LIFE SCIENCES\"}, {\"v\": 3685231281.4200006}]}], \"cols\": [{\"type\": \"string\", \"id\": \"productorservicecode\", \"label\": \"productorservicecode\"}, {\"type\": \"string\", \"id\": \"systemequipmentcode\", \"label\": \"systemequipmentcode\"}, {\"type\": \"string\", \"id\": \"claimantprogramcode\", \"label\": \"claimantprogramcode\"}, {\"type\": \"string\", \"id\": \"principalnaicscode\", \"label\": \"principalnaicscode\"}, {\"type\": \"number\", \"id\": \"dollarsobligated\", \"label\": \"dollarsobligated\"}]},\n",
       "            {\n",
       "              pageSize: 25,\n",
       "              cssClassNames:  {\n",
       "                tableRow: 'gchart-table-row',\n",
       "                headerRow: 'gchart-table-headerrow',\n",
       "                oddTableRow: 'gchart-table-oddrow',\n",
       "                selectedTableRow: 'gchart-table-selectedrow',\n",
       "                hoverTableRow: 'gchart-table-hoverrow',\n",
       "                tableCell: 'gchart-table-cell',\n",
       "                headerCell: 'gchart-table-headercell',\n",
       "                rowNumberCell: 'gchart-table-rownumcell'\n",
       "              }\n",
       "            },\n",
       "            {source_index: 10, fields: 'productorservicecode,systemequipmentcode,claimantprogramcode,principalnaicscode,dollarsobligated'},\n",
       "            0,\n",
       "            20);\n",
       "        }\n",
       "      );\n",
       "    </script>\n",
       "  "
      ],
      "text/plain": [
       "QueryResultsTable job_x_0PqfgBlhqVEN6w5Ex8rnRRmsE"
      ]
     },
     "execution_count": 29,
     "metadata": {},
     "output_type": "execute_result"
    }
   ],
   "source": [
    "%%bq query\n",
    "select\n",
    "productorservicecode,\n",
    "systemequipmentcode,\n",
    "claimantprogramcode,\n",
    "principalnaicscode,\n",
    "sum(dollarsobligated) as dollarsobligated\n",
    "from `fiery-set-171213.vrec.usa_spending_all`\n",
    "where vendorname in ('LOCKHEED MARTIN CORPORATION')\n",
    "group by 1,2,3,4\n",
    "order by 5 DESC\n",
    "limit 20"
   ]
  },
  {
   "cell_type": "code",
   "execution_count": 30,
   "metadata": {
    "collapsed": false
   },
   "outputs": [
    {
     "data": {
      "text/html": [
       "\n",
       "    <div class=\"bqtv\" id=\"12_149831605864\"><table><tr><th>vendorname</th><th>systemequipmentcode</th><th>dollarsobligated</th></tr><tr><td>LOCKHEED MARTIN CORPORATION</td><td>198: JSF (F-35) </td><td>28184206750.3</td></tr><tr><td>LOCKHEED MARTIN CORPORATION</td><td>:</td><td>26614890662.8</td></tr><tr><td>MCDONNELL DOUGLAS CORPORATION</td><td>200: C-17A </td><td>22087470030.8</td></tr><tr><td>LOCKHEED MARTIN CORPORATION</td><td>198: F-35</td><td>21306624516.7</td></tr><tr><td>LOCKHEED MARTIN CORPORATION</td><td>265: F/A-22 </td><td>19154681175.1</td></tr><tr><td>MCDONNELL DOUGLAS CORPORATION</td><td>549: F/A-18 E/F </td><td>18911200956.0</td></tr><tr><td>THE BOEING COMPANY</td><td>:</td><td>13936870961.3</td></tr><tr><td>THE BOEING COMPANY</td><td>334: P-8A</td><td>11100547106.4</td></tr><tr><td>BOEING COMPANY, THE</td><td>:</td><td>10720289251.5</td></tr><tr><td>MCDONNELL DOUGLAS CORPORATION</td><td>:</td><td>10702937261.0</td></tr><tr><td>THE BOEING COMPANY</td><td>387: KC-46A</td><td>10075967071.1</td></tr><tr><td>LOCKHEED MARTIN CORPORATION</td><td>220: C130-J </td><td>9371996889.05</td></tr><tr><td>LOCKHEED MARTIN CORPORATION</td><td>220: C-130J </td><td>8456177123.0</td></tr><tr><td>BELL BOEING JOINT PROJECT OFFICE</td><td>212: V22 </td><td>6014772197.5</td></tr><tr><td>MCDONNELL DOUGLAS CORPORATION,</td><td>:</td><td>5627290260.64</td></tr><tr><td>THE BOEING COMPANY</td><td>311: POSEIDON </td><td>5562548109.18</td></tr><tr><td>LOCKHEED MARTIN CORPORATION (3632)</td><td>327: C-5 RERP </td><td>4954447529.74</td></tr><tr><td>BELL BOEING JOINT PROJECT OFFICE</td><td>212: V-22 </td><td>4897019529.28</td></tr><tr><td>NORTHROP GRUMMAN SYSTEMS CORPORATION</td><td>364: E-2D AHE</td><td>4121105384.0</td></tr><tr><td>THE BOEING COMPANY</td><td>334: MMA </td><td>4068738438.96</td></tr></table></div>\n",
       "    <br />(rows: 20, time: 1.8s,     3GB processed, job: job_AQ7Fn2qUc0_ZVAnxvXFtUhZgntc)<br />\n",
       "    <script>\n",
       "\n",
       "      require.config({\n",
       "        paths: {\n",
       "          d3: '//cdnjs.cloudflare.com/ajax/libs/d3/3.4.13/d3',\n",
       "          plotly: 'https://cdn.plot.ly/plotly-1.5.1.min.js?noext',\n",
       "          jquery: '//ajax.googleapis.com/ajax/libs/jquery/2.0.0/jquery.min'\n",
       "        },\n",
       "        map: {\n",
       "          '*': {\n",
       "            datalab: 'nbextensions/gcpdatalab'\n",
       "          }\n",
       "        },\n",
       "        shim: {\n",
       "          plotly: {\n",
       "            deps: ['d3', 'jquery'],\n",
       "            exports: 'plotly'\n",
       "          }\n",
       "        }\n",
       "      });\n",
       "\n",
       "      require(['datalab/charting', 'datalab/element!12_149831605864', 'base/js/events',\n",
       "          'datalab/style!/nbextensions/gcpdatalab/charting.css'],\n",
       "        function(charts, dom, events) {\n",
       "          charts.render('gcharts', dom, events, 'table', [], {\"rows\": [{\"c\": [{\"v\": \"LOCKHEED MARTIN CORPORATION\"}, {\"v\": \"198: JSF (F-35) \"}, {\"v\": 28184206750.29}]}, {\"c\": [{\"v\": \"LOCKHEED MARTIN CORPORATION\"}, {\"v\": \":\"}, {\"v\": 26614890662.840023}]}, {\"c\": [{\"v\": \"MCDONNELL DOUGLAS CORPORATION\"}, {\"v\": \"200: C-17A \"}, {\"v\": 22087470030.83}]}, {\"c\": [{\"v\": \"LOCKHEED MARTIN CORPORATION\"}, {\"v\": \"198: F-35\"}, {\"v\": 21306624516.70001}]}, {\"c\": [{\"v\": \"LOCKHEED MARTIN CORPORATION\"}, {\"v\": \"265: F/A-22 \"}, {\"v\": 19154681175.120003}]}, {\"c\": [{\"v\": \"MCDONNELL DOUGLAS CORPORATION\"}, {\"v\": \"549: F/A-18 E/F \"}, {\"v\": 18911200956.000004}]}, {\"c\": [{\"v\": \"THE BOEING COMPANY\"}, {\"v\": \":\"}, {\"v\": 13936870961.300001}]}, {\"c\": [{\"v\": \"THE BOEING COMPANY\"}, {\"v\": \"334: P-8A\"}, {\"v\": 11100547106.359999}]}, {\"c\": [{\"v\": \"BOEING COMPANY, THE\"}, {\"v\": \":\"}, {\"v\": 10720289251.46}]}, {\"c\": [{\"v\": \"MCDONNELL DOUGLAS CORPORATION\"}, {\"v\": \":\"}, {\"v\": 10702937260.990004}]}, {\"c\": [{\"v\": \"THE BOEING COMPANY\"}, {\"v\": \"387: KC-46A\"}, {\"v\": 10075967071.050001}]}, {\"c\": [{\"v\": \"LOCKHEED MARTIN CORPORATION\"}, {\"v\": \"220: C130-J \"}, {\"v\": 9371996889.050001}]}, {\"c\": [{\"v\": \"LOCKHEED MARTIN CORPORATION\"}, {\"v\": \"220: C-130J \"}, {\"v\": 8456177123.000001}]}, {\"c\": [{\"v\": \"BELL BOEING JOINT PROJECT OFFICE\"}, {\"v\": \"212: V22 \"}, {\"v\": 6014772197.5}]}, {\"c\": [{\"v\": \"MCDONNELL DOUGLAS CORPORATION,\"}, {\"v\": \":\"}, {\"v\": 5627290260.639999}]}, {\"c\": [{\"v\": \"THE BOEING COMPANY\"}, {\"v\": \"311: POSEIDON \"}, {\"v\": 5562548109.18}]}, {\"c\": [{\"v\": \"LOCKHEED MARTIN CORPORATION (3632)\"}, {\"v\": \"327: C-5 RERP \"}, {\"v\": 4954447529.74}]}, {\"c\": [{\"v\": \"BELL BOEING JOINT PROJECT OFFICE\"}, {\"v\": \"212: V-22 \"}, {\"v\": 4897019529.279999}]}, {\"c\": [{\"v\": \"NORTHROP GRUMMAN SYSTEMS CORPORATION\"}, {\"v\": \"364: E-2D AHE\"}, {\"v\": 4121105384.0000005}]}, {\"c\": [{\"v\": \"THE BOEING COMPANY\"}, {\"v\": \"334: MMA \"}, {\"v\": 4068738438.9599996}]}], \"cols\": [{\"type\": \"string\", \"id\": \"vendorname\", \"label\": \"vendorname\"}, {\"type\": \"string\", \"id\": \"systemequipmentcode\", \"label\": \"systemequipmentcode\"}, {\"type\": \"number\", \"id\": \"dollarsobligated\", \"label\": \"dollarsobligated\"}]},\n",
       "            {\n",
       "              pageSize: 25,\n",
       "              cssClassNames:  {\n",
       "                tableRow: 'gchart-table-row',\n",
       "                headerRow: 'gchart-table-headerrow',\n",
       "                oddTableRow: 'gchart-table-oddrow',\n",
       "                selectedTableRow: 'gchart-table-selectedrow',\n",
       "                hoverTableRow: 'gchart-table-hoverrow',\n",
       "                tableCell: 'gchart-table-cell',\n",
       "                headerCell: 'gchart-table-headercell',\n",
       "                rowNumberCell: 'gchart-table-rownumcell'\n",
       "              }\n",
       "            },\n",
       "            {source_index: 11, fields: 'vendorname,systemequipmentcode,dollarsobligated'},\n",
       "            0,\n",
       "            20);\n",
       "        }\n",
       "      );\n",
       "    </script>\n",
       "  "
      ],
      "text/plain": [
       "QueryResultsTable job_AQ7Fn2qUc0_ZVAnxvXFtUhZgntc"
      ]
     },
     "execution_count": 30,
     "metadata": {},
     "output_type": "execute_result"
    }
   ],
   "source": [
    "%%bq query\n",
    "select\n",
    "#mod_parent,\n",
    "vendorname,\n",
    "systemequipmentcode,\n",
    "sum(dollarsobligated) as dollarsobligated\n",
    "from `fiery-set-171213.vrec.usa_spending_all`\n",
    "where productorservicecode in ('1510: AIRCRAFT, FIXED WING')\n",
    "group by 1,2\n",
    "order by 3 DESC\n",
    "limit 20"
   ]
  },
  {
   "cell_type": "code",
   "execution_count": 32,
   "metadata": {
    "collapsed": false
   },
   "outputs": [
    {
     "data": {
      "text/html": [
       "\n",
       "    <div class=\"bqtv\" id=\"13_149831608395\"><table><tr><th>vendorname</th><th>systemequipmentcode</th><th>claimantprogramcode</th><th>principalnaicscode</th><th>dollarsobligated</th></tr><tr><td>SABRELINER CORPORATION</td><td>3ADH: </td><td>A1A: AIRFRAMES AND SPARES</td><td>336413: OTHER AIRCRAFT PARTS AND AUXILIARY EQUIPMENT MANUFACTURING</td><td>115828265.0</td></tr><tr><td>TKC AEROSPACE</td><td>:</td><td>:</td><td>541330: ENGINEERING SERVICES</td><td>57520022.28</td></tr><tr><td>MISSION RESEARCH CORPORATION</td><td>:</td><td>A1A: AIRFRAMES AND SPARES</td><td>336413: OTHER AIRCRAFT PARTS AND AUXILIARY EQUIPMENT MANUFACTURING</td><td>53402855.9</td></tr><tr><td>ORION AIR GROUP, LLC</td><td>:</td><td>A1C: OTHER AIRCRAFT EQUIPMENT </td><td>336411: AIRCRAFT MANUFACTURING</td><td>50000000.0</td></tr><tr><td>AEROVIRONMENT INCORPORATED</td><td>:</td><td>A1A: AIRFRAMES AND SPARES</td><td>336411: AIRCRAFT MANUFACTURING</td><td>44710062.38</td></tr><tr><td>DYNAMIC AVIATION GROUP, INC.</td><td>:</td><td>A1A: AIRFRAMES AND SPARES</td><td>336411: AIRCRAFT MANUFACTURING</td><td>39218969.0</td></tr><tr><td>TKC AEROSPACE INC.</td><td>:</td><td>:</td><td>336411: AIRCRAFT MANUFACTURING</td><td>33869649.97</td></tr><tr><td>TKC AEROSPACE</td><td>:</td><td>:</td><td>336411: AIRCRAFT MANUFACTURING</td><td>31932233.4</td></tr><tr><td>TKC AEROSPACE, INC.</td><td>:</td><td>:</td><td>336411: AIRCRAFT MANUFACTURING</td><td>31925543.76</td></tr><tr><td>DME CORPORATIONINC</td><td>3000: </td><td>A1C: OTHER AIRCRAFT EQUIPMENT </td><td>336411: AIRCRAFT MANUFACTURING</td><td>31710250.0</td></tr><tr><td>CYMSTAR LLC</td><td>:</td><td>A1C: OTHER AIRCRAFT EQUIPMENT </td><td>336413: OTHER AIRCRAFT PARTS AND AUXILIARY EQUIPMENT MANUFACTURING</td><td>31553729.07</td></tr><tr><td>PHOENIX HELIPARTS INC.</td><td>:</td><td>:</td><td>336411: AIRCRAFT MANUFACTURING</td><td>24694347.75</td></tr><tr><td>SIERRA NEVADA CORPORATION</td><td>:</td><td>A1C: OTHER AIRCRAFT EQUIPMENT </td><td>336413: OTHER AIRCRAFT PARTS AND AUXILIARY EQUIPMENT MANUFACTURING</td><td>24145609.0</td></tr><tr><td>MISSION RESEARCH CORPORATION</td><td>3000: </td><td>A1A: AIRFRAMES AND SPARES</td><td>336413: OTHER AIRCRAFT PARTS AND AUXILIARY EQUIPMENT MANUFACTURING</td><td>23700000.0</td></tr><tr><td>SABRELINER CORPORATION</td><td>:</td><td>A1A: AIRFRAMES AND SPARES</td><td>336413: OTHER AIRCRAFT PARTS AND AUXILIARY EQUIPMENT MANUFACTURING</td><td>22307953.0</td></tr><tr><td>AIRCRAFT PORTFOLIO MANAGEMENT</td><td>:</td><td>A1A: AIRFRAMES AND SPARES</td><td>336411: AIRCRAFT MANUFACTURING</td><td>22012000.0</td></tr><tr><td>MIDWEST JET CENTER, LLC</td><td>:</td><td>:</td><td>481211: NONSCHEDULED CHARTERED PASSENGER AIR TRANSPORTATION</td><td>17280000.0</td></tr><tr><td>FLIGHTSAFETY INTERNATIONAL</td><td>:</td><td>:</td><td>611512: FLIGHT TRAINING</td><td>15534920.0</td></tr><tr><td>AIR TRACTOR INCORPORATED</td><td>:</td><td>:</td><td>336411: AIRCRAFT MANUFACTURING</td><td>15490012.28</td></tr><tr><td>KIG TECHNICAL SERVICES, LLC</td><td>:</td><td>A1A: AIRFRAMES AND SPARES</td><td>336411: AIRCRAFT MANUFACTURING</td><td>14998282.59</td></tr></table></div>\n",
       "    <br />(rows: 20, time: 1.7s,     8GB processed, job: job_Jxmlr6OBq0IRlMiMMXNZ_GLQAK0)<br />\n",
       "    <script>\n",
       "\n",
       "      require.config({\n",
       "        paths: {\n",
       "          d3: '//cdnjs.cloudflare.com/ajax/libs/d3/3.4.13/d3',\n",
       "          plotly: 'https://cdn.plot.ly/plotly-1.5.1.min.js?noext',\n",
       "          jquery: '//ajax.googleapis.com/ajax/libs/jquery/2.0.0/jquery.min'\n",
       "        },\n",
       "        map: {\n",
       "          '*': {\n",
       "            datalab: 'nbextensions/gcpdatalab'\n",
       "          }\n",
       "        },\n",
       "        shim: {\n",
       "          plotly: {\n",
       "            deps: ['d3', 'jquery'],\n",
       "            exports: 'plotly'\n",
       "          }\n",
       "        }\n",
       "      });\n",
       "\n",
       "      require(['datalab/charting', 'datalab/element!13_149831608395', 'base/js/events',\n",
       "          'datalab/style!/nbextensions/gcpdatalab/charting.css'],\n",
       "        function(charts, dom, events) {\n",
       "          charts.render('gcharts', dom, events, 'table', [], {\"rows\": [{\"c\": [{\"v\": \"SABRELINER CORPORATION\"}, {\"v\": \"3ADH: \"}, {\"v\": \"A1A: AIRFRAMES AND SPARES\"}, {\"v\": \"336413: OTHER AIRCRAFT PARTS AND AUXILIARY EQUIPMENT MANUFACTURING\"}, {\"v\": 115828265.0}]}, {\"c\": [{\"v\": \"TKC AEROSPACE\"}, {\"v\": \":\"}, {\"v\": \":\"}, {\"v\": \"541330: ENGINEERING SERVICES\"}, {\"v\": 57520022.279999994}]}, {\"c\": [{\"v\": \"MISSION RESEARCH CORPORATION\"}, {\"v\": \":\"}, {\"v\": \"A1A: AIRFRAMES AND SPARES\"}, {\"v\": \"336413: OTHER AIRCRAFT PARTS AND AUXILIARY EQUIPMENT MANUFACTURING\"}, {\"v\": 53402855.9}]}, {\"c\": [{\"v\": \"ORION AIR GROUP, LLC\"}, {\"v\": \":\"}, {\"v\": \"A1C: OTHER AIRCRAFT EQUIPMENT \"}, {\"v\": \"336411: AIRCRAFT MANUFACTURING\"}, {\"v\": 50000000.0}]}, {\"c\": [{\"v\": \"AEROVIRONMENT INCORPORATED\"}, {\"v\": \":\"}, {\"v\": \"A1A: AIRFRAMES AND SPARES\"}, {\"v\": \"336411: AIRCRAFT MANUFACTURING\"}, {\"v\": 44710062.379999995}]}, {\"c\": [{\"v\": \"DYNAMIC AVIATION GROUP, INC.\"}, {\"v\": \":\"}, {\"v\": \"A1A: AIRFRAMES AND SPARES\"}, {\"v\": \"336411: AIRCRAFT MANUFACTURING\"}, {\"v\": 39218969.0}]}, {\"c\": [{\"v\": \"TKC AEROSPACE INC.\"}, {\"v\": \":\"}, {\"v\": \":\"}, {\"v\": \"336411: AIRCRAFT MANUFACTURING\"}, {\"v\": 33869649.97}]}, {\"c\": [{\"v\": \"TKC AEROSPACE\"}, {\"v\": \":\"}, {\"v\": \":\"}, {\"v\": \"336411: AIRCRAFT MANUFACTURING\"}, {\"v\": 31932233.4}]}, {\"c\": [{\"v\": \"TKC AEROSPACE, INC.\"}, {\"v\": \":\"}, {\"v\": \":\"}, {\"v\": \"336411: AIRCRAFT MANUFACTURING\"}, {\"v\": 31925543.76}]}, {\"c\": [{\"v\": \"DME CORPORATIONINC\"}, {\"v\": \"3000: \"}, {\"v\": \"A1C: OTHER AIRCRAFT EQUIPMENT \"}, {\"v\": \"336411: AIRCRAFT MANUFACTURING\"}, {\"v\": 31710250.0}]}, {\"c\": [{\"v\": \"CYMSTAR LLC\"}, {\"v\": \":\"}, {\"v\": \"A1C: OTHER AIRCRAFT EQUIPMENT \"}, {\"v\": \"336413: OTHER AIRCRAFT PARTS AND AUXILIARY EQUIPMENT MANUFACTURING\"}, {\"v\": 31553729.07}]}, {\"c\": [{\"v\": \"PHOENIX HELIPARTS INC.\"}, {\"v\": \":\"}, {\"v\": \":\"}, {\"v\": \"336411: AIRCRAFT MANUFACTURING\"}, {\"v\": 24694347.75}]}, {\"c\": [{\"v\": \"SIERRA NEVADA CORPORATION\"}, {\"v\": \":\"}, {\"v\": \"A1C: OTHER AIRCRAFT EQUIPMENT \"}, {\"v\": \"336413: OTHER AIRCRAFT PARTS AND AUXILIARY EQUIPMENT MANUFACTURING\"}, {\"v\": 24145609.0}]}, {\"c\": [{\"v\": \"MISSION RESEARCH CORPORATION\"}, {\"v\": \"3000: \"}, {\"v\": \"A1A: AIRFRAMES AND SPARES\"}, {\"v\": \"336413: OTHER AIRCRAFT PARTS AND AUXILIARY EQUIPMENT MANUFACTURING\"}, {\"v\": 23700000.0}]}, {\"c\": [{\"v\": \"SABRELINER CORPORATION\"}, {\"v\": \":\"}, {\"v\": \"A1A: AIRFRAMES AND SPARES\"}, {\"v\": \"336413: OTHER AIRCRAFT PARTS AND AUXILIARY EQUIPMENT MANUFACTURING\"}, {\"v\": 22307953.0}]}, {\"c\": [{\"v\": \"AIRCRAFT PORTFOLIO MANAGEMENT\"}, {\"v\": \":\"}, {\"v\": \"A1A: AIRFRAMES AND SPARES\"}, {\"v\": \"336411: AIRCRAFT MANUFACTURING\"}, {\"v\": 22012000.0}]}, {\"c\": [{\"v\": \"MIDWEST JET CENTER, LLC\"}, {\"v\": \":\"}, {\"v\": \":\"}, {\"v\": \"481211: NONSCHEDULED CHARTERED PASSENGER AIR TRANSPORTATION\"}, {\"v\": 17280000.0}]}, {\"c\": [{\"v\": \"FLIGHTSAFETY INTERNATIONAL\"}, {\"v\": \":\"}, {\"v\": \":\"}, {\"v\": \"611512: FLIGHT TRAINING\"}, {\"v\": 15534920.0}]}, {\"c\": [{\"v\": \"AIR TRACTOR INCORPORATED\"}, {\"v\": \":\"}, {\"v\": \":\"}, {\"v\": \"336411: AIRCRAFT MANUFACTURING\"}, {\"v\": 15490012.280000001}]}, {\"c\": [{\"v\": \"KIG TECHNICAL SERVICES, LLC\"}, {\"v\": \":\"}, {\"v\": \"A1A: AIRFRAMES AND SPARES\"}, {\"v\": \"336411: AIRCRAFT MANUFACTURING\"}, {\"v\": 14998282.59}]}], \"cols\": [{\"type\": \"string\", \"id\": \"vendorname\", \"label\": \"vendorname\"}, {\"type\": \"string\", \"id\": \"systemequipmentcode\", \"label\": \"systemequipmentcode\"}, {\"type\": \"string\", \"id\": \"claimantprogramcode\", \"label\": \"claimantprogramcode\"}, {\"type\": \"string\", \"id\": \"principalnaicscode\", \"label\": \"principalnaicscode\"}, {\"type\": \"number\", \"id\": \"dollarsobligated\", \"label\": \"dollarsobligated\"}]},\n",
       "            {\n",
       "              pageSize: 25,\n",
       "              cssClassNames:  {\n",
       "                tableRow: 'gchart-table-row',\n",
       "                headerRow: 'gchart-table-headerrow',\n",
       "                oddTableRow: 'gchart-table-oddrow',\n",
       "                selectedTableRow: 'gchart-table-selectedrow',\n",
       "                hoverTableRow: 'gchart-table-hoverrow',\n",
       "                tableCell: 'gchart-table-cell',\n",
       "                headerCell: 'gchart-table-headercell',\n",
       "                rowNumberCell: 'gchart-table-rownumcell'\n",
       "              }\n",
       "            },\n",
       "            {source_index: 12, fields: 'vendorname,systemequipmentcode,claimantprogramcode,principalnaicscode,dollarsobligated'},\n",
       "            0,\n",
       "            20);\n",
       "        }\n",
       "      );\n",
       "    </script>\n",
       "  "
      ],
      "text/plain": [
       "QueryResultsTable job_Jxmlr6OBq0IRlMiMMXNZ_GLQAK0"
      ]
     },
     "execution_count": 32,
     "metadata": {},
     "output_type": "execute_result"
    }
   ],
   "source": [
    "%%bq query\n",
    "select\n",
    "vendorname,\n",
    "systemequipmentcode,\n",
    "claimantprogramcode,\n",
    "principalnaicscode,\n",
    "sum(dollarsobligated) as dollarsobligated\n",
    "from `fiery-set-171213.vrec.usa_spending_all`\n",
    "where productorservicecode in ('1510: AIRCRAFT, FIXED WING')\n",
    "and contractingofficerbusinesssizedetermination in ('S: SMALL BUSINESS')\n",
    "group by 1,2,3,4\n",
    "order by dollarsobligated DESC\n",
    "limit 20"
   ]
  },
  {
   "cell_type": "code",
   "execution_count": 190,
   "metadata": {
    "collapsed": false
   },
   "outputs": [
    {
     "data": {
      "text/html": [
       "\n",
       "    <div class=\"bqtv\" id=\"58_149782449951\"><table><tr><th>unique_transaction_id</th><th>transaction_status</th><th>dollarsobligated</th><th>baseandexercisedoptionsvalue</th><th>baseandalloptionsvalue</th><th>maj_agency_cat</th><th>mod_agency</th><th>maj_fund_agency_cat</th><th>contractingofficeagencyid</th><th>contractingofficeid</th><th>fundingrequestingagencyid</th><th>fundingrequestingofficeid</th><th>fundedbyforeignentity</th><th>signeddate</th><th>effectivedate</th><th>currentcompletiondate</th><th>ultimatecompletiondate</th><th>lastdatetoorder</th><th>contractactiontype</th><th>reasonformodification</th><th>typeofcontractpricing</th><th>priceevaluationpercentdifference</th><th>subcontractplan</th><th>lettercontract</th><th>multiyearcontract</th><th>performancebasedservicecontract</th><th>majorprogramcode</th><th>contingencyhumanitarianpeacekeepingoperation</th><th>contractfinancing</th><th>costorpricingdata</th><th>costaccountingstandardsclause</th><th>descriptionofcontractrequirement</th><th>purchasecardaspaymentmethod</th><th>numberofactions</th><th>nationalinterestactioncode</th><th>progsourceagency</th><th>progsourceaccount</th><th>progsourcesubacct</th><th>account_title</th><th>rec_flag</th><th>typeofidc</th><th>multipleorsingleawardidc</th><th>programacronym</th><th>vendorname</th><th>vendoralternatename</th><th>vendorlegalorganizationname</th><th>vendordoingasbusinessname</th><th>divisionname</th><th>divisionnumberorofficecode</th><th>vendorenabled</th><th>vendorlocationdisableflag</th><th>ccrexception</th><th>streetaddress</th><th>streetaddress2</th><th>streetaddress3</th><th>city</th><th>state</th><th>zipcode</th><th>vendorcountrycode</th><th>vendor_state_code</th><th>vendor_cd</th><th>congressionaldistrict</th><th>vendorsitecode</th><th>vendoralternatesitecode</th><th>dunsnumber</th><th>parentdunsnumber</th><th>phoneno</th><th>faxno</th><th>registrationdate</th><th>renewaldate</th><th>mod_parent</th><th>locationcode</th><th>statecode</th><th>PlaceofPerformanceCity</th><th>pop_state_code</th><th>placeofperformancecountrycode</th><th>placeofperformancezipcode</th><th>pop_cd</th><th>placeofperformancecongressionaldistrict</th><th>psc_cat</th><th>productorservicecode</th><th>systemequipmentcode</th><th>claimantprogramcode</th><th>principalnaicscode</th><th>informationtechnologycommercialitemcategory</th><th>gfe_gfp</th><th>useofepadesignatedproducts</th><th>recoveredmaterialclauses</th><th>seatransportation</th><th>contractbundling</th><th>consolidatedcontract</th><th>countryoforigin</th><th>placeofmanufacture</th><th>manufacturingorganizationtype</th><th>agencyid</th><th>piid</th><th>modnumber</th><th>transactionnumber</th><th>fiscal_year</th><th>idvagencyid</th><th>idvpiid</th><th>idvmodificationnumber</th><th>solicitationid</th><th>extentcompeted</th><th>reasonnotcompeted</th><th>numberofoffersreceived</th><th>commercialitemacquisitionprocedures</th><th>commercialitemtestprogram</th><th>smallbusinesscompetitivenessdemonstrationprogram</th><th>a76action</th><th>competitiveprocedures</th><th>solicitationprocedures</th><th>typeofsetaside</th><th>localareasetaside</th><th>evaluatedpreference</th><th>fedbizopps</th><th>research</th><th>statutoryexceptiontofairopportunity</th><th>organizationaltype</th><th>numberofemployees</th><th>annualrevenue</th><th>firm8aflag</th><th>hubzoneflag</th><th>sdbflag</th><th>issbacertifiedsmalldisadvantagedbusiness</th><th>shelteredworkshopflag</th><th>hbcuflag</th><th>educationalinstitutionflag</th><th>womenownedflag</th><th>veteranownedflag</th><th>srdvobflag</th><th>localgovernmentflag</th><th>minorityinstitutionflag</th><th>aiobflag</th><th>stategovernmentflag</th><th>federalgovernmentflag</th><th>minorityownedbusinessflag</th><th>apaobflag</th><th>tribalgovernmentflag</th><th>baobflag</th><th>naobflag</th><th>saaobflag</th><th>nonprofitorganizationflag</th><th>isothernotforprofitorganization</th><th>isforprofitorganization</th><th>isfoundation</th><th>haobflag</th><th>ishispanicservicinginstitution</th><th>emergingsmallbusinessflag</th><th>hospitalflag</th><th>contractingofficerbusinesssizedetermination</th><th>is1862landgrantcollege</th><th>is1890landgrantcollege</th><th>is1994landgrantcollege</th><th>isveterinarycollege</th><th>isveterinaryhospital</th><th>isprivateuniversityorcollege</th><th>isschoolofforestry</th><th>isstatecontrolledinstitutionofhigherlearning</th><th>isserviceprovider</th><th>receivescontracts</th><th>receivesgrants</th><th>receivescontractsandgrants</th><th>isairportauthority</th><th>iscouncilofgovernments</th><th>ishousingauthoritiespublicortribal</th><th>isinterstateentity</th><th>isplanningcommission</th><th>isportauthority</th><th>istransitauthority</th><th>issubchapterscorporation</th><th>islimitedliabilitycorporation</th><th>isforeignownedandlocated</th><th>isarchitectureandengineering</th><th>isdotcertifieddisadvantagedbusinessenterprise</th><th>iscitylocalgovernment</th><th>iscommunitydevelopedcorporationownedfirm</th><th>iscommunitydevelopmentcorporation</th><th>isconstructionfirm</th><th>ismanufacturerofgoods</th><th>iscorporateentitynottaxexempt</th><th>iscountylocalgovernment</th><th>isdomesticshelter</th><th>isfederalgovernmentagency</th><th>isfederallyfundedresearchanddevelopmentcorp</th><th>isforeigngovernment</th><th>isindiantribe</th><th>isintermunicipallocalgovernment</th><th>isinternationalorganization</th><th>islaborsurplusareafirm</th><th>islocalgovernmentowned</th><th>ismunicipalitylocalgovernment</th><th>isnativehawaiianownedorganizationorfirm</th><th>isotherbusinessororganization</th><th>isotherminorityowned</th><th>ispartnershiporlimitedliabilitypartnership</th><th>isschooldistrictlocalgovernment</th><th>issmallagriculturalcooperative</th><th>issoleproprietorship</th><th>istownshiplocalgovernment</th><th>istriballyownedfirm</th><th>istribalcollege</th><th>isalaskannativeownedcorporationorfirm</th><th>iscorporateentitytaxexempt</th><th>iswomenownedsmallbusiness</th><th>isecondisadvwomenownedsmallbusiness</th><th>isjointventurewomenownedsmallbusiness</th><th>isjointventureecondisadvwomenownedsmallbusiness</th><th>walshhealyact</th><th>servicecontractact</th><th>davisbaconact</th><th>clingercohenact</th><th>otherstatutoryauthority</th><th>prime_awardee_executive1</th><th>prime_awardee_executive1_compensation</th><th>prime_awardee_executive2</th><th>prime_awardee_executive2_compensation</th><th>prime_awardee_executive3</th><th>prime_awardee_executive3_compensation</th><th>prime_awardee_executive4</th><th>prime_awardee_executive4_compensation</th><th>prime_awardee_executive5</th><th>prime_awardee_executive5_compensation</th><th>interagencycontractingauthority</th><th>last_modified_date</th></tr><tr><td>1890f27bde114a80357a916d3212edb6</td><td>active</td><td>166000.0</td><td>0.0</td><td>0.0</td><td>9514: OCCUPATIONAL SAFETY AND HEALTH REVIEW COMMISSION</td><td>1226: FOREST SERVICE</td><td>9514: OCCUPATIONAL SAFETY AND HEALTH REVIEW COMMISSION</td><td>1226: FOREST SERVICE</td><td>091S8: DEPT OF AGRIC/FOREST SERVICE</td><td>1226: FOREST SERVICE</td><td>:</td><td>Not Applicable</td><td>03/15/2001</td><td>03/15/2001</td><td>03/15/2003</td><td>03/15/2003</td><td>01/01/1900</td><td>DCA Definitive Contract</td><td>:</td><td>K: Fixed Price with Economic Price Adjustment</td><td>0.0</td><td>B: PLAN NOT REQUIRED </td><td>X</td><td>N: No</td><td>X: NOT APPLICABLE</td><td></td><td>:</td><td>:</td><td>:</td><td>X</td><td></td><td>N: No</td><td>1</td><td>NONE: NONE</td><td></td><td></td><td></td><td></td><td></td><td></td><td>:</td><td></td><td>COMMANDER NORTHWEST LIMITED</td><td></td><td></td><td></td><td></td><td></td><td></td><td></td><td></td><td>200 AIRPORT WAY</td><td></td><td></td><td>EAST WENATCHEE</td><td>WA</td><td>988028746</td><td>UNITED STATES</td><td>WA</td><td>WA04</td><td>WA04</td><td></td><td></td><td>012230475</td><td>012230475</td><td></td><td></td><td>01/01/1900</td><td>01/01/1900</td><td>COMMANDER NORTHWEST LIMITED</td><td>54652</td><td>CA: CALIFORNIA</td><td></td><td>CA: </td><td>USA: UNITED STATES</td><td></td><td>CA00</td><td>CA00</td><td>15</td><td>1510: AIRCRAFT, FIXED WING</td><td>:</td><td>:</td><td>115310: SUPPORT ACTIVITIES FOR FORESTRY</td><td>:</td><td>N: Transaction does not use GFE/GFP</td><td>:</td><td>:</td><td>:</td><td>D: NOT A BUNDLED REQUIREMENT</td><td>N: No</td><td>USA</td><td>:</td><td>:</td><td>1226: FOREST SERVICE</td><td>091S8200103D5591S801AF19</td><td>0</td><td>0</td><td>2001</td><td></td><td></td><td></td><td></td><td>A: FULL AND OPEN COMPETITION</td><td>:</td><td>2</td><td>A: </td><td>N: No</td><td>N: NO</td><td>No</td><td></td><td>:</td><td>:</td><td></td><td>:</td><td>Y</td><td></td><td></td><td></td><td>0</td><td>0.0</td><td>N</td><td>N</td><td>N</td><td>N</td><td>N</td><td>N</td><td>N</td><td>N</td><td>N</td><td>N</td><td>N</td><td>N</td><td>N</td><td>N</td><td>N</td><td>N</td><td>N</td><td>N</td><td>N</td><td>N</td><td>N</td><td>N</td><td>N</td><td>N</td><td>N</td><td>N</td><td>N</td><td>N</td><td>N</td><td>S: SMALL BUSINESS</td><td>N</td><td>N</td><td>N</td><td>N</td><td>N</td><td>N</td><td>N</td><td>N</td><td></td><td>N</td><td>N</td><td>N</td><td>N</td><td>N</td><td>N</td><td>N</td><td>N</td><td>N</td><td>N</td><td>N</td><td>N</td><td>N</td><td>N</td><td></td><td>N</td><td>N</td><td>N</td><td>N</td><td>N</td><td>N</td><td>N</td><td>N</td><td>N</td><td>N</td><td>N</td><td>N</td><td>N</td><td>N</td><td>N</td><td>N</td><td>N</td><td>N</td><td>N</td><td>N</td><td>N</td><td>N</td><td>N</td><td>N</td><td>N</td><td>N</td><td>N</td><td>N</td><td>N</td><td>N</td><td>N</td><td>N</td><td>N</td><td>N: No</td><td>Y: Yes</td><td>X: Not Applicable</td><td>N: No</td><td></td><td></td><td>0.0</td><td></td><td>0.0</td><td></td><td>0.0</td><td></td><td>0.0</td><td></td><td>0.0</td><td>X: Not Applicable</td><td>06/27/2001</td></tr></table></div>\n",
       "    <br />(rows: 1, time: 2.1s,    83GB processed, job: job_huiMES8smOVDiBF3FFl2ocZ8ZP0)<br />\n",
       "    <script>\n",
       "\n",
       "      require.config({\n",
       "        paths: {\n",
       "          d3: '//cdnjs.cloudflare.com/ajax/libs/d3/3.4.13/d3',\n",
       "          plotly: 'https://cdn.plot.ly/plotly-1.5.1.min.js?noext',\n",
       "          jquery: '//ajax.googleapis.com/ajax/libs/jquery/2.0.0/jquery.min'\n",
       "        },\n",
       "        map: {\n",
       "          '*': {\n",
       "            datalab: 'nbextensions/gcpdatalab'\n",
       "          }\n",
       "        },\n",
       "        shim: {\n",
       "          plotly: {\n",
       "            deps: ['d3', 'jquery'],\n",
       "            exports: 'plotly'\n",
       "          }\n",
       "        }\n",
       "      });\n",
       "\n",
       "      require(['datalab/charting', 'datalab/element!58_149782449951', 'base/js/events',\n",
       "          'datalab/style!/nbextensions/gcpdatalab/charting.css'],\n",
       "        function(charts, dom, events) {\n",
       "          charts.render('gcharts', dom, events, 'table', [], {\"rows\": [{\"c\": [{\"v\": \"1890f27bde114a80357a916d3212edb6\"}, {\"v\": \"active\"}, {\"v\": 166000.0}, {\"v\": 0.0}, {\"v\": 0.0}, {\"v\": \"9514: OCCUPATIONAL SAFETY AND HEALTH REVIEW COMMISSION\"}, {\"v\": \"1226: FOREST SERVICE\"}, {\"v\": \"9514: OCCUPATIONAL SAFETY AND HEALTH REVIEW COMMISSION\"}, {\"v\": \"1226: FOREST SERVICE\"}, {\"v\": \"091S8: DEPT OF AGRIC/FOREST SERVICE\"}, {\"v\": \"1226: FOREST SERVICE\"}, {\"v\": \":\"}, {\"v\": \"Not Applicable\"}, {\"v\": \"03/15/2001\"}, {\"v\": \"03/15/2001\"}, {\"v\": \"03/15/2003\"}, {\"v\": \"03/15/2003\"}, {\"v\": \"01/01/1900\"}, {\"v\": \"DCA Definitive Contract\"}, {\"v\": \":\"}, {\"v\": \"K: Fixed Price with Economic Price Adjustment\"}, {\"v\": 0.0}, {\"v\": \"B: PLAN NOT REQUIRED \"}, {\"v\": \"X\"}, {\"v\": \"N: No\"}, {\"v\": \"X: NOT APPLICABLE\"}, {\"v\": \"\"}, {\"v\": \":\"}, {\"v\": \":\"}, {\"v\": \":\"}, {\"v\": \"X\"}, {\"v\": \"\"}, {\"v\": \"N: No\"}, {\"v\": \"1\"}, {\"v\": \"NONE: NONE\"}, {\"v\": \"\"}, {\"v\": \"\"}, {\"v\": \"\"}, {\"v\": \"\"}, {\"v\": \"\"}, {\"v\": \"\"}, {\"v\": \":\"}, {\"v\": \"\"}, {\"v\": \"COMMANDER NORTHWEST LIMITED\"}, {\"v\": \"\"}, {\"v\": \"\"}, {\"v\": \"\"}, {\"v\": \"\"}, {\"v\": \"\"}, {\"v\": \"\"}, {\"v\": \"\"}, {\"v\": \"\"}, {\"v\": \"200 AIRPORT WAY\"}, {\"v\": \"\"}, {\"v\": \"\"}, {\"v\": \"EAST WENATCHEE\"}, {\"v\": \"WA\"}, {\"v\": \"988028746\"}, {\"v\": \"UNITED STATES\"}, {\"v\": \"WA\"}, {\"v\": \"WA04\"}, {\"v\": \"WA04\"}, {\"v\": \"\"}, {\"v\": \"\"}, {\"v\": \"012230475\"}, {\"v\": \"012230475\"}, {\"v\": \"\"}, {\"v\": \"\"}, {\"v\": \"01/01/1900\"}, {\"v\": \"01/01/1900\"}, {\"v\": \"COMMANDER NORTHWEST LIMITED\"}, {\"v\": \"54652\"}, {\"v\": \"CA: CALIFORNIA\"}, {\"v\": \"\"}, {\"v\": \"CA: \"}, {\"v\": \"USA: UNITED STATES\"}, {\"v\": \"\"}, {\"v\": \"CA00\"}, {\"v\": \"CA00\"}, {\"v\": \"15\"}, {\"v\": \"1510: AIRCRAFT, FIXED WING\"}, {\"v\": \":\"}, {\"v\": \":\"}, {\"v\": \"115310: SUPPORT ACTIVITIES FOR FORESTRY\"}, {\"v\": \":\"}, {\"v\": \"N: Transaction does not use GFE/GFP\"}, {\"v\": \":\"}, {\"v\": \":\"}, {\"v\": \":\"}, {\"v\": \"D: NOT A BUNDLED REQUIREMENT\"}, {\"v\": \"N: No\"}, {\"v\": \"USA\"}, {\"v\": \":\"}, {\"v\": \":\"}, {\"v\": \"1226: FOREST SERVICE\"}, {\"v\": \"091S8200103D5591S801AF19\"}, {\"v\": \"0\"}, {\"v\": \"0\"}, {\"v\": 2001}, {\"v\": \"\"}, {\"v\": \"\"}, {\"v\": \"\"}, {\"v\": \"\"}, {\"v\": \"A: FULL AND OPEN COMPETITION\"}, {\"v\": \":\"}, {\"v\": 2}, {\"v\": \"A: \"}, {\"v\": \"N: No\"}, {\"v\": \"N: NO\"}, {\"v\": \"No\"}, {\"v\": \"\"}, {\"v\": \":\"}, {\"v\": \":\"}, {\"v\": \"\"}, {\"v\": \":\"}, {\"v\": \"Y\"}, {\"v\": \"\"}, {\"v\": \"\"}, {\"v\": \"\"}, {\"v\": 0}, {\"v\": 0.0}, {\"v\": \"N\"}, {\"v\": \"N\"}, {\"v\": \"N\"}, {\"v\": \"N\"}, {\"v\": \"N\"}, {\"v\": \"N\"}, {\"v\": \"N\"}, {\"v\": \"N\"}, {\"v\": \"N\"}, {\"v\": \"N\"}, {\"v\": \"N\"}, {\"v\": \"N\"}, {\"v\": \"N\"}, {\"v\": \"N\"}, {\"v\": \"N\"}, {\"v\": \"N\"}, {\"v\": \"N\"}, {\"v\": \"N\"}, {\"v\": \"N\"}, {\"v\": \"N\"}, {\"v\": \"N\"}, {\"v\": \"N\"}, {\"v\": \"N\"}, {\"v\": \"N\"}, {\"v\": \"N\"}, {\"v\": \"N\"}, {\"v\": \"N\"}, {\"v\": \"N\"}, {\"v\": \"N\"}, {\"v\": \"S: SMALL BUSINESS\"}, {\"v\": \"N\"}, {\"v\": \"N\"}, {\"v\": \"N\"}, {\"v\": \"N\"}, {\"v\": \"N\"}, {\"v\": \"N\"}, {\"v\": \"N\"}, {\"v\": \"N\"}, {\"v\": \"\"}, {\"v\": \"N\"}, {\"v\": \"N\"}, {\"v\": \"N\"}, {\"v\": \"N\"}, {\"v\": \"N\"}, {\"v\": \"N\"}, {\"v\": \"N\"}, {\"v\": \"N\"}, {\"v\": \"N\"}, {\"v\": \"N\"}, {\"v\": \"N\"}, {\"v\": \"N\"}, {\"v\": \"N\"}, {\"v\": \"N\"}, {\"v\": \"\"}, {\"v\": \"N\"}, {\"v\": \"N\"}, {\"v\": \"N\"}, {\"v\": \"N\"}, {\"v\": \"N\"}, {\"v\": \"N\"}, {\"v\": \"N\"}, {\"v\": \"N\"}, {\"v\": \"N\"}, {\"v\": \"N\"}, {\"v\": \"N\"}, {\"v\": \"N\"}, {\"v\": \"N\"}, {\"v\": \"N\"}, {\"v\": \"N\"}, {\"v\": \"N\"}, {\"v\": \"N\"}, {\"v\": \"N\"}, {\"v\": \"N\"}, {\"v\": \"N\"}, {\"v\": \"N\"}, {\"v\": \"N\"}, {\"v\": \"N\"}, {\"v\": \"N\"}, {\"v\": \"N\"}, {\"v\": \"N\"}, {\"v\": \"N\"}, {\"v\": \"N\"}, {\"v\": \"N\"}, {\"v\": \"N\"}, {\"v\": \"N\"}, {\"v\": \"N\"}, {\"v\": \"N\"}, {\"v\": \"N: No\"}, {\"v\": \"Y: Yes\"}, {\"v\": \"X: Not Applicable\"}, {\"v\": \"N: No\"}, {\"v\": \"\"}, {\"v\": \"\"}, {\"v\": 0.0}, {\"v\": \"\"}, {\"v\": 0.0}, {\"v\": \"\"}, {\"v\": 0.0}, {\"v\": \"\"}, {\"v\": 0.0}, {\"v\": \"\"}, {\"v\": 0.0}, {\"v\": \"X: Not Applicable\"}, {\"v\": \"06/27/2001\"}]}], \"cols\": [{\"type\": \"string\", \"id\": \"unique_transaction_id\", \"label\": \"unique_transaction_id\"}, {\"type\": \"string\", \"id\": \"transaction_status\", \"label\": \"transaction_status\"}, {\"type\": \"number\", \"id\": \"dollarsobligated\", \"label\": \"dollarsobligated\"}, {\"type\": \"number\", \"id\": \"baseandexercisedoptionsvalue\", \"label\": \"baseandexercisedoptionsvalue\"}, {\"type\": \"number\", \"id\": \"baseandalloptionsvalue\", \"label\": \"baseandalloptionsvalue\"}, {\"type\": \"string\", \"id\": \"maj_agency_cat\", \"label\": \"maj_agency_cat\"}, {\"type\": \"string\", \"id\": \"mod_agency\", \"label\": \"mod_agency\"}, {\"type\": \"string\", \"id\": \"maj_fund_agency_cat\", \"label\": \"maj_fund_agency_cat\"}, {\"type\": \"string\", \"id\": \"contractingofficeagencyid\", \"label\": \"contractingofficeagencyid\"}, {\"type\": \"string\", \"id\": \"contractingofficeid\", \"label\": \"contractingofficeid\"}, {\"type\": \"string\", \"id\": \"fundingrequestingagencyid\", \"label\": \"fundingrequestingagencyid\"}, {\"type\": \"string\", \"id\": \"fundingrequestingofficeid\", \"label\": \"fundingrequestingofficeid\"}, {\"type\": \"string\", \"id\": \"fundedbyforeignentity\", \"label\": \"fundedbyforeignentity\"}, {\"type\": \"string\", \"id\": \"signeddate\", \"label\": \"signeddate\"}, {\"type\": \"string\", \"id\": \"effectivedate\", \"label\": \"effectivedate\"}, {\"type\": \"string\", \"id\": \"currentcompletiondate\", \"label\": \"currentcompletiondate\"}, {\"type\": \"string\", \"id\": \"ultimatecompletiondate\", \"label\": \"ultimatecompletiondate\"}, {\"type\": \"string\", \"id\": \"lastdatetoorder\", \"label\": \"lastdatetoorder\"}, {\"type\": \"string\", \"id\": \"contractactiontype\", \"label\": \"contractactiontype\"}, {\"type\": \"string\", \"id\": \"reasonformodification\", \"label\": \"reasonformodification\"}, {\"type\": \"string\", \"id\": \"typeofcontractpricing\", \"label\": \"typeofcontractpricing\"}, {\"type\": \"number\", \"id\": \"priceevaluationpercentdifference\", \"label\": \"priceevaluationpercentdifference\"}, {\"type\": \"string\", \"id\": \"subcontractplan\", \"label\": \"subcontractplan\"}, {\"type\": \"string\", \"id\": \"lettercontract\", \"label\": \"lettercontract\"}, {\"type\": \"string\", \"id\": \"multiyearcontract\", \"label\": \"multiyearcontract\"}, {\"type\": \"string\", \"id\": \"performancebasedservicecontract\", \"label\": \"performancebasedservicecontract\"}, {\"type\": \"string\", \"id\": \"majorprogramcode\", \"label\": \"majorprogramcode\"}, {\"type\": \"string\", \"id\": \"contingencyhumanitarianpeacekeepingoperation\", \"label\": \"contingencyhumanitarianpeacekeepingoperation\"}, {\"type\": \"string\", \"id\": \"contractfinancing\", \"label\": \"contractfinancing\"}, {\"type\": \"string\", \"id\": \"costorpricingdata\", \"label\": \"costorpricingdata\"}, {\"type\": \"string\", \"id\": \"costaccountingstandardsclause\", \"label\": \"costaccountingstandardsclause\"}, {\"type\": \"string\", \"id\": \"descriptionofcontractrequirement\", \"label\": \"descriptionofcontractrequirement\"}, {\"type\": \"string\", \"id\": \"purchasecardaspaymentmethod\", \"label\": \"purchasecardaspaymentmethod\"}, {\"type\": \"string\", \"id\": \"numberofactions\", \"label\": \"numberofactions\"}, {\"type\": \"string\", \"id\": \"nationalinterestactioncode\", \"label\": \"nationalinterestactioncode\"}, {\"type\": \"string\", \"id\": \"progsourceagency\", \"label\": \"progsourceagency\"}, {\"type\": \"string\", \"id\": \"progsourceaccount\", \"label\": \"progsourceaccount\"}, {\"type\": \"string\", \"id\": \"progsourcesubacct\", \"label\": \"progsourcesubacct\"}, {\"type\": \"string\", \"id\": \"account_title\", \"label\": \"account_title\"}, {\"type\": \"string\", \"id\": \"rec_flag\", \"label\": \"rec_flag\"}, {\"type\": \"string\", \"id\": \"typeofidc\", \"label\": \"typeofidc\"}, {\"type\": \"string\", \"id\": \"multipleorsingleawardidc\", \"label\": \"multipleorsingleawardidc\"}, {\"type\": \"string\", \"id\": \"programacronym\", \"label\": \"programacronym\"}, {\"type\": \"string\", \"id\": \"vendorname\", \"label\": \"vendorname\"}, {\"type\": \"string\", \"id\": \"vendoralternatename\", \"label\": \"vendoralternatename\"}, {\"type\": \"string\", \"id\": \"vendorlegalorganizationname\", \"label\": \"vendorlegalorganizationname\"}, {\"type\": \"string\", \"id\": \"vendordoingasbusinessname\", \"label\": \"vendordoingasbusinessname\"}, {\"type\": \"string\", \"id\": \"divisionname\", \"label\": \"divisionname\"}, {\"type\": \"string\", \"id\": \"divisionnumberorofficecode\", \"label\": \"divisionnumberorofficecode\"}, {\"type\": \"string\", \"id\": \"vendorenabled\", \"label\": \"vendorenabled\"}, {\"type\": \"string\", \"id\": \"vendorlocationdisableflag\", \"label\": \"vendorlocationdisableflag\"}, {\"type\": \"string\", \"id\": \"ccrexception\", \"label\": \"ccrexception\"}, {\"type\": \"string\", \"id\": \"streetaddress\", \"label\": \"streetaddress\"}, {\"type\": \"string\", \"id\": \"streetaddress2\", \"label\": \"streetaddress2\"}, {\"type\": \"string\", \"id\": \"streetaddress3\", \"label\": \"streetaddress3\"}, {\"type\": \"string\", \"id\": \"city\", \"label\": \"city\"}, {\"type\": \"string\", \"id\": \"state\", \"label\": \"state\"}, {\"type\": \"string\", \"id\": \"zipcode\", \"label\": \"zipcode\"}, {\"type\": \"string\", \"id\": \"vendorcountrycode\", \"label\": \"vendorcountrycode\"}, {\"type\": \"string\", \"id\": \"vendor_state_code\", \"label\": \"vendor_state_code\"}, {\"type\": \"string\", \"id\": \"vendor_cd\", \"label\": \"vendor_cd\"}, {\"type\": \"string\", \"id\": \"congressionaldistrict\", \"label\": \"congressionaldistrict\"}, {\"type\": \"string\", \"id\": \"vendorsitecode\", \"label\": \"vendorsitecode\"}, {\"type\": \"string\", \"id\": \"vendoralternatesitecode\", \"label\": \"vendoralternatesitecode\"}, {\"type\": \"string\", \"id\": \"dunsnumber\", \"label\": \"dunsnumber\"}, {\"type\": \"string\", \"id\": \"parentdunsnumber\", \"label\": \"parentdunsnumber\"}, {\"type\": \"string\", \"id\": \"phoneno\", \"label\": \"phoneno\"}, {\"type\": \"string\", \"id\": \"faxno\", \"label\": \"faxno\"}, {\"type\": \"string\", \"id\": \"registrationdate\", \"label\": \"registrationdate\"}, {\"type\": \"string\", \"id\": \"renewaldate\", \"label\": \"renewaldate\"}, {\"type\": \"string\", \"id\": \"mod_parent\", \"label\": \"mod_parent\"}, {\"type\": \"string\", \"id\": \"locationcode\", \"label\": \"locationcode\"}, {\"type\": \"string\", \"id\": \"statecode\", \"label\": \"statecode\"}, {\"type\": \"string\", \"id\": \"PlaceofPerformanceCity\", \"label\": \"PlaceofPerformanceCity\"}, {\"type\": \"string\", \"id\": \"pop_state_code\", \"label\": \"pop_state_code\"}, {\"type\": \"string\", \"id\": \"placeofperformancecountrycode\", \"label\": \"placeofperformancecountrycode\"}, {\"type\": \"string\", \"id\": \"placeofperformancezipcode\", \"label\": \"placeofperformancezipcode\"}, {\"type\": \"string\", \"id\": \"pop_cd\", \"label\": \"pop_cd\"}, {\"type\": \"string\", \"id\": \"placeofperformancecongressionaldistrict\", \"label\": \"placeofperformancecongressionaldistrict\"}, {\"type\": \"string\", \"id\": \"psc_cat\", \"label\": \"psc_cat\"}, {\"type\": \"string\", \"id\": \"productorservicecode\", \"label\": \"productorservicecode\"}, {\"type\": \"string\", \"id\": \"systemequipmentcode\", \"label\": \"systemequipmentcode\"}, {\"type\": \"string\", \"id\": \"claimantprogramcode\", \"label\": \"claimantprogramcode\"}, {\"type\": \"string\", \"id\": \"principalnaicscode\", \"label\": \"principalnaicscode\"}, {\"type\": \"string\", \"id\": \"informationtechnologycommercialitemcategory\", \"label\": \"informationtechnologycommercialitemcategory\"}, {\"type\": \"string\", \"id\": \"gfe_gfp\", \"label\": \"gfe_gfp\"}, {\"type\": \"string\", \"id\": \"useofepadesignatedproducts\", \"label\": \"useofepadesignatedproducts\"}, {\"type\": \"string\", \"id\": \"recoveredmaterialclauses\", \"label\": \"recoveredmaterialclauses\"}, {\"type\": \"string\", \"id\": \"seatransportation\", \"label\": \"seatransportation\"}, {\"type\": \"string\", \"id\": \"contractbundling\", \"label\": \"contractbundling\"}, {\"type\": \"string\", \"id\": \"consolidatedcontract\", \"label\": \"consolidatedcontract\"}, {\"type\": \"string\", \"id\": \"countryoforigin\", \"label\": \"countryoforigin\"}, {\"type\": \"string\", \"id\": \"placeofmanufacture\", \"label\": \"placeofmanufacture\"}, {\"type\": \"string\", \"id\": \"manufacturingorganizationtype\", \"label\": \"manufacturingorganizationtype\"}, {\"type\": \"string\", \"id\": \"agencyid\", \"label\": \"agencyid\"}, {\"type\": \"string\", \"id\": \"piid\", \"label\": \"piid\"}, {\"type\": \"string\", \"id\": \"modnumber\", \"label\": \"modnumber\"}, {\"type\": \"string\", \"id\": \"transactionnumber\", \"label\": \"transactionnumber\"}, {\"type\": \"number\", \"id\": \"fiscal_year\", \"label\": \"fiscal_year\"}, {\"type\": \"string\", \"id\": \"idvagencyid\", \"label\": \"idvagencyid\"}, {\"type\": \"string\", \"id\": \"idvpiid\", \"label\": \"idvpiid\"}, {\"type\": \"string\", \"id\": \"idvmodificationnumber\", \"label\": \"idvmodificationnumber\"}, {\"type\": \"string\", \"id\": \"solicitationid\", \"label\": \"solicitationid\"}, {\"type\": \"string\", \"id\": \"extentcompeted\", \"label\": \"extentcompeted\"}, {\"type\": \"string\", \"id\": \"reasonnotcompeted\", \"label\": \"reasonnotcompeted\"}, {\"type\": \"number\", \"id\": \"numberofoffersreceived\", \"label\": \"numberofoffersreceived\"}, {\"type\": \"string\", \"id\": \"commercialitemacquisitionprocedures\", \"label\": \"commercialitemacquisitionprocedures\"}, {\"type\": \"string\", \"id\": \"commercialitemtestprogram\", \"label\": \"commercialitemtestprogram\"}, {\"type\": \"string\", \"id\": \"smallbusinesscompetitivenessdemonstrationprogram\", \"label\": \"smallbusinesscompetitivenessdemonstrationprogram\"}, {\"type\": \"string\", \"id\": \"a76action\", \"label\": \"a76action\"}, {\"type\": \"string\", \"id\": \"competitiveprocedures\", \"label\": \"competitiveprocedures\"}, {\"type\": \"string\", \"id\": \"solicitationprocedures\", \"label\": \"solicitationprocedures\"}, {\"type\": \"string\", \"id\": \"typeofsetaside\", \"label\": \"typeofsetaside\"}, {\"type\": \"string\", \"id\": \"localareasetaside\", \"label\": \"localareasetaside\"}, {\"type\": \"string\", \"id\": \"evaluatedpreference\", \"label\": \"evaluatedpreference\"}, {\"type\": \"string\", \"id\": \"fedbizopps\", \"label\": \"fedbizopps\"}, {\"type\": \"string\", \"id\": \"research\", \"label\": \"research\"}, {\"type\": \"string\", \"id\": \"statutoryexceptiontofairopportunity\", \"label\": \"statutoryexceptiontofairopportunity\"}, {\"type\": \"string\", \"id\": \"organizationaltype\", \"label\": \"organizationaltype\"}, {\"type\": \"number\", \"id\": \"numberofemployees\", \"label\": \"numberofemployees\"}, {\"type\": \"number\", \"id\": \"annualrevenue\", \"label\": \"annualrevenue\"}, {\"type\": \"string\", \"id\": \"firm8aflag\", \"label\": \"firm8aflag\"}, {\"type\": \"string\", \"id\": \"hubzoneflag\", \"label\": \"hubzoneflag\"}, {\"type\": \"string\", \"id\": \"sdbflag\", \"label\": \"sdbflag\"}, {\"type\": \"string\", \"id\": \"issbacertifiedsmalldisadvantagedbusiness\", \"label\": \"issbacertifiedsmalldisadvantagedbusiness\"}, {\"type\": \"string\", \"id\": \"shelteredworkshopflag\", \"label\": \"shelteredworkshopflag\"}, {\"type\": \"string\", \"id\": \"hbcuflag\", \"label\": \"hbcuflag\"}, {\"type\": \"string\", \"id\": \"educationalinstitutionflag\", \"label\": \"educationalinstitutionflag\"}, {\"type\": \"string\", \"id\": \"womenownedflag\", \"label\": \"womenownedflag\"}, {\"type\": \"string\", \"id\": \"veteranownedflag\", \"label\": \"veteranownedflag\"}, {\"type\": \"string\", \"id\": \"srdvobflag\", \"label\": \"srdvobflag\"}, {\"type\": \"string\", \"id\": \"localgovernmentflag\", \"label\": \"localgovernmentflag\"}, {\"type\": \"string\", \"id\": \"minorityinstitutionflag\", \"label\": \"minorityinstitutionflag\"}, {\"type\": \"string\", \"id\": \"aiobflag\", \"label\": \"aiobflag\"}, {\"type\": \"string\", \"id\": \"stategovernmentflag\", \"label\": \"stategovernmentflag\"}, {\"type\": \"string\", \"id\": \"federalgovernmentflag\", \"label\": \"federalgovernmentflag\"}, {\"type\": \"string\", \"id\": \"minorityownedbusinessflag\", \"label\": \"minorityownedbusinessflag\"}, {\"type\": \"string\", \"id\": \"apaobflag\", \"label\": \"apaobflag\"}, {\"type\": \"string\", \"id\": \"tribalgovernmentflag\", \"label\": \"tribalgovernmentflag\"}, {\"type\": \"string\", \"id\": \"baobflag\", \"label\": \"baobflag\"}, {\"type\": \"string\", \"id\": \"naobflag\", \"label\": \"naobflag\"}, {\"type\": \"string\", \"id\": \"saaobflag\", \"label\": \"saaobflag\"}, {\"type\": \"string\", \"id\": \"nonprofitorganizationflag\", \"label\": \"nonprofitorganizationflag\"}, {\"type\": \"string\", \"id\": \"isothernotforprofitorganization\", \"label\": \"isothernotforprofitorganization\"}, {\"type\": \"string\", \"id\": \"isforprofitorganization\", \"label\": \"isforprofitorganization\"}, {\"type\": \"string\", \"id\": \"isfoundation\", \"label\": \"isfoundation\"}, {\"type\": \"string\", \"id\": \"haobflag\", \"label\": \"haobflag\"}, {\"type\": \"string\", \"id\": \"ishispanicservicinginstitution\", \"label\": \"ishispanicservicinginstitution\"}, {\"type\": \"string\", \"id\": \"emergingsmallbusinessflag\", \"label\": \"emergingsmallbusinessflag\"}, {\"type\": \"string\", \"id\": \"hospitalflag\", \"label\": \"hospitalflag\"}, {\"type\": \"string\", \"id\": \"contractingofficerbusinesssizedetermination\", \"label\": \"contractingofficerbusinesssizedetermination\"}, {\"type\": \"string\", \"id\": \"is1862landgrantcollege\", \"label\": \"is1862landgrantcollege\"}, {\"type\": \"string\", \"id\": \"is1890landgrantcollege\", \"label\": \"is1890landgrantcollege\"}, {\"type\": \"string\", \"id\": \"is1994landgrantcollege\", \"label\": \"is1994landgrantcollege\"}, {\"type\": \"string\", \"id\": \"isveterinarycollege\", \"label\": \"isveterinarycollege\"}, {\"type\": \"string\", \"id\": \"isveterinaryhospital\", \"label\": \"isveterinaryhospital\"}, {\"type\": \"string\", \"id\": \"isprivateuniversityorcollege\", \"label\": \"isprivateuniversityorcollege\"}, {\"type\": \"string\", \"id\": \"isschoolofforestry\", \"label\": \"isschoolofforestry\"}, {\"type\": \"string\", \"id\": \"isstatecontrolledinstitutionofhigherlearning\", \"label\": \"isstatecontrolledinstitutionofhigherlearning\"}, {\"type\": \"string\", \"id\": \"isserviceprovider\", \"label\": \"isserviceprovider\"}, {\"type\": \"string\", \"id\": \"receivescontracts\", \"label\": \"receivescontracts\"}, {\"type\": \"string\", \"id\": \"receivesgrants\", \"label\": \"receivesgrants\"}, {\"type\": \"string\", \"id\": \"receivescontractsandgrants\", \"label\": \"receivescontractsandgrants\"}, {\"type\": \"string\", \"id\": \"isairportauthority\", \"label\": \"isairportauthority\"}, {\"type\": \"string\", \"id\": \"iscouncilofgovernments\", \"label\": \"iscouncilofgovernments\"}, {\"type\": \"string\", \"id\": \"ishousingauthoritiespublicortribal\", \"label\": \"ishousingauthoritiespublicortribal\"}, {\"type\": \"string\", \"id\": \"isinterstateentity\", \"label\": \"isinterstateentity\"}, {\"type\": \"string\", \"id\": \"isplanningcommission\", \"label\": \"isplanningcommission\"}, {\"type\": \"string\", \"id\": \"isportauthority\", \"label\": \"isportauthority\"}, {\"type\": \"string\", \"id\": \"istransitauthority\", \"label\": \"istransitauthority\"}, {\"type\": \"string\", \"id\": \"issubchapterscorporation\", \"label\": \"issubchapterscorporation\"}, {\"type\": \"string\", \"id\": \"islimitedliabilitycorporation\", \"label\": \"islimitedliabilitycorporation\"}, {\"type\": \"string\", \"id\": \"isforeignownedandlocated\", \"label\": \"isforeignownedandlocated\"}, {\"type\": \"string\", \"id\": \"isarchitectureandengineering\", \"label\": \"isarchitectureandengineering\"}, {\"type\": \"string\", \"id\": \"isdotcertifieddisadvantagedbusinessenterprise\", \"label\": \"isdotcertifieddisadvantagedbusinessenterprise\"}, {\"type\": \"string\", \"id\": \"iscitylocalgovernment\", \"label\": \"iscitylocalgovernment\"}, {\"type\": \"string\", \"id\": \"iscommunitydevelopedcorporationownedfirm\", \"label\": \"iscommunitydevelopedcorporationownedfirm\"}, {\"type\": \"string\", \"id\": \"iscommunitydevelopmentcorporation\", \"label\": \"iscommunitydevelopmentcorporation\"}, {\"type\": \"string\", \"id\": \"isconstructionfirm\", \"label\": \"isconstructionfirm\"}, {\"type\": \"string\", \"id\": \"ismanufacturerofgoods\", \"label\": \"ismanufacturerofgoods\"}, {\"type\": \"string\", \"id\": \"iscorporateentitynottaxexempt\", \"label\": \"iscorporateentitynottaxexempt\"}, {\"type\": \"string\", \"id\": \"iscountylocalgovernment\", \"label\": \"iscountylocalgovernment\"}, {\"type\": \"string\", \"id\": \"isdomesticshelter\", \"label\": \"isdomesticshelter\"}, {\"type\": \"string\", \"id\": \"isfederalgovernmentagency\", \"label\": \"isfederalgovernmentagency\"}, {\"type\": \"string\", \"id\": \"isfederallyfundedresearchanddevelopmentcorp\", \"label\": \"isfederallyfundedresearchanddevelopmentcorp\"}, {\"type\": \"string\", \"id\": \"isforeigngovernment\", \"label\": \"isforeigngovernment\"}, {\"type\": \"string\", \"id\": \"isindiantribe\", \"label\": \"isindiantribe\"}, {\"type\": \"string\", \"id\": \"isintermunicipallocalgovernment\", \"label\": \"isintermunicipallocalgovernment\"}, {\"type\": \"string\", \"id\": \"isinternationalorganization\", \"label\": \"isinternationalorganization\"}, {\"type\": \"string\", \"id\": \"islaborsurplusareafirm\", \"label\": \"islaborsurplusareafirm\"}, {\"type\": \"string\", \"id\": \"islocalgovernmentowned\", \"label\": \"islocalgovernmentowned\"}, {\"type\": \"string\", \"id\": \"ismunicipalitylocalgovernment\", \"label\": \"ismunicipalitylocalgovernment\"}, {\"type\": \"string\", \"id\": \"isnativehawaiianownedorganizationorfirm\", \"label\": \"isnativehawaiianownedorganizationorfirm\"}, {\"type\": \"string\", \"id\": \"isotherbusinessororganization\", \"label\": \"isotherbusinessororganization\"}, {\"type\": \"string\", \"id\": \"isotherminorityowned\", \"label\": \"isotherminorityowned\"}, {\"type\": \"string\", \"id\": \"ispartnershiporlimitedliabilitypartnership\", \"label\": \"ispartnershiporlimitedliabilitypartnership\"}, {\"type\": \"string\", \"id\": \"isschooldistrictlocalgovernment\", \"label\": \"isschooldistrictlocalgovernment\"}, {\"type\": \"string\", \"id\": \"issmallagriculturalcooperative\", \"label\": \"issmallagriculturalcooperative\"}, {\"type\": \"string\", \"id\": \"issoleproprietorship\", \"label\": \"issoleproprietorship\"}, {\"type\": \"string\", \"id\": \"istownshiplocalgovernment\", \"label\": \"istownshiplocalgovernment\"}, {\"type\": \"string\", \"id\": \"istriballyownedfirm\", \"label\": \"istriballyownedfirm\"}, {\"type\": \"string\", \"id\": \"istribalcollege\", \"label\": \"istribalcollege\"}, {\"type\": \"string\", \"id\": \"isalaskannativeownedcorporationorfirm\", \"label\": \"isalaskannativeownedcorporationorfirm\"}, {\"type\": \"string\", \"id\": \"iscorporateentitytaxexempt\", \"label\": \"iscorporateentitytaxexempt\"}, {\"type\": \"string\", \"id\": \"iswomenownedsmallbusiness\", \"label\": \"iswomenownedsmallbusiness\"}, {\"type\": \"string\", \"id\": \"isecondisadvwomenownedsmallbusiness\", \"label\": \"isecondisadvwomenownedsmallbusiness\"}, {\"type\": \"string\", \"id\": \"isjointventurewomenownedsmallbusiness\", \"label\": \"isjointventurewomenownedsmallbusiness\"}, {\"type\": \"string\", \"id\": \"isjointventureecondisadvwomenownedsmallbusiness\", \"label\": \"isjointventureecondisadvwomenownedsmallbusiness\"}, {\"type\": \"string\", \"id\": \"walshhealyact\", \"label\": \"walshhealyact\"}, {\"type\": \"string\", \"id\": \"servicecontractact\", \"label\": \"servicecontractact\"}, {\"type\": \"string\", \"id\": \"davisbaconact\", \"label\": \"davisbaconact\"}, {\"type\": \"string\", \"id\": \"clingercohenact\", \"label\": \"clingercohenact\"}, {\"type\": \"string\", \"id\": \"otherstatutoryauthority\", \"label\": \"otherstatutoryauthority\"}, {\"type\": \"string\", \"id\": \"prime_awardee_executive1\", \"label\": \"prime_awardee_executive1\"}, {\"type\": \"number\", \"id\": \"prime_awardee_executive1_compensation\", \"label\": \"prime_awardee_executive1_compensation\"}, {\"type\": \"string\", \"id\": \"prime_awardee_executive2\", \"label\": \"prime_awardee_executive2\"}, {\"type\": \"number\", \"id\": \"prime_awardee_executive2_compensation\", \"label\": \"prime_awardee_executive2_compensation\"}, {\"type\": \"string\", \"id\": \"prime_awardee_executive3\", \"label\": \"prime_awardee_executive3\"}, {\"type\": \"number\", \"id\": \"prime_awardee_executive3_compensation\", \"label\": \"prime_awardee_executive3_compensation\"}, {\"type\": \"string\", \"id\": \"prime_awardee_executive4\", \"label\": \"prime_awardee_executive4\"}, {\"type\": \"number\", \"id\": \"prime_awardee_executive4_compensation\", \"label\": \"prime_awardee_executive4_compensation\"}, {\"type\": \"string\", \"id\": \"prime_awardee_executive5\", \"label\": \"prime_awardee_executive5\"}, {\"type\": \"number\", \"id\": \"prime_awardee_executive5_compensation\", \"label\": \"prime_awardee_executive5_compensation\"}, {\"type\": \"string\", \"id\": \"interagencycontractingauthority\", \"label\": \"interagencycontractingauthority\"}, {\"type\": \"string\", \"id\": \"last_modified_date\", \"label\": \"last_modified_date\"}]},\n",
       "            {\n",
       "              pageSize: 25,\n",
       "              cssClassNames:  {\n",
       "                tableRow: 'gchart-table-row',\n",
       "                headerRow: 'gchart-table-headerrow',\n",
       "                oddTableRow: 'gchart-table-oddrow',\n",
       "                selectedTableRow: 'gchart-table-selectedrow',\n",
       "                hoverTableRow: 'gchart-table-hoverrow',\n",
       "                tableCell: 'gchart-table-cell',\n",
       "                headerCell: 'gchart-table-headercell',\n",
       "                rowNumberCell: 'gchart-table-rownumcell'\n",
       "              }\n",
       "            },\n",
       "            {source_index: 54, fields: 'unique_transaction_id,transaction_status,dollarsobligated,baseandexercisedoptionsvalue,baseandalloptionsvalue,maj_agency_cat,mod_agency,maj_fund_agency_cat,contractingofficeagencyid,contractingofficeid,fundingrequestingagencyid,fundingrequestingofficeid,fundedbyforeignentity,signeddate,effectivedate,currentcompletiondate,ultimatecompletiondate,lastdatetoorder,contractactiontype,reasonformodification,typeofcontractpricing,priceevaluationpercentdifference,subcontractplan,lettercontract,multiyearcontract,performancebasedservicecontract,majorprogramcode,contingencyhumanitarianpeacekeepingoperation,contractfinancing,costorpricingdata,costaccountingstandardsclause,descriptionofcontractrequirement,purchasecardaspaymentmethod,numberofactions,nationalinterestactioncode,progsourceagency,progsourceaccount,progsourcesubacct,account_title,rec_flag,typeofidc,multipleorsingleawardidc,programacronym,vendorname,vendoralternatename,vendorlegalorganizationname,vendordoingasbusinessname,divisionname,divisionnumberorofficecode,vendorenabled,vendorlocationdisableflag,ccrexception,streetaddress,streetaddress2,streetaddress3,city,state,zipcode,vendorcountrycode,vendor_state_code,vendor_cd,congressionaldistrict,vendorsitecode,vendoralternatesitecode,dunsnumber,parentdunsnumber,phoneno,faxno,registrationdate,renewaldate,mod_parent,locationcode,statecode,PlaceofPerformanceCity,pop_state_code,placeofperformancecountrycode,placeofperformancezipcode,pop_cd,placeofperformancecongressionaldistrict,psc_cat,productorservicecode,systemequipmentcode,claimantprogramcode,principalnaicscode,informationtechnologycommercialitemcategory,gfe_gfp,useofepadesignatedproducts,recoveredmaterialclauses,seatransportation,contractbundling,consolidatedcontract,countryoforigin,placeofmanufacture,manufacturingorganizationtype,agencyid,piid,modnumber,transactionnumber,fiscal_year,idvagencyid,idvpiid,idvmodificationnumber,solicitationid,extentcompeted,reasonnotcompeted,numberofoffersreceived,commercialitemacquisitionprocedures,commercialitemtestprogram,smallbusinesscompetitivenessdemonstrationprogram,a76action,competitiveprocedures,solicitationprocedures,typeofsetaside,localareasetaside,evaluatedpreference,fedbizopps,research,statutoryexceptiontofairopportunity,organizationaltype,numberofemployees,annualrevenue,firm8aflag,hubzoneflag,sdbflag,issbacertifiedsmalldisadvantagedbusiness,shelteredworkshopflag,hbcuflag,educationalinstitutionflag,womenownedflag,veteranownedflag,srdvobflag,localgovernmentflag,minorityinstitutionflag,aiobflag,stategovernmentflag,federalgovernmentflag,minorityownedbusinessflag,apaobflag,tribalgovernmentflag,baobflag,naobflag,saaobflag,nonprofitorganizationflag,isothernotforprofitorganization,isforprofitorganization,isfoundation,haobflag,ishispanicservicinginstitution,emergingsmallbusinessflag,hospitalflag,contractingofficerbusinesssizedetermination,is1862landgrantcollege,is1890landgrantcollege,is1994landgrantcollege,isveterinarycollege,isveterinaryhospital,isprivateuniversityorcollege,isschoolofforestry,isstatecontrolledinstitutionofhigherlearning,isserviceprovider,receivescontracts,receivesgrants,receivescontractsandgrants,isairportauthority,iscouncilofgovernments,ishousingauthoritiespublicortribal,isinterstateentity,isplanningcommission,isportauthority,istransitauthority,issubchapterscorporation,islimitedliabilitycorporation,isforeignownedandlocated,isarchitectureandengineering,isdotcertifieddisadvantagedbusinessenterprise,iscitylocalgovernment,iscommunitydevelopedcorporationownedfirm,iscommunitydevelopmentcorporation,isconstructionfirm,ismanufacturerofgoods,iscorporateentitynottaxexempt,iscountylocalgovernment,isdomesticshelter,isfederalgovernmentagency,isfederallyfundedresearchanddevelopmentcorp,isforeigngovernment,isindiantribe,isintermunicipallocalgovernment,isinternationalorganization,islaborsurplusareafirm,islocalgovernmentowned,ismunicipalitylocalgovernment,isnativehawaiianownedorganizationorfirm,isotherbusinessororganization,isotherminorityowned,ispartnershiporlimitedliabilitypartnership,isschooldistrictlocalgovernment,issmallagriculturalcooperative,issoleproprietorship,istownshiplocalgovernment,istriballyownedfirm,istribalcollege,isalaskannativeownedcorporationorfirm,iscorporateentitytaxexempt,iswomenownedsmallbusiness,isecondisadvwomenownedsmallbusiness,isjointventurewomenownedsmallbusiness,isjointventureecondisadvwomenownedsmallbusiness,walshhealyact,servicecontractact,davisbaconact,clingercohenact,otherstatutoryauthority,prime_awardee_executive1,prime_awardee_executive1_compensation,prime_awardee_executive2,prime_awardee_executive2_compensation,prime_awardee_executive3,prime_awardee_executive3_compensation,prime_awardee_executive4,prime_awardee_executive4_compensation,prime_awardee_executive5,prime_awardee_executive5_compensation,interagencycontractingauthority,last_modified_date'},\n",
       "            0,\n",
       "            1);\n",
       "        }\n",
       "      );\n",
       "    </script>\n",
       "  "
      ],
      "text/plain": [
       "QueryResultsTable job_huiMES8smOVDiBF3FFl2ocZ8ZP0"
      ]
     },
     "execution_count": 190,
     "metadata": {},
     "output_type": "execute_result"
    }
   ],
   "source": [
    "%%bq query\n",
    "select\n",
    "*\n",
    "from `gpqueries.contracts.raw`\n",
    "where productorservicecode in ('1510: AIRCRAFT, FIXED WING')\n",
    "and contractingofficerbusinesssizedetermination in ('S: SMALL BUSINESS')\n",
    "limit 1"
   ]
  },
  {
   "cell_type": "code",
   "execution_count": 33,
   "metadata": {
    "collapsed": false
   },
   "outputs": [
    {
     "data": {
      "text/html": [
       "\n",
       "    <div class=\"bqtv\" id=\"14_149831609441\"><table><tr><th>claimantprogramcode</th><th>principalnaicscode</th><th>dollarsobligated</th></tr><tr><td>C2: CONSTRUCTION</td><td>236220: COMMERCIAL AND INSTITUTIONAL BUILDING CONSTRUCTION</td><td>60403437335.8</td></tr><tr><td>:</td><td>541519: OTHER COMPUTER RELATED SERVICES</td><td>43206577283.3</td></tr><tr><td>S1: SERVICES</td><td>541330: ENGINEERING SERVICES</td><td>42325981781.3</td></tr><tr><td>:</td><td>236220: COMMERCIAL AND INSTITUTIONAL BUILDING CONSTRUCTION</td><td>30723658597.9</td></tr><tr><td>:</td><td>541512: COMPUTER SYSTEMS DESIGN SERVICES</td><td>23153068951.3</td></tr><tr><td>:</td><td>541611: ADMINISTRATIVE MANAGEMENT AND GENERAL MANAGEMENT CONSULTING SERVICES</td><td>23053212686.1</td></tr><tr><td>S1: SERVICES</td><td>561210: FACILITIES SUPPORT SERVICES</td><td>22290451538.3</td></tr><tr><td>:</td><td>541511: CUSTOM COMPUTER PROGRAMMING SERVICES</td><td>18313101434.9</td></tr><tr><td>C2: CONSTRUCTION</td><td>237990: OTHER HEAVY AND CIVIL ENGINEERING CONSTRUCTION</td><td>17921409986.7</td></tr><tr><td>:</td><td>:</td><td>17431988986.3</td></tr></table></div>\n",
       "    <br />(rows: 10, time: 2.0s,     4GB processed, job: job_Gx2HLp18ACGjNTN_6tPfJoPzMFk)<br />\n",
       "    <script>\n",
       "\n",
       "      require.config({\n",
       "        paths: {\n",
       "          d3: '//cdnjs.cloudflare.com/ajax/libs/d3/3.4.13/d3',\n",
       "          plotly: 'https://cdn.plot.ly/plotly-1.5.1.min.js?noext',\n",
       "          jquery: '//ajax.googleapis.com/ajax/libs/jquery/2.0.0/jquery.min'\n",
       "        },\n",
       "        map: {\n",
       "          '*': {\n",
       "            datalab: 'nbextensions/gcpdatalab'\n",
       "          }\n",
       "        },\n",
       "        shim: {\n",
       "          plotly: {\n",
       "            deps: ['d3', 'jquery'],\n",
       "            exports: 'plotly'\n",
       "          }\n",
       "        }\n",
       "      });\n",
       "\n",
       "      require(['datalab/charting', 'datalab/element!14_149831609441', 'base/js/events',\n",
       "          'datalab/style!/nbextensions/gcpdatalab/charting.css'],\n",
       "        function(charts, dom, events) {\n",
       "          charts.render('gcharts', dom, events, 'table', [], {\"rows\": [{\"c\": [{\"v\": \"C2: CONSTRUCTION\"}, {\"v\": \"236220: COMMERCIAL AND INSTITUTIONAL BUILDING CONSTRUCTION\"}, {\"v\": 60403437335.809975}]}, {\"c\": [{\"v\": \":\"}, {\"v\": \"541519: OTHER COMPUTER RELATED SERVICES\"}, {\"v\": 43206577283.27004}]}, {\"c\": [{\"v\": \"S1: SERVICES\"}, {\"v\": \"541330: ENGINEERING SERVICES\"}, {\"v\": 42325981781.26}]}, {\"c\": [{\"v\": \":\"}, {\"v\": \"236220: COMMERCIAL AND INSTITUTIONAL BUILDING CONSTRUCTION\"}, {\"v\": 30723658597.859974}]}, {\"c\": [{\"v\": \":\"}, {\"v\": \"541512: COMPUTER SYSTEMS DESIGN SERVICES\"}, {\"v\": 23153068951.319996}]}, {\"c\": [{\"v\": \":\"}, {\"v\": \"541611: ADMINISTRATIVE MANAGEMENT AND GENERAL MANAGEMENT CONSULTING SERVICES\"}, {\"v\": 23053212686.140003}]}, {\"c\": [{\"v\": \"S1: SERVICES\"}, {\"v\": \"561210: FACILITIES SUPPORT SERVICES\"}, {\"v\": 22290451538.28003}]}, {\"c\": [{\"v\": \":\"}, {\"v\": \"541511: CUSTOM COMPUTER PROGRAMMING SERVICES\"}, {\"v\": 18313101434.87}]}, {\"c\": [{\"v\": \"C2: CONSTRUCTION\"}, {\"v\": \"237990: OTHER HEAVY AND CIVIL ENGINEERING CONSTRUCTION\"}, {\"v\": 17921409986.660007}]}, {\"c\": [{\"v\": \":\"}, {\"v\": \":\"}, {\"v\": 17431988986.279995}]}], \"cols\": [{\"type\": \"string\", \"id\": \"claimantprogramcode\", \"label\": \"claimantprogramcode\"}, {\"type\": \"string\", \"id\": \"principalnaicscode\", \"label\": \"principalnaicscode\"}, {\"type\": \"number\", \"id\": \"dollarsobligated\", \"label\": \"dollarsobligated\"}]},\n",
       "            {\n",
       "              pageSize: 25,\n",
       "              cssClassNames:  {\n",
       "                tableRow: 'gchart-table-row',\n",
       "                headerRow: 'gchart-table-headerrow',\n",
       "                oddTableRow: 'gchart-table-oddrow',\n",
       "                selectedTableRow: 'gchart-table-selectedrow',\n",
       "                hoverTableRow: 'gchart-table-hoverrow',\n",
       "                tableCell: 'gchart-table-cell',\n",
       "                headerCell: 'gchart-table-headercell',\n",
       "                rowNumberCell: 'gchart-table-rownumcell'\n",
       "              }\n",
       "            },\n",
       "            {source_index: 13, fields: 'claimantprogramcode,principalnaicscode,dollarsobligated'},\n",
       "            0,\n",
       "            10);\n",
       "        }\n",
       "      );\n",
       "    </script>\n",
       "  "
      ],
      "text/plain": [
       "QueryResultsTable job_Gx2HLp18ACGjNTN_6tPfJoPzMFk"
      ]
     },
     "execution_count": 33,
     "metadata": {},
     "output_type": "execute_result"
    }
   ],
   "source": [
    "%%bq query\n",
    "select \n",
    "claimantprogramcode,\n",
    "principalnaicscode,\n",
    "sum(dollarsobligated) as dollarsobligated\n",
    "from `fiery-set-171213.vrec.usa_spending_all`\n",
    "where contractingofficerbusinesssizedetermination in (\"S: SMALL BUSINESS\")\n",
    "group by 1,2\n",
    "order by dollarsobligated DESC\n",
    "limit 10"
   ]
  },
  {
   "cell_type": "markdown",
   "metadata": {},
   "source": [
    "### Looking at SMBs by year\n"
   ]
  },
  {
   "cell_type": "code",
   "execution_count": 34,
   "metadata": {
    "collapsed": true
   },
   "outputs": [],
   "source": [
    "%%bq query -n df_query\n",
    "select \n",
    "fiscal_year,\n",
    "sum(dollarsobligated) as dollarsobligated\n",
    "from `fiery-set-171213.vrec.usa_spending_all`\n",
    "where contractingofficerbusinesssizedetermination in (\"S: SMALL BUSINESS\")\n",
    "group by 1\n",
    "order by 1"
   ]
  },
  {
   "cell_type": "code",
   "execution_count": 35,
   "metadata": {
    "collapsed": false
   },
   "outputs": [
    {
     "data": {
      "image/png": "[encoded data removed]",
      "text/plain": [
       "<matplotlib.figure.Figure at 0x7f302b70e9d0>"
      ]
     },
     "metadata": {},
     "output_type": "display_data"
    }
   ],
   "source": [
    "df = df_query.execute(output_options=bq.QueryOutput.dataframe()).result()\n",
    "plt = df.set_index('fiscal_year')['dollarsobligated'].plot(kind='bar', title='transactions amount for SMBs')"
   ]
  },
  {
   "cell_type": "code",
   "execution_count": 36,
   "metadata": {
    "collapsed": false
   },
   "outputs": [],
   "source": [
    "%%bq query -n df_query\n",
    "#%%sql\n",
    "select \n",
    "smb.fiscal_year,\n",
    "sum(smb.transaction) as smb,\n",
    "sum(total.transaction) as total,\n",
    "sum(smb.transaction)/sum(total.transaction) as percentage\n",
    "from\n",
    "(select \n",
    "  fiscal_year,\n",
    "  sum(dollarsobligated) as transaction\n",
    "  from `fiery-set-171213.vrec.usa_spending_all`\n",
    "  where contractingofficerbusinesssizedetermination in (\"S: SMALL BUSINESS\")\n",
    "  group by 1) as smb\n",
    "join \n",
    "(select\n",
    "  fiscal_year,\n",
    "  sum(dollarsobligated) as transaction\n",
    "  from `fiery-set-171213.vrec.usa_spending_all`\n",
    "  group by 1) as total\n",
    "on smb.fiscal_year = total.fiscal_year\n",
    "group by 1\n",
    "order by 1"
   ]
  },
  {
   "cell_type": "code",
   "execution_count": 37,
   "metadata": {
    "collapsed": false
   },
   "outputs": [
    {
     "data": {
      "image/png": "[encoded data removed]",
      "text/plain": [
       "<matplotlib.figure.Figure at 0x7f3033dc4a50>"
      ]
     },
     "metadata": {},
     "output_type": "display_data"
    }
   ],
   "source": [
    "df = df_query.execute(output_options=bq.QueryOutput.dataframe()).result()\n",
    "plt = df.set_index('fiscal_year')['percentage'].plot(kind='bar', title='dollars % for SMBs')"
   ]
  },
  {
   "cell_type": "markdown",
   "metadata": {},
   "source": [
    "### SMB contract by gov. agency & by naics code"
   ]
  },
  {
   "cell_type": "code",
   "execution_count": 38,
   "metadata": {
    "collapsed": false
   },
   "outputs": [
    {
     "data": {
      "text/html": [
       "\n",
       "    <div class=\"bqtv\" id=\"15_149831614450\"><table><tr><th>principalnaicscode</th><th>count</th><th>dollarsobligated_smb</th><th>dollarsobligated_total</th><th>smb_percentage</th></tr><tr><td>111334: BERRY (EXCEPT STRAWBERRY) FARMING</td><td>49</td><td>83928.0</td><td>7277.13</td><td>11.5331181386</td></tr><tr><td>518111</td><td>430</td><td>8270781.4</td><td>1150208.47</td><td>7.19068031207</td></tr><tr><td>323115</td><td>57</td><td>95535.42</td><td>14640.23</td><td>6.52554092388</td></tr><tr><td>421210</td><td>8</td><td>57041.91</td><td>33780.44</td><td>1.68860766763</td></tr><tr><td>531311</td><td>379</td><td>16838508.16</td><td>11813329.96</td><td>1.42538202328</td></tr><tr><td>337125</td><td>231</td><td>719004.07</td><td>551770.31</td><td>1.30308582569</td></tr><tr><td>331411: PRIMARY SMELTING AND REFINING OF COPPER</td><td>298</td><td>30042581.88</td><td>23504524.94</td><td>1.27816162874</td></tr><tr><td>333412</td><td>101</td><td>1009259.61</td><td>830330.81</td><td>1.21549098003</td></tr><tr><td>333411</td><td>435</td><td>13352294.76</td><td>12155472.22</td><td>1.0984595677</td></tr><tr><td>112320</td><td>17</td><td>106395.1</td><td>99085.5</td><td>1.07377063243</td></tr></table></div>\n",
       "    <br />(rows: 10, time: 2.2s,     3GB processed, job: job_Rpl-wBfG4ITaor0UqqBStTD38Ts)<br />\n",
       "    <script>\n",
       "\n",
       "      require.config({\n",
       "        paths: {\n",
       "          d3: '//cdnjs.cloudflare.com/ajax/libs/d3/3.4.13/d3',\n",
       "          plotly: 'https://cdn.plot.ly/plotly-1.5.1.min.js?noext',\n",
       "          jquery: '//ajax.googleapis.com/ajax/libs/jquery/2.0.0/jquery.min'\n",
       "        },\n",
       "        map: {\n",
       "          '*': {\n",
       "            datalab: 'nbextensions/gcpdatalab'\n",
       "          }\n",
       "        },\n",
       "        shim: {\n",
       "          plotly: {\n",
       "            deps: ['d3', 'jquery'],\n",
       "            exports: 'plotly'\n",
       "          }\n",
       "        }\n",
       "      });\n",
       "\n",
       "      require(['datalab/charting', 'datalab/element!15_149831614450', 'base/js/events',\n",
       "          'datalab/style!/nbextensions/gcpdatalab/charting.css'],\n",
       "        function(charts, dom, events) {\n",
       "          charts.render('gcharts', dom, events, 'table', [], {\"rows\": [{\"c\": [{\"v\": \"111334: BERRY (EXCEPT STRAWBERRY) FARMING\"}, {\"v\": 49}, {\"v\": 83928.0}, {\"v\": 7277.130000000005}, {\"v\": 11.533118138606833}]}, {\"c\": [{\"v\": \"518111\"}, {\"v\": 430}, {\"v\": 8270781.3999999985}, {\"v\": 1150208.4699999997}, {\"v\": 7.190680312065517}]}, {\"c\": [{\"v\": \"323115\"}, {\"v\": 57}, {\"v\": 95535.42000000001}, {\"v\": 14640.230000000001}, {\"v\": 6.525540923878928}]}, {\"c\": [{\"v\": \"421210\"}, {\"v\": 8}, {\"v\": 57041.909999999996}, {\"v\": 33780.44}, {\"v\": 1.6886076676325115}]}, {\"c\": [{\"v\": \"531311\"}, {\"v\": 379}, {\"v\": 16838508.159999996}, {\"v\": 11813329.96}, {\"v\": 1.4253820232750016}]}, {\"c\": [{\"v\": \"337125\"}, {\"v\": 231}, {\"v\": 719004.0700000001}, {\"v\": 551770.3099999999}, {\"v\": 1.3030858256943911}]}, {\"c\": [{\"v\": \"331411: PRIMARY SMELTING AND REFINING OF COPPER\"}, {\"v\": 298}, {\"v\": 30042581.88}, {\"v\": 23504524.940000005}, {\"v\": 1.2781616287370066}]}, {\"c\": [{\"v\": \"333412\"}, {\"v\": 101}, {\"v\": 1009259.6100000001}, {\"v\": 830330.81}, {\"v\": 1.2154909800348128}]}, {\"c\": [{\"v\": \"333411\"}, {\"v\": 435}, {\"v\": 13352294.760000002}, {\"v\": 12155472.219999999}, {\"v\": 1.0984595677024223}]}, {\"c\": [{\"v\": \"112320\"}, {\"v\": 17}, {\"v\": 106395.1}, {\"v\": 99085.5}, {\"v\": 1.0737706324336054}]}], \"cols\": [{\"type\": \"string\", \"id\": \"principalnaicscode\", \"label\": \"principalnaicscode\"}, {\"type\": \"number\", \"id\": \"count\", \"label\": \"count\"}, {\"type\": \"number\", \"id\": \"dollarsobligated_smb\", \"label\": \"dollarsobligated_smb\"}, {\"type\": \"number\", \"id\": \"dollarsobligated_total\", \"label\": \"dollarsobligated_total\"}, {\"type\": \"number\", \"id\": \"smb_percentage\", \"label\": \"smb_percentage\"}]},\n",
       "            {\n",
       "              pageSize: 25,\n",
       "              cssClassNames:  {\n",
       "                tableRow: 'gchart-table-row',\n",
       "                headerRow: 'gchart-table-headerrow',\n",
       "                oddTableRow: 'gchart-table-oddrow',\n",
       "                selectedTableRow: 'gchart-table-selectedrow',\n",
       "                hoverTableRow: 'gchart-table-hoverrow',\n",
       "                tableCell: 'gchart-table-cell',\n",
       "                headerCell: 'gchart-table-headercell',\n",
       "                rowNumberCell: 'gchart-table-rownumcell'\n",
       "              }\n",
       "            },\n",
       "            {source_index: 14, fields: 'principalnaicscode,count,dollarsobligated_smb,dollarsobligated_total,smb_percentage'},\n",
       "            0,\n",
       "            10);\n",
       "        }\n",
       "      );\n",
       "    </script>\n",
       "  "
      ],
      "text/plain": [
       "QueryResultsTable job_Rpl-wBfG4ITaor0UqqBStTD38Ts"
      ]
     },
     "execution_count": 38,
     "metadata": {},
     "output_type": "execute_result"
    }
   ],
   "source": [
    "%%bq query\n",
    "select \n",
    "smb.principalnaicscode as principalnaicscode,\n",
    "sum(total.count) as count,\n",
    "sum(smb.dollarsobligated) as dollarsobligated_smb,\n",
    "sum(total.dollarsobligated) as dollarsobligated_total,\n",
    "sum(smb.dollarsobligated)/sum(total.dollarsobligated) as smb_percentage\n",
    "from\n",
    "(select \n",
    "  principalnaicscode,\n",
    "  count(*) as count,\n",
    "  sum(dollarsobligated) as dollarsobligated\n",
    "  from `fiery-set-171213.vrec.usa_spending_all`\n",
    "  where contractingofficerbusinesssizedetermination in (\"S: SMALL BUSINESS\")\n",
    "  group by 1) as smb\n",
    "join \n",
    "(select\n",
    "  principalnaicscode,\n",
    "  count(*) as count,\n",
    "  sum(dollarsobligated) as dollarsobligated\n",
    "  from `fiery-set-171213.vrec.usa_spending_all`\n",
    "  group by 1\n",
    "  having dollarsobligated > 0\n",
    ") as total\n",
    "on smb.principalnaicscode = total.principalnaicscode\n",
    "group by 1\n",
    "order by 5 DESC\n",
    "limit 10"
   ]
  },
  {
   "cell_type": "markdown",
   "metadata": {},
   "source": [
    "## Simple Linear regression (LR)\n",
    "\n",
    "### LR: predict the size of the contract\n",
    "\n",
    "- A lot of categorical feature -> needs to binarize it -> creates very sparse Matrix -> poor performance for LR\n",
    "- R square of to 2%\n",
    "- Not ideal for the problem we are trying for here"
   ]
  },
  {
   "cell_type": "code",
   "execution_count": 176,
   "metadata": {
    "collapsed": true
   },
   "outputs": [],
   "source": [
    "%%bq query -n df_query\n",
    "select\n",
    "maj_agency_cat,\n",
    "#mod_agency,\n",
    "#contractactiontype,\n",
    "#typeofcontractpricing,\n",
    "#performancebasedservicecontract,\n",
    "state,\n",
    "#vendorcountrycode,\n",
    "#principalnaicscode,\n",
    "contractingofficerbusinesssizedetermination,\n",
    "#sum(dollarsobligated) as dollarsobligated\n",
    "dollarsobligated\n",
    "from `fiery-set-171213.vrec.usa_spending_all`\n",
    "where vendorcountrycode in ('UNITED STATES', 'USA: UNITED STATES OF AMERICA')\n",
    "and contractingofficerbusinesssizedetermination in ('O: OTHER THAN SMALL BUSINESS', 'S: SMALL BUSINESS')\n",
    "and dollarsobligated > 0\n",
    "#group by 1,2,3\n",
    "limit 20000"
   ]
  },
  {
   "cell_type": "code",
   "execution_count": 177,
   "metadata": {
    "collapsed": false
   },
   "outputs": [
    {
     "data": {
      "text/html": [
       "<div>\n",
       "<table border=\"1\" class=\"dataframe\">\n",
       "  <thead>\n",
       "    <tr style=\"text-align: right;\">\n",
       "      <th></th>\n",
       "      <th>maj_agency_cat</th>\n",
       "      <th>state</th>\n",
       "      <th>contractingofficerbusinesssizedetermination</th>\n",
       "      <th>dollarsobligated</th>\n",
       "    </tr>\n",
       "  </thead>\n",
       "  <tbody>\n",
       "    <tr>\n",
       "      <th>0</th>\n",
       "      <td>3600: VETERANS AFFAIRS, DEPARTMENT OF</td>\n",
       "      <td>AL</td>\n",
       "      <td>S: SMALL BUSINESS</td>\n",
       "      <td>2971.20</td>\n",
       "    </tr>\n",
       "    <tr>\n",
       "      <th>1</th>\n",
       "      <td>3600: VETERANS AFFAIRS, DEPARTMENT OF</td>\n",
       "      <td>AL</td>\n",
       "      <td>S: SMALL BUSINESS</td>\n",
       "      <td>700000.00</td>\n",
       "    </tr>\n",
       "    <tr>\n",
       "      <th>2</th>\n",
       "      <td>1400: INTERIOR, DEPARTMENT OF THE</td>\n",
       "      <td>AR</td>\n",
       "      <td>S: SMALL BUSINESS</td>\n",
       "      <td>35549.00</td>\n",
       "    </tr>\n",
       "    <tr>\n",
       "      <th>3</th>\n",
       "      <td>4700: GENERAL SERVICES ADMINISTRATION</td>\n",
       "      <td>AZ</td>\n",
       "      <td>S: SMALL BUSINESS</td>\n",
       "      <td>43.72</td>\n",
       "    </tr>\n",
       "    <tr>\n",
       "      <th>4</th>\n",
       "      <td>3600: VETERANS AFFAIRS, DEPARTMENT OF</td>\n",
       "      <td>AZ</td>\n",
       "      <td>S: SMALL BUSINESS</td>\n",
       "      <td>40504.63</td>\n",
       "    </tr>\n",
       "  </tbody>\n",
       "</table>\n",
       "</div>"
      ],
      "text/plain": [
       "                          maj_agency_cat state  \\\n",
       "0  3600: VETERANS AFFAIRS, DEPARTMENT OF    AL   \n",
       "1  3600: VETERANS AFFAIRS, DEPARTMENT OF    AL   \n",
       "2      1400: INTERIOR, DEPARTMENT OF THE    AR   \n",
       "3  4700: GENERAL SERVICES ADMINISTRATION    AZ   \n",
       "4  3600: VETERANS AFFAIRS, DEPARTMENT OF    AZ   \n",
       "\n",
       "  contractingofficerbusinesssizedetermination  dollarsobligated  \n",
       "0                           S: SMALL BUSINESS           2971.20  \n",
       "1                           S: SMALL BUSINESS         700000.00  \n",
       "2                           S: SMALL BUSINESS          35549.00  \n",
       "3                           S: SMALL BUSINESS             43.72  \n",
       "4                           S: SMALL BUSINESS          40504.63  "
      ]
     },
     "execution_count": 177,
     "metadata": {},
     "output_type": "execute_result"
    }
   ],
   "source": [
    "df = df_query.execute(output_options=bq.QueryOutput.dataframe()).result()\n",
    "df.head()"
   ]
  },
  {
   "cell_type": "code",
   "execution_count": 178,
   "metadata": {
    "collapsed": false
   },
   "outputs": [
    {
     "data": {
      "text/html": [
       "<div>\n",
       "<table border=\"1\" class=\"dataframe\">\n",
       "  <thead>\n",
       "    <tr style=\"text-align: right;\">\n",
       "      <th></th>\n",
       "      <th>dollarsobligated</th>\n",
       "      <th>1100: EXECUTIVE OFFICE OF THE PRESIDENT</th>\n",
       "      <th>1145: PEACE CORPS</th>\n",
       "      <th>1153: UNITED STATES TRADE AND DEVELOPMENT AGENCY</th>\n",
       "      <th>1200: AGRICULTURE, DEPARTMENT OF</th>\n",
       "      <th>1300: COMMERCE, DEPARTMENT OF</th>\n",
       "      <th>1300: Department of Commerce</th>\n",
       "      <th>1400: Department of the Interior</th>\n",
       "      <th>1400: INTERIOR, DEPARTMENT OF THE</th>\n",
       "      <th>1500: Department of Justice</th>\n",
       "      <th>...</th>\n",
       "      <th>VI</th>\n",
       "      <th>VT</th>\n",
       "      <th>WA</th>\n",
       "      <th>WI</th>\n",
       "      <th>WV</th>\n",
       "      <th>WY</th>\n",
       "      <th>hi</th>\n",
       "      <th>ma</th>\n",
       "      <th>O: OTHER THAN SMALL BUSINESS</th>\n",
       "      <th>S: SMALL BUSINESS</th>\n",
       "    </tr>\n",
       "  </thead>\n",
       "  <tbody>\n",
       "    <tr>\n",
       "      <th>0</th>\n",
       "      <td>2971.20</td>\n",
       "      <td>0</td>\n",
       "      <td>0</td>\n",
       "      <td>0</td>\n",
       "      <td>0</td>\n",
       "      <td>0</td>\n",
       "      <td>0</td>\n",
       "      <td>0</td>\n",
       "      <td>0</td>\n",
       "      <td>0</td>\n",
       "      <td>...</td>\n",
       "      <td>0</td>\n",
       "      <td>0</td>\n",
       "      <td>0</td>\n",
       "      <td>0</td>\n",
       "      <td>0</td>\n",
       "      <td>0</td>\n",
       "      <td>0</td>\n",
       "      <td>0</td>\n",
       "      <td>0</td>\n",
       "      <td>1</td>\n",
       "    </tr>\n",
       "    <tr>\n",
       "      <th>1</th>\n",
       "      <td>700000.00</td>\n",
       "      <td>0</td>\n",
       "      <td>0</td>\n",
       "      <td>0</td>\n",
       "      <td>0</td>\n",
       "      <td>0</td>\n",
       "      <td>0</td>\n",
       "      <td>0</td>\n",
       "      <td>0</td>\n",
       "      <td>0</td>\n",
       "      <td>...</td>\n",
       "      <td>0</td>\n",
       "      <td>0</td>\n",
       "      <td>0</td>\n",
       "      <td>0</td>\n",
       "      <td>0</td>\n",
       "      <td>0</td>\n",
       "      <td>0</td>\n",
       "      <td>0</td>\n",
       "      <td>0</td>\n",
       "      <td>1</td>\n",
       "    </tr>\n",
       "    <tr>\n",
       "      <th>2</th>\n",
       "      <td>35549.00</td>\n",
       "      <td>0</td>\n",
       "      <td>0</td>\n",
       "      <td>0</td>\n",
       "      <td>0</td>\n",
       "      <td>0</td>\n",
       "      <td>0</td>\n",
       "      <td>0</td>\n",
       "      <td>1</td>\n",
       "      <td>0</td>\n",
       "      <td>...</td>\n",
       "      <td>0</td>\n",
       "      <td>0</td>\n",
       "      <td>0</td>\n",
       "      <td>0</td>\n",
       "      <td>0</td>\n",
       "      <td>0</td>\n",
       "      <td>0</td>\n",
       "      <td>0</td>\n",
       "      <td>0</td>\n",
       "      <td>1</td>\n",
       "    </tr>\n",
       "    <tr>\n",
       "      <th>3</th>\n",
       "      <td>43.72</td>\n",
       "      <td>0</td>\n",
       "      <td>0</td>\n",
       "      <td>0</td>\n",
       "      <td>0</td>\n",
       "      <td>0</td>\n",
       "      <td>0</td>\n",
       "      <td>0</td>\n",
       "      <td>0</td>\n",
       "      <td>0</td>\n",
       "      <td>...</td>\n",
       "      <td>0</td>\n",
       "      <td>0</td>\n",
       "      <td>0</td>\n",
       "      <td>0</td>\n",
       "      <td>0</td>\n",
       "      <td>0</td>\n",
       "      <td>0</td>\n",
       "      <td>0</td>\n",
       "      <td>0</td>\n",
       "      <td>1</td>\n",
       "    </tr>\n",
       "    <tr>\n",
       "      <th>4</th>\n",
       "      <td>40504.63</td>\n",
       "      <td>0</td>\n",
       "      <td>0</td>\n",
       "      <td>0</td>\n",
       "      <td>0</td>\n",
       "      <td>0</td>\n",
       "      <td>0</td>\n",
       "      <td>0</td>\n",
       "      <td>0</td>\n",
       "      <td>0</td>\n",
       "      <td>...</td>\n",
       "      <td>0</td>\n",
       "      <td>0</td>\n",
       "      <td>0</td>\n",
       "      <td>0</td>\n",
       "      <td>0</td>\n",
       "      <td>0</td>\n",
       "      <td>0</td>\n",
       "      <td>0</td>\n",
       "      <td>0</td>\n",
       "      <td>1</td>\n",
       "    </tr>\n",
       "  </tbody>\n",
       "</table>\n",
       "<p>5 rows × 137 columns</p>\n",
       "</div>"
      ],
      "text/plain": [
       "   dollarsobligated  1100: EXECUTIVE OFFICE OF THE PRESIDENT  \\\n",
       "0           2971.20                                        0   \n",
       "1         700000.00                                        0   \n",
       "2          35549.00                                        0   \n",
       "3             43.72                                        0   \n",
       "4          40504.63                                        0   \n",
       "\n",
       "   1145: PEACE CORPS  1153: UNITED STATES TRADE AND DEVELOPMENT AGENCY  \\\n",
       "0                  0                                                 0   \n",
       "1                  0                                                 0   \n",
       "2                  0                                                 0   \n",
       "3                  0                                                 0   \n",
       "4                  0                                                 0   \n",
       "\n",
       "   1200: AGRICULTURE, DEPARTMENT OF  1300: COMMERCE, DEPARTMENT OF  \\\n",
       "0                                 0                              0   \n",
       "1                                 0                              0   \n",
       "2                                 0                              0   \n",
       "3                                 0                              0   \n",
       "4                                 0                              0   \n",
       "\n",
       "   1300: Department of Commerce  1400: Department of the Interior   \\\n",
       "0                             0                                  0   \n",
       "1                             0                                  0   \n",
       "2                             0                                  0   \n",
       "3                             0                                  0   \n",
       "4                             0                                  0   \n",
       "\n",
       "   1400: INTERIOR, DEPARTMENT OF THE  1500: Department of Justice  \\\n",
       "0                                  0                            0   \n",
       "1                                  0                            0   \n",
       "2                                  1                            0   \n",
       "3                                  0                            0   \n",
       "4                                  0                            0   \n",
       "\n",
       "         ...          VI  VT  WA  WI  WV  WY  hi  ma  \\\n",
       "0        ...           0   0   0   0   0   0   0   0   \n",
       "1        ...           0   0   0   0   0   0   0   0   \n",
       "2        ...           0   0   0   0   0   0   0   0   \n",
       "3        ...           0   0   0   0   0   0   0   0   \n",
       "4        ...           0   0   0   0   0   0   0   0   \n",
       "\n",
       "   O: OTHER THAN SMALL BUSINESS  S: SMALL BUSINESS  \n",
       "0                             0                  1  \n",
       "1                             0                  1  \n",
       "2                             0                  1  \n",
       "3                             0                  1  \n",
       "4                             0                  1  \n",
       "\n",
       "[5 rows x 137 columns]"
      ]
     },
     "execution_count": 178,
     "metadata": {},
     "output_type": "execute_result"
    }
   ],
   "source": [
    "# Create dummy variable using pandas function get_dummies\n",
    "df1 = df.join(pd.get_dummies(df['maj_agency_cat']))\n",
    "df1 = df1.join(pd.get_dummies(df['state']))\n",
    "df1 = df1.join(pd.get_dummies(df['contractingofficerbusinesssizedetermination']))\n",
    "\n",
    "df1 = df1.drop('maj_agency_cat', axis = 1)\n",
    "df1 = df1.drop('state', axis = 1)\n",
    "df1 = df1.drop('contractingofficerbusinesssizedetermination', axis = 1)\n",
    "df1.head()"
   ]
  },
  {
   "cell_type": "code",
   "execution_count": 179,
   "metadata": {
    "collapsed": false
   },
   "outputs": [
    {
     "name": "stdout",
     "output_type": "stream",
     "text": [
      "('Coefficients: \\n', array([[  6.98552231e+17,   6.98552231e+17,   6.98552231e+17,\n",
      "          6.98552231e+17,   6.98552231e+17,   6.98552231e+17,\n",
      "          6.98552231e+17,   6.98552231e+17,   6.98552231e+17,\n",
      "          6.98552231e+17,   6.98552231e+17,   6.98552231e+17,\n",
      "          6.98552231e+17,   6.98552231e+17,   6.98552231e+17,\n",
      "          6.98552231e+17,   6.98552231e+17,   6.98552231e+17,\n",
      "          6.98552231e+17,   6.98552231e+17,   6.98552231e+17,\n",
      "          6.98552231e+17,   6.98552231e+17,   6.98552231e+17,\n",
      "          6.98552231e+17,   6.98552231e+17,   6.98552231e+17,\n",
      "          6.98552231e+17,   6.98552231e+17,   6.98552231e+17,\n",
      "          6.98552231e+17,   6.98552231e+17,   6.98552231e+17,\n",
      "          6.98552231e+17,   6.98552231e+17,   6.98552231e+17,\n",
      "          6.98552231e+17,   6.98552231e+17,   6.98552231e+17,\n",
      "          6.98552231e+17,   6.98552231e+17,   6.98552231e+17,\n",
      "          6.98552231e+17,   6.98552231e+17,   6.98552231e+17,\n",
      "          6.98552231e+17,   6.98552231e+17,   6.98552231e+17,\n",
      "          6.98552231e+17,   6.98552231e+17,   6.98552231e+17,\n",
      "          6.98552231e+17,   6.98552231e+17,   6.98552231e+17,\n",
      "          6.98552231e+17,   6.98552231e+17,   6.98552231e+17,\n",
      "          6.98552231e+17,   6.98552231e+17,   6.98552231e+17,\n",
      "          6.98552231e+17,   6.98552231e+17,   6.98552231e+17,\n",
      "          6.98552231e+17,   6.98552231e+17,   6.98552231e+17,\n",
      "          6.98552231e+17,   6.98552231e+17,   6.98552231e+17,\n",
      "          6.98552231e+17,   6.98552231e+17,   6.98552231e+17,\n",
      "          6.98552231e+17,   6.98552231e+17,   6.98552231e+17,\n",
      "          6.98552231e+17,   6.98552231e+17,  -3.98845009e+17,\n",
      "         -3.98845009e+17,  -3.98845009e+17,  -3.98845009e+17,\n",
      "         -3.98845009e+17,  -3.98845009e+17,  -3.98845009e+17,\n",
      "         -3.98845009e+17,  -3.98845009e+17,  -3.98845009e+17,\n",
      "         -3.98845009e+17,  -3.98845009e+17,  -3.98845009e+17,\n",
      "         -3.98845009e+17,  -3.98845009e+17,  -3.98845009e+17,\n",
      "         -3.98845009e+17,  -3.98845009e+17,  -3.98845009e+17,\n",
      "         -3.98845009e+17,  -3.98845009e+17,  -3.98845009e+17,\n",
      "         -3.98845009e+17,  -3.98845009e+17,  -3.98845009e+17,\n",
      "         -3.98845009e+17,  -3.98845009e+17,  -3.98845009e+17,\n",
      "         -3.98845009e+17,  -3.98845009e+17,  -3.98845009e+17,\n",
      "         -3.98845009e+17,  -3.98845009e+17,  -3.98845009e+17,\n",
      "         -3.98845009e+17,  -3.98845009e+17,  -3.98845009e+17,\n",
      "         -3.98845009e+17,  -3.98845009e+17,  -3.98845009e+17,\n",
      "         -3.98845009e+17,  -3.98845009e+17,  -3.98845009e+17,\n",
      "         -3.98845009e+17,  -3.98845009e+17,  -3.98845009e+17,\n",
      "         -3.98845009e+17,  -3.98845009e+17,  -3.98845009e+17,\n",
      "         -3.98845009e+17,  -3.98845009e+17,  -3.98845009e+17,\n",
      "         -3.98845009e+17,  -3.98845009e+17,  -3.98845009e+17,\n",
      "         -3.98845009e+17,  -3.98845009e+17,  -2.63181572e+18,\n",
      "         -2.63181572e+18]]))\n",
      "Mean squared error: 2435668194841.60\n",
      "Variance score: 0.02\n"
     ]
    }
   ],
   "source": [
    "train_data = df1.iloc[:,1:]\n",
    "train_labels = df[['dollarsobligated']]\n",
    "\n",
    "lm = LinearRegression()\n",
    "lm.fit(train_data, train_labels)\n",
    "\n",
    "# The coefficients\n",
    "print('Coefficients: \\n', lm.coef_)\n",
    "# The mean squared error\n",
    "print(\"Mean squared error: %.2f\"\n",
    "      % np.mean((lm.predict(train_data) - train_labels) ** 2))\n",
    "# Explained variance score: 1 is perfect prediction\n",
    "print('Variance score: %.2f' % lm.score(train_data, train_labels))"
   ]
  },
  {
   "cell_type": "markdown",
   "metadata": {},
   "source": [
    "### LR: Predict the number of contracts (popularity)\n",
    "\n",
    "- Same issue than previously\n",
    "- R square of to 1%\n",
    "- Not ideal for the problem we are trying for here"
   ]
  },
  {
   "cell_type": "code",
   "execution_count": 182,
   "metadata": {
    "collapsed": true
   },
   "outputs": [],
   "source": [
    "%%bq query -n df_query\n",
    "select\n",
    "vendorname,\n",
    "maj_agency_cat,\n",
    "state,\n",
    "contractingofficerbusinesssizedetermination,\n",
    "count(*) as count,\n",
    "sum(dollarsobligated) as dollarsobligated\n",
    "from `fiery-set-171213.vrec.usa_spending_all`\n",
    "where vendorcountrycode in ('UNITED STATES', 'USA: UNITED STATES OF AMERICA')\n",
    "and contractingofficerbusinesssizedetermination in ('O: OTHER THAN SMALL BUSINESS', 'S: SMALL BUSINESS')\n",
    "and dollarsobligated > 0\n",
    "group by 1,2,3,4\n",
    "limit 20000"
   ]
  },
  {
   "cell_type": "code",
   "execution_count": 183,
   "metadata": {
    "collapsed": false
   },
   "outputs": [
    {
     "data": {
      "text/html": [
       "<div>\n",
       "<table border=\"1\" class=\"dataframe\">\n",
       "  <thead>\n",
       "    <tr style=\"text-align: right;\">\n",
       "      <th></th>\n",
       "      <th>vendorname</th>\n",
       "      <th>maj_agency_cat</th>\n",
       "      <th>state</th>\n",
       "      <th>contractingofficerbusinesssizedetermination</th>\n",
       "      <th>count</th>\n",
       "      <th>dollarsobligated</th>\n",
       "    </tr>\n",
       "  </thead>\n",
       "  <tbody>\n",
       "    <tr>\n",
       "      <th>0</th>\n",
       "      <td>THE HEAT CENTER</td>\n",
       "      <td>1500: JUSTICE, DEPARTMENT OF</td>\n",
       "      <td></td>\n",
       "      <td>S: SMALL BUSINESS</td>\n",
       "      <td>1</td>\n",
       "      <td>1181.00</td>\n",
       "    </tr>\n",
       "    <tr>\n",
       "      <th>1</th>\n",
       "      <td>NEW HORIZONS TELECOM INC</td>\n",
       "      <td>6900: TRANSPORTATION, DEPARTMENT OF</td>\n",
       "      <td>AK</td>\n",
       "      <td>S: SMALL BUSINESS</td>\n",
       "      <td>10</td>\n",
       "      <td>1017093.00</td>\n",
       "    </tr>\n",
       "    <tr>\n",
       "      <th>2</th>\n",
       "      <td>D AND L WOODWORKS</td>\n",
       "      <td>1400: INTERIOR, DEPARTMENT OF THE</td>\n",
       "      <td>AK</td>\n",
       "      <td>S: SMALL BUSINESS</td>\n",
       "      <td>1</td>\n",
       "      <td>34520.00</td>\n",
       "    </tr>\n",
       "    <tr>\n",
       "      <th>3</th>\n",
       "      <td>BRISTOL CONSTRUCTION SERVICES,</td>\n",
       "      <td>9700: DEPT OF DEFENSE</td>\n",
       "      <td>AK</td>\n",
       "      <td>S: SMALL BUSINESS</td>\n",
       "      <td>46</td>\n",
       "      <td>23886665.50</td>\n",
       "    </tr>\n",
       "    <tr>\n",
       "      <th>4</th>\n",
       "      <td>GRANT AVIATION, INC.</td>\n",
       "      <td>1400: INTERIOR, DEPARTMENT OF THE</td>\n",
       "      <td>AK</td>\n",
       "      <td>S: SMALL BUSINESS</td>\n",
       "      <td>2</td>\n",
       "      <td>14857.08</td>\n",
       "    </tr>\n",
       "  </tbody>\n",
       "</table>\n",
       "</div>"
      ],
      "text/plain": [
       "                       vendorname                       maj_agency_cat state  \\\n",
       "0                 THE HEAT CENTER         1500: JUSTICE, DEPARTMENT OF         \n",
       "1        NEW HORIZONS TELECOM INC  6900: TRANSPORTATION, DEPARTMENT OF    AK   \n",
       "2               D AND L WOODWORKS    1400: INTERIOR, DEPARTMENT OF THE    AK   \n",
       "3  BRISTOL CONSTRUCTION SERVICES,                9700: DEPT OF DEFENSE    AK   \n",
       "4            GRANT AVIATION, INC.    1400: INTERIOR, DEPARTMENT OF THE    AK   \n",
       "\n",
       "  contractingofficerbusinesssizedetermination  count  dollarsobligated  \n",
       "0                           S: SMALL BUSINESS      1           1181.00  \n",
       "1                           S: SMALL BUSINESS     10        1017093.00  \n",
       "2                           S: SMALL BUSINESS      1          34520.00  \n",
       "3                           S: SMALL BUSINESS     46       23886665.50  \n",
       "4                           S: SMALL BUSINESS      2          14857.08  "
      ]
     },
     "execution_count": 183,
     "metadata": {},
     "output_type": "execute_result"
    }
   ],
   "source": [
    "df = df_query.execute(output_options=bq.QueryOutput.dataframe()).result()\n",
    "df.head()"
   ]
  },
  {
   "cell_type": "code",
   "execution_count": 185,
   "metadata": {
    "collapsed": false
   },
   "outputs": [
    {
     "name": "stdout",
     "output_type": "stream",
     "text": [
      "('Coefficients: \\n', array([[  1.40101470e+10,   1.40101470e+10,   1.40101470e+10,\n",
      "          1.40101470e+10,   1.40101470e+10,   1.40101470e+10,\n",
      "          1.40101470e+10,   1.40101470e+10,   1.40101470e+10,\n",
      "          1.40101470e+10,   1.40101470e+10,   1.40101470e+10,\n",
      "          1.40101470e+10,   1.40101470e+10,   1.40101470e+10,\n",
      "          1.40101470e+10,   1.40101470e+10,   1.40101470e+10,\n",
      "          1.40101470e+10,   1.40101470e+10,   1.40101470e+10,\n",
      "          1.40101470e+10,   1.40101470e+10,   1.40101470e+10,\n",
      "          1.40101470e+10,   1.40101470e+10,   1.40101469e+10,\n",
      "          1.40101470e+10,   1.40101470e+10,   1.40101470e+10,\n",
      "          1.40101470e+10,   1.40101470e+10,   1.40101470e+10,\n",
      "          1.40101470e+10,   1.40101470e+10,   1.40101470e+10,\n",
      "          1.40101470e+10,   1.40101469e+10,   1.40101470e+10,\n",
      "          1.40101470e+10,   1.40101470e+10,   1.40101470e+10,\n",
      "          1.40101470e+10,   1.40101470e+10,   1.40101470e+10,\n",
      "          1.40101471e+10,   1.40101470e+10,   1.40101470e+10,\n",
      "          1.40101470e+10,   1.40101470e+10,   1.40101470e+10,\n",
      "          1.40101470e+10,   1.40101470e+10,   1.40101470e+10,\n",
      "          1.40101469e+10,   1.40101470e+10,   1.40101470e+10,\n",
      "          1.40101470e+10,   1.40101470e+10,   1.40101470e+10,\n",
      "          1.40101470e+10,   1.40101470e+10,   1.40101470e+10,\n",
      "          1.40101470e+10,   1.40101470e+10,   1.40101470e+10,\n",
      "          1.40101470e+10,   1.40101470e+10,   1.40101470e+10,\n",
      "          1.40101470e+10,   1.40101470e+10,   1.40101470e+10,\n",
      "          1.40101470e+10,   1.40101470e+10,   1.40101470e+10,\n",
      "          1.40101470e+10,   1.40101470e+10,   1.40101470e+10,\n",
      "          1.40101470e+10,   1.40101470e+10,   1.40101470e+10,\n",
      "          1.40101470e+10,   1.40101470e+10,   1.40101470e+10,\n",
      "          1.40101470e+10,   1.40101470e+10,   1.40101470e+10,\n",
      "          1.40101470e+10,   1.40101470e+10,   1.40101470e+10,\n",
      "          1.40101470e+10,   1.40101470e+10,   1.40101470e+10,\n",
      "          1.40101470e+10,   1.40101469e+10,   1.40101470e+10,\n",
      "          1.40101470e+10,   1.40101470e+10,   1.40101470e+10,\n",
      "          1.40101470e+10,   1.40101470e+10,   1.40101470e+10,\n",
      "          1.40101470e+10,   1.40101470e+10,   1.40101469e+10,\n",
      "          1.40101470e+10,   1.40101470e+10,   1.40101470e+10,\n",
      "          1.40101470e+10,   1.40101470e+10,   1.40101470e+10,\n",
      "          1.40101470e+10,   1.40101470e+10,   1.40101470e+10,\n",
      "          1.40101470e+10,   1.40101470e+10,   1.40101470e+10,\n",
      "          1.40101470e+10,   1.40101470e+10,   1.40101470e+10,\n",
      "          1.40101470e+10,   1.40101470e+10,   1.40101470e+10,\n",
      "          1.40101470e+10,   1.40101470e+10,   7.28725805e+13,\n",
      "          7.28725805e+13,   7.28725805e+13,   7.28725805e+13,\n",
      "          7.28725805e+13,   7.28725805e+13,   7.28725805e+13,\n",
      "          7.28725805e+13,   7.28725805e+13,   7.28725805e+13,\n",
      "          7.28725805e+13,   7.28725805e+13,   7.28725805e+13,\n",
      "          7.28725805e+13,   7.28725805e+13,   7.28725805e+13,\n",
      "          7.28725805e+13,   7.28725805e+13,   7.28725805e+13,\n",
      "          7.28725805e+13,   7.28725805e+13,   7.28725805e+13,\n",
      "          7.28725805e+13,   7.28725805e+13,   7.28725805e+13,\n",
      "          7.28725805e+13,   7.28725805e+13,   7.28725805e+13,\n",
      "          7.28725805e+13,   7.28725805e+13,   7.28725805e+13,\n",
      "          7.28725805e+13,   7.28725805e+13,   7.28725805e+13,\n",
      "          7.28725805e+13,   7.28725805e+13,   7.28725805e+13,\n",
      "          7.28725805e+13,   7.28725805e+13,   7.28725805e+13,\n",
      "          7.28725805e+13,   7.28725805e+13,   7.28725805e+13,\n",
      "          7.28725805e+13,   7.28725805e+13,   7.28725805e+13,\n",
      "          7.28725805e+13,   7.28725805e+13,   7.28725805e+13,\n",
      "          7.28725805e+13,   7.28725805e+13,   7.28725805e+13,\n",
      "          7.28725805e+13,   7.28725805e+13,   7.28725805e+13,\n",
      "          7.28725805e+13,   7.28725805e+13,   7.28725805e+13,\n",
      "          7.28725805e+13,   7.28725805e+13,   7.28725805e+13,\n",
      "          7.28725805e+13,   7.28725805e+13,   1.46975561e+14,\n",
      "          1.46975561e+14]]))\n",
      "Mean squared error: 115230.01\n",
      "Variance score: 0.01\n"
     ]
    }
   ],
   "source": [
    "#Create dummy variable using pandas function get_dummies\n",
    "df1 = df.join(pd.get_dummies(df['maj_agency_cat']))\n",
    "df1 = df1.join(pd.get_dummies(df['state']))\n",
    "df1 = df1.join(pd.get_dummies(df['contractingofficerbusinesssizedetermination']))\n",
    "\n",
    "df1 = df1.drop('maj_agency_cat', axis = 1)\n",
    "df1 = df1.drop('state', axis = 1)\n",
    "df1 = df1.drop('contractingofficerbusinesssizedetermination', axis = 1)\n",
    "df1 = df1.drop('vendorname', axis = 1)\n",
    "df1 = df1.drop('dollarsobligated', axis = 1)\n",
    "\n",
    "train_data = df1.iloc[:,1:]\n",
    "train_labels = df[['count']]\n",
    "\n",
    "lm = LinearRegression()\n",
    "lm.fit(train_data, train_labels)\n",
    "\n",
    "# The coefficients\n",
    "print('Coefficients: \\n', lm.coef_)\n",
    "# The mean squared error\n",
    "print(\"Mean squared error: %.2f\"\n",
    "      % np.mean((lm.predict(train_data) - train_labels) ** 2))\n",
    "# Explained variance score: 1 is perfect prediction\n",
    "print('Variance score: %.2f' % lm.score(train_data, train_labels))"
   ]
  },
  {
   "cell_type": "markdown",
   "metadata": {},
   "source": [
    "## Collaborative filtering\n",
    "\n",
    "- Looking at match between gov agency & vendors\n",
    "- Looking at match between product & vendors\n",
    "- **TO DO, TRAINING only a subset of the data, how to expand to 49M lines? -> Need to Map/Reduce**"
   ]
  },
  {
   "cell_type": "code",
   "execution_count": 54,
   "metadata": {
    "collapsed": false
   },
   "outputs": [
    {
     "data": {
      "text/html": [
       "\n",
       "    <div class=\"bqtv\" id=\"26_149831727807\"><table><tr><th>vendorname</th><th>count_agency</th></tr><tr><td>CARAHSOFT TECHNOLOGY CORPORATION</td><td>169</td></tr><tr><td>STERLING COMPUTERS CORPORATION</td><td>159</td></tr><tr><td>IMMIXTECHNOLOGY INC</td><td>156</td></tr><tr><td>FOUR POINTS TECHNOLOGY, L.L.C.</td><td>152</td></tr><tr><td>DLT SOLUTIONS INCORPORATED</td><td>151</td></tr><tr><td>IMMIXTECHNOLOGY, INC.</td><td>151</td></tr><tr><td>GTSI CORPORATION</td><td>151</td></tr><tr><td>EC AMERICA, INC.</td><td>137</td></tr><tr><td>PATRIOT TECHNOLOGIES INC</td><td>134</td></tr><tr><td>EXECUTIVE INFORMATION SYSTEMS,</td><td>134</td></tr></table></div>\n",
       "    <br />(rows: 10, time: 2.2s,     4GB processed, job: job_rL83JGU3hnFbazPz2fPSRVBqtmg)<br />\n",
       "    <script>\n",
       "\n",
       "      require.config({\n",
       "        paths: {\n",
       "          d3: '//cdnjs.cloudflare.com/ajax/libs/d3/3.4.13/d3',\n",
       "          plotly: 'https://cdn.plot.ly/plotly-1.5.1.min.js?noext',\n",
       "          jquery: '//ajax.googleapis.com/ajax/libs/jquery/2.0.0/jquery.min'\n",
       "        },\n",
       "        map: {\n",
       "          '*': {\n",
       "            datalab: 'nbextensions/gcpdatalab'\n",
       "          }\n",
       "        },\n",
       "        shim: {\n",
       "          plotly: {\n",
       "            deps: ['d3', 'jquery'],\n",
       "            exports: 'plotly'\n",
       "          }\n",
       "        }\n",
       "      });\n",
       "\n",
       "      require(['datalab/charting', 'datalab/element!26_149831727807', 'base/js/events',\n",
       "          'datalab/style!/nbextensions/gcpdatalab/charting.css'],\n",
       "        function(charts, dom, events) {\n",
       "          charts.render('gcharts', dom, events, 'table', [], {\"rows\": [{\"c\": [{\"v\": \"CARAHSOFT TECHNOLOGY CORPORATION\"}, {\"v\": 169}]}, {\"c\": [{\"v\": \"STERLING COMPUTERS CORPORATION\"}, {\"v\": 159}]}, {\"c\": [{\"v\": \"IMMIXTECHNOLOGY INC\"}, {\"v\": 156}]}, {\"c\": [{\"v\": \"FOUR POINTS TECHNOLOGY, L.L.C.\"}, {\"v\": 152}]}, {\"c\": [{\"v\": \"DLT SOLUTIONS INCORPORATED\"}, {\"v\": 151}]}, {\"c\": [{\"v\": \"IMMIXTECHNOLOGY, INC.\"}, {\"v\": 151}]}, {\"c\": [{\"v\": \"GTSI CORPORATION\"}, {\"v\": 151}]}, {\"c\": [{\"v\": \"EC AMERICA, INC.\"}, {\"v\": 137}]}, {\"c\": [{\"v\": \"PATRIOT TECHNOLOGIES INC\"}, {\"v\": 134}]}, {\"c\": [{\"v\": \"EXECUTIVE INFORMATION SYSTEMS,\"}, {\"v\": 134}]}], \"cols\": [{\"type\": \"string\", \"id\": \"vendorname\", \"label\": \"vendorname\"}, {\"type\": \"number\", \"id\": \"count_agency\", \"label\": \"count_agency\"}]},\n",
       "            {\n",
       "              pageSize: 25,\n",
       "              cssClassNames:  {\n",
       "                tableRow: 'gchart-table-row',\n",
       "                headerRow: 'gchart-table-headerrow',\n",
       "                oddTableRow: 'gchart-table-oddrow',\n",
       "                selectedTableRow: 'gchart-table-selectedrow',\n",
       "                hoverTableRow: 'gchart-table-hoverrow',\n",
       "                tableCell: 'gchart-table-cell',\n",
       "                headerCell: 'gchart-table-headercell',\n",
       "                rowNumberCell: 'gchart-table-rownumcell'\n",
       "              }\n",
       "            },\n",
       "            {source_index: 25, fields: 'vendorname,count_agency'},\n",
       "            0,\n",
       "            10);\n",
       "        }\n",
       "      );\n",
       "    </script>\n",
       "  "
      ],
      "text/plain": [
       "QueryResultsTable job_rL83JGU3hnFbazPz2fPSRVBqtmg"
      ]
     },
     "execution_count": 54,
     "metadata": {},
     "output_type": "execute_result"
    }
   ],
   "source": [
    "%%bq query\n",
    "select\n",
    "vendorname,\n",
    "count(*) as count_agency\n",
    "from\n",
    "  (select\n",
    "  #maj_agency_cat,\n",
    "  vendorname,\n",
    "  mod_agency,\n",
    "    \n",
    "  from `fiery-set-171213.vrec.usa_spending_all`\n",
    "  where contractingofficerbusinesssizedetermination in (\"S: SMALL BUSINESS\")\n",
    "  group by 1,2)\n",
    "group by 1\n",
    "order by 2 DESC\n",
    "limit 10"
   ]
  },
  {
   "cell_type": "code",
   "execution_count": 55,
   "metadata": {
    "collapsed": false
   },
   "outputs": [
    {
     "data": {
      "text/html": [
       "\n",
       "    <div class=\"bqtv\" id=\"27_149831738577\"><table><tr><th>vendorname</th><th>count_agency</th></tr><tr><td>MISCELLANEOUS FOREIGN CONTRACTORS</td><td>2601</td></tr><tr><td>MISCELLANEOUS FOREIGN AWARDEES</td><td>2217</td></tr><tr><td>LOCKHEED MARTIN CORPORATION</td><td>1025</td></tr><tr><td>SCIENCE APPLICATIONS INTERNATIONAL CORPORATION</td><td>983</td></tr><tr><td>RAYTHEON COMPANY</td><td>873</td></tr><tr><td>MISCELLANEOUS FOREIGN CONTRACT</td><td>807</td></tr><tr><td>NORTHROP GRUMMAN SYSTEMS CORPORATION</td><td>773</td></tr><tr><td>FOREIGN CONTRACTOR (UNDISCLOSED)</td><td>739</td></tr><tr><td>GPC CONSOLIDATED REPORTING</td><td>694</td></tr><tr><td>L-3 COMMUNICATIONS CORPORATION</td><td>628</td></tr></table></div>\n",
       "    <br />(rows: 10, time: 3.1s,     3GB processed, job: job_oLznPi-KnRuU-OWAMAPx-6CI6Yo)<br />\n",
       "    <script>\n",
       "\n",
       "      require.config({\n",
       "        paths: {\n",
       "          d3: '//cdnjs.cloudflare.com/ajax/libs/d3/3.4.13/d3',\n",
       "          plotly: 'https://cdn.plot.ly/plotly-1.5.1.min.js?noext',\n",
       "          jquery: '//ajax.googleapis.com/ajax/libs/jquery/2.0.0/jquery.min'\n",
       "        },\n",
       "        map: {\n",
       "          '*': {\n",
       "            datalab: 'nbextensions/gcpdatalab'\n",
       "          }\n",
       "        },\n",
       "        shim: {\n",
       "          plotly: {\n",
       "            deps: ['d3', 'jquery'],\n",
       "            exports: 'plotly'\n",
       "          }\n",
       "        }\n",
       "      });\n",
       "\n",
       "      require(['datalab/charting', 'datalab/element!27_149831738577', 'base/js/events',\n",
       "          'datalab/style!/nbextensions/gcpdatalab/charting.css'],\n",
       "        function(charts, dom, events) {\n",
       "          charts.render('gcharts', dom, events, 'table', [], {\"rows\": [{\"c\": [{\"v\": \"MISCELLANEOUS FOREIGN CONTRACTORS\"}, {\"v\": 2601}]}, {\"c\": [{\"v\": \"MISCELLANEOUS FOREIGN AWARDEES\"}, {\"v\": 2217}]}, {\"c\": [{\"v\": \"LOCKHEED MARTIN CORPORATION\"}, {\"v\": 1025}]}, {\"c\": [{\"v\": \"SCIENCE APPLICATIONS INTERNATIONAL CORPORATION\"}, {\"v\": 983}]}, {\"c\": [{\"v\": \"RAYTHEON COMPANY\"}, {\"v\": 873}]}, {\"c\": [{\"v\": \"MISCELLANEOUS FOREIGN CONTRACT\"}, {\"v\": 807}]}, {\"c\": [{\"v\": \"NORTHROP GRUMMAN SYSTEMS CORPORATION\"}, {\"v\": 773}]}, {\"c\": [{\"v\": \"FOREIGN CONTRACTOR (UNDISCLOSED)\"}, {\"v\": 739}]}, {\"c\": [{\"v\": \"GPC CONSOLIDATED REPORTING\"}, {\"v\": 694}]}, {\"c\": [{\"v\": \"L-3 COMMUNICATIONS CORPORATION\"}, {\"v\": 628}]}], \"cols\": [{\"type\": \"string\", \"id\": \"vendorname\", \"label\": \"vendorname\"}, {\"type\": \"number\", \"id\": \"count_agency\", \"label\": \"count_agency\"}]},\n",
       "            {\n",
       "              pageSize: 25,\n",
       "              cssClassNames:  {\n",
       "                tableRow: 'gchart-table-row',\n",
       "                headerRow: 'gchart-table-headerrow',\n",
       "                oddTableRow: 'gchart-table-oddrow',\n",
       "                selectedTableRow: 'gchart-table-selectedrow',\n",
       "                hoverTableRow: 'gchart-table-hoverrow',\n",
       "                tableCell: 'gchart-table-cell',\n",
       "                headerCell: 'gchart-table-headercell',\n",
       "                rowNumberCell: 'gchart-table-rownumcell'\n",
       "              }\n",
       "            },\n",
       "            {source_index: 26, fields: 'vendorname,count_agency'},\n",
       "            0,\n",
       "            10);\n",
       "        }\n",
       "      );\n",
       "    </script>\n",
       "  "
      ],
      "text/plain": [
       "QueryResultsTable job_oLznPi-KnRuU-OWAMAPx-6CI6Yo"
      ]
     },
     "execution_count": 55,
     "metadata": {},
     "output_type": "execute_result"
    }
   ],
   "source": [
    "%%bq query\n",
    "select\n",
    "vendorname,\n",
    "count(*) as count_service_code\n",
    "from\n",
    "  (select\n",
    "  vendorname,\n",
    "  productorservicecode\n",
    "  from `fiery-set-171213.vrec.usa_spending_all`\n",
    "  #where contractingofficerbusinesssizedetermination in (\"S: SMALL BUSINESS\")\n",
    "  group by 1,2)\n",
    "group by 1\n",
    "order by 2 DESC\n",
    "limit 10"
   ]
  },
  {
   "cell_type": "code",
   "execution_count": 57,
   "metadata": {
    "collapsed": false
   },
   "outputs": [
    {
     "data": {
      "text/html": [
       "\n",
       "    <div class=\"bqtv\" id=\"29_149831758628\"><table><tr><th>vendorname</th><th>productorservicecode</th><th>count</th></tr><tr><td>LOCKHEED MARTIN CORPORATION</td><td>5340: HARDWARE, COMMERCIAL</td><td>60228</td></tr><tr><td>LOCKHEED MARTIN CORPORATION</td><td>2540: VEHICULAR FURNITURE AND ACCESSORIES</td><td>30066</td></tr><tr><td>LOCKHEED MARTIN CORPORATION</td><td>2940: ENGINE AIR AND OIL FILTERS, STRAINERS, AND CLEANERS, NONAIRCRAFT</td><td>16583</td></tr><tr><td>LOCKHEED MARTIN CORPORATION</td><td>4330: CENTRIFUGALS, SEPARATORS, AND PRESSURE AND VACUUM FILTERS</td><td>15802</td></tr><tr><td>LOCKHEED MARTIN CORPORATION</td><td>2990: MISCELLANEOUS ENGINE ACCESSORIES, NONAIRCRAFT</td><td>11232</td></tr><tr><td>LOCKHEED MARTIN CORPORATION</td><td>1510: AIRCRAFT, FIXED WING</td><td>8087</td></tr><tr><td>LOCKHEED MARTIN CORPORATION</td><td>5930: SWITCHES</td><td>7881</td></tr><tr><td>LOCKHEED MARTIN CORPORATION</td><td>R706: SUPPORT- MANAGEMENT: LOGISTICS SUPPORT</td><td>7795</td></tr><tr><td>LOCKHEED MARTIN CORPORATION</td><td>2530: VEHICULAR BRAKE, STEERING, AXLE, WHEEL, AND TRACK COMPONENTS</td><td>7686</td></tr><tr><td>LOCKHEED MARTIN CORPORATION</td><td>1560: AIRFRAME STRUCTURAL COMPONENTS</td><td>6588</td></tr><tr><td>LOCKHEED MARTIN CORPORATION</td><td>5998: ELE ASSEMB-BDS CARDS-ASSOC HARDWARE</td><td>6216</td></tr><tr><td>LOCKHEED MARTIN CORPORATION</td><td>2520: VEHICULAR POWER TRANSMISSION COMPONENTS</td><td>5513</td></tr><tr><td>LOCKHEED MARTIN CORPORATION</td><td>2910: ENGINE FUEL SYSTEM COMPONENTS, NONAIRCRAFT</td><td>5113</td></tr><tr><td>LOCKHEED MARTIN CORPORATION</td><td>R414: SYSTEMS ENGINEERING SERVICES</td><td>4543</td></tr><tr><td>LOCKHEED MARTIN CORPORATION</td><td>4730: HOSE, PIPE, TUBE, LUBRICATION, AND RAILING FITTINGS</td><td>4213</td></tr><tr><td>LOCKHEED MARTIN CORPORATION</td><td>R425: ENGINEERING AND TECHNICAL SERVICES</td><td>3961</td></tr><tr><td>LOCKHEED MARTIN CORPORATION</td><td>R425: SUPPORT- PROFESSIONAL: ENGINEERING/TECHNICAL</td><td>3762</td></tr><tr><td>LOCKHEED MARTIN CORPORATION</td><td>5935: CONNECTORS, ELECTRICAL</td><td>3723</td></tr><tr><td>LOCKHEED MARTIN CORPORATION</td><td>6220: ELECTRIC VEHICULAR LIGHTS AND FIXTURES</td><td>3702</td></tr><tr><td>LOCKHEED MARTIN CORPORATION</td><td>2590: MISCELLANEOUS VEHICULAR COMPONENTS</td><td>3693</td></tr><tr><td>LOCKHEED MARTIN CORPORATION</td><td>1680: MISCELLANEOUS AIRCRAFT ACCESSORIES AND COMPONENTS</td><td>3589</td></tr><tr><td>LOCKHEED MARTIN CORPORATION</td><td>D399: OTHER ADP &amp; TELECOMMUNICATIONS SVCS</td><td>3516</td></tr><tr><td>LOCKHEED MARTIN CORPORATION</td><td>4720: HOSE AND FLEXIBLE TUBING</td><td>3478</td></tr><tr><td>LOCKHEED MARTIN CORPORATION</td><td>5998: ELECTRICAL AND ELECTRONIC ASSEMBLIES, BOARDS, CARDS, AND ASSOCIATED HARDWARE</td><td>3030</td></tr><tr><td>LOCKHEED MARTIN CORPORATION</td><td>5342: HARDWARE, WEAPON SYSTEM</td><td>2983</td></tr></table></div>\n",
       "    <br />(rows: 1025, time: 22.1s,     3GB processed, job: job_w9_HQwHWds0tVrSwluaetXMzM1Y)<br />\n",
       "    <script>\n",
       "\n",
       "      require.config({\n",
       "        paths: {\n",
       "          d3: '//cdnjs.cloudflare.com/ajax/libs/d3/3.4.13/d3',\n",
       "          plotly: 'https://cdn.plot.ly/plotly-1.5.1.min.js?noext',\n",
       "          jquery: '//ajax.googleapis.com/ajax/libs/jquery/2.0.0/jquery.min'\n",
       "        },\n",
       "        map: {\n",
       "          '*': {\n",
       "            datalab: 'nbextensions/gcpdatalab'\n",
       "          }\n",
       "        },\n",
       "        shim: {\n",
       "          plotly: {\n",
       "            deps: ['d3', 'jquery'],\n",
       "            exports: 'plotly'\n",
       "          }\n",
       "        }\n",
       "      });\n",
       "\n",
       "      require(['datalab/charting', 'datalab/element!29_149831758628', 'base/js/events',\n",
       "          'datalab/style!/nbextensions/gcpdatalab/charting.css'],\n",
       "        function(charts, dom, events) {\n",
       "          charts.render('gcharts', dom, events, 'paged_table', [], {\"rows\": [{\"c\": [{\"v\": \"LOCKHEED MARTIN CORPORATION\"}, {\"v\": \"5340: HARDWARE, COMMERCIAL\"}, {\"v\": 60228}]}, {\"c\": [{\"v\": \"LOCKHEED MARTIN CORPORATION\"}, {\"v\": \"2540: VEHICULAR FURNITURE AND ACCESSORIES\"}, {\"v\": 30066}]}, {\"c\": [{\"v\": \"LOCKHEED MARTIN CORPORATION\"}, {\"v\": \"2940: ENGINE AIR AND OIL FILTERS, STRAINERS, AND CLEANERS, NONAIRCRAFT\"}, {\"v\": 16583}]}, {\"c\": [{\"v\": \"LOCKHEED MARTIN CORPORATION\"}, {\"v\": \"4330: CENTRIFUGALS, SEPARATORS, AND PRESSURE AND VACUUM FILTERS\"}, {\"v\": 15802}]}, {\"c\": [{\"v\": \"LOCKHEED MARTIN CORPORATION\"}, {\"v\": \"2990: MISCELLANEOUS ENGINE ACCESSORIES, NONAIRCRAFT\"}, {\"v\": 11232}]}, {\"c\": [{\"v\": \"LOCKHEED MARTIN CORPORATION\"}, {\"v\": \"1510: AIRCRAFT, FIXED WING\"}, {\"v\": 8087}]}, {\"c\": [{\"v\": \"LOCKHEED MARTIN CORPORATION\"}, {\"v\": \"5930: SWITCHES\"}, {\"v\": 7881}]}, {\"c\": [{\"v\": \"LOCKHEED MARTIN CORPORATION\"}, {\"v\": \"R706: SUPPORT- MANAGEMENT: LOGISTICS SUPPORT\"}, {\"v\": 7795}]}, {\"c\": [{\"v\": \"LOCKHEED MARTIN CORPORATION\"}, {\"v\": \"2530: VEHICULAR BRAKE, STEERING, AXLE, WHEEL, AND TRACK COMPONENTS\"}, {\"v\": 7686}]}, {\"c\": [{\"v\": \"LOCKHEED MARTIN CORPORATION\"}, {\"v\": \"1560: AIRFRAME STRUCTURAL COMPONENTS\"}, {\"v\": 6588}]}, {\"c\": [{\"v\": \"LOCKHEED MARTIN CORPORATION\"}, {\"v\": \"5998: ELE ASSEMB-BDS CARDS-ASSOC HARDWARE\"}, {\"v\": 6216}]}, {\"c\": [{\"v\": \"LOCKHEED MARTIN CORPORATION\"}, {\"v\": \"2520: VEHICULAR POWER TRANSMISSION COMPONENTS\"}, {\"v\": 5513}]}, {\"c\": [{\"v\": \"LOCKHEED MARTIN CORPORATION\"}, {\"v\": \"2910: ENGINE FUEL SYSTEM COMPONENTS, NONAIRCRAFT\"}, {\"v\": 5113}]}, {\"c\": [{\"v\": \"LOCKHEED MARTIN CORPORATION\"}, {\"v\": \"R414: SYSTEMS ENGINEERING SERVICES\"}, {\"v\": 4543}]}, {\"c\": [{\"v\": \"LOCKHEED MARTIN CORPORATION\"}, {\"v\": \"4730: HOSE, PIPE, TUBE, LUBRICATION, AND RAILING FITTINGS\"}, {\"v\": 4213}]}, {\"c\": [{\"v\": \"LOCKHEED MARTIN CORPORATION\"}, {\"v\": \"R425: ENGINEERING AND TECHNICAL SERVICES\"}, {\"v\": 3961}]}, {\"c\": [{\"v\": \"LOCKHEED MARTIN CORPORATION\"}, {\"v\": \"R425: SUPPORT- PROFESSIONAL: ENGINEERING/TECHNICAL\"}, {\"v\": 3762}]}, {\"c\": [{\"v\": \"LOCKHEED MARTIN CORPORATION\"}, {\"v\": \"5935: CONNECTORS, ELECTRICAL\"}, {\"v\": 3723}]}, {\"c\": [{\"v\": \"LOCKHEED MARTIN CORPORATION\"}, {\"v\": \"6220: ELECTRIC VEHICULAR LIGHTS AND FIXTURES\"}, {\"v\": 3702}]}, {\"c\": [{\"v\": \"LOCKHEED MARTIN CORPORATION\"}, {\"v\": \"2590: MISCELLANEOUS VEHICULAR COMPONENTS\"}, {\"v\": 3693}]}, {\"c\": [{\"v\": \"LOCKHEED MARTIN CORPORATION\"}, {\"v\": \"1680: MISCELLANEOUS AIRCRAFT ACCESSORIES AND COMPONENTS\"}, {\"v\": 3589}]}, {\"c\": [{\"v\": \"LOCKHEED MARTIN CORPORATION\"}, {\"v\": \"D399: OTHER ADP & TELECOMMUNICATIONS SVCS\"}, {\"v\": 3516}]}, {\"c\": [{\"v\": \"LOCKHEED MARTIN CORPORATION\"}, {\"v\": \"4720: HOSE AND FLEXIBLE TUBING\"}, {\"v\": 3478}]}, {\"c\": [{\"v\": \"LOCKHEED MARTIN CORPORATION\"}, {\"v\": \"5998: ELECTRICAL AND ELECTRONIC ASSEMBLIES, BOARDS, CARDS, AND ASSOCIATED HARDWARE\"}, {\"v\": 3030}]}, {\"c\": [{\"v\": \"LOCKHEED MARTIN CORPORATION\"}, {\"v\": \"5342: HARDWARE, WEAPON SYSTEM\"}, {\"v\": 2983}]}], \"cols\": [{\"type\": \"string\", \"id\": \"vendorname\", \"label\": \"vendorname\"}, {\"type\": \"string\", \"id\": \"productorservicecode\", \"label\": \"productorservicecode\"}, {\"type\": \"number\", \"id\": \"count\", \"label\": \"count\"}]},\n",
       "            {\n",
       "              pageSize: 25,\n",
       "              cssClassNames:  {\n",
       "                tableRow: 'gchart-table-row',\n",
       "                headerRow: 'gchart-table-headerrow',\n",
       "                oddTableRow: 'gchart-table-oddrow',\n",
       "                selectedTableRow: 'gchart-table-selectedrow',\n",
       "                hoverTableRow: 'gchart-table-hoverrow',\n",
       "                tableCell: 'gchart-table-cell',\n",
       "                headerCell: 'gchart-table-headercell',\n",
       "                rowNumberCell: 'gchart-table-rownumcell'\n",
       "              }\n",
       "            },\n",
       "            {source_index: 28, fields: 'vendorname,productorservicecode,count'},\n",
       "            0,\n",
       "            1025);\n",
       "        }\n",
       "      );\n",
       "    </script>\n",
       "  "
      ],
      "text/plain": [
       "QueryResultsTable job_w9_HQwHWds0tVrSwluaetXMzM1Y"
      ]
     },
     "execution_count": 57,
     "metadata": {},
     "output_type": "execute_result"
    }
   ],
   "source": [
    "%%bq query\n",
    "select\n",
    "vendorname,\n",
    "productorservicecode,\n",
    "count(*) as count\n",
    "from `fiery-set-171213.vrec.usa_spending_all`\n",
    "#where contractingofficerbusinesssizedetermination in (\"S: SMALL BUSINESS\")\n",
    "where vendorname in ('LOCKHEED MARTIN CORPORATION')\n",
    "group by 1,2\n",
    "order by count DESC"
   ]
  },
  {
   "cell_type": "markdown",
   "metadata": {},
   "source": [
    "# MVP"
   ]
  },
  {
   "cell_type": "markdown",
   "metadata": {},
   "source": [
    "## MVP 1 - The most popular vendor\n",
    "- Search query = 'construction'\n",
    "- Enter your department name - eg. 'agriculture'\n",
    "- Ranking based on 'counts' of number of contracts that occured\n",
    "\n",
    "- **TO-DO check the uppercase and lowercase in the REGEX**\n",
    "- **Do we want to add more parameters, such as Geo, size of the contract? To be discussed**"
   ]
  },
  {
   "cell_type": "code",
   "execution_count": 65,
   "metadata": {
    "collapsed": false
   },
   "outputs": [
    {
     "data": {
      "text/html": [
       "\n",
       "    <div class=\"bqtv\" id=\"35_149831918005\"><table><tr><th>fiscal_year</th><th>maj_agency_cat</th><th>productorservicecode</th><th>count</th><th>dollarsobligated</th></tr><tr><td>2012</td><td>9700: DEPT OF DEFENSE</td><td>8905: MEAT, POULTRY, AND FISH</td><td>3881</td><td>1157422202.41</td></tr><tr><td>2006</td><td>9700: DEPT OF DEFENSE</td><td>8905: MEAT, POULTRY, AND FISH</td><td>8496</td><td>1085248556.57</td></tr><tr><td>2011</td><td>9700: DEPT OF DEFENSE</td><td>8905: MEAT, POULTRY, AND FISH</td><td>8203</td><td>1020507916.95</td></tr><tr><td>2012</td><td>1200: AGRICULTURE, DEPARTMENT OF</td><td>8905: MEAT, POULTRY, AND FISH</td><td>816</td><td>854972440.02</td></tr><tr><td>2009</td><td>1200: AGRICULTURE, DEPARTMENT OF</td><td>8905: MEAT, POULTRY, AND FISH</td><td>832</td><td>847556584.56</td></tr><tr><td>2013</td><td>1200: AGRICULTURE, DEPARTMENT OF</td><td>8905: MEAT, POULTRY, AND FISH</td><td>909</td><td>837261896.74</td></tr><tr><td>2011</td><td>1200: AGRICULTURE, DEPARTMENT OF</td><td>8905: MEAT, POULTRY, AND FISH</td><td>719</td><td>828393329.71</td></tr><tr><td>2016</td><td>1200: Department of Agriculture</td><td>8905: MEAT, POULTRY, AND FISH</td><td>544</td><td>818812458.77</td></tr><tr><td>2010</td><td>1200: AGRICULTURE, DEPARTMENT OF</td><td>8905: MEAT, POULTRY, AND FISH</td><td>883</td><td>814609750.75</td></tr><tr><td>2014</td><td>1200: AGRICULTURE, DEPARTMENT OF</td><td>8905: MEAT, POULTRY, AND FISH</td><td>518</td><td>794157517.17</td></tr></table></div>\n",
       "    <br />(rows: 10, time: 1.9s,     4GB processed, job: job_pyuYsoZOmedah1uGNKd5ZFDmZhw)<br />\n",
       "    <script>\n",
       "\n",
       "      require.config({\n",
       "        paths: {\n",
       "          d3: '//cdnjs.cloudflare.com/ajax/libs/d3/3.4.13/d3',\n",
       "          plotly: 'https://cdn.plot.ly/plotly-1.5.1.min.js?noext',\n",
       "          jquery: '//ajax.googleapis.com/ajax/libs/jquery/2.0.0/jquery.min'\n",
       "        },\n",
       "        map: {\n",
       "          '*': {\n",
       "            datalab: 'nbextensions/gcpdatalab'\n",
       "          }\n",
       "        },\n",
       "        shim: {\n",
       "          plotly: {\n",
       "            deps: ['d3', 'jquery'],\n",
       "            exports: 'plotly'\n",
       "          }\n",
       "        }\n",
       "      });\n",
       "\n",
       "      require(['datalab/charting', 'datalab/element!35_149831918005', 'base/js/events',\n",
       "          'datalab/style!/nbextensions/gcpdatalab/charting.css'],\n",
       "        function(charts, dom, events) {\n",
       "          charts.render('gcharts', dom, events, 'table', [], {\"rows\": [{\"c\": [{\"v\": 2012}, {\"v\": \"9700: DEPT OF DEFENSE\"}, {\"v\": \"8905: MEAT, POULTRY, AND FISH\"}, {\"v\": 3881}, {\"v\": 1157422202.4099998}]}, {\"c\": [{\"v\": 2006}, {\"v\": \"9700: DEPT OF DEFENSE\"}, {\"v\": \"8905: MEAT, POULTRY, AND FISH\"}, {\"v\": 8496}, {\"v\": 1085248556.5700002}]}, {\"c\": [{\"v\": 2011}, {\"v\": \"9700: DEPT OF DEFENSE\"}, {\"v\": \"8905: MEAT, POULTRY, AND FISH\"}, {\"v\": 8203}, {\"v\": 1020507916.9499995}]}, {\"c\": [{\"v\": 2012}, {\"v\": \"1200: AGRICULTURE, DEPARTMENT OF\"}, {\"v\": \"8905: MEAT, POULTRY, AND FISH\"}, {\"v\": 816}, {\"v\": 854972440.0200001}]}, {\"c\": [{\"v\": 2009}, {\"v\": \"1200: AGRICULTURE, DEPARTMENT OF\"}, {\"v\": \"8905: MEAT, POULTRY, AND FISH\"}, {\"v\": 832}, {\"v\": 847556584.5599998}]}, {\"c\": [{\"v\": 2013}, {\"v\": \"1200: AGRICULTURE, DEPARTMENT OF\"}, {\"v\": \"8905: MEAT, POULTRY, AND FISH\"}, {\"v\": 909}, {\"v\": 837261896.74}]}, {\"c\": [{\"v\": 2011}, {\"v\": \"1200: AGRICULTURE, DEPARTMENT OF\"}, {\"v\": \"8905: MEAT, POULTRY, AND FISH\"}, {\"v\": 719}, {\"v\": 828393329.7099997}]}, {\"c\": [{\"v\": 2016}, {\"v\": \"1200: Department of Agriculture\"}, {\"v\": \"8905: MEAT, POULTRY, AND FISH\"}, {\"v\": 544}, {\"v\": 818812458.77}]}, {\"c\": [{\"v\": 2010}, {\"v\": \"1200: AGRICULTURE, DEPARTMENT OF\"}, {\"v\": \"8905: MEAT, POULTRY, AND FISH\"}, {\"v\": 883}, {\"v\": 814609750.7500005}]}, {\"c\": [{\"v\": 2014}, {\"v\": \"1200: AGRICULTURE, DEPARTMENT OF\"}, {\"v\": \"8905: MEAT, POULTRY, AND FISH\"}, {\"v\": 518}, {\"v\": 794157517.1699996}]}], \"cols\": [{\"type\": \"number\", \"id\": \"fiscal_year\", \"label\": \"fiscal_year\"}, {\"type\": \"string\", \"id\": \"maj_agency_cat\", \"label\": \"maj_agency_cat\"}, {\"type\": \"string\", \"id\": \"productorservicecode\", \"label\": \"productorservicecode\"}, {\"type\": \"number\", \"id\": \"count\", \"label\": \"count\"}, {\"type\": \"number\", \"id\": \"dollarsobligated\", \"label\": \"dollarsobligated\"}]},\n",
       "            {\n",
       "              pageSize: 25,\n",
       "              cssClassNames:  {\n",
       "                tableRow: 'gchart-table-row',\n",
       "                headerRow: 'gchart-table-headerrow',\n",
       "                oddTableRow: 'gchart-table-oddrow',\n",
       "                selectedTableRow: 'gchart-table-selectedrow',\n",
       "                hoverTableRow: 'gchart-table-hoverrow',\n",
       "                tableCell: 'gchart-table-cell',\n",
       "                headerCell: 'gchart-table-headercell',\n",
       "                rowNumberCell: 'gchart-table-rownumcell'\n",
       "              }\n",
       "            },\n",
       "            {source_index: 34, fields: 'fiscal_year,maj_agency_cat,productorservicecode,count,dollarsobligated'},\n",
       "            0,\n",
       "            10);\n",
       "        }\n",
       "      );\n",
       "    </script>\n",
       "  "
      ],
      "text/plain": [
       "QueryResultsTable job_pyuYsoZOmedah1uGNKd5ZFDmZhw"
      ]
     },
     "execution_count": 65,
     "metadata": {},
     "output_type": "execute_result"
    }
   ],
   "source": [
    "%%bq query\n",
    "select\n",
    "#principalnaicscode,\n",
    "fiscal_year,\n",
    "maj_agency_cat,\n",
    "#contractingofficerbusinesssizedetermination,\n",
    "#vendorname,\n",
    "productorservicecode,\n",
    "count(*) as count,\n",
    "sum(dollarsobligated) as dollarsobligated\n",
    "from `fiery-set-171213.vrec.usa_spending_all`\n",
    "#where contractingofficerbusinesssizedetermination in (\"S: SMALL BUSINESS\")\n",
    "#where regexp_contains(principalnaicscode, \"CONSTRUCTION\")\n",
    "#and regexp_contains(maj_agency_cat, \"AGRICULTURE\")\n",
    "where regexp_contains(productorservicecode, \"MEAT\")\n",
    "#and fiscal_year = 2016\n",
    "group by 1,2,3\n",
    "order by dollarsobligated DESC\n",
    "limit 10"
   ]
  },
  {
   "cell_type": "markdown",
   "metadata": {},
   "source": [
    "## MVP 2 - Item-Item Collaborative filtering\n",
    "-  If a person A likes item 1, 2, 3 and B like 2,3,4 then they have similar interests and A should like item 4 and B should like item 1."
   ]
  },
  {
   "cell_type": "code",
   "execution_count": null,
   "metadata": {
    "collapsed": true
   },
   "outputs": [],
   "source": []
  },
  {
   "cell_type": "markdown",
   "metadata": {},
   "source": [
    "# TODO\n",
    "- **Recommendation system: using collaborative filtering**"
   ]
  },
  {
   "cell_type": "markdown",
   "metadata": {},
   "source": [
    "## OTHERS - FROM TUTORIAL - Anton Tarasenko\n",
    "## Data Mining Government Clients"
   ]
  },
  {
   "cell_type": "markdown",
   "metadata": {},
   "source": [
    "Suppose you want to start selling to the government. While [FBO.gov](http://www.fbo.gov/) publishes government RFPs and you can apply there, government agencies often issue requests when they've already chosen the supplier. Agencies go through FBO.gov because it's a mandatory step for deals north of $25K. But winning at this stage is unlikely if an RFP is already tailored for another supplier.\n",
    "\n",
    "Reaching warm leads in advance would increase chances of winning a government contract. The contracts data helps identify the warm leads by looking at purchases in the previous years.\n",
    "\n",
    "There're several ways of searching through those years."
   ]
  },
  {
   "cell_type": "markdown",
   "metadata": {},
   "source": [
    "### Who Buys What You Make"
   ]
  },
  {
   "cell_type": "markdown",
   "metadata": {},
   "source": [
    "The goods and services bought in each transaction are encoded in the variable `productorservicecode`. Top ten product categories according to this variable:"
   ]
  },
  {
   "cell_type": "code",
   "execution_count": 6,
   "metadata": {
    "collapsed": false
   },
   "outputs": [
    {
     "data": {
      "text/html": [
       "\n",
       "    <div class=\"bqtv\" id=\"1_149722452502\"><table><tr><th>product_id</th><th>product_name</th><th>transactions</th><th>sum_dollarsobligated</th></tr><tr><td>1510</td><td>AIRCRAFT, FIXED WING</td><td>34373</td><td>2.84778910095e+11</td></tr><tr><td>M181</td><td>OPER OF GOVT R&amp;D GOCO FACILITIES</td><td>11705</td><td>2.09034830695e+11</td></tr><tr><td>R425</td><td>ENGINEERING AND TECHNICAL SERVICES</td><td>540128</td><td>2.01977381246e+11</td></tr><tr><td>D399</td><td>OTHER ADP &amp; TELECOMMUNICATIONS SVCS</td><td>544069</td><td>1.79749708292e+11</td></tr><tr><td>R499</td><td>OTHER PROFESSIONAL SERVICES</td><td>821788</td><td>1.63569940538e+11</td></tr><tr><td>9130</td><td>LIQUID PROPELLANTS -PETROLEUM BASE</td><td>193267</td><td>1.47092818248e+11</td></tr><tr><td>Q201</td><td>GENERAL HEALTH CARE SERVICES</td><td>157188</td><td>1.43893967601e+11</td></tr><tr><td>6505</td><td>DRUGS AND BIOLOGICALS</td><td>1857244</td><td>1.40279701467e+11</td></tr><tr><td>R706</td><td>LOGISTICS SUPPORT SERVICES</td><td>147238</td><td>1.17202582504e+11</td></tr><tr><td>R408</td><td>PROGRAM MANAGEMENT/SUPPORT SERVICES</td><td>270904</td><td>89610029462.5</td></tr></table></div>\n",
       "    <br />(rows: 10, time: 2.1s,     2GB processed, job: job_KYbYjkFzkQPN9w-IUjwnrxZ9nbM)<br />\n",
       "    <script>\n",
       "\n",
       "      require.config({\n",
       "        paths: {\n",
       "          d3: '//cdnjs.cloudflare.com/ajax/libs/d3/3.4.13/d3',\n",
       "          plotly: 'https://cdn.plot.ly/plotly-1.5.1.min.js?noext',\n",
       "          jquery: '//ajax.googleapis.com/ajax/libs/jquery/2.0.0/jquery.min'\n",
       "        },\n",
       "        map: {\n",
       "          '*': {\n",
       "            datalab: 'nbextensions/gcpdatalab'\n",
       "          }\n",
       "        },\n",
       "        shim: {\n",
       "          plotly: {\n",
       "            deps: ['d3', 'jquery'],\n",
       "            exports: 'plotly'\n",
       "          }\n",
       "        }\n",
       "      });\n",
       "\n",
       "      require(['datalab/charting', 'datalab/element!1_149722452502', 'base/js/events',\n",
       "          'datalab/style!/nbextensions/gcpdatalab/charting.css'],\n",
       "        function(charts, dom, events) {\n",
       "          charts.render('gcharts', dom, events, 'table', [], {\"rows\": [{\"c\": [{\"v\": \"1510\"}, {\"v\": \"AIRCRAFT, FIXED WING\"}, {\"v\": 34373}, {\"v\": 284778910095.46027}]}, {\"c\": [{\"v\": \"M181\"}, {\"v\": \"OPER OF GOVT R&D GOCO FACILITIES\"}, {\"v\": 11705}, {\"v\": 209034830694.56}]}, {\"c\": [{\"v\": \"R425\"}, {\"v\": \"ENGINEERING AND TECHNICAL SERVICES\"}, {\"v\": 540128}, {\"v\": 201977381245.84998}]}, {\"c\": [{\"v\": \"D399\"}, {\"v\": \"OTHER ADP & TELECOMMUNICATIONS SVCS\"}, {\"v\": 544069}, {\"v\": 179749708292.16986}]}, {\"c\": [{\"v\": \"R499\"}, {\"v\": \"OTHER PROFESSIONAL SERVICES\"}, {\"v\": 821788}, {\"v\": 163569940537.6599}]}, {\"c\": [{\"v\": \"9130\"}, {\"v\": \"LIQUID PROPELLANTS -PETROLEUM BASE\"}, {\"v\": 193267}, {\"v\": 147092818247.84024}]}, {\"c\": [{\"v\": \"Q201\"}, {\"v\": \"GENERAL HEALTH CARE SERVICES\"}, {\"v\": 157188}, {\"v\": 143893967601.05017}]}, {\"c\": [{\"v\": \"6505\"}, {\"v\": \"DRUGS AND BIOLOGICALS\"}, {\"v\": 1857244}, {\"v\": 140279701466.8401}]}, {\"c\": [{\"v\": \"R706\"}, {\"v\": \"LOGISTICS SUPPORT SERVICES\"}, {\"v\": 147238}, {\"v\": 117202582503.71996}]}, {\"c\": [{\"v\": \"R408\"}, {\"v\": \"PROGRAM MANAGEMENT/SUPPORT SERVICES\"}, {\"v\": 270904}, {\"v\": 89610029462.46997}]}], \"cols\": [{\"type\": \"string\", \"id\": \"product_id\", \"label\": \"product_id\"}, {\"type\": \"string\", \"id\": \"product_name\", \"label\": \"product_name\"}, {\"type\": \"number\", \"id\": \"transactions\", \"label\": \"transactions\"}, {\"type\": \"number\", \"id\": \"sum_dollarsobligated\", \"label\": \"sum_dollarsobligated\"}]},\n",
       "            {\n",
       "              pageSize: 25,\n",
       "              cssClassNames:  {\n",
       "                tableRow: 'gchart-table-row',\n",
       "                headerRow: 'gchart-table-headerrow',\n",
       "                oddTableRow: 'gchart-table-oddrow',\n",
       "                selectedTableRow: 'gchart-table-selectedrow',\n",
       "                hoverTableRow: 'gchart-table-hoverrow',\n",
       "                tableCell: 'gchart-table-cell',\n",
       "                headerCell: 'gchart-table-headercell',\n",
       "                rowNumberCell: 'gchart-table-rownumcell'\n",
       "              }\n",
       "            },\n",
       "            {source_index: 0, fields: 'product_id,product_name,transactions,sum_dollarsobligated', legacy: 'true'},\n",
       "            0,\n",
       "            10);\n",
       "        }\n",
       "      );\n",
       "    </script>\n",
       "  "
      ],
      "text/plain": [
       "QueryResultsTable job_KYbYjkFzkQPN9w-IUjwnrxZ9nbM"
      ]
     },
     "execution_count": 6,
     "metadata": {},
     "output_type": "execute_result"
    }
   ],
   "source": [
    "%%sql\n",
    "select\n",
    "  substr(productorservicecode, 1, 4) product_id,\n",
    "  first(substr(productorservicecode, 7)) product_name,\n",
    "  count(*) transactions,\n",
    "  sum(dollarsobligated) sum_dollarsobligated\n",
    "from\n",
    "  gpqueries:contracts.raw\n",
    "group by\n",
    "  product_id\n",
    "order by\n",
    "  sum_dollarsobligated desc\n",
    "limit 10"
   ]
  },
  {
   "cell_type": "markdown",
   "metadata": {},
   "source": [
    "You can find agencies that buy products like yours. If it's \"software\":"
   ]
  },
  {
   "cell_type": "code",
   "execution_count": 7,
   "metadata": {
    "collapsed": false
   },
   "outputs": [
    {
     "data": {
      "text/html": [
       "\n",
       "    <div class=\"bqtv\" id=\"2_149722507334\"><table><tr><th>agency_id</th><th>agency_name</th><th>transactions</th><th>sum_dollarsobligated</th></tr><tr><td>9700</td><td>DEPT OF DEFENSE</td><td>245015</td><td>31756394755.4</td></tr><tr><td>3600</td><td>VETERANS AFFAIRS, DEPARTMENT OF</td><td>21223</td><td>3213678011.54</td></tr><tr><td>2050</td><td>INTERNAL REVENUE SERVICE</td><td>13292</td><td>2625458725.97</td></tr><tr><td>2800</td><td>SOCIAL SECURITY ADMINISTRATION</td><td>7038</td><td>2383445352.45</td></tr><tr><td>4735</td><td>FEDERAL ACQUISITION SERVICE</td><td>15064</td><td>2374494872.16</td></tr><tr><td>7014</td><td>U.S. CUSTOMS AND BORDER PROTECTION</td><td>3456</td><td>1816831446.67</td></tr><tr><td>1900</td><td>STATE, DEPARTMENT OF</td><td>14964</td><td>1395765461.73</td></tr><tr><td>1549</td><td>FEDERAL BUREAU OF INVESTIGATION</td><td>4673</td><td>1104923392.94</td></tr><tr><td>7001</td><td>OFFICE OF PROCUREMENT OPERATIONS</td><td>2604</td><td>1076395157.89</td></tr><tr><td>1501</td><td>OFFICES, BOARDS AND DIVISIONS</td><td>4617</td><td>1057842936.58</td></tr><tr><td>1205</td><td>USDA, OFFICE OF THE CHIEF FINANCIAL OFFICER</td><td>7812</td><td>943296547.34</td></tr><tr><td>7529</td><td>NATIONAL INSTITUTES OF HEALTH</td><td>8434</td><td>829980910.42</td></tr><tr><td>6800</td><td>ENVIRONMENTAL PROTECTION AGENCY</td><td>8291</td><td>790956089.3</td></tr><tr><td>4732</td><td>FEDERAL ACQUISITION SERVICE</td><td>3335</td><td>766033684.66</td></tr><tr><td>7013</td><td>TRANSPORTATION SECURITY ADMINISTRATION</td><td>2182</td><td>740364381.42</td></tr><tr><td>1406</td><td>OFFICE OF POLICY, MANAGEMENT, AND BUDGET</td><td>5080</td><td>724577419.11</td></tr><tr><td>1323</td><td>BUREAU OF THE CENSUS</td><td>3101</td><td>591701336.21</td></tr><tr><td>2036</td><td>BUREAU OF THE FISCAL SERVICE</td><td>7385</td><td>582297546.58</td></tr><tr><td>1330</td><td>NATIONAL OCEANIC AND ATMOSPHERIC ADMINISTRATION</td><td>10758</td><td>578208631.36</td></tr><tr><td>7008</td><td>U.S. COAST GUARD</td><td>4265</td><td>574943946.72</td></tr><tr><td>6920</td><td>FEDERAL AVIATION ADMINISTRATION</td><td>1491</td><td>534520819.72</td></tr><tr><td>7530</td><td>CENTERS FOR MEDICARE AND MEDICAID SERVICES</td><td>926</td><td>519913926.84</td></tr><tr><td>1344</td><td>PATENT AND TRADEMARK OFFICE</td><td>3382</td><td>443011847.34</td></tr><tr><td>7012</td><td>U.S. IMMIGRATION AND CUSTOMS ENFORCEMENT</td><td>2989</td><td>441316095.41</td></tr><tr><td>8000</td><td>NATIONAL AERONAUTICS AND SPACE ADMINISTRATION</td><td>10679</td><td>430834604.06</td></tr></table></div>\n",
       "    <br />(rows: 206, time: 1.6s,     3GB processed, job: job_QM68bqLsL3fjNNEqTxSdcWru7AE)<br />\n",
       "    <script>\n",
       "\n",
       "      require.config({\n",
       "        paths: {\n",
       "          d3: '//cdnjs.cloudflare.com/ajax/libs/d3/3.4.13/d3',\n",
       "          plotly: 'https://cdn.plot.ly/plotly-1.5.1.min.js?noext',\n",
       "          jquery: '//ajax.googleapis.com/ajax/libs/jquery/2.0.0/jquery.min'\n",
       "        },\n",
       "        map: {\n",
       "          '*': {\n",
       "            datalab: 'nbextensions/gcpdatalab'\n",
       "          }\n",
       "        },\n",
       "        shim: {\n",
       "          plotly: {\n",
       "            deps: ['d3', 'jquery'],\n",
       "            exports: 'plotly'\n",
       "          }\n",
       "        }\n",
       "      });\n",
       "\n",
       "      require(['datalab/charting', 'datalab/element!2_149722507334', 'base/js/events',\n",
       "          'datalab/style!/nbextensions/gcpdatalab/charting.css'],\n",
       "        function(charts, dom, events) {\n",
       "          charts.render('gcharts', dom, events, 'paged_table', [], {\"rows\": [{\"c\": [{\"v\": \"9700\"}, {\"v\": \"DEPT OF DEFENSE\"}, {\"v\": 245015}, {\"v\": 31756394755.400005}]}, {\"c\": [{\"v\": \"3600\"}, {\"v\": \"VETERANS AFFAIRS, DEPARTMENT OF\"}, {\"v\": 21223}, {\"v\": 3213678011.5400023}]}, {\"c\": [{\"v\": \"2050\"}, {\"v\": \"INTERNAL REVENUE SERVICE\"}, {\"v\": 13292}, {\"v\": 2625458725.9700003}]}, {\"c\": [{\"v\": \"2800\"}, {\"v\": \"SOCIAL SECURITY ADMINISTRATION\"}, {\"v\": 7038}, {\"v\": 2383445352.4500003}]}, {\"c\": [{\"v\": \"4735\"}, {\"v\": \"FEDERAL ACQUISITION SERVICE\"}, {\"v\": 15064}, {\"v\": 2374494872.1599994}]}, {\"c\": [{\"v\": \"7014\"}, {\"v\": \"U.S. CUSTOMS AND BORDER PROTECTION\"}, {\"v\": 3456}, {\"v\": 1816831446.6700008}]}, {\"c\": [{\"v\": \"1900\"}, {\"v\": \"STATE, DEPARTMENT OF\"}, {\"v\": 14964}, {\"v\": 1395765461.7299998}]}, {\"c\": [{\"v\": \"1549\"}, {\"v\": \"FEDERAL BUREAU OF INVESTIGATION\"}, {\"v\": 4673}, {\"v\": 1104923392.9400003}]}, {\"c\": [{\"v\": \"7001\"}, {\"v\": \"OFFICE OF PROCUREMENT OPERATIONS\"}, {\"v\": 2604}, {\"v\": 1076395157.89}]}, {\"c\": [{\"v\": \"1501\"}, {\"v\": \"OFFICES, BOARDS AND DIVISIONS\"}, {\"v\": 4617}, {\"v\": 1057842936.5799997}]}, {\"c\": [{\"v\": \"1205\"}, {\"v\": \"USDA, OFFICE OF THE CHIEF FINANCIAL OFFICER\"}, {\"v\": 7812}, {\"v\": 943296547.339999}]}, {\"c\": [{\"v\": \"7529\"}, {\"v\": \"NATIONAL INSTITUTES OF HEALTH\"}, {\"v\": 8434}, {\"v\": 829980910.4200003}]}, {\"c\": [{\"v\": \"6800\"}, {\"v\": \"ENVIRONMENTAL PROTECTION AGENCY\"}, {\"v\": 8291}, {\"v\": 790956089.2999994}]}, {\"c\": [{\"v\": \"4732\"}, {\"v\": \"FEDERAL ACQUISITION SERVICE\"}, {\"v\": 3335}, {\"v\": 766033684.6600001}]}, {\"c\": [{\"v\": \"7013\"}, {\"v\": \"TRANSPORTATION SECURITY ADMINISTRATION\"}, {\"v\": 2182}, {\"v\": 740364381.4199994}]}, {\"c\": [{\"v\": \"1406\"}, {\"v\": \"OFFICE OF POLICY, MANAGEMENT, AND BUDGET\"}, {\"v\": 5080}, {\"v\": 724577419.1100007}]}, {\"c\": [{\"v\": \"1323\"}, {\"v\": \"BUREAU OF THE CENSUS\"}, {\"v\": 3101}, {\"v\": 591701336.2099999}]}, {\"c\": [{\"v\": \"2036\"}, {\"v\": \"BUREAU OF THE FISCAL SERVICE\"}, {\"v\": 7385}, {\"v\": 582297546.5799997}]}, {\"c\": [{\"v\": \"1330\"}, {\"v\": \"NATIONAL OCEANIC AND ATMOSPHERIC ADMINISTRATION\"}, {\"v\": 10758}, {\"v\": 578208631.3600001}]}, {\"c\": [{\"v\": \"7008\"}, {\"v\": \"U.S. COAST GUARD\"}, {\"v\": 4265}, {\"v\": 574943946.7199993}]}, {\"c\": [{\"v\": \"6920\"}, {\"v\": \"FEDERAL AVIATION ADMINISTRATION\"}, {\"v\": 1491}, {\"v\": 534520819.7199997}]}, {\"c\": [{\"v\": \"7530\"}, {\"v\": \"CENTERS FOR MEDICARE AND MEDICAID SERVICES\"}, {\"v\": 926}, {\"v\": 519913926.84}]}, {\"c\": [{\"v\": \"1344\"}, {\"v\": \"PATENT AND TRADEMARK OFFICE\"}, {\"v\": 3382}, {\"v\": 443011847.34000003}]}, {\"c\": [{\"v\": \"7012\"}, {\"v\": \"U.S. IMMIGRATION AND CUSTOMS ENFORCEMENT\"}, {\"v\": 2989}, {\"v\": 441316095.40999997}]}, {\"c\": [{\"v\": \"8000\"}, {\"v\": \"NATIONAL AERONAUTICS AND SPACE ADMINISTRATION\"}, {\"v\": 10679}, {\"v\": 430834604.05999964}]}], \"cols\": [{\"type\": \"string\", \"id\": \"agency_id\", \"label\": \"agency_id\"}, {\"type\": \"string\", \"id\": \"agency_name\", \"label\": \"agency_name\"}, {\"type\": \"number\", \"id\": \"transactions\", \"label\": \"transactions\"}, {\"type\": \"number\", \"id\": \"sum_dollarsobligated\", \"label\": \"sum_dollarsobligated\"}]},\n",
       "            {\n",
       "              pageSize: 25,\n",
       "              cssClassNames:  {\n",
       "                tableRow: 'gchart-table-row',\n",
       "                headerRow: 'gchart-table-headerrow',\n",
       "                oddTableRow: 'gchart-table-oddrow',\n",
       "                selectedTableRow: 'gchart-table-selectedrow',\n",
       "                hoverTableRow: 'gchart-table-hoverrow',\n",
       "                tableCell: 'gchart-table-cell',\n",
       "                headerCell: 'gchart-table-headercell',\n",
       "                rowNumberCell: 'gchart-table-rownumcell'\n",
       "              }\n",
       "            },\n",
       "            {source_index: 1, fields: 'agency_id,agency_name,transactions,sum_dollarsobligated', legacy: 'true'},\n",
       "            0,\n",
       "            206);\n",
       "        }\n",
       "      );\n",
       "    </script>\n",
       "  "
      ],
      "text/plain": [
       "QueryResultsTable job_QM68bqLsL3fjNNEqTxSdcWru7AE"
      ]
     },
     "execution_count": 7,
     "metadata": {},
     "output_type": "execute_result"
    }
   ],
   "source": [
    "%%sql\n",
    "select\n",
    "  substr(agencyid, 1, 4) agency_id,\n",
    "  first(substr(agencyid, 7)) agency_name,\n",
    "  count(*) transactions,\n",
    "  sum(dollarsobligated) sum_dollarsobligated\n",
    "from\n",
    "  gpqueries:contracts.raw\n",
    "where\n",
    "  productorservicecode contains 'software'\n",
    "group by\n",
    "  agency_id\n",
    "order by\n",
    "  sum_dollarsobligated desc\n",
    "ignore case"
   ]
  },
  {
   "cell_type": "markdown",
   "metadata": {},
   "source": [
    "### What Firms in Your Industry Sell to the Government"
   ]
  },
  {
   "cell_type": "markdown",
   "metadata": {},
   "source": [
    "Another way to find customers is the variable `principalnaicscode` that encodes the industry in which the vendor does business.\n",
    "\n",
    "The list of NAICS codes is available at [Census.gov](http://www.census.gov/cgi-bin/sssd/naics/naicsrch?chart=2012), but you can do text search in the table. Let's find who bought software from distributors in 2015:"
   ]
  },
  {
   "cell_type": "code",
   "execution_count": 6,
   "metadata": {
    "collapsed": false
   },
   "outputs": [
    {
     "data": {
      "text/html": [
       "\n",
       "    <div class=\"bqtv\" id=\"3_146516669403\"><table><tr><th>agency_id</th><th>agency_name</th><th>naics_id</th><th>naics_name</th><th>transactions</th><th>sum_dollarsobligated</th></tr><tr><td>9700</td><td>DEPT OF DEFENSE</td><td>511210</td><td>SOFTWARE PUBLISHERS</td><td>7907</td><td>1086588808.06</td></tr><tr><td>9700</td><td>DEPT OF DEFENSE</td><td>443120</td><td>COMPUTER AND SOFTWARE STORES</td><td>5313</td><td>451131013.69</td></tr><tr><td>9700</td><td>DEPT OF DEFENSE</td><td>423430</td><td>COMPUTER AND COMPUTER PERIPHERAL EQUIPMENT AND SOFTWARE MERCHANT WHOLESALERS</td><td>2073</td><td>246620960.81</td></tr><tr><td>7014</td><td>U.S. CUSTOMS AND BORDER PROTECTION</td><td>443120</td><td>COMPUTER AND SOFTWARE STORES</td><td>294</td><td>195178029.07</td></tr><tr><td>2800</td><td>SOCIAL SECURITY ADMINISTRATION</td><td>443120</td><td>COMPUTER AND SOFTWARE STORES</td><td>201</td><td>165682384.14</td></tr><tr><td>2050</td><td>INTERNAL REVENUE SERVICE</td><td>443120</td><td>COMPUTER AND SOFTWARE STORES</td><td>272</td><td>105303702.28</td></tr><tr><td>1549</td><td>FEDERAL BUREAU OF INVESTIGATION</td><td>443120</td><td>COMPUTER AND SOFTWARE STORES</td><td>147</td><td>94253371.19</td></tr><tr><td>1900</td><td>STATE, DEPARTMENT OF</td><td>443120</td><td>COMPUTER AND SOFTWARE STORES</td><td>1196</td><td>91138323.46</td></tr><tr><td>2800</td><td>SOCIAL SECURITY ADMINISTRATION</td><td>511210</td><td>SOFTWARE PUBLISHERS</td><td>244</td><td>89509652.8</td></tr><tr><td>3600</td><td>VETERANS AFFAIRS, DEPARTMENT OF</td><td>511210</td><td>SOFTWARE PUBLISHERS</td><td>630</td><td>87867702.88</td></tr><tr><td>7001</td><td>OFFICE OF PROCUREMENT OPERATIONS</td><td>443120</td><td>COMPUTER AND SOFTWARE STORES</td><td>115</td><td>85158432.43</td></tr><tr><td>2050</td><td>INTERNAL REVENUE SERVICE</td><td>511210</td><td>SOFTWARE PUBLISHERS</td><td>321</td><td>82585967.45</td></tr><tr><td>6920</td><td>FEDERAL AVIATION ADMINISTRATION</td><td>423430</td><td>COMPUTER AND COMPUTER PERIPHERAL EQUIPMENT AND SOFTWARE MERCHANT WHOLESALERS</td><td>320</td><td>81678563.94</td></tr><tr><td>1501</td><td>OFFICES, BOARDS AND DIVISIONS</td><td>443120</td><td>COMPUTER AND SOFTWARE STORES</td><td>124</td><td>75303017.16</td></tr><tr><td>7013</td><td>TRANSPORTATION SECURITY ADMINISTRATION</td><td>443120</td><td>COMPUTER AND SOFTWARE STORES</td><td>130</td><td>72338222.09</td></tr><tr><td>1344</td><td>PATENT AND TRADEMARK OFFICE</td><td>443120</td><td>COMPUTER AND SOFTWARE STORES</td><td>179</td><td>60555711.83</td></tr><tr><td>1900</td><td>STATE, DEPARTMENT OF</td><td>423430</td><td>COMPUTER AND COMPUTER PERIPHERAL EQUIPMENT AND SOFTWARE MERCHANT WHOLESALERS</td><td>1449</td><td>59498401.27</td></tr><tr><td>9700</td><td>DEPT OF DEFENSE</td><td>334614</td><td>SOFTWARE AND OTHER PRERECORDED COMPACT DISC, TAPE, AND RECORD REPRODUCING </td><td>847</td><td>54775397.52</td></tr><tr><td>7529</td><td>NATIONAL INSTITUTES OF HEALTH</td><td>443120</td><td>COMPUTER AND SOFTWARE STORES</td><td>212</td><td>54773671.43</td></tr><tr><td>1900</td><td>STATE, DEPARTMENT OF</td><td>511210</td><td>SOFTWARE PUBLISHERS</td><td>357</td><td>39829177.68</td></tr><tr><td>6800</td><td>ENVIRONMENTAL PROTECTION AGENCY</td><td>443120</td><td>COMPUTER AND SOFTWARE STORES</td><td>260</td><td>39649773.39</td></tr><tr><td>7200</td><td>AGENCY FOR INTERNATIONAL DEVELOPMENT</td><td>443120</td><td>COMPUTER AND SOFTWARE STORES</td><td>63</td><td>37272308.46</td></tr><tr><td>1205</td><td>USDA, OFFICE OF THE CHIEF FINANCIAL OFFICER</td><td>443120</td><td>COMPUTER AND SOFTWARE STORES</td><td>263</td><td>35421398.98</td></tr><tr><td>3600</td><td>VETERANS AFFAIRS, DEPARTMENT OF</td><td>443120</td><td>COMPUTER AND SOFTWARE STORES</td><td>471</td><td>34401225.47</td></tr><tr><td>4732</td><td>FEDERAL ACQUISITION SERVICE</td><td>443120</td><td>COMPUTER AND SOFTWARE STORES</td><td>757</td><td>34066865.64</td></tr></table></div>\n",
       "    <br />(rows: 463, time: 1.0s, cached, job: job_tyO5qqBhadXXwwH8p2u9qTutzoA)<br />\n",
       "    <script>\n",
       "      require(['extensions/charting', 'element!3_146516669403', 'style!/static/extensions/charting.css'],\n",
       "        function(charts, dom) {\n",
       "          charts.render(dom,\n",
       "            {\n",
       "              chartStyle:\"paged_table\",\n",
       "              dataName:\"2\",\n",
       "              fields:\"agency_id,agency_name,naics_id,naics_name,transactions,sum_dollarsobligated\",\n",
       "              totalRows:463,\n",
       "              rowsPerPage:25,\n",
       "            }, {}, {\"rows\": [{\"c\": [{\"v\": \"9700\"}, {\"v\": \"DEPT OF DEFENSE\"}, {\"v\": \"511210\"}, {\"v\": \"SOFTWARE PUBLISHERS\"}, {\"v\": 7907}, {\"v\": 1086588808.0600002}]}, {\"c\": [{\"v\": \"9700\"}, {\"v\": \"DEPT OF DEFENSE\"}, {\"v\": \"443120\"}, {\"v\": \"COMPUTER AND SOFTWARE STORES\"}, {\"v\": 5313}, {\"v\": 451131013.68999994}]}, {\"c\": [{\"v\": \"9700\"}, {\"v\": \"DEPT OF DEFENSE\"}, {\"v\": \"423430\"}, {\"v\": \"COMPUTER AND COMPUTER PERIPHERAL EQUIPMENT AND SOFTWARE MERCHANT WHOLESALERS\"}, {\"v\": 2073}, {\"v\": 246620960.81000003}]}, {\"c\": [{\"v\": \"7014\"}, {\"v\": \"U.S. CUSTOMS AND BORDER PROTECTION\"}, {\"v\": \"443120\"}, {\"v\": \"COMPUTER AND SOFTWARE STORES\"}, {\"v\": 294}, {\"v\": 195178029.07000002}]}, {\"c\": [{\"v\": \"2800\"}, {\"v\": \"SOCIAL SECURITY ADMINISTRATION\"}, {\"v\": \"443120\"}, {\"v\": \"COMPUTER AND SOFTWARE STORES\"}, {\"v\": 201}, {\"v\": 165682384.14000002}]}, {\"c\": [{\"v\": \"2050\"}, {\"v\": \"INTERNAL REVENUE SERVICE\"}, {\"v\": \"443120\"}, {\"v\": \"COMPUTER AND SOFTWARE STORES\"}, {\"v\": 272}, {\"v\": 105303702.28}]}, {\"c\": [{\"v\": \"1549\"}, {\"v\": \"FEDERAL BUREAU OF INVESTIGATION\"}, {\"v\": \"443120\"}, {\"v\": \"COMPUTER AND SOFTWARE STORES\"}, {\"v\": 147}, {\"v\": 94253371.19}]}, {\"c\": [{\"v\": \"1900\"}, {\"v\": \"STATE, DEPARTMENT OF\"}, {\"v\": \"443120\"}, {\"v\": \"COMPUTER AND SOFTWARE STORES\"}, {\"v\": 1196}, {\"v\": 91138323.46000002}]}, {\"c\": [{\"v\": \"2800\"}, {\"v\": \"SOCIAL SECURITY ADMINISTRATION\"}, {\"v\": \"511210\"}, {\"v\": \"SOFTWARE PUBLISHERS\"}, {\"v\": 244}, {\"v\": 89509652.8}]}, {\"c\": [{\"v\": \"3600\"}, {\"v\": \"VETERANS AFFAIRS, DEPARTMENT OF\"}, {\"v\": \"511210\"}, {\"v\": \"SOFTWARE PUBLISHERS\"}, {\"v\": 630}, {\"v\": 87867702.88000003}]}, {\"c\": [{\"v\": \"7001\"}, {\"v\": \"OFFICE OF PROCUREMENT OPERATIONS\"}, {\"v\": \"443120\"}, {\"v\": \"COMPUTER AND SOFTWARE STORES\"}, {\"v\": 115}, {\"v\": 85158432.43}]}, {\"c\": [{\"v\": \"2050\"}, {\"v\": \"INTERNAL REVENUE SERVICE\"}, {\"v\": \"511210\"}, {\"v\": \"SOFTWARE PUBLISHERS\"}, {\"v\": 321}, {\"v\": 82585967.45}]}, {\"c\": [{\"v\": \"6920\"}, {\"v\": \"FEDERAL AVIATION ADMINISTRATION\"}, {\"v\": \"423430\"}, {\"v\": \"COMPUTER AND COMPUTER PERIPHERAL EQUIPMENT AND SOFTWARE MERCHANT WHOLESALERS\"}, {\"v\": 320}, {\"v\": 81678563.94}]}, {\"c\": [{\"v\": \"1501\"}, {\"v\": \"OFFICES, BOARDS AND DIVISIONS\"}, {\"v\": \"443120\"}, {\"v\": \"COMPUTER AND SOFTWARE STORES\"}, {\"v\": 124}, {\"v\": 75303017.16000001}]}, {\"c\": [{\"v\": \"7013\"}, {\"v\": \"TRANSPORTATION SECURITY ADMINISTRATION\"}, {\"v\": \"443120\"}, {\"v\": \"COMPUTER AND SOFTWARE STORES\"}, {\"v\": 130}, {\"v\": 72338222.08999999}]}, {\"c\": [{\"v\": \"1344\"}, {\"v\": \"PATENT AND TRADEMARK OFFICE\"}, {\"v\": \"443120\"}, {\"v\": \"COMPUTER AND SOFTWARE STORES\"}, {\"v\": 179}, {\"v\": 60555711.82999998}]}, {\"c\": [{\"v\": \"1900\"}, {\"v\": \"STATE, DEPARTMENT OF\"}, {\"v\": \"423430\"}, {\"v\": \"COMPUTER AND COMPUTER PERIPHERAL EQUIPMENT AND SOFTWARE MERCHANT WHOLESALERS\"}, {\"v\": 1449}, {\"v\": 59498401.27}]}, {\"c\": [{\"v\": \"9700\"}, {\"v\": \"DEPT OF DEFENSE\"}, {\"v\": \"334614\"}, {\"v\": \"SOFTWARE AND OTHER PRERECORDED COMPACT DISC, TAPE, AND RECORD REPRODUCING \"}, {\"v\": 847}, {\"v\": 54775397.52}]}, {\"c\": [{\"v\": \"7529\"}, {\"v\": \"NATIONAL INSTITUTES OF HEALTH\"}, {\"v\": \"443120\"}, {\"v\": \"COMPUTER AND SOFTWARE STORES\"}, {\"v\": 212}, {\"v\": 54773671.42999999}]}, {\"c\": [{\"v\": \"1900\"}, {\"v\": \"STATE, DEPARTMENT OF\"}, {\"v\": \"511210\"}, {\"v\": \"SOFTWARE PUBLISHERS\"}, {\"v\": 357}, {\"v\": 39829177.68000001}]}, {\"c\": [{\"v\": \"6800\"}, {\"v\": \"ENVIRONMENTAL PROTECTION AGENCY\"}, {\"v\": \"443120\"}, {\"v\": \"COMPUTER AND SOFTWARE STORES\"}, {\"v\": 260}, {\"v\": 39649773.38999999}]}, {\"c\": [{\"v\": \"7200\"}, {\"v\": \"AGENCY FOR INTERNATIONAL DEVELOPMENT\"}, {\"v\": \"443120\"}, {\"v\": \"COMPUTER AND SOFTWARE STORES\"}, {\"v\": 63}, {\"v\": 37272308.45999999}]}, {\"c\": [{\"v\": \"1205\"}, {\"v\": \"USDA, OFFICE OF THE CHIEF FINANCIAL OFFICER\"}, {\"v\": \"443120\"}, {\"v\": \"COMPUTER AND SOFTWARE STORES\"}, {\"v\": 263}, {\"v\": 35421398.98000001}]}, {\"c\": [{\"v\": \"3600\"}, {\"v\": \"VETERANS AFFAIRS, DEPARTMENT OF\"}, {\"v\": \"443120\"}, {\"v\": \"COMPUTER AND SOFTWARE STORES\"}, {\"v\": 471}, {\"v\": 34401225.470000006}]}, {\"c\": [{\"v\": \"4732\"}, {\"v\": \"FEDERAL ACQUISITION SERVICE\"}, {\"v\": \"443120\"}, {\"v\": \"COMPUTER AND SOFTWARE STORES\"}, {\"v\": 757}, {\"v\": 34066865.639999986}]}], \"cols\": [{\"type\": \"string\", \"id\": \"agency_id\", \"label\": \"agency_id\"}, {\"type\": \"string\", \"id\": \"agency_name\", \"label\": \"agency_name\"}, {\"type\": \"string\", \"id\": \"naics_id\", \"label\": \"naics_id\"}, {\"type\": \"string\", \"id\": \"naics_name\", \"label\": \"naics_name\"}, {\"type\": \"number\", \"id\": \"transactions\", \"label\": \"transactions\"}, {\"type\": \"number\", \"id\": \"sum_dollarsobligated\", \"label\": \"sum_dollarsobligated\"}]});\n",
       "        }\n",
       "      );\n",
       "    </script>\n",
       "  "
      ],
      "text/plain": [
       "QueryResultsTable job_tyO5qqBhadXXwwH8p2u9qTutzoA"
      ]
     },
     "execution_count": 6,
     "metadata": {},
     "output_type": "execute_result"
    }
   ],
   "source": [
    "%%sql\n",
    "select\n",
    "  substr(agencyid, 1, 4) agency_id,\n",
    "  first(substr(agencyid, 7)) agency_name,\n",
    "  substr(principalnaicscode, 1, 6) naics_id,\n",
    "  first(substr(principalnaicscode, 9)) naics_name,\n",
    "  count(*) transactions,\n",
    "  sum(dollarsobligated) sum_dollarsobligated\n",
    "from\n",
    "  gpqueries:contracts.raw\n",
    "where\n",
    "  principalnaicscode contains 'software' and\n",
    "  fiscal_year = 2015\n",
    "group by\n",
    "  agency_id, naics_id\n",
    "order by\n",
    "  sum_dollarsobligated desc\n",
    "ignore case"
   ]
  },
  {
   "cell_type": "markdown",
   "metadata": {},
   "source": [
    "### Inspecting Specific Transactions"
   ]
  },
  {
   "cell_type": "markdown",
   "metadata": {},
   "source": [
    "You can learn details from looking at transactions for a specific `(agency, NAICS)` pair. For example, what software does TSA buy?"
   ]
  },
  {
   "cell_type": "code",
   "execution_count": 7,
   "metadata": {
    "collapsed": false
   },
   "outputs": [
    {
     "data": {
      "text/html": [
       "\n",
       "    <div class=\"bqtv\" id=\"4_146516669506\"><table><tr><th>fiscal_year</th><th>dollarsobligated</th><th>vendorname</th><th>city</th><th>state</th><th>annualrevenue</th><th>numberofemployees</th><th>descriptionofcontractrequirement</th></tr><tr><td>2003</td><td>75480.0</td><td>INTERNATIONAL BUSINESS MACHINE</td><td>BETHESDA</td><td>MD</td><td>0.0</td><td>0</td><td></td></tr><tr><td>2003</td><td>64800.0</td><td>AVAYA INC</td><td>ARLINGTON</td><td>VA</td><td>0.0</td><td>0</td><td></td></tr><tr><td>2016</td><td>0.0</td><td>IMMIXTECHNOLOGY, INC.</td><td>MCLEAN</td><td>VA</td><td>31929440.0</td><td>162</td><td>CLOSEOUT SERVICE</td></tr><tr><td>2008</td><td>5483.8</td><td>SPECTRUM SYSTEMS, INC.</td><td>FAIRFAX</td><td>VA</td><td>17000000.0</td><td>25</td><td>IT SECURITY  PR TO FUND ANNUAL LICENSE RENEWAL FOR SPIDYNAMICS WEBINSPECT IN THE AMOUNT OF $4,500  PR AMENDED- TO MATCH LOWEST QUOTE AND TO EXTEND  SERVICE THROUGH 12/31/2009.</td></tr><tr><td>2007</td><td>557880.0</td><td>GTSI CORPORATION</td><td>CHANTILLY</td><td>VA</td><td>900000000.0</td><td>850</td><td>THIS PROCUREMENT REQUEST IS FOR 250 D620 TRACE MACHINES FOR THE FSDS PER THE ATTACHED CONFIGURATION.  DELIVERY SCHEDULE AS FOLLOWS: DEC 18 - 25 JAN 8    - 25 JAN 15  - 50 JAN 29  - 50 FEB 12 - 50 FEB 26 - 50</td></tr><tr><td>2004</td><td>1640913.0</td><td>INTERNATIONAL BUSINESS MACHINE</td><td>BETHESDA</td><td>MD</td><td>0.0</td><td>0</td><td>IT SERVICES</td></tr><tr><td>2013</td><td>36372.5</td><td>IMMIXTECHNOLOGY, INC.</td><td>MCLEAN</td><td>VA</td><td>31929440.0</td><td>162</td><td>THE PURPOSE OF THIS BPA CALL IS TO PURCHASE A QUANTITY OF 250 POE WITH BATTERY BACKUP (PART # 8602806-001)TERMINAL CLOCK PRODUCTS.</td></tr><tr><td>2013</td><td>5373123.87</td><td>INTERNATIONAL BUSINESS MACHINE</td><td>BETHESDA</td><td>MD</td><td>0.0</td><td>0</td><td>IGF::OT::IGF SUBJECT: APPLICATION SUPPORT TEAM (AST) - OASIS II WORK ORDER</td></tr><tr><td>2008</td><td>16077.46</td><td>SPRINT COMMUNICATIONS COMPANY L.P.</td><td>RESTON</td><td>VA</td><td>38927998976.0</td><td>56001</td><td>QSEC AIRTIME FOR A BASE AND TWO ADDITIONAL OPTION PERIODS.</td></tr><tr><td>2005</td><td>100000.0</td><td>ORACLE CORPORATION</td><td>RESTON</td><td>VA</td><td>0.0</td><td>0</td><td>AFSP ORACLE SUPPORT</td></tr><tr><td>2016</td><td>0.0</td><td>INTERNATIONAL BUSINESS MACHINE</td><td>BETHESDA</td><td>MD</td><td>0.0</td><td>0</td><td>IGF::CT::IGF THE PURPOSE OF MODIFICATION P00004 TO OASIS II TASK ORDER #21 (HSTS03-14-J-SAS001) IS TO REALLOCATE AMONG TWO CLIN 10001 LABOR CATEGORIES FOR THE OPTION PERIOD 1.</td></tr><tr><td>2016</td><td>0.0</td><td>INTERNATIONAL BUSINESS MACHINE</td><td>BETHESDA</td><td>MD</td><td>0.0</td><td>0</td><td>IGF::CT::IGF THIS PURPOSE OF THIS MODIFICATION IS TO DISASSOCIATE FISCAL YEAR 2015/2016 LINE OF ACCOUNTING (LOA), DEOBLIGATE PERVIOUS CLINS AND ADD NEW SUB-CLINS WITH FISCAL YEAR 2016 LINE OF ACCOUNTING (LOA). THIS IS A TIME AND MATERIALS TASK ORDER ISSUED AGAINST BPA HSTS03-13-A-CIO549 TO PROVIDE SUPPORT AND MAINTENANCE FOR THE AUTOMATED TIME AND ATTENDANCE (T&amp;A) SYSTEM FOR THE TRANSPORTATION SECURITY OFFICER STAFF IN ACCORDANCE WITH THE INCLUDED PERFORMANCE WORK STATEMENT AND TERMS AND CONDITIONS.</td></tr><tr><td>2016</td><td>411498.48</td><td>INTERNATIONAL BUSINESS MACHINE</td><td>BETHESDA</td><td>MD</td><td>0.0</td><td>0</td><td>IGF::OT::IGF RAPID APPLICATION DEVELOPMENT (RAD) II CONTINUED SUPPORT SERVICES</td></tr><tr><td>2005</td><td>317680.0</td><td>INTERNATIONAL BUSINESS MACHINE</td><td>BETHESDA</td><td>MD</td><td>0.0</td><td>0</td><td></td></tr><tr><td>2005</td><td>413075.0</td><td>INTERNATIONAL BUSINESS MACHINE</td><td>BETHESDA</td><td>MD</td><td>0.0</td><td>0</td><td>IT SERVICES</td></tr><tr><td>2008</td><td>1834.02</td><td>TESSCO INCORPORATED</td><td>HUNT VALLEY</td><td>MD</td><td>513000000.0</td><td>592</td><td>MOBILE AMPLIFIERS</td></tr><tr><td>2008</td><td>14906.67</td><td>NETPRO COMPUTING, INC.</td><td>PHOENIX</td><td>AZ</td><td>9731484.0</td><td>88</td><td>SOFTWARE MAINTENANCE TO PROVIDE FY08 FUNDING IN THE AMOUNT OF $16,500 FOR  IT SOFTWARE MAINTENANCE FOR  NETPRO FOR THE PERIOD NOV 22, 2007 TO DEC 31, 2008.</td></tr><tr><td>2007</td><td>0.0</td><td>TALX CORPORATION</td><td>SAINT LOUIS</td><td>MO</td><td>45820000.0</td><td>878</td><td>TALX - ADDITIONAL FUNDS TO EXTEND TASK ORDER WITH USDA FOR THE TALX UC EXPESS PROGRAM. FUNDS SHALL COVER 4TH QUARTER OF FY06</td></tr><tr><td>2007</td><td>3939.74</td><td>POLYCOM, INC</td><td>PLEASANTON</td><td>CA</td><td>465959000.0</td><td>1271</td><td>THE PURPOSE OF THIS PROCUREMENT IS TO EXTEND THE POLYCOM PREMIER PLUS SERVICE MAINTENANCE AGREEMENT ON TWO (2) VIDEO CONFERENCING UNITS FOR AN ADDITIONAL YEAR.  PRESENT AGREEMENT EXPIRES ON 3-15-07.  THE TOTAL COST OF THIS PROCUREMENT IS $3,939.74.</td></tr><tr><td>2016</td><td>5000.0</td><td>INTERNATIONAL BUSINESS MACHINE</td><td>BETHESDA</td><td>MD</td><td>0.0</td><td>0</td><td>IGF::OT::IGF THE PURPOSE OF MODIFICATION P00003 TO OASIS II TASK ORDER #38 (HSTS03-14-J-SAS005) IS TO ADD CLIN 10007 TO OPTION PERIOD 1 AND CHANGE THE CONTRACTING OFFICER REPRESENTATIVE FROM DEREK SMITH TO SUNG LEE (VALERIE SANDY AS ALTERNATE CONTRACTING OFFICER REPRESENTATIVE)</td></tr><tr><td>2009</td><td>9379.91</td><td>SYNNEX CORPORATION</td><td>GREENVILLE</td><td>SC</td><td>4000000000.0</td><td>550</td><td>LCD MONITORS FOR PUBLIC SERVICE ANNOUNCEMENTS AT THE THREE SPOKE AIRPORTS AND TWO MONITORS FOR THE HUB COORDINATING CENTER. 10 IDENTICAL ITEMS WERE PURCHASED FOR THE HUB LAST YEAR UNDER CONTRACT GS-35F-4076D</td></tr><tr><td>2009</td><td>0.0</td><td>GTSI CORPORATION</td><td>CHANTILLY</td><td>VA</td><td>900000000.0</td><td>850</td><td>PURCHASE OF ADOBE LICENSES FOR THE OFFICE OF THE SPECIAL COUNSELOR</td></tr><tr><td>2011</td><td>415522.0</td><td>GTSI CORPORATION</td><td>CHANTILLY</td><td>VA</td><td>900000000.0</td><td>850</td><td>MAINTENANCE AND SUPPORT FOR SYMANTEC AND ALTIRIS LICENSES.</td></tr><tr><td>2006</td><td>152880.0</td><td>GTSI CORPORATION</td><td>CHANTILLY</td><td>VA</td><td>900000000.0</td><td>850</td><td>DELL COMPUTERS</td></tr><tr><td>2016</td><td>0.0</td><td>INTERNATIONAL BUSINESS MACHINE</td><td>BETHESDA</td><td>MD</td><td>0.0</td><td>0</td><td>IGF::CT::IGF ISHARE AND WORKFLOW APPLICATION DEVELOPMENT SERVICES.</td></tr></table></div>\n",
       "    <br />(rows: 584, time: 0.7s, cached, job: job_16eFmMJh3axW3zdfW7ioeWdHVE0)<br />\n",
       "    <script>\n",
       "      require(['extensions/charting', 'element!4_146516669506', 'style!/static/extensions/charting.css'],\n",
       "        function(charts, dom) {\n",
       "          charts.render(dom,\n",
       "            {\n",
       "              chartStyle:\"paged_table\",\n",
       "              dataName:\"3\",\n",
       "              fields:\"fiscal_year,dollarsobligated,vendorname,city,state,annualrevenue,numberofemployees,descriptionofcontractrequirement\",\n",
       "              totalRows:584,\n",
       "              rowsPerPage:25,\n",
       "            }, {}, {\"rows\": [{\"c\": [{\"v\": 2003}, {\"v\": 75480.0}, {\"v\": \"INTERNATIONAL BUSINESS MACHINE\"}, {\"v\": \"BETHESDA\"}, {\"v\": \"MD\"}, {\"v\": 0.0}, {\"v\": 0}, {\"v\": \"\"}]}, {\"c\": [{\"v\": 2003}, {\"v\": 64800.0}, {\"v\": \"AVAYA INC\"}, {\"v\": \"ARLINGTON\"}, {\"v\": \"VA\"}, {\"v\": 0.0}, {\"v\": 0}, {\"v\": \"\"}]}, {\"c\": [{\"v\": 2016}, {\"v\": 0.0}, {\"v\": \"IMMIXTECHNOLOGY, INC.\"}, {\"v\": \"MCLEAN\"}, {\"v\": \"VA\"}, {\"v\": 31929440.0}, {\"v\": 162}, {\"v\": \"CLOSEOUT SERVICE\"}]}, {\"c\": [{\"v\": 2008}, {\"v\": 5483.8}, {\"v\": \"SPECTRUM SYSTEMS, INC.\"}, {\"v\": \"FAIRFAX\"}, {\"v\": \"VA\"}, {\"v\": 17000000.0}, {\"v\": 25}, {\"v\": \"IT SECURITY  PR TO FUND ANNUAL LICENSE RENEWAL FOR SPIDYNAMICS WEBINSPECT IN THE AMOUNT OF $4,500  PR AMENDED- TO MATCH LOWEST QUOTE AND TO EXTEND  SERVICE THROUGH 12/31/2009.\"}]}, {\"c\": [{\"v\": 2007}, {\"v\": 557880.0}, {\"v\": \"GTSI CORPORATION\"}, {\"v\": \"CHANTILLY\"}, {\"v\": \"VA\"}, {\"v\": 900000000.0}, {\"v\": 850}, {\"v\": \"THIS PROCUREMENT REQUEST IS FOR 250 D620 TRACE MACHINES FOR THE FSDS PER THE ATTACHED CONFIGURATION.  DELIVERY SCHEDULE AS FOLLOWS: DEC 18 - 25 JAN 8    - 25 JAN 15  - 50 JAN 29  - 50 FEB 12 - 50 FEB 26 - 50\"}]}, {\"c\": [{\"v\": 2004}, {\"v\": 1640913.0}, {\"v\": \"INTERNATIONAL BUSINESS MACHINE\"}, {\"v\": \"BETHESDA\"}, {\"v\": \"MD\"}, {\"v\": 0.0}, {\"v\": 0}, {\"v\": \"IT SERVICES\"}]}, {\"c\": [{\"v\": 2013}, {\"v\": 36372.5}, {\"v\": \"IMMIXTECHNOLOGY, INC.\"}, {\"v\": \"MCLEAN\"}, {\"v\": \"VA\"}, {\"v\": 31929440.0}, {\"v\": 162}, {\"v\": \"THE PURPOSE OF THIS BPA CALL IS TO PURCHASE A QUANTITY OF 250 POE WITH BATTERY BACKUP (PART # 8602806-001)TERMINAL CLOCK PRODUCTS.\"}]}, {\"c\": [{\"v\": 2013}, {\"v\": 5373123.87}, {\"v\": \"INTERNATIONAL BUSINESS MACHINE\"}, {\"v\": \"BETHESDA\"}, {\"v\": \"MD\"}, {\"v\": 0.0}, {\"v\": 0}, {\"v\": \"IGF::OT::IGF SUBJECT: APPLICATION SUPPORT TEAM (AST) - OASIS II WORK ORDER\"}]}, {\"c\": [{\"v\": 2008}, {\"v\": 16077.46}, {\"v\": \"SPRINT COMMUNICATIONS COMPANY L.P.\"}, {\"v\": \"RESTON\"}, {\"v\": \"VA\"}, {\"v\": 38927998976.0}, {\"v\": 56001}, {\"v\": \"QSEC AIRTIME FOR A BASE AND TWO ADDITIONAL OPTION PERIODS.\"}]}, {\"c\": [{\"v\": 2005}, {\"v\": 100000.0}, {\"v\": \"ORACLE CORPORATION\"}, {\"v\": \"RESTON\"}, {\"v\": \"VA\"}, {\"v\": 0.0}, {\"v\": 0}, {\"v\": \"AFSP ORACLE SUPPORT\"}]}, {\"c\": [{\"v\": 2016}, {\"v\": 0.0}, {\"v\": \"INTERNATIONAL BUSINESS MACHINE\"}, {\"v\": \"BETHESDA\"}, {\"v\": \"MD\"}, {\"v\": 0.0}, {\"v\": 0}, {\"v\": \"IGF::CT::IGF THE PURPOSE OF MODIFICATION P00004 TO OASIS II TASK ORDER #21 (HSTS03-14-J-SAS001) IS TO REALLOCATE AMONG TWO CLIN 10001 LABOR CATEGORIES FOR THE OPTION PERIOD 1.\"}]}, {\"c\": [{\"v\": 2016}, {\"v\": 0.0}, {\"v\": \"INTERNATIONAL BUSINESS MACHINE\"}, {\"v\": \"BETHESDA\"}, {\"v\": \"MD\"}, {\"v\": 0.0}, {\"v\": 0}, {\"v\": \"IGF::CT::IGF THIS PURPOSE OF THIS MODIFICATION IS TO DISASSOCIATE FISCAL YEAR 2015/2016 LINE OF ACCOUNTING (LOA), DEOBLIGATE PERVIOUS CLINS AND ADD NEW SUB-CLINS WITH FISCAL YEAR 2016 LINE OF ACCOUNTING (LOA). THIS IS A TIME AND MATERIALS TASK ORDER ISSUED AGAINST BPA HSTS03-13-A-CIO549 TO PROVIDE SUPPORT AND MAINTENANCE FOR THE AUTOMATED TIME AND ATTENDANCE (T&A) SYSTEM FOR THE TRANSPORTATION SECURITY OFFICER STAFF IN ACCORDANCE WITH THE INCLUDED PERFORMANCE WORK STATEMENT AND TERMS AND CONDITIONS.\"}]}, {\"c\": [{\"v\": 2016}, {\"v\": 411498.48}, {\"v\": \"INTERNATIONAL BUSINESS MACHINE\"}, {\"v\": \"BETHESDA\"}, {\"v\": \"MD\"}, {\"v\": 0.0}, {\"v\": 0}, {\"v\": \"IGF::OT::IGF RAPID APPLICATION DEVELOPMENT (RAD) II CONTINUED SUPPORT SERVICES\"}]}, {\"c\": [{\"v\": 2005}, {\"v\": 317680.0}, {\"v\": \"INTERNATIONAL BUSINESS MACHINE\"}, {\"v\": \"BETHESDA\"}, {\"v\": \"MD\"}, {\"v\": 0.0}, {\"v\": 0}, {\"v\": \"\"}]}, {\"c\": [{\"v\": 2005}, {\"v\": 413075.0}, {\"v\": \"INTERNATIONAL BUSINESS MACHINE\"}, {\"v\": \"BETHESDA\"}, {\"v\": \"MD\"}, {\"v\": 0.0}, {\"v\": 0}, {\"v\": \"IT SERVICES\"}]}, {\"c\": [{\"v\": 2008}, {\"v\": 1834.02}, {\"v\": \"TESSCO INCORPORATED\"}, {\"v\": \"HUNT VALLEY\"}, {\"v\": \"MD\"}, {\"v\": 513000000.0}, {\"v\": 592}, {\"v\": \"MOBILE AMPLIFIERS\"}]}, {\"c\": [{\"v\": 2008}, {\"v\": 14906.67}, {\"v\": \"NETPRO COMPUTING, INC.\"}, {\"v\": \"PHOENIX\"}, {\"v\": \"AZ\"}, {\"v\": 9731484.0}, {\"v\": 88}, {\"v\": \"SOFTWARE MAINTENANCE TO PROVIDE FY08 FUNDING IN THE AMOUNT OF $16,500 FOR  IT SOFTWARE MAINTENANCE FOR  NETPRO FOR THE PERIOD NOV 22, 2007 TO DEC 31, 2008.\"}]}, {\"c\": [{\"v\": 2007}, {\"v\": 0.0}, {\"v\": \"TALX CORPORATION\"}, {\"v\": \"SAINT LOUIS\"}, {\"v\": \"MO\"}, {\"v\": 45820000.0}, {\"v\": 878}, {\"v\": \"TALX - ADDITIONAL FUNDS TO EXTEND TASK ORDER WITH USDA FOR THE TALX UC EXPESS PROGRAM. FUNDS SHALL COVER 4TH QUARTER OF FY06\"}]}, {\"c\": [{\"v\": 2007}, {\"v\": 3939.74}, {\"v\": \"POLYCOM, INC\"}, {\"v\": \"PLEASANTON\"}, {\"v\": \"CA\"}, {\"v\": 465959000.0}, {\"v\": 1271}, {\"v\": \"THE PURPOSE OF THIS PROCUREMENT IS TO EXTEND THE POLYCOM PREMIER PLUS SERVICE MAINTENANCE AGREEMENT ON TWO (2) VIDEO CONFERENCING UNITS FOR AN ADDITIONAL YEAR.  PRESENT AGREEMENT EXPIRES ON 3-15-07.  THE TOTAL COST OF THIS PROCUREMENT IS $3,939.74.\"}]}, {\"c\": [{\"v\": 2016}, {\"v\": 5000.0}, {\"v\": \"INTERNATIONAL BUSINESS MACHINE\"}, {\"v\": \"BETHESDA\"}, {\"v\": \"MD\"}, {\"v\": 0.0}, {\"v\": 0}, {\"v\": \"IGF::OT::IGF THE PURPOSE OF MODIFICATION P00003 TO OASIS II TASK ORDER #38 (HSTS03-14-J-SAS005) IS TO ADD CLIN 10007 TO OPTION PERIOD 1 AND CHANGE THE CONTRACTING OFFICER REPRESENTATIVE FROM DEREK SMITH TO SUNG LEE (VALERIE SANDY AS ALTERNATE CONTRACTING OFFICER REPRESENTATIVE)\"}]}, {\"c\": [{\"v\": 2009}, {\"v\": 9379.91}, {\"v\": \"SYNNEX CORPORATION\"}, {\"v\": \"GREENVILLE\"}, {\"v\": \"SC\"}, {\"v\": 4000000000.0}, {\"v\": 550}, {\"v\": \"LCD MONITORS FOR PUBLIC SERVICE ANNOUNCEMENTS AT THE THREE SPOKE AIRPORTS AND TWO MONITORS FOR THE HUB COORDINATING CENTER. 10 IDENTICAL ITEMS WERE PURCHASED FOR THE HUB LAST YEAR UNDER CONTRACT GS-35F-4076D\"}]}, {\"c\": [{\"v\": 2009}, {\"v\": 0.0}, {\"v\": \"GTSI CORPORATION\"}, {\"v\": \"CHANTILLY\"}, {\"v\": \"VA\"}, {\"v\": 900000000.0}, {\"v\": 850}, {\"v\": \"PURCHASE OF ADOBE LICENSES FOR THE OFFICE OF THE SPECIAL COUNSELOR\"}]}, {\"c\": [{\"v\": 2011}, {\"v\": 415522.0}, {\"v\": \"GTSI CORPORATION\"}, {\"v\": \"CHANTILLY\"}, {\"v\": \"VA\"}, {\"v\": 900000000.0}, {\"v\": 850}, {\"v\": \"MAINTENANCE AND SUPPORT FOR SYMANTEC AND ALTIRIS LICENSES.\"}]}, {\"c\": [{\"v\": 2006}, {\"v\": 152880.0}, {\"v\": \"GTSI CORPORATION\"}, {\"v\": \"CHANTILLY\"}, {\"v\": \"VA\"}, {\"v\": 900000000.0}, {\"v\": 850}, {\"v\": \"DELL COMPUTERS\"}]}, {\"c\": [{\"v\": 2016}, {\"v\": 0.0}, {\"v\": \"INTERNATIONAL BUSINESS MACHINE\"}, {\"v\": \"BETHESDA\"}, {\"v\": \"MD\"}, {\"v\": 0.0}, {\"v\": 0}, {\"v\": \"IGF::CT::IGF ISHARE AND WORKFLOW APPLICATION DEVELOPMENT SERVICES.\"}]}], \"cols\": [{\"type\": \"number\", \"id\": \"fiscal_year\", \"label\": \"fiscal_year\"}, {\"type\": \"number\", \"id\": \"dollarsobligated\", \"label\": \"dollarsobligated\"}, {\"type\": \"string\", \"id\": \"vendorname\", \"label\": \"vendorname\"}, {\"type\": \"string\", \"id\": \"city\", \"label\": \"city\"}, {\"type\": \"string\", \"id\": \"state\", \"label\": \"state\"}, {\"type\": \"number\", \"id\": \"annualrevenue\", \"label\": \"annualrevenue\"}, {\"type\": \"number\", \"id\": \"numberofemployees\", \"label\": \"numberofemployees\"}, {\"type\": \"string\", \"id\": \"descriptionofcontractrequirement\", \"label\": \"descriptionofcontractrequirement\"}]});\n",
       "        }\n",
       "      );\n",
       "    </script>\n",
       "  "
      ],
      "text/plain": [
       "QueryResultsTable job_16eFmMJh3axW3zdfW7ioeWdHVE0"
      ]
     },
     "execution_count": 7,
     "metadata": {},
     "output_type": "execute_result"
    }
   ],
   "source": [
    "%%sql\n",
    "select\n",
    "  fiscal_year,\n",
    "  dollarsobligated,\n",
    "  vendorname, city, state, annualrevenue, numberofemployees,\n",
    "  descriptionofcontractrequirement\n",
    "from\n",
    "  gpqueries:contracts.raw\n",
    "where\n",
    "  agencyid contains 'transportation security administration' and\n",
    "  principalnaicscode contains 'computer and software stores'\n",
    "ignore case"
   ]
  },
  {
   "cell_type": "markdown",
   "metadata": {},
   "source": [
    "Alternatively, specify vendors your product relates to and check how the government uses it. Top deals in data analytics:"
   ]
  },
  {
   "cell_type": "code",
   "execution_count": 8,
   "metadata": {
    "collapsed": false
   },
   "outputs": [
    {
     "data": {
      "text/html": [
       "\n",
       "    <div class=\"bqtv\" id=\"5_146516669631\"><table><tr><th>agencyid</th><th>dollarsobligated</th><th>vendorname</th><th>descriptionofcontractrequirement</th></tr><tr><td>9700: DEPT OF DEFENSE</td><td>22401901.14</td><td>PALANTIR TECHNOLOGIES INCORPORATED</td><td>PROCUREMENT OF PALANTIR GOTHAM SOFTWARE AND ASSOCIATED SUPPORT</td></tr><tr><td>9700: DEPT OF DEFENSE</td><td>19243057.44</td><td>PALANTIR TECHNOLOGIES INCORPORATED</td><td>PALANTIR CORE SERVER LICENSES AND HARDWARE</td></tr><tr><td>1549: FEDERAL BUREAU OF INVESTIGATION</td><td>14891225.66</td><td>PALANTIR TECHNOLOGIES INC.</td><td>UNLIMITED LICENSE</td></tr><tr><td>7012: U.S. IMMIGRATION AND CUSTOMS ENFORCEMENT</td><td>12472821.2</td><td>PALANTIR USG, INC.</td><td>ICE COTS BASED, WEB-ENABLED INVESTIGATIVE CASE MANAGEMENT (ICM) SYSTEM FOR ICE TECS MOD PROGRAM OFFICE.  IGF::CT::IGF</td></tr><tr><td>9700: DEPT OF DEFENSE</td><td>11999886.24</td><td>PALANTIR TECHNOLOGIES INCORPORATED</td><td>IGF::OT::IGF EXERCISE OPTION YEAR 1 AND ADD FUNDING</td></tr><tr><td>9700: DEPT OF DEFENSE</td><td>11805943.2</td><td>PALANTIR TECHNOLOGIES INCORPORATED</td><td>PALANTIR SW LICENSE MAINTENANCE SUPPORT RENEWAL.</td></tr><tr><td>7012: U.S. IMMIGRATION AND CUSTOMS ENFORCEMENT</td><td>9900000.0</td><td>PALANTIR TECHNOLOGIES INC.</td><td>IGF::OT::IGF FALCON OPERATIONS AND MAINTENANCE (O&amp;M), SYSTEM ENHANCEMENT SUPPORT SERVICES FOR PALANTIR GOVERNMENT</td></tr><tr><td>7012: U.S. IMMIGRATION AND CUSTOMS ENFORCEMENT</td><td>9857193.77</td><td>PALANTIR USG, INC.</td><td>ICE COTS BASED, WEB-ENABLED INVESTIGATIVE CASE MANAGEMENT (ICM) SYSTEM FOR ICE TECS MOD PROGRAM OFFICE. IGF::CT::IGF</td></tr><tr><td>1501: OFFICES, BOARDS AND DIVISIONS</td><td>9500000.0</td><td>PALANTIR TECHNOLOGIES INC.</td><td>IGF::OT::IGF</td></tr><tr><td>9700: DEPT OF DEFENSE</td><td>9125264.2</td><td>PALANTIR TECHNOLOGIES INCORPORATED</td><td>IFAP</td></tr><tr><td>9700: DEPT OF DEFENSE</td><td>7180568.16</td><td>PALANTIR TECHNOLOGIES INCORPORATED</td><td>PALANTIR SW LICENSE MAINTENANCE SUPPORT RENEWAL.</td></tr><tr><td>1501: OFFICES, BOARDS AND DIVISIONS</td><td>6500000.0</td><td>PALANTIR TECHNOLOGIES INC.</td><td>IGF::OT::IGF</td></tr><tr><td>5000: SECURITIES AND EXCHANGE COMMISSION</td><td>5999999.98</td><td>PALANTIR TECHNOLOGIES INC.</td><td>IGF::OT::IGF FOR OTHER FUNCTIONS PROVIDE AND IMPLEMENT A COTS SOLUTION FOR THE AGENCY'S ENTERPRISE DATA ANALYTICS</td></tr><tr><td>7012: U.S. IMMIGRATION AND CUSTOMS ENFORCEMENT</td><td>5936000.0</td><td>PALANTIR TECHNOLOGIES INCORPORATED</td><td>PALANTIR SOFTWARE, SERVICE, AND SUPPORT FOR HSI PERSONNEL</td></tr><tr><td>9700: DEPT OF DEFENSE</td><td>5724116.36</td><td>PALANTIR TECHNOLOGIES INCORPORATED</td><td>PALANTIR GOTHAM SERVER LICENSES AND ASSOCIATED FIELD SERVICE REPRESENTATIVE SUPPORT.</td></tr><tr><td>9700: DEPT OF DEFENSE</td><td>5717851.36</td><td>PALANTIR TECHNOLOGIES INCORPORATED</td><td>PALANTIR GOTHAM LICENSES AND FIELD SERVICE REPRESENTATIVE SUPPORT</td></tr><tr><td>9700: DEPT OF DEFENSE</td><td>5646384.24</td><td>PALANTIR TECHNOLOGIES INCORPORATED</td><td>PURCHASE OF PALANTIR SOFTWARE LICENSES&amp;FSR SUPPORT</td></tr><tr><td>7012: U.S. IMMIGRATION AND CUSTOMS ENFORCEMENT</td><td>5038025.59</td><td>PALANTIR TECHNOLOGIES INC.</td><td>IGF::OT::IGF FALCON OPERATIONS AND MAINTENANCE (O&amp;M) SUPPORT SERVICES FOR PALANTIR GOVERNMENT, A PROPRIETARY SOFTWARE PRODUCT OF PALANTIR TECHNOLOGIES, INC.</td></tr><tr><td>9700: DEPT OF DEFENSE</td><td>4700000.0</td><td>PALANTIR TECHNOLOGIES INCORPORATED</td><td>NEW WORK MOD</td></tr><tr><td>1501: OFFICES, BOARDS AND DIVISIONS</td><td>4690647.07</td><td>PALANTIR TECHNOLOGIES INC.</td><td>IGF::OT::IGF</td></tr><tr><td>9700: DEPT OF DEFENSE</td><td>4661082.38</td><td>PALANTIR TECHNOLOGIES INCORPORATED</td><td>IGF::OT::IGF PALANTIR MARINES IFAP III CORE LICENSES.</td></tr><tr><td>1501: OFFICES, BOARDS AND DIVISIONS</td><td>4579393.0</td><td>PALANTIR TECHNOLOGIES INC.</td><td>IGF::OT::IGF,EOUSA PALANTIR</td></tr><tr><td>1549: FEDERAL BUREAU OF INVESTIGATION</td><td>3609995.45</td><td>PALANTIR TECHNOLOGIES INCORPORATED</td><td>COMPUTER TOOL USAGE LICENSES</td></tr><tr><td>9700: DEPT OF DEFENSE</td><td>3271065.56</td><td>PALANTIR TECHNOLOGIES INC.</td><td>IGF::OT::IGF CAG/GMSC FSR SUPPORT</td></tr><tr><td>9700: DEPT OF DEFENSE</td><td>3203190.77</td><td>PALANTIR TECHNOLOGIES INC.</td><td>IGF::OT::IGF, TWO (2) 8-CORE PERPETUAL LICENSES</td></tr></table></div>\n",
       "    <br />(rows: 100, time: 0.8s, cached, job: job_GHwVcGuA_3SqI6q4FiMMI4k9yqY)<br />\n",
       "    <script>\n",
       "      require(['extensions/charting', 'element!5_146516669631', 'style!/static/extensions/charting.css'],\n",
       "        function(charts, dom) {\n",
       "          charts.render(dom,\n",
       "            {\n",
       "              chartStyle:\"paged_table\",\n",
       "              dataName:\"4\",\n",
       "              fields:\"agencyid,dollarsobligated,vendorname,descriptionofcontractrequirement\",\n",
       "              totalRows:100,\n",
       "              rowsPerPage:25,\n",
       "            }, {}, {\"rows\": [{\"c\": [{\"v\": \"9700: DEPT OF DEFENSE\"}, {\"v\": 22401901.14}, {\"v\": \"PALANTIR TECHNOLOGIES INCORPORATED\"}, {\"v\": \"PROCUREMENT OF PALANTIR GOTHAM SOFTWARE AND ASSOCIATED SUPPORT\"}]}, {\"c\": [{\"v\": \"9700: DEPT OF DEFENSE\"}, {\"v\": 19243057.44}, {\"v\": \"PALANTIR TECHNOLOGIES INCORPORATED\"}, {\"v\": \"PALANTIR CORE SERVER LICENSES AND HARDWARE\"}]}, {\"c\": [{\"v\": \"1549: FEDERAL BUREAU OF INVESTIGATION\"}, {\"v\": 14891225.66}, {\"v\": \"PALANTIR TECHNOLOGIES INC.\"}, {\"v\": \"UNLIMITED LICENSE\"}]}, {\"c\": [{\"v\": \"7012: U.S. IMMIGRATION AND CUSTOMS ENFORCEMENT\"}, {\"v\": 12472821.2}, {\"v\": \"PALANTIR USG, INC.\"}, {\"v\": \"ICE COTS BASED, WEB-ENABLED INVESTIGATIVE CASE MANAGEMENT (ICM) SYSTEM FOR ICE TECS MOD PROGRAM OFFICE.  IGF::CT::IGF\"}]}, {\"c\": [{\"v\": \"9700: DEPT OF DEFENSE\"}, {\"v\": 11999886.24}, {\"v\": \"PALANTIR TECHNOLOGIES INCORPORATED\"}, {\"v\": \"IGF::OT::IGF EXERCISE OPTION YEAR 1 AND ADD FUNDING\"}]}, {\"c\": [{\"v\": \"9700: DEPT OF DEFENSE\"}, {\"v\": 11805943.2}, {\"v\": \"PALANTIR TECHNOLOGIES INCORPORATED\"}, {\"v\": \"PALANTIR SW LICENSE MAINTENANCE SUPPORT RENEWAL.\"}]}, {\"c\": [{\"v\": \"7012: U.S. IMMIGRATION AND CUSTOMS ENFORCEMENT\"}, {\"v\": 9900000.0}, {\"v\": \"PALANTIR TECHNOLOGIES INC.\"}, {\"v\": \"IGF::OT::IGF FALCON OPERATIONS AND MAINTENANCE (O&M), SYSTEM ENHANCEMENT SUPPORT SERVICES FOR PALANTIR GOVERNMENT\"}]}, {\"c\": [{\"v\": \"7012: U.S. IMMIGRATION AND CUSTOMS ENFORCEMENT\"}, {\"v\": 9857193.77}, {\"v\": \"PALANTIR USG, INC.\"}, {\"v\": \"ICE COTS BASED, WEB-ENABLED INVESTIGATIVE CASE MANAGEMENT (ICM) SYSTEM FOR ICE TECS MOD PROGRAM OFFICE. IGF::CT::IGF\"}]}, {\"c\": [{\"v\": \"1501: OFFICES, BOARDS AND DIVISIONS\"}, {\"v\": 9500000.0}, {\"v\": \"PALANTIR TECHNOLOGIES INC.\"}, {\"v\": \"IGF::OT::IGF\"}]}, {\"c\": [{\"v\": \"9700: DEPT OF DEFENSE\"}, {\"v\": 9125264.2}, {\"v\": \"PALANTIR TECHNOLOGIES INCORPORATED\"}, {\"v\": \"IFAP\"}]}, {\"c\": [{\"v\": \"9700: DEPT OF DEFENSE\"}, {\"v\": 7180568.16}, {\"v\": \"PALANTIR TECHNOLOGIES INCORPORATED\"}, {\"v\": \"PALANTIR SW LICENSE MAINTENANCE SUPPORT RENEWAL.\"}]}, {\"c\": [{\"v\": \"1501: OFFICES, BOARDS AND DIVISIONS\"}, {\"v\": 6500000.0}, {\"v\": \"PALANTIR TECHNOLOGIES INC.\"}, {\"v\": \"IGF::OT::IGF\"}]}, {\"c\": [{\"v\": \"5000: SECURITIES AND EXCHANGE COMMISSION\"}, {\"v\": 5999999.98}, {\"v\": \"PALANTIR TECHNOLOGIES INC.\"}, {\"v\": \"IGF::OT::IGF FOR OTHER FUNCTIONS PROVIDE AND IMPLEMENT A COTS SOLUTION FOR THE AGENCY'S ENTERPRISE DATA ANALYTICS\"}]}, {\"c\": [{\"v\": \"7012: U.S. IMMIGRATION AND CUSTOMS ENFORCEMENT\"}, {\"v\": 5936000.0}, {\"v\": \"PALANTIR TECHNOLOGIES INCORPORATED\"}, {\"v\": \"PALANTIR SOFTWARE, SERVICE, AND SUPPORT FOR HSI PERSONNEL\"}]}, {\"c\": [{\"v\": \"9700: DEPT OF DEFENSE\"}, {\"v\": 5724116.36}, {\"v\": \"PALANTIR TECHNOLOGIES INCORPORATED\"}, {\"v\": \"PALANTIR GOTHAM SERVER LICENSES AND ASSOCIATED FIELD SERVICE REPRESENTATIVE SUPPORT.\"}]}, {\"c\": [{\"v\": \"9700: DEPT OF DEFENSE\"}, {\"v\": 5717851.36}, {\"v\": \"PALANTIR TECHNOLOGIES INCORPORATED\"}, {\"v\": \"PALANTIR GOTHAM LICENSES AND FIELD SERVICE REPRESENTATIVE SUPPORT\"}]}, {\"c\": [{\"v\": \"9700: DEPT OF DEFENSE\"}, {\"v\": 5646384.24}, {\"v\": \"PALANTIR TECHNOLOGIES INCORPORATED\"}, {\"v\": \"PURCHASE OF PALANTIR SOFTWARE LICENSES&FSR SUPPORT\"}]}, {\"c\": [{\"v\": \"7012: U.S. IMMIGRATION AND CUSTOMS ENFORCEMENT\"}, {\"v\": 5038025.59}, {\"v\": \"PALANTIR TECHNOLOGIES INC.\"}, {\"v\": \"IGF::OT::IGF FALCON OPERATIONS AND MAINTENANCE (O&M) SUPPORT SERVICES FOR PALANTIR GOVERNMENT, A PROPRIETARY SOFTWARE PRODUCT OF PALANTIR TECHNOLOGIES, INC.\"}]}, {\"c\": [{\"v\": \"9700: DEPT OF DEFENSE\"}, {\"v\": 4700000.0}, {\"v\": \"PALANTIR TECHNOLOGIES INCORPORATED\"}, {\"v\": \"NEW WORK MOD\"}]}, {\"c\": [{\"v\": \"1501: OFFICES, BOARDS AND DIVISIONS\"}, {\"v\": 4690647.07}, {\"v\": \"PALANTIR TECHNOLOGIES INC.\"}, {\"v\": \"IGF::OT::IGF\"}]}, {\"c\": [{\"v\": \"9700: DEPT OF DEFENSE\"}, {\"v\": 4661082.38}, {\"v\": \"PALANTIR TECHNOLOGIES INCORPORATED\"}, {\"v\": \"IGF::OT::IGF PALANTIR MARINES IFAP III CORE LICENSES.\"}]}, {\"c\": [{\"v\": \"1501: OFFICES, BOARDS AND DIVISIONS\"}, {\"v\": 4579393.0}, {\"v\": \"PALANTIR TECHNOLOGIES INC.\"}, {\"v\": \"IGF::OT::IGF,EOUSA PALANTIR\"}]}, {\"c\": [{\"v\": \"1549: FEDERAL BUREAU OF INVESTIGATION\"}, {\"v\": 3609995.45}, {\"v\": \"PALANTIR TECHNOLOGIES INCORPORATED\"}, {\"v\": \"COMPUTER TOOL USAGE LICENSES\"}]}, {\"c\": [{\"v\": \"9700: DEPT OF DEFENSE\"}, {\"v\": 3271065.56}, {\"v\": \"PALANTIR TECHNOLOGIES INC.\"}, {\"v\": \"IGF::OT::IGF CAG/GMSC FSR SUPPORT\"}]}, {\"c\": [{\"v\": \"9700: DEPT OF DEFENSE\"}, {\"v\": 3203190.77}, {\"v\": \"PALANTIR TECHNOLOGIES INC.\"}, {\"v\": \"IGF::OT::IGF, TWO (2) 8-CORE PERPETUAL LICENSES\"}]}], \"cols\": [{\"type\": \"string\", \"id\": \"agencyid\", \"label\": \"agencyid\"}, {\"type\": \"number\", \"id\": \"dollarsobligated\", \"label\": \"dollarsobligated\"}, {\"type\": \"string\", \"id\": \"vendorname\", \"label\": \"vendorname\"}, {\"type\": \"string\", \"id\": \"descriptionofcontractrequirement\", \"label\": \"descriptionofcontractrequirement\"}]});\n",
       "        }\n",
       "      );\n",
       "    </script>\n",
       "  "
      ],
      "text/plain": [
       "QueryResultsTable job_GHwVcGuA_3SqI6q4FiMMI4k9yqY"
      ]
     },
     "execution_count": 8,
     "metadata": {},
     "output_type": "execute_result"
    }
   ],
   "source": [
    "%%sql\n",
    "select\n",
    "  agencyid,\n",
    "  dollarsobligated,\n",
    "  vendorname,\n",
    "  descriptionofcontractrequirement\n",
    "from\n",
    "  gpqueries:contracts.raw\n",
    "where\n",
    "  vendorname contains 'tableau' or\n",
    "  vendorname contains 'socrata' or\n",
    "  vendorname contains 'palantir' or\n",
    "  vendorname contains 'revolution analytics' or\n",
    "  vendorname contains 'mathworks' or\n",
    "  vendorname contains 'statacorp' or\n",
    "  vendorname contains 'mathworks'\n",
    "order by\n",
    "  dollarsobligated desc\n",
    "limit\n",
    "  100\n",
    "ignore case"
   ]
  },
  {
   "cell_type": "markdown",
   "metadata": {},
   "source": [
    "### Searching Through Descriptions"
   ]
  },
  {
   "cell_type": "markdown",
   "metadata": {},
   "source": [
    "Full-text search and regular expressions for the variable `descriptionofcontractrequirement` narrow results for relevant product groups:"
   ]
  },
  {
   "cell_type": "code",
   "execution_count": 9,
   "metadata": {
    "collapsed": false
   },
   "outputs": [
    {
     "data": {
      "text/html": [
       "\n",
       "    <div class=\"bqtv\" id=\"6_146516669779\"><table><tr><th>agencyid</th><th>dollarsobligated</th><th>descriptionofcontractrequirement</th></tr><tr><td>9700: DEPT OF DEFENSE</td><td>5529.0</td><td>WEARABLE BODY CAMERA</td></tr><tr><td>1549: FEDERAL BUREAU OF INVESTIGATION</td><td>3978.0</td><td>BODY CAMERAS FOR WARM SPRINGS OFFICERS/DETECTIVES</td></tr><tr><td>7008: U.S. COAST GUARD</td><td>5154.21</td><td>POLICE BODY CAMERAS</td></tr><tr><td>1443: NATIONAL PARK SERVICE</td><td>12044.42</td><td>CACO WEARABLE BODY CAMERAS FOR THE LAW ENFORCEMENT RANGERS AT CAPE CODE NATIONAL SEASHORE</td></tr><tr><td>9700: DEPT OF DEFENSE</td><td>4315.0</td><td>NIKON D3 DIGITAL SLR BODY CAMERA</td></tr><tr><td>9700: DEPT OF DEFENSE</td><td>26285.6</td><td>BODY CAMERA'S</td></tr><tr><td>1443: NATIONAL PARK SERVICE</td><td>14605.4</td><td>VIEVU BODY CAMERAS</td></tr><tr><td>2036: BUREAU OF THE FISCAL SERVICE</td><td>23970.0</td><td>BODY CAMERAS</td></tr><tr><td>1443: NATIONAL PARK SERVICE</td><td>14850.0</td><td>LARO LE BODY CAMERAS</td></tr><tr><td>3600: VETERANS AFFAIRS, DEPARTMENT OF</td><td>5648.0</td><td>16 BODY CAMERAS FOR POLICE DEPT AT LEXINGTON VAMC</td></tr><tr><td>9700: DEPT OF DEFENSE</td><td>48667.5</td><td>DES BODY CAMERAS</td></tr><tr><td>9700: DEPT OF DEFENSE</td><td>58290.0</td><td>NIKON D300S BODY CAMERA</td></tr><tr><td>1443: NATIONAL PARK SERVICE</td><td>4855.03</td><td>MEVE-TASER AXON BODY CAMERAS</td></tr><tr><td>9700: DEPT OF DEFENSE</td><td>0.0</td><td>POLICE BODY CAMERA SYSTEM</td></tr><tr><td>1448: U.S. FISH AND WILDLIFE SERVICE</td><td>17133.6</td><td>RLE-15-0065-BODY CAMERAS</td></tr><tr><td>3600: VETERANS AFFAIRS, DEPARTMENT OF</td><td>7375.0</td><td>PURCHASE BODY CAMERAS FOR POLICE DEPARTMENT</td></tr><tr><td>1443: NATIONAL PARK SERVICE</td><td>8010.0</td><td>G: LOWTX, PURCHASE FIRSTVU BODY CAMERA(S)</td></tr><tr><td>1443: NATIONAL PARK SERVICE</td><td>0.0</td><td>X:NOGRN, WEARABLE BODY CAMERAS, BOSTON NATIONAL HISTORICAL PARK, CHARLESTOWN, MA, 02129</td></tr><tr><td>9700: DEPT OF DEFENSE</td><td>12989.34</td><td>IN-CAR AND BODY CAMERAS FOR POLICE DEPARTMENT</td></tr><tr><td>9700: DEPT OF DEFENSE</td><td>0.0</td><td>NIKON D300 BODY CAMERA,</td></tr><tr><td>7524: FOOD AND DRUG ADMINISTRATION</td><td>4420.0</td><td>IGF::OT::IGF BODY CAMERA</td></tr><tr><td>1448: U.S. FISH AND WILDLIFE SERVICE</td><td>68260.25</td><td>BODY CAMERAS FOR RLE IGF::OT::IGF</td></tr><tr><td>7009: U.S. SECRET SERVICE</td><td>6959.96</td><td>11-FSD-PR-NIKON D3X BODY CAMERA FOR USE IN THE FORENSICS SERVICES DIVISION.</td></tr><tr><td>9700: DEPT OF DEFENSE</td><td>22564.15</td><td>POLICE BODY CAMERA SYSTEM</td></tr><tr><td>1443: NATIONAL PARK SERVICE</td><td>9266.3</td><td>CANY-TASER BODY CAMERAS</td></tr></table></div>\n",
       "    <br />(rows: 53, time: 0.9s, cached, job: job_wIUPYZekHe4jwd-oHsy76OSUD4c)<br />\n",
       "    <script>\n",
       "      require(['extensions/charting', 'element!6_146516669779', 'style!/static/extensions/charting.css'],\n",
       "        function(charts, dom) {\n",
       "          charts.render(dom,\n",
       "            {\n",
       "              chartStyle:\"paged_table\",\n",
       "              dataName:\"5\",\n",
       "              fields:\"agencyid,dollarsobligated,descriptionofcontractrequirement\",\n",
       "              totalRows:53,\n",
       "              rowsPerPage:25,\n",
       "            }, {}, {\"rows\": [{\"c\": [{\"v\": \"9700: DEPT OF DEFENSE\"}, {\"v\": 5529.0}, {\"v\": \"WEARABLE BODY CAMERA\"}]}, {\"c\": [{\"v\": \"1549: FEDERAL BUREAU OF INVESTIGATION\"}, {\"v\": 3978.0}, {\"v\": \"BODY CAMERAS FOR WARM SPRINGS OFFICERS/DETECTIVES\"}]}, {\"c\": [{\"v\": \"7008: U.S. COAST GUARD\"}, {\"v\": 5154.21}, {\"v\": \"POLICE BODY CAMERAS\"}]}, {\"c\": [{\"v\": \"1443: NATIONAL PARK SERVICE\"}, {\"v\": 12044.42}, {\"v\": \"CACO WEARABLE BODY CAMERAS FOR THE LAW ENFORCEMENT RANGERS AT CAPE CODE NATIONAL SEASHORE\"}]}, {\"c\": [{\"v\": \"9700: DEPT OF DEFENSE\"}, {\"v\": 4315.0}, {\"v\": \"NIKON D3 DIGITAL SLR BODY CAMERA\"}]}, {\"c\": [{\"v\": \"9700: DEPT OF DEFENSE\"}, {\"v\": 26285.6}, {\"v\": \"BODY CAMERA'S\"}]}, {\"c\": [{\"v\": \"1443: NATIONAL PARK SERVICE\"}, {\"v\": 14605.4}, {\"v\": \"VIEVU BODY CAMERAS\"}]}, {\"c\": [{\"v\": \"2036: BUREAU OF THE FISCAL SERVICE\"}, {\"v\": 23970.0}, {\"v\": \"BODY CAMERAS\"}]}, {\"c\": [{\"v\": \"1443: NATIONAL PARK SERVICE\"}, {\"v\": 14850.0}, {\"v\": \"LARO LE BODY CAMERAS\"}]}, {\"c\": [{\"v\": \"3600: VETERANS AFFAIRS, DEPARTMENT OF\"}, {\"v\": 5648.0}, {\"v\": \"16 BODY CAMERAS FOR POLICE DEPT AT LEXINGTON VAMC\"}]}, {\"c\": [{\"v\": \"9700: DEPT OF DEFENSE\"}, {\"v\": 48667.5}, {\"v\": \"DES BODY CAMERAS\"}]}, {\"c\": [{\"v\": \"9700: DEPT OF DEFENSE\"}, {\"v\": 58290.0}, {\"v\": \"NIKON D300S BODY CAMERA\"}]}, {\"c\": [{\"v\": \"1443: NATIONAL PARK SERVICE\"}, {\"v\": 4855.03}, {\"v\": \"MEVE-TASER AXON BODY CAMERAS\"}]}, {\"c\": [{\"v\": \"9700: DEPT OF DEFENSE\"}, {\"v\": 0.0}, {\"v\": \"POLICE BODY CAMERA SYSTEM\"}]}, {\"c\": [{\"v\": \"1448: U.S. FISH AND WILDLIFE SERVICE\"}, {\"v\": 17133.6}, {\"v\": \"RLE-15-0065-BODY CAMERAS\"}]}, {\"c\": [{\"v\": \"3600: VETERANS AFFAIRS, DEPARTMENT OF\"}, {\"v\": 7375.0}, {\"v\": \"PURCHASE BODY CAMERAS FOR POLICE DEPARTMENT\"}]}, {\"c\": [{\"v\": \"1443: NATIONAL PARK SERVICE\"}, {\"v\": 8010.0}, {\"v\": \"G: LOWTX, PURCHASE FIRSTVU BODY CAMERA(S)\"}]}, {\"c\": [{\"v\": \"1443: NATIONAL PARK SERVICE\"}, {\"v\": 0.0}, {\"v\": \"X:NOGRN, WEARABLE BODY CAMERAS, BOSTON NATIONAL HISTORICAL PARK, CHARLESTOWN, MA, 02129\"}]}, {\"c\": [{\"v\": \"9700: DEPT OF DEFENSE\"}, {\"v\": 12989.34}, {\"v\": \"IN-CAR AND BODY CAMERAS FOR POLICE DEPARTMENT\"}]}, {\"c\": [{\"v\": \"9700: DEPT OF DEFENSE\"}, {\"v\": 0.0}, {\"v\": \"NIKON D300 BODY CAMERA,\"}]}, {\"c\": [{\"v\": \"7524: FOOD AND DRUG ADMINISTRATION\"}, {\"v\": 4420.0}, {\"v\": \"IGF::OT::IGF BODY CAMERA\"}]}, {\"c\": [{\"v\": \"1448: U.S. FISH AND WILDLIFE SERVICE\"}, {\"v\": 68260.25}, {\"v\": \"BODY CAMERAS FOR RLE IGF::OT::IGF\"}]}, {\"c\": [{\"v\": \"7009: U.S. SECRET SERVICE\"}, {\"v\": 6959.96}, {\"v\": \"11-FSD-PR-NIKON D3X BODY CAMERA FOR USE IN THE FORENSICS SERVICES DIVISION.\"}]}, {\"c\": [{\"v\": \"9700: DEPT OF DEFENSE\"}, {\"v\": 22564.15}, {\"v\": \"POLICE BODY CAMERA SYSTEM\"}]}, {\"c\": [{\"v\": \"1443: NATIONAL PARK SERVICE\"}, {\"v\": 9266.3}, {\"v\": \"CANY-TASER BODY CAMERAS\"}]}], \"cols\": [{\"type\": \"string\", \"id\": \"agencyid\", \"label\": \"agencyid\"}, {\"type\": \"number\", \"id\": \"dollarsobligated\", \"label\": \"dollarsobligated\"}, {\"type\": \"string\", \"id\": \"descriptionofcontractrequirement\", \"label\": \"descriptionofcontractrequirement\"}]});\n",
       "        }\n",
       "      );\n",
       "    </script>\n",
       "  "
      ],
      "text/plain": [
       "QueryResultsTable job_wIUPYZekHe4jwd-oHsy76OSUD4c"
      ]
     },
     "execution_count": 9,
     "metadata": {},
     "output_type": "execute_result"
    }
   ],
   "source": [
    "%%sql\n",
    "select\n",
    "  agencyid,\n",
    "  dollarsobligated,\n",
    "  descriptionofcontractrequirement\n",
    "from\n",
    "  gpqueries:contracts.raw\n",
    "where\n",
    "  descriptionofcontractrequirement contains 'body camera'\n",
    "limit\n",
    "  100\n",
    "ignore case"
   ]
  },
  {
   "cell_type": "markdown",
   "metadata": {},
   "source": [
    "Some rows of `descriptionofcontractrequirement` contain codes like \"IGF::CT::IGF\". These codes classify the purchase into three groups of \"[Inherently Governmental Functions](https://www.fpds.gov/fpdsng_cms/index.php/en/newsroom/108-nherently-governmental-functions.html)\" (IGF):\n",
    "\n",
    "1. IGF::CT::IGF for Critical Functions\n",
    "2. IGF::CL::IGF for Closely Associated\n",
    "3. IGF::OT::IGF for Other Functions"
   ]
  },
  {
   "cell_type": "markdown",
   "metadata": {},
   "source": [
    "### Narrowing Your Geography"
   ]
  },
  {
   "cell_type": "markdown",
   "metadata": {},
   "source": [
    "You can find local opportunities using variables for vendors (`city`, `state`) and services sold (`PlaceofPerformanceCity`, `pop_state_code`). The states where most contracts are delivered in:"
   ]
  },
  {
   "cell_type": "code",
   "execution_count": 10,
   "metadata": {
    "collapsed": false
   },
   "outputs": [
    {
     "data": {
      "text/html": [
       "\n",
       "    <div class=\"bqtv\" id=\"7_146516669984\"><table><tr><th>state_code</th><th>state_name</th><th>sum_dollarsobligated</th></tr><tr><td>CA</td><td> </td><td>7.12598903911e+11</td></tr><tr><td>VA</td><td> VIRGINIA</td><td>6.97817723705e+11</td></tr><tr><td>:</td><td></td><td>6.67791793514e+11</td></tr><tr><td>TX</td><td> TEXAS</td><td>5.12968110673e+11</td></tr><tr><td>MD</td><td> MARYLAND</td><td>3.51494588833e+11</td></tr><tr><td>DC</td><td> DISTRICT OF COLUMBIA</td><td>2.58102498463e+11</td></tr><tr><td>PA</td><td> PENNSYLVANIA</td><td>2.10745481833e+11</td></tr><tr><td>FL</td><td> FLORIDA</td><td>2.10241041129e+11</td></tr><tr><td>MA</td><td> MASSACHUSETTS</td><td>1.84166810727e+11</td></tr><tr><td>AZ</td><td> ARIZONA</td><td>1.68027358301e+11</td></tr><tr><td>CT</td><td> CONNECTICUT</td><td>1.6160664469e+11</td></tr><tr><td>MO</td><td> MISSOURI</td><td>1.58477274895e+11</td></tr><tr><td>NY</td><td> NEW YORK</td><td>1.50885801473e+11</td></tr><tr><td>WA</td><td> WASHINGTON</td><td>1.45630044425e+11</td></tr><tr><td>GA</td><td> GEORGIA</td><td>1.40264459673e+11</td></tr><tr><td>AL</td><td> ALABAMA</td><td>1.39065794738e+11</td></tr><tr><td>CO</td><td> COLORADO</td><td>1.19793072249e+11</td></tr><tr><td>IL</td><td> ILLINOIS</td><td>1.19266682187e+11</td></tr><tr><td>NM</td><td> NEW MEXICO</td><td>1.11178508246e+11</td></tr><tr><td>TN</td><td> TENNESSEE</td><td>1.08883193392e+11</td></tr><tr><td>OH</td><td> OHIO</td><td>1.07798459749e+11</td></tr><tr><td>NJ</td><td> NEW JERSEY</td><td>1.06487949719e+11</td></tr><tr><td>SC</td><td> SOUTH CAROLINA</td><td>87058229568.8</td></tr><tr><td>KY</td><td> KENTUCKY</td><td>85713398240.4</td></tr><tr><td>MI</td><td> MICHIGAN</td><td>81600382916.1</td></tr></table></div>\n",
       "    <br />(rows: 89, time: 1.5s, cached, job: job_xz8OgI40jd2GPlDk9J5fqZjxTDY)<br />\n",
       "    <script>\n",
       "      require(['extensions/charting', 'element!7_146516669984', 'style!/static/extensions/charting.css'],\n",
       "        function(charts, dom) {\n",
       "          charts.render(dom,\n",
       "            {\n",
       "              chartStyle:\"paged_table\",\n",
       "              dataName:\"6\",\n",
       "              fields:\"state_code,state_name,sum_dollarsobligated\",\n",
       "              totalRows:89,\n",
       "              rowsPerPage:25,\n",
       "            }, {}, {\"rows\": [{\"c\": [{\"v\": \"CA\"}, {\"v\": \" \"}, {\"v\": 712598903910.6709}]}, {\"c\": [{\"v\": \"VA\"}, {\"v\": \" VIRGINIA\"}, {\"v\": 697817723705.3901}]}, {\"c\": [{\"v\": \":\"}, {\"v\": \"\"}, {\"v\": 667791793513.7485}]}, {\"c\": [{\"v\": \"TX\"}, {\"v\": \" TEXAS\"}, {\"v\": 512968110672.57043}]}, {\"c\": [{\"v\": \"MD\"}, {\"v\": \" MARYLAND\"}, {\"v\": 351494588832.51935}]}, {\"c\": [{\"v\": \"DC\"}, {\"v\": \" DISTRICT OF COLUMBIA\"}, {\"v\": 258102498463.2103}]}, {\"c\": [{\"v\": \"PA\"}, {\"v\": \" PENNSYLVANIA\"}, {\"v\": 210745481833.37125}]}, {\"c\": [{\"v\": \"FL\"}, {\"v\": \" FLORIDA\"}, {\"v\": 210241041129.29965}]}, {\"c\": [{\"v\": \"MA\"}, {\"v\": \" MASSACHUSETTS\"}, {\"v\": 184166810726.58}]}, {\"c\": [{\"v\": \"AZ\"}, {\"v\": \" ARIZONA\"}, {\"v\": 168027358300.96024}]}, {\"c\": [{\"v\": \"CT\"}, {\"v\": \" CONNECTICUT\"}, {\"v\": 161606644689.70013}]}, {\"c\": [{\"v\": \"MO\"}, {\"v\": \" MISSOURI\"}, {\"v\": 158477274894.61005}]}, {\"c\": [{\"v\": \"NY\"}, {\"v\": \" NEW YORK\"}, {\"v\": 150885801472.92984}]}, {\"c\": [{\"v\": \"WA\"}, {\"v\": \" WASHINGTON\"}, {\"v\": 145630044425.0001}]}, {\"c\": [{\"v\": \"GA\"}, {\"v\": \" GEORGIA\"}, {\"v\": 140264459672.98993}]}, {\"c\": [{\"v\": \"AL\"}, {\"v\": \" ALABAMA\"}, {\"v\": 139065794738.24985}]}, {\"c\": [{\"v\": \"CO\"}, {\"v\": \" COLORADO\"}, {\"v\": 119793072248.78992}]}, {\"c\": [{\"v\": \"IL\"}, {\"v\": \" ILLINOIS\"}, {\"v\": 119266682186.78993}]}, {\"c\": [{\"v\": \"NM\"}, {\"v\": \" NEW MEXICO\"}, {\"v\": 111178508245.8199}]}, {\"c\": [{\"v\": \"TN\"}, {\"v\": \" TENNESSEE\"}, {\"v\": 108883193392.05989}]}, {\"c\": [{\"v\": \"OH\"}, {\"v\": \" OHIO\"}, {\"v\": 107798459749.37006}]}, {\"c\": [{\"v\": \"NJ\"}, {\"v\": \" NEW JERSEY\"}, {\"v\": 106487949719.40999}]}, {\"c\": [{\"v\": \"SC\"}, {\"v\": \" SOUTH CAROLINA\"}, {\"v\": 87058229568.83003}]}, {\"c\": [{\"v\": \"KY\"}, {\"v\": \" KENTUCKY\"}, {\"v\": 85713398240.40002}]}, {\"c\": [{\"v\": \"MI\"}, {\"v\": \" MICHIGAN\"}, {\"v\": 81600382916.09999}]}], \"cols\": [{\"type\": \"string\", \"id\": \"state_code\", \"label\": \"state_code\"}, {\"type\": \"string\", \"id\": \"state_name\", \"label\": \"state_name\"}, {\"type\": \"number\", \"id\": \"sum_dollarsobligated\", \"label\": \"sum_dollarsobligated\"}]});\n",
       "        }\n",
       "      );\n",
       "    </script>\n",
       "  "
      ],
      "text/plain": [
       "QueryResultsTable job_xz8OgI40jd2GPlDk9J5fqZjxTDY"
      ]
     },
     "execution_count": 10,
     "metadata": {},
     "output_type": "execute_result"
    }
   ],
   "source": [
    "%%sql\n",
    "select\n",
    "  substr(pop_state_code, 1, 2) state_code,\n",
    "  first(substr(pop_state_code, 4)) state_name,\n",
    "  sum(dollarsobligated) sum_dollarsobligated\n",
    "from\n",
    "  gpqueries:contracts.raw\n",
    "group by\n",
    "  state_code\n",
    "order by\n",
    "  sum_dollarsobligated desc"
   ]
  },
  {
   "cell_type": "markdown",
   "metadata": {},
   "source": [
    "## Facts about Government Contracting"
   ]
  },
  {
   "cell_type": "markdown",
   "metadata": {},
   "source": [
    "Let's check some popular statements about government contracting."
   ]
  },
  {
   "cell_type": "markdown",
   "metadata": {},
   "source": [
    "### Small Businesses Win Most Contracts"
   ]
  },
  {
   "cell_type": "markdown",
   "metadata": {},
   "source": [
    "Contractors had to report their revenue and the number of employees. It makes easy to check if small business is welcomed in government contracting:"
   ]
  },
  {
   "cell_type": "code",
   "execution_count": 11,
   "metadata": {
    "collapsed": false
   },
   "outputs": [],
   "source": [
    "%%sql --module gpq\n",
    "\n",
    "define query vendor_size_by_agency\n",
    "select\n",
    "  substr(agencyid, 1, 4) agency_id,\n",
    "  first(substr(agencyid, 7)) agency_name,\n",
    "  nth(11, quantiles(annualrevenue, 21)) vendor_median_annualrevenue,\n",
    "  nth(11, quantiles(numberofemployees, 21)) vendor_median_numberofemployees,\n",
    "  count(*) transactions,\n",
    "  sum(dollarsobligated) sum_dollarsobligated\n",
    "from\n",
    "  gpqueries:contracts.raw\n",
    "group by\n",
    "  agency_id\n",
    "having\n",
    "  transactions > 1000 and\n",
    "  sum_dollarsobligated > 10e6\n",
    "order by\n",
    "  vendor_median_annualrevenue asc"
   ]
  },
  {
   "cell_type": "code",
   "execution_count": 12,
   "metadata": {
    "collapsed": false
   },
   "outputs": [
    {
     "data": {
      "text/html": [
       "<div>\n",
       "<table border=\"1\" class=\"dataframe\">\n",
       "  <thead>\n",
       "    <tr style=\"text-align: right;\">\n",
       "      <th></th>\n",
       "      <th>agency_id</th>\n",
       "      <th>agency_name</th>\n",
       "      <th>vendor_median_annualrevenue</th>\n",
       "      <th>vendor_median_numberofemployees</th>\n",
       "      <th>transactions</th>\n",
       "      <th>sum_dollarsobligated</th>\n",
       "    </tr>\n",
       "  </thead>\n",
       "  <tbody>\n",
       "    <tr>\n",
       "      <th>0</th>\n",
       "      <td>1242</td>\n",
       "      <td>ANIMAL AND PLANT HEALTH INSPECTION SERVICE</td>\n",
       "      <td>0.0</td>\n",
       "      <td>0</td>\n",
       "      <td>1268</td>\n",
       "      <td>1.418465e+08</td>\n",
       "    </tr>\n",
       "    <tr>\n",
       "      <th>1</th>\n",
       "      <td>1528</td>\n",
       "      <td>IMMIGRATION AND NATURALIZATION SERVICE</td>\n",
       "      <td>0.0</td>\n",
       "      <td>0</td>\n",
       "      <td>4858</td>\n",
       "      <td>1.808390e+09</td>\n",
       "    </tr>\n",
       "    <tr>\n",
       "      <th>2</th>\n",
       "      <td>5800</td>\n",
       "      <td>FEDERAL EMERGENCY MANAGEMENT AGENCY</td>\n",
       "      <td>0.0</td>\n",
       "      <td>0</td>\n",
       "      <td>3857</td>\n",
       "      <td>7.360614e+08</td>\n",
       "    </tr>\n",
       "    <tr>\n",
       "      <th>3</th>\n",
       "      <td>1900</td>\n",
       "      <td>STATE, DEPARTMENT OF</td>\n",
       "      <td>1000.0</td>\n",
       "      <td>10</td>\n",
       "      <td>906835</td>\n",
       "      <td>9.612514e+10</td>\n",
       "    </tr>\n",
       "    <tr>\n",
       "      <th>4</th>\n",
       "      <td>9568</td>\n",
       "      <td>BROADCASTING BOARD OF GOVERNORS</td>\n",
       "      <td>1000.0</td>\n",
       "      <td>1</td>\n",
       "      <td>86580</td>\n",
       "      <td>1.719051e+09</td>\n",
       "    </tr>\n",
       "    <tr>\n",
       "      <th>5</th>\n",
       "      <td>7200</td>\n",
       "      <td>AGENCY FOR INTERNATIONAL DEVELOPMENT</td>\n",
       "      <td>1000.0</td>\n",
       "      <td>10</td>\n",
       "      <td>112903</td>\n",
       "      <td>5.683631e+10</td>\n",
       "    </tr>\n",
       "    <tr>\n",
       "      <th>6</th>\n",
       "      <td>2800</td>\n",
       "      <td>SOCIAL SECURITY ADMINISTRATION</td>\n",
       "      <td>81000.0</td>\n",
       "      <td>1</td>\n",
       "      <td>140669</td>\n",
       "      <td>1.636968e+10</td>\n",
       "    </tr>\n",
       "    <tr>\n",
       "      <th>7</th>\n",
       "      <td>1226</td>\n",
       "      <td>FOREST SERVICE</td>\n",
       "      <td>100000.0</td>\n",
       "      <td>2</td>\n",
       "      <td>24686</td>\n",
       "      <td>1.554254e+09</td>\n",
       "    </tr>\n",
       "    <tr>\n",
       "      <th>8</th>\n",
       "      <td>12E3</td>\n",
       "      <td>RURAL HOUSING SERVICE</td>\n",
       "      <td>110000.0</td>\n",
       "      <td>2</td>\n",
       "      <td>87659</td>\n",
       "      <td>1.124532e+09</td>\n",
       "    </tr>\n",
       "    <tr>\n",
       "      <th>9</th>\n",
       "      <td>2028</td>\n",
       "      <td>U.S. SECRET SERVICE</td>\n",
       "      <td>110000.0</td>\n",
       "      <td>2</td>\n",
       "      <td>1144</td>\n",
       "      <td>1.870609e+08</td>\n",
       "    </tr>\n",
       "    <tr>\n",
       "      <th>10</th>\n",
       "      <td>2001</td>\n",
       "      <td>DEPARTMENTAL OFFICES</td>\n",
       "      <td>128000.0</td>\n",
       "      <td>5</td>\n",
       "      <td>17514</td>\n",
       "      <td>2.408785e+09</td>\n",
       "    </tr>\n",
       "    <tr>\n",
       "      <th>11</th>\n",
       "      <td>4500</td>\n",
       "      <td>EQUAL EMPLOYMENT OPPORTUNITY COMMISSION</td>\n",
       "      <td>150000.0</td>\n",
       "      <td>3</td>\n",
       "      <td>32309</td>\n",
       "      <td>7.296316e+08</td>\n",
       "    </tr>\n",
       "    <tr>\n",
       "      <th>12</th>\n",
       "      <td>9524</td>\n",
       "      <td>NATIONAL MEDIATION BOARD</td>\n",
       "      <td>150000.0</td>\n",
       "      <td>2</td>\n",
       "      <td>1578</td>\n",
       "      <td>1.539304e+07</td>\n",
       "    </tr>\n",
       "    <tr>\n",
       "      <th>13</th>\n",
       "      <td>1560</td>\n",
       "      <td>ATF ACQUISITION AND PROPERTY MGMT DIV</td>\n",
       "      <td>500000.0</td>\n",
       "      <td>7</td>\n",
       "      <td>43268</td>\n",
       "      <td>2.834267e+09</td>\n",
       "    </tr>\n",
       "    <tr>\n",
       "      <th>14</th>\n",
       "      <td>1227</td>\n",
       "      <td>SOIL CONSERVATION SERVICE</td>\n",
       "      <td>600000.0</td>\n",
       "      <td>10</td>\n",
       "      <td>1202</td>\n",
       "      <td>2.188730e+08</td>\n",
       "    </tr>\n",
       "    <tr>\n",
       "      <th>15</th>\n",
       "      <td>2026</td>\n",
       "      <td>FINANCIAL CRIME ENFORCEMENT NETWORK</td>\n",
       "      <td>700000.0</td>\n",
       "      <td>10</td>\n",
       "      <td>5555</td>\n",
       "      <td>1.951988e+09</td>\n",
       "    </tr>\n",
       "    <tr>\n",
       "      <th>16</th>\n",
       "      <td>2022</td>\n",
       "      <td>ALCOHOL AND TOBACCO TAX AND TRADE BUREAU</td>\n",
       "      <td>757000.0</td>\n",
       "      <td>11</td>\n",
       "      <td>1850</td>\n",
       "      <td>3.831141e+08</td>\n",
       "    </tr>\n",
       "    <tr>\n",
       "      <th>17</th>\n",
       "      <td>12C2</td>\n",
       "      <td>FOREST SERVICE</td>\n",
       "      <td>850000.0</td>\n",
       "      <td>10</td>\n",
       "      <td>431521</td>\n",
       "      <td>1.722469e+10</td>\n",
       "    </tr>\n",
       "    <tr>\n",
       "      <th>18</th>\n",
       "      <td>7520</td>\n",
       "      <td>PUBLIC HEALTH SERVICE</td>\n",
       "      <td>890000.0</td>\n",
       "      <td>11</td>\n",
       "      <td>10775</td>\n",
       "      <td>1.076623e+09</td>\n",
       "    </tr>\n",
       "    <tr>\n",
       "      <th>19</th>\n",
       "      <td>6950</td>\n",
       "      <td>UNITED STATES COAST GUARD</td>\n",
       "      <td>1100000.0</td>\n",
       "      <td>15</td>\n",
       "      <td>25750</td>\n",
       "      <td>2.632710e+09</td>\n",
       "    </tr>\n",
       "    <tr>\n",
       "      <th>20</th>\n",
       "      <td>1422</td>\n",
       "      <td>BUREAU OF LAND MANAGEMENT</td>\n",
       "      <td>1100000.0</td>\n",
       "      <td>12</td>\n",
       "      <td>173546</td>\n",
       "      <td>4.997679e+09</td>\n",
       "    </tr>\n",
       "    <tr>\n",
       "      <th>21</th>\n",
       "      <td>2024</td>\n",
       "      <td>FEDERAL LAW ENFORCEMENT TRAINING CENTER</td>\n",
       "      <td>1100000.0</td>\n",
       "      <td>20</td>\n",
       "      <td>3227</td>\n",
       "      <td>2.085935e+08</td>\n",
       "    </tr>\n",
       "    <tr>\n",
       "      <th>22</th>\n",
       "      <td>6100</td>\n",
       "      <td>CONSUMER PRODUCT SAFETY COMMISSION</td>\n",
       "      <td>1100000.0</td>\n",
       "      <td>26</td>\n",
       "      <td>11533</td>\n",
       "      <td>2.786294e+08</td>\n",
       "    </tr>\n",
       "    <tr>\n",
       "      <th>23</th>\n",
       "      <td>1438</td>\n",
       "      <td>OFFICE OF SURFACE MINING, RECLAMATION AND ENFO...</td>\n",
       "      <td>1100000.0</td>\n",
       "      <td>10</td>\n",
       "      <td>11108</td>\n",
       "      <td>1.894074e+08</td>\n",
       "    </tr>\n",
       "    <tr>\n",
       "      <th>24</th>\n",
       "      <td>1153</td>\n",
       "      <td>UNITED STATES TRADE AND DEVELOPMENT AGENCY</td>\n",
       "      <td>1183519.0</td>\n",
       "      <td>10</td>\n",
       "      <td>2032</td>\n",
       "      <td>1.256019e+08</td>\n",
       "    </tr>\n",
       "    <tr>\n",
       "      <th>25</th>\n",
       "      <td>1230</td>\n",
       "      <td>AGRICULTURAL RESEARCH SERVICE</td>\n",
       "      <td>1300000.0</td>\n",
       "      <td>12</td>\n",
       "      <td>3171</td>\n",
       "      <td>3.087970e+08</td>\n",
       "    </tr>\n",
       "    <tr>\n",
       "      <th>26</th>\n",
       "      <td>2046</td>\n",
       "      <td>OFFICE OF THE COMPTROLLER OF THE CURRENCY</td>\n",
       "      <td>1400000.0</td>\n",
       "      <td>22</td>\n",
       "      <td>14898</td>\n",
       "      <td>1.668664e+09</td>\n",
       "    </tr>\n",
       "    <tr>\n",
       "      <th>27</th>\n",
       "      <td>1603</td>\n",
       "      <td>OFFICE OF THE SOLICITOR</td>\n",
       "      <td>1440000.0</td>\n",
       "      <td>21</td>\n",
       "      <td>1748</td>\n",
       "      <td>5.414278e+07</td>\n",
       "    </tr>\n",
       "    <tr>\n",
       "      <th>28</th>\n",
       "      <td>4740</td>\n",
       "      <td>PUBLIC BUILDINGS SERVICE</td>\n",
       "      <td>1573150.0</td>\n",
       "      <td>7</td>\n",
       "      <td>1488711</td>\n",
       "      <td>9.933295e+10</td>\n",
       "    </tr>\n",
       "    <tr>\n",
       "      <th>29</th>\n",
       "      <td>12C3</td>\n",
       "      <td>NATURAL RESOURCES CONSERVATION SERVICE</td>\n",
       "      <td>1631681.0</td>\n",
       "      <td>20</td>\n",
       "      <td>44705</td>\n",
       "      <td>1.585386e+09</td>\n",
       "    </tr>\n",
       "    <tr>\n",
       "      <th>...</th>\n",
       "      <td>...</td>\n",
       "      <td>...</td>\n",
       "      <td>...</td>\n",
       "      <td>...</td>\n",
       "      <td>...</td>\n",
       "      <td>...</td>\n",
       "    </tr>\n",
       "    <tr>\n",
       "      <th>121</th>\n",
       "      <td>2044</td>\n",
       "      <td>UNITED STATES MINT</td>\n",
       "      <td>10000000.0</td>\n",
       "      <td>50</td>\n",
       "      <td>53574</td>\n",
       "      <td>3.109847e+10</td>\n",
       "    </tr>\n",
       "    <tr>\n",
       "      <th>122</th>\n",
       "      <td>2700</td>\n",
       "      <td>FEDERAL COMMUNICATIONS COMMISSION</td>\n",
       "      <td>10000000.0</td>\n",
       "      <td>130</td>\n",
       "      <td>9954</td>\n",
       "      <td>1.160409e+09</td>\n",
       "    </tr>\n",
       "    <tr>\n",
       "      <th>123</th>\n",
       "      <td>9507</td>\n",
       "      <td>COMMODITY FUTURES TRADING COMMISSION</td>\n",
       "      <td>10500000.0</td>\n",
       "      <td>140</td>\n",
       "      <td>5559</td>\n",
       "      <td>5.247360e+08</td>\n",
       "    </tr>\n",
       "    <tr>\n",
       "      <th>124</th>\n",
       "      <td>4705</td>\n",
       "      <td>OFFICE OF THE ADMINISTRATOR(ACMD)</td>\n",
       "      <td>11000000.0</td>\n",
       "      <td>91</td>\n",
       "      <td>5894</td>\n",
       "      <td>1.319038e+09</td>\n",
       "    </tr>\n",
       "    <tr>\n",
       "      <th>125</th>\n",
       "      <td>7529</td>\n",
       "      <td>NATIONAL INSTITUTES OF HEALTH</td>\n",
       "      <td>11000000.0</td>\n",
       "      <td>115</td>\n",
       "      <td>401609</td>\n",
       "      <td>6.319064e+10</td>\n",
       "    </tr>\n",
       "    <tr>\n",
       "      <th>126</th>\n",
       "      <td>1540</td>\n",
       "      <td>FEDERAL PRISON SYSTEM</td>\n",
       "      <td>11000000.0</td>\n",
       "      <td>70</td>\n",
       "      <td>1019429</td>\n",
       "      <td>3.446292e+10</td>\n",
       "    </tr>\n",
       "    <tr>\n",
       "      <th>127</th>\n",
       "      <td>1665</td>\n",
       "      <td>PENSION BENEFIT GUARANTY CORPORATION</td>\n",
       "      <td>11000000.0</td>\n",
       "      <td>200</td>\n",
       "      <td>12647</td>\n",
       "      <td>3.141358e+09</td>\n",
       "    </tr>\n",
       "    <tr>\n",
       "      <th>128</th>\n",
       "      <td>7003</td>\n",
       "      <td>U.S. CITIZENSHIP AND IMMIGRATION SERVICES</td>\n",
       "      <td>11000000.0</td>\n",
       "      <td>72</td>\n",
       "      <td>37832</td>\n",
       "      <td>8.801395e+09</td>\n",
       "    </tr>\n",
       "    <tr>\n",
       "      <th>129</th>\n",
       "      <td>1344</td>\n",
       "      <td>PATENT AND TRADEMARK OFFICE</td>\n",
       "      <td>11000645.0</td>\n",
       "      <td>88</td>\n",
       "      <td>30012</td>\n",
       "      <td>8.576179e+09</td>\n",
       "    </tr>\n",
       "    <tr>\n",
       "      <th>130</th>\n",
       "      <td>3355</td>\n",
       "      <td>NATIONAL GALLERY OF ART</td>\n",
       "      <td>11500000.0</td>\n",
       "      <td>52</td>\n",
       "      <td>4034</td>\n",
       "      <td>3.882365e+08</td>\n",
       "    </tr>\n",
       "    <tr>\n",
       "      <th>131</th>\n",
       "      <td>6000</td>\n",
       "      <td>RAILROAD RETIREMENT BOARD</td>\n",
       "      <td>12000000.0</td>\n",
       "      <td>130</td>\n",
       "      <td>5483</td>\n",
       "      <td>2.725028e+08</td>\n",
       "    </tr>\n",
       "    <tr>\n",
       "      <th>132</th>\n",
       "      <td>19BM</td>\n",
       "      <td>INTERNATIONAL BOUNDARY AND WATER COMMISSION: U...</td>\n",
       "      <td>13209362.0</td>\n",
       "      <td>97</td>\n",
       "      <td>4832</td>\n",
       "      <td>6.288717e+08</td>\n",
       "    </tr>\n",
       "    <tr>\n",
       "      <th>133</th>\n",
       "      <td>8961</td>\n",
       "      <td>FEDERAL ENERGY REGULATORY COMMISSION</td>\n",
       "      <td>14996000.0</td>\n",
       "      <td>58</td>\n",
       "      <td>5678</td>\n",
       "      <td>5.596401e+08</td>\n",
       "    </tr>\n",
       "    <tr>\n",
       "      <th>134</th>\n",
       "      <td>4704</td>\n",
       "      <td>OFFICE OF INSPECTOR GENERAL</td>\n",
       "      <td>15000000.0</td>\n",
       "      <td>70</td>\n",
       "      <td>1134</td>\n",
       "      <td>3.663729e+07</td>\n",
       "    </tr>\n",
       "    <tr>\n",
       "      <th>135</th>\n",
       "      <td>3600</td>\n",
       "      <td>VETERANS AFFAIRS, DEPARTMENT OF</td>\n",
       "      <td>15000000.0</td>\n",
       "      <td>149</td>\n",
       "      <td>5285240</td>\n",
       "      <td>2.059998e+11</td>\n",
       "    </tr>\n",
       "    <tr>\n",
       "      <th>136</th>\n",
       "      <td>4732</td>\n",
       "      <td>FEDERAL ACQUISITION SERVICE</td>\n",
       "      <td>15000000.0</td>\n",
       "      <td>57</td>\n",
       "      <td>1413873</td>\n",
       "      <td>2.911922e+10</td>\n",
       "    </tr>\n",
       "    <tr>\n",
       "      <th>137</th>\n",
       "      <td>8000</td>\n",
       "      <td>NATIONAL AERONAUTICS AND SPACE ADMINISTRATION</td>\n",
       "      <td>18000000.0</td>\n",
       "      <td>180</td>\n",
       "      <td>446963</td>\n",
       "      <td>2.112742e+11</td>\n",
       "    </tr>\n",
       "    <tr>\n",
       "      <th>138</th>\n",
       "      <td>1549</td>\n",
       "      <td>FEDERAL BUREAU OF INVESTIGATION</td>\n",
       "      <td>18000000.0</td>\n",
       "      <td>100</td>\n",
       "      <td>72815</td>\n",
       "      <td>1.711656e+10</td>\n",
       "    </tr>\n",
       "    <tr>\n",
       "      <th>139</th>\n",
       "      <td>12D2</td>\n",
       "      <td>FARM SERVICE AGENCY</td>\n",
       "      <td>18000000.0</td>\n",
       "      <td>100</td>\n",
       "      <td>35722</td>\n",
       "      <td>1.874517e+10</td>\n",
       "    </tr>\n",
       "    <tr>\n",
       "      <th>140</th>\n",
       "      <td>6940</td>\n",
       "      <td>NATIONAL HIGHWAY TRAFFIC SAFETY ADMINISTRATION</td>\n",
       "      <td>19000000.0</td>\n",
       "      <td>120</td>\n",
       "      <td>12252</td>\n",
       "      <td>1.890718e+09</td>\n",
       "    </tr>\n",
       "    <tr>\n",
       "      <th>141</th>\n",
       "      <td>6930</td>\n",
       "      <td>FEDERAL RAILROAD ADMINISTRATION</td>\n",
       "      <td>20000000.0</td>\n",
       "      <td>579</td>\n",
       "      <td>12444</td>\n",
       "      <td>8.030557e+08</td>\n",
       "    </tr>\n",
       "    <tr>\n",
       "      <th>142</th>\n",
       "      <td>0559</td>\n",
       "      <td>GAO, EXCEPT COMPTROLLER GENERAL</td>\n",
       "      <td>20201548.0</td>\n",
       "      <td>189</td>\n",
       "      <td>2728</td>\n",
       "      <td>4.145613e+08</td>\n",
       "    </tr>\n",
       "    <tr>\n",
       "      <th>143</th>\n",
       "      <td>7001</td>\n",
       "      <td>OFFICE OF PROCUREMENT OPERATIONS</td>\n",
       "      <td>20828724.0</td>\n",
       "      <td>383</td>\n",
       "      <td>71728</td>\n",
       "      <td>2.463028e+10</td>\n",
       "    </tr>\n",
       "    <tr>\n",
       "      <th>144</th>\n",
       "      <td>7505</td>\n",
       "      <td>OFFICE OF ASSISTANT SECRETARY FOR ADMINISTRATI...</td>\n",
       "      <td>26106972.0</td>\n",
       "      <td>304</td>\n",
       "      <td>5181</td>\n",
       "      <td>1.413397e+10</td>\n",
       "    </tr>\n",
       "    <tr>\n",
       "      <th>145</th>\n",
       "      <td>9000</td>\n",
       "      <td>SELECTIVE SERVICE SYSTEM</td>\n",
       "      <td>30457000.0</td>\n",
       "      <td>300</td>\n",
       "      <td>1141</td>\n",
       "      <td>2.356269e+07</td>\n",
       "    </tr>\n",
       "    <tr>\n",
       "      <th>146</th>\n",
       "      <td>7528</td>\n",
       "      <td>AGENCY FOR HEALTHCARE RESEARCH AND QUALITY</td>\n",
       "      <td>32800000.0</td>\n",
       "      <td>1200</td>\n",
       "      <td>6719</td>\n",
       "      <td>2.759358e+09</td>\n",
       "    </tr>\n",
       "    <tr>\n",
       "      <th>147</th>\n",
       "      <td>1436</td>\n",
       "      <td>BUREAU OF SAFETY AND ENVIRONMENTAL ENFORCEMENT</td>\n",
       "      <td>32850550.0</td>\n",
       "      <td>141</td>\n",
       "      <td>2958</td>\n",
       "      <td>2.827946e+08</td>\n",
       "    </tr>\n",
       "    <tr>\n",
       "      <th>148</th>\n",
       "      <td>1524</td>\n",
       "      <td>DRUG ENFORCEMENT ADMINISTRATION</td>\n",
       "      <td>40000000.0</td>\n",
       "      <td>350</td>\n",
       "      <td>261796</td>\n",
       "      <td>6.429977e+09</td>\n",
       "    </tr>\n",
       "    <tr>\n",
       "      <th>149</th>\n",
       "      <td>12K2</td>\n",
       "      <td>AGRICULTURAL MARKETING SERVICE</td>\n",
       "      <td>50000000.0</td>\n",
       "      <td>296</td>\n",
       "      <td>22835</td>\n",
       "      <td>1.623015e+10</td>\n",
       "    </tr>\n",
       "    <tr>\n",
       "      <th>150</th>\n",
       "      <td>1544</td>\n",
       "      <td>U.S. MARSHALS SERVICE</td>\n",
       "      <td>120000000.0</td>\n",
       "      <td>2000</td>\n",
       "      <td>78441</td>\n",
       "      <td>7.840888e+09</td>\n",
       "    </tr>\n",
       "  </tbody>\n",
       "</table>\n",
       "<p>151 rows × 6 columns</p>\n",
       "</div>"
      ],
      "text/plain": [
       "    agency_id                                        agency_name  \\\n",
       "0        1242         ANIMAL AND PLANT HEALTH INSPECTION SERVICE   \n",
       "1        1528             IMMIGRATION AND NATURALIZATION SERVICE   \n",
       "2        5800                FEDERAL EMERGENCY MANAGEMENT AGENCY   \n",
       "3        1900                               STATE, DEPARTMENT OF   \n",
       "4        9568                    BROADCASTING BOARD OF GOVERNORS   \n",
       "5        7200               AGENCY FOR INTERNATIONAL DEVELOPMENT   \n",
       "6        2800                     SOCIAL SECURITY ADMINISTRATION   \n",
       "7        1226                                     FOREST SERVICE   \n",
       "8        12E3                              RURAL HOUSING SERVICE   \n",
       "9        2028                                U.S. SECRET SERVICE   \n",
       "10       2001                               DEPARTMENTAL OFFICES   \n",
       "11       4500            EQUAL EMPLOYMENT OPPORTUNITY COMMISSION   \n",
       "12       9524                           NATIONAL MEDIATION BOARD   \n",
       "13       1560              ATF ACQUISITION AND PROPERTY MGMT DIV   \n",
       "14       1227                          SOIL CONSERVATION SERVICE   \n",
       "15       2026                FINANCIAL CRIME ENFORCEMENT NETWORK   \n",
       "16       2022           ALCOHOL AND TOBACCO TAX AND TRADE BUREAU   \n",
       "17       12C2                                     FOREST SERVICE   \n",
       "18       7520                              PUBLIC HEALTH SERVICE   \n",
       "19       6950                          UNITED STATES COAST GUARD   \n",
       "20       1422                          BUREAU OF LAND MANAGEMENT   \n",
       "21       2024            FEDERAL LAW ENFORCEMENT TRAINING CENTER   \n",
       "22       6100                 CONSUMER PRODUCT SAFETY COMMISSION   \n",
       "23       1438  OFFICE OF SURFACE MINING, RECLAMATION AND ENFO...   \n",
       "24       1153         UNITED STATES TRADE AND DEVELOPMENT AGENCY   \n",
       "25       1230                      AGRICULTURAL RESEARCH SERVICE   \n",
       "26       2046          OFFICE OF THE COMPTROLLER OF THE CURRENCY   \n",
       "27       1603                            OFFICE OF THE SOLICITOR   \n",
       "28       4740                           PUBLIC BUILDINGS SERVICE   \n",
       "29       12C3             NATURAL RESOURCES CONSERVATION SERVICE   \n",
       "..        ...                                                ...   \n",
       "121      2044                                 UNITED STATES MINT   \n",
       "122      2700                  FEDERAL COMMUNICATIONS COMMISSION   \n",
       "123      9507               COMMODITY FUTURES TRADING COMMISSION   \n",
       "124      4705                  OFFICE OF THE ADMINISTRATOR(ACMD)   \n",
       "125      7529                      NATIONAL INSTITUTES OF HEALTH   \n",
       "126      1540                              FEDERAL PRISON SYSTEM   \n",
       "127      1665               PENSION BENEFIT GUARANTY CORPORATION   \n",
       "128      7003          U.S. CITIZENSHIP AND IMMIGRATION SERVICES   \n",
       "129      1344                        PATENT AND TRADEMARK OFFICE   \n",
       "130      3355                            NATIONAL GALLERY OF ART   \n",
       "131      6000                          RAILROAD RETIREMENT BOARD   \n",
       "132      19BM  INTERNATIONAL BOUNDARY AND WATER COMMISSION: U...   \n",
       "133      8961               FEDERAL ENERGY REGULATORY COMMISSION   \n",
       "134      4704                        OFFICE OF INSPECTOR GENERAL   \n",
       "135      3600                    VETERANS AFFAIRS, DEPARTMENT OF   \n",
       "136      4732                        FEDERAL ACQUISITION SERVICE   \n",
       "137      8000      NATIONAL AERONAUTICS AND SPACE ADMINISTRATION   \n",
       "138      1549                    FEDERAL BUREAU OF INVESTIGATION   \n",
       "139      12D2                                FARM SERVICE AGENCY   \n",
       "140      6940     NATIONAL HIGHWAY TRAFFIC SAFETY ADMINISTRATION   \n",
       "141      6930                    FEDERAL RAILROAD ADMINISTRATION   \n",
       "142      0559                    GAO, EXCEPT COMPTROLLER GENERAL   \n",
       "143      7001                   OFFICE OF PROCUREMENT OPERATIONS   \n",
       "144      7505  OFFICE OF ASSISTANT SECRETARY FOR ADMINISTRATI...   \n",
       "145      9000                           SELECTIVE SERVICE SYSTEM   \n",
       "146      7528         AGENCY FOR HEALTHCARE RESEARCH AND QUALITY   \n",
       "147      1436     BUREAU OF SAFETY AND ENVIRONMENTAL ENFORCEMENT   \n",
       "148      1524                    DRUG ENFORCEMENT ADMINISTRATION   \n",
       "149      12K2                     AGRICULTURAL MARKETING SERVICE   \n",
       "150      1544                              U.S. MARSHALS SERVICE   \n",
       "\n",
       "     vendor_median_annualrevenue  vendor_median_numberofemployees  \\\n",
       "0                            0.0                                0   \n",
       "1                            0.0                                0   \n",
       "2                            0.0                                0   \n",
       "3                         1000.0                               10   \n",
       "4                         1000.0                                1   \n",
       "5                         1000.0                               10   \n",
       "6                        81000.0                                1   \n",
       "7                       100000.0                                2   \n",
       "8                       110000.0                                2   \n",
       "9                       110000.0                                2   \n",
       "10                      128000.0                                5   \n",
       "11                      150000.0                                3   \n",
       "12                      150000.0                                2   \n",
       "13                      500000.0                                7   \n",
       "14                      600000.0                               10   \n",
       "15                      700000.0                               10   \n",
       "16                      757000.0                               11   \n",
       "17                      850000.0                               10   \n",
       "18                      890000.0                               11   \n",
       "19                     1100000.0                               15   \n",
       "20                     1100000.0                               12   \n",
       "21                     1100000.0                               20   \n",
       "22                     1100000.0                               26   \n",
       "23                     1100000.0                               10   \n",
       "24                     1183519.0                               10   \n",
       "25                     1300000.0                               12   \n",
       "26                     1400000.0                               22   \n",
       "27                     1440000.0                               21   \n",
       "28                     1573150.0                                7   \n",
       "29                     1631681.0                               20   \n",
       "..                           ...                              ...   \n",
       "121                   10000000.0                               50   \n",
       "122                   10000000.0                              130   \n",
       "123                   10500000.0                              140   \n",
       "124                   11000000.0                               91   \n",
       "125                   11000000.0                              115   \n",
       "126                   11000000.0                               70   \n",
       "127                   11000000.0                              200   \n",
       "128                   11000000.0                               72   \n",
       "129                   11000645.0                               88   \n",
       "130                   11500000.0                               52   \n",
       "131                   12000000.0                              130   \n",
       "132                   13209362.0                               97   \n",
       "133                   14996000.0                               58   \n",
       "134                   15000000.0                               70   \n",
       "135                   15000000.0                              149   \n",
       "136                   15000000.0                               57   \n",
       "137                   18000000.0                              180   \n",
       "138                   18000000.0                              100   \n",
       "139                   18000000.0                              100   \n",
       "140                   19000000.0                              120   \n",
       "141                   20000000.0                              579   \n",
       "142                   20201548.0                              189   \n",
       "143                   20828724.0                              383   \n",
       "144                   26106972.0                              304   \n",
       "145                   30457000.0                              300   \n",
       "146                   32800000.0                             1200   \n",
       "147                   32850550.0                              141   \n",
       "148                   40000000.0                              350   \n",
       "149                   50000000.0                              296   \n",
       "150                  120000000.0                             2000   \n",
       "\n",
       "     transactions  sum_dollarsobligated  \n",
       "0            1268          1.418465e+08  \n",
       "1            4858          1.808390e+09  \n",
       "2            3857          7.360614e+08  \n",
       "3          906835          9.612514e+10  \n",
       "4           86580          1.719051e+09  \n",
       "5          112903          5.683631e+10  \n",
       "6          140669          1.636968e+10  \n",
       "7           24686          1.554254e+09  \n",
       "8           87659          1.124532e+09  \n",
       "9            1144          1.870609e+08  \n",
       "10          17514          2.408785e+09  \n",
       "11          32309          7.296316e+08  \n",
       "12           1578          1.539304e+07  \n",
       "13          43268          2.834267e+09  \n",
       "14           1202          2.188730e+08  \n",
       "15           5555          1.951988e+09  \n",
       "16           1850          3.831141e+08  \n",
       "17         431521          1.722469e+10  \n",
       "18          10775          1.076623e+09  \n",
       "19          25750          2.632710e+09  \n",
       "20         173546          4.997679e+09  \n",
       "21           3227          2.085935e+08  \n",
       "22          11533          2.786294e+08  \n",
       "23          11108          1.894074e+08  \n",
       "24           2032          1.256019e+08  \n",
       "25           3171          3.087970e+08  \n",
       "26          14898          1.668664e+09  \n",
       "27           1748          5.414278e+07  \n",
       "28        1488711          9.933295e+10  \n",
       "29          44705          1.585386e+09  \n",
       "..            ...                   ...  \n",
       "121         53574          3.109847e+10  \n",
       "122          9954          1.160409e+09  \n",
       "123          5559          5.247360e+08  \n",
       "124          5894          1.319038e+09  \n",
       "125        401609          6.319064e+10  \n",
       "126       1019429          3.446292e+10  \n",
       "127         12647          3.141358e+09  \n",
       "128         37832          8.801395e+09  \n",
       "129         30012          8.576179e+09  \n",
       "130          4034          3.882365e+08  \n",
       "131          5483          2.725028e+08  \n",
       "132          4832          6.288717e+08  \n",
       "133          5678          5.596401e+08  \n",
       "134          1134          3.663729e+07  \n",
       "135       5285240          2.059998e+11  \n",
       "136       1413873          2.911922e+10  \n",
       "137        446963          2.112742e+11  \n",
       "138         72815          1.711656e+10  \n",
       "139         35722          1.874517e+10  \n",
       "140         12252          1.890718e+09  \n",
       "141         12444          8.030557e+08  \n",
       "142          2728          4.145613e+08  \n",
       "143         71728          2.463028e+10  \n",
       "144          5181          1.413397e+10  \n",
       "145          1141          2.356269e+07  \n",
       "146          6719          2.759358e+09  \n",
       "147          2958          2.827946e+08  \n",
       "148        261796          6.429977e+09  \n",
       "149         22835          1.623015e+10  \n",
       "150         78441          7.840888e+09  \n",
       "\n",
       "[151 rows x 6 columns]"
      ]
     },
     "execution_count": 12,
     "metadata": {},
     "output_type": "execute_result"
    }
   ],
   "source": [
    "bq.Query(gpq.vendor_size_by_agency).to_dataframe()"
   ]
  },
  {
   "cell_type": "markdown",
   "metadata": {},
   "source": [
    "The median shows the most likely supplier. Agencies on the top of the table actively employ vendors whose annual revenue is less than $1mn.\n",
    "\n",
    "The Department of Defence, the largest buyer with $4.5tn worth of goods and services bought over these 17 years, has the median vendor with $2.5mn in revenue and 20 employees. It means that half of the DoD's vendors have less than $2.5mn in revenue."
   ]
  },
  {
   "cell_type": "markdown",
   "metadata": {},
   "source": [
    "### Set-Aside Deals Take a Small Share"
   ]
  },
  {
   "cell_type": "markdown",
   "metadata": {},
   "source": [
    "Set-aside purchases are reserved for special categories of suppliers, like women-, minority-, and veteran-owned businesses. There's a lot of confusion about their share in transactions. We can settle this confusion with data:"
   ]
  },
  {
   "cell_type": "code",
   "execution_count": 13,
   "metadata": {
    "collapsed": false
   },
   "outputs": [
    {
     "data": {
      "text/html": [
       "\n",
       "    <div class=\"bqtv\" id=\"8_146516670452\"><table><tr><th>womenownedflag</th><th>transactions</th><th>sum_dollarsobligated</th></tr><tr><td>N</td><td>40191975</td><td>6.4051823538e+12</td></tr><tr><td>Y</td><td>4308966</td><td>2.48395258992e+11</td></tr></table></div>\n",
       "    <br />(rows: 2, time: 1.8s, cached, job: job_iOFnq8ieeeHX2gxQWTCCr4ZOEuE)<br />\n",
       "    <script>\n",
       "      require(['extensions/charting', 'element!8_146516670452', 'style!/static/extensions/charting.css'],\n",
       "        function(charts, dom) {\n",
       "          charts.render(dom,\n",
       "            {\n",
       "              chartStyle:\"table\",\n",
       "              dataName:\"7\",\n",
       "              fields:\"womenownedflag,transactions,sum_dollarsobligated\",\n",
       "              totalRows:2,\n",
       "              rowsPerPage:25,\n",
       "            }, {}, {\"rows\": [{\"c\": [{\"v\": \"N\"}, {\"v\": 40191975}, {\"v\": 6405182353804.281}]}, {\"c\": [{\"v\": \"Y\"}, {\"v\": 4308966}, {\"v\": 248395258992.29}]}], \"cols\": [{\"type\": \"string\", \"id\": \"womenownedflag\", \"label\": \"womenownedflag\"}, {\"type\": \"number\", \"id\": \"transactions\", \"label\": \"transactions\"}, {\"type\": \"number\", \"id\": \"sum_dollarsobligated\", \"label\": \"sum_dollarsobligated\"}]});\n",
       "        }\n",
       "      );\n",
       "    </script>\n",
       "  "
      ],
      "text/plain": [
       "QueryResultsTable job_iOFnq8ieeeHX2gxQWTCCr4ZOEuE"
      ]
     },
     "execution_count": 13,
     "metadata": {},
     "output_type": "execute_result"
    }
   ],
   "source": [
    "%%sql\n",
    "select\n",
    "  womenownedflag,\n",
    "  count(*) transactions,\n",
    "  sum(dollarsobligated) sum_dollarsobligated\n",
    "from\n",
    "  gpqueries:contracts.raw\n",
    "group by\n",
    "  womenownedflag"
   ]
  },
  {
   "cell_type": "markdown",
   "metadata": {},
   "source": [
    "Women-owned businesses make about one tenth of the transactions, but their share in terms of sales is only 3.7%.\n",
    "\n",
    "A cross-tabulation for major set-aside categories:"
   ]
  },
  {
   "cell_type": "code",
   "execution_count": 14,
   "metadata": {
    "collapsed": false
   },
   "outputs": [
    {
     "data": {
      "text/html": [
       "\n",
       "    <div class=\"bqtv\" id=\"9_146516670582\"><table><tr><th>womenownedflag</th><th>veteranownedflag</th><th>minorityownedbusinessflag</th><th>transactions</th><th>sum_dollarsobligated</th></tr><tr><td>N</td><td>N</td><td>Y</td><td>2051978</td><td>2.70617792041e+11</td></tr><tr><td>N</td><td>N</td><td>N</td><td>35286333</td><td>5.91438262215e+12</td></tr><tr><td>N</td><td>Y</td><td>Y</td><td>494617</td><td>61028950046.2</td></tr><tr><td>N</td><td>Y</td><td>N</td><td>2359047</td><td>1.59152989569e+11</td></tr><tr><td>Y</td><td>N</td><td>Y</td><td>862336</td><td>80295343639.0</td></tr><tr><td>Y</td><td>N</td><td>N</td><td>3265163</td><td>1.53867438135e+11</td></tr><tr><td>Y</td><td>Y</td><td>Y</td><td>62597</td><td>5086157754.65</td></tr><tr><td>Y</td><td>Y</td><td>N</td><td>118870</td><td>9146319463.28</td></tr></table></div>\n",
       "    <br />(rows: 8, time: 0.6s, cached, job: job_Qh4DhmZZecFIWeF7Wlah0cQwfSM)<br />\n",
       "    <script>\n",
       "      require(['extensions/charting', 'element!9_146516670582', 'style!/static/extensions/charting.css'],\n",
       "        function(charts, dom) {\n",
       "          charts.render(dom,\n",
       "            {\n",
       "              chartStyle:\"table\",\n",
       "              dataName:\"8\",\n",
       "              fields:\"womenownedflag,veteranownedflag,minorityownedbusinessflag,transactions,sum_dollarsobligated\",\n",
       "              totalRows:8,\n",
       "              rowsPerPage:25,\n",
       "            }, {}, {\"rows\": [{\"c\": [{\"v\": \"N\"}, {\"v\": \"N\"}, {\"v\": \"Y\"}, {\"v\": 2051978}, {\"v\": 270617792041.41986}]}, {\"c\": [{\"v\": \"N\"}, {\"v\": \"N\"}, {\"v\": \"N\"}, {\"v\": 35286333}, {\"v\": 5914382622147.547}]}, {\"c\": [{\"v\": \"N\"}, {\"v\": \"Y\"}, {\"v\": \"Y\"}, {\"v\": 494617}, {\"v\": 61028950046.22998}]}, {\"c\": [{\"v\": \"N\"}, {\"v\": \"Y\"}, {\"v\": \"N\"}, {\"v\": 2359047}, {\"v\": 159152989569.08}]}, {\"c\": [{\"v\": \"Y\"}, {\"v\": \"N\"}, {\"v\": \"Y\"}, {\"v\": 862336}, {\"v\": 80295343639.02997}]}, {\"c\": [{\"v\": \"Y\"}, {\"v\": \"N\"}, {\"v\": \"N\"}, {\"v\": 3265163}, {\"v\": 153867438135.33017}]}, {\"c\": [{\"v\": \"Y\"}, {\"v\": \"Y\"}, {\"v\": \"Y\"}, {\"v\": 62597}, {\"v\": 5086157754.6500025}]}, {\"c\": [{\"v\": \"Y\"}, {\"v\": \"Y\"}, {\"v\": \"N\"}, {\"v\": 118870}, {\"v\": 9146319463.28}]}], \"cols\": [{\"type\": \"string\", \"id\": \"womenownedflag\", \"label\": \"womenownedflag\"}, {\"type\": \"string\", \"id\": \"veteranownedflag\", \"label\": \"veteranownedflag\"}, {\"type\": \"string\", \"id\": \"minorityownedbusinessflag\", \"label\": \"minorityownedbusinessflag\"}, {\"type\": \"number\", \"id\": \"transactions\", \"label\": \"transactions\"}, {\"type\": \"number\", \"id\": \"sum_dollarsobligated\", \"label\": \"sum_dollarsobligated\"}]});\n",
       "        }\n",
       "      );\n",
       "    </script>\n",
       "  "
      ],
      "text/plain": [
       "QueryResultsTable job_Qh4DhmZZecFIWeF7Wlah0cQwfSM"
      ]
     },
     "execution_count": 14,
     "metadata": {},
     "output_type": "execute_result"
    }
   ],
   "source": [
    "%%sql\n",
    "select\n",
    "  womenownedflag, veteranownedflag, minorityownedbusinessflag,\n",
    "  count(*) transactions,\n",
    "  sum(dollarsobligated) sum_dollarsobligated\n",
    "from\n",
    "  gpqueries:contracts.raw\n",
    "group by\n",
    "  womenownedflag, veteranownedflag, minorityownedbusinessflag\n",
    "order by\n",
    "  womenownedflag, veteranownedflag, minorityownedbusinessflag desc"
   ]
  },
  {
   "cell_type": "markdown",
   "metadata": {},
   "source": [
    "For example, firms owned by women, veterans, and minorities (all represented at the same time) sell $5bn in goods and services. That's 0.07% of all government purchases."
   ]
  },
  {
   "cell_type": "markdown",
   "metadata": {},
   "source": [
    "### New Vendors Emerge Each Year"
   ]
  },
  {
   "cell_type": "markdown",
   "metadata": {},
   "source": [
    "Becoming a government contractor may seem difficult at first, but let's see how many new contractors the government had in 2015."
   ]
  },
  {
   "cell_type": "code",
   "execution_count": 15,
   "metadata": {
    "collapsed": false
   },
   "outputs": [
    {
     "data": {
      "text/html": [
       "\n",
       "    <div class=\"bqtv\" id=\"10_146516670749\"><table><tr><th>new_vendors</th><th>old_vendors</th></tr><tr><td>18258</td><td>131537</td></tr></table></div>\n",
       "    <br />(rows: 1, time: 0.7s, cached, job: job_OjFASl4YsdPFMqmG63vz8lXqgzc)<br />\n",
       "    <script>\n",
       "      require(['extensions/charting', 'element!10_146516670749', 'style!/static/extensions/charting.css'],\n",
       "        function(charts, dom) {\n",
       "          charts.render(dom,\n",
       "            {\n",
       "              chartStyle:\"table\",\n",
       "              dataName:\"9\",\n",
       "              fields:\"new_vendors,old_vendors\",\n",
       "              totalRows:1,\n",
       "              rowsPerPage:25,\n",
       "            }, {}, {\"rows\": [{\"c\": [{\"v\": 18258}, {\"v\": 131537}]}], \"cols\": [{\"type\": \"number\", \"id\": \"new_vendors\", \"label\": \"new_vendors\"}, {\"type\": \"number\", \"id\": \"old_vendors\", \"label\": \"old_vendors\"}]});\n",
       "        }\n",
       "      );\n",
       "    </script>\n",
       "  "
      ],
      "text/plain": [
       "QueryResultsTable job_OjFASl4YsdPFMqmG63vz8lXqgzc"
      ]
     },
     "execution_count": 15,
     "metadata": {},
     "output_type": "execute_result"
    }
   ],
   "source": [
    "%%sql\n",
    "select\n",
    "  sum(if(before2015.dunsnumber is null, 1, 0)) new_vendors,\n",
    "  sum(if(before2015.dunsnumber is null, 0, 1)) old_vendors\n",
    "from\n",
    "  flatten((select unique(dunsnumber) dunsnumber from gpqueries:contracts.raw where fiscal_year = 2015), dunsnumber) in2015\n",
    "left join\n",
    "  flatten((select unique(dunsnumber) dunsnumber from gpqueries:contracts.raw where fiscal_year < 2015), dunsnumber) before2015\n",
    "  on before2015.dunsnumber = in2015.dunsnumber"
   ]
  },
  {
   "cell_type": "markdown",
   "metadata": {},
   "source": [
    "(The variable `dunsnumber` refers to the unique number each contractor obtains at [SAM.gov](https://www.sam.gov/portal/SAM/). It identifies unique contractors better than `vendorname`, which varies.)\n",
    "\n",
    "In 2015, 12% of the suppliers turned out to be companies that had never sold to the government."
   ]
  },
  {
   "cell_type": "markdown",
   "metadata": {},
   "source": [
    "## More\n",
    "\n",
    "This was a short intro to government contracting data.\n",
    "\n",
    "For more, check the [Government Procurement Queries](https://github.com/antontarasenko/gpq) project."
   ]
  },
  {
   "cell_type": "markdown",
   "metadata": {},
   "source": [
    "## Contacts"
   ]
  },
  {
   "cell_type": "markdown",
   "metadata": {},
   "source": [
    "Anton Tarasenko\n",
    "\n",
    "<mailto:antontarasenko@gmail.com>\n",
    "\n",
    "<http://antontarasenko.com>\n",
    "\n"
   ]
  }
 ],
 "metadata": {
  "kernelspec": {
   "display_name": "Python 2",
   "language": "python",
   "name": "python2"
  },
  "language_info": {
   "codemirror_mode": {
    "name": "ipython",
    "version": 2
   },
   "file_extension": ".py",
   "mimetype": "text/x-python",
   "name": "python",
   "nbconvert_exporter": "python",
   "pygments_lexer": "ipython2",
   "version": "2.7.9"
  }
 },
 "nbformat": 4,
 "nbformat_minor": 0
}
