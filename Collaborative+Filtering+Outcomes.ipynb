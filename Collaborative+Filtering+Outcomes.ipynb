{
 "cells": [
  {
   "cell_type": "markdown",
   "metadata": {},
   "source": [
    "# Vendor recommender - Collaborative Filtering outcomes\n",
    "@olibolly\n",
    "\n",
    "-  If a person A likes item 1, 2, 3 and B like 2,3,4 then they have similar interests and A should like item 4 and B should like item 1.\n",
    "- Looking at match between gov mod_agency (275) & vendors (770526)\n",
    "- See: https://cambridgespark.com/content/tutorials/implementing-your-own-recommender-systems-in-Python/index.html\n",
    "\n",
    "### OUTCOMES\n",
    "- \n",
    "\n",
    "\n",
    "### TO DO\n",
    "- **TRAINING (1.9M rows) kernel crashed abover 20K -> Need to Map/Reduce or getting a higher performance machine or use another algorithm (matrix factorization)?**\n",
    "- **Think about scaling or binarizing the count data -> to improve results** \n",
    "- **Look at match between product service code (#5833) & vendors (#770526) **\n",
    "- **add FILTER: Geo**\n",
    "- **add FILTER: Already done business with a company?**\n",
    "- **Save outcome in output tables for front end Big query API access**"
   ]
  },
  {
   "cell_type": "code",
   "execution_count": null,
   "metadata": {
    "collapsed": true
   },
   "outputs": [],
   "source": [
    "%%bq query -n df_query\n",
    "select\n",
    "contractingofficerbusinesssizedetermination,\n",
    "mod_agency,\n",
    "vendorname,\n",
    "count(*) as count\n",
    "from `fiery-set-171213.vrec.usa_spending_all`\n",
    "where vendorcountrycode in ('UNITED STATES', 'USA: UNITED STATES OF AMERICA')\n",
    "and contractingofficerbusinesssizedetermination in ('O: OTHER THAN SMALL BUSINESS', 'S: SMALL BUSINESS')\n",
    "and mod_agency not in (\"\")\n",
    "group by 1,2,3\n",
    "order by count DESC\n",
    "limit 20000"
   ]
  },
  {
   "cell_type": "code",
   "execution_count": null,
   "metadata": {
    "collapsed": true
   },
   "outputs": [],
   "source": [
    "df = df_query.execute(output_options=bq.QueryOutput.dataframe()).result()\n",
    "df.head()"
   ]
  },
  {
   "cell_type": "code",
   "execution_count": null,
   "metadata": {
    "collapsed": true
   },
   "outputs": [],
   "source": [
    "df1 = df.drop('contractingofficerbusinesssizedetermination', axis = 1)\n",
    "n_agency = df1.mod_agency.unique().shape[0]\n",
    "n_vendors = df1.vendorname.unique().shape[0]\n",
    "print 'Number of gov agency = ' + str(n_agency) + ' | Number of vendors = ' + str(n_vendors)"
   ]
  },
  {
   "cell_type": "code",
   "execution_count": null,
   "metadata": {
    "collapsed": true
   },
   "outputs": [],
   "source": [
    "# Convert categorial value with label encoding\n",
    "\n",
    "le_agency = LabelEncoder()\n",
    "label_agency = le_agency.fit_transform(df1['mod_agency'])\n",
    "\n",
    "le_vendor = LabelEncoder()\n",
    "label_vendor = le_vendor.fit_transform(df1['vendorname'])\n",
    "\n",
    "df_agency = pd.DataFrame(label_agency)\n",
    "df_vendor = pd.DataFrame(label_vendor)\n",
    "\n",
    "df2 = pd.concat([df_agency, df_vendor], axis = 1)\n",
    "df2 = pd.concat([df2, df1['count']], axis = 1)\n",
    "df2.columns = ['mod_agency', 'vendorname', 'count']\n",
    "df2.head(5)\n",
    "\n",
    "# To ge the right label back\n",
    "# le_agency.inverse_transform([173, 100])"
   ]
  },
  {
   "cell_type": "code",
   "execution_count": null,
   "metadata": {
    "collapsed": true
   },
   "outputs": [],
   "source": [
    "# Split into training and test data set\n",
    "train_data, test_data = cv.train_test_split(df2, test_size=0.25)"
   ]
  },
  {
   "cell_type": "code",
   "execution_count": null,
   "metadata": {
    "collapsed": true
   },
   "outputs": [],
   "source": [
    "#Build the matrix\n",
    "train_data_matrix = np.zeros((n_agency, n_vendors))\n",
    "for line in train_data.itertuples():\n",
    "  train_data_matrix[line[1]-1, line[2]-1] = line[3]\n",
    "\n",
    "test_data_matrix = np.zeros((n_agency, n_vendors))\n",
    "for line in test_data.itertuples():\n",
    "    test_data_matrix[line[1]-1, line[2]-1] = line[3]\n",
    "\n",
    "#Compute cosine distance\n",
    "user_similarity = pairwise_distances(train_data_matrix, metric='cosine')\n",
    "item_similarity = pairwise_distances(train_data_matrix.T, metric='cosine')\n",
    "\n",
    "def predict(ratings, similarity, type='user'):\n",
    "    if type == 'user':\n",
    "        mean_user_rating = ratings.mean(axis=1)\n",
    "        #You use np.newaxis so that mean_user_rating has same format as ratings\n",
    "        ratings_diff = (ratings - mean_user_rating[:, np.newaxis])\n",
    "        pred = mean_user_rating[:, np.newaxis] + similarity.dot(ratings_diff) / np.array([np.abs(similarity).sum(axis=1)]).T\n",
    "    elif type == 'item':\n",
    "        pred = ratings.dot(similarity) / np.array([np.abs(similarity).sum(axis=1)])\n",
    "    return pred\n",
    "  \n",
    "item_prediction = predict(train_data_matrix, item_similarity, type='item')\n",
    "user_prediction = predict(train_data_matrix, user_similarity, type='user')"
   ]
  },
  {
   "cell_type": "code",
   "execution_count": null,
   "metadata": {
    "collapsed": true
   },
   "outputs": [],
   "source": [
    "# Evaluation\n",
    "def rmse(prediction, ground_truth):\n",
    "    prediction = prediction[ground_truth.nonzero()].flatten()\n",
    "    ground_truth = ground_truth[ground_truth.nonzero()].flatten() #filter out all items with no 0 as we only want to predict in the test set\n",
    "    return sqrt(mean_squared_error(prediction, ground_truth))\n",
    "\n",
    "print 'User-based CF RMSE: ' + str(rmse(user_prediction, test_data_matrix))\n",
    "print 'Item-based CF RMSE: ' + str(rmse(item_prediction, test_data_matrix))"
   ]
  },
  {
   "cell_type": "code",
   "execution_count": null,
   "metadata": {
    "collapsed": true
   },
   "outputs": [],
   "source": [
    "print 'Worklow 1'\n",
    "print '=' * 100\n",
    "print 'Select your agency:'\n",
    "agency = df1['mod_agency'][10]\n",
    "print agency\n",
    "print '=' * 100\n",
    "print '1. Have you considered working with these SMB companies (user prediction?'\n",
    "\n",
    "#a = pd.Series(['7300: SMALL BUSINESS ADMINISTRATION', '1205: USDA, OFFICE OF THE CHIEF FINANCIAL OFFICER'])\n",
    "#print a\n",
    "#print type(a)\n",
    "#le_agency.transform(df1['mod_agency'][:5])\n",
    "\n",
    "agency = le_agency.transform(agency)\n",
    "vendor_reco = pd.DataFrame(user_prediction[agency, :])\n",
    "labels = pd.DataFrame(le_vendor.inverse_transform(range(0, len(agency_reco))))\n",
    "\n",
    "df_reco = pd.concat([vendor_reco, labels], axis = 1)\n",
    "df_reco.columns = ['reco_score', 'vendorname']\n",
    "#Join to get the SMB list\n",
    "df_smb = df.drop(['mod_agency', 'count'], axis = 1)\n",
    "df_reco = df_reco.set_index('vendorname').join(df_smb.set_index('vendorname'))\n",
    "\n",
    "df_reco = df_reco.sort_values(['reco_score'], ascending = [0])\n",
    "df_reco[df_reco['contractingofficerbusinesssizedetermination'] == 'S: SMALL BUSINESS'].head(10)\n"
   ]
  },
  {
   "cell_type": "code",
   "execution_count": null,
   "metadata": {
    "collapsed": true
   },
   "outputs": [],
   "source": [
    "print '=' * 100\n",
    "print '2. Have you considered working with these SMB companies (item-item prediction?'\n",
    "vendor_reco = pd.DataFrame(item_prediction[agency, :])\n",
    "\n",
    "df_reco = pd.concat([vendor_reco, labels], axis = 1)\n",
    "df_reco.columns = ['reco_score', 'vendorname']\n",
    "df_reco = df_reco.set_index('vendorname').join(df_smb.set_index('vendorname'))\n",
    "df_reco = df_reco.sort_values(['reco_score'], ascending = [0])\n",
    "df_reco[df_reco['contractingofficerbusinesssizedetermination'] == 'S: SMALL BUSINESS'].head(10)"
   ]
  },
  {
   "cell_type": "code",
   "execution_count": null,
   "metadata": {
    "collapsed": true
   },
   "outputs": [],
   "source": [
    "print 'Worklow 2'\n",
    "print '=' * 100\n",
    "print 'Select a vendor:'\n",
    "\n",
    "# Workflow 2  - WIP\n",
    "# Select a vendor\n",
    "# Other similar vendor"
   ]
  }
 ],
 "metadata": {
  "kernelspec": {
   "display_name": "Python 2",
   "language": "python",
   "name": "python2"
  },
  "language_info": {
   "codemirror_mode": {
    "name": "ipython",
    "version": 2
   },
   "file_extension": ".py",
   "mimetype": "text/x-python",
   "name": "python",
   "nbconvert_exporter": "python",
   "pygments_lexer": "ipython2",
   "version": "2.7.9"
  }
 },
 "nbformat": 4,
 "nbformat_minor": 2
}
