{
 "cells": [
  {
   "cell_type": "markdown",
   "metadata": {},
   "source": [
    "# Vendor Recommender - EDA\n",
    "@olibolly"
   ]
  },
  {
   "cell_type": "markdown",
   "metadata": {},
   "source": [
    "# Open TO-DO\n",
    "- ** Link the notebook with github using ungit - DONE**\n",
    "- ** Provide access to the project if we go for Big query - DONE **\n",
    "- ** Re-pull EDA using updated 2016-2017 data**\n",
    "- ** Further EDA on collaborative filtering**\n",
    "- ** Run first regression to understand what features matter**\n",
    "- ** Join tables FAPIIS and USA spending **"
   ]
  },
  {
   "cell_type": "markdown",
   "metadata": {},
   "source": [
    "## Useful links\n",
    "- https://github.com/antontarasenko/gpq"
   ]
  },
  {
   "cell_type": "markdown",
   "metadata": {},
   "source": [
    "## Dataset"
   ]
  },
  {
   "cell_type": "markdown",
   "metadata": {},
   "source": [
    "\n",
    " - USASpending.gov available on BigQuery dataset (17 years of data, 45mn transactions, $6.7tn worth of goods and services): [gpqueries:contracts](https://bigquery.cloud.google.com/dataset/gpqueries:contracts) \n",
    " - **TODO: Add missing 2016 and 2017 data**\n",
    " - Past Performance Information Retrieval System (PPIRS) -> review - **not public data**\n",
    "     - System for Award Management (SAM)\n",
    "     - FAPIIS\n",
    "     \n",
    " - **Are they any other dataset we should be considering?? **"
   ]
  },
  {
   "cell_type": "markdown",
   "metadata": {},
   "source": [
    "## Table `gpqueries:contracts.raw`"
   ]
  },
  {
   "cell_type": "markdown",
   "metadata": {},
   "source": [
    "Table [`gpqueries:contracts.raw`](https://bigquery.cloud.google.com/table/gpqueries:contracts.raw) contains the unmodified data from the [USASpending.gov archives](https://www.usaspending.gov/DownloadCenter/Pages/dataarchives.aspx). It's constructed from `<year>_All_Contracts_Full_20160515.csv.zip` files and includes contracts from 2000 to May 15, 2016.\n",
    "\n",
    "Table `gpqueries:contracts.raw` contains 45M rows and 225 columns.\n",
    "\n",
    "Each row refers to a transaction (a purchase or refund) made by a federal agency. It may be a pizza or an airplane.\n",
    "\n",
    "The columns are grouped into categories:\n",
    "\n",
    "- Transaction: `unique_transaction_id`-`baseandalloptionsvalue`\n",
    "- Buyer (government agency): `maj_agency_cat`-`fundedbyforeignentity`\n",
    "- Dates: `signeddate`-`lastdatetoorder`, `last_modified_date`\n",
    "- Contract: `contractactiontype`-`programacronym`\n",
    "- Contractor (supplier, vendor): `vendorname`-`statecode`\n",
    "- Place of performance: `PlaceofPerformanceCity`-`placeofperformancecongressionaldistrict`\n",
    "- Product or service bought: `psc_cat`-`manufacturingorganizationtype`\n",
    "- General contract information: `agencyid`-`idvmodificationnumber`\n",
    "- Competitive procedure: `solicitationid`-`statutoryexceptiontofairopportunity`\n",
    "- Contractor details: `organizationaltype`-`otherstatutoryauthority`\n",
    "- Contractor's executives: `prime_awardee_executive1`-`interagencycontractingauthority`\n",
    "\n",
    "Detailed description for each variable is available in the official codebook:\n",
    "\n",
    "- [`USAspending.govDownloadsDataDictionary.pdf`](https://www.usaspending.gov/DownloadCenter/Documents/USAspending.govDownloadsDataDictionary.pdf)"
   ]
  },
  {
   "cell_type": "code",
   "execution_count": 237,
   "metadata": {
    "collapsed": false
   },
   "outputs": [],
   "source": [
    "#import gcp.bigquery as bq\n",
    "import google.datalab.bigquery as bq\n",
    "import pandas as pd\n",
    "import matplotlib.pyplot as plt\n",
    "\n",
    "import numpy as np\n",
    "import scipy as sp\n",
    "from sklearn.linear_model import LinearRegression"
   ]
  },
  {
   "cell_type": "markdown",
   "metadata": {},
   "source": [
    "## SAM (System for Award Management) - exclusions\n",
    "\n",
    "- https://www.sam.gov/sam/transcript/SAM_Exclusions_Public_Extract_Layout.pdf"
   ]
  },
  {
   "cell_type": "code",
   "execution_count": 9,
   "metadata": {
    "collapsed": false
   },
   "outputs": [
    {
     "data": {
      "text/html": [
       "\n",
       "    <div class=\"bqtv\" id=\"3_149779872569\"><table><tr><th>Classification</th><th>Name</th><th>Prefix</th><th>First</th><th>Middle</th><th>Last</th><th>Suffix</th><th>Address_1</th><th>Address_2</th><th>Address_3</th><th>Address_4</th><th>City</th><th>State___Province</th><th>Country</th><th>Zip_Code</th><th>DUNS</th><th>Exclusion_Program</th><th>Excluding_Agency</th><th>CT_Code</th><th>Exclusion_Type</th><th>Additional_Comments</th><th>Active_Date</th><th>Termination_Date</th><th>Record_Status</th><th>Cross_Reference</th><th>SAM_Number</th><th>CAGE</th><th>NPI</th></tr><tr><td></td><td></td><td></td><td>DAMASO</td><td></td><td>LOPEZ NUNEZ</td><td></td><td></td><td></td><td></td><td></td><td>CULIACAN, SINALOA</td><td></td><td>MEX</td><td>80450</td><td></td><td></td><td></td><td></td><td></td><td></td><td>&nbsp;</td><td></td><td></td><td></td><td>S4MR47FDZ</td><td></td><td>&nbsp;</td></tr><tr><td></td><td>ARIA NIKAN MARINE INDUSTRY</td><td></td><td></td><td></td><td></td><td></td><td>NO. 1 ALLOY 7 KOY-E-NASR STREET</td><td></td><td></td><td></td><td>TEHRAN</td><td></td><td>IRN</td><td>144875</td><td></td><td></td><td></td><td></td><td></td><td></td><td>&nbsp;</td><td></td><td></td><td></td><td>S4MR476RD</td><td></td><td>&nbsp;</td></tr><tr><td></td><td>MOVEMENT FOR UNITY AND JIHAD IN WEST AFRICA</td><td></td><td></td><td></td><td></td><td></td><td></td><td></td><td></td><td></td><td>BOUREM</td><td></td><td>MLI</td><td></td><td></td><td></td><td></td><td></td><td></td><td></td><td>&nbsp;</td><td></td><td></td><td></td><td>S4MR476G1</td><td></td><td>&nbsp;</td></tr><tr><td></td><td>TOWLID ABZAR BORESHI IRAN</td><td></td><td></td><td></td><td></td><td></td><td>NO. 66 SARHANG SAKHAEI ST.</td><td>HAFEZ AVENUE</td><td></td><td></td><td>TEHRAN</td><td></td><td>IRN</td><td></td><td></td><td></td><td></td><td></td><td></td><td></td><td>&nbsp;</td><td></td><td></td><td></td><td>S4MR476TP</td><td></td><td>&nbsp;</td></tr><tr><td></td><td></td><td></td><td>ZAKHARY KNYAZEVICH</td><td></td><td>KALASHOV</td><td></td><td></td><td></td><td></td><td></td><td>TBILISI</td><td></td><td>GEO</td><td></td><td></td><td></td><td></td><td></td><td></td><td></td><td>&nbsp;</td><td></td><td></td><td></td><td>S4MR479RJ</td><td></td><td>&nbsp;</td></tr></table></div>\n",
       "    <br />(rows: 5, time: 0.4s,    62MB processed, job: job_zU8b3fCfeyPGQJ-nR6YMjq38PnY)<br />\n",
       "    <script>\n",
       "\n",
       "      require.config({\n",
       "        paths: {\n",
       "          d3: '//cdnjs.cloudflare.com/ajax/libs/d3/3.4.13/d3',\n",
       "          plotly: 'https://cdn.plot.ly/plotly-1.5.1.min.js?noext',\n",
       "          jquery: '//ajax.googleapis.com/ajax/libs/jquery/2.0.0/jquery.min'\n",
       "        },\n",
       "        map: {\n",
       "          '*': {\n",
       "            datalab: 'nbextensions/gcpdatalab'\n",
       "          }\n",
       "        },\n",
       "        shim: {\n",
       "          plotly: {\n",
       "            deps: ['d3', 'jquery'],\n",
       "            exports: 'plotly'\n",
       "          }\n",
       "        }\n",
       "      });\n",
       "\n",
       "      require(['datalab/charting', 'datalab/element!3_149779872569', 'base/js/events',\n",
       "          'datalab/style!/nbextensions/gcpdatalab/charting.css'],\n",
       "        function(charts, dom, events) {\n",
       "          charts.render('gcharts', dom, events, 'table', [], {\"rows\": [{\"c\": [{\"v\": \"\"}, {\"v\": \"\"}, {\"v\": \"\"}, {\"v\": \"DAMASO\"}, {\"v\": \"\"}, {\"v\": \"LOPEZ NUNEZ\"}, {\"v\": \"\"}, {\"v\": \"\"}, {\"v\": \"\"}, {\"v\": \"\"}, {\"v\": \"\"}, {\"v\": \"CULIACAN, SINALOA\"}, {\"v\": \"\"}, {\"v\": \"MEX\"}, {\"v\": \"80450\"}, {\"v\": \"\"}, {\"v\": \"\"}, {\"v\": \"\"}, {\"v\": \"\"}, {\"v\": \"\"}, {\"v\": \"\"}, {\"v\": null}, {\"v\": \"\"}, {\"v\": \"\"}, {\"v\": \"\"}, {\"v\": \"S4MR47FDZ\"}, {\"v\": \"\"}, {\"v\": null}]}, {\"c\": [{\"v\": \"\"}, {\"v\": \"ARIA NIKAN MARINE INDUSTRY\"}, {\"v\": \"\"}, {\"v\": \"\"}, {\"v\": \"\"}, {\"v\": \"\"}, {\"v\": \"\"}, {\"v\": \"NO. 1 ALLOY 7 KOY-E-NASR STREET\"}, {\"v\": \"\"}, {\"v\": \"\"}, {\"v\": \"\"}, {\"v\": \"TEHRAN\"}, {\"v\": \"\"}, {\"v\": \"IRN\"}, {\"v\": \"144875\"}, {\"v\": \"\"}, {\"v\": \"\"}, {\"v\": \"\"}, {\"v\": \"\"}, {\"v\": \"\"}, {\"v\": \"\"}, {\"v\": null}, {\"v\": \"\"}, {\"v\": \"\"}, {\"v\": \"\"}, {\"v\": \"S4MR476RD\"}, {\"v\": \"\"}, {\"v\": null}]}, {\"c\": [{\"v\": \"\"}, {\"v\": \"MOVEMENT FOR UNITY AND JIHAD IN WEST AFRICA\"}, {\"v\": \"\"}, {\"v\": \"\"}, {\"v\": \"\"}, {\"v\": \"\"}, {\"v\": \"\"}, {\"v\": \"\"}, {\"v\": \"\"}, {\"v\": \"\"}, {\"v\": \"\"}, {\"v\": \"BOUREM\"}, {\"v\": \"\"}, {\"v\": \"MLI\"}, {\"v\": \"\"}, {\"v\": \"\"}, {\"v\": \"\"}, {\"v\": \"\"}, {\"v\": \"\"}, {\"v\": \"\"}, {\"v\": \"\"}, {\"v\": null}, {\"v\": \"\"}, {\"v\": \"\"}, {\"v\": \"\"}, {\"v\": \"S4MR476G1\"}, {\"v\": \"\"}, {\"v\": null}]}, {\"c\": [{\"v\": \"\"}, {\"v\": \"TOWLID ABZAR BORESHI IRAN\"}, {\"v\": \"\"}, {\"v\": \"\"}, {\"v\": \"\"}, {\"v\": \"\"}, {\"v\": \"\"}, {\"v\": \"NO. 66 SARHANG SAKHAEI ST.\"}, {\"v\": \"HAFEZ AVENUE\"}, {\"v\": \"\"}, {\"v\": \"\"}, {\"v\": \"TEHRAN\"}, {\"v\": \"\"}, {\"v\": \"IRN\"}, {\"v\": \"\"}, {\"v\": \"\"}, {\"v\": \"\"}, {\"v\": \"\"}, {\"v\": \"\"}, {\"v\": \"\"}, {\"v\": \"\"}, {\"v\": null}, {\"v\": \"\"}, {\"v\": \"\"}, {\"v\": \"\"}, {\"v\": \"S4MR476TP\"}, {\"v\": \"\"}, {\"v\": null}]}, {\"c\": [{\"v\": \"\"}, {\"v\": \"\"}, {\"v\": \"\"}, {\"v\": \"ZAKHARY KNYAZEVICH\"}, {\"v\": \"\"}, {\"v\": \"KALASHOV\"}, {\"v\": \"\"}, {\"v\": \"\"}, {\"v\": \"\"}, {\"v\": \"\"}, {\"v\": \"\"}, {\"v\": \"TBILISI\"}, {\"v\": \"\"}, {\"v\": \"GEO\"}, {\"v\": \"\"}, {\"v\": \"\"}, {\"v\": \"\"}, {\"v\": \"\"}, {\"v\": \"\"}, {\"v\": \"\"}, {\"v\": \"\"}, {\"v\": null}, {\"v\": \"\"}, {\"v\": \"\"}, {\"v\": \"\"}, {\"v\": \"S4MR479RJ\"}, {\"v\": \"\"}, {\"v\": null}]}], \"cols\": [{\"type\": \"string\", \"id\": \"Classification\", \"label\": \"Classification\"}, {\"type\": \"string\", \"id\": \"Name\", \"label\": \"Name\"}, {\"type\": \"string\", \"id\": \"Prefix\", \"label\": \"Prefix\"}, {\"type\": \"string\", \"id\": \"First\", \"label\": \"First\"}, {\"type\": \"string\", \"id\": \"Middle\", \"label\": \"Middle\"}, {\"type\": \"string\", \"id\": \"Last\", \"label\": \"Last\"}, {\"type\": \"string\", \"id\": \"Suffix\", \"label\": \"Suffix\"}, {\"type\": \"string\", \"id\": \"Address_1\", \"label\": \"Address_1\"}, {\"type\": \"string\", \"id\": \"Address_2\", \"label\": \"Address_2\"}, {\"type\": \"string\", \"id\": \"Address_3\", \"label\": \"Address_3\"}, {\"type\": \"string\", \"id\": \"Address_4\", \"label\": \"Address_4\"}, {\"type\": \"string\", \"id\": \"City\", \"label\": \"City\"}, {\"type\": \"string\", \"id\": \"State___Province\", \"label\": \"State___Province\"}, {\"type\": \"string\", \"id\": \"Country\", \"label\": \"Country\"}, {\"type\": \"string\", \"id\": \"Zip_Code\", \"label\": \"Zip_Code\"}, {\"type\": \"string\", \"id\": \"DUNS\", \"label\": \"DUNS\"}, {\"type\": \"string\", \"id\": \"Exclusion_Program\", \"label\": \"Exclusion_Program\"}, {\"type\": \"string\", \"id\": \"Excluding_Agency\", \"label\": \"Excluding_Agency\"}, {\"type\": \"string\", \"id\": \"CT_Code\", \"label\": \"CT_Code\"}, {\"type\": \"string\", \"id\": \"Exclusion_Type\", \"label\": \"Exclusion_Type\"}, {\"type\": \"string\", \"id\": \"Additional_Comments\", \"label\": \"Additional_Comments\"}, {\"type\": \"date\", \"id\": \"Active_Date\", \"label\": \"Active_Date\"}, {\"type\": \"string\", \"id\": \"Termination_Date\", \"label\": \"Termination_Date\"}, {\"type\": \"string\", \"id\": \"Record_Status\", \"label\": \"Record_Status\"}, {\"type\": \"string\", \"id\": \"Cross_Reference\", \"label\": \"Cross_Reference\"}, {\"type\": \"string\", \"id\": \"SAM_Number\", \"label\": \"SAM_Number\"}, {\"type\": \"string\", \"id\": \"CAGE\", \"label\": \"CAGE\"}, {\"type\": \"number\", \"id\": \"NPI\", \"label\": \"NPI\"}]},\n",
       "            {\n",
       "              pageSize: 25,\n",
       "              cssClassNames:  {\n",
       "                tableRow: 'gchart-table-row',\n",
       "                headerRow: 'gchart-table-headerrow',\n",
       "                oddTableRow: 'gchart-table-oddrow',\n",
       "                selectedTableRow: 'gchart-table-selectedrow',\n",
       "                hoverTableRow: 'gchart-table-hoverrow',\n",
       "                tableCell: 'gchart-table-cell',\n",
       "                headerCell: 'gchart-table-headercell',\n",
       "                rowNumberCell: 'gchart-table-rownumcell'\n",
       "              }\n",
       "            },\n",
       "            {source_index: 2, fields: 'Classification,Name,Prefix,First,Middle,Last,Suffix,Address_1,Address_2,Address_3,Address_4,City,State___Province,Country,Zip_Code,DUNS,Exclusion_Program,Excluding_Agency,CT_Code,Exclusion_Type,Additional_Comments,Active_Date,Termination_Date,Record_Status,Cross_Reference,SAM_Number,CAGE,NPI', legacy: 'true'},\n",
       "            0,\n",
       "            5);\n",
       "        }\n",
       "      );\n",
       "    </script>\n",
       "  "
      ],
      "text/plain": [
       "QueryResultsTable job_zU8b3fCfeyPGQJ-nR6YMjq38PnY"
      ]
     },
     "execution_count": 9,
     "metadata": {},
     "output_type": "execute_result"
    }
   ],
   "source": [
    "%%sql\n",
    "select * from [crested-trilogy-136023:vrec.sam_exclusions] limit 5"
   ]
  },
  {
   "cell_type": "code",
   "execution_count": 8,
   "metadata": {
    "collapsed": false
   },
   "outputs": [
    {
     "data": {
      "text/html": [
       "\n",
       "    <div class=\"bqtv\" id=\"2_149779870713\"><table><tr><th>Exclusion_Type</th></tr><tr><td></td></tr><tr><td>Ineligible (Proceedings Completed)</td></tr><tr><td>Voluntary Exclusion</td></tr><tr><td>Ineligible (Proceedings Pending)</td></tr><tr><td>Prohibition/Restriction</td></tr></table></div>\n",
       "    <br />(rows: 5, time: 0.5s,     4MB processed, job: job_9m8kgliYoyZAldVcXTepAHKUTxE)<br />\n",
       "    <script>\n",
       "\n",
       "      require.config({\n",
       "        paths: {\n",
       "          d3: '//cdnjs.cloudflare.com/ajax/libs/d3/3.4.13/d3',\n",
       "          plotly: 'https://cdn.plot.ly/plotly-1.5.1.min.js?noext',\n",
       "          jquery: '//ajax.googleapis.com/ajax/libs/jquery/2.0.0/jquery.min'\n",
       "        },\n",
       "        map: {\n",
       "          '*': {\n",
       "            datalab: 'nbextensions/gcpdatalab'\n",
       "          }\n",
       "        },\n",
       "        shim: {\n",
       "          plotly: {\n",
       "            deps: ['d3', 'jquery'],\n",
       "            exports: 'plotly'\n",
       "          }\n",
       "        }\n",
       "      });\n",
       "\n",
       "      require(['datalab/charting', 'datalab/element!2_149779870713', 'base/js/events',\n",
       "          'datalab/style!/nbextensions/gcpdatalab/charting.css'],\n",
       "        function(charts, dom, events) {\n",
       "          charts.render('gcharts', dom, events, 'table', [], {\"rows\": [{\"c\": [{\"v\": \"\"}]}, {\"c\": [{\"v\": \"Ineligible (Proceedings Completed)\"}]}, {\"c\": [{\"v\": \"Voluntary Exclusion\"}]}, {\"c\": [{\"v\": \"Ineligible (Proceedings Pending)\"}]}, {\"c\": [{\"v\": \"Prohibition/Restriction\"}]}], \"cols\": [{\"type\": \"string\", \"id\": \"Exclusion_Type\", \"label\": \"Exclusion_Type\"}]},\n",
       "            {\n",
       "              pageSize: 25,\n",
       "              cssClassNames:  {\n",
       "                tableRow: 'gchart-table-row',\n",
       "                headerRow: 'gchart-table-headerrow',\n",
       "                oddTableRow: 'gchart-table-oddrow',\n",
       "                selectedTableRow: 'gchart-table-selectedrow',\n",
       "                hoverTableRow: 'gchart-table-hoverrow',\n",
       "                tableCell: 'gchart-table-cell',\n",
       "                headerCell: 'gchart-table-headercell',\n",
       "                rowNumberCell: 'gchart-table-rownumcell'\n",
       "              }\n",
       "            },\n",
       "            {source_index: 1, fields: 'Exclusion_Type', legacy: 'true'},\n",
       "            0,\n",
       "            5);\n",
       "        }\n",
       "      );\n",
       "    </script>\n",
       "  "
      ],
      "text/plain": [
       "QueryResultsTable job_9m8kgliYoyZAldVcXTepAHKUTxE"
      ]
     },
     "execution_count": 8,
     "metadata": {},
     "output_type": "execute_result"
    }
   ],
   "source": [
    "%%sql\n",
    "select Exclusion_Type from [crested-trilogy-136023:vrec.sam_exclusions] group by 1;"
   ]
  },
  {
   "cell_type": "code",
   "execution_count": 10,
   "metadata": {
    "collapsed": false
   },
   "outputs": [
    {
     "data": {
      "text/html": [
       "\n",
       "    <div class=\"bqtv\" id=\"4_149779882753\"><table><tr><th>Classification</th></tr><tr><td></td></tr><tr><td>Individual</td></tr><tr><td>Special Entity Designation</td></tr><tr><td>Firm</td></tr><tr><td>Vessel</td></tr></table></div>\n",
       "    <br />(rows: 5, time: 0.9s,     1MB processed, job: job_8uJ0104zref6Fu3Z_jLCBBrzXms)<br />\n",
       "    <script>\n",
       "\n",
       "      require.config({\n",
       "        paths: {\n",
       "          d3: '//cdnjs.cloudflare.com/ajax/libs/d3/3.4.13/d3',\n",
       "          plotly: 'https://cdn.plot.ly/plotly-1.5.1.min.js?noext',\n",
       "          jquery: '//ajax.googleapis.com/ajax/libs/jquery/2.0.0/jquery.min'\n",
       "        },\n",
       "        map: {\n",
       "          '*': {\n",
       "            datalab: 'nbextensions/gcpdatalab'\n",
       "          }\n",
       "        },\n",
       "        shim: {\n",
       "          plotly: {\n",
       "            deps: ['d3', 'jquery'],\n",
       "            exports: 'plotly'\n",
       "          }\n",
       "        }\n",
       "      });\n",
       "\n",
       "      require(['datalab/charting', 'datalab/element!4_149779882753', 'base/js/events',\n",
       "          'datalab/style!/nbextensions/gcpdatalab/charting.css'],\n",
       "        function(charts, dom, events) {\n",
       "          charts.render('gcharts', dom, events, 'table', [], {\"rows\": [{\"c\": [{\"v\": \"\"}]}, {\"c\": [{\"v\": \"Individual\"}]}, {\"c\": [{\"v\": \"Special Entity Designation\"}]}, {\"c\": [{\"v\": \"Firm\"}]}, {\"c\": [{\"v\": \"Vessel\"}]}], \"cols\": [{\"type\": \"string\", \"id\": \"Classification\", \"label\": \"Classification\"}]},\n",
       "            {\n",
       "              pageSize: 25,\n",
       "              cssClassNames:  {\n",
       "                tableRow: 'gchart-table-row',\n",
       "                headerRow: 'gchart-table-headerrow',\n",
       "                oddTableRow: 'gchart-table-oddrow',\n",
       "                selectedTableRow: 'gchart-table-selectedrow',\n",
       "                hoverTableRow: 'gchart-table-hoverrow',\n",
       "                tableCell: 'gchart-table-cell',\n",
       "                headerCell: 'gchart-table-headercell',\n",
       "                rowNumberCell: 'gchart-table-rownumcell'\n",
       "              }\n",
       "            },\n",
       "            {source_index: 3, fields: 'Classification', legacy: 'true'},\n",
       "            0,\n",
       "            5);\n",
       "        }\n",
       "      );\n",
       "    </script>\n",
       "  "
      ],
      "text/plain": [
       "QueryResultsTable job_8uJ0104zref6Fu3Z_jLCBBrzXms"
      ]
     },
     "execution_count": 10,
     "metadata": {},
     "output_type": "execute_result"
    }
   ],
   "source": [
    "%%sql\n",
    "select Classification from [crested-trilogy-136023:vrec.sam_exclusions] group by 1;"
   ]
  },
  {
   "cell_type": "code",
   "execution_count": 15,
   "metadata": {
    "collapsed": false
   },
   "outputs": [
    {
     "data": {
      "text/html": [
       "\n",
       "    <div class=\"bqtv\" id=\"9_149779923829\"><table><tr><th>f0_</th></tr><tr><td>8659</td></tr></table></div>\n",
       "    <br />(rows: 1, time: 0.2s, cached, job: job_oi6oZcez5ocwdCxkPG5f9RL4ASw)<br />\n",
       "    <script>\n",
       "\n",
       "      require.config({\n",
       "        paths: {\n",
       "          d3: '//cdnjs.cloudflare.com/ajax/libs/d3/3.4.13/d3',\n",
       "          plotly: 'https://cdn.plot.ly/plotly-1.5.1.min.js?noext',\n",
       "          jquery: '//ajax.googleapis.com/ajax/libs/jquery/2.0.0/jquery.min'\n",
       "        },\n",
       "        map: {\n",
       "          '*': {\n",
       "            datalab: 'nbextensions/gcpdatalab'\n",
       "          }\n",
       "        },\n",
       "        shim: {\n",
       "          plotly: {\n",
       "            deps: ['d3', 'jquery'],\n",
       "            exports: 'plotly'\n",
       "          }\n",
       "        }\n",
       "      });\n",
       "\n",
       "      require(['datalab/charting', 'datalab/element!9_149779923829', 'base/js/events',\n",
       "          'datalab/style!/nbextensions/gcpdatalab/charting.css'],\n",
       "        function(charts, dom, events) {\n",
       "          charts.render('gcharts', dom, events, 'table', [], {\"rows\": [{\"c\": [{\"v\": 8659}]}], \"cols\": [{\"type\": \"number\", \"id\": \"f0_\", \"label\": \"f0_\"}]},\n",
       "            {\n",
       "              pageSize: 25,\n",
       "              cssClassNames:  {\n",
       "                tableRow: 'gchart-table-row',\n",
       "                headerRow: 'gchart-table-headerrow',\n",
       "                oddTableRow: 'gchart-table-oddrow',\n",
       "                selectedTableRow: 'gchart-table-selectedrow',\n",
       "                hoverTableRow: 'gchart-table-hoverrow',\n",
       "                tableCell: 'gchart-table-cell',\n",
       "                headerCell: 'gchart-table-headercell',\n",
       "                rowNumberCell: 'gchart-table-rownumcell'\n",
       "              }\n",
       "            },\n",
       "            {source_index: 6, fields: 'f0_', legacy: 'true'},\n",
       "            0,\n",
       "            1);\n",
       "        }\n",
       "      );\n",
       "    </script>\n",
       "  "
      ],
      "text/plain": [
       "QueryResultsTable job_oi6oZcez5ocwdCxkPG5f9RL4ASw"
      ]
     },
     "execution_count": 15,
     "metadata": {},
     "output_type": "execute_result"
    }
   ],
   "source": [
    "%%sql\n",
    "select\n",
    "count(*)\n",
    "from [crested-trilogy-136023:vrec.sam_exclusions] \n",
    "where Classification in ('Firm')\n",
    ";"
   ]
  },
  {
   "cell_type": "markdown",
   "metadata": {},
   "source": [
    "**There are 8,659 firms on the SAM exclusion list**"
   ]
  },
  {
   "cell_type": "code",
   "execution_count": 99,
   "metadata": {
    "collapsed": false
   },
   "outputs": [],
   "source": [
    "%%bq query -n df_query\n",
    "select\n",
    "EXTRACT(YEAR FROM Active_Date) as year,\n",
    "count(*) as count\n",
    "from `crested-trilogy-136023.vrec.sam_exclusions`\n",
    "where Classification in ('Firm')\n",
    "and Active_Date is not NULL\n",
    "group by 1\n",
    "order by 1;"
   ]
  },
  {
   "cell_type": "code",
   "execution_count": 104,
   "metadata": {
    "collapsed": false
   },
   "outputs": [
    {
     "data": {
      "text/plain": [
       "<matplotlib.text.Text at 0x7f95286ab7d0>"
      ]
     },
     "execution_count": 104,
     "metadata": {},
     "output_type": "execute_result"
    },
    {
     "data": {
      "image/png": "[encoded data removed]",
      "text/plain": [
       "<matplotlib.figure.Figure at 0x7f952860ee10>"
      ]
     },
     "metadata": {},
     "output_type": "display_data"
    }
   ],
   "source": [
    "df = df_query.execute(output_options=bq.QueryOutput.dataframe()).result()\n",
    "\n",
    "ax = df.plot(kind='bar', x='year', title='Excluded Firms per year', figsize=(15,8))\n",
    "ax.set_xlabel('Year')\n",
    "ax.set_ylabel('count')"
   ]
  },
  {
   "cell_type": "code",
   "execution_count": 120,
   "metadata": {
    "collapsed": false
   },
   "outputs": [
    {
     "data": {
      "text/html": [
       "\n",
       "    <div class=\"bqtv\" id=\"20_149781257632\"><table><tr><th>SAM_Number</th><th>count</th></tr><tr><td>S4MR4D26H</td><td>6</td></tr><tr><td>S4MR1SHZ2</td><td>4</td></tr><tr><td>S4MR3MGDX</td><td>3</td></tr><tr><td>S4MR3MKV5</td><td>3</td></tr><tr><td>S4MR3MQNF</td><td>3</td></tr></table></div>\n",
       "    <br />(rows: 5, time: 1.3s,     3MB processed, job: job_0obaaPDhjDQX9qY4t1kvQe10Tvo)<br />\n",
       "    <script>\n",
       "\n",
       "      require.config({\n",
       "        paths: {\n",
       "          d3: '//cdnjs.cloudflare.com/ajax/libs/d3/3.4.13/d3',\n",
       "          plotly: 'https://cdn.plot.ly/plotly-1.5.1.min.js?noext',\n",
       "          jquery: '//ajax.googleapis.com/ajax/libs/jquery/2.0.0/jquery.min'\n",
       "        },\n",
       "        map: {\n",
       "          '*': {\n",
       "            datalab: 'nbextensions/gcpdatalab'\n",
       "          }\n",
       "        },\n",
       "        shim: {\n",
       "          plotly: {\n",
       "            deps: ['d3', 'jquery'],\n",
       "            exports: 'plotly'\n",
       "          }\n",
       "        }\n",
       "      });\n",
       "\n",
       "      require(['datalab/charting', 'datalab/element!20_149781257632', 'base/js/events',\n",
       "          'datalab/style!/nbextensions/gcpdatalab/charting.css'],\n",
       "        function(charts, dom, events) {\n",
       "          charts.render('gcharts', dom, events, 'table', [], {\"rows\": [{\"c\": [{\"v\": \"S4MR4D26H\"}, {\"v\": 6}]}, {\"c\": [{\"v\": \"S4MR1SHZ2\"}, {\"v\": 4}]}, {\"c\": [{\"v\": \"S4MR3MGDX\"}, {\"v\": 3}]}, {\"c\": [{\"v\": \"S4MR3MKV5\"}, {\"v\": 3}]}, {\"c\": [{\"v\": \"S4MR3MQNF\"}, {\"v\": 3}]}], \"cols\": [{\"type\": \"string\", \"id\": \"SAM_Number\", \"label\": \"SAM_Number\"}, {\"type\": \"number\", \"id\": \"count\", \"label\": \"count\"}]},\n",
       "            {\n",
       "              pageSize: 25,\n",
       "              cssClassNames:  {\n",
       "                tableRow: 'gchart-table-row',\n",
       "                headerRow: 'gchart-table-headerrow',\n",
       "                oddTableRow: 'gchart-table-oddrow',\n",
       "                selectedTableRow: 'gchart-table-selectedrow',\n",
       "                hoverTableRow: 'gchart-table-hoverrow',\n",
       "                tableCell: 'gchart-table-cell',\n",
       "                headerCell: 'gchart-table-headercell',\n",
       "                rowNumberCell: 'gchart-table-rownumcell'\n",
       "              }\n",
       "            },\n",
       "            {source_index: 18, fields: 'SAM_Number,count'},\n",
       "            0,\n",
       "            5);\n",
       "        }\n",
       "      );\n",
       "    </script>\n",
       "  "
      ],
      "text/plain": [
       "QueryResultsTable job_0obaaPDhjDQX9qY4t1kvQe10Tvo"
      ]
     },
     "execution_count": 120,
     "metadata": {},
     "output_type": "execute_result"
    }
   ],
   "source": [
    "%%bq query\n",
    "select\n",
    "#Name,\n",
    "SAM_Number,\n",
    "count(*) as count\n",
    "from `crested-trilogy-136023.vrec.sam_exclusions`\n",
    "where Classification in ('Firm')\n",
    "#and Active_Date is not NULL\n",
    "group by 1\n",
    "order by 2 DESC\n",
    "limit 5;"
   ]
  },
  {
   "cell_type": "code",
   "execution_count": 118,
   "metadata": {
    "collapsed": false
   },
   "outputs": [
    {
     "data": {
      "text/html": [
       "\n",
       "    <div class=\"bqtv\" id=\"18_149781254560\"><table><tr><th>NPI</th><th>count</th></tr><tr><td>&nbsp;</td><td>8496</td></tr><tr><td>0</td><td>7</td></tr><tr><td>1215968847</td><td>4</td></tr><tr><td>1437333259</td><td>4</td></tr><tr><td>1083746069</td><td>3</td></tr></table></div>\n",
       "    <br />(rows: 5, time: 1.2s,     1MB processed, job: job_oYifp2x1Vnek3kwOVhnyGuhoUmI)<br />\n",
       "    <script>\n",
       "\n",
       "      require.config({\n",
       "        paths: {\n",
       "          d3: '//cdnjs.cloudflare.com/ajax/libs/d3/3.4.13/d3',\n",
       "          plotly: 'https://cdn.plot.ly/plotly-1.5.1.min.js?noext',\n",
       "          jquery: '//ajax.googleapis.com/ajax/libs/jquery/2.0.0/jquery.min'\n",
       "        },\n",
       "        map: {\n",
       "          '*': {\n",
       "            datalab: 'nbextensions/gcpdatalab'\n",
       "          }\n",
       "        },\n",
       "        shim: {\n",
       "          plotly: {\n",
       "            deps: ['d3', 'jquery'],\n",
       "            exports: 'plotly'\n",
       "          }\n",
       "        }\n",
       "      });\n",
       "\n",
       "      require(['datalab/charting', 'datalab/element!18_149781254560', 'base/js/events',\n",
       "          'datalab/style!/nbextensions/gcpdatalab/charting.css'],\n",
       "        function(charts, dom, events) {\n",
       "          charts.render('gcharts', dom, events, 'table', [], {\"rows\": [{\"c\": [{\"v\": null}, {\"v\": 8496}]}, {\"c\": [{\"v\": 0}, {\"v\": 7}]}, {\"c\": [{\"v\": 1215968847}, {\"v\": 4}]}, {\"c\": [{\"v\": 1437333259}, {\"v\": 4}]}, {\"c\": [{\"v\": 1083746069}, {\"v\": 3}]}], \"cols\": [{\"type\": \"number\", \"id\": \"NPI\", \"label\": \"NPI\"}, {\"type\": \"number\", \"id\": \"count\", \"label\": \"count\"}]},\n",
       "            {\n",
       "              pageSize: 25,\n",
       "              cssClassNames:  {\n",
       "                tableRow: 'gchart-table-row',\n",
       "                headerRow: 'gchart-table-headerrow',\n",
       "                oddTableRow: 'gchart-table-oddrow',\n",
       "                selectedTableRow: 'gchart-table-selectedrow',\n",
       "                hoverTableRow: 'gchart-table-hoverrow',\n",
       "                tableCell: 'gchart-table-cell',\n",
       "                headerCell: 'gchart-table-headercell',\n",
       "                rowNumberCell: 'gchart-table-rownumcell'\n",
       "              }\n",
       "            },\n",
       "            {source_index: 16, fields: 'NPI,count'},\n",
       "            0,\n",
       "            5);\n",
       "        }\n",
       "      );\n",
       "    </script>\n",
       "  "
      ],
      "text/plain": [
       "QueryResultsTable job_oYifp2x1Vnek3kwOVhnyGuhoUmI"
      ]
     },
     "execution_count": 118,
     "metadata": {},
     "output_type": "execute_result"
    }
   ],
   "source": [
    "%%bq query\n",
    "select\n",
    "NPI,\n",
    "count(*) as count\n",
    "from `crested-trilogy-136023.vrec.sam_exclusions`\n",
    "where Classification in ('Firm')\n",
    "#and CAGE is not NULL\n",
    "group by 1\n",
    "order by 2 DESC\n",
    "limit 5;"
   ]
  },
  {
   "cell_type": "code",
   "execution_count": 119,
   "metadata": {
    "collapsed": false
   },
   "outputs": [
    {
     "data": {
      "text/html": [
       "\n",
       "    <div class=\"bqtv\" id=\"19_149781255650\"><table><tr><th>CAGE</th><th>count</th></tr><tr><td></td><td>8102</td></tr><tr><td>0TEF4</td><td>4</td></tr><tr><td>4LD15</td><td>4</td></tr><tr><td>1YEC5</td><td>4</td></tr><tr><td>5S6L2</td><td>4</td></tr></table></div>\n",
       "    <br />(rows: 5, time: 1.2s,     2MB processed, job: job_npPj2naoYv_fhU34UnuwSYNLya4)<br />\n",
       "    <script>\n",
       "\n",
       "      require.config({\n",
       "        paths: {\n",
       "          d3: '//cdnjs.cloudflare.com/ajax/libs/d3/3.4.13/d3',\n",
       "          plotly: 'https://cdn.plot.ly/plotly-1.5.1.min.js?noext',\n",
       "          jquery: '//ajax.googleapis.com/ajax/libs/jquery/2.0.0/jquery.min'\n",
       "        },\n",
       "        map: {\n",
       "          '*': {\n",
       "            datalab: 'nbextensions/gcpdatalab'\n",
       "          }\n",
       "        },\n",
       "        shim: {\n",
       "          plotly: {\n",
       "            deps: ['d3', 'jquery'],\n",
       "            exports: 'plotly'\n",
       "          }\n",
       "        }\n",
       "      });\n",
       "\n",
       "      require(['datalab/charting', 'datalab/element!19_149781255650', 'base/js/events',\n",
       "          'datalab/style!/nbextensions/gcpdatalab/charting.css'],\n",
       "        function(charts, dom, events) {\n",
       "          charts.render('gcharts', dom, events, 'table', [], {\"rows\": [{\"c\": [{\"v\": \"\"}, {\"v\": 8102}]}, {\"c\": [{\"v\": \"0TEF4\"}, {\"v\": 4}]}, {\"c\": [{\"v\": \"4LD15\"}, {\"v\": 4}]}, {\"c\": [{\"v\": \"1YEC5\"}, {\"v\": 4}]}, {\"c\": [{\"v\": \"5S6L2\"}, {\"v\": 4}]}], \"cols\": [{\"type\": \"string\", \"id\": \"CAGE\", \"label\": \"CAGE\"}, {\"type\": \"number\", \"id\": \"count\", \"label\": \"count\"}]},\n",
       "            {\n",
       "              pageSize: 25,\n",
       "              cssClassNames:  {\n",
       "                tableRow: 'gchart-table-row',\n",
       "                headerRow: 'gchart-table-headerrow',\n",
       "                oddTableRow: 'gchart-table-oddrow',\n",
       "                selectedTableRow: 'gchart-table-selectedrow',\n",
       "                hoverTableRow: 'gchart-table-hoverrow',\n",
       "                tableCell: 'gchart-table-cell',\n",
       "                headerCell: 'gchart-table-headercell',\n",
       "                rowNumberCell: 'gchart-table-rownumcell'\n",
       "              }\n",
       "            },\n",
       "            {source_index: 17, fields: 'CAGE,count'},\n",
       "            0,\n",
       "            5);\n",
       "        }\n",
       "      );\n",
       "    </script>\n",
       "  "
      ],
      "text/plain": [
       "QueryResultsTable job_npPj2naoYv_fhU34UnuwSYNLya4"
      ]
     },
     "execution_count": 119,
     "metadata": {},
     "output_type": "execute_result"
    }
   ],
   "source": [
    "%%bq query\n",
    "select\n",
    "CAGE,\n",
    "count(*) as count\n",
    "from `crested-trilogy-136023.vrec.sam_exclusions`\n",
    "where Classification in ('Firm')\n",
    "#and CAGE is not NULL\n",
    "group by 1\n",
    "order by 2 DESC\n",
    "limit 5;"
   ]
  },
  {
   "cell_type": "markdown",
   "metadata": {},
   "source": [
    "** NPI and CAGE don't seem to be great keys to join the data - ideally we can use SAM ** "
   ]
  },
  {
   "cell_type": "markdown",
   "metadata": {},
   "source": [
    "## Federal Awardee Performance and Integrity Information System (FAPIIS)\n",
    "- This is the contractor's fault - you can do business with these contractors on SAM one cannot do business with\n",
    "- Only 5 years by design"
   ]
  },
  {
   "cell_type": "code",
   "execution_count": 122,
   "metadata": {
    "collapsed": false
   },
   "outputs": [
    {
     "data": {
      "text/html": [
       "\n",
       "    <div class=\"bqtv\" id=\"21_149781660287\"><table><tr><th>AGENCY</th><th>RECORD_TYPE</th><th>RECORD_DATE</th><th>CONTRACT_GRANT_NUMBER</th><th>REFERENCED_NUMBER</th><th>SOLICITATION_FUNDING_NUMBER</th><th>DUNS</th><th>CAGE</th><th>AWARDEE_NAME</th><th>ADDRESS1</th><th>ADDRESS2</th><th>CITY</th><th>STATE</th><th>ZIP_CODE</th><th>COUNTRY</th><th>VIOLATION_AGAINST</th><th>SUBCONTRACTOR_DUNS</th><th>SUBCONTRACTOR_CAGE</th><th>SUBCONTRACTOR_NAME</th><th>SUBCONTRACTOR_ADDRESS1</th><th>SUBCONTRACTOR_ADDRESS2</th><th>SUBCONTRACTOR_CITY</th><th>SUBCONTRACTOR_STATE</th><th>SUBCONTRACTOR_ZIP_CODE</th><th>SUBCONTRACTOR_COUNTRY</th><th>FSC</th><th>NAICS</th><th>AGENCY_CODE</th><th>CODE_2</th><th>OFFICIAL_NAME</th><th>OFFICIAL_PHONE</th><th>OFFICIAL_EMAIL</th><th>TERMINATION_TYPE</th><th>TERMINATION_DATE</th><th>USER</th><th>EMAIL</th><th>PHONE</th><th>COMMENTS</th></tr><tr><td>STATE, DEPARTMENT OF</td><td>Termination for Material Failure to Comply</td><td>2016-06-29</td><td>SWA80014GR035</td><td>&nbsp;</td><td>&nbsp;</td><td>539146515</td><td>&nbsp;</td><td>LUDWIG NDINDA PRIMARY PLAYGROUND PROJECT</td><td>P.O. BOX 15</td><td>&nbsp;</td><td>OKAKARARA</td><td>&nbsp;</td><td>&nbsp;</td><td>NAM</td><td>&nbsp;</td><td>&nbsp;</td><td>&nbsp;</td><td>&nbsp;</td><td>&nbsp;</td><td>&nbsp;</td><td>&nbsp;</td><td>&nbsp;</td><td>&nbsp;</td><td>&nbsp;</td><td>&nbsp;</td><td>&nbsp;</td><td>&nbsp;</td><td>1900</td><td>KRISTEN ERTHUM</td><td>202-647-7915</td><td>erthumk@state.gov</td><td>N/A</td><td>&nbsp;</td><td>&nbsp;</td><td>&nbsp;</td><td>&nbsp;</td><td>&nbsp;</td></tr><tr><td>DEPT OF THE NAVY</td><td>DoD Determination of Contractor Fault</td><td>2014-01-21</td><td>M6261313P0177</td><td>&nbsp;</td><td>&nbsp;</td><td>12820064</td><td>&nbsp;</td><td>NASSAU CABLE CORP</td><td>150 GREAT NECK RD STE 305</td><td>&nbsp;</td><td>GREAT NECK</td><td>NY</td><td>11021</td><td>US</td><td>&nbsp;</td><td>&nbsp;</td><td>&nbsp;</td><td>&nbsp;</td><td>&nbsp;</td><td>&nbsp;</td><td>&nbsp;</td><td>&nbsp;</td><td>&nbsp;</td><td>&nbsp;</td><td>&nbsp;</td><td>5895</td><td>331420</td><td>1700</td><td>KIM SAKURA HIGA</td><td>81989702577</td><td>sakura.higa@usmc.mil</td><td>N/A</td><td>&nbsp;</td><td>&nbsp;</td><td>&nbsp;</td><td>&nbsp;</td><td>&nbsp;</td></tr><tr><td>STATE, DEPARTMENT OF</td><td>Termination for Material Failure to Comply</td><td>2016-02-08</td><td>SCE20012GR094</td><td>&nbsp;</td><td>&nbsp;</td><td>659427269</td><td>&nbsp;</td><td>ORGANIZATION FOR HABITATION AND RESOURCES DEVELOPMENT</td><td>258, 18, RAILWAY STATION ROAD, THILLAYADI</td><td>&nbsp;</td><td>PUTTALAM</td><td>&nbsp;</td><td>&nbsp;</td><td>LKA</td><td>&nbsp;</td><td>&nbsp;</td><td>&nbsp;</td><td>&nbsp;</td><td>&nbsp;</td><td>&nbsp;</td><td>&nbsp;</td><td>&nbsp;</td><td>&nbsp;</td><td>&nbsp;</td><td>&nbsp;</td><td>&nbsp;</td><td>&nbsp;</td><td>1900</td><td>ELIADAH COE</td><td>202-647-9544</td><td>coeem@state.gov</td><td>N/A</td><td>&nbsp;</td><td>&nbsp;</td><td>&nbsp;</td><td>&nbsp;</td><td>&nbsp;</td></tr><tr><td>INTERIOR, DEPARTMENT OF THE</td><td>Subcontractor Payment Issues</td><td>2015-11-05</td><td>INR15PX00625</td><td>&nbsp;</td><td>&nbsp;</td><td>44271201</td><td>&nbsp;</td><td>D T M ASSOCIATES LIMITED LIABILITY COMPANY</td><td>1200 PENNSYLVANIA AVE</td><td>&nbsp;</td><td>MCDONOUGH</td><td>GA</td><td>302538999</td><td>USA</td><td>&nbsp;</td><td>&nbsp;</td><td>&nbsp;</td><td>&nbsp;</td><td>&nbsp;</td><td>&nbsp;</td><td>&nbsp;</td><td>&nbsp;</td><td>&nbsp;</td><td>&nbsp;</td><td>&nbsp;</td><td>3750</td><td>333112</td><td>1400</td><td>LYNETTE ROCK</td><td>801-524-3798</td><td>lrock@usbr.gov</td><td>N/A</td><td>&nbsp;</td><td>&nbsp;</td><td>&nbsp;</td><td>&nbsp;</td><td>&nbsp;</td></tr><tr><td>DEPT OF THE NAVY</td><td>DoD Determination of Contractor Fault</td><td>2017-01-09</td><td>N6883616P1114</td><td>&nbsp;</td><td>&nbsp;</td><td>79862858</td><td>7E6E6</td><td>OBELLO INC</td><td>7604 E 117TH TER</td><td>&nbsp;</td><td>KANSAS CITY</td><td>MO</td><td>641343925</td><td>USA</td><td>&nbsp;</td><td>&nbsp;</td><td>&nbsp;</td><td>&nbsp;</td><td>&nbsp;</td><td>&nbsp;</td><td>&nbsp;</td><td>&nbsp;</td><td>&nbsp;</td><td>&nbsp;</td><td>&nbsp;</td><td>D399</td><td>517919</td><td>1700</td><td>DAVID DIAZ</td><td>912-573-2656</td><td>david.diaz1@navy.mil</td><td>N/A</td><td>&nbsp;</td><td>&nbsp;</td><td>&nbsp;</td><td>&nbsp;</td><td>&nbsp;</td></tr></table></div>\n",
       "    <br />(rows: 5, time: 7.4s,   943KB processed, job: job_VaeEzVVvaOfVObk05r9cPmT6M_M)<br />\n",
       "    <script>\n",
       "\n",
       "      require.config({\n",
       "        paths: {\n",
       "          d3: '//cdnjs.cloudflare.com/ajax/libs/d3/3.4.13/d3',\n",
       "          plotly: 'https://cdn.plot.ly/plotly-1.5.1.min.js?noext',\n",
       "          jquery: '//ajax.googleapis.com/ajax/libs/jquery/2.0.0/jquery.min'\n",
       "        },\n",
       "        map: {\n",
       "          '*': {\n",
       "            datalab: 'nbextensions/gcpdatalab'\n",
       "          }\n",
       "        },\n",
       "        shim: {\n",
       "          plotly: {\n",
       "            deps: ['d3', 'jquery'],\n",
       "            exports: 'plotly'\n",
       "          }\n",
       "        }\n",
       "      });\n",
       "\n",
       "      require(['datalab/charting', 'datalab/element!21_149781660287', 'base/js/events',\n",
       "          'datalab/style!/nbextensions/gcpdatalab/charting.css'],\n",
       "        function(charts, dom, events) {\n",
       "          charts.render('gcharts', dom, events, 'table', [], {\"rows\": [{\"c\": [{\"v\": \"STATE, DEPARTMENT OF\"}, {\"v\": \"Termination for Material Failure to Comply\"}, {\"v\": \"2016-06-29\"}, {\"v\": \"SWA80014GR035\"}, {\"v\": null}, {\"v\": null}, {\"v\": 539146515}, {\"v\": null}, {\"v\": \"LUDWIG NDINDA PRIMARY PLAYGROUND PROJECT\"}, {\"v\": \"P.O. BOX 15\"}, {\"v\": null}, {\"v\": \"OKAKARARA\"}, {\"v\": null}, {\"v\": null}, {\"v\": \"NAM\"}, {\"v\": null}, {\"v\": null}, {\"v\": null}, {\"v\": null}, {\"v\": null}, {\"v\": null}, {\"v\": null}, {\"v\": null}, {\"v\": null}, {\"v\": null}, {\"v\": null}, {\"v\": null}, {\"v\": null}, {\"v\": \"1900\"}, {\"v\": \"KRISTEN ERTHUM\"}, {\"v\": \"202-647-7915\"}, {\"v\": \"erthumk@state.gov\"}, {\"v\": \"N/A\"}, {\"v\": null}, {\"v\": null}, {\"v\": null}, {\"v\": null}, {\"v\": null}]}, {\"c\": [{\"v\": \"DEPT OF THE NAVY\"}, {\"v\": \"DoD Determination of Contractor Fault\"}, {\"v\": \"2014-01-21\"}, {\"v\": \"M6261313P0177\"}, {\"v\": null}, {\"v\": null}, {\"v\": 12820064}, {\"v\": null}, {\"v\": \"NASSAU CABLE CORP\"}, {\"v\": \"150 GREAT NECK RD STE 305\"}, {\"v\": null}, {\"v\": \"GREAT NECK\"}, {\"v\": \"NY\"}, {\"v\": \"11021\"}, {\"v\": \"US\"}, {\"v\": null}, {\"v\": null}, {\"v\": null}, {\"v\": null}, {\"v\": null}, {\"v\": null}, {\"v\": null}, {\"v\": null}, {\"v\": null}, {\"v\": null}, {\"v\": null}, {\"v\": \"5895\"}, {\"v\": 331420}, {\"v\": \"1700\"}, {\"v\": \"KIM SAKURA HIGA\"}, {\"v\": \"81989702577\"}, {\"v\": \"sakura.higa@usmc.mil\"}, {\"v\": \"N/A\"}, {\"v\": null}, {\"v\": null}, {\"v\": null}, {\"v\": null}, {\"v\": null}]}, {\"c\": [{\"v\": \"STATE, DEPARTMENT OF\"}, {\"v\": \"Termination for Material Failure to Comply\"}, {\"v\": \"2016-02-08\"}, {\"v\": \"SCE20012GR094\"}, {\"v\": null}, {\"v\": null}, {\"v\": 659427269}, {\"v\": null}, {\"v\": \"ORGANIZATION FOR HABITATION AND RESOURCES DEVELOPMENT\"}, {\"v\": \"258, 18, RAILWAY STATION ROAD, THILLAYADI\"}, {\"v\": null}, {\"v\": \"PUTTALAM\"}, {\"v\": null}, {\"v\": null}, {\"v\": \"LKA\"}, {\"v\": null}, {\"v\": null}, {\"v\": null}, {\"v\": null}, {\"v\": null}, {\"v\": null}, {\"v\": null}, {\"v\": null}, {\"v\": null}, {\"v\": null}, {\"v\": null}, {\"v\": null}, {\"v\": null}, {\"v\": \"1900\"}, {\"v\": \"ELIADAH COE\"}, {\"v\": \"202-647-9544\"}, {\"v\": \"coeem@state.gov\"}, {\"v\": \"N/A\"}, {\"v\": null}, {\"v\": null}, {\"v\": null}, {\"v\": null}, {\"v\": null}]}, {\"c\": [{\"v\": \"INTERIOR, DEPARTMENT OF THE\"}, {\"v\": \"Subcontractor Payment Issues\"}, {\"v\": \"2015-11-05\"}, {\"v\": \"INR15PX00625\"}, {\"v\": null}, {\"v\": null}, {\"v\": 44271201}, {\"v\": null}, {\"v\": \"D T M ASSOCIATES LIMITED LIABILITY COMPANY\"}, {\"v\": \"1200 PENNSYLVANIA AVE\"}, {\"v\": null}, {\"v\": \"MCDONOUGH\"}, {\"v\": \"GA\"}, {\"v\": \"302538999\"}, {\"v\": \"USA\"}, {\"v\": null}, {\"v\": null}, {\"v\": null}, {\"v\": null}, {\"v\": null}, {\"v\": null}, {\"v\": null}, {\"v\": null}, {\"v\": null}, {\"v\": null}, {\"v\": null}, {\"v\": \"3750\"}, {\"v\": 333112}, {\"v\": \"1400\"}, {\"v\": \"LYNETTE ROCK\"}, {\"v\": \"801-524-3798\"}, {\"v\": \"lrock@usbr.gov\"}, {\"v\": \"N/A\"}, {\"v\": null}, {\"v\": null}, {\"v\": null}, {\"v\": null}, {\"v\": null}]}, {\"c\": [{\"v\": \"DEPT OF THE NAVY\"}, {\"v\": \"DoD Determination of Contractor Fault\"}, {\"v\": \"2017-01-09\"}, {\"v\": \"N6883616P1114\"}, {\"v\": null}, {\"v\": null}, {\"v\": 79862858}, {\"v\": \"7E6E6\"}, {\"v\": \"OBELLO INC\"}, {\"v\": \"7604 E 117TH TER\"}, {\"v\": null}, {\"v\": \"KANSAS CITY\"}, {\"v\": \"MO\"}, {\"v\": \"641343925\"}, {\"v\": \"USA\"}, {\"v\": null}, {\"v\": null}, {\"v\": null}, {\"v\": null}, {\"v\": null}, {\"v\": null}, {\"v\": null}, {\"v\": null}, {\"v\": null}, {\"v\": null}, {\"v\": null}, {\"v\": \"D399\"}, {\"v\": 517919}, {\"v\": \"1700\"}, {\"v\": \"DAVID DIAZ\"}, {\"v\": \"912-573-2656\"}, {\"v\": \"david.diaz1@navy.mil\"}, {\"v\": \"N/A\"}, {\"v\": null}, {\"v\": null}, {\"v\": null}, {\"v\": null}, {\"v\": null}]}], \"cols\": [{\"type\": \"string\", \"id\": \"AGENCY\", \"label\": \"AGENCY\"}, {\"type\": \"string\", \"id\": \"RECORD_TYPE\", \"label\": \"RECORD_TYPE\"}, {\"type\": \"date\", \"id\": \"RECORD_DATE\", \"label\": \"RECORD_DATE\"}, {\"type\": \"string\", \"id\": \"CONTRACT_GRANT_NUMBER\", \"label\": \"CONTRACT_GRANT_NUMBER\"}, {\"type\": \"string\", \"id\": \"REFERENCED_NUMBER\", \"label\": \"REFERENCED_NUMBER\"}, {\"type\": \"string\", \"id\": \"SOLICITATION_FUNDING_NUMBER\", \"label\": \"SOLICITATION_FUNDING_NUMBER\"}, {\"type\": \"number\", \"id\": \"DUNS\", \"label\": \"DUNS\"}, {\"type\": \"string\", \"id\": \"CAGE\", \"label\": \"CAGE\"}, {\"type\": \"string\", \"id\": \"AWARDEE_NAME\", \"label\": \"AWARDEE_NAME\"}, {\"type\": \"string\", \"id\": \"ADDRESS1\", \"label\": \"ADDRESS1\"}, {\"type\": \"string\", \"id\": \"ADDRESS2\", \"label\": \"ADDRESS2\"}, {\"type\": \"string\", \"id\": \"CITY\", \"label\": \"CITY\"}, {\"type\": \"string\", \"id\": \"STATE\", \"label\": \"STATE\"}, {\"type\": \"string\", \"id\": \"ZIP_CODE\", \"label\": \"ZIP_CODE\"}, {\"type\": \"string\", \"id\": \"COUNTRY\", \"label\": \"COUNTRY\"}, {\"type\": \"string\", \"id\": \"VIOLATION_AGAINST\", \"label\": \"VIOLATION_AGAINST\"}, {\"type\": \"string\", \"id\": \"SUBCONTRACTOR_DUNS\", \"label\": \"SUBCONTRACTOR_DUNS\"}, {\"type\": \"string\", \"id\": \"SUBCONTRACTOR_CAGE\", \"label\": \"SUBCONTRACTOR_CAGE\"}, {\"type\": \"string\", \"id\": \"SUBCONTRACTOR_NAME\", \"label\": \"SUBCONTRACTOR_NAME\"}, {\"type\": \"string\", \"id\": \"SUBCONTRACTOR_ADDRESS1\", \"label\": \"SUBCONTRACTOR_ADDRESS1\"}, {\"type\": \"string\", \"id\": \"SUBCONTRACTOR_ADDRESS2\", \"label\": \"SUBCONTRACTOR_ADDRESS2\"}, {\"type\": \"string\", \"id\": \"SUBCONTRACTOR_CITY\", \"label\": \"SUBCONTRACTOR_CITY\"}, {\"type\": \"string\", \"id\": \"SUBCONTRACTOR_STATE\", \"label\": \"SUBCONTRACTOR_STATE\"}, {\"type\": \"string\", \"id\": \"SUBCONTRACTOR_ZIP_CODE\", \"label\": \"SUBCONTRACTOR_ZIP_CODE\"}, {\"type\": \"string\", \"id\": \"SUBCONTRACTOR_COUNTRY\", \"label\": \"SUBCONTRACTOR_COUNTRY\"}, {\"type\": \"string\", \"id\": \"FSC\", \"label\": \"FSC\"}, {\"type\": \"string\", \"id\": \"NAICS\", \"label\": \"NAICS\"}, {\"type\": \"number\", \"id\": \"AGENCY_CODE\", \"label\": \"AGENCY_CODE\"}, {\"type\": \"string\", \"id\": \"CODE_2\", \"label\": \"CODE_2\"}, {\"type\": \"string\", \"id\": \"OFFICIAL_NAME\", \"label\": \"OFFICIAL_NAME\"}, {\"type\": \"string\", \"id\": \"OFFICIAL_PHONE\", \"label\": \"OFFICIAL_PHONE\"}, {\"type\": \"string\", \"id\": \"OFFICIAL_EMAIL\", \"label\": \"OFFICIAL_EMAIL\"}, {\"type\": \"string\", \"id\": \"TERMINATION_TYPE\", \"label\": \"TERMINATION_TYPE\"}, {\"type\": \"date\", \"id\": \"TERMINATION_DATE\", \"label\": \"TERMINATION_DATE\"}, {\"type\": \"string\", \"id\": \"USER\", \"label\": \"USER\"}, {\"type\": \"string\", \"id\": \"EMAIL\", \"label\": \"EMAIL\"}, {\"type\": \"string\", \"id\": \"PHONE\", \"label\": \"PHONE\"}, {\"type\": \"string\", \"id\": \"COMMENTS\", \"label\": \"COMMENTS\"}]},\n",
       "            {\n",
       "              pageSize: 25,\n",
       "              cssClassNames:  {\n",
       "                tableRow: 'gchart-table-row',\n",
       "                headerRow: 'gchart-table-headerrow',\n",
       "                oddTableRow: 'gchart-table-oddrow',\n",
       "                selectedTableRow: 'gchart-table-selectedrow',\n",
       "                hoverTableRow: 'gchart-table-hoverrow',\n",
       "                tableCell: 'gchart-table-cell',\n",
       "                headerCell: 'gchart-table-headercell',\n",
       "                rowNumberCell: 'gchart-table-rownumcell'\n",
       "              }\n",
       "            },\n",
       "            {source_index: 19, fields: 'AGENCY,RECORD_TYPE,RECORD_DATE,CONTRACT_GRANT_NUMBER,REFERENCED_NUMBER,SOLICITATION_FUNDING_NUMBER,DUNS,CAGE,AWARDEE_NAME,ADDRESS1,ADDRESS2,CITY,STATE,ZIP_CODE,COUNTRY,VIOLATION_AGAINST,SUBCONTRACTOR_DUNS,SUBCONTRACTOR_CAGE,SUBCONTRACTOR_NAME,SUBCONTRACTOR_ADDRESS1,SUBCONTRACTOR_ADDRESS2,SUBCONTRACTOR_CITY,SUBCONTRACTOR_STATE,SUBCONTRACTOR_ZIP_CODE,SUBCONTRACTOR_COUNTRY,FSC,NAICS,AGENCY_CODE,CODE_2,OFFICIAL_NAME,OFFICIAL_PHONE,OFFICIAL_EMAIL,TERMINATION_TYPE,TERMINATION_DATE,USER,EMAIL,PHONE,COMMENTS'},\n",
       "            0,\n",
       "            5);\n",
       "        }\n",
       "      );\n",
       "    </script>\n",
       "  "
      ],
      "text/plain": [
       "QueryResultsTable job_VaeEzVVvaOfVObk05r9cPmT6M_M"
      ]
     },
     "execution_count": 122,
     "metadata": {},
     "output_type": "execute_result"
    }
   ],
   "source": [
    "%%bq query\n",
    "select * \n",
    "from `crested-trilogy-136023.vrec.fapiis` \n",
    "limit 5"
   ]
  },
  {
   "cell_type": "code",
   "execution_count": 130,
   "metadata": {
    "collapsed": true
   },
   "outputs": [],
   "source": [
    "%%bq query -n df_query\n",
    "select\n",
    "EXTRACT(YEAR FROM RECORD_DATE) as year,\n",
    "count(*) as count\n",
    "from `crested-trilogy-136023.vrec.fapiis`\n",
    "group by 1\n",
    "order by 1;"
   ]
  },
  {
   "cell_type": "code",
   "execution_count": 131,
   "metadata": {
    "collapsed": false
   },
   "outputs": [
    {
     "data": {
      "text/plain": [
       "<matplotlib.text.Text at 0x7f9525e1c990>"
      ]
     },
     "execution_count": 131,
     "metadata": {},
     "output_type": "execute_result"
    },
    {
     "data": {
      "image/png": "[encoded data removed]",
      "text/plain": [
       "<matplotlib.figure.Figure at 0x7f95254fc210>"
      ]
     },
     "metadata": {},
     "output_type": "display_data"
    }
   ],
   "source": [
    "df = df_query.execute(output_options=bq.QueryOutput.dataframe()).result()\n",
    "\n",
    "ax = df.plot(kind='bar', x='year', title='Firms by Record date', figsize=(10,5))\n",
    "ax.set_xlabel('Year')\n",
    "ax.set_ylabel('count')"
   ]
  },
  {
   "cell_type": "code",
   "execution_count": 128,
   "metadata": {
    "collapsed": true
   },
   "outputs": [],
   "source": [
    "%%bq query -n df_query\n",
    "select\n",
    "EXTRACT(YEAR FROM TERMINATION_DATE) as year,\n",
    "count(*) as count\n",
    "from `crested-trilogy-136023.vrec.fapiis`\n",
    "group by 1\n",
    "order by 1;"
   ]
  },
  {
   "cell_type": "code",
   "execution_count": 129,
   "metadata": {
    "collapsed": false
   },
   "outputs": [
    {
     "data": {
      "text/plain": [
       "<matplotlib.text.Text at 0x7f95266e72d0>"
      ]
     },
     "execution_count": 129,
     "metadata": {},
     "output_type": "execute_result"
    },
    {
     "data": {
      "image/png": "[encoded data removed]",
      "text/plain": [
       "<matplotlib.figure.Figure at 0x7f9525e09510>"
      ]
     },
     "metadata": {},
     "output_type": "display_data"
    }
   ],
   "source": [
    "df = df_query.execute(output_options=bq.QueryOutput.dataframe()).result()\n",
    "\n",
    "ax = df.plot(kind='bar', x='year', title='Firms by termination date', figsize=(10,5))\n",
    "ax.set_xlabel('Year')\n",
    "ax.set_ylabel('count')"
   ]
  },
  {
   "cell_type": "code",
   "execution_count": 146,
   "metadata": {
    "collapsed": false
   },
   "outputs": [
    {
     "data": {
      "text/html": [
       "\n",
       "    <div class=\"bqtv\" id=\"33_149781746758\"><table><tr><th>AWARDEE_NAME</th><th>DUNS</th><th>count</th></tr><tr><td>ALPHA RAPID ENGINEERING SOLUTIONS</td><td>968818497</td><td>96</td></tr><tr><td>SDV RECON INC</td><td>828479498</td><td>72</td></tr><tr><td>GIESTING &amp; ASSOCIATES, INC.</td><td>68939842</td><td>41</td></tr><tr><td>UNITED PROCUREMENT, L.P.</td><td>628036345</td><td>31</td></tr><tr><td>EPITECH, INC.</td><td>190378625</td><td>31</td></tr></table></div>\n",
       "    <br />(rows: 5, time: 0.4s, cached, job: job_7dy2rZNsdx_yXAFpuTHETFa4B3o)<br />\n",
       "    <script>\n",
       "\n",
       "      require.config({\n",
       "        paths: {\n",
       "          d3: '//cdnjs.cloudflare.com/ajax/libs/d3/3.4.13/d3',\n",
       "          plotly: 'https://cdn.plot.ly/plotly-1.5.1.min.js?noext',\n",
       "          jquery: '//ajax.googleapis.com/ajax/libs/jquery/2.0.0/jquery.min'\n",
       "        },\n",
       "        map: {\n",
       "          '*': {\n",
       "            datalab: 'nbextensions/gcpdatalab'\n",
       "          }\n",
       "        },\n",
       "        shim: {\n",
       "          plotly: {\n",
       "            deps: ['d3', 'jquery'],\n",
       "            exports: 'plotly'\n",
       "          }\n",
       "        }\n",
       "      });\n",
       "\n",
       "      require(['datalab/charting', 'datalab/element!33_149781746758', 'base/js/events',\n",
       "          'datalab/style!/nbextensions/gcpdatalab/charting.css'],\n",
       "        function(charts, dom, events) {\n",
       "          charts.render('gcharts', dom, events, 'table', [], {\"rows\": [{\"c\": [{\"v\": \"ALPHA RAPID ENGINEERING SOLUTIONS\"}, {\"v\": 968818497}, {\"v\": 96}]}, {\"c\": [{\"v\": \"SDV RECON INC\"}, {\"v\": 828479498}, {\"v\": 72}]}, {\"c\": [{\"v\": \"GIESTING & ASSOCIATES, INC.\"}, {\"v\": 68939842}, {\"v\": 41}]}, {\"c\": [{\"v\": \"UNITED PROCUREMENT, L.P.\"}, {\"v\": 628036345}, {\"v\": 31}]}, {\"c\": [{\"v\": \"EPITECH, INC.\"}, {\"v\": 190378625}, {\"v\": 31}]}], \"cols\": [{\"type\": \"string\", \"id\": \"AWARDEE_NAME\", \"label\": \"AWARDEE_NAME\"}, {\"type\": \"number\", \"id\": \"DUNS\", \"label\": \"DUNS\"}, {\"type\": \"number\", \"id\": \"count\", \"label\": \"count\"}]},\n",
       "            {\n",
       "              pageSize: 25,\n",
       "              cssClassNames:  {\n",
       "                tableRow: 'gchart-table-row',\n",
       "                headerRow: 'gchart-table-headerrow',\n",
       "                oddTableRow: 'gchart-table-oddrow',\n",
       "                selectedTableRow: 'gchart-table-selectedrow',\n",
       "                hoverTableRow: 'gchart-table-hoverrow',\n",
       "                tableCell: 'gchart-table-cell',\n",
       "                headerCell: 'gchart-table-headercell',\n",
       "                rowNumberCell: 'gchart-table-rownumcell'\n",
       "              }\n",
       "            },\n",
       "            {source_index: 21, fields: 'AWARDEE_NAME,DUNS,count'},\n",
       "            0,\n",
       "            5);\n",
       "        }\n",
       "      );\n",
       "    </script>\n",
       "  "
      ],
      "text/plain": [
       "QueryResultsTable job_7dy2rZNsdx_yXAFpuTHETFa4B3o"
      ]
     },
     "execution_count": 146,
     "metadata": {},
     "output_type": "execute_result"
    }
   ],
   "source": [
    "%%bq query\n",
    "select\n",
    "AWARDEE_NAME,\n",
    "DUNS,\n",
    "count(*) as count\n",
    "from `crested-trilogy-136023.vrec.fapiis`\n",
    "group by 1,2\n",
    "order by 3 DESC\n",
    "limit 5;"
   ]
  },
  {
   "cell_type": "code",
   "execution_count": 138,
   "metadata": {
    "collapsed": false
   },
   "outputs": [
    {
     "data": {
      "text/html": [
       "\n",
       "    <div class=\"bqtv\" id=\"26_149781715614\"><table><tr><th>AGENCY</th><th>RECORD_TYPE</th><th>RECORD_DATE</th><th>CONTRACT_GRANT_NUMBER</th><th>REFERENCED_NUMBER</th><th>SOLICITATION_FUNDING_NUMBER</th><th>DUNS</th><th>CAGE</th><th>AWARDEE_NAME</th><th>ADDRESS1</th><th>ADDRESS2</th><th>CITY</th><th>STATE</th><th>ZIP_CODE</th><th>COUNTRY</th><th>VIOLATION_AGAINST</th><th>SUBCONTRACTOR_DUNS</th><th>SUBCONTRACTOR_CAGE</th><th>SUBCONTRACTOR_NAME</th><th>SUBCONTRACTOR_ADDRESS1</th><th>SUBCONTRACTOR_ADDRESS2</th><th>SUBCONTRACTOR_CITY</th><th>SUBCONTRACTOR_STATE</th><th>SUBCONTRACTOR_ZIP_CODE</th><th>SUBCONTRACTOR_COUNTRY</th><th>FSC</th><th>NAICS</th><th>AGENCY_CODE</th><th>CODE_2</th><th>OFFICIAL_NAME</th><th>OFFICIAL_PHONE</th><th>OFFICIAL_EMAIL</th><th>TERMINATION_TYPE</th><th>TERMINATION_DATE</th><th>USER</th><th>EMAIL</th><th>PHONE</th><th>COMMENTS</th></tr><tr><td>DEFENSE COMMISSARY AGENCY (DECA)</td><td>Termination for Cause</td><td>2015-09-04</td><td>HDEC0413D00170257</td><td>&nbsp;</td><td>&nbsp;</td><td>968818497</td><td>6GLG3</td><td>ALPHA RAPID ENGINEERING SOLUTIONS</td><td>3159 SHRADER RD</td><td>&nbsp;</td><td>DOVER</td><td>NJ</td><td>7801</td><td>USA</td><td>&nbsp;</td><td>&nbsp;</td><td>&nbsp;</td><td>&nbsp;</td><td>&nbsp;</td><td>&nbsp;</td><td>&nbsp;</td><td>&nbsp;</td><td>&nbsp;</td><td>&nbsp;</td><td>&nbsp;</td><td>7420</td><td>333318</td><td>97AZ</td><td>DESSIE MILLS</td><td>8047348000</td><td>dessie.mills@deca.mil</td><td>Complete</td><td>&nbsp;</td><td>&nbsp;</td><td>&nbsp;</td><td>&nbsp;</td><td>&nbsp;</td></tr><tr><td>DEFENSE COMMISSARY AGENCY (DECA)</td><td>Termination for Cause</td><td>2015-09-04</td><td>HDEC0413D00170259</td><td>&nbsp;</td><td>&nbsp;</td><td>968818497</td><td>6GLG3</td><td>ALPHA RAPID ENGINEERING SOLUTIONS</td><td>3159 SHRADER RD</td><td>&nbsp;</td><td>DOVER</td><td>NJ</td><td>7801</td><td>USA</td><td>&nbsp;</td><td>&nbsp;</td><td>&nbsp;</td><td>&nbsp;</td><td>&nbsp;</td><td>&nbsp;</td><td>&nbsp;</td><td>&nbsp;</td><td>&nbsp;</td><td>&nbsp;</td><td>&nbsp;</td><td>7420</td><td>333318</td><td>97AZ</td><td>DESSIE MILLS</td><td>8047348000</td><td>dessie.mills@deca.mil</td><td>Complete</td><td>&nbsp;</td><td>&nbsp;</td><td>&nbsp;</td><td>&nbsp;</td><td>&nbsp;</td></tr><tr><td>DEFENSE COMMISSARY AGENCY (DECA)</td><td>Termination for Cause</td><td>2015-09-04</td><td>HDEC0413D00170260</td><td>&nbsp;</td><td>&nbsp;</td><td>968818497</td><td>6GLG3</td><td>ALPHA RAPID ENGINEERING SOLUTIONS</td><td>3159 SHRADER RD</td><td>&nbsp;</td><td>DOVER</td><td>NJ</td><td>7801</td><td>USA</td><td>&nbsp;</td><td>&nbsp;</td><td>&nbsp;</td><td>&nbsp;</td><td>&nbsp;</td><td>&nbsp;</td><td>&nbsp;</td><td>&nbsp;</td><td>&nbsp;</td><td>&nbsp;</td><td>&nbsp;</td><td>7420</td><td>333318</td><td>97AZ</td><td>DESSIE MILLS</td><td>8047348000</td><td>dessie.mills@deca.mil</td><td>Complete</td><td>&nbsp;</td><td>&nbsp;</td><td>&nbsp;</td><td>&nbsp;</td><td>&nbsp;</td></tr><tr><td>DEFENSE COMMISSARY AGENCY (DECA)</td><td>Termination for Cause</td><td>2015-09-02</td><td>268</td><td>HDEC0413D0017</td><td>&nbsp;</td><td>968818497</td><td>6GLG3</td><td>ALPHA RAPID ENGINEERING SOLUTIONS</td><td>3159 SHRADER RD</td><td>&nbsp;</td><td>DOVER</td><td>NJ</td><td>78015735</td><td>USA</td><td>&nbsp;</td><td>&nbsp;</td><td>&nbsp;</td><td>&nbsp;</td><td>&nbsp;</td><td>&nbsp;</td><td>&nbsp;</td><td>&nbsp;</td><td>&nbsp;</td><td>&nbsp;</td><td>&nbsp;</td><td>7420</td><td>333318</td><td>97AZ</td><td>DESSIE MILLS</td><td>8047348000</td><td>dessie.mills@deca.mil</td><td>Complete</td><td>&nbsp;</td><td>&nbsp;</td><td>&nbsp;</td><td>&nbsp;</td><td>&nbsp;</td></tr><tr><td>DEFENSE COMMISSARY AGENCY (DECA)</td><td>Termination for Cause</td><td>2015-09-04</td><td>HDEC0413D00170258</td><td>&nbsp;</td><td>&nbsp;</td><td>968818497</td><td>6GLG3</td><td>ALPHA RAPID ENGINEERING SOLUTIONS</td><td>3159 SHRADER RD</td><td>&nbsp;</td><td>DOVER</td><td>NJ</td><td>7801</td><td>USA</td><td>&nbsp;</td><td>&nbsp;</td><td>&nbsp;</td><td>&nbsp;</td><td>&nbsp;</td><td>&nbsp;</td><td>&nbsp;</td><td>&nbsp;</td><td>&nbsp;</td><td>&nbsp;</td><td>&nbsp;</td><td>7420</td><td>333318</td><td>97AZ</td><td>DESSIE MILLS</td><td>8047348000</td><td>dessie.mills@deca.mil</td><td>Complete</td><td>&nbsp;</td><td>&nbsp;</td><td>&nbsp;</td><td>&nbsp;</td><td>&nbsp;</td></tr></table></div>\n",
       "    <br />(rows: 5, time: 1.3s,   943KB processed, job: job_PgaeterKXCzBISrwXM9-K6R6i1g)<br />\n",
       "    <script>\n",
       "\n",
       "      require.config({\n",
       "        paths: {\n",
       "          d3: '//cdnjs.cloudflare.com/ajax/libs/d3/3.4.13/d3',\n",
       "          plotly: 'https://cdn.plot.ly/plotly-1.5.1.min.js?noext',\n",
       "          jquery: '//ajax.googleapis.com/ajax/libs/jquery/2.0.0/jquery.min'\n",
       "        },\n",
       "        map: {\n",
       "          '*': {\n",
       "            datalab: 'nbextensions/gcpdatalab'\n",
       "          }\n",
       "        },\n",
       "        shim: {\n",
       "          plotly: {\n",
       "            deps: ['d3', 'jquery'],\n",
       "            exports: 'plotly'\n",
       "          }\n",
       "        }\n",
       "      });\n",
       "\n",
       "      require(['datalab/charting', 'datalab/element!26_149781715614', 'base/js/events',\n",
       "          'datalab/style!/nbextensions/gcpdatalab/charting.css'],\n",
       "        function(charts, dom, events) {\n",
       "          charts.render('gcharts', dom, events, 'table', [], {\"rows\": [{\"c\": [{\"v\": \"DEFENSE COMMISSARY AGENCY (DECA)\"}, {\"v\": \"Termination for Cause\"}, {\"v\": \"2015-09-04\"}, {\"v\": \"HDEC0413D00170257\"}, {\"v\": null}, {\"v\": null}, {\"v\": 968818497}, {\"v\": \"6GLG3\"}, {\"v\": \"ALPHA RAPID ENGINEERING SOLUTIONS\"}, {\"v\": \"3159 SHRADER RD\"}, {\"v\": null}, {\"v\": \"DOVER\"}, {\"v\": \"NJ\"}, {\"v\": \"7801\"}, {\"v\": \"USA\"}, {\"v\": null}, {\"v\": null}, {\"v\": null}, {\"v\": null}, {\"v\": null}, {\"v\": null}, {\"v\": null}, {\"v\": null}, {\"v\": null}, {\"v\": null}, {\"v\": null}, {\"v\": \"7420\"}, {\"v\": 333318}, {\"v\": \"97AZ\"}, {\"v\": \"DESSIE MILLS\"}, {\"v\": \"8047348000\"}, {\"v\": \"dessie.mills@deca.mil\"}, {\"v\": \"Complete\"}, {\"v\": null}, {\"v\": null}, {\"v\": null}, {\"v\": null}, {\"v\": null}]}, {\"c\": [{\"v\": \"DEFENSE COMMISSARY AGENCY (DECA)\"}, {\"v\": \"Termination for Cause\"}, {\"v\": \"2015-09-04\"}, {\"v\": \"HDEC0413D00170259\"}, {\"v\": null}, {\"v\": null}, {\"v\": 968818497}, {\"v\": \"6GLG3\"}, {\"v\": \"ALPHA RAPID ENGINEERING SOLUTIONS\"}, {\"v\": \"3159 SHRADER RD\"}, {\"v\": null}, {\"v\": \"DOVER\"}, {\"v\": \"NJ\"}, {\"v\": \"7801\"}, {\"v\": \"USA\"}, {\"v\": null}, {\"v\": null}, {\"v\": null}, {\"v\": null}, {\"v\": null}, {\"v\": null}, {\"v\": null}, {\"v\": null}, {\"v\": null}, {\"v\": null}, {\"v\": null}, {\"v\": \"7420\"}, {\"v\": 333318}, {\"v\": \"97AZ\"}, {\"v\": \"DESSIE MILLS\"}, {\"v\": \"8047348000\"}, {\"v\": \"dessie.mills@deca.mil\"}, {\"v\": \"Complete\"}, {\"v\": null}, {\"v\": null}, {\"v\": null}, {\"v\": null}, {\"v\": null}]}, {\"c\": [{\"v\": \"DEFENSE COMMISSARY AGENCY (DECA)\"}, {\"v\": \"Termination for Cause\"}, {\"v\": \"2015-09-04\"}, {\"v\": \"HDEC0413D00170260\"}, {\"v\": null}, {\"v\": null}, {\"v\": 968818497}, {\"v\": \"6GLG3\"}, {\"v\": \"ALPHA RAPID ENGINEERING SOLUTIONS\"}, {\"v\": \"3159 SHRADER RD\"}, {\"v\": null}, {\"v\": \"DOVER\"}, {\"v\": \"NJ\"}, {\"v\": \"7801\"}, {\"v\": \"USA\"}, {\"v\": null}, {\"v\": null}, {\"v\": null}, {\"v\": null}, {\"v\": null}, {\"v\": null}, {\"v\": null}, {\"v\": null}, {\"v\": null}, {\"v\": null}, {\"v\": null}, {\"v\": \"7420\"}, {\"v\": 333318}, {\"v\": \"97AZ\"}, {\"v\": \"DESSIE MILLS\"}, {\"v\": \"8047348000\"}, {\"v\": \"dessie.mills@deca.mil\"}, {\"v\": \"Complete\"}, {\"v\": null}, {\"v\": null}, {\"v\": null}, {\"v\": null}, {\"v\": null}]}, {\"c\": [{\"v\": \"DEFENSE COMMISSARY AGENCY (DECA)\"}, {\"v\": \"Termination for Cause\"}, {\"v\": \"2015-09-02\"}, {\"v\": \"268\"}, {\"v\": \"HDEC0413D0017\"}, {\"v\": null}, {\"v\": 968818497}, {\"v\": \"6GLG3\"}, {\"v\": \"ALPHA RAPID ENGINEERING SOLUTIONS\"}, {\"v\": \"3159 SHRADER RD\"}, {\"v\": null}, {\"v\": \"DOVER\"}, {\"v\": \"NJ\"}, {\"v\": \"78015735\"}, {\"v\": \"USA\"}, {\"v\": null}, {\"v\": null}, {\"v\": null}, {\"v\": null}, {\"v\": null}, {\"v\": null}, {\"v\": null}, {\"v\": null}, {\"v\": null}, {\"v\": null}, {\"v\": null}, {\"v\": \"7420\"}, {\"v\": 333318}, {\"v\": \"97AZ\"}, {\"v\": \"DESSIE MILLS\"}, {\"v\": \"8047348000\"}, {\"v\": \"dessie.mills@deca.mil\"}, {\"v\": \"Complete\"}, {\"v\": null}, {\"v\": null}, {\"v\": null}, {\"v\": null}, {\"v\": null}]}, {\"c\": [{\"v\": \"DEFENSE COMMISSARY AGENCY (DECA)\"}, {\"v\": \"Termination for Cause\"}, {\"v\": \"2015-09-04\"}, {\"v\": \"HDEC0413D00170258\"}, {\"v\": null}, {\"v\": null}, {\"v\": 968818497}, {\"v\": \"6GLG3\"}, {\"v\": \"ALPHA RAPID ENGINEERING SOLUTIONS\"}, {\"v\": \"3159 SHRADER RD\"}, {\"v\": null}, {\"v\": \"DOVER\"}, {\"v\": \"NJ\"}, {\"v\": \"7801\"}, {\"v\": \"USA\"}, {\"v\": null}, {\"v\": null}, {\"v\": null}, {\"v\": null}, {\"v\": null}, {\"v\": null}, {\"v\": null}, {\"v\": null}, {\"v\": null}, {\"v\": null}, {\"v\": null}, {\"v\": \"7420\"}, {\"v\": 333318}, {\"v\": \"97AZ\"}, {\"v\": \"DESSIE MILLS\"}, {\"v\": \"8047348000\"}, {\"v\": \"dessie.mills@deca.mil\"}, {\"v\": \"Complete\"}, {\"v\": null}, {\"v\": null}, {\"v\": null}, {\"v\": null}, {\"v\": null}]}], \"cols\": [{\"type\": \"string\", \"id\": \"AGENCY\", \"label\": \"AGENCY\"}, {\"type\": \"string\", \"id\": \"RECORD_TYPE\", \"label\": \"RECORD_TYPE\"}, {\"type\": \"date\", \"id\": \"RECORD_DATE\", \"label\": \"RECORD_DATE\"}, {\"type\": \"string\", \"id\": \"CONTRACT_GRANT_NUMBER\", \"label\": \"CONTRACT_GRANT_NUMBER\"}, {\"type\": \"string\", \"id\": \"REFERENCED_NUMBER\", \"label\": \"REFERENCED_NUMBER\"}, {\"type\": \"string\", \"id\": \"SOLICITATION_FUNDING_NUMBER\", \"label\": \"SOLICITATION_FUNDING_NUMBER\"}, {\"type\": \"number\", \"id\": \"DUNS\", \"label\": \"DUNS\"}, {\"type\": \"string\", \"id\": \"CAGE\", \"label\": \"CAGE\"}, {\"type\": \"string\", \"id\": \"AWARDEE_NAME\", \"label\": \"AWARDEE_NAME\"}, {\"type\": \"string\", \"id\": \"ADDRESS1\", \"label\": \"ADDRESS1\"}, {\"type\": \"string\", \"id\": \"ADDRESS2\", \"label\": \"ADDRESS2\"}, {\"type\": \"string\", \"id\": \"CITY\", \"label\": \"CITY\"}, {\"type\": \"string\", \"id\": \"STATE\", \"label\": \"STATE\"}, {\"type\": \"string\", \"id\": \"ZIP_CODE\", \"label\": \"ZIP_CODE\"}, {\"type\": \"string\", \"id\": \"COUNTRY\", \"label\": \"COUNTRY\"}, {\"type\": \"string\", \"id\": \"VIOLATION_AGAINST\", \"label\": \"VIOLATION_AGAINST\"}, {\"type\": \"string\", \"id\": \"SUBCONTRACTOR_DUNS\", \"label\": \"SUBCONTRACTOR_DUNS\"}, {\"type\": \"string\", \"id\": \"SUBCONTRACTOR_CAGE\", \"label\": \"SUBCONTRACTOR_CAGE\"}, {\"type\": \"string\", \"id\": \"SUBCONTRACTOR_NAME\", \"label\": \"SUBCONTRACTOR_NAME\"}, {\"type\": \"string\", \"id\": \"SUBCONTRACTOR_ADDRESS1\", \"label\": \"SUBCONTRACTOR_ADDRESS1\"}, {\"type\": \"string\", \"id\": \"SUBCONTRACTOR_ADDRESS2\", \"label\": \"SUBCONTRACTOR_ADDRESS2\"}, {\"type\": \"string\", \"id\": \"SUBCONTRACTOR_CITY\", \"label\": \"SUBCONTRACTOR_CITY\"}, {\"type\": \"string\", \"id\": \"SUBCONTRACTOR_STATE\", \"label\": \"SUBCONTRACTOR_STATE\"}, {\"type\": \"string\", \"id\": \"SUBCONTRACTOR_ZIP_CODE\", \"label\": \"SUBCONTRACTOR_ZIP_CODE\"}, {\"type\": \"string\", \"id\": \"SUBCONTRACTOR_COUNTRY\", \"label\": \"SUBCONTRACTOR_COUNTRY\"}, {\"type\": \"string\", \"id\": \"FSC\", \"label\": \"FSC\"}, {\"type\": \"string\", \"id\": \"NAICS\", \"label\": \"NAICS\"}, {\"type\": \"number\", \"id\": \"AGENCY_CODE\", \"label\": \"AGENCY_CODE\"}, {\"type\": \"string\", \"id\": \"CODE_2\", \"label\": \"CODE_2\"}, {\"type\": \"string\", \"id\": \"OFFICIAL_NAME\", \"label\": \"OFFICIAL_NAME\"}, {\"type\": \"string\", \"id\": \"OFFICIAL_PHONE\", \"label\": \"OFFICIAL_PHONE\"}, {\"type\": \"string\", \"id\": \"OFFICIAL_EMAIL\", \"label\": \"OFFICIAL_EMAIL\"}, {\"type\": \"string\", \"id\": \"TERMINATION_TYPE\", \"label\": \"TERMINATION_TYPE\"}, {\"type\": \"date\", \"id\": \"TERMINATION_DATE\", \"label\": \"TERMINATION_DATE\"}, {\"type\": \"string\", \"id\": \"USER\", \"label\": \"USER\"}, {\"type\": \"string\", \"id\": \"EMAIL\", \"label\": \"EMAIL\"}, {\"type\": \"string\", \"id\": \"PHONE\", \"label\": \"PHONE\"}, {\"type\": \"string\", \"id\": \"COMMENTS\", \"label\": \"COMMENTS\"}]},\n",
       "            {\n",
       "              pageSize: 25,\n",
       "              cssClassNames:  {\n",
       "                tableRow: 'gchart-table-row',\n",
       "                headerRow: 'gchart-table-headerrow',\n",
       "                oddTableRow: 'gchart-table-oddrow',\n",
       "                selectedTableRow: 'gchart-table-selectedrow',\n",
       "                hoverTableRow: 'gchart-table-hoverrow',\n",
       "                tableCell: 'gchart-table-cell',\n",
       "                headerCell: 'gchart-table-headercell',\n",
       "                rowNumberCell: 'gchart-table-rownumcell'\n",
       "              }\n",
       "            },\n",
       "            {source_index: 24, fields: 'AGENCY,RECORD_TYPE,RECORD_DATE,CONTRACT_GRANT_NUMBER,REFERENCED_NUMBER,SOLICITATION_FUNDING_NUMBER,DUNS,CAGE,AWARDEE_NAME,ADDRESS1,ADDRESS2,CITY,STATE,ZIP_CODE,COUNTRY,VIOLATION_AGAINST,SUBCONTRACTOR_DUNS,SUBCONTRACTOR_CAGE,SUBCONTRACTOR_NAME,SUBCONTRACTOR_ADDRESS1,SUBCONTRACTOR_ADDRESS2,SUBCONTRACTOR_CITY,SUBCONTRACTOR_STATE,SUBCONTRACTOR_ZIP_CODE,SUBCONTRACTOR_COUNTRY,FSC,NAICS,AGENCY_CODE,CODE_2,OFFICIAL_NAME,OFFICIAL_PHONE,OFFICIAL_EMAIL,TERMINATION_TYPE,TERMINATION_DATE,USER,EMAIL,PHONE,COMMENTS'},\n",
       "            0,\n",
       "            5);\n",
       "        }\n",
       "      );\n",
       "    </script>\n",
       "  "
      ],
      "text/plain": [
       "QueryResultsTable job_PgaeterKXCzBISrwXM9-K6R6i1g"
      ]
     },
     "execution_count": 138,
     "metadata": {},
     "output_type": "execute_result"
    }
   ],
   "source": [
    "%%bq query\n",
    "select\n",
    "*\n",
    "from `crested-trilogy-136023.vrec.fapiis`\n",
    "where AWARDEE_NAME in ('ALPHA RAPID ENGINEERING SOLUTIONS')\n",
    "limit 5;"
   ]
  },
  {
   "cell_type": "code",
   "execution_count": 144,
   "metadata": {
    "collapsed": false
   },
   "outputs": [
    {
     "data": {
      "text/html": [
       "\n",
       "    <div class=\"bqtv\" id=\"32_149781733115\"><table><tr><th>RECORD_TYPE</th><th>count</th></tr><tr><td>Termination for Cause</td><td>1603</td></tr><tr><td>Termination for Default</td><td>1182</td></tr><tr><td>Administrative Agreement</td><td>158</td></tr><tr><td>Non-Responsibility Determination</td><td>48</td></tr><tr><td>Termination for Material Failure to Comply</td><td>8</td></tr><tr><td>DoD Determination of Contractor Fault</td><td>2</td></tr><tr><td>Subcontractor Payment Issues</td><td>1</td></tr></table></div>\n",
       "    <br />(rows: 7, time: 0.2s, cached, job: job_G61AD7ZFvYwirtdEFliafOZTpWM)<br />\n",
       "    <script>\n",
       "\n",
       "      require.config({\n",
       "        paths: {\n",
       "          d3: '//cdnjs.cloudflare.com/ajax/libs/d3/3.4.13/d3',\n",
       "          plotly: 'https://cdn.plot.ly/plotly-1.5.1.min.js?noext',\n",
       "          jquery: '//ajax.googleapis.com/ajax/libs/jquery/2.0.0/jquery.min'\n",
       "        },\n",
       "        map: {\n",
       "          '*': {\n",
       "            datalab: 'nbextensions/gcpdatalab'\n",
       "          }\n",
       "        },\n",
       "        shim: {\n",
       "          plotly: {\n",
       "            deps: ['d3', 'jquery'],\n",
       "            exports: 'plotly'\n",
       "          }\n",
       "        }\n",
       "      });\n",
       "\n",
       "      require(['datalab/charting', 'datalab/element!32_149781733115', 'base/js/events',\n",
       "          'datalab/style!/nbextensions/gcpdatalab/charting.css'],\n",
       "        function(charts, dom, events) {\n",
       "          charts.render('gcharts', dom, events, 'table', [], {\"rows\": [{\"c\": [{\"v\": \"Termination for Cause\"}, {\"v\": 1603}]}, {\"c\": [{\"v\": \"Termination for Default\"}, {\"v\": 1182}]}, {\"c\": [{\"v\": \"Administrative Agreement\"}, {\"v\": 158}]}, {\"c\": [{\"v\": \"Non-Responsibility Determination\"}, {\"v\": 48}]}, {\"c\": [{\"v\": \"Termination for Material Failure to Comply\"}, {\"v\": 8}]}, {\"c\": [{\"v\": \"DoD Determination of Contractor Fault\"}, {\"v\": 2}]}, {\"c\": [{\"v\": \"Subcontractor Payment Issues\"}, {\"v\": 1}]}], \"cols\": [{\"type\": \"string\", \"id\": \"RECORD_TYPE\", \"label\": \"RECORD_TYPE\"}, {\"type\": \"number\", \"id\": \"count\", \"label\": \"count\"}]},\n",
       "            {\n",
       "              pageSize: 25,\n",
       "              cssClassNames:  {\n",
       "                tableRow: 'gchart-table-row',\n",
       "                headerRow: 'gchart-table-headerrow',\n",
       "                oddTableRow: 'gchart-table-oddrow',\n",
       "                selectedTableRow: 'gchart-table-selectedrow',\n",
       "                hoverTableRow: 'gchart-table-hoverrow',\n",
       "                tableCell: 'gchart-table-cell',\n",
       "                headerCell: 'gchart-table-headercell',\n",
       "                rowNumberCell: 'gchart-table-rownumcell'\n",
       "              }\n",
       "            },\n",
       "            {source_index: 28, fields: 'RECORD_TYPE,count'},\n",
       "            0,\n",
       "            7);\n",
       "        }\n",
       "      );\n",
       "    </script>\n",
       "  "
      ],
      "text/plain": [
       "QueryResultsTable job_G61AD7ZFvYwirtdEFliafOZTpWM"
      ]
     },
     "execution_count": 144,
     "metadata": {},
     "output_type": "execute_result"
    }
   ],
   "source": [
    "%%bq query\n",
    "select\n",
    "RECORD_TYPE,\n",
    "count(*) as count\n",
    "from `crested-trilogy-136023.vrec.fapiis`\n",
    "group by 1\n",
    "order by 2 DESC"
   ]
  },
  {
   "cell_type": "markdown",
   "metadata": {},
   "source": [
    "**FAPIIS is not bad with 3002 DUNS code but time range goes only from 2012 to 2017**"
   ]
  },
  {
   "cell_type": "markdown",
   "metadata": {},
   "source": [
    "## USA Spending"
   ]
  },
  {
   "cell_type": "markdown",
   "metadata": {},
   "source": [
    "- Link to collaborative filtering\n",
    "- https://docs.google.com/presentation/d/1x5g-wIoSUGRSwDqHC6MhZBZD5d2LQ19WKFlRneN2TyU/edit#slide=id.p121\n",
    "\n",
    "- https://www.usaspending.gov/DownloadCenter/Documents/USAspending.govDownloadsDataDictionary.pdf"
   ]
  },
  {
   "cell_type": "code",
   "execution_count": 148,
   "metadata": {
    "collapsed": true
   },
   "outputs": [],
   "source": [
    "%%bq query -n df_query\n",
    "select count(*) as transactions\n",
    "from `gpqueries.contracts.raw`"
   ]
  },
  {
   "cell_type": "code",
   "execution_count": 149,
   "metadata": {
    "collapsed": false
   },
   "outputs": [
    {
     "data": {
      "text/html": [
       "<div>\n",
       "<table border=\"1\" class=\"dataframe\">\n",
       "  <thead>\n",
       "    <tr style=\"text-align: right;\">\n",
       "      <th></th>\n",
       "      <th>transactions</th>\n",
       "    </tr>\n",
       "  </thead>\n",
       "  <tbody>\n",
       "    <tr>\n",
       "      <th>0</th>\n",
       "      <td>44500941</td>\n",
       "    </tr>\n",
       "  </tbody>\n",
       "</table>\n",
       "</div>"
      ],
      "text/plain": [
       "   transactions\n",
       "0      44500941"
      ]
     },
     "execution_count": 149,
     "metadata": {},
     "output_type": "execute_result"
    }
   ],
   "source": [
    "df = df_query.execute(output_options=bq.QueryOutput.dataframe()).result()\n",
    "df.head()"
   ]
  },
  {
   "cell_type": "code",
   "execution_count": 168,
   "metadata": {
    "collapsed": false
   },
   "outputs": [
    {
     "data": {
      "text/html": [
       "\n",
       "    <div class=\"bqtv\" id=\"43_149782008900\"><table><tr><th>unique_transaction_id</th><th>transaction_status</th><th>dollarsobligated</th><th>baseandexercisedoptionsvalue</th><th>baseandalloptionsvalue</th><th>maj_agency_cat</th><th>mod_agency</th><th>maj_fund_agency_cat</th><th>contractingofficeagencyid</th><th>contractingofficeid</th><th>fundingrequestingagencyid</th><th>fundingrequestingofficeid</th><th>fundedbyforeignentity</th><th>signeddate</th><th>effectivedate</th><th>currentcompletiondate</th><th>ultimatecompletiondate</th><th>lastdatetoorder</th><th>contractactiontype</th><th>reasonformodification</th><th>typeofcontractpricing</th><th>priceevaluationpercentdifference</th><th>subcontractplan</th><th>lettercontract</th><th>multiyearcontract</th><th>performancebasedservicecontract</th><th>majorprogramcode</th><th>contingencyhumanitarianpeacekeepingoperation</th><th>contractfinancing</th><th>costorpricingdata</th><th>costaccountingstandardsclause</th><th>descriptionofcontractrequirement</th><th>purchasecardaspaymentmethod</th><th>numberofactions</th><th>nationalinterestactioncode</th><th>progsourceagency</th><th>progsourceaccount</th><th>progsourcesubacct</th><th>account_title</th><th>rec_flag</th><th>typeofidc</th><th>multipleorsingleawardidc</th><th>programacronym</th><th>vendorname</th><th>vendoralternatename</th><th>vendorlegalorganizationname</th><th>vendordoingasbusinessname</th><th>divisionname</th><th>divisionnumberorofficecode</th><th>vendorenabled</th><th>vendorlocationdisableflag</th><th>ccrexception</th><th>streetaddress</th><th>streetaddress2</th><th>streetaddress3</th><th>city</th><th>state</th><th>zipcode</th><th>vendorcountrycode</th><th>vendor_state_code</th><th>vendor_cd</th><th>congressionaldistrict</th><th>vendorsitecode</th><th>vendoralternatesitecode</th><th>dunsnumber</th><th>parentdunsnumber</th><th>phoneno</th><th>faxno</th><th>registrationdate</th><th>renewaldate</th><th>mod_parent</th><th>locationcode</th><th>statecode</th><th>PlaceofPerformanceCity</th><th>pop_state_code</th><th>placeofperformancecountrycode</th><th>placeofperformancezipcode</th><th>pop_cd</th><th>placeofperformancecongressionaldistrict</th><th>psc_cat</th><th>productorservicecode</th><th>systemequipmentcode</th><th>claimantprogramcode</th><th>principalnaicscode</th><th>informationtechnologycommercialitemcategory</th><th>gfe_gfp</th><th>useofepadesignatedproducts</th><th>recoveredmaterialclauses</th><th>seatransportation</th><th>contractbundling</th><th>consolidatedcontract</th><th>countryoforigin</th><th>placeofmanufacture</th><th>manufacturingorganizationtype</th><th>agencyid</th><th>piid</th><th>modnumber</th><th>transactionnumber</th><th>fiscal_year</th><th>idvagencyid</th><th>idvpiid</th><th>idvmodificationnumber</th><th>solicitationid</th><th>extentcompeted</th><th>reasonnotcompeted</th><th>numberofoffersreceived</th><th>commercialitemacquisitionprocedures</th><th>commercialitemtestprogram</th><th>smallbusinesscompetitivenessdemonstrationprogram</th><th>a76action</th><th>competitiveprocedures</th><th>solicitationprocedures</th><th>typeofsetaside</th><th>localareasetaside</th><th>evaluatedpreference</th><th>fedbizopps</th><th>research</th><th>statutoryexceptiontofairopportunity</th><th>organizationaltype</th><th>numberofemployees</th><th>annualrevenue</th><th>firm8aflag</th><th>hubzoneflag</th><th>sdbflag</th><th>issbacertifiedsmalldisadvantagedbusiness</th><th>shelteredworkshopflag</th><th>hbcuflag</th><th>educationalinstitutionflag</th><th>womenownedflag</th><th>veteranownedflag</th><th>srdvobflag</th><th>localgovernmentflag</th><th>minorityinstitutionflag</th><th>aiobflag</th><th>stategovernmentflag</th><th>federalgovernmentflag</th><th>minorityownedbusinessflag</th><th>apaobflag</th><th>tribalgovernmentflag</th><th>baobflag</th><th>naobflag</th><th>saaobflag</th><th>nonprofitorganizationflag</th><th>isothernotforprofitorganization</th><th>isforprofitorganization</th><th>isfoundation</th><th>haobflag</th><th>ishispanicservicinginstitution</th><th>emergingsmallbusinessflag</th><th>hospitalflag</th><th>contractingofficerbusinesssizedetermination</th><th>is1862landgrantcollege</th><th>is1890landgrantcollege</th><th>is1994landgrantcollege</th><th>isveterinarycollege</th><th>isveterinaryhospital</th><th>isprivateuniversityorcollege</th><th>isschoolofforestry</th><th>isstatecontrolledinstitutionofhigherlearning</th><th>isserviceprovider</th><th>receivescontracts</th><th>receivesgrants</th><th>receivescontractsandgrants</th><th>isairportauthority</th><th>iscouncilofgovernments</th><th>ishousingauthoritiespublicortribal</th><th>isinterstateentity</th><th>isplanningcommission</th><th>isportauthority</th><th>istransitauthority</th><th>issubchapterscorporation</th><th>islimitedliabilitycorporation</th><th>isforeignownedandlocated</th><th>isarchitectureandengineering</th><th>isdotcertifieddisadvantagedbusinessenterprise</th><th>iscitylocalgovernment</th><th>iscommunitydevelopedcorporationownedfirm</th><th>iscommunitydevelopmentcorporation</th><th>isconstructionfirm</th><th>ismanufacturerofgoods</th><th>iscorporateentitynottaxexempt</th><th>iscountylocalgovernment</th><th>isdomesticshelter</th><th>isfederalgovernmentagency</th><th>isfederallyfundedresearchanddevelopmentcorp</th><th>isforeigngovernment</th><th>isindiantribe</th><th>isintermunicipallocalgovernment</th><th>isinternationalorganization</th><th>islaborsurplusareafirm</th><th>islocalgovernmentowned</th><th>ismunicipalitylocalgovernment</th><th>isnativehawaiianownedorganizationorfirm</th><th>isotherbusinessororganization</th><th>isotherminorityowned</th><th>ispartnershiporlimitedliabilitypartnership</th><th>isschooldistrictlocalgovernment</th><th>issmallagriculturalcooperative</th><th>issoleproprietorship</th><th>istownshiplocalgovernment</th><th>istriballyownedfirm</th><th>istribalcollege</th><th>isalaskannativeownedcorporationorfirm</th><th>iscorporateentitytaxexempt</th><th>iswomenownedsmallbusiness</th><th>isecondisadvwomenownedsmallbusiness</th><th>isjointventurewomenownedsmallbusiness</th><th>isjointventureecondisadvwomenownedsmallbusiness</th><th>walshhealyact</th><th>servicecontractact</th><th>davisbaconact</th><th>clingercohenact</th><th>otherstatutoryauthority</th><th>prime_awardee_executive1</th><th>prime_awardee_executive1_compensation</th><th>prime_awardee_executive2</th><th>prime_awardee_executive2_compensation</th><th>prime_awardee_executive3</th><th>prime_awardee_executive3_compensation</th><th>prime_awardee_executive4</th><th>prime_awardee_executive4_compensation</th><th>prime_awardee_executive5</th><th>prime_awardee_executive5_compensation</th><th>interagencycontractingauthority</th><th>last_modified_date</th></tr><tr><td>d43f9d575a8bb9afe90917757bee6250</td><td>active</td><td>968000.0</td><td>0.0</td><td>0.0</td><td>9700: DEPT OF DEFENSE</td><td>1700: DEPT OF THE NAVY</td><td>9700: DEPT OF DEFENSE</td><td>1700: DEPT OF THE NAVY</td><td>C2472: NAVAL FACILITIES ENGINEERING COM</td><td>1700: DEPT OF THE NAVY</td><td>:</td><td>Not Applicable</td><td>09/27/2001</td><td>09/27/2001</td><td>12/06/2002</td><td>01/01/1900</td><td>01/01/1900</td><td>DCA Definitive Contract</td><td>:</td><td>J: Firm Fixed Price</td><td>0.0</td><td>B: PLAN NOT REQUIRED </td><td>X</td><td>N: No</td><td>N: NO - SERVICE WHERE PBA IS NOT USED.</td><td></td><td>:</td><td>Z: NOT APPLICABLE</td><td>N: No</td><td>X</td><td></td><td>N: No</td><td>1</td><td>NONE: NONE</td><td></td><td></td><td></td><td></td><td></td><td></td><td>:</td><td></td><td>BURKEL CONSTRUCTION, INC</td><td></td><td></td><td></td><td></td><td></td><td></td><td></td><td></td><td>4232 COUNTY TRUNK C</td><td></td><td></td><td>PULASKI</td><td>WI</td><td>54162</td><td>UNITED STATES</td><td>WI</td><td>WI08</td><td>WI08</td><td></td><td></td><td>157309014</td><td>157309014</td><td></td><td></td><td>01/01/1900</td><td>01/01/1900</td><td>BURKEL CONSTRUCTION INC</td><td>08395</td><td>ME: MAINE</td><td></td><td>ME: </td><td>USA: UNITED STATES</td><td></td><td>ME00</td><td>ME00</td><td>Z</td><td>Z221: MAINT-REP-ALT/AIRPORT SERVICE ROADS</td><td>2000: </td><td>C2: CONSTRUCTION</td><td>234110: HIGHWAY AND STREET CONSTRUCTION</td><td>:</td><td>N: Transaction does not use GFE/GFP</td><td>:</td><td>:</td><td>U: UNKNOWN</td><td>D: NOT A BUNDLED REQUIREMENT</td><td>N: No</td><td></td><td>:</td><td>:</td><td>9700: DEPT OF DEFENSE</td><td>N6247200C4753</td><td>0</td><td>0</td><td>2001</td><td></td><td></td><td>0</td><td></td><td>D: FULL AND OPEN COMPETITION AFTER EXCLUSION OF SOURCES</td><td>:</td><td>3</td><td>D: </td><td>N: No</td><td>Y: YES</td><td>No</td><td></td><td>:</td><td>SBA: SMALL BUSINESS SET ASIDE - TOTAL</td><td></td><td>:</td><td>Y</td><td></td><td></td><td></td><td>0</td><td>3500000.0</td><td>N</td><td>N</td><td>Y</td><td>Y</td><td>N</td><td>N</td><td>N</td><td>N</td><td>N</td><td>N</td><td>N</td><td>N</td><td>N</td><td>N</td><td>N</td><td>N</td><td>N</td><td>N</td><td>N</td><td>N</td><td>N</td><td>N</td><td>N</td><td>N</td><td>N</td><td>N</td><td>N</td><td>N</td><td>N</td><td>S: SMALL BUSINESS</td><td>N</td><td>N</td><td>N</td><td>N</td><td>N</td><td>N</td><td>N</td><td>N</td><td></td><td>N</td><td>N</td><td>N</td><td>N</td><td>N</td><td>N</td><td>N</td><td>N</td><td>N</td><td>N</td><td>N</td><td>N</td><td>N</td><td>N</td><td></td><td>N</td><td>N</td><td>N</td><td>N</td><td>N</td><td>N</td><td>N</td><td>N</td><td>N</td><td>N</td><td>N</td><td>N</td><td>N</td><td>N</td><td>N</td><td>N</td><td>N</td><td>N</td><td>N</td><td>N</td><td>N</td><td>N</td><td>N</td><td>N</td><td>N</td><td>N</td><td>N</td><td>N</td><td>N</td><td>N</td><td>N</td><td>N</td><td>N</td><td>X: Not Applicable</td><td>X: Not Applicable</td><td>Y: Yes</td><td>N: No</td><td></td><td></td><td>0.0</td><td></td><td>0.0</td><td></td><td>0.0</td><td></td><td>0.0</td><td></td><td>0.0</td><td>X: Not Applicable</td><td>02/12/2006</td></tr><tr><td>e299fdc709460733410d125878386bb8</td><td>active</td><td>42600.0</td><td>0.0</td><td>0.0</td><td>9700: DEPT OF DEFENSE</td><td>1700: DEPT OF THE NAVY</td><td>9700: DEPT OF DEFENSE</td><td>1700: DEPT OF THE NAVY</td><td>BS786: SUPERVISOR SHIPBUILDING CONVERSI</td><td>1700: DEPT OF THE NAVY</td><td>:</td><td>Not Applicable</td><td>09/21/2001</td><td>09/21/2001</td><td>10/13/2002</td><td>01/01/1900</td><td>01/01/1900</td><td>DCA Definitive Contract</td><td>D: CHANGE ORDER</td><td>L: Fixed Price Incentive</td><td>0.0</td><td>E: PLAN REQUIRED (PRE 2004)</td><td>X</td><td>N: No</td><td>X: NOT APPLICABLE</td><td></td><td>:</td><td>C: PERCENTAGE OF COMPLETION PROGRESS PAYMENTS</td><td>N: No</td><td>X</td><td></td><td>N: No</td><td>1</td><td>NONE: NONE</td><td></td><td></td><td></td><td></td><td></td><td></td><td>:</td><td></td><td>BATH IRON WORKS CORPORATION</td><td></td><td></td><td></td><td></td><td></td><td></td><td></td><td></td><td>700 WASHINGTON ST</td><td></td><td></td><td>BATH</td><td>ME</td><td>04530</td><td>UNITED STATES</td><td>ME</td><td>ME01</td><td>ME01</td><td></td><td></td><td>045953718</td><td>001381284</td><td></td><td></td><td>01/01/1900</td><td>01/01/1900</td><td>GENERAL DYNAMICS CORPORATION</td><td>03355</td><td>ME: MAINE</td><td></td><td>ME: </td><td>USA: UNITED STATES</td><td></td><td>ME00</td><td>ME00</td><td>19</td><td>1903: DESTROYERS</td><td>SCY : </td><td>A3: SHIPS</td><td>:</td><td>:</td><td>N: Transaction does not use GFE/GFP</td><td>:</td><td>:</td><td>U: UNKNOWN</td><td>:</td><td>N: No</td><td></td><td>:</td><td>:</td><td>9700: DEPT OF DEFENSE</td><td>N0002494C2808</td><td>A01752</td><td>0</td><td>2001</td><td></td><td></td><td>0</td><td></td><td>A: FULL AND OPEN COMPETITION</td><td>:</td><td>2</td><td>D: </td><td>N: No</td><td>N: NO</td><td>No</td><td></td><td>AS: ALTERNATIVE SOURCES</td><td>:</td><td></td><td>:</td><td>Y</td><td></td><td></td><td></td><td>0</td><td>0.0</td><td>N</td><td>N</td><td>N</td><td>N</td><td>N</td><td>N</td><td>N</td><td>N</td><td>N</td><td>N</td><td>N</td><td>N</td><td>N</td><td>N</td><td>N</td><td>N</td><td>N</td><td>N</td><td>N</td><td>N</td><td>N</td><td>N</td><td>N</td><td>N</td><td>N</td><td>N</td><td>N</td><td>N</td><td>N</td><td>O: OTHER THAN SMALL BUSINESS</td><td>N</td><td>N</td><td>N</td><td>N</td><td>N</td><td>N</td><td>N</td><td>N</td><td></td><td>N</td><td>N</td><td>N</td><td>N</td><td>N</td><td>N</td><td>N</td><td>N</td><td>N</td><td>N</td><td>N</td><td>N</td><td>N</td><td>N</td><td></td><td>N</td><td>N</td><td>N</td><td>N</td><td>N</td><td>N</td><td>N</td><td>N</td><td>N</td><td>N</td><td>N</td><td>N</td><td>N</td><td>N</td><td>N</td><td>N</td><td>N</td><td>N</td><td>N</td><td>N</td><td>N</td><td>N</td><td>N</td><td>N</td><td>N</td><td>N</td><td>N</td><td>N</td><td>N</td><td>N</td><td>N</td><td>N</td><td>N</td><td>N: No</td><td>X: Not Applicable</td><td>X: Not Applicable</td><td>N: No</td><td></td><td></td><td>0.0</td><td></td><td>0.0</td><td></td><td>0.0</td><td></td><td>0.0</td><td></td><td>0.0</td><td>X: Not Applicable</td><td>01/22/2010</td></tr><tr><td>beaa7abd09955a2330faf7c6acf56d01</td><td>active</td><td>74114.0</td><td>0.0</td><td>0.0</td><td>9700: DEPT OF DEFENSE</td><td>1700: DEPT OF THE NAVY</td><td>9700: DEPT OF DEFENSE</td><td>1700: DEPT OF THE NAVY</td><td>BS786: SUPERVISOR SHIPBUILDING CONVERSI</td><td>1700: DEPT OF THE NAVY</td><td>:</td><td>Not Applicable</td><td>08/03/2001</td><td>08/03/2001</td><td>08/13/2001</td><td>01/01/1900</td><td>01/01/1900</td><td>DCA Definitive Contract</td><td>D: CHANGE ORDER</td><td>R: Cost Plus Award Fee</td><td>0.0</td><td>C: PLAN REQUIRED - INCENTIVE NOT INCLUDED </td><td>X</td><td>N: No</td><td>X: NOT APPLICABLE</td><td></td><td>:</td><td>Z: NOT APPLICABLE</td><td>N: No</td><td>X</td><td>200111!009301!1700!BS786 !SUPERVISOR SHIPBUILDING CONVERSI!N0002499C2313  !A!N!*!N!A00271             !20010803!20010813!045953718!045953718!001381284!N!BATH IRON WORKS CORPORATION   !700 WASHINGTON ST         !BATH                !ME!04530!03355!023!23!BATH                !SAGADAHOC             !MAINE     !+000000074114!N!N!000000000000!1903!DESTROYERS                                        !A3 !SHIPS                         !2SCY!DESTROYER DDG-51              !336611!*!*!3! ! !D!*!*!*!B!*!*!A! !D !U!R!1!001!N!3A!Z!N!Z!  !  !N!C!N! ! ! !A!A!A!A!000!A!C!N! ! ! ! !    !      !0001!</td><td>N: No</td><td>1</td><td>NONE: NONE</td><td></td><td></td><td></td><td></td><td></td><td></td><td>:</td><td></td><td>BATH IRON WORKS CORPORATION</td><td></td><td></td><td></td><td></td><td></td><td></td><td></td><td></td><td>700 WASHINGTON ST</td><td></td><td></td><td>BATH</td><td>ME</td><td>045302574</td><td>UNITED STATES</td><td>ME</td><td>ME01</td><td>ME01</td><td>045953718</td><td>04530</td><td>045953718</td><td>001381284</td><td>2074422783</td><td></td><td>07/23/2001</td><td>09/23/2015</td><td>GENERAL DYNAMICS CORPORATION</td><td>03355</td><td>ME: MAINE</td><td></td><td>ME: </td><td>USA: UNITED STATES</td><td></td><td>ME00</td><td>ME00</td><td>19</td><td>1903: DESTROYERS</td><td>SCY: DESTROYER DDG-51</td><td>A3: SHIPS</td><td>:</td><td>:</td><td>N: Transaction does not use GFE/GFP</td><td>:</td><td>C: NO CLAUSES INCLUDED AND NO SUSTAINABILITY INCLU</td><td>U: UNKNOWN</td><td>D: NOT A BUNDLED REQUIREMENT</td><td>N: No</td><td></td><td>D: MFG IN U.S.</td><td>:</td><td>9700: DEPT OF DEFENSE</td><td>N0002499C2313</td><td>A00271</td><td>0</td><td>2001</td><td></td><td></td><td>0</td><td></td><td>C: NOT COMPETED</td><td>UNQ: UNIQUE SOURCE </td><td>1</td><td>D: </td><td>N: No</td><td>N: NO</td><td>No</td><td></td><td>SSS: ONLY ONE SOURCE</td><td>NONE: NO SET ASIDE USED.</td><td></td><td>NONE: NO PREFERENCE USED</td><td>Y</td><td></td><td></td><td>CORPORATE NOT TAX EXEMPT</td><td>94433</td><td>31802667008.0</td><td>N</td><td>N</td><td>N</td><td>N</td><td>N</td><td>N</td><td>N</td><td>N</td><td>N</td><td>N</td><td>N</td><td>N</td><td>N</td><td>N</td><td>N</td><td>N</td><td>N</td><td>N</td><td>N</td><td>N</td><td>N</td><td>N</td><td>N</td><td>Y</td><td>N</td><td>N</td><td>N</td><td>N</td><td>N</td><td>O: OTHER THAN SMALL BUSINESS</td><td>N</td><td>N</td><td>N</td><td>N</td><td>N</td><td>N</td><td>N</td><td>N</td><td></td><td>Y</td><td>Y</td><td>Y</td><td>N</td><td>N</td><td>N</td><td>N</td><td>N</td><td>N</td><td>N</td><td>N</td><td>N</td><td>N</td><td>N</td><td></td><td>N</td><td>N</td><td>N</td><td>N</td><td>Y</td><td>Y</td><td>N</td><td>N</td><td>N</td><td>N</td><td>N</td><td>N</td><td>N</td><td>N</td><td>N</td><td>N</td><td>N</td><td>N</td><td>N</td><td>N</td><td>N</td><td>N</td><td>N</td><td>N</td><td>N</td><td>N</td><td>N</td><td>N</td><td>N</td><td>N</td><td>N</td><td>N</td><td>N</td><td>N: No</td><td>X: Not Applicable</td><td>X: Not Applicable</td><td>N: No</td><td></td><td></td><td>0.0</td><td></td><td>0.0</td><td></td><td>0.0</td><td></td><td>0.0</td><td></td><td>0.0</td><td>X: Not Applicable</td><td>03/10/2015</td></tr><tr><td>21071a75e2d0ce0eac95ac0efc31f6d1</td><td>active</td><td>44638.0</td><td>0.0</td><td>0.0</td><td>9700: DEPT OF DEFENSE</td><td>1700: DEPT OF THE NAVY</td><td>9700: DEPT OF DEFENSE</td><td>1700: DEPT OF THE NAVY</td><td>BS786: SUPERVISOR SHIPBUILDING CONVERSI</td><td>1700: DEPT OF THE NAVY</td><td>:</td><td>Not Applicable</td><td>05/30/2001</td><td>05/30/2001</td><td>06/01/2001</td><td>01/01/1900</td><td>01/01/1900</td><td>DCA Definitive Contract</td><td>D: CHANGE ORDER</td><td>R: Cost Plus Award Fee</td><td>0.0</td><td>C: PLAN REQUIRED - INCENTIVE NOT INCLUDED </td><td>X</td><td>N: No</td><td>X: NOT APPLICABLE</td><td></td><td>:</td><td>Z: NOT APPLICABLE</td><td>N: No</td><td>X</td><td>200111!009284!1700!BS786 !SUPERVISOR SHIPBUILDING CONVERSI!N0002499C2313  !A!N!*!N!A00247             !20010530!20010601!045953718!045953718!001381284!N!BATH IRON WORKS CORPORATION   !700 WASHINGTON ST         !BATH                !ME!04530!03355!023!23!BATH                !SAGADAHOC             !MAINE     !+000000044638!N!N!000000000000!1903!DESTROYERS                                        !A3 !SHIPS                         !2SCY!DESTROYER DDG-51              !336611!*!*!3! ! !D!*!*!*!B!*!*!A! !D !U!R!1!001!N!3A!Z!N!Z!  !  !N!C!N! ! ! !A!A!A!A!000!A!C!N! ! ! ! !    !      !0001!</td><td>N: No</td><td>1</td><td>NONE: NONE</td><td></td><td></td><td></td><td></td><td></td><td></td><td>:</td><td></td><td>BATH IRON WORKS CORPORATION</td><td></td><td></td><td></td><td></td><td></td><td></td><td></td><td></td><td>700 WASHINGTON ST</td><td></td><td></td><td>BATH</td><td>ME</td><td>045302574</td><td>UNITED STATES</td><td>ME</td><td>ME01</td><td>ME01</td><td>045953718</td><td>04530</td><td>045953718</td><td>001381284</td><td>2074422783</td><td></td><td>07/23/2001</td><td>09/23/2015</td><td>GENERAL DYNAMICS CORPORATION</td><td>03355</td><td>ME: MAINE</td><td></td><td>ME: </td><td>USA: UNITED STATES</td><td></td><td>ME00</td><td>ME00</td><td>19</td><td>1903: DESTROYERS</td><td>SCY: DESTROYER DDG-51</td><td>A3: SHIPS</td><td>:</td><td>:</td><td>N: Transaction does not use GFE/GFP</td><td>:</td><td>C: NO CLAUSES INCLUDED AND NO SUSTAINABILITY INCLU</td><td>U: UNKNOWN</td><td>D: NOT A BUNDLED REQUIREMENT</td><td>N: No</td><td></td><td>D: MFG IN U.S.</td><td>:</td><td>9700: DEPT OF DEFENSE</td><td>N0002499C2313</td><td>A00247</td><td>0</td><td>2001</td><td></td><td></td><td>0</td><td></td><td>C: NOT COMPETED</td><td>UNQ: UNIQUE SOURCE </td><td>1</td><td>D: </td><td>N: No</td><td>N: NO</td><td>No</td><td></td><td>SSS: ONLY ONE SOURCE</td><td>NONE: NO SET ASIDE USED.</td><td></td><td>NONE: NO PREFERENCE USED</td><td>Y</td><td></td><td></td><td>CORPORATE NOT TAX EXEMPT</td><td>94433</td><td>31802667008.0</td><td>N</td><td>N</td><td>N</td><td>N</td><td>N</td><td>N</td><td>N</td><td>N</td><td>N</td><td>N</td><td>N</td><td>N</td><td>N</td><td>N</td><td>N</td><td>N</td><td>N</td><td>N</td><td>N</td><td>N</td><td>N</td><td>N</td><td>N</td><td>Y</td><td>N</td><td>N</td><td>N</td><td>N</td><td>N</td><td>O: OTHER THAN SMALL BUSINESS</td><td>N</td><td>N</td><td>N</td><td>N</td><td>N</td><td>N</td><td>N</td><td>N</td><td></td><td>Y</td><td>Y</td><td>Y</td><td>N</td><td>N</td><td>N</td><td>N</td><td>N</td><td>N</td><td>N</td><td>N</td><td>N</td><td>N</td><td>N</td><td></td><td>N</td><td>N</td><td>N</td><td>N</td><td>Y</td><td>Y</td><td>N</td><td>N</td><td>N</td><td>N</td><td>N</td><td>N</td><td>N</td><td>N</td><td>N</td><td>N</td><td>N</td><td>N</td><td>N</td><td>N</td><td>N</td><td>N</td><td>N</td><td>N</td><td>N</td><td>N</td><td>N</td><td>N</td><td>N</td><td>N</td><td>N</td><td>N</td><td>N</td><td>N: No</td><td>X: Not Applicable</td><td>X: Not Applicable</td><td>N: No</td><td></td><td></td><td>0.0</td><td></td><td>0.0</td><td></td><td>0.0</td><td></td><td>0.0</td><td></td><td>0.0</td><td>X: Not Applicable</td><td>03/10/2015</td></tr><tr><td>7f284e5c373e2b6afdd1f9898278ca59</td><td>active</td><td>567900.0</td><td>0.0</td><td>0.0</td><td>9700: DEPT OF DEFENSE</td><td>1700: DEPT OF THE NAVY</td><td>9700: DEPT OF DEFENSE</td><td>1700: DEPT OF THE NAVY</td><td>D710J: SPACE AND NAVAL WARFARE SYSTEMS</td><td>1700: DEPT OF THE NAVY</td><td>:</td><td>Not Applicable</td><td>04/09/2001</td><td>04/09/2001</td><td>03/29/2004</td><td>01/01/1900</td><td>01/01/1900</td><td>DCA Definitive Contract</td><td>C: FUNDING ONLY ACTION</td><td>U: Cost Plus Fixed Fee</td><td>0.0</td><td>C: PLAN REQUIRED - INCENTIVE NOT INCLUDED </td><td>X</td><td>N: No</td><td>N: NO - SERVICE WHERE PBA IS NOT USED.</td><td></td><td>:</td><td>Z: NOT APPLICABLE</td><td>Y: Yes</td><td>X</td><td></td><td>N: No</td><td>1</td><td>NONE: NONE</td><td></td><td></td><td></td><td></td><td></td><td></td><td>:</td><td></td><td>LOCKHEED MARTIN CORPORATION</td><td></td><td></td><td></td><td></td><td></td><td></td><td></td><td></td><td>65 SPIT BROOK ROAD</td><td></td><td></td><td>NASHUA</td><td>NH</td><td>03061</td><td>UNITED STATES</td><td>NH</td><td>NH02</td><td>NH02</td><td></td><td></td><td>933086472</td><td>933086472</td><td></td><td></td><td>01/01/1900</td><td>01/01/1900</td><td>LOCKHEED MARTIN CORPORATION</td><td>50260</td><td>NH: NEW HAMPSHIRE</td><td></td><td>NH: </td><td>USA: UNITED STATES</td><td></td><td>NH00</td><td>NH00</td><td>A</td><td>AZ12: R&amp;D-OTHER R &amp; D-A RES/EXPL DEV</td><td>2000: </td><td>A7: ELECTRONICS AND COMMUNICATION EQUIPMENT</td><td>334511: SEARCH, DETECTION, NAVIGATION, GUIDANCE, AERONAUTICAL, AND NAUTICAL SYSTEM AND INSTRUMENT MANUFACTURING</td><td>:</td><td>N: Transaction does not use GFE/GFP</td><td>:</td><td>:</td><td>N: NO</td><td>D: NOT A BUNDLED REQUIREMENT</td><td>N: No</td><td></td><td>:</td><td>:</td><td>9700: DEPT OF DEFENSE</td><td>N6600100C8087</td><td>P00003</td><td>0</td><td>2001</td><td></td><td></td><td>0</td><td></td><td>D: FULL AND OPEN COMPETITION AFTER EXCLUSION OF SOURCES</td><td>:</td><td>1</td><td>D: </td><td>N: No</td><td>N: NO</td><td>No</td><td></td><td>BR: BASIC RESEARCH </td><td>NONE: NO SET ASIDE USED.</td><td></td><td>:</td><td>Y</td><td></td><td></td><td></td><td>0</td><td>0.0</td><td>N</td><td>N</td><td>N</td><td>N</td><td>N</td><td>N</td><td>N</td><td>N</td><td>N</td><td>N</td><td>N</td><td>N</td><td>N</td><td>N</td><td>N</td><td>N</td><td>N</td><td>N</td><td>N</td><td>N</td><td>N</td><td>N</td><td>N</td><td>N</td><td>N</td><td>N</td><td>N</td><td>N</td><td>N</td><td>O: OTHER THAN SMALL BUSINESS</td><td>N</td><td>N</td><td>N</td><td>N</td><td>N</td><td>N</td><td>N</td><td>N</td><td></td><td>N</td><td>N</td><td>N</td><td>N</td><td>N</td><td>N</td><td>N</td><td>N</td><td>N</td><td>N</td><td>N</td><td>N</td><td>N</td><td>N</td><td></td><td>N</td><td>N</td><td>N</td><td>N</td><td>N</td><td>N</td><td>N</td><td>N</td><td>N</td><td>N</td><td>N</td><td>N</td><td>N</td><td>N</td><td>N</td><td>N</td><td>N</td><td>N</td><td>N</td><td>N</td><td>N</td><td>N</td><td>N</td><td>N</td><td>N</td><td>N</td><td>N</td><td>N</td><td>N</td><td>N</td><td>N</td><td>N</td><td>N</td><td>X: Not Applicable</td><td>N: No</td><td>X: Not Applicable</td><td>N: No</td><td></td><td></td><td>0.0</td><td></td><td>0.0</td><td></td><td>0.0</td><td></td><td>0.0</td><td></td><td>0.0</td><td>X: Not Applicable</td><td>02/12/2006</td></tr></table></div>\n",
       "    <br />(rows: 5, time: 1.5s,    83GB processed, job: job_VrzfYIUX93XQ0I94b4kciNWf0Ys)<br />\n",
       "    <script>\n",
       "\n",
       "      require.config({\n",
       "        paths: {\n",
       "          d3: '//cdnjs.cloudflare.com/ajax/libs/d3/3.4.13/d3',\n",
       "          plotly: 'https://cdn.plot.ly/plotly-1.5.1.min.js?noext',\n",
       "          jquery: '//ajax.googleapis.com/ajax/libs/jquery/2.0.0/jquery.min'\n",
       "        },\n",
       "        map: {\n",
       "          '*': {\n",
       "            datalab: 'nbextensions/gcpdatalab'\n",
       "          }\n",
       "        },\n",
       "        shim: {\n",
       "          plotly: {\n",
       "            deps: ['d3', 'jquery'],\n",
       "            exports: 'plotly'\n",
       "          }\n",
       "        }\n",
       "      });\n",
       "\n",
       "      require(['datalab/charting', 'datalab/element!43_149782008900', 'base/js/events',\n",
       "          'datalab/style!/nbextensions/gcpdatalab/charting.css'],\n",
       "        function(charts, dom, events) {\n",
       "          charts.render('gcharts', dom, events, 'table', [], {\"rows\": [{\"c\": [{\"v\": \"d43f9d575a8bb9afe90917757bee6250\"}, {\"v\": \"active\"}, {\"v\": 968000.0}, {\"v\": 0.0}, {\"v\": 0.0}, {\"v\": \"9700: DEPT OF DEFENSE\"}, {\"v\": \"1700: DEPT OF THE NAVY\"}, {\"v\": \"9700: DEPT OF DEFENSE\"}, {\"v\": \"1700: DEPT OF THE NAVY\"}, {\"v\": \"C2472: NAVAL FACILITIES ENGINEERING COM\"}, {\"v\": \"1700: DEPT OF THE NAVY\"}, {\"v\": \":\"}, {\"v\": \"Not Applicable\"}, {\"v\": \"09/27/2001\"}, {\"v\": \"09/27/2001\"}, {\"v\": \"12/06/2002\"}, {\"v\": \"01/01/1900\"}, {\"v\": \"01/01/1900\"}, {\"v\": \"DCA Definitive Contract\"}, {\"v\": \":\"}, {\"v\": \"J: Firm Fixed Price\"}, {\"v\": 0.0}, {\"v\": \"B: PLAN NOT REQUIRED \"}, {\"v\": \"X\"}, {\"v\": \"N: No\"}, {\"v\": \"N: NO - SERVICE WHERE PBA IS NOT USED.\"}, {\"v\": \"\"}, {\"v\": \":\"}, {\"v\": \"Z: NOT APPLICABLE\"}, {\"v\": \"N: No\"}, {\"v\": \"X\"}, {\"v\": \"\"}, {\"v\": \"N: No\"}, {\"v\": \"1\"}, {\"v\": \"NONE: NONE\"}, {\"v\": \"\"}, {\"v\": \"\"}, {\"v\": \"\"}, {\"v\": \"\"}, {\"v\": \"\"}, {\"v\": \"\"}, {\"v\": \":\"}, {\"v\": \"\"}, {\"v\": \"BURKEL CONSTRUCTION, INC\"}, {\"v\": \"\"}, {\"v\": \"\"}, {\"v\": \"\"}, {\"v\": \"\"}, {\"v\": \"\"}, {\"v\": \"\"}, {\"v\": \"\"}, {\"v\": \"\"}, {\"v\": \"4232 COUNTY TRUNK C\"}, {\"v\": \"\"}, {\"v\": \"\"}, {\"v\": \"PULASKI\"}, {\"v\": \"WI\"}, {\"v\": \"54162\"}, {\"v\": \"UNITED STATES\"}, {\"v\": \"WI\"}, {\"v\": \"WI08\"}, {\"v\": \"WI08\"}, {\"v\": \"\"}, {\"v\": \"\"}, {\"v\": \"157309014\"}, {\"v\": \"157309014\"}, {\"v\": \"\"}, {\"v\": \"\"}, {\"v\": \"01/01/1900\"}, {\"v\": \"01/01/1900\"}, {\"v\": \"BURKEL CONSTRUCTION INC\"}, {\"v\": \"08395\"}, {\"v\": \"ME: MAINE\"}, {\"v\": \"\"}, {\"v\": \"ME: \"}, {\"v\": \"USA: UNITED STATES\"}, {\"v\": \"\"}, {\"v\": \"ME00\"}, {\"v\": \"ME00\"}, {\"v\": \"Z\"}, {\"v\": \"Z221: MAINT-REP-ALT/AIRPORT SERVICE ROADS\"}, {\"v\": \"2000: \"}, {\"v\": \"C2: CONSTRUCTION\"}, {\"v\": \"234110: HIGHWAY AND STREET CONSTRUCTION\"}, {\"v\": \":\"}, {\"v\": \"N: Transaction does not use GFE/GFP\"}, {\"v\": \":\"}, {\"v\": \":\"}, {\"v\": \"U: UNKNOWN\"}, {\"v\": \"D: NOT A BUNDLED REQUIREMENT\"}, {\"v\": \"N: No\"}, {\"v\": \"\"}, {\"v\": \":\"}, {\"v\": \":\"}, {\"v\": \"9700: DEPT OF DEFENSE\"}, {\"v\": \"N6247200C4753\"}, {\"v\": \"0\"}, {\"v\": \"0\"}, {\"v\": 2001}, {\"v\": \"\"}, {\"v\": \"\"}, {\"v\": \"0\"}, {\"v\": \"\"}, {\"v\": \"D: FULL AND OPEN COMPETITION AFTER EXCLUSION OF SOURCES\"}, {\"v\": \":\"}, {\"v\": 3}, {\"v\": \"D: \"}, {\"v\": \"N: No\"}, {\"v\": \"Y: YES\"}, {\"v\": \"No\"}, {\"v\": \"\"}, {\"v\": \":\"}, {\"v\": \"SBA: SMALL BUSINESS SET ASIDE - TOTAL\"}, {\"v\": \"\"}, {\"v\": \":\"}, {\"v\": \"Y\"}, {\"v\": \"\"}, {\"v\": \"\"}, {\"v\": \"\"}, {\"v\": 0}, {\"v\": 3500000.0}, {\"v\": \"N\"}, {\"v\": \"N\"}, {\"v\": \"Y\"}, {\"v\": \"Y\"}, {\"v\": \"N\"}, {\"v\": \"N\"}, {\"v\": \"N\"}, {\"v\": \"N\"}, {\"v\": \"N\"}, {\"v\": \"N\"}, {\"v\": \"N\"}, {\"v\": \"N\"}, {\"v\": \"N\"}, {\"v\": \"N\"}, {\"v\": \"N\"}, {\"v\": \"N\"}, {\"v\": \"N\"}, {\"v\": \"N\"}, {\"v\": \"N\"}, {\"v\": \"N\"}, {\"v\": \"N\"}, {\"v\": \"N\"}, {\"v\": \"N\"}, {\"v\": \"N\"}, {\"v\": \"N\"}, {\"v\": \"N\"}, {\"v\": \"N\"}, {\"v\": \"N\"}, {\"v\": \"N\"}, {\"v\": \"S: SMALL BUSINESS\"}, {\"v\": \"N\"}, {\"v\": \"N\"}, {\"v\": \"N\"}, {\"v\": \"N\"}, {\"v\": \"N\"}, {\"v\": \"N\"}, {\"v\": \"N\"}, {\"v\": \"N\"}, {\"v\": \"\"}, {\"v\": \"N\"}, {\"v\": \"N\"}, {\"v\": \"N\"}, {\"v\": \"N\"}, {\"v\": \"N\"}, {\"v\": \"N\"}, {\"v\": \"N\"}, {\"v\": \"N\"}, {\"v\": \"N\"}, {\"v\": \"N\"}, {\"v\": \"N\"}, {\"v\": \"N\"}, {\"v\": \"N\"}, {\"v\": \"N\"}, {\"v\": \"\"}, {\"v\": \"N\"}, {\"v\": \"N\"}, {\"v\": \"N\"}, {\"v\": \"N\"}, {\"v\": \"N\"}, {\"v\": \"N\"}, {\"v\": \"N\"}, {\"v\": \"N\"}, {\"v\": \"N\"}, {\"v\": \"N\"}, {\"v\": \"N\"}, {\"v\": \"N\"}, {\"v\": \"N\"}, {\"v\": \"N\"}, {\"v\": \"N\"}, {\"v\": \"N\"}, {\"v\": \"N\"}, {\"v\": \"N\"}, {\"v\": \"N\"}, {\"v\": \"N\"}, {\"v\": \"N\"}, {\"v\": \"N\"}, {\"v\": \"N\"}, {\"v\": \"N\"}, {\"v\": \"N\"}, {\"v\": \"N\"}, {\"v\": \"N\"}, {\"v\": \"N\"}, {\"v\": \"N\"}, {\"v\": \"N\"}, {\"v\": \"N\"}, {\"v\": \"N\"}, {\"v\": \"N\"}, {\"v\": \"X: Not Applicable\"}, {\"v\": \"X: Not Applicable\"}, {\"v\": \"Y: Yes\"}, {\"v\": \"N: No\"}, {\"v\": \"\"}, {\"v\": \"\"}, {\"v\": 0.0}, {\"v\": \"\"}, {\"v\": 0.0}, {\"v\": \"\"}, {\"v\": 0.0}, {\"v\": \"\"}, {\"v\": 0.0}, {\"v\": \"\"}, {\"v\": 0.0}, {\"v\": \"X: Not Applicable\"}, {\"v\": \"02/12/2006\"}]}, {\"c\": [{\"v\": \"e299fdc709460733410d125878386bb8\"}, {\"v\": \"active\"}, {\"v\": 42600.0}, {\"v\": 0.0}, {\"v\": 0.0}, {\"v\": \"9700: DEPT OF DEFENSE\"}, {\"v\": \"1700: DEPT OF THE NAVY\"}, {\"v\": \"9700: DEPT OF DEFENSE\"}, {\"v\": \"1700: DEPT OF THE NAVY\"}, {\"v\": \"BS786: SUPERVISOR SHIPBUILDING CONVERSI\"}, {\"v\": \"1700: DEPT OF THE NAVY\"}, {\"v\": \":\"}, {\"v\": \"Not Applicable\"}, {\"v\": \"09/21/2001\"}, {\"v\": \"09/21/2001\"}, {\"v\": \"10/13/2002\"}, {\"v\": \"01/01/1900\"}, {\"v\": \"01/01/1900\"}, {\"v\": \"DCA Definitive Contract\"}, {\"v\": \"D: CHANGE ORDER\"}, {\"v\": \"L: Fixed Price Incentive\"}, {\"v\": 0.0}, {\"v\": \"E: PLAN REQUIRED (PRE 2004)\"}, {\"v\": \"X\"}, {\"v\": \"N: No\"}, {\"v\": \"X: NOT APPLICABLE\"}, {\"v\": \"\"}, {\"v\": \":\"}, {\"v\": \"C: PERCENTAGE OF COMPLETION PROGRESS PAYMENTS\"}, {\"v\": \"N: No\"}, {\"v\": \"X\"}, {\"v\": \"\"}, {\"v\": \"N: No\"}, {\"v\": \"1\"}, {\"v\": \"NONE: NONE\"}, {\"v\": \"\"}, {\"v\": \"\"}, {\"v\": \"\"}, {\"v\": \"\"}, {\"v\": \"\"}, {\"v\": \"\"}, {\"v\": \":\"}, {\"v\": \"\"}, {\"v\": \"BATH IRON WORKS CORPORATION\"}, {\"v\": \"\"}, {\"v\": \"\"}, {\"v\": \"\"}, {\"v\": \"\"}, {\"v\": \"\"}, {\"v\": \"\"}, {\"v\": \"\"}, {\"v\": \"\"}, {\"v\": \"700 WASHINGTON ST\"}, {\"v\": \"\"}, {\"v\": \"\"}, {\"v\": \"BATH\"}, {\"v\": \"ME\"}, {\"v\": \"04530\"}, {\"v\": \"UNITED STATES\"}, {\"v\": \"ME\"}, {\"v\": \"ME01\"}, {\"v\": \"ME01\"}, {\"v\": \"\"}, {\"v\": \"\"}, {\"v\": \"045953718\"}, {\"v\": \"001381284\"}, {\"v\": \"\"}, {\"v\": \"\"}, {\"v\": \"01/01/1900\"}, {\"v\": \"01/01/1900\"}, {\"v\": \"GENERAL DYNAMICS CORPORATION\"}, {\"v\": \"03355\"}, {\"v\": \"ME: MAINE\"}, {\"v\": \"\"}, {\"v\": \"ME: \"}, {\"v\": \"USA: UNITED STATES\"}, {\"v\": \"\"}, {\"v\": \"ME00\"}, {\"v\": \"ME00\"}, {\"v\": \"19\"}, {\"v\": \"1903: DESTROYERS\"}, {\"v\": \"SCY : \"}, {\"v\": \"A3: SHIPS\"}, {\"v\": \":\"}, {\"v\": \":\"}, {\"v\": \"N: Transaction does not use GFE/GFP\"}, {\"v\": \":\"}, {\"v\": \":\"}, {\"v\": \"U: UNKNOWN\"}, {\"v\": \":\"}, {\"v\": \"N: No\"}, {\"v\": \"\"}, {\"v\": \":\"}, {\"v\": \":\"}, {\"v\": \"9700: DEPT OF DEFENSE\"}, {\"v\": \"N0002494C2808\"}, {\"v\": \"A01752\"}, {\"v\": \"0\"}, {\"v\": 2001}, {\"v\": \"\"}, {\"v\": \"\"}, {\"v\": \"0\"}, {\"v\": \"\"}, {\"v\": \"A: FULL AND OPEN COMPETITION\"}, {\"v\": \":\"}, {\"v\": 2}, {\"v\": \"D: \"}, {\"v\": \"N: No\"}, {\"v\": \"N: NO\"}, {\"v\": \"No\"}, {\"v\": \"\"}, {\"v\": \"AS: ALTERNATIVE SOURCES\"}, {\"v\": \":\"}, {\"v\": \"\"}, {\"v\": \":\"}, {\"v\": \"Y\"}, {\"v\": \"\"}, {\"v\": \"\"}, {\"v\": \"\"}, {\"v\": 0}, {\"v\": 0.0}, {\"v\": \"N\"}, {\"v\": \"N\"}, {\"v\": \"N\"}, {\"v\": \"N\"}, {\"v\": \"N\"}, {\"v\": \"N\"}, {\"v\": \"N\"}, {\"v\": \"N\"}, {\"v\": \"N\"}, {\"v\": \"N\"}, {\"v\": \"N\"}, {\"v\": \"N\"}, {\"v\": \"N\"}, {\"v\": \"N\"}, {\"v\": \"N\"}, {\"v\": \"N\"}, {\"v\": \"N\"}, {\"v\": \"N\"}, {\"v\": \"N\"}, {\"v\": \"N\"}, {\"v\": \"N\"}, {\"v\": \"N\"}, {\"v\": \"N\"}, {\"v\": \"N\"}, {\"v\": \"N\"}, {\"v\": \"N\"}, {\"v\": \"N\"}, {\"v\": \"N\"}, {\"v\": \"N\"}, {\"v\": \"O: OTHER THAN SMALL BUSINESS\"}, {\"v\": \"N\"}, {\"v\": \"N\"}, {\"v\": \"N\"}, {\"v\": \"N\"}, {\"v\": \"N\"}, {\"v\": \"N\"}, {\"v\": \"N\"}, {\"v\": \"N\"}, {\"v\": \"\"}, {\"v\": \"N\"}, {\"v\": \"N\"}, {\"v\": \"N\"}, {\"v\": \"N\"}, {\"v\": \"N\"}, {\"v\": \"N\"}, {\"v\": \"N\"}, {\"v\": \"N\"}, {\"v\": \"N\"}, {\"v\": \"N\"}, {\"v\": \"N\"}, {\"v\": \"N\"}, {\"v\": \"N\"}, {\"v\": \"N\"}, {\"v\": \"\"}, {\"v\": \"N\"}, {\"v\": \"N\"}, {\"v\": \"N\"}, {\"v\": \"N\"}, {\"v\": \"N\"}, {\"v\": \"N\"}, {\"v\": \"N\"}, {\"v\": \"N\"}, {\"v\": \"N\"}, {\"v\": \"N\"}, {\"v\": \"N\"}, {\"v\": \"N\"}, {\"v\": \"N\"}, {\"v\": \"N\"}, {\"v\": \"N\"}, {\"v\": \"N\"}, {\"v\": \"N\"}, {\"v\": \"N\"}, {\"v\": \"N\"}, {\"v\": \"N\"}, {\"v\": \"N\"}, {\"v\": \"N\"}, {\"v\": \"N\"}, {\"v\": \"N\"}, {\"v\": \"N\"}, {\"v\": \"N\"}, {\"v\": \"N\"}, {\"v\": \"N\"}, {\"v\": \"N\"}, {\"v\": \"N\"}, {\"v\": \"N\"}, {\"v\": \"N\"}, {\"v\": \"N\"}, {\"v\": \"N: No\"}, {\"v\": \"X: Not Applicable\"}, {\"v\": \"X: Not Applicable\"}, {\"v\": \"N: No\"}, {\"v\": \"\"}, {\"v\": \"\"}, {\"v\": 0.0}, {\"v\": \"\"}, {\"v\": 0.0}, {\"v\": \"\"}, {\"v\": 0.0}, {\"v\": \"\"}, {\"v\": 0.0}, {\"v\": \"\"}, {\"v\": 0.0}, {\"v\": \"X: Not Applicable\"}, {\"v\": \"01/22/2010\"}]}, {\"c\": [{\"v\": \"beaa7abd09955a2330faf7c6acf56d01\"}, {\"v\": \"active\"}, {\"v\": 74114.0}, {\"v\": 0.0}, {\"v\": 0.0}, {\"v\": \"9700: DEPT OF DEFENSE\"}, {\"v\": \"1700: DEPT OF THE NAVY\"}, {\"v\": \"9700: DEPT OF DEFENSE\"}, {\"v\": \"1700: DEPT OF THE NAVY\"}, {\"v\": \"BS786: SUPERVISOR SHIPBUILDING CONVERSI\"}, {\"v\": \"1700: DEPT OF THE NAVY\"}, {\"v\": \":\"}, {\"v\": \"Not Applicable\"}, {\"v\": \"08/03/2001\"}, {\"v\": \"08/03/2001\"}, {\"v\": \"08/13/2001\"}, {\"v\": \"01/01/1900\"}, {\"v\": \"01/01/1900\"}, {\"v\": \"DCA Definitive Contract\"}, {\"v\": \"D: CHANGE ORDER\"}, {\"v\": \"R: Cost Plus Award Fee\"}, {\"v\": 0.0}, {\"v\": \"C: PLAN REQUIRED - INCENTIVE NOT INCLUDED \"}, {\"v\": \"X\"}, {\"v\": \"N: No\"}, {\"v\": \"X: NOT APPLICABLE\"}, {\"v\": \"\"}, {\"v\": \":\"}, {\"v\": \"Z: NOT APPLICABLE\"}, {\"v\": \"N: No\"}, {\"v\": \"X\"}, {\"v\": \"200111!009301!1700!BS786 !SUPERVISOR SHIPBUILDING CONVERSI!N0002499C2313  !A!N!*!N!A00271             !20010803!20010813!045953718!045953718!001381284!N!BATH IRON WORKS CORPORATION   !700 WASHINGTON ST         !BATH                !ME!04530!03355!023!23!BATH                !SAGADAHOC             !MAINE     !+000000074114!N!N!000000000000!1903!DESTROYERS                                        !A3 !SHIPS                         !2SCY!DESTROYER DDG-51              !336611!*!*!3! ! !D!*!*!*!B!*!*!A! !D !U!R!1!001!N!3A!Z!N!Z!  !  !N!C!N! ! ! !A!A!A!A!000!A!C!N! ! ! ! !    !      !0001!\"}, {\"v\": \"N: No\"}, {\"v\": \"1\"}, {\"v\": \"NONE: NONE\"}, {\"v\": \"\"}, {\"v\": \"\"}, {\"v\": \"\"}, {\"v\": \"\"}, {\"v\": \"\"}, {\"v\": \"\"}, {\"v\": \":\"}, {\"v\": \"\"}, {\"v\": \"BATH IRON WORKS CORPORATION\"}, {\"v\": \"\"}, {\"v\": \"\"}, {\"v\": \"\"}, {\"v\": \"\"}, {\"v\": \"\"}, {\"v\": \"\"}, {\"v\": \"\"}, {\"v\": \"\"}, {\"v\": \"700 WASHINGTON ST\"}, {\"v\": \"\"}, {\"v\": \"\"}, {\"v\": \"BATH\"}, {\"v\": \"ME\"}, {\"v\": \"045302574\"}, {\"v\": \"UNITED STATES\"}, {\"v\": \"ME\"}, {\"v\": \"ME01\"}, {\"v\": \"ME01\"}, {\"v\": \"045953718\"}, {\"v\": \"04530\"}, {\"v\": \"045953718\"}, {\"v\": \"001381284\"}, {\"v\": \"2074422783\"}, {\"v\": \"\"}, {\"v\": \"07/23/2001\"}, {\"v\": \"09/23/2015\"}, {\"v\": \"GENERAL DYNAMICS CORPORATION\"}, {\"v\": \"03355\"}, {\"v\": \"ME: MAINE\"}, {\"v\": \"\"}, {\"v\": \"ME: \"}, {\"v\": \"USA: UNITED STATES\"}, {\"v\": \"\"}, {\"v\": \"ME00\"}, {\"v\": \"ME00\"}, {\"v\": \"19\"}, {\"v\": \"1903: DESTROYERS\"}, {\"v\": \"SCY: DESTROYER DDG-51\"}, {\"v\": \"A3: SHIPS\"}, {\"v\": \":\"}, {\"v\": \":\"}, {\"v\": \"N: Transaction does not use GFE/GFP\"}, {\"v\": \":\"}, {\"v\": \"C: NO CLAUSES INCLUDED AND NO SUSTAINABILITY INCLU\"}, {\"v\": \"U: UNKNOWN\"}, {\"v\": \"D: NOT A BUNDLED REQUIREMENT\"}, {\"v\": \"N: No\"}, {\"v\": \"\"}, {\"v\": \"D: MFG IN U.S.\"}, {\"v\": \":\"}, {\"v\": \"9700: DEPT OF DEFENSE\"}, {\"v\": \"N0002499C2313\"}, {\"v\": \"A00271\"}, {\"v\": \"0\"}, {\"v\": 2001}, {\"v\": \"\"}, {\"v\": \"\"}, {\"v\": \"0\"}, {\"v\": \"\"}, {\"v\": \"C: NOT COMPETED\"}, {\"v\": \"UNQ: UNIQUE SOURCE \"}, {\"v\": 1}, {\"v\": \"D: \"}, {\"v\": \"N: No\"}, {\"v\": \"N: NO\"}, {\"v\": \"No\"}, {\"v\": \"\"}, {\"v\": \"SSS: ONLY ONE SOURCE\"}, {\"v\": \"NONE: NO SET ASIDE USED.\"}, {\"v\": \"\"}, {\"v\": \"NONE: NO PREFERENCE USED\"}, {\"v\": \"Y\"}, {\"v\": \"\"}, {\"v\": \"\"}, {\"v\": \"CORPORATE NOT TAX EXEMPT\"}, {\"v\": 94433}, {\"v\": 31802667008.0}, {\"v\": \"N\"}, {\"v\": \"N\"}, {\"v\": \"N\"}, {\"v\": \"N\"}, {\"v\": \"N\"}, {\"v\": \"N\"}, {\"v\": \"N\"}, {\"v\": \"N\"}, {\"v\": \"N\"}, {\"v\": \"N\"}, {\"v\": \"N\"}, {\"v\": \"N\"}, {\"v\": \"N\"}, {\"v\": \"N\"}, {\"v\": \"N\"}, {\"v\": \"N\"}, {\"v\": \"N\"}, {\"v\": \"N\"}, {\"v\": \"N\"}, {\"v\": \"N\"}, {\"v\": \"N\"}, {\"v\": \"N\"}, {\"v\": \"N\"}, {\"v\": \"Y\"}, {\"v\": \"N\"}, {\"v\": \"N\"}, {\"v\": \"N\"}, {\"v\": \"N\"}, {\"v\": \"N\"}, {\"v\": \"O: OTHER THAN SMALL BUSINESS\"}, {\"v\": \"N\"}, {\"v\": \"N\"}, {\"v\": \"N\"}, {\"v\": \"N\"}, {\"v\": \"N\"}, {\"v\": \"N\"}, {\"v\": \"N\"}, {\"v\": \"N\"}, {\"v\": \"\"}, {\"v\": \"Y\"}, {\"v\": \"Y\"}, {\"v\": \"Y\"}, {\"v\": \"N\"}, {\"v\": \"N\"}, {\"v\": \"N\"}, {\"v\": \"N\"}, {\"v\": \"N\"}, {\"v\": \"N\"}, {\"v\": \"N\"}, {\"v\": \"N\"}, {\"v\": \"N\"}, {\"v\": \"N\"}, {\"v\": \"N\"}, {\"v\": \"\"}, {\"v\": \"N\"}, {\"v\": \"N\"}, {\"v\": \"N\"}, {\"v\": \"N\"}, {\"v\": \"Y\"}, {\"v\": \"Y\"}, {\"v\": \"N\"}, {\"v\": \"N\"}, {\"v\": \"N\"}, {\"v\": \"N\"}, {\"v\": \"N\"}, {\"v\": \"N\"}, {\"v\": \"N\"}, {\"v\": \"N\"}, {\"v\": \"N\"}, {\"v\": \"N\"}, {\"v\": \"N\"}, {\"v\": \"N\"}, {\"v\": \"N\"}, {\"v\": \"N\"}, {\"v\": \"N\"}, {\"v\": \"N\"}, {\"v\": \"N\"}, {\"v\": \"N\"}, {\"v\": \"N\"}, {\"v\": \"N\"}, {\"v\": \"N\"}, {\"v\": \"N\"}, {\"v\": \"N\"}, {\"v\": \"N\"}, {\"v\": \"N\"}, {\"v\": \"N\"}, {\"v\": \"N\"}, {\"v\": \"N: No\"}, {\"v\": \"X: Not Applicable\"}, {\"v\": \"X: Not Applicable\"}, {\"v\": \"N: No\"}, {\"v\": \"\"}, {\"v\": \"\"}, {\"v\": 0.0}, {\"v\": \"\"}, {\"v\": 0.0}, {\"v\": \"\"}, {\"v\": 0.0}, {\"v\": \"\"}, {\"v\": 0.0}, {\"v\": \"\"}, {\"v\": 0.0}, {\"v\": \"X: Not Applicable\"}, {\"v\": \"03/10/2015\"}]}, {\"c\": [{\"v\": \"21071a75e2d0ce0eac95ac0efc31f6d1\"}, {\"v\": \"active\"}, {\"v\": 44638.0}, {\"v\": 0.0}, {\"v\": 0.0}, {\"v\": \"9700: DEPT OF DEFENSE\"}, {\"v\": \"1700: DEPT OF THE NAVY\"}, {\"v\": \"9700: DEPT OF DEFENSE\"}, {\"v\": \"1700: DEPT OF THE NAVY\"}, {\"v\": \"BS786: SUPERVISOR SHIPBUILDING CONVERSI\"}, {\"v\": \"1700: DEPT OF THE NAVY\"}, {\"v\": \":\"}, {\"v\": \"Not Applicable\"}, {\"v\": \"05/30/2001\"}, {\"v\": \"05/30/2001\"}, {\"v\": \"06/01/2001\"}, {\"v\": \"01/01/1900\"}, {\"v\": \"01/01/1900\"}, {\"v\": \"DCA Definitive Contract\"}, {\"v\": \"D: CHANGE ORDER\"}, {\"v\": \"R: Cost Plus Award Fee\"}, {\"v\": 0.0}, {\"v\": \"C: PLAN REQUIRED - INCENTIVE NOT INCLUDED \"}, {\"v\": \"X\"}, {\"v\": \"N: No\"}, {\"v\": \"X: NOT APPLICABLE\"}, {\"v\": \"\"}, {\"v\": \":\"}, {\"v\": \"Z: NOT APPLICABLE\"}, {\"v\": \"N: No\"}, {\"v\": \"X\"}, {\"v\": \"200111!009284!1700!BS786 !SUPERVISOR SHIPBUILDING CONVERSI!N0002499C2313  !A!N!*!N!A00247             !20010530!20010601!045953718!045953718!001381284!N!BATH IRON WORKS CORPORATION   !700 WASHINGTON ST         !BATH                !ME!04530!03355!023!23!BATH                !SAGADAHOC             !MAINE     !+000000044638!N!N!000000000000!1903!DESTROYERS                                        !A3 !SHIPS                         !2SCY!DESTROYER DDG-51              !336611!*!*!3! ! !D!*!*!*!B!*!*!A! !D !U!R!1!001!N!3A!Z!N!Z!  !  !N!C!N! ! ! !A!A!A!A!000!A!C!N! ! ! ! !    !      !0001!\"}, {\"v\": \"N: No\"}, {\"v\": \"1\"}, {\"v\": \"NONE: NONE\"}, {\"v\": \"\"}, {\"v\": \"\"}, {\"v\": \"\"}, {\"v\": \"\"}, {\"v\": \"\"}, {\"v\": \"\"}, {\"v\": \":\"}, {\"v\": \"\"}, {\"v\": \"BATH IRON WORKS CORPORATION\"}, {\"v\": \"\"}, {\"v\": \"\"}, {\"v\": \"\"}, {\"v\": \"\"}, {\"v\": \"\"}, {\"v\": \"\"}, {\"v\": \"\"}, {\"v\": \"\"}, {\"v\": \"700 WASHINGTON ST\"}, {\"v\": \"\"}, {\"v\": \"\"}, {\"v\": \"BATH\"}, {\"v\": \"ME\"}, {\"v\": \"045302574\"}, {\"v\": \"UNITED STATES\"}, {\"v\": \"ME\"}, {\"v\": \"ME01\"}, {\"v\": \"ME01\"}, {\"v\": \"045953718\"}, {\"v\": \"04530\"}, {\"v\": \"045953718\"}, {\"v\": \"001381284\"}, {\"v\": \"2074422783\"}, {\"v\": \"\"}, {\"v\": \"07/23/2001\"}, {\"v\": \"09/23/2015\"}, {\"v\": \"GENERAL DYNAMICS CORPORATION\"}, {\"v\": \"03355\"}, {\"v\": \"ME: MAINE\"}, {\"v\": \"\"}, {\"v\": \"ME: \"}, {\"v\": \"USA: UNITED STATES\"}, {\"v\": \"\"}, {\"v\": \"ME00\"}, {\"v\": \"ME00\"}, {\"v\": \"19\"}, {\"v\": \"1903: DESTROYERS\"}, {\"v\": \"SCY: DESTROYER DDG-51\"}, {\"v\": \"A3: SHIPS\"}, {\"v\": \":\"}, {\"v\": \":\"}, {\"v\": \"N: Transaction does not use GFE/GFP\"}, {\"v\": \":\"}, {\"v\": \"C: NO CLAUSES INCLUDED AND NO SUSTAINABILITY INCLU\"}, {\"v\": \"U: UNKNOWN\"}, {\"v\": \"D: NOT A BUNDLED REQUIREMENT\"}, {\"v\": \"N: No\"}, {\"v\": \"\"}, {\"v\": \"D: MFG IN U.S.\"}, {\"v\": \":\"}, {\"v\": \"9700: DEPT OF DEFENSE\"}, {\"v\": \"N0002499C2313\"}, {\"v\": \"A00247\"}, {\"v\": \"0\"}, {\"v\": 2001}, {\"v\": \"\"}, {\"v\": \"\"}, {\"v\": \"0\"}, {\"v\": \"\"}, {\"v\": \"C: NOT COMPETED\"}, {\"v\": \"UNQ: UNIQUE SOURCE \"}, {\"v\": 1}, {\"v\": \"D: \"}, {\"v\": \"N: No\"}, {\"v\": \"N: NO\"}, {\"v\": \"No\"}, {\"v\": \"\"}, {\"v\": \"SSS: ONLY ONE SOURCE\"}, {\"v\": \"NONE: NO SET ASIDE USED.\"}, {\"v\": \"\"}, {\"v\": \"NONE: NO PREFERENCE USED\"}, {\"v\": \"Y\"}, {\"v\": \"\"}, {\"v\": \"\"}, {\"v\": \"CORPORATE NOT TAX EXEMPT\"}, {\"v\": 94433}, {\"v\": 31802667008.0}, {\"v\": \"N\"}, {\"v\": \"N\"}, {\"v\": \"N\"}, {\"v\": \"N\"}, {\"v\": \"N\"}, {\"v\": \"N\"}, {\"v\": \"N\"}, {\"v\": \"N\"}, {\"v\": \"N\"}, {\"v\": \"N\"}, {\"v\": \"N\"}, {\"v\": \"N\"}, {\"v\": \"N\"}, {\"v\": \"N\"}, {\"v\": \"N\"}, {\"v\": \"N\"}, {\"v\": \"N\"}, {\"v\": \"N\"}, {\"v\": \"N\"}, {\"v\": \"N\"}, {\"v\": \"N\"}, {\"v\": \"N\"}, {\"v\": \"N\"}, {\"v\": \"Y\"}, {\"v\": \"N\"}, {\"v\": \"N\"}, {\"v\": \"N\"}, {\"v\": \"N\"}, {\"v\": \"N\"}, {\"v\": \"O: OTHER THAN SMALL BUSINESS\"}, {\"v\": \"N\"}, {\"v\": \"N\"}, {\"v\": \"N\"}, {\"v\": \"N\"}, {\"v\": \"N\"}, {\"v\": \"N\"}, {\"v\": \"N\"}, {\"v\": \"N\"}, {\"v\": \"\"}, {\"v\": \"Y\"}, {\"v\": \"Y\"}, {\"v\": \"Y\"}, {\"v\": \"N\"}, {\"v\": \"N\"}, {\"v\": \"N\"}, {\"v\": \"N\"}, {\"v\": \"N\"}, {\"v\": \"N\"}, {\"v\": \"N\"}, {\"v\": \"N\"}, {\"v\": \"N\"}, {\"v\": \"N\"}, {\"v\": \"N\"}, {\"v\": \"\"}, {\"v\": \"N\"}, {\"v\": \"N\"}, {\"v\": \"N\"}, {\"v\": \"N\"}, {\"v\": \"Y\"}, {\"v\": \"Y\"}, {\"v\": \"N\"}, {\"v\": \"N\"}, {\"v\": \"N\"}, {\"v\": \"N\"}, {\"v\": \"N\"}, {\"v\": \"N\"}, {\"v\": \"N\"}, {\"v\": \"N\"}, {\"v\": \"N\"}, {\"v\": \"N\"}, {\"v\": \"N\"}, {\"v\": \"N\"}, {\"v\": \"N\"}, {\"v\": \"N\"}, {\"v\": \"N\"}, {\"v\": \"N\"}, {\"v\": \"N\"}, {\"v\": \"N\"}, {\"v\": \"N\"}, {\"v\": \"N\"}, {\"v\": \"N\"}, {\"v\": \"N\"}, {\"v\": \"N\"}, {\"v\": \"N\"}, {\"v\": \"N\"}, {\"v\": \"N\"}, {\"v\": \"N\"}, {\"v\": \"N: No\"}, {\"v\": \"X: Not Applicable\"}, {\"v\": \"X: Not Applicable\"}, {\"v\": \"N: No\"}, {\"v\": \"\"}, {\"v\": \"\"}, {\"v\": 0.0}, {\"v\": \"\"}, {\"v\": 0.0}, {\"v\": \"\"}, {\"v\": 0.0}, {\"v\": \"\"}, {\"v\": 0.0}, {\"v\": \"\"}, {\"v\": 0.0}, {\"v\": \"X: Not Applicable\"}, {\"v\": \"03/10/2015\"}]}, {\"c\": [{\"v\": \"7f284e5c373e2b6afdd1f9898278ca59\"}, {\"v\": \"active\"}, {\"v\": 567900.0}, {\"v\": 0.0}, {\"v\": 0.0}, {\"v\": \"9700: DEPT OF DEFENSE\"}, {\"v\": \"1700: DEPT OF THE NAVY\"}, {\"v\": \"9700: DEPT OF DEFENSE\"}, {\"v\": \"1700: DEPT OF THE NAVY\"}, {\"v\": \"D710J: SPACE AND NAVAL WARFARE SYSTEMS\"}, {\"v\": \"1700: DEPT OF THE NAVY\"}, {\"v\": \":\"}, {\"v\": \"Not Applicable\"}, {\"v\": \"04/09/2001\"}, {\"v\": \"04/09/2001\"}, {\"v\": \"03/29/2004\"}, {\"v\": \"01/01/1900\"}, {\"v\": \"01/01/1900\"}, {\"v\": \"DCA Definitive Contract\"}, {\"v\": \"C: FUNDING ONLY ACTION\"}, {\"v\": \"U: Cost Plus Fixed Fee\"}, {\"v\": 0.0}, {\"v\": \"C: PLAN REQUIRED - INCENTIVE NOT INCLUDED \"}, {\"v\": \"X\"}, {\"v\": \"N: No\"}, {\"v\": \"N: NO - SERVICE WHERE PBA IS NOT USED.\"}, {\"v\": \"\"}, {\"v\": \":\"}, {\"v\": \"Z: NOT APPLICABLE\"}, {\"v\": \"Y: Yes\"}, {\"v\": \"X\"}, {\"v\": \"\"}, {\"v\": \"N: No\"}, {\"v\": \"1\"}, {\"v\": \"NONE: NONE\"}, {\"v\": \"\"}, {\"v\": \"\"}, {\"v\": \"\"}, {\"v\": \"\"}, {\"v\": \"\"}, {\"v\": \"\"}, {\"v\": \":\"}, {\"v\": \"\"}, {\"v\": \"LOCKHEED MARTIN CORPORATION\"}, {\"v\": \"\"}, {\"v\": \"\"}, {\"v\": \"\"}, {\"v\": \"\"}, {\"v\": \"\"}, {\"v\": \"\"}, {\"v\": \"\"}, {\"v\": \"\"}, {\"v\": \"65 SPIT BROOK ROAD\"}, {\"v\": \"\"}, {\"v\": \"\"}, {\"v\": \"NASHUA\"}, {\"v\": \"NH\"}, {\"v\": \"03061\"}, {\"v\": \"UNITED STATES\"}, {\"v\": \"NH\"}, {\"v\": \"NH02\"}, {\"v\": \"NH02\"}, {\"v\": \"\"}, {\"v\": \"\"}, {\"v\": \"933086472\"}, {\"v\": \"933086472\"}, {\"v\": \"\"}, {\"v\": \"\"}, {\"v\": \"01/01/1900\"}, {\"v\": \"01/01/1900\"}, {\"v\": \"LOCKHEED MARTIN CORPORATION\"}, {\"v\": \"50260\"}, {\"v\": \"NH: NEW HAMPSHIRE\"}, {\"v\": \"\"}, {\"v\": \"NH: \"}, {\"v\": \"USA: UNITED STATES\"}, {\"v\": \"\"}, {\"v\": \"NH00\"}, {\"v\": \"NH00\"}, {\"v\": \"A\"}, {\"v\": \"AZ12: R&D-OTHER R & D-A RES/EXPL DEV\"}, {\"v\": \"2000: \"}, {\"v\": \"A7: ELECTRONICS AND COMMUNICATION EQUIPMENT\"}, {\"v\": \"334511: SEARCH, DETECTION, NAVIGATION, GUIDANCE, AERONAUTICAL, AND NAUTICAL SYSTEM AND INSTRUMENT MANUFACTURING\"}, {\"v\": \":\"}, {\"v\": \"N: Transaction does not use GFE/GFP\"}, {\"v\": \":\"}, {\"v\": \":\"}, {\"v\": \"N: NO\"}, {\"v\": \"D: NOT A BUNDLED REQUIREMENT\"}, {\"v\": \"N: No\"}, {\"v\": \"\"}, {\"v\": \":\"}, {\"v\": \":\"}, {\"v\": \"9700: DEPT OF DEFENSE\"}, {\"v\": \"N6600100C8087\"}, {\"v\": \"P00003\"}, {\"v\": \"0\"}, {\"v\": 2001}, {\"v\": \"\"}, {\"v\": \"\"}, {\"v\": \"0\"}, {\"v\": \"\"}, {\"v\": \"D: FULL AND OPEN COMPETITION AFTER EXCLUSION OF SOURCES\"}, {\"v\": \":\"}, {\"v\": 1}, {\"v\": \"D: \"}, {\"v\": \"N: No\"}, {\"v\": \"N: NO\"}, {\"v\": \"No\"}, {\"v\": \"\"}, {\"v\": \"BR: BASIC RESEARCH \"}, {\"v\": \"NONE: NO SET ASIDE USED.\"}, {\"v\": \"\"}, {\"v\": \":\"}, {\"v\": \"Y\"}, {\"v\": \"\"}, {\"v\": \"\"}, {\"v\": \"\"}, {\"v\": 0}, {\"v\": 0.0}, {\"v\": \"N\"}, {\"v\": \"N\"}, {\"v\": \"N\"}, {\"v\": \"N\"}, {\"v\": \"N\"}, {\"v\": \"N\"}, {\"v\": \"N\"}, {\"v\": \"N\"}, {\"v\": \"N\"}, {\"v\": \"N\"}, {\"v\": \"N\"}, {\"v\": \"N\"}, {\"v\": \"N\"}, {\"v\": \"N\"}, {\"v\": \"N\"}, {\"v\": \"N\"}, {\"v\": \"N\"}, {\"v\": \"N\"}, {\"v\": \"N\"}, {\"v\": \"N\"}, {\"v\": \"N\"}, {\"v\": \"N\"}, {\"v\": \"N\"}, {\"v\": \"N\"}, {\"v\": \"N\"}, {\"v\": \"N\"}, {\"v\": \"N\"}, {\"v\": \"N\"}, {\"v\": \"N\"}, {\"v\": \"O: OTHER THAN SMALL BUSINESS\"}, {\"v\": \"N\"}, {\"v\": \"N\"}, {\"v\": \"N\"}, {\"v\": \"N\"}, {\"v\": \"N\"}, {\"v\": \"N\"}, {\"v\": \"N\"}, {\"v\": \"N\"}, {\"v\": \"\"}, {\"v\": \"N\"}, {\"v\": \"N\"}, {\"v\": \"N\"}, {\"v\": \"N\"}, {\"v\": \"N\"}, {\"v\": \"N\"}, {\"v\": \"N\"}, {\"v\": \"N\"}, {\"v\": \"N\"}, {\"v\": \"N\"}, {\"v\": \"N\"}, {\"v\": \"N\"}, {\"v\": \"N\"}, {\"v\": \"N\"}, {\"v\": \"\"}, {\"v\": \"N\"}, {\"v\": \"N\"}, {\"v\": \"N\"}, {\"v\": \"N\"}, {\"v\": \"N\"}, {\"v\": \"N\"}, {\"v\": \"N\"}, {\"v\": \"N\"}, {\"v\": \"N\"}, {\"v\": \"N\"}, {\"v\": \"N\"}, {\"v\": \"N\"}, {\"v\": \"N\"}, {\"v\": \"N\"}, {\"v\": \"N\"}, {\"v\": \"N\"}, {\"v\": \"N\"}, {\"v\": \"N\"}, {\"v\": \"N\"}, {\"v\": \"N\"}, {\"v\": \"N\"}, {\"v\": \"N\"}, {\"v\": \"N\"}, {\"v\": \"N\"}, {\"v\": \"N\"}, {\"v\": \"N\"}, {\"v\": \"N\"}, {\"v\": \"N\"}, {\"v\": \"N\"}, {\"v\": \"N\"}, {\"v\": \"N\"}, {\"v\": \"N\"}, {\"v\": \"N\"}, {\"v\": \"X: Not Applicable\"}, {\"v\": \"N: No\"}, {\"v\": \"X: Not Applicable\"}, {\"v\": \"N: No\"}, {\"v\": \"\"}, {\"v\": \"\"}, {\"v\": 0.0}, {\"v\": \"\"}, {\"v\": 0.0}, {\"v\": \"\"}, {\"v\": 0.0}, {\"v\": \"\"}, {\"v\": 0.0}, {\"v\": \"\"}, {\"v\": 0.0}, {\"v\": \"X: Not Applicable\"}, {\"v\": \"02/12/2006\"}]}], \"cols\": [{\"type\": \"string\", \"id\": \"unique_transaction_id\", \"label\": \"unique_transaction_id\"}, {\"type\": \"string\", \"id\": \"transaction_status\", \"label\": \"transaction_status\"}, {\"type\": \"number\", \"id\": \"dollarsobligated\", \"label\": \"dollarsobligated\"}, {\"type\": \"number\", \"id\": \"baseandexercisedoptionsvalue\", \"label\": \"baseandexercisedoptionsvalue\"}, {\"type\": \"number\", \"id\": \"baseandalloptionsvalue\", \"label\": \"baseandalloptionsvalue\"}, {\"type\": \"string\", \"id\": \"maj_agency_cat\", \"label\": \"maj_agency_cat\"}, {\"type\": \"string\", \"id\": \"mod_agency\", \"label\": \"mod_agency\"}, {\"type\": \"string\", \"id\": \"maj_fund_agency_cat\", \"label\": \"maj_fund_agency_cat\"}, {\"type\": \"string\", \"id\": \"contractingofficeagencyid\", \"label\": \"contractingofficeagencyid\"}, {\"type\": \"string\", \"id\": \"contractingofficeid\", \"label\": \"contractingofficeid\"}, {\"type\": \"string\", \"id\": \"fundingrequestingagencyid\", \"label\": \"fundingrequestingagencyid\"}, {\"type\": \"string\", \"id\": \"fundingrequestingofficeid\", \"label\": \"fundingrequestingofficeid\"}, {\"type\": \"string\", \"id\": \"fundedbyforeignentity\", \"label\": \"fundedbyforeignentity\"}, {\"type\": \"string\", \"id\": \"signeddate\", \"label\": \"signeddate\"}, {\"type\": \"string\", \"id\": \"effectivedate\", \"label\": \"effectivedate\"}, {\"type\": \"string\", \"id\": \"currentcompletiondate\", \"label\": \"currentcompletiondate\"}, {\"type\": \"string\", \"id\": \"ultimatecompletiondate\", \"label\": \"ultimatecompletiondate\"}, {\"type\": \"string\", \"id\": \"lastdatetoorder\", \"label\": \"lastdatetoorder\"}, {\"type\": \"string\", \"id\": \"contractactiontype\", \"label\": \"contractactiontype\"}, {\"type\": \"string\", \"id\": \"reasonformodification\", \"label\": \"reasonformodification\"}, {\"type\": \"string\", \"id\": \"typeofcontractpricing\", \"label\": \"typeofcontractpricing\"}, {\"type\": \"number\", \"id\": \"priceevaluationpercentdifference\", \"label\": \"priceevaluationpercentdifference\"}, {\"type\": \"string\", \"id\": \"subcontractplan\", \"label\": \"subcontractplan\"}, {\"type\": \"string\", \"id\": \"lettercontract\", \"label\": \"lettercontract\"}, {\"type\": \"string\", \"id\": \"multiyearcontract\", \"label\": \"multiyearcontract\"}, {\"type\": \"string\", \"id\": \"performancebasedservicecontract\", \"label\": \"performancebasedservicecontract\"}, {\"type\": \"string\", \"id\": \"majorprogramcode\", \"label\": \"majorprogramcode\"}, {\"type\": \"string\", \"id\": \"contingencyhumanitarianpeacekeepingoperation\", \"label\": \"contingencyhumanitarianpeacekeepingoperation\"}, {\"type\": \"string\", \"id\": \"contractfinancing\", \"label\": \"contractfinancing\"}, {\"type\": \"string\", \"id\": \"costorpricingdata\", \"label\": \"costorpricingdata\"}, {\"type\": \"string\", \"id\": \"costaccountingstandardsclause\", \"label\": \"costaccountingstandardsclause\"}, {\"type\": \"string\", \"id\": \"descriptionofcontractrequirement\", \"label\": \"descriptionofcontractrequirement\"}, {\"type\": \"string\", \"id\": \"purchasecardaspaymentmethod\", \"label\": \"purchasecardaspaymentmethod\"}, {\"type\": \"string\", \"id\": \"numberofactions\", \"label\": \"numberofactions\"}, {\"type\": \"string\", \"id\": \"nationalinterestactioncode\", \"label\": \"nationalinterestactioncode\"}, {\"type\": \"string\", \"id\": \"progsourceagency\", \"label\": \"progsourceagency\"}, {\"type\": \"string\", \"id\": \"progsourceaccount\", \"label\": \"progsourceaccount\"}, {\"type\": \"string\", \"id\": \"progsourcesubacct\", \"label\": \"progsourcesubacct\"}, {\"type\": \"string\", \"id\": \"account_title\", \"label\": \"account_title\"}, {\"type\": \"string\", \"id\": \"rec_flag\", \"label\": \"rec_flag\"}, {\"type\": \"string\", \"id\": \"typeofidc\", \"label\": \"typeofidc\"}, {\"type\": \"string\", \"id\": \"multipleorsingleawardidc\", \"label\": \"multipleorsingleawardidc\"}, {\"type\": \"string\", \"id\": \"programacronym\", \"label\": \"programacronym\"}, {\"type\": \"string\", \"id\": \"vendorname\", \"label\": \"vendorname\"}, {\"type\": \"string\", \"id\": \"vendoralternatename\", \"label\": \"vendoralternatename\"}, {\"type\": \"string\", \"id\": \"vendorlegalorganizationname\", \"label\": \"vendorlegalorganizationname\"}, {\"type\": \"string\", \"id\": \"vendordoingasbusinessname\", \"label\": \"vendordoingasbusinessname\"}, {\"type\": \"string\", \"id\": \"divisionname\", \"label\": \"divisionname\"}, {\"type\": \"string\", \"id\": \"divisionnumberorofficecode\", \"label\": \"divisionnumberorofficecode\"}, {\"type\": \"string\", \"id\": \"vendorenabled\", \"label\": \"vendorenabled\"}, {\"type\": \"string\", \"id\": \"vendorlocationdisableflag\", \"label\": \"vendorlocationdisableflag\"}, {\"type\": \"string\", \"id\": \"ccrexception\", \"label\": \"ccrexception\"}, {\"type\": \"string\", \"id\": \"streetaddress\", \"label\": \"streetaddress\"}, {\"type\": \"string\", \"id\": \"streetaddress2\", \"label\": \"streetaddress2\"}, {\"type\": \"string\", \"id\": \"streetaddress3\", \"label\": \"streetaddress3\"}, {\"type\": \"string\", \"id\": \"city\", \"label\": \"city\"}, {\"type\": \"string\", \"id\": \"state\", \"label\": \"state\"}, {\"type\": \"string\", \"id\": \"zipcode\", \"label\": \"zipcode\"}, {\"type\": \"string\", \"id\": \"vendorcountrycode\", \"label\": \"vendorcountrycode\"}, {\"type\": \"string\", \"id\": \"vendor_state_code\", \"label\": \"vendor_state_code\"}, {\"type\": \"string\", \"id\": \"vendor_cd\", \"label\": \"vendor_cd\"}, {\"type\": \"string\", \"id\": \"congressionaldistrict\", \"label\": \"congressionaldistrict\"}, {\"type\": \"string\", \"id\": \"vendorsitecode\", \"label\": \"vendorsitecode\"}, {\"type\": \"string\", \"id\": \"vendoralternatesitecode\", \"label\": \"vendoralternatesitecode\"}, {\"type\": \"string\", \"id\": \"dunsnumber\", \"label\": \"dunsnumber\"}, {\"type\": \"string\", \"id\": \"parentdunsnumber\", \"label\": \"parentdunsnumber\"}, {\"type\": \"string\", \"id\": \"phoneno\", \"label\": \"phoneno\"}, {\"type\": \"string\", \"id\": \"faxno\", \"label\": \"faxno\"}, {\"type\": \"string\", \"id\": \"registrationdate\", \"label\": \"registrationdate\"}, {\"type\": \"string\", \"id\": \"renewaldate\", \"label\": \"renewaldate\"}, {\"type\": \"string\", \"id\": \"mod_parent\", \"label\": \"mod_parent\"}, {\"type\": \"string\", \"id\": \"locationcode\", \"label\": \"locationcode\"}, {\"type\": \"string\", \"id\": \"statecode\", \"label\": \"statecode\"}, {\"type\": \"string\", \"id\": \"PlaceofPerformanceCity\", \"label\": \"PlaceofPerformanceCity\"}, {\"type\": \"string\", \"id\": \"pop_state_code\", \"label\": \"pop_state_code\"}, {\"type\": \"string\", \"id\": \"placeofperformancecountrycode\", \"label\": \"placeofperformancecountrycode\"}, {\"type\": \"string\", \"id\": \"placeofperformancezipcode\", \"label\": \"placeofperformancezipcode\"}, {\"type\": \"string\", \"id\": \"pop_cd\", \"label\": \"pop_cd\"}, {\"type\": \"string\", \"id\": \"placeofperformancecongressionaldistrict\", \"label\": \"placeofperformancecongressionaldistrict\"}, {\"type\": \"string\", \"id\": \"psc_cat\", \"label\": \"psc_cat\"}, {\"type\": \"string\", \"id\": \"productorservicecode\", \"label\": \"productorservicecode\"}, {\"type\": \"string\", \"id\": \"systemequipmentcode\", \"label\": \"systemequipmentcode\"}, {\"type\": \"string\", \"id\": \"claimantprogramcode\", \"label\": \"claimantprogramcode\"}, {\"type\": \"string\", \"id\": \"principalnaicscode\", \"label\": \"principalnaicscode\"}, {\"type\": \"string\", \"id\": \"informationtechnologycommercialitemcategory\", \"label\": \"informationtechnologycommercialitemcategory\"}, {\"type\": \"string\", \"id\": \"gfe_gfp\", \"label\": \"gfe_gfp\"}, {\"type\": \"string\", \"id\": \"useofepadesignatedproducts\", \"label\": \"useofepadesignatedproducts\"}, {\"type\": \"string\", \"id\": \"recoveredmaterialclauses\", \"label\": \"recoveredmaterialclauses\"}, {\"type\": \"string\", \"id\": \"seatransportation\", \"label\": \"seatransportation\"}, {\"type\": \"string\", \"id\": \"contractbundling\", \"label\": \"contractbundling\"}, {\"type\": \"string\", \"id\": \"consolidatedcontract\", \"label\": \"consolidatedcontract\"}, {\"type\": \"string\", \"id\": \"countryoforigin\", \"label\": \"countryoforigin\"}, {\"type\": \"string\", \"id\": \"placeofmanufacture\", \"label\": \"placeofmanufacture\"}, {\"type\": \"string\", \"id\": \"manufacturingorganizationtype\", \"label\": \"manufacturingorganizationtype\"}, {\"type\": \"string\", \"id\": \"agencyid\", \"label\": \"agencyid\"}, {\"type\": \"string\", \"id\": \"piid\", \"label\": \"piid\"}, {\"type\": \"string\", \"id\": \"modnumber\", \"label\": \"modnumber\"}, {\"type\": \"string\", \"id\": \"transactionnumber\", \"label\": \"transactionnumber\"}, {\"type\": \"number\", \"id\": \"fiscal_year\", \"label\": \"fiscal_year\"}, {\"type\": \"string\", \"id\": \"idvagencyid\", \"label\": \"idvagencyid\"}, {\"type\": \"string\", \"id\": \"idvpiid\", \"label\": \"idvpiid\"}, {\"type\": \"string\", \"id\": \"idvmodificationnumber\", \"label\": \"idvmodificationnumber\"}, {\"type\": \"string\", \"id\": \"solicitationid\", \"label\": \"solicitationid\"}, {\"type\": \"string\", \"id\": \"extentcompeted\", \"label\": \"extentcompeted\"}, {\"type\": \"string\", \"id\": \"reasonnotcompeted\", \"label\": \"reasonnotcompeted\"}, {\"type\": \"number\", \"id\": \"numberofoffersreceived\", \"label\": \"numberofoffersreceived\"}, {\"type\": \"string\", \"id\": \"commercialitemacquisitionprocedures\", \"label\": \"commercialitemacquisitionprocedures\"}, {\"type\": \"string\", \"id\": \"commercialitemtestprogram\", \"label\": \"commercialitemtestprogram\"}, {\"type\": \"string\", \"id\": \"smallbusinesscompetitivenessdemonstrationprogram\", \"label\": \"smallbusinesscompetitivenessdemonstrationprogram\"}, {\"type\": \"string\", \"id\": \"a76action\", \"label\": \"a76action\"}, {\"type\": \"string\", \"id\": \"competitiveprocedures\", \"label\": \"competitiveprocedures\"}, {\"type\": \"string\", \"id\": \"solicitationprocedures\", \"label\": \"solicitationprocedures\"}, {\"type\": \"string\", \"id\": \"typeofsetaside\", \"label\": \"typeofsetaside\"}, {\"type\": \"string\", \"id\": \"localareasetaside\", \"label\": \"localareasetaside\"}, {\"type\": \"string\", \"id\": \"evaluatedpreference\", \"label\": \"evaluatedpreference\"}, {\"type\": \"string\", \"id\": \"fedbizopps\", \"label\": \"fedbizopps\"}, {\"type\": \"string\", \"id\": \"research\", \"label\": \"research\"}, {\"type\": \"string\", \"id\": \"statutoryexceptiontofairopportunity\", \"label\": \"statutoryexceptiontofairopportunity\"}, {\"type\": \"string\", \"id\": \"organizationaltype\", \"label\": \"organizationaltype\"}, {\"type\": \"number\", \"id\": \"numberofemployees\", \"label\": \"numberofemployees\"}, {\"type\": \"number\", \"id\": \"annualrevenue\", \"label\": \"annualrevenue\"}, {\"type\": \"string\", \"id\": \"firm8aflag\", \"label\": \"firm8aflag\"}, {\"type\": \"string\", \"id\": \"hubzoneflag\", \"label\": \"hubzoneflag\"}, {\"type\": \"string\", \"id\": \"sdbflag\", \"label\": \"sdbflag\"}, {\"type\": \"string\", \"id\": \"issbacertifiedsmalldisadvantagedbusiness\", \"label\": \"issbacertifiedsmalldisadvantagedbusiness\"}, {\"type\": \"string\", \"id\": \"shelteredworkshopflag\", \"label\": \"shelteredworkshopflag\"}, {\"type\": \"string\", \"id\": \"hbcuflag\", \"label\": \"hbcuflag\"}, {\"type\": \"string\", \"id\": \"educationalinstitutionflag\", \"label\": \"educationalinstitutionflag\"}, {\"type\": \"string\", \"id\": \"womenownedflag\", \"label\": \"womenownedflag\"}, {\"type\": \"string\", \"id\": \"veteranownedflag\", \"label\": \"veteranownedflag\"}, {\"type\": \"string\", \"id\": \"srdvobflag\", \"label\": \"srdvobflag\"}, {\"type\": \"string\", \"id\": \"localgovernmentflag\", \"label\": \"localgovernmentflag\"}, {\"type\": \"string\", \"id\": \"minorityinstitutionflag\", \"label\": \"minorityinstitutionflag\"}, {\"type\": \"string\", \"id\": \"aiobflag\", \"label\": \"aiobflag\"}, {\"type\": \"string\", \"id\": \"stategovernmentflag\", \"label\": \"stategovernmentflag\"}, {\"type\": \"string\", \"id\": \"federalgovernmentflag\", \"label\": \"federalgovernmentflag\"}, {\"type\": \"string\", \"id\": \"minorityownedbusinessflag\", \"label\": \"minorityownedbusinessflag\"}, {\"type\": \"string\", \"id\": \"apaobflag\", \"label\": \"apaobflag\"}, {\"type\": \"string\", \"id\": \"tribalgovernmentflag\", \"label\": \"tribalgovernmentflag\"}, {\"type\": \"string\", \"id\": \"baobflag\", \"label\": \"baobflag\"}, {\"type\": \"string\", \"id\": \"naobflag\", \"label\": \"naobflag\"}, {\"type\": \"string\", \"id\": \"saaobflag\", \"label\": \"saaobflag\"}, {\"type\": \"string\", \"id\": \"nonprofitorganizationflag\", \"label\": \"nonprofitorganizationflag\"}, {\"type\": \"string\", \"id\": \"isothernotforprofitorganization\", \"label\": \"isothernotforprofitorganization\"}, {\"type\": \"string\", \"id\": \"isforprofitorganization\", \"label\": \"isforprofitorganization\"}, {\"type\": \"string\", \"id\": \"isfoundation\", \"label\": \"isfoundation\"}, {\"type\": \"string\", \"id\": \"haobflag\", \"label\": \"haobflag\"}, {\"type\": \"string\", \"id\": \"ishispanicservicinginstitution\", \"label\": \"ishispanicservicinginstitution\"}, {\"type\": \"string\", \"id\": \"emergingsmallbusinessflag\", \"label\": \"emergingsmallbusinessflag\"}, {\"type\": \"string\", \"id\": \"hospitalflag\", \"label\": \"hospitalflag\"}, {\"type\": \"string\", \"id\": \"contractingofficerbusinesssizedetermination\", \"label\": \"contractingofficerbusinesssizedetermination\"}, {\"type\": \"string\", \"id\": \"is1862landgrantcollege\", \"label\": \"is1862landgrantcollege\"}, {\"type\": \"string\", \"id\": \"is1890landgrantcollege\", \"label\": \"is1890landgrantcollege\"}, {\"type\": \"string\", \"id\": \"is1994landgrantcollege\", \"label\": \"is1994landgrantcollege\"}, {\"type\": \"string\", \"id\": \"isveterinarycollege\", \"label\": \"isveterinarycollege\"}, {\"type\": \"string\", \"id\": \"isveterinaryhospital\", \"label\": \"isveterinaryhospital\"}, {\"type\": \"string\", \"id\": \"isprivateuniversityorcollege\", \"label\": \"isprivateuniversityorcollege\"}, {\"type\": \"string\", \"id\": \"isschoolofforestry\", \"label\": \"isschoolofforestry\"}, {\"type\": \"string\", \"id\": \"isstatecontrolledinstitutionofhigherlearning\", \"label\": \"isstatecontrolledinstitutionofhigherlearning\"}, {\"type\": \"string\", \"id\": \"isserviceprovider\", \"label\": \"isserviceprovider\"}, {\"type\": \"string\", \"id\": \"receivescontracts\", \"label\": \"receivescontracts\"}, {\"type\": \"string\", \"id\": \"receivesgrants\", \"label\": \"receivesgrants\"}, {\"type\": \"string\", \"id\": \"receivescontractsandgrants\", \"label\": \"receivescontractsandgrants\"}, {\"type\": \"string\", \"id\": \"isairportauthority\", \"label\": \"isairportauthority\"}, {\"type\": \"string\", \"id\": \"iscouncilofgovernments\", \"label\": \"iscouncilofgovernments\"}, {\"type\": \"string\", \"id\": \"ishousingauthoritiespublicortribal\", \"label\": \"ishousingauthoritiespublicortribal\"}, {\"type\": \"string\", \"id\": \"isinterstateentity\", \"label\": \"isinterstateentity\"}, {\"type\": \"string\", \"id\": \"isplanningcommission\", \"label\": \"isplanningcommission\"}, {\"type\": \"string\", \"id\": \"isportauthority\", \"label\": \"isportauthority\"}, {\"type\": \"string\", \"id\": \"istransitauthority\", \"label\": \"istransitauthority\"}, {\"type\": \"string\", \"id\": \"issubchapterscorporation\", \"label\": \"issubchapterscorporation\"}, {\"type\": \"string\", \"id\": \"islimitedliabilitycorporation\", \"label\": \"islimitedliabilitycorporation\"}, {\"type\": \"string\", \"id\": \"isforeignownedandlocated\", \"label\": \"isforeignownedandlocated\"}, {\"type\": \"string\", \"id\": \"isarchitectureandengineering\", \"label\": \"isarchitectureandengineering\"}, {\"type\": \"string\", \"id\": \"isdotcertifieddisadvantagedbusinessenterprise\", \"label\": \"isdotcertifieddisadvantagedbusinessenterprise\"}, {\"type\": \"string\", \"id\": \"iscitylocalgovernment\", \"label\": \"iscitylocalgovernment\"}, {\"type\": \"string\", \"id\": \"iscommunitydevelopedcorporationownedfirm\", \"label\": \"iscommunitydevelopedcorporationownedfirm\"}, {\"type\": \"string\", \"id\": \"iscommunitydevelopmentcorporation\", \"label\": \"iscommunitydevelopmentcorporation\"}, {\"type\": \"string\", \"id\": \"isconstructionfirm\", \"label\": \"isconstructionfirm\"}, {\"type\": \"string\", \"id\": \"ismanufacturerofgoods\", \"label\": \"ismanufacturerofgoods\"}, {\"type\": \"string\", \"id\": \"iscorporateentitynottaxexempt\", \"label\": \"iscorporateentitynottaxexempt\"}, {\"type\": \"string\", \"id\": \"iscountylocalgovernment\", \"label\": \"iscountylocalgovernment\"}, {\"type\": \"string\", \"id\": \"isdomesticshelter\", \"label\": \"isdomesticshelter\"}, {\"type\": \"string\", \"id\": \"isfederalgovernmentagency\", \"label\": \"isfederalgovernmentagency\"}, {\"type\": \"string\", \"id\": \"isfederallyfundedresearchanddevelopmentcorp\", \"label\": \"isfederallyfundedresearchanddevelopmentcorp\"}, {\"type\": \"string\", \"id\": \"isforeigngovernment\", \"label\": \"isforeigngovernment\"}, {\"type\": \"string\", \"id\": \"isindiantribe\", \"label\": \"isindiantribe\"}, {\"type\": \"string\", \"id\": \"isintermunicipallocalgovernment\", \"label\": \"isintermunicipallocalgovernment\"}, {\"type\": \"string\", \"id\": \"isinternationalorganization\", \"label\": \"isinternationalorganization\"}, {\"type\": \"string\", \"id\": \"islaborsurplusareafirm\", \"label\": \"islaborsurplusareafirm\"}, {\"type\": \"string\", \"id\": \"islocalgovernmentowned\", \"label\": \"islocalgovernmentowned\"}, {\"type\": \"string\", \"id\": \"ismunicipalitylocalgovernment\", \"label\": \"ismunicipalitylocalgovernment\"}, {\"type\": \"string\", \"id\": \"isnativehawaiianownedorganizationorfirm\", \"label\": \"isnativehawaiianownedorganizationorfirm\"}, {\"type\": \"string\", \"id\": \"isotherbusinessororganization\", \"label\": \"isotherbusinessororganization\"}, {\"type\": \"string\", \"id\": \"isotherminorityowned\", \"label\": \"isotherminorityowned\"}, {\"type\": \"string\", \"id\": \"ispartnershiporlimitedliabilitypartnership\", \"label\": \"ispartnershiporlimitedliabilitypartnership\"}, {\"type\": \"string\", \"id\": \"isschooldistrictlocalgovernment\", \"label\": \"isschooldistrictlocalgovernment\"}, {\"type\": \"string\", \"id\": \"issmallagriculturalcooperative\", \"label\": \"issmallagriculturalcooperative\"}, {\"type\": \"string\", \"id\": \"issoleproprietorship\", \"label\": \"issoleproprietorship\"}, {\"type\": \"string\", \"id\": \"istownshiplocalgovernment\", \"label\": \"istownshiplocalgovernment\"}, {\"type\": \"string\", \"id\": \"istriballyownedfirm\", \"label\": \"istriballyownedfirm\"}, {\"type\": \"string\", \"id\": \"istribalcollege\", \"label\": \"istribalcollege\"}, {\"type\": \"string\", \"id\": \"isalaskannativeownedcorporationorfirm\", \"label\": \"isalaskannativeownedcorporationorfirm\"}, {\"type\": \"string\", \"id\": \"iscorporateentitytaxexempt\", \"label\": \"iscorporateentitytaxexempt\"}, {\"type\": \"string\", \"id\": \"iswomenownedsmallbusiness\", \"label\": \"iswomenownedsmallbusiness\"}, {\"type\": \"string\", \"id\": \"isecondisadvwomenownedsmallbusiness\", \"label\": \"isecondisadvwomenownedsmallbusiness\"}, {\"type\": \"string\", \"id\": \"isjointventurewomenownedsmallbusiness\", \"label\": \"isjointventurewomenownedsmallbusiness\"}, {\"type\": \"string\", \"id\": \"isjointventureecondisadvwomenownedsmallbusiness\", \"label\": \"isjointventureecondisadvwomenownedsmallbusiness\"}, {\"type\": \"string\", \"id\": \"walshhealyact\", \"label\": \"walshhealyact\"}, {\"type\": \"string\", \"id\": \"servicecontractact\", \"label\": \"servicecontractact\"}, {\"type\": \"string\", \"id\": \"davisbaconact\", \"label\": \"davisbaconact\"}, {\"type\": \"string\", \"id\": \"clingercohenact\", \"label\": \"clingercohenact\"}, {\"type\": \"string\", \"id\": \"otherstatutoryauthority\", \"label\": \"otherstatutoryauthority\"}, {\"type\": \"string\", \"id\": \"prime_awardee_executive1\", \"label\": \"prime_awardee_executive1\"}, {\"type\": \"number\", \"id\": \"prime_awardee_executive1_compensation\", \"label\": \"prime_awardee_executive1_compensation\"}, {\"type\": \"string\", \"id\": \"prime_awardee_executive2\", \"label\": \"prime_awardee_executive2\"}, {\"type\": \"number\", \"id\": \"prime_awardee_executive2_compensation\", \"label\": \"prime_awardee_executive2_compensation\"}, {\"type\": \"string\", \"id\": \"prime_awardee_executive3\", \"label\": \"prime_awardee_executive3\"}, {\"type\": \"number\", \"id\": \"prime_awardee_executive3_compensation\", \"label\": \"prime_awardee_executive3_compensation\"}, {\"type\": \"string\", \"id\": \"prime_awardee_executive4\", \"label\": \"prime_awardee_executive4\"}, {\"type\": \"number\", \"id\": \"prime_awardee_executive4_compensation\", \"label\": \"prime_awardee_executive4_compensation\"}, {\"type\": \"string\", \"id\": \"prime_awardee_executive5\", \"label\": \"prime_awardee_executive5\"}, {\"type\": \"number\", \"id\": \"prime_awardee_executive5_compensation\", \"label\": \"prime_awardee_executive5_compensation\"}, {\"type\": \"string\", \"id\": \"interagencycontractingauthority\", \"label\": \"interagencycontractingauthority\"}, {\"type\": \"string\", \"id\": \"last_modified_date\", \"label\": \"last_modified_date\"}]},\n",
       "            {\n",
       "              pageSize: 25,\n",
       "              cssClassNames:  {\n",
       "                tableRow: 'gchart-table-row',\n",
       "                headerRow: 'gchart-table-headerrow',\n",
       "                oddTableRow: 'gchart-table-oddrow',\n",
       "                selectedTableRow: 'gchart-table-selectedrow',\n",
       "                hoverTableRow: 'gchart-table-hoverrow',\n",
       "                tableCell: 'gchart-table-cell',\n",
       "                headerCell: 'gchart-table-headercell',\n",
       "                rowNumberCell: 'gchart-table-rownumcell'\n",
       "              }\n",
       "            },\n",
       "            {source_index: 39, fields: 'unique_transaction_id,transaction_status,dollarsobligated,baseandexercisedoptionsvalue,baseandalloptionsvalue,maj_agency_cat,mod_agency,maj_fund_agency_cat,contractingofficeagencyid,contractingofficeid,fundingrequestingagencyid,fundingrequestingofficeid,fundedbyforeignentity,signeddate,effectivedate,currentcompletiondate,ultimatecompletiondate,lastdatetoorder,contractactiontype,reasonformodification,typeofcontractpricing,priceevaluationpercentdifference,subcontractplan,lettercontract,multiyearcontract,performancebasedservicecontract,majorprogramcode,contingencyhumanitarianpeacekeepingoperation,contractfinancing,costorpricingdata,costaccountingstandardsclause,descriptionofcontractrequirement,purchasecardaspaymentmethod,numberofactions,nationalinterestactioncode,progsourceagency,progsourceaccount,progsourcesubacct,account_title,rec_flag,typeofidc,multipleorsingleawardidc,programacronym,vendorname,vendoralternatename,vendorlegalorganizationname,vendordoingasbusinessname,divisionname,divisionnumberorofficecode,vendorenabled,vendorlocationdisableflag,ccrexception,streetaddress,streetaddress2,streetaddress3,city,state,zipcode,vendorcountrycode,vendor_state_code,vendor_cd,congressionaldistrict,vendorsitecode,vendoralternatesitecode,dunsnumber,parentdunsnumber,phoneno,faxno,registrationdate,renewaldate,mod_parent,locationcode,statecode,PlaceofPerformanceCity,pop_state_code,placeofperformancecountrycode,placeofperformancezipcode,pop_cd,placeofperformancecongressionaldistrict,psc_cat,productorservicecode,systemequipmentcode,claimantprogramcode,principalnaicscode,informationtechnologycommercialitemcategory,gfe_gfp,useofepadesignatedproducts,recoveredmaterialclauses,seatransportation,contractbundling,consolidatedcontract,countryoforigin,placeofmanufacture,manufacturingorganizationtype,agencyid,piid,modnumber,transactionnumber,fiscal_year,idvagencyid,idvpiid,idvmodificationnumber,solicitationid,extentcompeted,reasonnotcompeted,numberofoffersreceived,commercialitemacquisitionprocedures,commercialitemtestprogram,smallbusinesscompetitivenessdemonstrationprogram,a76action,competitiveprocedures,solicitationprocedures,typeofsetaside,localareasetaside,evaluatedpreference,fedbizopps,research,statutoryexceptiontofairopportunity,organizationaltype,numberofemployees,annualrevenue,firm8aflag,hubzoneflag,sdbflag,issbacertifiedsmalldisadvantagedbusiness,shelteredworkshopflag,hbcuflag,educationalinstitutionflag,womenownedflag,veteranownedflag,srdvobflag,localgovernmentflag,minorityinstitutionflag,aiobflag,stategovernmentflag,federalgovernmentflag,minorityownedbusinessflag,apaobflag,tribalgovernmentflag,baobflag,naobflag,saaobflag,nonprofitorganizationflag,isothernotforprofitorganization,isforprofitorganization,isfoundation,haobflag,ishispanicservicinginstitution,emergingsmallbusinessflag,hospitalflag,contractingofficerbusinesssizedetermination,is1862landgrantcollege,is1890landgrantcollege,is1994landgrantcollege,isveterinarycollege,isveterinaryhospital,isprivateuniversityorcollege,isschoolofforestry,isstatecontrolledinstitutionofhigherlearning,isserviceprovider,receivescontracts,receivesgrants,receivescontractsandgrants,isairportauthority,iscouncilofgovernments,ishousingauthoritiespublicortribal,isinterstateentity,isplanningcommission,isportauthority,istransitauthority,issubchapterscorporation,islimitedliabilitycorporation,isforeignownedandlocated,isarchitectureandengineering,isdotcertifieddisadvantagedbusinessenterprise,iscitylocalgovernment,iscommunitydevelopedcorporationownedfirm,iscommunitydevelopmentcorporation,isconstructionfirm,ismanufacturerofgoods,iscorporateentitynottaxexempt,iscountylocalgovernment,isdomesticshelter,isfederalgovernmentagency,isfederallyfundedresearchanddevelopmentcorp,isforeigngovernment,isindiantribe,isintermunicipallocalgovernment,isinternationalorganization,islaborsurplusareafirm,islocalgovernmentowned,ismunicipalitylocalgovernment,isnativehawaiianownedorganizationorfirm,isotherbusinessororganization,isotherminorityowned,ispartnershiporlimitedliabilitypartnership,isschooldistrictlocalgovernment,issmallagriculturalcooperative,issoleproprietorship,istownshiplocalgovernment,istriballyownedfirm,istribalcollege,isalaskannativeownedcorporationorfirm,iscorporateentitytaxexempt,iswomenownedsmallbusiness,isecondisadvwomenownedsmallbusiness,isjointventurewomenownedsmallbusiness,isjointventureecondisadvwomenownedsmallbusiness,walshhealyact,servicecontractact,davisbaconact,clingercohenact,otherstatutoryauthority,prime_awardee_executive1,prime_awardee_executive1_compensation,prime_awardee_executive2,prime_awardee_executive2_compensation,prime_awardee_executive3,prime_awardee_executive3_compensation,prime_awardee_executive4,prime_awardee_executive4_compensation,prime_awardee_executive5,prime_awardee_executive5_compensation,interagencycontractingauthority,last_modified_date'},\n",
       "            0,\n",
       "            5);\n",
       "        }\n",
       "      );\n",
       "    </script>\n",
       "  "
      ],
      "text/plain": [
       "QueryResultsTable job_VrzfYIUX93XQ0I94b4kciNWf0Ys"
      ]
     },
     "execution_count": 168,
     "metadata": {},
     "output_type": "execute_result"
    }
   ],
   "source": [
    "%%bq query\n",
    "select *\n",
    "from `gpqueries.contracts.raw`\n",
    "where mod_agency in ('1700: DEPT OF THE NAVY')\n",
    "limit 5"
   ]
  },
  {
   "cell_type": "code",
   "execution_count": 155,
   "metadata": {
    "collapsed": true
   },
   "outputs": [],
   "source": [
    "%%bq query -n df_query\n",
    "select\n",
    "#substr(signeddate, 1, 2) month,\n",
    "fiscal_year as year,  \n",
    "count(*) transactions,\n",
    "sum(dollarsobligated) as dollarsobligated\n",
    "from `gpqueries.contracts.raw`\n",
    "group by year\n",
    "order by year asc"
   ]
  },
  {
   "cell_type": "code",
   "execution_count": 159,
   "metadata": {
    "collapsed": false
   },
   "outputs": [
    {
     "data": {
      "text/plain": [
       "<matplotlib.text.Text at 0x7f951ff36890>"
      ]
     },
     "execution_count": 159,
     "metadata": {},
     "output_type": "execute_result"
    },
    {
     "data": {
      "image/png": "[encoded data removed]",
      "text/plain": [
       "<matplotlib.figure.Figure at 0x7f9520874510>"
      ]
     },
     "metadata": {},
     "output_type": "display_data"
    }
   ],
   "source": [
    "df = df_query.execute(output_options=bq.QueryOutput.dataframe()).result()\n",
    "ax = df.set_index('year')['dollarsobligated'].plot(kind='bar', title='Government purchases by years')\n",
    "ax.set_ylabel('dollars obligated')"
   ]
  },
  {
   "cell_type": "code",
   "execution_count": 179,
   "metadata": {
    "collapsed": false
   },
   "outputs": [],
   "source": [
    "%%bq query -n df_query\n",
    "select\n",
    "fiscal_year as year,  \n",
    "sum(dollarsobligated)/count(*) as dollarsobligated\n",
    "from `gpqueries.contracts.raw`\n",
    "group by year\n",
    "order by year asc"
   ]
  },
  {
   "cell_type": "code",
   "execution_count": 180,
   "metadata": {
    "collapsed": false
   },
   "outputs": [
    {
     "data": {
      "text/plain": [
       "<matplotlib.text.Text at 0x7f951f59a810>"
      ]
     },
     "execution_count": 180,
     "metadata": {},
     "output_type": "execute_result"
    },
    {
     "data": {
      "image/png": "[encoded data removed]",
      "text/plain": [
       "<matplotlib.figure.Figure at 0x7f951f5d9e90>"
      ]
     },
     "metadata": {},
     "output_type": "display_data"
    }
   ],
   "source": [
    "df = df_query.execute(output_options=bq.QueryOutput.dataframe()).result()\n",
    "ax = df.set_index('year')['dollarsobligated'].plot(kind='bar', title='avg. transaction size by years')\n",
    "ax.set_ylabel('dollars obligated')"
   ]
  },
  {
   "cell_type": "markdown",
   "metadata": {},
   "source": [
    "** Which means we're dealing with 44.5M transactions totalling 6.7 trillion dollars. These purchases came from 622k vendors that won 2.2mn solicitations issued by government agencies.**"
   ]
  },
  {
   "cell_type": "code",
   "execution_count": 167,
   "metadata": {
    "collapsed": false
   },
   "outputs": [
    {
     "data": {
      "text/html": [
       "\n",
       "    <div class=\"bqtv\" id=\"42_149782003696\"><table><tr><th>maj_agency_cat</th><th>mod_agency</th><th>f0_</th></tr><tr><td>9700: DEPT OF DEFENSE</td><td>97AS: DEFENSE LOGISTICS AGENCY</td><td>5829407</td></tr><tr><td>4700: GENERAL SERVICES ADMINISTRATION</td><td>4730: FEDERAL ACQUISITION SERVICE</td><td>5001861</td></tr><tr><td>3600: VETERANS AFFAIRS, DEPARTMENT OF</td><td>3600: VETERANS AFFAIRS, DEPARTMENT OF</td><td>4956277</td></tr><tr><td>9700: DEPT OF DEFENSE</td><td>2100: DEPT OF THE ARMY</td><td>4338326</td></tr><tr><td>9700: DEPT OF DEFENSE</td><td>1700: DEPT OF THE NAVY</td><td>3561991</td></tr><tr><td>9700: Department of Defense</td><td>97AS: DEFENSE LOGISTICS AGENCY</td><td>3317149</td></tr><tr><td>9700: DEPT OF DEFENSE</td><td>5700: DEPT OF THE AIR FORCE</td><td>1701478</td></tr><tr><td>4700: GENERAL SERVICES ADMINISTRATION</td><td>4732: FEDERAL ACQUISITION SERVICE</td><td>1444491</td></tr><tr><td>4700: GENERAL SERVICES ADMINISTRATION</td><td>4740: PUBLIC BUILDINGS SERVICE</td><td>1436683</td></tr><tr><td>1500: JUSTICE, DEPARTMENT OF</td><td>1540: FEDERAL PRISON SYSTEM</td><td>895777</td></tr><tr><td>1900: STATE, DEPARTMENT OF</td><td>1900: STATE, DEPARTMENT OF</td><td>767320</td></tr><tr><td>9700: Department of Defense</td><td>2100: DEPT OF THE ARMY</td><td>545595</td></tr><tr><td>9700: Department of Defense</td><td>1700: DEPT OF THE NAVY</td><td>480165</td></tr><tr><td>7000: HOMELAND SECURITY, DEPARTMENT OF</td><td>7008: U.S. COAST GUARD</td><td>419564</td></tr><tr><td>1200: AGRICULTURE, DEPARTMENT OF</td><td>12C2: FOREST SERVICE</td><td>381536</td></tr><tr><td>8000: NATIONAL AERONAUTICS AND SPACE ADMINISTRATION</td><td>8000: NATIONAL AERONAUTICS AND SPACE ADMINISTRATION</td><td>346497</td></tr><tr><td>3600: Department of Veterans Affairs</td><td>3600: VETERANS AFFAIRS, DEPARTMENT OF</td><td>328895</td></tr><tr><td>7500: HEALTH AND HUMAN SERVICES, DEPARTMENT OF</td><td>7529: NATIONAL INSTITUTES OF HEALTH</td><td>325444</td></tr><tr><td>9700: DEPT OF DEFENSE</td><td>97AK: DEFENSE INFORMATION SYSTEMS AGENCY (DISA)</td><td>266946</td></tr><tr><td>6800: ENVIRONMENTAL PROTECTION AGENCY</td><td>6800: ENVIRONMENTAL PROTECTION AGENCY</td><td>248862</td></tr></table></div>\n",
       "    <br />(rows: 20, time: 1.6s,     2GB processed, job: job_F1zU4zQ1wGDA5hvyIZD4eI8yolg)<br />\n",
       "    <script>\n",
       "\n",
       "      require.config({\n",
       "        paths: {\n",
       "          d3: '//cdnjs.cloudflare.com/ajax/libs/d3/3.4.13/d3',\n",
       "          plotly: 'https://cdn.plot.ly/plotly-1.5.1.min.js?noext',\n",
       "          jquery: '//ajax.googleapis.com/ajax/libs/jquery/2.0.0/jquery.min'\n",
       "        },\n",
       "        map: {\n",
       "          '*': {\n",
       "            datalab: 'nbextensions/gcpdatalab'\n",
       "          }\n",
       "        },\n",
       "        shim: {\n",
       "          plotly: {\n",
       "            deps: ['d3', 'jquery'],\n",
       "            exports: 'plotly'\n",
       "          }\n",
       "        }\n",
       "      });\n",
       "\n",
       "      require(['datalab/charting', 'datalab/element!42_149782003696', 'base/js/events',\n",
       "          'datalab/style!/nbextensions/gcpdatalab/charting.css'],\n",
       "        function(charts, dom, events) {\n",
       "          charts.render('gcharts', dom, events, 'table', [], {\"rows\": [{\"c\": [{\"v\": \"9700: DEPT OF DEFENSE\"}, {\"v\": \"97AS: DEFENSE LOGISTICS AGENCY\"}, {\"v\": 5829407}]}, {\"c\": [{\"v\": \"4700: GENERAL SERVICES ADMINISTRATION\"}, {\"v\": \"4730: FEDERAL ACQUISITION SERVICE\"}, {\"v\": 5001861}]}, {\"c\": [{\"v\": \"3600: VETERANS AFFAIRS, DEPARTMENT OF\"}, {\"v\": \"3600: VETERANS AFFAIRS, DEPARTMENT OF\"}, {\"v\": 4956277}]}, {\"c\": [{\"v\": \"9700: DEPT OF DEFENSE\"}, {\"v\": \"2100: DEPT OF THE ARMY\"}, {\"v\": 4338326}]}, {\"c\": [{\"v\": \"9700: DEPT OF DEFENSE\"}, {\"v\": \"1700: DEPT OF THE NAVY\"}, {\"v\": 3561991}]}, {\"c\": [{\"v\": \"9700: Department of Defense\"}, {\"v\": \"97AS: DEFENSE LOGISTICS AGENCY\"}, {\"v\": 3317149}]}, {\"c\": [{\"v\": \"9700: DEPT OF DEFENSE\"}, {\"v\": \"5700: DEPT OF THE AIR FORCE\"}, {\"v\": 1701478}]}, {\"c\": [{\"v\": \"4700: GENERAL SERVICES ADMINISTRATION\"}, {\"v\": \"4732: FEDERAL ACQUISITION SERVICE\"}, {\"v\": 1444491}]}, {\"c\": [{\"v\": \"4700: GENERAL SERVICES ADMINISTRATION\"}, {\"v\": \"4740: PUBLIC BUILDINGS SERVICE\"}, {\"v\": 1436683}]}, {\"c\": [{\"v\": \"1500: JUSTICE, DEPARTMENT OF\"}, {\"v\": \"1540: FEDERAL PRISON SYSTEM\"}, {\"v\": 895777}]}, {\"c\": [{\"v\": \"1900: STATE, DEPARTMENT OF\"}, {\"v\": \"1900: STATE, DEPARTMENT OF\"}, {\"v\": 767320}]}, {\"c\": [{\"v\": \"9700: Department of Defense\"}, {\"v\": \"2100: DEPT OF THE ARMY\"}, {\"v\": 545595}]}, {\"c\": [{\"v\": \"9700: Department of Defense\"}, {\"v\": \"1700: DEPT OF THE NAVY\"}, {\"v\": 480165}]}, {\"c\": [{\"v\": \"7000: HOMELAND SECURITY, DEPARTMENT OF\"}, {\"v\": \"7008: U.S. COAST GUARD\"}, {\"v\": 419564}]}, {\"c\": [{\"v\": \"1200: AGRICULTURE, DEPARTMENT OF\"}, {\"v\": \"12C2: FOREST SERVICE\"}, {\"v\": 381536}]}, {\"c\": [{\"v\": \"8000: NATIONAL AERONAUTICS AND SPACE ADMINISTRATION\"}, {\"v\": \"8000: NATIONAL AERONAUTICS AND SPACE ADMINISTRATION\"}, {\"v\": 346497}]}, {\"c\": [{\"v\": \"3600: Department of Veterans Affairs\"}, {\"v\": \"3600: VETERANS AFFAIRS, DEPARTMENT OF\"}, {\"v\": 328895}]}, {\"c\": [{\"v\": \"7500: HEALTH AND HUMAN SERVICES, DEPARTMENT OF\"}, {\"v\": \"7529: NATIONAL INSTITUTES OF HEALTH\"}, {\"v\": 325444}]}, {\"c\": [{\"v\": \"9700: DEPT OF DEFENSE\"}, {\"v\": \"97AK: DEFENSE INFORMATION SYSTEMS AGENCY (DISA)\"}, {\"v\": 266946}]}, {\"c\": [{\"v\": \"6800: ENVIRONMENTAL PROTECTION AGENCY\"}, {\"v\": \"6800: ENVIRONMENTAL PROTECTION AGENCY\"}, {\"v\": 248862}]}], \"cols\": [{\"type\": \"string\", \"id\": \"maj_agency_cat\", \"label\": \"maj_agency_cat\"}, {\"type\": \"string\", \"id\": \"mod_agency\", \"label\": \"mod_agency\"}, {\"type\": \"number\", \"id\": \"f0_\", \"label\": \"f0_\"}]},\n",
       "            {\n",
       "              pageSize: 25,\n",
       "              cssClassNames:  {\n",
       "                tableRow: 'gchart-table-row',\n",
       "                headerRow: 'gchart-table-headerrow',\n",
       "                oddTableRow: 'gchart-table-oddrow',\n",
       "                selectedTableRow: 'gchart-table-selectedrow',\n",
       "                hoverTableRow: 'gchart-table-hoverrow',\n",
       "                tableCell: 'gchart-table-cell',\n",
       "                headerCell: 'gchart-table-headercell',\n",
       "                rowNumberCell: 'gchart-table-rownumcell'\n",
       "              }\n",
       "            },\n",
       "            {source_index: 38, fields: 'maj_agency_cat,mod_agency,f0_'},\n",
       "            0,\n",
       "            20);\n",
       "        }\n",
       "      );\n",
       "    </script>\n",
       "  "
      ],
      "text/plain": [
       "QueryResultsTable job_F1zU4zQ1wGDA5hvyIZD4eI8yolg"
      ]
     },
     "execution_count": 167,
     "metadata": {},
     "output_type": "execute_result"
    }
   ],
   "source": [
    "%%bq query \n",
    "select\n",
    "maj_agency_cat,\n",
    "mod_agency,\n",
    "count(*)\n",
    "from `gpqueries.contracts.raw`\n",
    "group by 1,2\n",
    "order by 3 DESC\n",
    "limit 20"
   ]
  },
  {
   "cell_type": "code",
   "execution_count": 171,
   "metadata": {
    "collapsed": false
   },
   "outputs": [
    {
     "data": {
      "text/html": [
       "\n",
       "    <div class=\"bqtv\" id=\"46_149782093923\"><table><tr><th>mod_parent</th><th>vendorname</th><th>dollarsobligated</th></tr><tr><td>LOCKHEED MARTIN CORPORATION</td><td>LOCKHEED MARTIN CORPORATION</td><td>3.72938626407e+11</td></tr><tr><td>RAYTHEON COMPANY</td><td>RAYTHEON COMPANY</td><td>1.31873602996e+11</td></tr><tr><td>THE BOEING COMPANY</td><td>THE BOEING COMPANY</td><td>81609377422.4</td></tr><tr><td>THE BOEING COMPANY</td><td>MCDONNELL DOUGLAS CORPORATION</td><td>80799250038.5</td></tr><tr><td>THE BOEING COMPANY</td><td>BOEING COMPANY, THE</td><td>59241480161.5</td></tr><tr><td>GENERAL DYNAMICS CORPORATION</td><td>ELECTRIC BOAT CORPORATION</td><td>55071263371.6</td></tr><tr><td>MISCELLANEOUS FOREIGN CONTRACTORS</td><td>MISCELLANEOUS FOREIGN CONTRACTORS</td><td>45689431658.2</td></tr><tr><td>MCKESSON CORPORATION</td><td>MCKESSON CORPORATION</td><td>42923187819.8</td></tr><tr><td>UNITED TECHNOLOGIES CORPORATION</td><td>SIKORSKY AIRCRAFT CORPORATION</td><td>42063473910.7</td></tr><tr><td>KBR  INC.</td><td>KELLOGG BROWN AND ROOT SERVICES INCORPORATED (1250)</td><td>40260611446.8</td></tr><tr><td>LOCKHEED MARTIN CORPORATION</td><td>SANDIA CORP</td><td>37146068294.5</td></tr><tr><td>NORTHROP GRUMMAN CORPORATION</td><td>NORTHROP GRUMMAN SYSTEMS CORPORATION</td><td>34888960078.6</td></tr><tr><td>GENERAL ELECTRIC COMPANY</td><td>GENERAL ELECTRIC COMPANY</td><td>28236059816.7</td></tr><tr><td>SAIC  INC.</td><td>SCIENCE APPLICATIONS INTERNATIONAL CORPORATION</td><td>27233963756.4</td></tr><tr><td>UNITED TECHNOLOGIES CORPORATION</td><td>UNITED TECHNOLOGIES CORPORATION</td><td>26561341900.4</td></tr><tr><td>COMPUTER SCIENCES CORPORATION</td><td>COMPUTER SCIENCES CORPORATION</td><td>26281610376.6</td></tr><tr><td>LOCKHEED MARTIN CORPORATION</td><td>LOCKHEED MARTIN CORPORATION (3632)</td><td>24823724683.8</td></tr><tr><td>HUMANA INC.</td><td>HUMANA MILITARY HEALTHCARE SERVICES INCORPORATED</td><td>23370058047.4</td></tr><tr><td>L-3 COMMUNICATIONS HOLDINGS  INC.</td><td>L-3 COMMUNICATIONS CORPORATION</td><td>23330548861.8</td></tr><tr><td>CALIFORNIA INSTITUTE OF TECHNOLOGY</td><td>CALIFORNIA INSTITUTE OF TECHNOLOGY</td><td>22546542423.8</td></tr></table></div>\n",
       "    <br />(rows: 20, time: 2.2s,     2GB processed, job: job_Zgi2qX4TC7rbAES4Sx7TlAG1RZE)<br />\n",
       "    <script>\n",
       "\n",
       "      require.config({\n",
       "        paths: {\n",
       "          d3: '//cdnjs.cloudflare.com/ajax/libs/d3/3.4.13/d3',\n",
       "          plotly: 'https://cdn.plot.ly/plotly-1.5.1.min.js?noext',\n",
       "          jquery: '//ajax.googleapis.com/ajax/libs/jquery/2.0.0/jquery.min'\n",
       "        },\n",
       "        map: {\n",
       "          '*': {\n",
       "            datalab: 'nbextensions/gcpdatalab'\n",
       "          }\n",
       "        },\n",
       "        shim: {\n",
       "          plotly: {\n",
       "            deps: ['d3', 'jquery'],\n",
       "            exports: 'plotly'\n",
       "          }\n",
       "        }\n",
       "      });\n",
       "\n",
       "      require(['datalab/charting', 'datalab/element!46_149782093923', 'base/js/events',\n",
       "          'datalab/style!/nbextensions/gcpdatalab/charting.css'],\n",
       "        function(charts, dom, events) {\n",
       "          charts.render('gcharts', dom, events, 'table', [], {\"rows\": [{\"c\": [{\"v\": \"LOCKHEED MARTIN CORPORATION\"}, {\"v\": \"LOCKHEED MARTIN CORPORATION\"}, {\"v\": 372938626407.30994}]}, {\"c\": [{\"v\": \"RAYTHEON COMPANY\"}, {\"v\": \"RAYTHEON COMPANY\"}, {\"v\": 131873602995.51996}]}, {\"c\": [{\"v\": \"THE BOEING COMPANY\"}, {\"v\": \"THE BOEING COMPANY\"}, {\"v\": 81609377422.4499}]}, {\"c\": [{\"v\": \"THE BOEING COMPANY\"}, {\"v\": \"MCDONNELL DOUGLAS CORPORATION\"}, {\"v\": 80799250038.49995}]}, {\"c\": [{\"v\": \"THE BOEING COMPANY\"}, {\"v\": \"BOEING COMPANY, THE\"}, {\"v\": 59241480161.489975}]}, {\"c\": [{\"v\": \"GENERAL DYNAMICS CORPORATION\"}, {\"v\": \"ELECTRIC BOAT CORPORATION\"}, {\"v\": 55071263371.639946}]}, {\"c\": [{\"v\": \"MISCELLANEOUS FOREIGN CONTRACTORS\"}, {\"v\": \"MISCELLANEOUS FOREIGN CONTRACTORS\"}, {\"v\": 45689431658.15019}]}, {\"c\": [{\"v\": \"MCKESSON CORPORATION\"}, {\"v\": \"MCKESSON CORPORATION\"}, {\"v\": 42923187819.76}]}, {\"c\": [{\"v\": \"UNITED TECHNOLOGIES CORPORATION\"}, {\"v\": \"SIKORSKY AIRCRAFT CORPORATION\"}, {\"v\": 42063473910.660065}]}, {\"c\": [{\"v\": \"KBR  INC.\"}, {\"v\": \"KELLOGG BROWN AND ROOT SERVICES INCORPORATED (1250)\"}, {\"v\": 40260611446.82001}]}, {\"c\": [{\"v\": \"LOCKHEED MARTIN CORPORATION\"}, {\"v\": \"SANDIA CORP\"}, {\"v\": 37146068294.48}]}, {\"c\": [{\"v\": \"NORTHROP GRUMMAN CORPORATION\"}, {\"v\": \"NORTHROP GRUMMAN SYSTEMS CORPORATION\"}, {\"v\": 34888960078.60999}]}, {\"c\": [{\"v\": \"GENERAL ELECTRIC COMPANY\"}, {\"v\": \"GENERAL ELECTRIC COMPANY\"}, {\"v\": 28236059816.74003}]}, {\"c\": [{\"v\": \"SAIC  INC.\"}, {\"v\": \"SCIENCE APPLICATIONS INTERNATIONAL CORPORATION\"}, {\"v\": 27233963756.389984}]}, {\"c\": [{\"v\": \"UNITED TECHNOLOGIES CORPORATION\"}, {\"v\": \"UNITED TECHNOLOGIES CORPORATION\"}, {\"v\": 26561341900.370014}]}, {\"c\": [{\"v\": \"COMPUTER SCIENCES CORPORATION\"}, {\"v\": \"COMPUTER SCIENCES CORPORATION\"}, {\"v\": 26281610376.629982}]}, {\"c\": [{\"v\": \"LOCKHEED MARTIN CORPORATION\"}, {\"v\": \"LOCKHEED MARTIN CORPORATION (3632)\"}, {\"v\": 24823724683.790012}]}, {\"c\": [{\"v\": \"HUMANA INC.\"}, {\"v\": \"HUMANA MILITARY HEALTHCARE SERVICES INCORPORATED\"}, {\"v\": 23370058047.359985}]}, {\"c\": [{\"v\": \"L-3 COMMUNICATIONS HOLDINGS  INC.\"}, {\"v\": \"L-3 COMMUNICATIONS CORPORATION\"}, {\"v\": 23330548861.829975}]}, {\"c\": [{\"v\": \"CALIFORNIA INSTITUTE OF TECHNOLOGY\"}, {\"v\": \"CALIFORNIA INSTITUTE OF TECHNOLOGY\"}, {\"v\": 22546542423.810013}]}], \"cols\": [{\"type\": \"string\", \"id\": \"mod_parent\", \"label\": \"mod_parent\"}, {\"type\": \"string\", \"id\": \"vendorname\", \"label\": \"vendorname\"}, {\"type\": \"number\", \"id\": \"dollarsobligated\", \"label\": \"dollarsobligated\"}]},\n",
       "            {\n",
       "              pageSize: 25,\n",
       "              cssClassNames:  {\n",
       "                tableRow: 'gchart-table-row',\n",
       "                headerRow: 'gchart-table-headerrow',\n",
       "                oddTableRow: 'gchart-table-oddrow',\n",
       "                selectedTableRow: 'gchart-table-selectedrow',\n",
       "                hoverTableRow: 'gchart-table-hoverrow',\n",
       "                tableCell: 'gchart-table-cell',\n",
       "                headerCell: 'gchart-table-headercell',\n",
       "                rowNumberCell: 'gchart-table-rownumcell'\n",
       "              }\n",
       "            },\n",
       "            {source_index: 42, fields: 'mod_parent,vendorname,dollarsobligated'},\n",
       "            0,\n",
       "            20);\n",
       "        }\n",
       "      );\n",
       "    </script>\n",
       "  "
      ],
      "text/plain": [
       "QueryResultsTable job_Zgi2qX4TC7rbAES4Sx7TlAG1RZE"
      ]
     },
     "execution_count": 171,
     "metadata": {},
     "output_type": "execute_result"
    }
   ],
   "source": [
    "%%bq query\n",
    "select\n",
    "mod_parent,\n",
    "vendorname,\n",
    "sum(dollarsobligated) as dollarsobligated\n",
    "from `gpqueries.contracts.raw`\n",
    "group by 1,2\n",
    "order by 3 DESC\n",
    "limit 20"
   ]
  },
  {
   "cell_type": "markdown",
   "metadata": {},
   "source": [
    "### Understanding where the budget is spent"
   ]
  },
  {
   "cell_type": "code",
   "execution_count": 173,
   "metadata": {
    "collapsed": false
   },
   "outputs": [
    {
     "data": {
      "text/html": [
       "\n",
       "    <div class=\"bqtv\" id=\"47_149782107579\"><table><tr><th>productorservicecode</th><th>systemequipmentcode</th><th>claimantprogramcode</th><th>principalnaicscode</th><th>dollarsobligated</th></tr><tr><td>1510: AIRCRAFT, FIXED WING</td><td>198: JSF (F-35) </td><td>A1A: AIRFRAMES AND SPARES</td><td>336411: AIRCRAFT MANUFACTURING</td><td>28184206750.3</td></tr><tr><td>AC15: DEFENSE AIRCRAFT (OPERATIONAL)</td><td>:</td><td>A1A: AIRFRAMES AND SPARES</td><td>336411: AIRCRAFT MANUFACTURING</td><td>26151446019.5</td></tr><tr><td>1510: AIRCRAFT, FIXED WING</td><td>:</td><td>A1A: AIRFRAMES AND SPARES</td><td>336411: AIRCRAFT MANUFACTURING</td><td>19836284551.3</td></tr><tr><td>1510: AIRCRAFT, FIXED WING</td><td>265: F/A-22 </td><td>A1A: AIRFRAMES AND SPARES</td><td>336411: AIRCRAFT MANUFACTURING</td><td>15892995299.5</td></tr><tr><td>1510: AIRCRAFT, FIXED WING</td><td>198: F-35</td><td>A1A: AIRFRAMES AND SPARES</td><td>336411: AIRCRAFT MANUFACTURING</td><td>11913743558.5</td></tr><tr><td>1510: AIRCRAFT, FIXED WING</td><td>220: C130-J </td><td>A1A: AIRFRAMES AND SPARES</td><td>336411: AIRCRAFT MANUFACTURING</td><td>9329833845.35</td></tr><tr><td>AR92: R&amp;D-OTHER SPACE-A RES/EXPL DEV</td><td>:</td><td>A2: MISSILE AND SPACE SYSTEMS</td><td>541710: RESEARCH AND DEVELOPMENT IN THE PHYSICAL, ENGINEERING, AND LIFE SCIENCES</td><td>7604013454.81</td></tr><tr><td>1420: GUIDED MISSILE COMPONENTS</td><td>178: TRIDENT II MISSILE </td><td>A2: MISSILE AND SPACE SYSTEMS</td><td>336414: GUIDED MISSILE AND SPACE VEHICLE MANUFACTURING</td><td>6227373037.0</td></tr><tr><td>AC15: R&amp;D- DEFENSE SYSTEM: AIRCRAFT (OPERATIONAL SYSTEMS DEVELOPMENT)</td><td>:</td><td>A1A: AIRFRAMES AND SPARES</td><td>336411: AIRCRAFT MANUFACTURING</td><td>6215950221.08</td></tr><tr><td>AC23: R&amp;D-MISSILE &amp; SPACE SYS-ADV DEV</td><td>CNX: THAAD-THEATER HIGH ALT AIR DEF</td><td>A2: MISSILE AND SPACE SYSTEMS</td><td>541710: RESEARCH AND DEVELOPMENT IN THE PHYSICAL, ENGINEERING, AND LIFE SCIENCES</td><td>5949829201.77</td></tr><tr><td>1410: GUIDED MISSILES</td><td>CAA: MISSILE DEFENSE AGENCY SUPPORT</td><td>A2: MISSILE AND SPACE SYSTEMS</td><td>336414: GUIDED MISSILE AND SPACE VEHICLE MANUFACTURING</td><td>5853241426.12</td></tr><tr><td>1420: GUIDED MISSILE COMPONENTS</td><td>106: PATRIOT </td><td>A2: MISSILE AND SPACE SYSTEMS</td><td>336419: OTHER GUIDED MISSILE AND SPACE VEHICLE PARTS AND AUXILIARY EQUIPMENT MANUFACTURING</td><td>5527117983.19</td></tr><tr><td>1905: COMBAT SHIPS AND LANDING VESSELS</td><td>374: LCS </td><td>A3: SHIPS</td><td>336611: SHIP BUILDING AND REPAIRING</td><td>4780077622.61</td></tr><tr><td>1510: AIRCRAFT, FIXED WING</td><td>220: C-130J </td><td>A1A: AIRFRAMES AND SPARES</td><td>336411: AIRCRAFT MANUFACTURING</td><td>4762446848.72</td></tr><tr><td>AR33: R&amp;D- SPACE: FLIGHT (ADVANCED DEVELOPMENT)</td><td>:</td><td>:</td><td>541710: RESEARCH AND DEVELOPMENT IN THE PHYSICAL, ENGINEERING, AND LIFE SCIENCES</td><td>4692634788.6</td></tr><tr><td>1810: SPACE VEHICLES</td><td>210: SBIRS HIGH</td><td>A2: MISSILE AND SPACE SYSTEMS</td><td>336414: GUIDED MISSILE AND SPACE VEHICLE MANUFACTURING</td><td>4622776105.07</td></tr><tr><td>AR33: SPACE FLIGHT (ADVANCED)</td><td>:</td><td>:</td><td>541710: RESEARCH AND DEVELOPMENT IN THE PHYSICAL, ENGINEERING, AND LIFE SCIENCES</td><td>4403909376.94</td></tr><tr><td>J016: MAINT/REPAIR/REBUILD OF EQUIPMENT- AIRCRAFT COMPONENTS AND ACCESSORIES</td><td>265: F/A-22 </td><td>S1: SERVICES</td><td>488190: OTHER SUPPORT ACTIVITIES FOR AIR TRANSPORTATION</td><td>3900052919.96</td></tr><tr><td>AC17: R&amp;D-AIRCRAFT-COMERCLIZ</td><td>265: F/A-22 </td><td>A1A: AIRFRAMES AND SPARES</td><td>541710: RESEARCH AND DEVELOPMENT IN THE PHYSICAL, ENGINEERING, AND LIFE SCIENCES</td><td>3685231281.42</td></tr><tr><td>1810: SPACE VEHICLES</td><td>166: NAVSTAR GPS</td><td>A2: MISSILE AND SPACE SYSTEMS</td><td>336414: GUIDED MISSILE AND SPACE VEHICLE MANUFACTURING</td><td>3404751993.8</td></tr></table></div>\n",
       "    <br />(rows: 20, time: 1.8s,     6GB processed, job: job_9CHZ3rSf9cZ5mG71b9q5cFpTNKk)<br />\n",
       "    <script>\n",
       "\n",
       "      require.config({\n",
       "        paths: {\n",
       "          d3: '//cdnjs.cloudflare.com/ajax/libs/d3/3.4.13/d3',\n",
       "          plotly: 'https://cdn.plot.ly/plotly-1.5.1.min.js?noext',\n",
       "          jquery: '//ajax.googleapis.com/ajax/libs/jquery/2.0.0/jquery.min'\n",
       "        },\n",
       "        map: {\n",
       "          '*': {\n",
       "            datalab: 'nbextensions/gcpdatalab'\n",
       "          }\n",
       "        },\n",
       "        shim: {\n",
       "          plotly: {\n",
       "            deps: ['d3', 'jquery'],\n",
       "            exports: 'plotly'\n",
       "          }\n",
       "        }\n",
       "      });\n",
       "\n",
       "      require(['datalab/charting', 'datalab/element!47_149782107579', 'base/js/events',\n",
       "          'datalab/style!/nbextensions/gcpdatalab/charting.css'],\n",
       "        function(charts, dom, events) {\n",
       "          charts.render('gcharts', dom, events, 'table', [], {\"rows\": [{\"c\": [{\"v\": \"1510: AIRCRAFT, FIXED WING\"}, {\"v\": \"198: JSF (F-35) \"}, {\"v\": \"A1A: AIRFRAMES AND SPARES\"}, {\"v\": \"336411: AIRCRAFT MANUFACTURING\"}, {\"v\": 28184206750.290005}]}, {\"c\": [{\"v\": \"AC15: DEFENSE AIRCRAFT (OPERATIONAL)\"}, {\"v\": \":\"}, {\"v\": \"A1A: AIRFRAMES AND SPARES\"}, {\"v\": \"336411: AIRCRAFT MANUFACTURING\"}, {\"v\": 26151446019.48}]}, {\"c\": [{\"v\": \"1510: AIRCRAFT, FIXED WING\"}, {\"v\": \":\"}, {\"v\": \"A1A: AIRFRAMES AND SPARES\"}, {\"v\": \"336411: AIRCRAFT MANUFACTURING\"}, {\"v\": 19836284551.29}]}, {\"c\": [{\"v\": \"1510: AIRCRAFT, FIXED WING\"}, {\"v\": \"265: F/A-22 \"}, {\"v\": \"A1A: AIRFRAMES AND SPARES\"}, {\"v\": \"336411: AIRCRAFT MANUFACTURING\"}, {\"v\": 15892995299.539997}]}, {\"c\": [{\"v\": \"1510: AIRCRAFT, FIXED WING\"}, {\"v\": \"198: F-35\"}, {\"v\": \"A1A: AIRFRAMES AND SPARES\"}, {\"v\": \"336411: AIRCRAFT MANUFACTURING\"}, {\"v\": 11913743558.48}]}, {\"c\": [{\"v\": \"1510: AIRCRAFT, FIXED WING\"}, {\"v\": \"220: C130-J \"}, {\"v\": \"A1A: AIRFRAMES AND SPARES\"}, {\"v\": \"336411: AIRCRAFT MANUFACTURING\"}, {\"v\": 9329833845.35}]}, {\"c\": [{\"v\": \"AR92: R&D-OTHER SPACE-A RES/EXPL DEV\"}, {\"v\": \":\"}, {\"v\": \"A2: MISSILE AND SPACE SYSTEMS\"}, {\"v\": \"541710: RESEARCH AND DEVELOPMENT IN THE PHYSICAL, ENGINEERING, AND LIFE SCIENCES\"}, {\"v\": 7604013454.81}]}, {\"c\": [{\"v\": \"1420: GUIDED MISSILE COMPONENTS\"}, {\"v\": \"178: TRIDENT II MISSILE \"}, {\"v\": \"A2: MISSILE AND SPACE SYSTEMS\"}, {\"v\": \"336414: GUIDED MISSILE AND SPACE VEHICLE MANUFACTURING\"}, {\"v\": 6227373037.0}]}, {\"c\": [{\"v\": \"AC15: R&D- DEFENSE SYSTEM: AIRCRAFT (OPERATIONAL SYSTEMS DEVELOPMENT)\"}, {\"v\": \":\"}, {\"v\": \"A1A: AIRFRAMES AND SPARES\"}, {\"v\": \"336411: AIRCRAFT MANUFACTURING\"}, {\"v\": 6215950221.08}]}, {\"c\": [{\"v\": \"AC23: R&D-MISSILE & SPACE SYS-ADV DEV\"}, {\"v\": \"CNX: THAAD-THEATER HIGH ALT AIR DEF\"}, {\"v\": \"A2: MISSILE AND SPACE SYSTEMS\"}, {\"v\": \"541710: RESEARCH AND DEVELOPMENT IN THE PHYSICAL, ENGINEERING, AND LIFE SCIENCES\"}, {\"v\": 5949829201.770001}]}, {\"c\": [{\"v\": \"1410: GUIDED MISSILES\"}, {\"v\": \"CAA: MISSILE DEFENSE AGENCY SUPPORT\"}, {\"v\": \"A2: MISSILE AND SPACE SYSTEMS\"}, {\"v\": \"336414: GUIDED MISSILE AND SPACE VEHICLE MANUFACTURING\"}, {\"v\": 5853241426.12}]}, {\"c\": [{\"v\": \"1420: GUIDED MISSILE COMPONENTS\"}, {\"v\": \"106: PATRIOT \"}, {\"v\": \"A2: MISSILE AND SPACE SYSTEMS\"}, {\"v\": \"336419: OTHER GUIDED MISSILE AND SPACE VEHICLE PARTS AND AUXILIARY EQUIPMENT MANUFACTURING\"}, {\"v\": 5527117983.19}]}, {\"c\": [{\"v\": \"1905: COMBAT SHIPS AND LANDING VESSELS\"}, {\"v\": \"374: LCS \"}, {\"v\": \"A3: SHIPS\"}, {\"v\": \"336611: SHIP BUILDING AND REPAIRING\"}, {\"v\": 4780077622.610001}]}, {\"c\": [{\"v\": \"1510: AIRCRAFT, FIXED WING\"}, {\"v\": \"220: C-130J \"}, {\"v\": \"A1A: AIRFRAMES AND SPARES\"}, {\"v\": \"336411: AIRCRAFT MANUFACTURING\"}, {\"v\": 4762446848.719999}]}, {\"c\": [{\"v\": \"AR33: R&D- SPACE: FLIGHT (ADVANCED DEVELOPMENT)\"}, {\"v\": \":\"}, {\"v\": \":\"}, {\"v\": \"541710: RESEARCH AND DEVELOPMENT IN THE PHYSICAL, ENGINEERING, AND LIFE SCIENCES\"}, {\"v\": 4692634788.600001}]}, {\"c\": [{\"v\": \"1810: SPACE VEHICLES\"}, {\"v\": \"210: SBIRS HIGH\"}, {\"v\": \"A2: MISSILE AND SPACE SYSTEMS\"}, {\"v\": \"336414: GUIDED MISSILE AND SPACE VEHICLE MANUFACTURING\"}, {\"v\": 4622776105.07}]}, {\"c\": [{\"v\": \"AR33: SPACE FLIGHT (ADVANCED)\"}, {\"v\": \":\"}, {\"v\": \":\"}, {\"v\": \"541710: RESEARCH AND DEVELOPMENT IN THE PHYSICAL, ENGINEERING, AND LIFE SCIENCES\"}, {\"v\": 4403909376.940001}]}, {\"c\": [{\"v\": \"J016: MAINT/REPAIR/REBUILD OF EQUIPMENT- AIRCRAFT COMPONENTS AND ACCESSORIES\"}, {\"v\": \"265: F/A-22 \"}, {\"v\": \"S1: SERVICES\"}, {\"v\": \"488190: OTHER SUPPORT ACTIVITIES FOR AIR TRANSPORTATION\"}, {\"v\": 3900052919.96}]}, {\"c\": [{\"v\": \"AC17: R&D-AIRCRAFT-COMERCLIZ\"}, {\"v\": \"265: F/A-22 \"}, {\"v\": \"A1A: AIRFRAMES AND SPARES\"}, {\"v\": \"541710: RESEARCH AND DEVELOPMENT IN THE PHYSICAL, ENGINEERING, AND LIFE SCIENCES\"}, {\"v\": 3685231281.42}]}, {\"c\": [{\"v\": \"1810: SPACE VEHICLES\"}, {\"v\": \"166: NAVSTAR GPS\"}, {\"v\": \"A2: MISSILE AND SPACE SYSTEMS\"}, {\"v\": \"336414: GUIDED MISSILE AND SPACE VEHICLE MANUFACTURING\"}, {\"v\": 3404751993.8}]}], \"cols\": [{\"type\": \"string\", \"id\": \"productorservicecode\", \"label\": \"productorservicecode\"}, {\"type\": \"string\", \"id\": \"systemequipmentcode\", \"label\": \"systemequipmentcode\"}, {\"type\": \"string\", \"id\": \"claimantprogramcode\", \"label\": \"claimantprogramcode\"}, {\"type\": \"string\", \"id\": \"principalnaicscode\", \"label\": \"principalnaicscode\"}, {\"type\": \"number\", \"id\": \"dollarsobligated\", \"label\": \"dollarsobligated\"}]},\n",
       "            {\n",
       "              pageSize: 25,\n",
       "              cssClassNames:  {\n",
       "                tableRow: 'gchart-table-row',\n",
       "                headerRow: 'gchart-table-headerrow',\n",
       "                oddTableRow: 'gchart-table-oddrow',\n",
       "                selectedTableRow: 'gchart-table-selectedrow',\n",
       "                hoverTableRow: 'gchart-table-hoverrow',\n",
       "                tableCell: 'gchart-table-cell',\n",
       "                headerCell: 'gchart-table-headercell',\n",
       "                rowNumberCell: 'gchart-table-rownumcell'\n",
       "              }\n",
       "            },\n",
       "            {source_index: 43, fields: 'productorservicecode,systemequipmentcode,claimantprogramcode,principalnaicscode,dollarsobligated'},\n",
       "            0,\n",
       "            20);\n",
       "        }\n",
       "      );\n",
       "    </script>\n",
       "  "
      ],
      "text/plain": [
       "QueryResultsTable job_9CHZ3rSf9cZ5mG71b9q5cFpTNKk"
      ]
     },
     "execution_count": 173,
     "metadata": {},
     "output_type": "execute_result"
    }
   ],
   "source": [
    "%%bq query\n",
    "select\n",
    "productorservicecode,\n",
    "systemequipmentcode,\n",
    "claimantprogramcode,\n",
    "principalnaicscode,\n",
    "sum(dollarsobligated) as dollarsobligated\n",
    "from `gpqueries.contracts.raw`\n",
    "where vendorname in ('LOCKHEED MARTIN CORPORATION')\n",
    "group by 1,2,3,4\n",
    "order by 5 DESC\n",
    "limit 20"
   ]
  },
  {
   "cell_type": "code",
   "execution_count": 175,
   "metadata": {
    "collapsed": false
   },
   "outputs": [
    {
     "data": {
      "text/html": [
       "\n",
       "    <div class=\"bqtv\" id=\"49_149782134362\"><table><tr><th>vendorname</th><th>systemequipmentcode</th><th>dollarsobligated</th></tr><tr><td>LOCKHEED MARTIN CORPORATION</td><td>198: JSF (F-35) </td><td>28184206750.3</td></tr><tr><td>LOCKHEED MARTIN CORPORATION</td><td>:</td><td>26486537414.6</td></tr><tr><td>MCDONNELL DOUGLAS CORPORATION</td><td>200: C-17A </td><td>22009486507.2</td></tr><tr><td>LOCKHEED MARTIN CORPORATION</td><td>265: F/A-22 </td><td>19056649207.1</td></tr><tr><td>MCDONNELL DOUGLAS CORPORATION</td><td>549: F/A-18 E/F </td><td>18911200956.0</td></tr><tr><td>THE BOEING COMPANY</td><td>:</td><td>14012121224.6</td></tr><tr><td>LOCKHEED MARTIN CORPORATION</td><td>198: F-35</td><td>11913743558.5</td></tr><tr><td>BOEING COMPANY, THE</td><td>:</td><td>11095921634.9</td></tr><tr><td>MCDONNELL DOUGLAS CORPORATION</td><td>:</td><td>10626078153.0</td></tr><tr><td>THE BOEING COMPANY</td><td>334: P-8A</td><td>9866407784.29</td></tr><tr><td>LOCKHEED MARTIN CORPORATION</td><td>220: C130-J </td><td>9371996889.05</td></tr><tr><td>BELL BOEING JOINT PROJECT OFFICE</td><td>212: V22 </td><td>6014772197.5</td></tr><tr><td>MCDONNELL DOUGLAS CORPORATION,</td><td>:</td><td>5627290260.64</td></tr><tr><td>THE BOEING COMPANY</td><td>311: POSEIDON </td><td>5516074946.2</td></tr><tr><td>THE BOEING COMPANY</td><td>387: KC-46A</td><td>4986303446.3</td></tr><tr><td>LOCKHEED MARTIN CORPORATION (3632)</td><td>327: C-5 RERP </td><td>4950979592.57</td></tr><tr><td>LOCKHEED MARTIN CORPORATION</td><td>220: C-130J </td><td>4762646848.72</td></tr><tr><td>THE BOEING COMPANY</td><td>334: MMA </td><td>4068738438.96</td></tr><tr><td>BOEING COMPANY, THE</td><td>549: F/A-18 E/F </td><td>3732471536.2</td></tr><tr><td>BELL BOEING JOINT PROJECT OFFI</td><td>212: V22 </td><td>3210482346.49</td></tr></table></div>\n",
       "    <br />(rows: 20, time: 2.2s,     3GB processed, job: job_wh-imb1lIKtYM4-I38XqtD5SLpY)<br />\n",
       "    <script>\n",
       "\n",
       "      require.config({\n",
       "        paths: {\n",
       "          d3: '//cdnjs.cloudflare.com/ajax/libs/d3/3.4.13/d3',\n",
       "          plotly: 'https://cdn.plot.ly/plotly-1.5.1.min.js?noext',\n",
       "          jquery: '//ajax.googleapis.com/ajax/libs/jquery/2.0.0/jquery.min'\n",
       "        },\n",
       "        map: {\n",
       "          '*': {\n",
       "            datalab: 'nbextensions/gcpdatalab'\n",
       "          }\n",
       "        },\n",
       "        shim: {\n",
       "          plotly: {\n",
       "            deps: ['d3', 'jquery'],\n",
       "            exports: 'plotly'\n",
       "          }\n",
       "        }\n",
       "      });\n",
       "\n",
       "      require(['datalab/charting', 'datalab/element!49_149782134362', 'base/js/events',\n",
       "          'datalab/style!/nbextensions/gcpdatalab/charting.css'],\n",
       "        function(charts, dom, events) {\n",
       "          charts.render('gcharts', dom, events, 'table', [], {\"rows\": [{\"c\": [{\"v\": \"LOCKHEED MARTIN CORPORATION\"}, {\"v\": \"198: JSF (F-35) \"}, {\"v\": 28184206750.290005}]}, {\"c\": [{\"v\": \"LOCKHEED MARTIN CORPORATION\"}, {\"v\": \":\"}, {\"v\": 26486537414.61}]}, {\"c\": [{\"v\": \"MCDONNELL DOUGLAS CORPORATION\"}, {\"v\": \"200: C-17A \"}, {\"v\": 22009486507.179993}]}, {\"c\": [{\"v\": \"LOCKHEED MARTIN CORPORATION\"}, {\"v\": \"265: F/A-22 \"}, {\"v\": 19056649207.119995}]}, {\"c\": [{\"v\": \"MCDONNELL DOUGLAS CORPORATION\"}, {\"v\": \"549: F/A-18 E/F \"}, {\"v\": 18911200955.999992}]}, {\"c\": [{\"v\": \"THE BOEING COMPANY\"}, {\"v\": \":\"}, {\"v\": 14012121224.550001}]}, {\"c\": [{\"v\": \"LOCKHEED MARTIN CORPORATION\"}, {\"v\": \"198: F-35\"}, {\"v\": 11913743558.479998}]}, {\"c\": [{\"v\": \"BOEING COMPANY, THE\"}, {\"v\": \":\"}, {\"v\": 11095921634.919998}]}, {\"c\": [{\"v\": \"MCDONNELL DOUGLAS CORPORATION\"}, {\"v\": \":\"}, {\"v\": 10626078152.99}]}, {\"c\": [{\"v\": \"THE BOEING COMPANY\"}, {\"v\": \"334: P-8A\"}, {\"v\": 9866407784.29}]}, {\"c\": [{\"v\": \"LOCKHEED MARTIN CORPORATION\"}, {\"v\": \"220: C130-J \"}, {\"v\": 9371996889.050001}]}, {\"c\": [{\"v\": \"BELL BOEING JOINT PROJECT OFFICE\"}, {\"v\": \"212: V22 \"}, {\"v\": 6014772197.499999}]}, {\"c\": [{\"v\": \"MCDONNELL DOUGLAS CORPORATION,\"}, {\"v\": \":\"}, {\"v\": 5627290260.639999}]}, {\"c\": [{\"v\": \"THE BOEING COMPANY\"}, {\"v\": \"311: POSEIDON \"}, {\"v\": 5516074946.2}]}, {\"c\": [{\"v\": \"THE BOEING COMPANY\"}, {\"v\": \"387: KC-46A\"}, {\"v\": 4986303446.3}]}, {\"c\": [{\"v\": \"LOCKHEED MARTIN CORPORATION (3632)\"}, {\"v\": \"327: C-5 RERP \"}, {\"v\": 4950979592.57}]}, {\"c\": [{\"v\": \"LOCKHEED MARTIN CORPORATION\"}, {\"v\": \"220: C-130J \"}, {\"v\": 4762646848.719999}]}, {\"c\": [{\"v\": \"THE BOEING COMPANY\"}, {\"v\": \"334: MMA \"}, {\"v\": 4068738438.96}]}, {\"c\": [{\"v\": \"BOEING COMPANY, THE\"}, {\"v\": \"549: F/A-18 E/F \"}, {\"v\": 3732471536.1999993}]}, {\"c\": [{\"v\": \"BELL BOEING JOINT PROJECT OFFI\"}, {\"v\": \"212: V22 \"}, {\"v\": 3210482346.49}]}], \"cols\": [{\"type\": \"string\", \"id\": \"vendorname\", \"label\": \"vendorname\"}, {\"type\": \"string\", \"id\": \"systemequipmentcode\", \"label\": \"systemequipmentcode\"}, {\"type\": \"number\", \"id\": \"dollarsobligated\", \"label\": \"dollarsobligated\"}]},\n",
       "            {\n",
       "              pageSize: 25,\n",
       "              cssClassNames:  {\n",
       "                tableRow: 'gchart-table-row',\n",
       "                headerRow: 'gchart-table-headerrow',\n",
       "                oddTableRow: 'gchart-table-oddrow',\n",
       "                selectedTableRow: 'gchart-table-selectedrow',\n",
       "                hoverTableRow: 'gchart-table-hoverrow',\n",
       "                tableCell: 'gchart-table-cell',\n",
       "                headerCell: 'gchart-table-headercell',\n",
       "                rowNumberCell: 'gchart-table-rownumcell'\n",
       "              }\n",
       "            },\n",
       "            {source_index: 45, fields: 'vendorname,systemequipmentcode,dollarsobligated'},\n",
       "            0,\n",
       "            20);\n",
       "        }\n",
       "      );\n",
       "    </script>\n",
       "  "
      ],
      "text/plain": [
       "QueryResultsTable job_wh-imb1lIKtYM4-I38XqtD5SLpY"
      ]
     },
     "execution_count": 175,
     "metadata": {},
     "output_type": "execute_result"
    }
   ],
   "source": [
    "%%bq query\n",
    "select\n",
    "#mod_parent,\n",
    "vendorname,\n",
    "systemequipmentcode,\n",
    "sum(dollarsobligated) as dollarsobligated\n",
    "from `gpqueries.contracts.raw`\n",
    "where productorservicecode in ('1510: AIRCRAFT, FIXED WING')\n",
    "group by 1,2\n",
    "order by 3 DESC\n",
    "limit 20"
   ]
  },
  {
   "cell_type": "code",
   "execution_count": 188,
   "metadata": {
    "collapsed": false
   },
   "outputs": [
    {
     "data": {
      "text/html": [
       "\n",
       "    <div class=\"bqtv\" id=\"56_149782368392\"><table><tr><th>vendorname</th><th>systemequipmentcode</th><th>claimantprogramcode</th><th>principalnaicscode</th><th>productorservicecode</th><th>dollarsobligated</th></tr><tr><td>SABRELINER CORPORATION</td><td>3ADH: </td><td>A1A: AIRFRAMES AND SPARES</td><td>336413: OTHER AIRCRAFT PARTS AND AUXILIARY EQUIPMENT MANUFACTURING</td><td>1510: AIRCRAFT, FIXED WING</td><td>115828265.0</td></tr><tr><td>TKC AEROSPACE</td><td>:</td><td>:</td><td>541330: ENGINEERING SERVICES</td><td>1510: AIRCRAFT, FIXED WING</td><td>57111881.74</td></tr><tr><td>MISSION RESEARCH CORPORATION</td><td>:</td><td>A1A: AIRFRAMES AND SPARES</td><td>336413: OTHER AIRCRAFT PARTS AND AUXILIARY EQUIPMENT MANUFACTURING</td><td>1510: AIRCRAFT, FIXED WING</td><td>53402855.9</td></tr><tr><td>ORION AIR GROUP, LLC</td><td>:</td><td>A1C: OTHER AIRCRAFT EQUIPMENT </td><td>336411: AIRCRAFT MANUFACTURING</td><td>1510: AIRCRAFT, FIXED WING</td><td>50000000.0</td></tr><tr><td>AEROVIRONMENT INCORPORATED</td><td>:</td><td>A1A: AIRFRAMES AND SPARES</td><td>336411: AIRCRAFT MANUFACTURING</td><td>1510: AIRCRAFT, FIXED WING</td><td>44710062.38</td></tr><tr><td>DYNAMIC AVIATION GROUP, INC.</td><td>:</td><td>A1A: AIRFRAMES AND SPARES</td><td>336411: AIRCRAFT MANUFACTURING</td><td>1510: AIRCRAFT, FIXED WING</td><td>39218969.0</td></tr><tr><td>TKC AEROSPACE INC.</td><td>:</td><td>:</td><td>336411: AIRCRAFT MANUFACTURING</td><td>1510: AIRCRAFT, FIXED WING</td><td>33869649.97</td></tr><tr><td>TKC AEROSPACE</td><td>:</td><td>:</td><td>336411: AIRCRAFT MANUFACTURING</td><td>1510: AIRCRAFT, FIXED WING</td><td>31932233.4</td></tr><tr><td>TKC AEROSPACE, INC.</td><td>:</td><td>:</td><td>336411: AIRCRAFT MANUFACTURING</td><td>1510: AIRCRAFT, FIXED WING</td><td>31925543.76</td></tr><tr><td>DME CORPORATIONINC</td><td>3000: </td><td>A1C: OTHER AIRCRAFT EQUIPMENT </td><td>336411: AIRCRAFT MANUFACTURING</td><td>1510: AIRCRAFT, FIXED WING</td><td>31710250.0</td></tr><tr><td>CYMSTAR LLC</td><td>:</td><td>A1C: OTHER AIRCRAFT EQUIPMENT </td><td>336413: OTHER AIRCRAFT PARTS AND AUXILIARY EQUIPMENT MANUFACTURING</td><td>1510: AIRCRAFT, FIXED WING</td><td>31553729.07</td></tr><tr><td>PHOENIX HELIPARTS INC.</td><td>:</td><td>:</td><td>336411: AIRCRAFT MANUFACTURING</td><td>1510: AIRCRAFT, FIXED WING</td><td>24694347.75</td></tr><tr><td>SIERRA NEVADA CORPORATION</td><td>:</td><td>A1C: OTHER AIRCRAFT EQUIPMENT </td><td>336413: OTHER AIRCRAFT PARTS AND AUXILIARY EQUIPMENT MANUFACTURING</td><td>1510: AIRCRAFT, FIXED WING</td><td>24145609.0</td></tr><tr><td>MISSION RESEARCH CORPORATION</td><td>3000: </td><td>A1A: AIRFRAMES AND SPARES</td><td>336413: OTHER AIRCRAFT PARTS AND AUXILIARY EQUIPMENT MANUFACTURING</td><td>1510: AIRCRAFT, FIXED WING</td><td>23700000.0</td></tr><tr><td>SABRELINER CORPORATION</td><td>:</td><td>A1A: AIRFRAMES AND SPARES</td><td>336413: OTHER AIRCRAFT PARTS AND AUXILIARY EQUIPMENT MANUFACTURING</td><td>1510: AIRCRAFT, FIXED WING</td><td>22307953.0</td></tr><tr><td>AIRCRAFT PORTFOLIO MANAGEMENT</td><td>:</td><td>A1A: AIRFRAMES AND SPARES</td><td>336411: AIRCRAFT MANUFACTURING</td><td>1510: AIRCRAFT, FIXED WING</td><td>22012000.0</td></tr><tr><td>MIDWEST JET CENTER, LLC</td><td>:</td><td>:</td><td>481211: NONSCHEDULED CHARTERED PASSENGER AIR TRANSPORTATION</td><td>1510: AIRCRAFT, FIXED WING</td><td>17280000.0</td></tr><tr><td>FLIGHTSAFETY INTERNATIONAL</td><td>:</td><td>:</td><td>611512: FLIGHT TRAINING</td><td>1510: AIRCRAFT, FIXED WING</td><td>15534920.0</td></tr><tr><td>AIR TRACTOR INCORPORATED</td><td>:</td><td>:</td><td>336411: AIRCRAFT MANUFACTURING</td><td>1510: AIRCRAFT, FIXED WING</td><td>15490012.28</td></tr><tr><td>KIG TECHNICAL SERVICES, LLC</td><td>:</td><td>A1A: AIRFRAMES AND SPARES</td><td>336411: AIRCRAFT MANUFACTURING</td><td>1510: AIRCRAFT, FIXED WING</td><td>14998282.59</td></tr></table></div>\n",
       "    <br />(rows: 20, time: 10.6s,     7GB processed, job: job_nWSAqLmxMWenfSVNiKLLRkYgqfQ)<br />\n",
       "    <script>\n",
       "\n",
       "      require.config({\n",
       "        paths: {\n",
       "          d3: '//cdnjs.cloudflare.com/ajax/libs/d3/3.4.13/d3',\n",
       "          plotly: 'https://cdn.plot.ly/plotly-1.5.1.min.js?noext',\n",
       "          jquery: '//ajax.googleapis.com/ajax/libs/jquery/2.0.0/jquery.min'\n",
       "        },\n",
       "        map: {\n",
       "          '*': {\n",
       "            datalab: 'nbextensions/gcpdatalab'\n",
       "          }\n",
       "        },\n",
       "        shim: {\n",
       "          plotly: {\n",
       "            deps: ['d3', 'jquery'],\n",
       "            exports: 'plotly'\n",
       "          }\n",
       "        }\n",
       "      });\n",
       "\n",
       "      require(['datalab/charting', 'datalab/element!56_149782368392', 'base/js/events',\n",
       "          'datalab/style!/nbextensions/gcpdatalab/charting.css'],\n",
       "        function(charts, dom, events) {\n",
       "          charts.render('gcharts', dom, events, 'table', [], {\"rows\": [{\"c\": [{\"v\": \"SABRELINER CORPORATION\"}, {\"v\": \"3ADH: \"}, {\"v\": \"A1A: AIRFRAMES AND SPARES\"}, {\"v\": \"336413: OTHER AIRCRAFT PARTS AND AUXILIARY EQUIPMENT MANUFACTURING\"}, {\"v\": \"1510: AIRCRAFT, FIXED WING\"}, {\"v\": 115828265.0}]}, {\"c\": [{\"v\": \"TKC AEROSPACE\"}, {\"v\": \":\"}, {\"v\": \":\"}, {\"v\": \"541330: ENGINEERING SERVICES\"}, {\"v\": \"1510: AIRCRAFT, FIXED WING\"}, {\"v\": 57111881.74000001}]}, {\"c\": [{\"v\": \"MISSION RESEARCH CORPORATION\"}, {\"v\": \":\"}, {\"v\": \"A1A: AIRFRAMES AND SPARES\"}, {\"v\": \"336413: OTHER AIRCRAFT PARTS AND AUXILIARY EQUIPMENT MANUFACTURING\"}, {\"v\": \"1510: AIRCRAFT, FIXED WING\"}, {\"v\": 53402855.9}]}, {\"c\": [{\"v\": \"ORION AIR GROUP, LLC\"}, {\"v\": \":\"}, {\"v\": \"A1C: OTHER AIRCRAFT EQUIPMENT \"}, {\"v\": \"336411: AIRCRAFT MANUFACTURING\"}, {\"v\": \"1510: AIRCRAFT, FIXED WING\"}, {\"v\": 50000000.0}]}, {\"c\": [{\"v\": \"AEROVIRONMENT INCORPORATED\"}, {\"v\": \":\"}, {\"v\": \"A1A: AIRFRAMES AND SPARES\"}, {\"v\": \"336411: AIRCRAFT MANUFACTURING\"}, {\"v\": \"1510: AIRCRAFT, FIXED WING\"}, {\"v\": 44710062.38}]}, {\"c\": [{\"v\": \"DYNAMIC AVIATION GROUP, INC.\"}, {\"v\": \":\"}, {\"v\": \"A1A: AIRFRAMES AND SPARES\"}, {\"v\": \"336411: AIRCRAFT MANUFACTURING\"}, {\"v\": \"1510: AIRCRAFT, FIXED WING\"}, {\"v\": 39218969.0}]}, {\"c\": [{\"v\": \"TKC AEROSPACE INC.\"}, {\"v\": \":\"}, {\"v\": \":\"}, {\"v\": \"336411: AIRCRAFT MANUFACTURING\"}, {\"v\": \"1510: AIRCRAFT, FIXED WING\"}, {\"v\": 33869649.97}]}, {\"c\": [{\"v\": \"TKC AEROSPACE\"}, {\"v\": \":\"}, {\"v\": \":\"}, {\"v\": \"336411: AIRCRAFT MANUFACTURING\"}, {\"v\": \"1510: AIRCRAFT, FIXED WING\"}, {\"v\": 31932233.4}]}, {\"c\": [{\"v\": \"TKC AEROSPACE, INC.\"}, {\"v\": \":\"}, {\"v\": \":\"}, {\"v\": \"336411: AIRCRAFT MANUFACTURING\"}, {\"v\": \"1510: AIRCRAFT, FIXED WING\"}, {\"v\": 31925543.760000005}]}, {\"c\": [{\"v\": \"DME CORPORATIONINC\"}, {\"v\": \"3000: \"}, {\"v\": \"A1C: OTHER AIRCRAFT EQUIPMENT \"}, {\"v\": \"336411: AIRCRAFT MANUFACTURING\"}, {\"v\": \"1510: AIRCRAFT, FIXED WING\"}, {\"v\": 31710250.0}]}, {\"c\": [{\"v\": \"CYMSTAR LLC\"}, {\"v\": \":\"}, {\"v\": \"A1C: OTHER AIRCRAFT EQUIPMENT \"}, {\"v\": \"336413: OTHER AIRCRAFT PARTS AND AUXILIARY EQUIPMENT MANUFACTURING\"}, {\"v\": \"1510: AIRCRAFT, FIXED WING\"}, {\"v\": 31553729.07}]}, {\"c\": [{\"v\": \"PHOENIX HELIPARTS INC.\"}, {\"v\": \":\"}, {\"v\": \":\"}, {\"v\": \"336411: AIRCRAFT MANUFACTURING\"}, {\"v\": \"1510: AIRCRAFT, FIXED WING\"}, {\"v\": 24694347.75}]}, {\"c\": [{\"v\": \"SIERRA NEVADA CORPORATION\"}, {\"v\": \":\"}, {\"v\": \"A1C: OTHER AIRCRAFT EQUIPMENT \"}, {\"v\": \"336413: OTHER AIRCRAFT PARTS AND AUXILIARY EQUIPMENT MANUFACTURING\"}, {\"v\": \"1510: AIRCRAFT, FIXED WING\"}, {\"v\": 24145609.0}]}, {\"c\": [{\"v\": \"MISSION RESEARCH CORPORATION\"}, {\"v\": \"3000: \"}, {\"v\": \"A1A: AIRFRAMES AND SPARES\"}, {\"v\": \"336413: OTHER AIRCRAFT PARTS AND AUXILIARY EQUIPMENT MANUFACTURING\"}, {\"v\": \"1510: AIRCRAFT, FIXED WING\"}, {\"v\": 23700000.0}]}, {\"c\": [{\"v\": \"SABRELINER CORPORATION\"}, {\"v\": \":\"}, {\"v\": \"A1A: AIRFRAMES AND SPARES\"}, {\"v\": \"336413: OTHER AIRCRAFT PARTS AND AUXILIARY EQUIPMENT MANUFACTURING\"}, {\"v\": \"1510: AIRCRAFT, FIXED WING\"}, {\"v\": 22307953.0}]}, {\"c\": [{\"v\": \"AIRCRAFT PORTFOLIO MANAGEMENT\"}, {\"v\": \":\"}, {\"v\": \"A1A: AIRFRAMES AND SPARES\"}, {\"v\": \"336411: AIRCRAFT MANUFACTURING\"}, {\"v\": \"1510: AIRCRAFT, FIXED WING\"}, {\"v\": 22012000.0}]}, {\"c\": [{\"v\": \"MIDWEST JET CENTER, LLC\"}, {\"v\": \":\"}, {\"v\": \":\"}, {\"v\": \"481211: NONSCHEDULED CHARTERED PASSENGER AIR TRANSPORTATION\"}, {\"v\": \"1510: AIRCRAFT, FIXED WING\"}, {\"v\": 17280000.0}]}, {\"c\": [{\"v\": \"FLIGHTSAFETY INTERNATIONAL\"}, {\"v\": \":\"}, {\"v\": \":\"}, {\"v\": \"611512: FLIGHT TRAINING\"}, {\"v\": \"1510: AIRCRAFT, FIXED WING\"}, {\"v\": 15534920.0}]}, {\"c\": [{\"v\": \"AIR TRACTOR INCORPORATED\"}, {\"v\": \":\"}, {\"v\": \":\"}, {\"v\": \"336411: AIRCRAFT MANUFACTURING\"}, {\"v\": \"1510: AIRCRAFT, FIXED WING\"}, {\"v\": 15490012.280000001}]}, {\"c\": [{\"v\": \"KIG TECHNICAL SERVICES, LLC\"}, {\"v\": \":\"}, {\"v\": \"A1A: AIRFRAMES AND SPARES\"}, {\"v\": \"336411: AIRCRAFT MANUFACTURING\"}, {\"v\": \"1510: AIRCRAFT, FIXED WING\"}, {\"v\": 14998282.59}]}], \"cols\": [{\"type\": \"string\", \"id\": \"vendorname\", \"label\": \"vendorname\"}, {\"type\": \"string\", \"id\": \"systemequipmentcode\", \"label\": \"systemequipmentcode\"}, {\"type\": \"string\", \"id\": \"claimantprogramcode\", \"label\": \"claimantprogramcode\"}, {\"type\": \"string\", \"id\": \"principalnaicscode\", \"label\": \"principalnaicscode\"}, {\"type\": \"string\", \"id\": \"productorservicecode\", \"label\": \"productorservicecode\"}, {\"type\": \"number\", \"id\": \"dollarsobligated\", \"label\": \"dollarsobligated\"}]},\n",
       "            {\n",
       "              pageSize: 25,\n",
       "              cssClassNames:  {\n",
       "                tableRow: 'gchart-table-row',\n",
       "                headerRow: 'gchart-table-headerrow',\n",
       "                oddTableRow: 'gchart-table-oddrow',\n",
       "                selectedTableRow: 'gchart-table-selectedrow',\n",
       "                hoverTableRow: 'gchart-table-hoverrow',\n",
       "                tableCell: 'gchart-table-cell',\n",
       "                headerCell: 'gchart-table-headercell',\n",
       "                rowNumberCell: 'gchart-table-rownumcell'\n",
       "              }\n",
       "            },\n",
       "            {source_index: 52, fields: 'vendorname,systemequipmentcode,claimantprogramcode,principalnaicscode,productorservicecode,dollarsobligated'},\n",
       "            0,\n",
       "            20);\n",
       "        }\n",
       "      );\n",
       "    </script>\n",
       "  "
      ],
      "text/plain": [
       "QueryResultsTable job_nWSAqLmxMWenfSVNiKLLRkYgqfQ"
      ]
     },
     "execution_count": 188,
     "metadata": {},
     "output_type": "execute_result"
    }
   ],
   "source": [
    "%%bq query\n",
    "select\n",
    "vendorname,\n",
    "systemequipmentcode,\n",
    "claimantprogramcode,\n",
    "principalnaicscode,\n",
    "sum(dollarsobligated) as dollarsobligated\n",
    "from `gpqueries.contracts.raw`\n",
    "where productorservicecode in ('1510: AIRCRAFT, FIXED WING')\n",
    "and contractingofficerbusinesssizedetermination in ('S: SMALL BUSINESS')\n",
    "group by 1,2,3,4,5\n",
    "order by dollarsobligated DESC\n",
    "limit 20"
   ]
  },
  {
   "cell_type": "code",
   "execution_count": 190,
   "metadata": {
    "collapsed": false
   },
   "outputs": [
    {
     "data": {
      "text/html": [
       "\n",
       "    <div class=\"bqtv\" id=\"58_149782449951\"><table><tr><th>unique_transaction_id</th><th>transaction_status</th><th>dollarsobligated</th><th>baseandexercisedoptionsvalue</th><th>baseandalloptionsvalue</th><th>maj_agency_cat</th><th>mod_agency</th><th>maj_fund_agency_cat</th><th>contractingofficeagencyid</th><th>contractingofficeid</th><th>fundingrequestingagencyid</th><th>fundingrequestingofficeid</th><th>fundedbyforeignentity</th><th>signeddate</th><th>effectivedate</th><th>currentcompletiondate</th><th>ultimatecompletiondate</th><th>lastdatetoorder</th><th>contractactiontype</th><th>reasonformodification</th><th>typeofcontractpricing</th><th>priceevaluationpercentdifference</th><th>subcontractplan</th><th>lettercontract</th><th>multiyearcontract</th><th>performancebasedservicecontract</th><th>majorprogramcode</th><th>contingencyhumanitarianpeacekeepingoperation</th><th>contractfinancing</th><th>costorpricingdata</th><th>costaccountingstandardsclause</th><th>descriptionofcontractrequirement</th><th>purchasecardaspaymentmethod</th><th>numberofactions</th><th>nationalinterestactioncode</th><th>progsourceagency</th><th>progsourceaccount</th><th>progsourcesubacct</th><th>account_title</th><th>rec_flag</th><th>typeofidc</th><th>multipleorsingleawardidc</th><th>programacronym</th><th>vendorname</th><th>vendoralternatename</th><th>vendorlegalorganizationname</th><th>vendordoingasbusinessname</th><th>divisionname</th><th>divisionnumberorofficecode</th><th>vendorenabled</th><th>vendorlocationdisableflag</th><th>ccrexception</th><th>streetaddress</th><th>streetaddress2</th><th>streetaddress3</th><th>city</th><th>state</th><th>zipcode</th><th>vendorcountrycode</th><th>vendor_state_code</th><th>vendor_cd</th><th>congressionaldistrict</th><th>vendorsitecode</th><th>vendoralternatesitecode</th><th>dunsnumber</th><th>parentdunsnumber</th><th>phoneno</th><th>faxno</th><th>registrationdate</th><th>renewaldate</th><th>mod_parent</th><th>locationcode</th><th>statecode</th><th>PlaceofPerformanceCity</th><th>pop_state_code</th><th>placeofperformancecountrycode</th><th>placeofperformancezipcode</th><th>pop_cd</th><th>placeofperformancecongressionaldistrict</th><th>psc_cat</th><th>productorservicecode</th><th>systemequipmentcode</th><th>claimantprogramcode</th><th>principalnaicscode</th><th>informationtechnologycommercialitemcategory</th><th>gfe_gfp</th><th>useofepadesignatedproducts</th><th>recoveredmaterialclauses</th><th>seatransportation</th><th>contractbundling</th><th>consolidatedcontract</th><th>countryoforigin</th><th>placeofmanufacture</th><th>manufacturingorganizationtype</th><th>agencyid</th><th>piid</th><th>modnumber</th><th>transactionnumber</th><th>fiscal_year</th><th>idvagencyid</th><th>idvpiid</th><th>idvmodificationnumber</th><th>solicitationid</th><th>extentcompeted</th><th>reasonnotcompeted</th><th>numberofoffersreceived</th><th>commercialitemacquisitionprocedures</th><th>commercialitemtestprogram</th><th>smallbusinesscompetitivenessdemonstrationprogram</th><th>a76action</th><th>competitiveprocedures</th><th>solicitationprocedures</th><th>typeofsetaside</th><th>localareasetaside</th><th>evaluatedpreference</th><th>fedbizopps</th><th>research</th><th>statutoryexceptiontofairopportunity</th><th>organizationaltype</th><th>numberofemployees</th><th>annualrevenue</th><th>firm8aflag</th><th>hubzoneflag</th><th>sdbflag</th><th>issbacertifiedsmalldisadvantagedbusiness</th><th>shelteredworkshopflag</th><th>hbcuflag</th><th>educationalinstitutionflag</th><th>womenownedflag</th><th>veteranownedflag</th><th>srdvobflag</th><th>localgovernmentflag</th><th>minorityinstitutionflag</th><th>aiobflag</th><th>stategovernmentflag</th><th>federalgovernmentflag</th><th>minorityownedbusinessflag</th><th>apaobflag</th><th>tribalgovernmentflag</th><th>baobflag</th><th>naobflag</th><th>saaobflag</th><th>nonprofitorganizationflag</th><th>isothernotforprofitorganization</th><th>isforprofitorganization</th><th>isfoundation</th><th>haobflag</th><th>ishispanicservicinginstitution</th><th>emergingsmallbusinessflag</th><th>hospitalflag</th><th>contractingofficerbusinesssizedetermination</th><th>is1862landgrantcollege</th><th>is1890landgrantcollege</th><th>is1994landgrantcollege</th><th>isveterinarycollege</th><th>isveterinaryhospital</th><th>isprivateuniversityorcollege</th><th>isschoolofforestry</th><th>isstatecontrolledinstitutionofhigherlearning</th><th>isserviceprovider</th><th>receivescontracts</th><th>receivesgrants</th><th>receivescontractsandgrants</th><th>isairportauthority</th><th>iscouncilofgovernments</th><th>ishousingauthoritiespublicortribal</th><th>isinterstateentity</th><th>isplanningcommission</th><th>isportauthority</th><th>istransitauthority</th><th>issubchapterscorporation</th><th>islimitedliabilitycorporation</th><th>isforeignownedandlocated</th><th>isarchitectureandengineering</th><th>isdotcertifieddisadvantagedbusinessenterprise</th><th>iscitylocalgovernment</th><th>iscommunitydevelopedcorporationownedfirm</th><th>iscommunitydevelopmentcorporation</th><th>isconstructionfirm</th><th>ismanufacturerofgoods</th><th>iscorporateentitynottaxexempt</th><th>iscountylocalgovernment</th><th>isdomesticshelter</th><th>isfederalgovernmentagency</th><th>isfederallyfundedresearchanddevelopmentcorp</th><th>isforeigngovernment</th><th>isindiantribe</th><th>isintermunicipallocalgovernment</th><th>isinternationalorganization</th><th>islaborsurplusareafirm</th><th>islocalgovernmentowned</th><th>ismunicipalitylocalgovernment</th><th>isnativehawaiianownedorganizationorfirm</th><th>isotherbusinessororganization</th><th>isotherminorityowned</th><th>ispartnershiporlimitedliabilitypartnership</th><th>isschooldistrictlocalgovernment</th><th>issmallagriculturalcooperative</th><th>issoleproprietorship</th><th>istownshiplocalgovernment</th><th>istriballyownedfirm</th><th>istribalcollege</th><th>isalaskannativeownedcorporationorfirm</th><th>iscorporateentitytaxexempt</th><th>iswomenownedsmallbusiness</th><th>isecondisadvwomenownedsmallbusiness</th><th>isjointventurewomenownedsmallbusiness</th><th>isjointventureecondisadvwomenownedsmallbusiness</th><th>walshhealyact</th><th>servicecontractact</th><th>davisbaconact</th><th>clingercohenact</th><th>otherstatutoryauthority</th><th>prime_awardee_executive1</th><th>prime_awardee_executive1_compensation</th><th>prime_awardee_executive2</th><th>prime_awardee_executive2_compensation</th><th>prime_awardee_executive3</th><th>prime_awardee_executive3_compensation</th><th>prime_awardee_executive4</th><th>prime_awardee_executive4_compensation</th><th>prime_awardee_executive5</th><th>prime_awardee_executive5_compensation</th><th>interagencycontractingauthority</th><th>last_modified_date</th></tr><tr><td>1890f27bde114a80357a916d3212edb6</td><td>active</td><td>166000.0</td><td>0.0</td><td>0.0</td><td>9514: OCCUPATIONAL SAFETY AND HEALTH REVIEW COMMISSION</td><td>1226: FOREST SERVICE</td><td>9514: OCCUPATIONAL SAFETY AND HEALTH REVIEW COMMISSION</td><td>1226: FOREST SERVICE</td><td>091S8: DEPT OF AGRIC/FOREST SERVICE</td><td>1226: FOREST SERVICE</td><td>:</td><td>Not Applicable</td><td>03/15/2001</td><td>03/15/2001</td><td>03/15/2003</td><td>03/15/2003</td><td>01/01/1900</td><td>DCA Definitive Contract</td><td>:</td><td>K: Fixed Price with Economic Price Adjustment</td><td>0.0</td><td>B: PLAN NOT REQUIRED </td><td>X</td><td>N: No</td><td>X: NOT APPLICABLE</td><td></td><td>:</td><td>:</td><td>:</td><td>X</td><td></td><td>N: No</td><td>1</td><td>NONE: NONE</td><td></td><td></td><td></td><td></td><td></td><td></td><td>:</td><td></td><td>COMMANDER NORTHWEST LIMITED</td><td></td><td></td><td></td><td></td><td></td><td></td><td></td><td></td><td>200 AIRPORT WAY</td><td></td><td></td><td>EAST WENATCHEE</td><td>WA</td><td>988028746</td><td>UNITED STATES</td><td>WA</td><td>WA04</td><td>WA04</td><td></td><td></td><td>012230475</td><td>012230475</td><td></td><td></td><td>01/01/1900</td><td>01/01/1900</td><td>COMMANDER NORTHWEST LIMITED</td><td>54652</td><td>CA: CALIFORNIA</td><td></td><td>CA: </td><td>USA: UNITED STATES</td><td></td><td>CA00</td><td>CA00</td><td>15</td><td>1510: AIRCRAFT, FIXED WING</td><td>:</td><td>:</td><td>115310: SUPPORT ACTIVITIES FOR FORESTRY</td><td>:</td><td>N: Transaction does not use GFE/GFP</td><td>:</td><td>:</td><td>:</td><td>D: NOT A BUNDLED REQUIREMENT</td><td>N: No</td><td>USA</td><td>:</td><td>:</td><td>1226: FOREST SERVICE</td><td>091S8200103D5591S801AF19</td><td>0</td><td>0</td><td>2001</td><td></td><td></td><td></td><td></td><td>A: FULL AND OPEN COMPETITION</td><td>:</td><td>2</td><td>A: </td><td>N: No</td><td>N: NO</td><td>No</td><td></td><td>:</td><td>:</td><td></td><td>:</td><td>Y</td><td></td><td></td><td></td><td>0</td><td>0.0</td><td>N</td><td>N</td><td>N</td><td>N</td><td>N</td><td>N</td><td>N</td><td>N</td><td>N</td><td>N</td><td>N</td><td>N</td><td>N</td><td>N</td><td>N</td><td>N</td><td>N</td><td>N</td><td>N</td><td>N</td><td>N</td><td>N</td><td>N</td><td>N</td><td>N</td><td>N</td><td>N</td><td>N</td><td>N</td><td>S: SMALL BUSINESS</td><td>N</td><td>N</td><td>N</td><td>N</td><td>N</td><td>N</td><td>N</td><td>N</td><td></td><td>N</td><td>N</td><td>N</td><td>N</td><td>N</td><td>N</td><td>N</td><td>N</td><td>N</td><td>N</td><td>N</td><td>N</td><td>N</td><td>N</td><td></td><td>N</td><td>N</td><td>N</td><td>N</td><td>N</td><td>N</td><td>N</td><td>N</td><td>N</td><td>N</td><td>N</td><td>N</td><td>N</td><td>N</td><td>N</td><td>N</td><td>N</td><td>N</td><td>N</td><td>N</td><td>N</td><td>N</td><td>N</td><td>N</td><td>N</td><td>N</td><td>N</td><td>N</td><td>N</td><td>N</td><td>N</td><td>N</td><td>N</td><td>N: No</td><td>Y: Yes</td><td>X: Not Applicable</td><td>N: No</td><td></td><td></td><td>0.0</td><td></td><td>0.0</td><td></td><td>0.0</td><td></td><td>0.0</td><td></td><td>0.0</td><td>X: Not Applicable</td><td>06/27/2001</td></tr></table></div>\n",
       "    <br />(rows: 1, time: 2.1s,    83GB processed, job: job_huiMES8smOVDiBF3FFl2ocZ8ZP0)<br />\n",
       "    <script>\n",
       "\n",
       "      require.config({\n",
       "        paths: {\n",
       "          d3: '//cdnjs.cloudflare.com/ajax/libs/d3/3.4.13/d3',\n",
       "          plotly: 'https://cdn.plot.ly/plotly-1.5.1.min.js?noext',\n",
       "          jquery: '//ajax.googleapis.com/ajax/libs/jquery/2.0.0/jquery.min'\n",
       "        },\n",
       "        map: {\n",
       "          '*': {\n",
       "            datalab: 'nbextensions/gcpdatalab'\n",
       "          }\n",
       "        },\n",
       "        shim: {\n",
       "          plotly: {\n",
       "            deps: ['d3', 'jquery'],\n",
       "            exports: 'plotly'\n",
       "          }\n",
       "        }\n",
       "      });\n",
       "\n",
       "      require(['datalab/charting', 'datalab/element!58_149782449951', 'base/js/events',\n",
       "          'datalab/style!/nbextensions/gcpdatalab/charting.css'],\n",
       "        function(charts, dom, events) {\n",
       "          charts.render('gcharts', dom, events, 'table', [], {\"rows\": [{\"c\": [{\"v\": \"1890f27bde114a80357a916d3212edb6\"}, {\"v\": \"active\"}, {\"v\": 166000.0}, {\"v\": 0.0}, {\"v\": 0.0}, {\"v\": \"9514: OCCUPATIONAL SAFETY AND HEALTH REVIEW COMMISSION\"}, {\"v\": \"1226: FOREST SERVICE\"}, {\"v\": \"9514: OCCUPATIONAL SAFETY AND HEALTH REVIEW COMMISSION\"}, {\"v\": \"1226: FOREST SERVICE\"}, {\"v\": \"091S8: DEPT OF AGRIC/FOREST SERVICE\"}, {\"v\": \"1226: FOREST SERVICE\"}, {\"v\": \":\"}, {\"v\": \"Not Applicable\"}, {\"v\": \"03/15/2001\"}, {\"v\": \"03/15/2001\"}, {\"v\": \"03/15/2003\"}, {\"v\": \"03/15/2003\"}, {\"v\": \"01/01/1900\"}, {\"v\": \"DCA Definitive Contract\"}, {\"v\": \":\"}, {\"v\": \"K: Fixed Price with Economic Price Adjustment\"}, {\"v\": 0.0}, {\"v\": \"B: PLAN NOT REQUIRED \"}, {\"v\": \"X\"}, {\"v\": \"N: No\"}, {\"v\": \"X: NOT APPLICABLE\"}, {\"v\": \"\"}, {\"v\": \":\"}, {\"v\": \":\"}, {\"v\": \":\"}, {\"v\": \"X\"}, {\"v\": \"\"}, {\"v\": \"N: No\"}, {\"v\": \"1\"}, {\"v\": \"NONE: NONE\"}, {\"v\": \"\"}, {\"v\": \"\"}, {\"v\": \"\"}, {\"v\": \"\"}, {\"v\": \"\"}, {\"v\": \"\"}, {\"v\": \":\"}, {\"v\": \"\"}, {\"v\": \"COMMANDER NORTHWEST LIMITED\"}, {\"v\": \"\"}, {\"v\": \"\"}, {\"v\": \"\"}, {\"v\": \"\"}, {\"v\": \"\"}, {\"v\": \"\"}, {\"v\": \"\"}, {\"v\": \"\"}, {\"v\": \"200 AIRPORT WAY\"}, {\"v\": \"\"}, {\"v\": \"\"}, {\"v\": \"EAST WENATCHEE\"}, {\"v\": \"WA\"}, {\"v\": \"988028746\"}, {\"v\": \"UNITED STATES\"}, {\"v\": \"WA\"}, {\"v\": \"WA04\"}, {\"v\": \"WA04\"}, {\"v\": \"\"}, {\"v\": \"\"}, {\"v\": \"012230475\"}, {\"v\": \"012230475\"}, {\"v\": \"\"}, {\"v\": \"\"}, {\"v\": \"01/01/1900\"}, {\"v\": \"01/01/1900\"}, {\"v\": \"COMMANDER NORTHWEST LIMITED\"}, {\"v\": \"54652\"}, {\"v\": \"CA: CALIFORNIA\"}, {\"v\": \"\"}, {\"v\": \"CA: \"}, {\"v\": \"USA: UNITED STATES\"}, {\"v\": \"\"}, {\"v\": \"CA00\"}, {\"v\": \"CA00\"}, {\"v\": \"15\"}, {\"v\": \"1510: AIRCRAFT, FIXED WING\"}, {\"v\": \":\"}, {\"v\": \":\"}, {\"v\": \"115310: SUPPORT ACTIVITIES FOR FORESTRY\"}, {\"v\": \":\"}, {\"v\": \"N: Transaction does not use GFE/GFP\"}, {\"v\": \":\"}, {\"v\": \":\"}, {\"v\": \":\"}, {\"v\": \"D: NOT A BUNDLED REQUIREMENT\"}, {\"v\": \"N: No\"}, {\"v\": \"USA\"}, {\"v\": \":\"}, {\"v\": \":\"}, {\"v\": \"1226: FOREST SERVICE\"}, {\"v\": \"091S8200103D5591S801AF19\"}, {\"v\": \"0\"}, {\"v\": \"0\"}, {\"v\": 2001}, {\"v\": \"\"}, {\"v\": \"\"}, {\"v\": \"\"}, {\"v\": \"\"}, {\"v\": \"A: FULL AND OPEN COMPETITION\"}, {\"v\": \":\"}, {\"v\": 2}, {\"v\": \"A: \"}, {\"v\": \"N: No\"}, {\"v\": \"N: NO\"}, {\"v\": \"No\"}, {\"v\": \"\"}, {\"v\": \":\"}, {\"v\": \":\"}, {\"v\": \"\"}, {\"v\": \":\"}, {\"v\": \"Y\"}, {\"v\": \"\"}, {\"v\": \"\"}, {\"v\": \"\"}, {\"v\": 0}, {\"v\": 0.0}, {\"v\": \"N\"}, {\"v\": \"N\"}, {\"v\": \"N\"}, {\"v\": \"N\"}, {\"v\": \"N\"}, {\"v\": \"N\"}, {\"v\": \"N\"}, {\"v\": \"N\"}, {\"v\": \"N\"}, {\"v\": \"N\"}, {\"v\": \"N\"}, {\"v\": \"N\"}, {\"v\": \"N\"}, {\"v\": \"N\"}, {\"v\": \"N\"}, {\"v\": \"N\"}, {\"v\": \"N\"}, {\"v\": \"N\"}, {\"v\": \"N\"}, {\"v\": \"N\"}, {\"v\": \"N\"}, {\"v\": \"N\"}, {\"v\": \"N\"}, {\"v\": \"N\"}, {\"v\": \"N\"}, {\"v\": \"N\"}, {\"v\": \"N\"}, {\"v\": \"N\"}, {\"v\": \"N\"}, {\"v\": \"S: SMALL BUSINESS\"}, {\"v\": \"N\"}, {\"v\": \"N\"}, {\"v\": \"N\"}, {\"v\": \"N\"}, {\"v\": \"N\"}, {\"v\": \"N\"}, {\"v\": \"N\"}, {\"v\": \"N\"}, {\"v\": \"\"}, {\"v\": \"N\"}, {\"v\": \"N\"}, {\"v\": \"N\"}, {\"v\": \"N\"}, {\"v\": \"N\"}, {\"v\": \"N\"}, {\"v\": \"N\"}, {\"v\": \"N\"}, {\"v\": \"N\"}, {\"v\": \"N\"}, {\"v\": \"N\"}, {\"v\": \"N\"}, {\"v\": \"N\"}, {\"v\": \"N\"}, {\"v\": \"\"}, {\"v\": \"N\"}, {\"v\": \"N\"}, {\"v\": \"N\"}, {\"v\": \"N\"}, {\"v\": \"N\"}, {\"v\": \"N\"}, {\"v\": \"N\"}, {\"v\": \"N\"}, {\"v\": \"N\"}, {\"v\": \"N\"}, {\"v\": \"N\"}, {\"v\": \"N\"}, {\"v\": \"N\"}, {\"v\": \"N\"}, {\"v\": \"N\"}, {\"v\": \"N\"}, {\"v\": \"N\"}, {\"v\": \"N\"}, {\"v\": \"N\"}, {\"v\": \"N\"}, {\"v\": \"N\"}, {\"v\": \"N\"}, {\"v\": \"N\"}, {\"v\": \"N\"}, {\"v\": \"N\"}, {\"v\": \"N\"}, {\"v\": \"N\"}, {\"v\": \"N\"}, {\"v\": \"N\"}, {\"v\": \"N\"}, {\"v\": \"N\"}, {\"v\": \"N\"}, {\"v\": \"N\"}, {\"v\": \"N: No\"}, {\"v\": \"Y: Yes\"}, {\"v\": \"X: Not Applicable\"}, {\"v\": \"N: No\"}, {\"v\": \"\"}, {\"v\": \"\"}, {\"v\": 0.0}, {\"v\": \"\"}, {\"v\": 0.0}, {\"v\": \"\"}, {\"v\": 0.0}, {\"v\": \"\"}, {\"v\": 0.0}, {\"v\": \"\"}, {\"v\": 0.0}, {\"v\": \"X: Not Applicable\"}, {\"v\": \"06/27/2001\"}]}], \"cols\": [{\"type\": \"string\", \"id\": \"unique_transaction_id\", \"label\": \"unique_transaction_id\"}, {\"type\": \"string\", \"id\": \"transaction_status\", \"label\": \"transaction_status\"}, {\"type\": \"number\", \"id\": \"dollarsobligated\", \"label\": \"dollarsobligated\"}, {\"type\": \"number\", \"id\": \"baseandexercisedoptionsvalue\", \"label\": \"baseandexercisedoptionsvalue\"}, {\"type\": \"number\", \"id\": \"baseandalloptionsvalue\", \"label\": \"baseandalloptionsvalue\"}, {\"type\": \"string\", \"id\": \"maj_agency_cat\", \"label\": \"maj_agency_cat\"}, {\"type\": \"string\", \"id\": \"mod_agency\", \"label\": \"mod_agency\"}, {\"type\": \"string\", \"id\": \"maj_fund_agency_cat\", \"label\": \"maj_fund_agency_cat\"}, {\"type\": \"string\", \"id\": \"contractingofficeagencyid\", \"label\": \"contractingofficeagencyid\"}, {\"type\": \"string\", \"id\": \"contractingofficeid\", \"label\": \"contractingofficeid\"}, {\"type\": \"string\", \"id\": \"fundingrequestingagencyid\", \"label\": \"fundingrequestingagencyid\"}, {\"type\": \"string\", \"id\": \"fundingrequestingofficeid\", \"label\": \"fundingrequestingofficeid\"}, {\"type\": \"string\", \"id\": \"fundedbyforeignentity\", \"label\": \"fundedbyforeignentity\"}, {\"type\": \"string\", \"id\": \"signeddate\", \"label\": \"signeddate\"}, {\"type\": \"string\", \"id\": \"effectivedate\", \"label\": \"effectivedate\"}, {\"type\": \"string\", \"id\": \"currentcompletiondate\", \"label\": \"currentcompletiondate\"}, {\"type\": \"string\", \"id\": \"ultimatecompletiondate\", \"label\": \"ultimatecompletiondate\"}, {\"type\": \"string\", \"id\": \"lastdatetoorder\", \"label\": \"lastdatetoorder\"}, {\"type\": \"string\", \"id\": \"contractactiontype\", \"label\": \"contractactiontype\"}, {\"type\": \"string\", \"id\": \"reasonformodification\", \"label\": \"reasonformodification\"}, {\"type\": \"string\", \"id\": \"typeofcontractpricing\", \"label\": \"typeofcontractpricing\"}, {\"type\": \"number\", \"id\": \"priceevaluationpercentdifference\", \"label\": \"priceevaluationpercentdifference\"}, {\"type\": \"string\", \"id\": \"subcontractplan\", \"label\": \"subcontractplan\"}, {\"type\": \"string\", \"id\": \"lettercontract\", \"label\": \"lettercontract\"}, {\"type\": \"string\", \"id\": \"multiyearcontract\", \"label\": \"multiyearcontract\"}, {\"type\": \"string\", \"id\": \"performancebasedservicecontract\", \"label\": \"performancebasedservicecontract\"}, {\"type\": \"string\", \"id\": \"majorprogramcode\", \"label\": \"majorprogramcode\"}, {\"type\": \"string\", \"id\": \"contingencyhumanitarianpeacekeepingoperation\", \"label\": \"contingencyhumanitarianpeacekeepingoperation\"}, {\"type\": \"string\", \"id\": \"contractfinancing\", \"label\": \"contractfinancing\"}, {\"type\": \"string\", \"id\": \"costorpricingdata\", \"label\": \"costorpricingdata\"}, {\"type\": \"string\", \"id\": \"costaccountingstandardsclause\", \"label\": \"costaccountingstandardsclause\"}, {\"type\": \"string\", \"id\": \"descriptionofcontractrequirement\", \"label\": \"descriptionofcontractrequirement\"}, {\"type\": \"string\", \"id\": \"purchasecardaspaymentmethod\", \"label\": \"purchasecardaspaymentmethod\"}, {\"type\": \"string\", \"id\": \"numberofactions\", \"label\": \"numberofactions\"}, {\"type\": \"string\", \"id\": \"nationalinterestactioncode\", \"label\": \"nationalinterestactioncode\"}, {\"type\": \"string\", \"id\": \"progsourceagency\", \"label\": \"progsourceagency\"}, {\"type\": \"string\", \"id\": \"progsourceaccount\", \"label\": \"progsourceaccount\"}, {\"type\": \"string\", \"id\": \"progsourcesubacct\", \"label\": \"progsourcesubacct\"}, {\"type\": \"string\", \"id\": \"account_title\", \"label\": \"account_title\"}, {\"type\": \"string\", \"id\": \"rec_flag\", \"label\": \"rec_flag\"}, {\"type\": \"string\", \"id\": \"typeofidc\", \"label\": \"typeofidc\"}, {\"type\": \"string\", \"id\": \"multipleorsingleawardidc\", \"label\": \"multipleorsingleawardidc\"}, {\"type\": \"string\", \"id\": \"programacronym\", \"label\": \"programacronym\"}, {\"type\": \"string\", \"id\": \"vendorname\", \"label\": \"vendorname\"}, {\"type\": \"string\", \"id\": \"vendoralternatename\", \"label\": \"vendoralternatename\"}, {\"type\": \"string\", \"id\": \"vendorlegalorganizationname\", \"label\": \"vendorlegalorganizationname\"}, {\"type\": \"string\", \"id\": \"vendordoingasbusinessname\", \"label\": \"vendordoingasbusinessname\"}, {\"type\": \"string\", \"id\": \"divisionname\", \"label\": \"divisionname\"}, {\"type\": \"string\", \"id\": \"divisionnumberorofficecode\", \"label\": \"divisionnumberorofficecode\"}, {\"type\": \"string\", \"id\": \"vendorenabled\", \"label\": \"vendorenabled\"}, {\"type\": \"string\", \"id\": \"vendorlocationdisableflag\", \"label\": \"vendorlocationdisableflag\"}, {\"type\": \"string\", \"id\": \"ccrexception\", \"label\": \"ccrexception\"}, {\"type\": \"string\", \"id\": \"streetaddress\", \"label\": \"streetaddress\"}, {\"type\": \"string\", \"id\": \"streetaddress2\", \"label\": \"streetaddress2\"}, {\"type\": \"string\", \"id\": \"streetaddress3\", \"label\": \"streetaddress3\"}, {\"type\": \"string\", \"id\": \"city\", \"label\": \"city\"}, {\"type\": \"string\", \"id\": \"state\", \"label\": \"state\"}, {\"type\": \"string\", \"id\": \"zipcode\", \"label\": \"zipcode\"}, {\"type\": \"string\", \"id\": \"vendorcountrycode\", \"label\": \"vendorcountrycode\"}, {\"type\": \"string\", \"id\": \"vendor_state_code\", \"label\": \"vendor_state_code\"}, {\"type\": \"string\", \"id\": \"vendor_cd\", \"label\": \"vendor_cd\"}, {\"type\": \"string\", \"id\": \"congressionaldistrict\", \"label\": \"congressionaldistrict\"}, {\"type\": \"string\", \"id\": \"vendorsitecode\", \"label\": \"vendorsitecode\"}, {\"type\": \"string\", \"id\": \"vendoralternatesitecode\", \"label\": \"vendoralternatesitecode\"}, {\"type\": \"string\", \"id\": \"dunsnumber\", \"label\": \"dunsnumber\"}, {\"type\": \"string\", \"id\": \"parentdunsnumber\", \"label\": \"parentdunsnumber\"}, {\"type\": \"string\", \"id\": \"phoneno\", \"label\": \"phoneno\"}, {\"type\": \"string\", \"id\": \"faxno\", \"label\": \"faxno\"}, {\"type\": \"string\", \"id\": \"registrationdate\", \"label\": \"registrationdate\"}, {\"type\": \"string\", \"id\": \"renewaldate\", \"label\": \"renewaldate\"}, {\"type\": \"string\", \"id\": \"mod_parent\", \"label\": \"mod_parent\"}, {\"type\": \"string\", \"id\": \"locationcode\", \"label\": \"locationcode\"}, {\"type\": \"string\", \"id\": \"statecode\", \"label\": \"statecode\"}, {\"type\": \"string\", \"id\": \"PlaceofPerformanceCity\", \"label\": \"PlaceofPerformanceCity\"}, {\"type\": \"string\", \"id\": \"pop_state_code\", \"label\": \"pop_state_code\"}, {\"type\": \"string\", \"id\": \"placeofperformancecountrycode\", \"label\": \"placeofperformancecountrycode\"}, {\"type\": \"string\", \"id\": \"placeofperformancezipcode\", \"label\": \"placeofperformancezipcode\"}, {\"type\": \"string\", \"id\": \"pop_cd\", \"label\": \"pop_cd\"}, {\"type\": \"string\", \"id\": \"placeofperformancecongressionaldistrict\", \"label\": \"placeofperformancecongressionaldistrict\"}, {\"type\": \"string\", \"id\": \"psc_cat\", \"label\": \"psc_cat\"}, {\"type\": \"string\", \"id\": \"productorservicecode\", \"label\": \"productorservicecode\"}, {\"type\": \"string\", \"id\": \"systemequipmentcode\", \"label\": \"systemequipmentcode\"}, {\"type\": \"string\", \"id\": \"claimantprogramcode\", \"label\": \"claimantprogramcode\"}, {\"type\": \"string\", \"id\": \"principalnaicscode\", \"label\": \"principalnaicscode\"}, {\"type\": \"string\", \"id\": \"informationtechnologycommercialitemcategory\", \"label\": \"informationtechnologycommercialitemcategory\"}, {\"type\": \"string\", \"id\": \"gfe_gfp\", \"label\": \"gfe_gfp\"}, {\"type\": \"string\", \"id\": \"useofepadesignatedproducts\", \"label\": \"useofepadesignatedproducts\"}, {\"type\": \"string\", \"id\": \"recoveredmaterialclauses\", \"label\": \"recoveredmaterialclauses\"}, {\"type\": \"string\", \"id\": \"seatransportation\", \"label\": \"seatransportation\"}, {\"type\": \"string\", \"id\": \"contractbundling\", \"label\": \"contractbundling\"}, {\"type\": \"string\", \"id\": \"consolidatedcontract\", \"label\": \"consolidatedcontract\"}, {\"type\": \"string\", \"id\": \"countryoforigin\", \"label\": \"countryoforigin\"}, {\"type\": \"string\", \"id\": \"placeofmanufacture\", \"label\": \"placeofmanufacture\"}, {\"type\": \"string\", \"id\": \"manufacturingorganizationtype\", \"label\": \"manufacturingorganizationtype\"}, {\"type\": \"string\", \"id\": \"agencyid\", \"label\": \"agencyid\"}, {\"type\": \"string\", \"id\": \"piid\", \"label\": \"piid\"}, {\"type\": \"string\", \"id\": \"modnumber\", \"label\": \"modnumber\"}, {\"type\": \"string\", \"id\": \"transactionnumber\", \"label\": \"transactionnumber\"}, {\"type\": \"number\", \"id\": \"fiscal_year\", \"label\": \"fiscal_year\"}, {\"type\": \"string\", \"id\": \"idvagencyid\", \"label\": \"idvagencyid\"}, {\"type\": \"string\", \"id\": \"idvpiid\", \"label\": \"idvpiid\"}, {\"type\": \"string\", \"id\": \"idvmodificationnumber\", \"label\": \"idvmodificationnumber\"}, {\"type\": \"string\", \"id\": \"solicitationid\", \"label\": \"solicitationid\"}, {\"type\": \"string\", \"id\": \"extentcompeted\", \"label\": \"extentcompeted\"}, {\"type\": \"string\", \"id\": \"reasonnotcompeted\", \"label\": \"reasonnotcompeted\"}, {\"type\": \"number\", \"id\": \"numberofoffersreceived\", \"label\": \"numberofoffersreceived\"}, {\"type\": \"string\", \"id\": \"commercialitemacquisitionprocedures\", \"label\": \"commercialitemacquisitionprocedures\"}, {\"type\": \"string\", \"id\": \"commercialitemtestprogram\", \"label\": \"commercialitemtestprogram\"}, {\"type\": \"string\", \"id\": \"smallbusinesscompetitivenessdemonstrationprogram\", \"label\": \"smallbusinesscompetitivenessdemonstrationprogram\"}, {\"type\": \"string\", \"id\": \"a76action\", \"label\": \"a76action\"}, {\"type\": \"string\", \"id\": \"competitiveprocedures\", \"label\": \"competitiveprocedures\"}, {\"type\": \"string\", \"id\": \"solicitationprocedures\", \"label\": \"solicitationprocedures\"}, {\"type\": \"string\", \"id\": \"typeofsetaside\", \"label\": \"typeofsetaside\"}, {\"type\": \"string\", \"id\": \"localareasetaside\", \"label\": \"localareasetaside\"}, {\"type\": \"string\", \"id\": \"evaluatedpreference\", \"label\": \"evaluatedpreference\"}, {\"type\": \"string\", \"id\": \"fedbizopps\", \"label\": \"fedbizopps\"}, {\"type\": \"string\", \"id\": \"research\", \"label\": \"research\"}, {\"type\": \"string\", \"id\": \"statutoryexceptiontofairopportunity\", \"label\": \"statutoryexceptiontofairopportunity\"}, {\"type\": \"string\", \"id\": \"organizationaltype\", \"label\": \"organizationaltype\"}, {\"type\": \"number\", \"id\": \"numberofemployees\", \"label\": \"numberofemployees\"}, {\"type\": \"number\", \"id\": \"annualrevenue\", \"label\": \"annualrevenue\"}, {\"type\": \"string\", \"id\": \"firm8aflag\", \"label\": \"firm8aflag\"}, {\"type\": \"string\", \"id\": \"hubzoneflag\", \"label\": \"hubzoneflag\"}, {\"type\": \"string\", \"id\": \"sdbflag\", \"label\": \"sdbflag\"}, {\"type\": \"string\", \"id\": \"issbacertifiedsmalldisadvantagedbusiness\", \"label\": \"issbacertifiedsmalldisadvantagedbusiness\"}, {\"type\": \"string\", \"id\": \"shelteredworkshopflag\", \"label\": \"shelteredworkshopflag\"}, {\"type\": \"string\", \"id\": \"hbcuflag\", \"label\": \"hbcuflag\"}, {\"type\": \"string\", \"id\": \"educationalinstitutionflag\", \"label\": \"educationalinstitutionflag\"}, {\"type\": \"string\", \"id\": \"womenownedflag\", \"label\": \"womenownedflag\"}, {\"type\": \"string\", \"id\": \"veteranownedflag\", \"label\": \"veteranownedflag\"}, {\"type\": \"string\", \"id\": \"srdvobflag\", \"label\": \"srdvobflag\"}, {\"type\": \"string\", \"id\": \"localgovernmentflag\", \"label\": \"localgovernmentflag\"}, {\"type\": \"string\", \"id\": \"minorityinstitutionflag\", \"label\": \"minorityinstitutionflag\"}, {\"type\": \"string\", \"id\": \"aiobflag\", \"label\": \"aiobflag\"}, {\"type\": \"string\", \"id\": \"stategovernmentflag\", \"label\": \"stategovernmentflag\"}, {\"type\": \"string\", \"id\": \"federalgovernmentflag\", \"label\": \"federalgovernmentflag\"}, {\"type\": \"string\", \"id\": \"minorityownedbusinessflag\", \"label\": \"minorityownedbusinessflag\"}, {\"type\": \"string\", \"id\": \"apaobflag\", \"label\": \"apaobflag\"}, {\"type\": \"string\", \"id\": \"tribalgovernmentflag\", \"label\": \"tribalgovernmentflag\"}, {\"type\": \"string\", \"id\": \"baobflag\", \"label\": \"baobflag\"}, {\"type\": \"string\", \"id\": \"naobflag\", \"label\": \"naobflag\"}, {\"type\": \"string\", \"id\": \"saaobflag\", \"label\": \"saaobflag\"}, {\"type\": \"string\", \"id\": \"nonprofitorganizationflag\", \"label\": \"nonprofitorganizationflag\"}, {\"type\": \"string\", \"id\": \"isothernotforprofitorganization\", \"label\": \"isothernotforprofitorganization\"}, {\"type\": \"string\", \"id\": \"isforprofitorganization\", \"label\": \"isforprofitorganization\"}, {\"type\": \"string\", \"id\": \"isfoundation\", \"label\": \"isfoundation\"}, {\"type\": \"string\", \"id\": \"haobflag\", \"label\": \"haobflag\"}, {\"type\": \"string\", \"id\": \"ishispanicservicinginstitution\", \"label\": \"ishispanicservicinginstitution\"}, {\"type\": \"string\", \"id\": \"emergingsmallbusinessflag\", \"label\": \"emergingsmallbusinessflag\"}, {\"type\": \"string\", \"id\": \"hospitalflag\", \"label\": \"hospitalflag\"}, {\"type\": \"string\", \"id\": \"contractingofficerbusinesssizedetermination\", \"label\": \"contractingofficerbusinesssizedetermination\"}, {\"type\": \"string\", \"id\": \"is1862landgrantcollege\", \"label\": \"is1862landgrantcollege\"}, {\"type\": \"string\", \"id\": \"is1890landgrantcollege\", \"label\": \"is1890landgrantcollege\"}, {\"type\": \"string\", \"id\": \"is1994landgrantcollege\", \"label\": \"is1994landgrantcollege\"}, {\"type\": \"string\", \"id\": \"isveterinarycollege\", \"label\": \"isveterinarycollege\"}, {\"type\": \"string\", \"id\": \"isveterinaryhospital\", \"label\": \"isveterinaryhospital\"}, {\"type\": \"string\", \"id\": \"isprivateuniversityorcollege\", \"label\": \"isprivateuniversityorcollege\"}, {\"type\": \"string\", \"id\": \"isschoolofforestry\", \"label\": \"isschoolofforestry\"}, {\"type\": \"string\", \"id\": \"isstatecontrolledinstitutionofhigherlearning\", \"label\": \"isstatecontrolledinstitutionofhigherlearning\"}, {\"type\": \"string\", \"id\": \"isserviceprovider\", \"label\": \"isserviceprovider\"}, {\"type\": \"string\", \"id\": \"receivescontracts\", \"label\": \"receivescontracts\"}, {\"type\": \"string\", \"id\": \"receivesgrants\", \"label\": \"receivesgrants\"}, {\"type\": \"string\", \"id\": \"receivescontractsandgrants\", \"label\": \"receivescontractsandgrants\"}, {\"type\": \"string\", \"id\": \"isairportauthority\", \"label\": \"isairportauthority\"}, {\"type\": \"string\", \"id\": \"iscouncilofgovernments\", \"label\": \"iscouncilofgovernments\"}, {\"type\": \"string\", \"id\": \"ishousingauthoritiespublicortribal\", \"label\": \"ishousingauthoritiespublicortribal\"}, {\"type\": \"string\", \"id\": \"isinterstateentity\", \"label\": \"isinterstateentity\"}, {\"type\": \"string\", \"id\": \"isplanningcommission\", \"label\": \"isplanningcommission\"}, {\"type\": \"string\", \"id\": \"isportauthority\", \"label\": \"isportauthority\"}, {\"type\": \"string\", \"id\": \"istransitauthority\", \"label\": \"istransitauthority\"}, {\"type\": \"string\", \"id\": \"issubchapterscorporation\", \"label\": \"issubchapterscorporation\"}, {\"type\": \"string\", \"id\": \"islimitedliabilitycorporation\", \"label\": \"islimitedliabilitycorporation\"}, {\"type\": \"string\", \"id\": \"isforeignownedandlocated\", \"label\": \"isforeignownedandlocated\"}, {\"type\": \"string\", \"id\": \"isarchitectureandengineering\", \"label\": \"isarchitectureandengineering\"}, {\"type\": \"string\", \"id\": \"isdotcertifieddisadvantagedbusinessenterprise\", \"label\": \"isdotcertifieddisadvantagedbusinessenterprise\"}, {\"type\": \"string\", \"id\": \"iscitylocalgovernment\", \"label\": \"iscitylocalgovernment\"}, {\"type\": \"string\", \"id\": \"iscommunitydevelopedcorporationownedfirm\", \"label\": \"iscommunitydevelopedcorporationownedfirm\"}, {\"type\": \"string\", \"id\": \"iscommunitydevelopmentcorporation\", \"label\": \"iscommunitydevelopmentcorporation\"}, {\"type\": \"string\", \"id\": \"isconstructionfirm\", \"label\": \"isconstructionfirm\"}, {\"type\": \"string\", \"id\": \"ismanufacturerofgoods\", \"label\": \"ismanufacturerofgoods\"}, {\"type\": \"string\", \"id\": \"iscorporateentitynottaxexempt\", \"label\": \"iscorporateentitynottaxexempt\"}, {\"type\": \"string\", \"id\": \"iscountylocalgovernment\", \"label\": \"iscountylocalgovernment\"}, {\"type\": \"string\", \"id\": \"isdomesticshelter\", \"label\": \"isdomesticshelter\"}, {\"type\": \"string\", \"id\": \"isfederalgovernmentagency\", \"label\": \"isfederalgovernmentagency\"}, {\"type\": \"string\", \"id\": \"isfederallyfundedresearchanddevelopmentcorp\", \"label\": \"isfederallyfundedresearchanddevelopmentcorp\"}, {\"type\": \"string\", \"id\": \"isforeigngovernment\", \"label\": \"isforeigngovernment\"}, {\"type\": \"string\", \"id\": \"isindiantribe\", \"label\": \"isindiantribe\"}, {\"type\": \"string\", \"id\": \"isintermunicipallocalgovernment\", \"label\": \"isintermunicipallocalgovernment\"}, {\"type\": \"string\", \"id\": \"isinternationalorganization\", \"label\": \"isinternationalorganization\"}, {\"type\": \"string\", \"id\": \"islaborsurplusareafirm\", \"label\": \"islaborsurplusareafirm\"}, {\"type\": \"string\", \"id\": \"islocalgovernmentowned\", \"label\": \"islocalgovernmentowned\"}, {\"type\": \"string\", \"id\": \"ismunicipalitylocalgovernment\", \"label\": \"ismunicipalitylocalgovernment\"}, {\"type\": \"string\", \"id\": \"isnativehawaiianownedorganizationorfirm\", \"label\": \"isnativehawaiianownedorganizationorfirm\"}, {\"type\": \"string\", \"id\": \"isotherbusinessororganization\", \"label\": \"isotherbusinessororganization\"}, {\"type\": \"string\", \"id\": \"isotherminorityowned\", \"label\": \"isotherminorityowned\"}, {\"type\": \"string\", \"id\": \"ispartnershiporlimitedliabilitypartnership\", \"label\": \"ispartnershiporlimitedliabilitypartnership\"}, {\"type\": \"string\", \"id\": \"isschooldistrictlocalgovernment\", \"label\": \"isschooldistrictlocalgovernment\"}, {\"type\": \"string\", \"id\": \"issmallagriculturalcooperative\", \"label\": \"issmallagriculturalcooperative\"}, {\"type\": \"string\", \"id\": \"issoleproprietorship\", \"label\": \"issoleproprietorship\"}, {\"type\": \"string\", \"id\": \"istownshiplocalgovernment\", \"label\": \"istownshiplocalgovernment\"}, {\"type\": \"string\", \"id\": \"istriballyownedfirm\", \"label\": \"istriballyownedfirm\"}, {\"type\": \"string\", \"id\": \"istribalcollege\", \"label\": \"istribalcollege\"}, {\"type\": \"string\", \"id\": \"isalaskannativeownedcorporationorfirm\", \"label\": \"isalaskannativeownedcorporationorfirm\"}, {\"type\": \"string\", \"id\": \"iscorporateentitytaxexempt\", \"label\": \"iscorporateentitytaxexempt\"}, {\"type\": \"string\", \"id\": \"iswomenownedsmallbusiness\", \"label\": \"iswomenownedsmallbusiness\"}, {\"type\": \"string\", \"id\": \"isecondisadvwomenownedsmallbusiness\", \"label\": \"isecondisadvwomenownedsmallbusiness\"}, {\"type\": \"string\", \"id\": \"isjointventurewomenownedsmallbusiness\", \"label\": \"isjointventurewomenownedsmallbusiness\"}, {\"type\": \"string\", \"id\": \"isjointventureecondisadvwomenownedsmallbusiness\", \"label\": \"isjointventureecondisadvwomenownedsmallbusiness\"}, {\"type\": \"string\", \"id\": \"walshhealyact\", \"label\": \"walshhealyact\"}, {\"type\": \"string\", \"id\": \"servicecontractact\", \"label\": \"servicecontractact\"}, {\"type\": \"string\", \"id\": \"davisbaconact\", \"label\": \"davisbaconact\"}, {\"type\": \"string\", \"id\": \"clingercohenact\", \"label\": \"clingercohenact\"}, {\"type\": \"string\", \"id\": \"otherstatutoryauthority\", \"label\": \"otherstatutoryauthority\"}, {\"type\": \"string\", \"id\": \"prime_awardee_executive1\", \"label\": \"prime_awardee_executive1\"}, {\"type\": \"number\", \"id\": \"prime_awardee_executive1_compensation\", \"label\": \"prime_awardee_executive1_compensation\"}, {\"type\": \"string\", \"id\": \"prime_awardee_executive2\", \"label\": \"prime_awardee_executive2\"}, {\"type\": \"number\", \"id\": \"prime_awardee_executive2_compensation\", \"label\": \"prime_awardee_executive2_compensation\"}, {\"type\": \"string\", \"id\": \"prime_awardee_executive3\", \"label\": \"prime_awardee_executive3\"}, {\"type\": \"number\", \"id\": \"prime_awardee_executive3_compensation\", \"label\": \"prime_awardee_executive3_compensation\"}, {\"type\": \"string\", \"id\": \"prime_awardee_executive4\", \"label\": \"prime_awardee_executive4\"}, {\"type\": \"number\", \"id\": \"prime_awardee_executive4_compensation\", \"label\": \"prime_awardee_executive4_compensation\"}, {\"type\": \"string\", \"id\": \"prime_awardee_executive5\", \"label\": \"prime_awardee_executive5\"}, {\"type\": \"number\", \"id\": \"prime_awardee_executive5_compensation\", \"label\": \"prime_awardee_executive5_compensation\"}, {\"type\": \"string\", \"id\": \"interagencycontractingauthority\", \"label\": \"interagencycontractingauthority\"}, {\"type\": \"string\", \"id\": \"last_modified_date\", \"label\": \"last_modified_date\"}]},\n",
       "            {\n",
       "              pageSize: 25,\n",
       "              cssClassNames:  {\n",
       "                tableRow: 'gchart-table-row',\n",
       "                headerRow: 'gchart-table-headerrow',\n",
       "                oddTableRow: 'gchart-table-oddrow',\n",
       "                selectedTableRow: 'gchart-table-selectedrow',\n",
       "                hoverTableRow: 'gchart-table-hoverrow',\n",
       "                tableCell: 'gchart-table-cell',\n",
       "                headerCell: 'gchart-table-headercell',\n",
       "                rowNumberCell: 'gchart-table-rownumcell'\n",
       "              }\n",
       "            },\n",
       "            {source_index: 54, fields: 'unique_transaction_id,transaction_status,dollarsobligated,baseandexercisedoptionsvalue,baseandalloptionsvalue,maj_agency_cat,mod_agency,maj_fund_agency_cat,contractingofficeagencyid,contractingofficeid,fundingrequestingagencyid,fundingrequestingofficeid,fundedbyforeignentity,signeddate,effectivedate,currentcompletiondate,ultimatecompletiondate,lastdatetoorder,contractactiontype,reasonformodification,typeofcontractpricing,priceevaluationpercentdifference,subcontractplan,lettercontract,multiyearcontract,performancebasedservicecontract,majorprogramcode,contingencyhumanitarianpeacekeepingoperation,contractfinancing,costorpricingdata,costaccountingstandardsclause,descriptionofcontractrequirement,purchasecardaspaymentmethod,numberofactions,nationalinterestactioncode,progsourceagency,progsourceaccount,progsourcesubacct,account_title,rec_flag,typeofidc,multipleorsingleawardidc,programacronym,vendorname,vendoralternatename,vendorlegalorganizationname,vendordoingasbusinessname,divisionname,divisionnumberorofficecode,vendorenabled,vendorlocationdisableflag,ccrexception,streetaddress,streetaddress2,streetaddress3,city,state,zipcode,vendorcountrycode,vendor_state_code,vendor_cd,congressionaldistrict,vendorsitecode,vendoralternatesitecode,dunsnumber,parentdunsnumber,phoneno,faxno,registrationdate,renewaldate,mod_parent,locationcode,statecode,PlaceofPerformanceCity,pop_state_code,placeofperformancecountrycode,placeofperformancezipcode,pop_cd,placeofperformancecongressionaldistrict,psc_cat,productorservicecode,systemequipmentcode,claimantprogramcode,principalnaicscode,informationtechnologycommercialitemcategory,gfe_gfp,useofepadesignatedproducts,recoveredmaterialclauses,seatransportation,contractbundling,consolidatedcontract,countryoforigin,placeofmanufacture,manufacturingorganizationtype,agencyid,piid,modnumber,transactionnumber,fiscal_year,idvagencyid,idvpiid,idvmodificationnumber,solicitationid,extentcompeted,reasonnotcompeted,numberofoffersreceived,commercialitemacquisitionprocedures,commercialitemtestprogram,smallbusinesscompetitivenessdemonstrationprogram,a76action,competitiveprocedures,solicitationprocedures,typeofsetaside,localareasetaside,evaluatedpreference,fedbizopps,research,statutoryexceptiontofairopportunity,organizationaltype,numberofemployees,annualrevenue,firm8aflag,hubzoneflag,sdbflag,issbacertifiedsmalldisadvantagedbusiness,shelteredworkshopflag,hbcuflag,educationalinstitutionflag,womenownedflag,veteranownedflag,srdvobflag,localgovernmentflag,minorityinstitutionflag,aiobflag,stategovernmentflag,federalgovernmentflag,minorityownedbusinessflag,apaobflag,tribalgovernmentflag,baobflag,naobflag,saaobflag,nonprofitorganizationflag,isothernotforprofitorganization,isforprofitorganization,isfoundation,haobflag,ishispanicservicinginstitution,emergingsmallbusinessflag,hospitalflag,contractingofficerbusinesssizedetermination,is1862landgrantcollege,is1890landgrantcollege,is1994landgrantcollege,isveterinarycollege,isveterinaryhospital,isprivateuniversityorcollege,isschoolofforestry,isstatecontrolledinstitutionofhigherlearning,isserviceprovider,receivescontracts,receivesgrants,receivescontractsandgrants,isairportauthority,iscouncilofgovernments,ishousingauthoritiespublicortribal,isinterstateentity,isplanningcommission,isportauthority,istransitauthority,issubchapterscorporation,islimitedliabilitycorporation,isforeignownedandlocated,isarchitectureandengineering,isdotcertifieddisadvantagedbusinessenterprise,iscitylocalgovernment,iscommunitydevelopedcorporationownedfirm,iscommunitydevelopmentcorporation,isconstructionfirm,ismanufacturerofgoods,iscorporateentitynottaxexempt,iscountylocalgovernment,isdomesticshelter,isfederalgovernmentagency,isfederallyfundedresearchanddevelopmentcorp,isforeigngovernment,isindiantribe,isintermunicipallocalgovernment,isinternationalorganization,islaborsurplusareafirm,islocalgovernmentowned,ismunicipalitylocalgovernment,isnativehawaiianownedorganizationorfirm,isotherbusinessororganization,isotherminorityowned,ispartnershiporlimitedliabilitypartnership,isschooldistrictlocalgovernment,issmallagriculturalcooperative,issoleproprietorship,istownshiplocalgovernment,istriballyownedfirm,istribalcollege,isalaskannativeownedcorporationorfirm,iscorporateentitytaxexempt,iswomenownedsmallbusiness,isecondisadvwomenownedsmallbusiness,isjointventurewomenownedsmallbusiness,isjointventureecondisadvwomenownedsmallbusiness,walshhealyact,servicecontractact,davisbaconact,clingercohenact,otherstatutoryauthority,prime_awardee_executive1,prime_awardee_executive1_compensation,prime_awardee_executive2,prime_awardee_executive2_compensation,prime_awardee_executive3,prime_awardee_executive3_compensation,prime_awardee_executive4,prime_awardee_executive4_compensation,prime_awardee_executive5,prime_awardee_executive5_compensation,interagencycontractingauthority,last_modified_date'},\n",
       "            0,\n",
       "            1);\n",
       "        }\n",
       "      );\n",
       "    </script>\n",
       "  "
      ],
      "text/plain": [
       "QueryResultsTable job_huiMES8smOVDiBF3FFl2ocZ8ZP0"
      ]
     },
     "execution_count": 190,
     "metadata": {},
     "output_type": "execute_result"
    }
   ],
   "source": [
    "%%bq query\n",
    "select\n",
    "*\n",
    "from `gpqueries.contracts.raw`\n",
    "where productorservicecode in ('1510: AIRCRAFT, FIXED WING')\n",
    "and contractingofficerbusinesssizedetermination in ('S: SMALL BUSINESS')\n",
    "limit 1"
   ]
  },
  {
   "cell_type": "code",
   "execution_count": 192,
   "metadata": {
    "collapsed": false
   },
   "outputs": [
    {
     "data": {
      "text/html": [
       "\n",
       "    <div class=\"bqtv\" id=\"60_149782460523\"><table><tr><th>claimantprogramcode</th><th>principalnaicscode</th><th>dollarsobligated</th></tr><tr><td>C2: CONSTRUCTION</td><td>236220: COMMERCIAL AND INSTITUTIONAL BUILDING CONSTRUCTION</td><td>60517159683.0</td></tr><tr><td>:</td><td>541519: OTHER COMPUTER RELATED SERVICES</td><td>43154796303.6</td></tr><tr><td>S1: SERVICES</td><td>541330: ENGINEERING SERVICES</td><td>42175755222.2</td></tr><tr><td>:</td><td>236220: COMMERCIAL AND INSTITUTIONAL BUILDING CONSTRUCTION</td><td>30678710231.7</td></tr><tr><td>:</td><td>541611: ADMINISTRATIVE MANAGEMENT AND GENERAL MANAGEMENT CONSULTING SERVICES</td><td>23056924557.6</td></tr><tr><td>:</td><td>541512: COMPUTER SYSTEMS DESIGN SERVICES</td><td>22947408257.1</td></tr><tr><td>S1: SERVICES</td><td>561210: FACILITIES SUPPORT SERVICES</td><td>22211927537.0</td></tr><tr><td>:</td><td>541511: CUSTOM COMPUTER PROGRAMMING SERVICES</td><td>18359888788.9</td></tr><tr><td>C2: CONSTRUCTION</td><td>237990: OTHER HEAVY AND CIVIL ENGINEERING CONSTRUCTION</td><td>17919016056.3</td></tr><tr><td>:</td><td>:</td><td>17482052113.2</td></tr></table></div>\n",
       "    <br />(rows: 10, time: 2.1s,     4GB processed, job: job_dhTZ66ya-_TF7evOlYSjqSjIios)<br />\n",
       "    <script>\n",
       "\n",
       "      require.config({\n",
       "        paths: {\n",
       "          d3: '//cdnjs.cloudflare.com/ajax/libs/d3/3.4.13/d3',\n",
       "          plotly: 'https://cdn.plot.ly/plotly-1.5.1.min.js?noext',\n",
       "          jquery: '//ajax.googleapis.com/ajax/libs/jquery/2.0.0/jquery.min'\n",
       "        },\n",
       "        map: {\n",
       "          '*': {\n",
       "            datalab: 'nbextensions/gcpdatalab'\n",
       "          }\n",
       "        },\n",
       "        shim: {\n",
       "          plotly: {\n",
       "            deps: ['d3', 'jquery'],\n",
       "            exports: 'plotly'\n",
       "          }\n",
       "        }\n",
       "      });\n",
       "\n",
       "      require(['datalab/charting', 'datalab/element!60_149782460523', 'base/js/events',\n",
       "          'datalab/style!/nbextensions/gcpdatalab/charting.css'],\n",
       "        function(charts, dom, events) {\n",
       "          charts.render('gcharts', dom, events, 'table', [], {\"rows\": [{\"c\": [{\"v\": \"C2: CONSTRUCTION\"}, {\"v\": \"236220: COMMERCIAL AND INSTITUTIONAL BUILDING CONSTRUCTION\"}, {\"v\": 60517159682.990036}]}, {\"c\": [{\"v\": \":\"}, {\"v\": \"541519: OTHER COMPUTER RELATED SERVICES\"}, {\"v\": 43154796303.55999}]}, {\"c\": [{\"v\": \"S1: SERVICES\"}, {\"v\": \"541330: ENGINEERING SERVICES\"}, {\"v\": 42175755222.23003}]}, {\"c\": [{\"v\": \":\"}, {\"v\": \"236220: COMMERCIAL AND INSTITUTIONAL BUILDING CONSTRUCTION\"}, {\"v\": 30678710231.669983}]}, {\"c\": [{\"v\": \":\"}, {\"v\": \"541611: ADMINISTRATIVE MANAGEMENT AND GENERAL MANAGEMENT CONSULTING SERVICES\"}, {\"v\": 23056924557.57998}]}, {\"c\": [{\"v\": \":\"}, {\"v\": \"541512: COMPUTER SYSTEMS DESIGN SERVICES\"}, {\"v\": 22947408257.119984}]}, {\"c\": [{\"v\": \"S1: SERVICES\"}, {\"v\": \"561210: FACILITIES SUPPORT SERVICES\"}, {\"v\": 22211927536.99999}]}, {\"c\": [{\"v\": \":\"}, {\"v\": \"541511: CUSTOM COMPUTER PROGRAMMING SERVICES\"}, {\"v\": 18359888788.930008}]}, {\"c\": [{\"v\": \"C2: CONSTRUCTION\"}, {\"v\": \"237990: OTHER HEAVY AND CIVIL ENGINEERING CONSTRUCTION\"}, {\"v\": 17919016056.31}]}, {\"c\": [{\"v\": \":\"}, {\"v\": \":\"}, {\"v\": 17482052113.170002}]}], \"cols\": [{\"type\": \"string\", \"id\": \"claimantprogramcode\", \"label\": \"claimantprogramcode\"}, {\"type\": \"string\", \"id\": \"principalnaicscode\", \"label\": \"principalnaicscode\"}, {\"type\": \"number\", \"id\": \"dollarsobligated\", \"label\": \"dollarsobligated\"}]},\n",
       "            {\n",
       "              pageSize: 25,\n",
       "              cssClassNames:  {\n",
       "                tableRow: 'gchart-table-row',\n",
       "                headerRow: 'gchart-table-headerrow',\n",
       "                oddTableRow: 'gchart-table-oddrow',\n",
       "                selectedTableRow: 'gchart-table-selectedrow',\n",
       "                hoverTableRow: 'gchart-table-hoverrow',\n",
       "                tableCell: 'gchart-table-cell',\n",
       "                headerCell: 'gchart-table-headercell',\n",
       "                rowNumberCell: 'gchart-table-rownumcell'\n",
       "              }\n",
       "            },\n",
       "            {source_index: 56, fields: 'claimantprogramcode,principalnaicscode,dollarsobligated'},\n",
       "            0,\n",
       "            10);\n",
       "        }\n",
       "      );\n",
       "    </script>\n",
       "  "
      ],
      "text/plain": [
       "QueryResultsTable job_dhTZ66ya-_TF7evOlYSjqSjIios"
      ]
     },
     "execution_count": 192,
     "metadata": {},
     "output_type": "execute_result"
    }
   ],
   "source": [
    "%%bq query\n",
    "select \n",
    "claimantprogramcode,\n",
    "principalnaicscode,\n",
    "sum(dollarsobligated) as dollarsobligated\n",
    "from `gpqueries.contracts.raw`\n",
    "where contractingofficerbusinesssizedetermination in (\"S: SMALL BUSINESS\")\n",
    "group by 1,2\n",
    "order by dollarsobligated DESC\n",
    "limit 10"
   ]
  },
  {
   "cell_type": "markdown",
   "metadata": {},
   "source": [
    "### Looking at SMBs by year\n"
   ]
  },
  {
   "cell_type": "code",
   "execution_count": 193,
   "metadata": {
    "collapsed": true
   },
   "outputs": [],
   "source": [
    "%%bq query -n df_query\n",
    "select \n",
    "fiscal_year,\n",
    "sum(dollarsobligated) as dollarsobligated\n",
    "from `gpqueries.contracts.raw`\n",
    "where contractingofficerbusinesssizedetermination in (\"S: SMALL BUSINESS\")\n",
    "group by 1\n",
    "order by 1"
   ]
  },
  {
   "cell_type": "code",
   "execution_count": 194,
   "metadata": {
    "collapsed": false
   },
   "outputs": [
    {
     "data": {
      "image/png": "[encoded data removed]",
      "text/plain": [
       "<matplotlib.figure.Figure at 0x7f951db12790>"
      ]
     },
     "metadata": {},
     "output_type": "display_data"
    }
   ],
   "source": [
    "df = df_query.execute(output_options=bq.QueryOutput.dataframe()).result()\n",
    "plt = df.set_index('fiscal_year')['dollarsobligated'].plot(kind='bar', title='transactions amount for SMBs')"
   ]
  },
  {
   "cell_type": "code",
   "execution_count": 195,
   "metadata": {
    "collapsed": false
   },
   "outputs": [],
   "source": [
    "%%bq query -n df_query\n",
    "#%%sql\n",
    "select \n",
    "smb.fiscal_year,\n",
    "sum(smb.transaction) as smb,\n",
    "sum(total.transaction) as total,\n",
    "sum(smb.transaction)/sum(total.transaction) as percentage\n",
    "from\n",
    "(select \n",
    "  fiscal_year,\n",
    "  sum(dollarsobligated) as transaction\n",
    "  from `gpqueries.contracts.raw`\n",
    "  where contractingofficerbusinesssizedetermination in (\"S: SMALL BUSINESS\")\n",
    "  group by 1) as smb\n",
    "join \n",
    "(select\n",
    "  fiscal_year,\n",
    "  sum(dollarsobligated) as transaction\n",
    "  from `gpqueries.contracts.raw`\n",
    "  group by 1) as total\n",
    "on smb.fiscal_year = total.fiscal_year\n",
    "group by 1\n",
    "order by 1"
   ]
  },
  {
   "cell_type": "code",
   "execution_count": 196,
   "metadata": {
    "collapsed": false
   },
   "outputs": [
    {
     "data": {
      "image/png": "[encoded data removed]",
      "text/plain": [
       "<matplotlib.figure.Figure at 0x7f95208e7ed0>"
      ]
     },
     "metadata": {},
     "output_type": "display_data"
    }
   ],
   "source": [
    "df = df_query.execute(output_options=bq.QueryOutput.dataframe()).result()\n",
    "plt = df.set_index('fiscal_year')['percentage'].plot(kind='bar', title='dollars % for SMBs')"
   ]
  },
  {
   "cell_type": "markdown",
   "metadata": {},
   "source": [
    "### SMB contract by gov. agency & by naics code"
   ]
  },
  {
   "cell_type": "code",
   "execution_count": 235,
   "metadata": {
    "collapsed": false
   },
   "outputs": [
    {
     "data": {
      "text/html": [
       "\n",
       "    <div class=\"bqtv\" id=\"87_149782913929\"><table><tr><th>principalnaicscode</th><th>count</th><th>dollarsobligated_smb</th><th>dollarsobligated_total</th><th>smb_percentage</th></tr><tr><td>111334: BERRY (EXCEPT STRAWBERRY) FARMING</td><td>49</td><td>83928.0</td><td>7277.13</td><td>11.5331181386</td></tr><tr><td>331411: PRIMARY SMELTING AND REFINING OF COPPER</td><td>298</td><td>30042581.88</td><td>23504524.94</td><td>1.27816162874</td></tr><tr><td>311314: CANE SUGAR MANUFACTURING</td><td>26</td><td>278088.67</td><td>278088.67</td><td>1.0</td></tr><tr><td>5419: OTHER PROFESSIONAL, SCIENTIFIC, AND TECHNICAL SERVICES</td><td>2</td><td>28000.0</td><td>28000.0</td><td>1.0</td></tr><tr><td>53139: OTHER ACTIVITIES RELATED TO REAL ESTATE</td><td>8</td><td>422000.0</td><td>422000.0</td><td>1.0</td></tr><tr><td>2389: OTHER SPECIALTY TRADE CONTRACTORS</td><td>1</td><td>3200.0</td><td>3200.0</td><td>1.0</td></tr><tr><td>31499: ALL OTHER TEXTILE PRODUCT MILLS</td><td>1</td><td>31000.0</td><td>31000.0</td><td>1.0</td></tr><tr><td>51821: DATA PROCESSING, HOSTING, AND RELATED SERVICES</td><td>2</td><td>3696.0</td><td>3696.0</td><td>1.0</td></tr><tr><td>23541: MASONRY AND STONE CONTRACTORS</td><td>15</td><td>879000.0</td><td>879000.0</td><td>1.0</td></tr><tr><td>54143: GRAPHIC DESIGN SERVICES</td><td>25</td><td>153811.02</td><td>153811.02</td><td>1.0</td></tr></table></div>\n",
       "    <br />(rows: 10, time: 0.5s, cached, job: job_wXP5flUblh4jJf5kcPxLzj09lsE)<br />\n",
       "    <script>\n",
       "\n",
       "      require.config({\n",
       "        paths: {\n",
       "          d3: '//cdnjs.cloudflare.com/ajax/libs/d3/3.4.13/d3',\n",
       "          plotly: 'https://cdn.plot.ly/plotly-1.5.1.min.js?noext',\n",
       "          jquery: '//ajax.googleapis.com/ajax/libs/jquery/2.0.0/jquery.min'\n",
       "        },\n",
       "        map: {\n",
       "          '*': {\n",
       "            datalab: 'nbextensions/gcpdatalab'\n",
       "          }\n",
       "        },\n",
       "        shim: {\n",
       "          plotly: {\n",
       "            deps: ['d3', 'jquery'],\n",
       "            exports: 'plotly'\n",
       "          }\n",
       "        }\n",
       "      });\n",
       "\n",
       "      require(['datalab/charting', 'datalab/element!87_149782913929', 'base/js/events',\n",
       "          'datalab/style!/nbextensions/gcpdatalab/charting.css'],\n",
       "        function(charts, dom, events) {\n",
       "          charts.render('gcharts', dom, events, 'table', [], {\"rows\": [{\"c\": [{\"v\": \"111334: BERRY (EXCEPT STRAWBERRY) FARMING\"}, {\"v\": 49}, {\"v\": 83928.0}, {\"v\": 7277.129999999997}, {\"v\": 11.533118138606845}]}, {\"c\": [{\"v\": \"331411: PRIMARY SMELTING AND REFINING OF COPPER\"}, {\"v\": 298}, {\"v\": 30042581.880000006}, {\"v\": 23504524.940000005}, {\"v\": 1.278161628737007}]}, {\"c\": [{\"v\": \"311314: CANE SUGAR MANUFACTURING\"}, {\"v\": 26}, {\"v\": 278088.67000000004}, {\"v\": 278088.67}, {\"v\": 1.0000000000000002}]}, {\"c\": [{\"v\": \"5419: OTHER PROFESSIONAL, SCIENTIFIC, AND TECHNICAL SERVICES\"}, {\"v\": 2}, {\"v\": 28000.0}, {\"v\": 28000.0}, {\"v\": 1.0}]}, {\"c\": [{\"v\": \"53139: OTHER ACTIVITIES RELATED TO REAL ESTATE\"}, {\"v\": 8}, {\"v\": 422000.0}, {\"v\": 422000.0}, {\"v\": 1.0}]}, {\"c\": [{\"v\": \"2389: OTHER SPECIALTY TRADE CONTRACTORS\"}, {\"v\": 1}, {\"v\": 3200.0}, {\"v\": 3200.0}, {\"v\": 1.0}]}, {\"c\": [{\"v\": \"31499: ALL OTHER TEXTILE PRODUCT MILLS\"}, {\"v\": 1}, {\"v\": 31000.0}, {\"v\": 31000.0}, {\"v\": 1.0}]}, {\"c\": [{\"v\": \"51821: DATA PROCESSING, HOSTING, AND RELATED SERVICES\"}, {\"v\": 2}, {\"v\": 3696.0}, {\"v\": 3696.0}, {\"v\": 1.0}]}, {\"c\": [{\"v\": \"23541: MASONRY AND STONE CONTRACTORS\"}, {\"v\": 15}, {\"v\": 879000.0}, {\"v\": 879000.0}, {\"v\": 1.0}]}, {\"c\": [{\"v\": \"54143: GRAPHIC DESIGN SERVICES\"}, {\"v\": 25}, {\"v\": 153811.01999999996}, {\"v\": 153811.01999999996}, {\"v\": 1.0}]}], \"cols\": [{\"type\": \"string\", \"id\": \"principalnaicscode\", \"label\": \"principalnaicscode\"}, {\"type\": \"number\", \"id\": \"count\", \"label\": \"count\"}, {\"type\": \"number\", \"id\": \"dollarsobligated_smb\", \"label\": \"dollarsobligated_smb\"}, {\"type\": \"number\", \"id\": \"dollarsobligated_total\", \"label\": \"dollarsobligated_total\"}, {\"type\": \"number\", \"id\": \"smb_percentage\", \"label\": \"smb_percentage\"}]},\n",
       "            {\n",
       "              pageSize: 25,\n",
       "              cssClassNames:  {\n",
       "                tableRow: 'gchart-table-row',\n",
       "                headerRow: 'gchart-table-headerrow',\n",
       "                oddTableRow: 'gchart-table-oddrow',\n",
       "                selectedTableRow: 'gchart-table-selectedrow',\n",
       "                hoverTableRow: 'gchart-table-hoverrow',\n",
       "                tableCell: 'gchart-table-cell',\n",
       "                headerCell: 'gchart-table-headercell',\n",
       "                rowNumberCell: 'gchart-table-rownumcell'\n",
       "              }\n",
       "            },\n",
       "            {source_index: 69, fields: 'principalnaicscode,count,dollarsobligated_smb,dollarsobligated_total,smb_percentage'},\n",
       "            0,\n",
       "            10);\n",
       "        }\n",
       "      );\n",
       "    </script>\n",
       "  "
      ],
      "text/plain": [
       "QueryResultsTable job_wXP5flUblh4jJf5kcPxLzj09lsE"
      ]
     },
     "execution_count": 235,
     "metadata": {},
     "output_type": "execute_result"
    }
   ],
   "source": [
    "%%bq query\n",
    "select \n",
    "smb.principalnaicscode as principalnaicscode,\n",
    "sum(total.count) as count,\n",
    "sum(smb.dollarsobligated) as dollarsobligated_smb,\n",
    "sum(total.dollarsobligated) as dollarsobligated_total,\n",
    "sum(smb.dollarsobligated)/sum(total.dollarsobligated) as smb_percentage\n",
    "from\n",
    "(select \n",
    "  principalnaicscode,\n",
    "  count(*) as count,\n",
    "  sum(dollarsobligated) as dollarsobligated\n",
    "  from `gpqueries.contracts.raw`\n",
    "  where contractingofficerbusinesssizedetermination in (\"S: SMALL BUSINESS\")\n",
    "  group by 1) as smb\n",
    "join \n",
    "(select\n",
    "  principalnaicscode,\n",
    "  count(*) as count,\n",
    "  sum(dollarsobligated) as dollarsobligated\n",
    "  from `gpqueries.contracts.raw`\n",
    "  group by 1\n",
    "  having dollarsobligated > 0\n",
    ") as total\n",
    "on smb.principalnaicscode = total.principalnaicscode\n",
    "group by 1\n",
    "order by 5 DESC\n",
    "limit 10"
   ]
  },
  {
   "cell_type": "markdown",
   "metadata": {},
   "source": [
    "### Simple regression - predict the size of the contract"
   ]
  },
  {
   "cell_type": "code",
   "execution_count": null,
   "metadata": {
    "collapsed": true
   },
   "outputs": [],
   "source": []
  },
  {
   "cell_type": "markdown",
   "metadata": {},
   "source": [
    "# MVP"
   ]
  },
  {
   "cell_type": "markdown",
   "metadata": {},
   "source": [
    "## MVP 1\n",
    "- Search query = 'construction'\n",
    "- Enter your department name - eg. 'agriculture'\n",
    "- Ranking based on 'counts' of number of contracts that occured\n",
    "\n",
    "- **TO-DO check the uppercase and lowercase in the REGEX**\n",
    "- **Do we want to add more parameters, such as Geo, size of the contract? To be discussed**"
   ]
  },
  {
   "cell_type": "code",
   "execution_count": 234,
   "metadata": {
    "collapsed": false
   },
   "outputs": [
    {
     "data": {
      "text/html": [
       "\n",
       "    <div class=\"bqtv\" id=\"86_149782873298\"><table><tr><th>contractingofficerbusinesssizedetermination</th><th>vendorname</th><th>count</th><th>dollarsobligated</th></tr><tr><td>S: SMALL BUSINESS</td><td>VIGIL CONTRACTING INCORPORATED</td><td>530</td><td>15980801.45</td></tr><tr><td>O: OTHER THAN SMALL BUSINESS</td><td>GRUNLEY CONSTRUCTION CO INC</td><td>244</td><td>3007857.0</td></tr><tr><td>O: OTHER THAN SMALL BUSINESS</td><td>THE WHITING-TURNER CONTRACTING</td><td>198</td><td>227129130.22</td></tr><tr><td>S: SMALL BUSINESS</td><td>VIGIL CONTRACTING, INC.</td><td>177</td><td>13957807.61</td></tr><tr><td>S: SMALL BUSINESS</td><td>KESLER CONSTRUCTION INC</td><td>176</td><td>10516771.79</td></tr><tr><td>S: SMALL BUSINESS</td><td>BLAIR CONSTRUCTION INCORPORATED (6075)</td><td>163</td><td>2034607.02</td></tr><tr><td>S: SMALL BUSINESS</td><td>NEILTON LANDSCAPING INC</td><td>159</td><td>8602970.91</td></tr><tr><td>S: SMALL BUSINESS</td><td>KETCHIKAN READY-MIX &amp; QUARRY, INC.</td><td>158</td><td>20803736.86</td></tr><tr><td>S: SMALL BUSINESS</td><td>COOK &amp; SON CONSTRUCTION</td><td>156</td><td>13085195.52</td></tr><tr><td>S: SMALL BUSINESS</td><td>ALPINE EXCAVATION AND CONSTRUCTION COMPA</td><td>154</td><td>3309225.63</td></tr></table></div>\n",
       "    <br />(rows: 10, time: 1.9s,     6GB processed, job: job_lY9z6q3osnlPofnEUEsBtEW8PSw)<br />\n",
       "    <script>\n",
       "\n",
       "      require.config({\n",
       "        paths: {\n",
       "          d3: '//cdnjs.cloudflare.com/ajax/libs/d3/3.4.13/d3',\n",
       "          plotly: 'https://cdn.plot.ly/plotly-1.5.1.min.js?noext',\n",
       "          jquery: '//ajax.googleapis.com/ajax/libs/jquery/2.0.0/jquery.min'\n",
       "        },\n",
       "        map: {\n",
       "          '*': {\n",
       "            datalab: 'nbextensions/gcpdatalab'\n",
       "          }\n",
       "        },\n",
       "        shim: {\n",
       "          plotly: {\n",
       "            deps: ['d3', 'jquery'],\n",
       "            exports: 'plotly'\n",
       "          }\n",
       "        }\n",
       "      });\n",
       "\n",
       "      require(['datalab/charting', 'datalab/element!86_149782873298', 'base/js/events',\n",
       "          'datalab/style!/nbextensions/gcpdatalab/charting.css'],\n",
       "        function(charts, dom, events) {\n",
       "          charts.render('gcharts', dom, events, 'table', [], {\"rows\": [{\"c\": [{\"v\": \"S: SMALL BUSINESS\"}, {\"v\": \"VIGIL CONTRACTING INCORPORATED\"}, {\"v\": 530}, {\"v\": 15980801.450000007}]}, {\"c\": [{\"v\": \"O: OTHER THAN SMALL BUSINESS\"}, {\"v\": \"GRUNLEY CONSTRUCTION CO INC\"}, {\"v\": 244}, {\"v\": 3007857.0}]}, {\"c\": [{\"v\": \"O: OTHER THAN SMALL BUSINESS\"}, {\"v\": \"THE WHITING-TURNER CONTRACTING\"}, {\"v\": 198}, {\"v\": 227129130.22}]}, {\"c\": [{\"v\": \"S: SMALL BUSINESS\"}, {\"v\": \"VIGIL CONTRACTING, INC.\"}, {\"v\": 177}, {\"v\": 13957807.61}]}, {\"c\": [{\"v\": \"S: SMALL BUSINESS\"}, {\"v\": \"KESLER CONSTRUCTION INC\"}, {\"v\": 176}, {\"v\": 10516771.790000003}]}, {\"c\": [{\"v\": \"S: SMALL BUSINESS\"}, {\"v\": \"BLAIR CONSTRUCTION INCORPORATED (6075)\"}, {\"v\": 163}, {\"v\": 2034607.0200000003}]}, {\"c\": [{\"v\": \"S: SMALL BUSINESS\"}, {\"v\": \"NEILTON LANDSCAPING INC\"}, {\"v\": 159}, {\"v\": 8602970.91}]}, {\"c\": [{\"v\": \"S: SMALL BUSINESS\"}, {\"v\": \"KETCHIKAN READY-MIX & QUARRY, INC.\"}, {\"v\": 158}, {\"v\": 20803736.86}]}, {\"c\": [{\"v\": \"S: SMALL BUSINESS\"}, {\"v\": \"COOK & SON CONSTRUCTION\"}, {\"v\": 156}, {\"v\": 13085195.520000007}]}, {\"c\": [{\"v\": \"S: SMALL BUSINESS\"}, {\"v\": \"ALPINE EXCAVATION AND CONSTRUCTION COMPA\"}, {\"v\": 154}, {\"v\": 3309225.6299999994}]}], \"cols\": [{\"type\": \"string\", \"id\": \"contractingofficerbusinesssizedetermination\", \"label\": \"contractingofficerbusinesssizedetermination\"}, {\"type\": \"string\", \"id\": \"vendorname\", \"label\": \"vendorname\"}, {\"type\": \"number\", \"id\": \"count\", \"label\": \"count\"}, {\"type\": \"number\", \"id\": \"dollarsobligated\", \"label\": \"dollarsobligated\"}]},\n",
       "            {\n",
       "              pageSize: 25,\n",
       "              cssClassNames:  {\n",
       "                tableRow: 'gchart-table-row',\n",
       "                headerRow: 'gchart-table-headerrow',\n",
       "                oddTableRow: 'gchart-table-oddrow',\n",
       "                selectedTableRow: 'gchart-table-selectedrow',\n",
       "                hoverTableRow: 'gchart-table-hoverrow',\n",
       "                tableCell: 'gchart-table-cell',\n",
       "                headerCell: 'gchart-table-headercell',\n",
       "                rowNumberCell: 'gchart-table-rownumcell'\n",
       "              }\n",
       "            },\n",
       "            {source_index: 80, fields: 'contractingofficerbusinesssizedetermination,vendorname,count,dollarsobligated'},\n",
       "            0,\n",
       "            10);\n",
       "        }\n",
       "      );\n",
       "    </script>\n",
       "  "
      ],
      "text/plain": [
       "QueryResultsTable job_lY9z6q3osnlPofnEUEsBtEW8PSw"
      ]
     },
     "execution_count": 234,
     "metadata": {},
     "output_type": "execute_result"
    }
   ],
   "source": [
    "%%bq query\n",
    "select\n",
    "#principalnaicscode,\n",
    "#maj_agency_cat,\n",
    "contractingofficerbusinesssizedetermination,\n",
    "vendorname,\n",
    "count(*) as count,\n",
    "sum(dollarsobligated) as dollarsobligated\n",
    "from `gpqueries.contracts.raw`\n",
    "#where contractingofficerbusinesssizedetermination in (\"S: SMALL BUSINESS\")\n",
    "where regexp_contains(principalnaicscode, \"CONSTRUCTION\")\n",
    "and regexp_contains(maj_agency_cat, \"AGRICULTURE\")\n",
    "group by 1,2\n",
    "order by count DESC\n",
    "limit 10"
   ]
  },
  {
   "cell_type": "markdown",
   "metadata": {},
   "source": [
    "## MVP 2"
   ]
  },
  {
   "cell_type": "code",
   "execution_count": null,
   "metadata": {
    "collapsed": true
   },
   "outputs": [],
   "source": []
  },
  {
   "cell_type": "markdown",
   "metadata": {},
   "source": [
    "# TODO\n",
    "- **Recommendation system: using collaborative filtering**"
   ]
  },
  {
   "cell_type": "markdown",
   "metadata": {},
   "source": [
    "## OTHERS - FROM TUTORIAL - Anton Tarasenko\n",
    "## Data Mining Government Clients"
   ]
  },
  {
   "cell_type": "markdown",
   "metadata": {},
   "source": [
    "Suppose you want to start selling to the government. While [FBO.gov](http://www.fbo.gov/) publishes government RFPs and you can apply there, government agencies often issue requests when they've already chosen the supplier. Agencies go through FBO.gov because it's a mandatory step for deals north of $25K. But winning at this stage is unlikely if an RFP is already tailored for another supplier.\n",
    "\n",
    "Reaching warm leads in advance would increase chances of winning a government contract. The contracts data helps identify the warm leads by looking at purchases in the previous years.\n",
    "\n",
    "There're several ways of searching through those years."
   ]
  },
  {
   "cell_type": "markdown",
   "metadata": {},
   "source": [
    "### Who Buys What You Make"
   ]
  },
  {
   "cell_type": "markdown",
   "metadata": {},
   "source": [
    "The goods and services bought in each transaction are encoded in the variable `productorservicecode`. Top ten product categories according to this variable:"
   ]
  },
  {
   "cell_type": "code",
   "execution_count": 6,
   "metadata": {
    "collapsed": false
   },
   "outputs": [
    {
     "data": {
      "text/html": [
       "\n",
       "    <div class=\"bqtv\" id=\"1_149722452502\"><table><tr><th>product_id</th><th>product_name</th><th>transactions</th><th>sum_dollarsobligated</th></tr><tr><td>1510</td><td>AIRCRAFT, FIXED WING</td><td>34373</td><td>2.84778910095e+11</td></tr><tr><td>M181</td><td>OPER OF GOVT R&amp;D GOCO FACILITIES</td><td>11705</td><td>2.09034830695e+11</td></tr><tr><td>R425</td><td>ENGINEERING AND TECHNICAL SERVICES</td><td>540128</td><td>2.01977381246e+11</td></tr><tr><td>D399</td><td>OTHER ADP &amp; TELECOMMUNICATIONS SVCS</td><td>544069</td><td>1.79749708292e+11</td></tr><tr><td>R499</td><td>OTHER PROFESSIONAL SERVICES</td><td>821788</td><td>1.63569940538e+11</td></tr><tr><td>9130</td><td>LIQUID PROPELLANTS -PETROLEUM BASE</td><td>193267</td><td>1.47092818248e+11</td></tr><tr><td>Q201</td><td>GENERAL HEALTH CARE SERVICES</td><td>157188</td><td>1.43893967601e+11</td></tr><tr><td>6505</td><td>DRUGS AND BIOLOGICALS</td><td>1857244</td><td>1.40279701467e+11</td></tr><tr><td>R706</td><td>LOGISTICS SUPPORT SERVICES</td><td>147238</td><td>1.17202582504e+11</td></tr><tr><td>R408</td><td>PROGRAM MANAGEMENT/SUPPORT SERVICES</td><td>270904</td><td>89610029462.5</td></tr></table></div>\n",
       "    <br />(rows: 10, time: 2.1s,     2GB processed, job: job_KYbYjkFzkQPN9w-IUjwnrxZ9nbM)<br />\n",
       "    <script>\n",
       "\n",
       "      require.config({\n",
       "        paths: {\n",
       "          d3: '//cdnjs.cloudflare.com/ajax/libs/d3/3.4.13/d3',\n",
       "          plotly: 'https://cdn.plot.ly/plotly-1.5.1.min.js?noext',\n",
       "          jquery: '//ajax.googleapis.com/ajax/libs/jquery/2.0.0/jquery.min'\n",
       "        },\n",
       "        map: {\n",
       "          '*': {\n",
       "            datalab: 'nbextensions/gcpdatalab'\n",
       "          }\n",
       "        },\n",
       "        shim: {\n",
       "          plotly: {\n",
       "            deps: ['d3', 'jquery'],\n",
       "            exports: 'plotly'\n",
       "          }\n",
       "        }\n",
       "      });\n",
       "\n",
       "      require(['datalab/charting', 'datalab/element!1_149722452502', 'base/js/events',\n",
       "          'datalab/style!/nbextensions/gcpdatalab/charting.css'],\n",
       "        function(charts, dom, events) {\n",
       "          charts.render('gcharts', dom, events, 'table', [], {\"rows\": [{\"c\": [{\"v\": \"1510\"}, {\"v\": \"AIRCRAFT, FIXED WING\"}, {\"v\": 34373}, {\"v\": 284778910095.46027}]}, {\"c\": [{\"v\": \"M181\"}, {\"v\": \"OPER OF GOVT R&D GOCO FACILITIES\"}, {\"v\": 11705}, {\"v\": 209034830694.56}]}, {\"c\": [{\"v\": \"R425\"}, {\"v\": \"ENGINEERING AND TECHNICAL SERVICES\"}, {\"v\": 540128}, {\"v\": 201977381245.84998}]}, {\"c\": [{\"v\": \"D399\"}, {\"v\": \"OTHER ADP & TELECOMMUNICATIONS SVCS\"}, {\"v\": 544069}, {\"v\": 179749708292.16986}]}, {\"c\": [{\"v\": \"R499\"}, {\"v\": \"OTHER PROFESSIONAL SERVICES\"}, {\"v\": 821788}, {\"v\": 163569940537.6599}]}, {\"c\": [{\"v\": \"9130\"}, {\"v\": \"LIQUID PROPELLANTS -PETROLEUM BASE\"}, {\"v\": 193267}, {\"v\": 147092818247.84024}]}, {\"c\": [{\"v\": \"Q201\"}, {\"v\": \"GENERAL HEALTH CARE SERVICES\"}, {\"v\": 157188}, {\"v\": 143893967601.05017}]}, {\"c\": [{\"v\": \"6505\"}, {\"v\": \"DRUGS AND BIOLOGICALS\"}, {\"v\": 1857244}, {\"v\": 140279701466.8401}]}, {\"c\": [{\"v\": \"R706\"}, {\"v\": \"LOGISTICS SUPPORT SERVICES\"}, {\"v\": 147238}, {\"v\": 117202582503.71996}]}, {\"c\": [{\"v\": \"R408\"}, {\"v\": \"PROGRAM MANAGEMENT/SUPPORT SERVICES\"}, {\"v\": 270904}, {\"v\": 89610029462.46997}]}], \"cols\": [{\"type\": \"string\", \"id\": \"product_id\", \"label\": \"product_id\"}, {\"type\": \"string\", \"id\": \"product_name\", \"label\": \"product_name\"}, {\"type\": \"number\", \"id\": \"transactions\", \"label\": \"transactions\"}, {\"type\": \"number\", \"id\": \"sum_dollarsobligated\", \"label\": \"sum_dollarsobligated\"}]},\n",
       "            {\n",
       "              pageSize: 25,\n",
       "              cssClassNames:  {\n",
       "                tableRow: 'gchart-table-row',\n",
       "                headerRow: 'gchart-table-headerrow',\n",
       "                oddTableRow: 'gchart-table-oddrow',\n",
       "                selectedTableRow: 'gchart-table-selectedrow',\n",
       "                hoverTableRow: 'gchart-table-hoverrow',\n",
       "                tableCell: 'gchart-table-cell',\n",
       "                headerCell: 'gchart-table-headercell',\n",
       "                rowNumberCell: 'gchart-table-rownumcell'\n",
       "              }\n",
       "            },\n",
       "            {source_index: 0, fields: 'product_id,product_name,transactions,sum_dollarsobligated', legacy: 'true'},\n",
       "            0,\n",
       "            10);\n",
       "        }\n",
       "      );\n",
       "    </script>\n",
       "  "
      ],
      "text/plain": [
       "QueryResultsTable job_KYbYjkFzkQPN9w-IUjwnrxZ9nbM"
      ]
     },
     "execution_count": 6,
     "metadata": {},
     "output_type": "execute_result"
    }
   ],
   "source": [
    "%%sql\n",
    "select\n",
    "  substr(productorservicecode, 1, 4) product_id,\n",
    "  first(substr(productorservicecode, 7)) product_name,\n",
    "  count(*) transactions,\n",
    "  sum(dollarsobligated) sum_dollarsobligated\n",
    "from\n",
    "  gpqueries:contracts.raw\n",
    "group by\n",
    "  product_id\n",
    "order by\n",
    "  sum_dollarsobligated desc\n",
    "limit 10"
   ]
  },
  {
   "cell_type": "markdown",
   "metadata": {},
   "source": [
    "You can find agencies that buy products like yours. If it's \"software\":"
   ]
  },
  {
   "cell_type": "code",
   "execution_count": 7,
   "metadata": {
    "collapsed": false
   },
   "outputs": [
    {
     "data": {
      "text/html": [
       "\n",
       "    <div class=\"bqtv\" id=\"2_149722507334\"><table><tr><th>agency_id</th><th>agency_name</th><th>transactions</th><th>sum_dollarsobligated</th></tr><tr><td>9700</td><td>DEPT OF DEFENSE</td><td>245015</td><td>31756394755.4</td></tr><tr><td>3600</td><td>VETERANS AFFAIRS, DEPARTMENT OF</td><td>21223</td><td>3213678011.54</td></tr><tr><td>2050</td><td>INTERNAL REVENUE SERVICE</td><td>13292</td><td>2625458725.97</td></tr><tr><td>2800</td><td>SOCIAL SECURITY ADMINISTRATION</td><td>7038</td><td>2383445352.45</td></tr><tr><td>4735</td><td>FEDERAL ACQUISITION SERVICE</td><td>15064</td><td>2374494872.16</td></tr><tr><td>7014</td><td>U.S. CUSTOMS AND BORDER PROTECTION</td><td>3456</td><td>1816831446.67</td></tr><tr><td>1900</td><td>STATE, DEPARTMENT OF</td><td>14964</td><td>1395765461.73</td></tr><tr><td>1549</td><td>FEDERAL BUREAU OF INVESTIGATION</td><td>4673</td><td>1104923392.94</td></tr><tr><td>7001</td><td>OFFICE OF PROCUREMENT OPERATIONS</td><td>2604</td><td>1076395157.89</td></tr><tr><td>1501</td><td>OFFICES, BOARDS AND DIVISIONS</td><td>4617</td><td>1057842936.58</td></tr><tr><td>1205</td><td>USDA, OFFICE OF THE CHIEF FINANCIAL OFFICER</td><td>7812</td><td>943296547.34</td></tr><tr><td>7529</td><td>NATIONAL INSTITUTES OF HEALTH</td><td>8434</td><td>829980910.42</td></tr><tr><td>6800</td><td>ENVIRONMENTAL PROTECTION AGENCY</td><td>8291</td><td>790956089.3</td></tr><tr><td>4732</td><td>FEDERAL ACQUISITION SERVICE</td><td>3335</td><td>766033684.66</td></tr><tr><td>7013</td><td>TRANSPORTATION SECURITY ADMINISTRATION</td><td>2182</td><td>740364381.42</td></tr><tr><td>1406</td><td>OFFICE OF POLICY, MANAGEMENT, AND BUDGET</td><td>5080</td><td>724577419.11</td></tr><tr><td>1323</td><td>BUREAU OF THE CENSUS</td><td>3101</td><td>591701336.21</td></tr><tr><td>2036</td><td>BUREAU OF THE FISCAL SERVICE</td><td>7385</td><td>582297546.58</td></tr><tr><td>1330</td><td>NATIONAL OCEANIC AND ATMOSPHERIC ADMINISTRATION</td><td>10758</td><td>578208631.36</td></tr><tr><td>7008</td><td>U.S. COAST GUARD</td><td>4265</td><td>574943946.72</td></tr><tr><td>6920</td><td>FEDERAL AVIATION ADMINISTRATION</td><td>1491</td><td>534520819.72</td></tr><tr><td>7530</td><td>CENTERS FOR MEDICARE AND MEDICAID SERVICES</td><td>926</td><td>519913926.84</td></tr><tr><td>1344</td><td>PATENT AND TRADEMARK OFFICE</td><td>3382</td><td>443011847.34</td></tr><tr><td>7012</td><td>U.S. IMMIGRATION AND CUSTOMS ENFORCEMENT</td><td>2989</td><td>441316095.41</td></tr><tr><td>8000</td><td>NATIONAL AERONAUTICS AND SPACE ADMINISTRATION</td><td>10679</td><td>430834604.06</td></tr></table></div>\n",
       "    <br />(rows: 206, time: 1.6s,     3GB processed, job: job_QM68bqLsL3fjNNEqTxSdcWru7AE)<br />\n",
       "    <script>\n",
       "\n",
       "      require.config({\n",
       "        paths: {\n",
       "          d3: '//cdnjs.cloudflare.com/ajax/libs/d3/3.4.13/d3',\n",
       "          plotly: 'https://cdn.plot.ly/plotly-1.5.1.min.js?noext',\n",
       "          jquery: '//ajax.googleapis.com/ajax/libs/jquery/2.0.0/jquery.min'\n",
       "        },\n",
       "        map: {\n",
       "          '*': {\n",
       "            datalab: 'nbextensions/gcpdatalab'\n",
       "          }\n",
       "        },\n",
       "        shim: {\n",
       "          plotly: {\n",
       "            deps: ['d3', 'jquery'],\n",
       "            exports: 'plotly'\n",
       "          }\n",
       "        }\n",
       "      });\n",
       "\n",
       "      require(['datalab/charting', 'datalab/element!2_149722507334', 'base/js/events',\n",
       "          'datalab/style!/nbextensions/gcpdatalab/charting.css'],\n",
       "        function(charts, dom, events) {\n",
       "          charts.render('gcharts', dom, events, 'paged_table', [], {\"rows\": [{\"c\": [{\"v\": \"9700\"}, {\"v\": \"DEPT OF DEFENSE\"}, {\"v\": 245015}, {\"v\": 31756394755.400005}]}, {\"c\": [{\"v\": \"3600\"}, {\"v\": \"VETERANS AFFAIRS, DEPARTMENT OF\"}, {\"v\": 21223}, {\"v\": 3213678011.5400023}]}, {\"c\": [{\"v\": \"2050\"}, {\"v\": \"INTERNAL REVENUE SERVICE\"}, {\"v\": 13292}, {\"v\": 2625458725.9700003}]}, {\"c\": [{\"v\": \"2800\"}, {\"v\": \"SOCIAL SECURITY ADMINISTRATION\"}, {\"v\": 7038}, {\"v\": 2383445352.4500003}]}, {\"c\": [{\"v\": \"4735\"}, {\"v\": \"FEDERAL ACQUISITION SERVICE\"}, {\"v\": 15064}, {\"v\": 2374494872.1599994}]}, {\"c\": [{\"v\": \"7014\"}, {\"v\": \"U.S. CUSTOMS AND BORDER PROTECTION\"}, {\"v\": 3456}, {\"v\": 1816831446.6700008}]}, {\"c\": [{\"v\": \"1900\"}, {\"v\": \"STATE, DEPARTMENT OF\"}, {\"v\": 14964}, {\"v\": 1395765461.7299998}]}, {\"c\": [{\"v\": \"1549\"}, {\"v\": \"FEDERAL BUREAU OF INVESTIGATION\"}, {\"v\": 4673}, {\"v\": 1104923392.9400003}]}, {\"c\": [{\"v\": \"7001\"}, {\"v\": \"OFFICE OF PROCUREMENT OPERATIONS\"}, {\"v\": 2604}, {\"v\": 1076395157.89}]}, {\"c\": [{\"v\": \"1501\"}, {\"v\": \"OFFICES, BOARDS AND DIVISIONS\"}, {\"v\": 4617}, {\"v\": 1057842936.5799997}]}, {\"c\": [{\"v\": \"1205\"}, {\"v\": \"USDA, OFFICE OF THE CHIEF FINANCIAL OFFICER\"}, {\"v\": 7812}, {\"v\": 943296547.339999}]}, {\"c\": [{\"v\": \"7529\"}, {\"v\": \"NATIONAL INSTITUTES OF HEALTH\"}, {\"v\": 8434}, {\"v\": 829980910.4200003}]}, {\"c\": [{\"v\": \"6800\"}, {\"v\": \"ENVIRONMENTAL PROTECTION AGENCY\"}, {\"v\": 8291}, {\"v\": 790956089.2999994}]}, {\"c\": [{\"v\": \"4732\"}, {\"v\": \"FEDERAL ACQUISITION SERVICE\"}, {\"v\": 3335}, {\"v\": 766033684.6600001}]}, {\"c\": [{\"v\": \"7013\"}, {\"v\": \"TRANSPORTATION SECURITY ADMINISTRATION\"}, {\"v\": 2182}, {\"v\": 740364381.4199994}]}, {\"c\": [{\"v\": \"1406\"}, {\"v\": \"OFFICE OF POLICY, MANAGEMENT, AND BUDGET\"}, {\"v\": 5080}, {\"v\": 724577419.1100007}]}, {\"c\": [{\"v\": \"1323\"}, {\"v\": \"BUREAU OF THE CENSUS\"}, {\"v\": 3101}, {\"v\": 591701336.2099999}]}, {\"c\": [{\"v\": \"2036\"}, {\"v\": \"BUREAU OF THE FISCAL SERVICE\"}, {\"v\": 7385}, {\"v\": 582297546.5799997}]}, {\"c\": [{\"v\": \"1330\"}, {\"v\": \"NATIONAL OCEANIC AND ATMOSPHERIC ADMINISTRATION\"}, {\"v\": 10758}, {\"v\": 578208631.3600001}]}, {\"c\": [{\"v\": \"7008\"}, {\"v\": \"U.S. COAST GUARD\"}, {\"v\": 4265}, {\"v\": 574943946.7199993}]}, {\"c\": [{\"v\": \"6920\"}, {\"v\": \"FEDERAL AVIATION ADMINISTRATION\"}, {\"v\": 1491}, {\"v\": 534520819.7199997}]}, {\"c\": [{\"v\": \"7530\"}, {\"v\": \"CENTERS FOR MEDICARE AND MEDICAID SERVICES\"}, {\"v\": 926}, {\"v\": 519913926.84}]}, {\"c\": [{\"v\": \"1344\"}, {\"v\": \"PATENT AND TRADEMARK OFFICE\"}, {\"v\": 3382}, {\"v\": 443011847.34000003}]}, {\"c\": [{\"v\": \"7012\"}, {\"v\": \"U.S. IMMIGRATION AND CUSTOMS ENFORCEMENT\"}, {\"v\": 2989}, {\"v\": 441316095.40999997}]}, {\"c\": [{\"v\": \"8000\"}, {\"v\": \"NATIONAL AERONAUTICS AND SPACE ADMINISTRATION\"}, {\"v\": 10679}, {\"v\": 430834604.05999964}]}], \"cols\": [{\"type\": \"string\", \"id\": \"agency_id\", \"label\": \"agency_id\"}, {\"type\": \"string\", \"id\": \"agency_name\", \"label\": \"agency_name\"}, {\"type\": \"number\", \"id\": \"transactions\", \"label\": \"transactions\"}, {\"type\": \"number\", \"id\": \"sum_dollarsobligated\", \"label\": \"sum_dollarsobligated\"}]},\n",
       "            {\n",
       "              pageSize: 25,\n",
       "              cssClassNames:  {\n",
       "                tableRow: 'gchart-table-row',\n",
       "                headerRow: 'gchart-table-headerrow',\n",
       "                oddTableRow: 'gchart-table-oddrow',\n",
       "                selectedTableRow: 'gchart-table-selectedrow',\n",
       "                hoverTableRow: 'gchart-table-hoverrow',\n",
       "                tableCell: 'gchart-table-cell',\n",
       "                headerCell: 'gchart-table-headercell',\n",
       "                rowNumberCell: 'gchart-table-rownumcell'\n",
       "              }\n",
       "            },\n",
       "            {source_index: 1, fields: 'agency_id,agency_name,transactions,sum_dollarsobligated', legacy: 'true'},\n",
       "            0,\n",
       "            206);\n",
       "        }\n",
       "      );\n",
       "    </script>\n",
       "  "
      ],
      "text/plain": [
       "QueryResultsTable job_QM68bqLsL3fjNNEqTxSdcWru7AE"
      ]
     },
     "execution_count": 7,
     "metadata": {},
     "output_type": "execute_result"
    }
   ],
   "source": [
    "%%sql\n",
    "select\n",
    "  substr(agencyid, 1, 4) agency_id,\n",
    "  first(substr(agencyid, 7)) agency_name,\n",
    "  count(*) transactions,\n",
    "  sum(dollarsobligated) sum_dollarsobligated\n",
    "from\n",
    "  gpqueries:contracts.raw\n",
    "where\n",
    "  productorservicecode contains 'software'\n",
    "group by\n",
    "  agency_id\n",
    "order by\n",
    "  sum_dollarsobligated desc\n",
    "ignore case"
   ]
  },
  {
   "cell_type": "markdown",
   "metadata": {},
   "source": [
    "### What Firms in Your Industry Sell to the Government"
   ]
  },
  {
   "cell_type": "markdown",
   "metadata": {},
   "source": [
    "Another way to find customers is the variable `principalnaicscode` that encodes the industry in which the vendor does business.\n",
    "\n",
    "The list of NAICS codes is available at [Census.gov](http://www.census.gov/cgi-bin/sssd/naics/naicsrch?chart=2012), but you can do text search in the table. Let's find who bought software from distributors in 2015:"
   ]
  },
  {
   "cell_type": "code",
   "execution_count": 6,
   "metadata": {
    "collapsed": false
   },
   "outputs": [
    {
     "data": {
      "text/html": [
       "\n",
       "    <div class=\"bqtv\" id=\"3_146516669403\"><table><tr><th>agency_id</th><th>agency_name</th><th>naics_id</th><th>naics_name</th><th>transactions</th><th>sum_dollarsobligated</th></tr><tr><td>9700</td><td>DEPT OF DEFENSE</td><td>511210</td><td>SOFTWARE PUBLISHERS</td><td>7907</td><td>1086588808.06</td></tr><tr><td>9700</td><td>DEPT OF DEFENSE</td><td>443120</td><td>COMPUTER AND SOFTWARE STORES</td><td>5313</td><td>451131013.69</td></tr><tr><td>9700</td><td>DEPT OF DEFENSE</td><td>423430</td><td>COMPUTER AND COMPUTER PERIPHERAL EQUIPMENT AND SOFTWARE MERCHANT WHOLESALERS</td><td>2073</td><td>246620960.81</td></tr><tr><td>7014</td><td>U.S. CUSTOMS AND BORDER PROTECTION</td><td>443120</td><td>COMPUTER AND SOFTWARE STORES</td><td>294</td><td>195178029.07</td></tr><tr><td>2800</td><td>SOCIAL SECURITY ADMINISTRATION</td><td>443120</td><td>COMPUTER AND SOFTWARE STORES</td><td>201</td><td>165682384.14</td></tr><tr><td>2050</td><td>INTERNAL REVENUE SERVICE</td><td>443120</td><td>COMPUTER AND SOFTWARE STORES</td><td>272</td><td>105303702.28</td></tr><tr><td>1549</td><td>FEDERAL BUREAU OF INVESTIGATION</td><td>443120</td><td>COMPUTER AND SOFTWARE STORES</td><td>147</td><td>94253371.19</td></tr><tr><td>1900</td><td>STATE, DEPARTMENT OF</td><td>443120</td><td>COMPUTER AND SOFTWARE STORES</td><td>1196</td><td>91138323.46</td></tr><tr><td>2800</td><td>SOCIAL SECURITY ADMINISTRATION</td><td>511210</td><td>SOFTWARE PUBLISHERS</td><td>244</td><td>89509652.8</td></tr><tr><td>3600</td><td>VETERANS AFFAIRS, DEPARTMENT OF</td><td>511210</td><td>SOFTWARE PUBLISHERS</td><td>630</td><td>87867702.88</td></tr><tr><td>7001</td><td>OFFICE OF PROCUREMENT OPERATIONS</td><td>443120</td><td>COMPUTER AND SOFTWARE STORES</td><td>115</td><td>85158432.43</td></tr><tr><td>2050</td><td>INTERNAL REVENUE SERVICE</td><td>511210</td><td>SOFTWARE PUBLISHERS</td><td>321</td><td>82585967.45</td></tr><tr><td>6920</td><td>FEDERAL AVIATION ADMINISTRATION</td><td>423430</td><td>COMPUTER AND COMPUTER PERIPHERAL EQUIPMENT AND SOFTWARE MERCHANT WHOLESALERS</td><td>320</td><td>81678563.94</td></tr><tr><td>1501</td><td>OFFICES, BOARDS AND DIVISIONS</td><td>443120</td><td>COMPUTER AND SOFTWARE STORES</td><td>124</td><td>75303017.16</td></tr><tr><td>7013</td><td>TRANSPORTATION SECURITY ADMINISTRATION</td><td>443120</td><td>COMPUTER AND SOFTWARE STORES</td><td>130</td><td>72338222.09</td></tr><tr><td>1344</td><td>PATENT AND TRADEMARK OFFICE</td><td>443120</td><td>COMPUTER AND SOFTWARE STORES</td><td>179</td><td>60555711.83</td></tr><tr><td>1900</td><td>STATE, DEPARTMENT OF</td><td>423430</td><td>COMPUTER AND COMPUTER PERIPHERAL EQUIPMENT AND SOFTWARE MERCHANT WHOLESALERS</td><td>1449</td><td>59498401.27</td></tr><tr><td>9700</td><td>DEPT OF DEFENSE</td><td>334614</td><td>SOFTWARE AND OTHER PRERECORDED COMPACT DISC, TAPE, AND RECORD REPRODUCING </td><td>847</td><td>54775397.52</td></tr><tr><td>7529</td><td>NATIONAL INSTITUTES OF HEALTH</td><td>443120</td><td>COMPUTER AND SOFTWARE STORES</td><td>212</td><td>54773671.43</td></tr><tr><td>1900</td><td>STATE, DEPARTMENT OF</td><td>511210</td><td>SOFTWARE PUBLISHERS</td><td>357</td><td>39829177.68</td></tr><tr><td>6800</td><td>ENVIRONMENTAL PROTECTION AGENCY</td><td>443120</td><td>COMPUTER AND SOFTWARE STORES</td><td>260</td><td>39649773.39</td></tr><tr><td>7200</td><td>AGENCY FOR INTERNATIONAL DEVELOPMENT</td><td>443120</td><td>COMPUTER AND SOFTWARE STORES</td><td>63</td><td>37272308.46</td></tr><tr><td>1205</td><td>USDA, OFFICE OF THE CHIEF FINANCIAL OFFICER</td><td>443120</td><td>COMPUTER AND SOFTWARE STORES</td><td>263</td><td>35421398.98</td></tr><tr><td>3600</td><td>VETERANS AFFAIRS, DEPARTMENT OF</td><td>443120</td><td>COMPUTER AND SOFTWARE STORES</td><td>471</td><td>34401225.47</td></tr><tr><td>4732</td><td>FEDERAL ACQUISITION SERVICE</td><td>443120</td><td>COMPUTER AND SOFTWARE STORES</td><td>757</td><td>34066865.64</td></tr></table></div>\n",
       "    <br />(rows: 463, time: 1.0s, cached, job: job_tyO5qqBhadXXwwH8p2u9qTutzoA)<br />\n",
       "    <script>\n",
       "      require(['extensions/charting', 'element!3_146516669403', 'style!/static/extensions/charting.css'],\n",
       "        function(charts, dom) {\n",
       "          charts.render(dom,\n",
       "            {\n",
       "              chartStyle:\"paged_table\",\n",
       "              dataName:\"2\",\n",
       "              fields:\"agency_id,agency_name,naics_id,naics_name,transactions,sum_dollarsobligated\",\n",
       "              totalRows:463,\n",
       "              rowsPerPage:25,\n",
       "            }, {}, {\"rows\": [{\"c\": [{\"v\": \"9700\"}, {\"v\": \"DEPT OF DEFENSE\"}, {\"v\": \"511210\"}, {\"v\": \"SOFTWARE PUBLISHERS\"}, {\"v\": 7907}, {\"v\": 1086588808.0600002}]}, {\"c\": [{\"v\": \"9700\"}, {\"v\": \"DEPT OF DEFENSE\"}, {\"v\": \"443120\"}, {\"v\": \"COMPUTER AND SOFTWARE STORES\"}, {\"v\": 5313}, {\"v\": 451131013.68999994}]}, {\"c\": [{\"v\": \"9700\"}, {\"v\": \"DEPT OF DEFENSE\"}, {\"v\": \"423430\"}, {\"v\": \"COMPUTER AND COMPUTER PERIPHERAL EQUIPMENT AND SOFTWARE MERCHANT WHOLESALERS\"}, {\"v\": 2073}, {\"v\": 246620960.81000003}]}, {\"c\": [{\"v\": \"7014\"}, {\"v\": \"U.S. CUSTOMS AND BORDER PROTECTION\"}, {\"v\": \"443120\"}, {\"v\": \"COMPUTER AND SOFTWARE STORES\"}, {\"v\": 294}, {\"v\": 195178029.07000002}]}, {\"c\": [{\"v\": \"2800\"}, {\"v\": \"SOCIAL SECURITY ADMINISTRATION\"}, {\"v\": \"443120\"}, {\"v\": \"COMPUTER AND SOFTWARE STORES\"}, {\"v\": 201}, {\"v\": 165682384.14000002}]}, {\"c\": [{\"v\": \"2050\"}, {\"v\": \"INTERNAL REVENUE SERVICE\"}, {\"v\": \"443120\"}, {\"v\": \"COMPUTER AND SOFTWARE STORES\"}, {\"v\": 272}, {\"v\": 105303702.28}]}, {\"c\": [{\"v\": \"1549\"}, {\"v\": \"FEDERAL BUREAU OF INVESTIGATION\"}, {\"v\": \"443120\"}, {\"v\": \"COMPUTER AND SOFTWARE STORES\"}, {\"v\": 147}, {\"v\": 94253371.19}]}, {\"c\": [{\"v\": \"1900\"}, {\"v\": \"STATE, DEPARTMENT OF\"}, {\"v\": \"443120\"}, {\"v\": \"COMPUTER AND SOFTWARE STORES\"}, {\"v\": 1196}, {\"v\": 91138323.46000002}]}, {\"c\": [{\"v\": \"2800\"}, {\"v\": \"SOCIAL SECURITY ADMINISTRATION\"}, {\"v\": \"511210\"}, {\"v\": \"SOFTWARE PUBLISHERS\"}, {\"v\": 244}, {\"v\": 89509652.8}]}, {\"c\": [{\"v\": \"3600\"}, {\"v\": \"VETERANS AFFAIRS, DEPARTMENT OF\"}, {\"v\": \"511210\"}, {\"v\": \"SOFTWARE PUBLISHERS\"}, {\"v\": 630}, {\"v\": 87867702.88000003}]}, {\"c\": [{\"v\": \"7001\"}, {\"v\": \"OFFICE OF PROCUREMENT OPERATIONS\"}, {\"v\": \"443120\"}, {\"v\": \"COMPUTER AND SOFTWARE STORES\"}, {\"v\": 115}, {\"v\": 85158432.43}]}, {\"c\": [{\"v\": \"2050\"}, {\"v\": \"INTERNAL REVENUE SERVICE\"}, {\"v\": \"511210\"}, {\"v\": \"SOFTWARE PUBLISHERS\"}, {\"v\": 321}, {\"v\": 82585967.45}]}, {\"c\": [{\"v\": \"6920\"}, {\"v\": \"FEDERAL AVIATION ADMINISTRATION\"}, {\"v\": \"423430\"}, {\"v\": \"COMPUTER AND COMPUTER PERIPHERAL EQUIPMENT AND SOFTWARE MERCHANT WHOLESALERS\"}, {\"v\": 320}, {\"v\": 81678563.94}]}, {\"c\": [{\"v\": \"1501\"}, {\"v\": \"OFFICES, BOARDS AND DIVISIONS\"}, {\"v\": \"443120\"}, {\"v\": \"COMPUTER AND SOFTWARE STORES\"}, {\"v\": 124}, {\"v\": 75303017.16000001}]}, {\"c\": [{\"v\": \"7013\"}, {\"v\": \"TRANSPORTATION SECURITY ADMINISTRATION\"}, {\"v\": \"443120\"}, {\"v\": \"COMPUTER AND SOFTWARE STORES\"}, {\"v\": 130}, {\"v\": 72338222.08999999}]}, {\"c\": [{\"v\": \"1344\"}, {\"v\": \"PATENT AND TRADEMARK OFFICE\"}, {\"v\": \"443120\"}, {\"v\": \"COMPUTER AND SOFTWARE STORES\"}, {\"v\": 179}, {\"v\": 60555711.82999998}]}, {\"c\": [{\"v\": \"1900\"}, {\"v\": \"STATE, DEPARTMENT OF\"}, {\"v\": \"423430\"}, {\"v\": \"COMPUTER AND COMPUTER PERIPHERAL EQUIPMENT AND SOFTWARE MERCHANT WHOLESALERS\"}, {\"v\": 1449}, {\"v\": 59498401.27}]}, {\"c\": [{\"v\": \"9700\"}, {\"v\": \"DEPT OF DEFENSE\"}, {\"v\": \"334614\"}, {\"v\": \"SOFTWARE AND OTHER PRERECORDED COMPACT DISC, TAPE, AND RECORD REPRODUCING \"}, {\"v\": 847}, {\"v\": 54775397.52}]}, {\"c\": [{\"v\": \"7529\"}, {\"v\": \"NATIONAL INSTITUTES OF HEALTH\"}, {\"v\": \"443120\"}, {\"v\": \"COMPUTER AND SOFTWARE STORES\"}, {\"v\": 212}, {\"v\": 54773671.42999999}]}, {\"c\": [{\"v\": \"1900\"}, {\"v\": \"STATE, DEPARTMENT OF\"}, {\"v\": \"511210\"}, {\"v\": \"SOFTWARE PUBLISHERS\"}, {\"v\": 357}, {\"v\": 39829177.68000001}]}, {\"c\": [{\"v\": \"6800\"}, {\"v\": \"ENVIRONMENTAL PROTECTION AGENCY\"}, {\"v\": \"443120\"}, {\"v\": \"COMPUTER AND SOFTWARE STORES\"}, {\"v\": 260}, {\"v\": 39649773.38999999}]}, {\"c\": [{\"v\": \"7200\"}, {\"v\": \"AGENCY FOR INTERNATIONAL DEVELOPMENT\"}, {\"v\": \"443120\"}, {\"v\": \"COMPUTER AND SOFTWARE STORES\"}, {\"v\": 63}, {\"v\": 37272308.45999999}]}, {\"c\": [{\"v\": \"1205\"}, {\"v\": \"USDA, OFFICE OF THE CHIEF FINANCIAL OFFICER\"}, {\"v\": \"443120\"}, {\"v\": \"COMPUTER AND SOFTWARE STORES\"}, {\"v\": 263}, {\"v\": 35421398.98000001}]}, {\"c\": [{\"v\": \"3600\"}, {\"v\": \"VETERANS AFFAIRS, DEPARTMENT OF\"}, {\"v\": \"443120\"}, {\"v\": \"COMPUTER AND SOFTWARE STORES\"}, {\"v\": 471}, {\"v\": 34401225.470000006}]}, {\"c\": [{\"v\": \"4732\"}, {\"v\": \"FEDERAL ACQUISITION SERVICE\"}, {\"v\": \"443120\"}, {\"v\": \"COMPUTER AND SOFTWARE STORES\"}, {\"v\": 757}, {\"v\": 34066865.639999986}]}], \"cols\": [{\"type\": \"string\", \"id\": \"agency_id\", \"label\": \"agency_id\"}, {\"type\": \"string\", \"id\": \"agency_name\", \"label\": \"agency_name\"}, {\"type\": \"string\", \"id\": \"naics_id\", \"label\": \"naics_id\"}, {\"type\": \"string\", \"id\": \"naics_name\", \"label\": \"naics_name\"}, {\"type\": \"number\", \"id\": \"transactions\", \"label\": \"transactions\"}, {\"type\": \"number\", \"id\": \"sum_dollarsobligated\", \"label\": \"sum_dollarsobligated\"}]});\n",
       "        }\n",
       "      );\n",
       "    </script>\n",
       "  "
      ],
      "text/plain": [
       "QueryResultsTable job_tyO5qqBhadXXwwH8p2u9qTutzoA"
      ]
     },
     "execution_count": 6,
     "metadata": {},
     "output_type": "execute_result"
    }
   ],
   "source": [
    "%%sql\n",
    "select\n",
    "  substr(agencyid, 1, 4) agency_id,\n",
    "  first(substr(agencyid, 7)) agency_name,\n",
    "  substr(principalnaicscode, 1, 6) naics_id,\n",
    "  first(substr(principalnaicscode, 9)) naics_name,\n",
    "  count(*) transactions,\n",
    "  sum(dollarsobligated) sum_dollarsobligated\n",
    "from\n",
    "  gpqueries:contracts.raw\n",
    "where\n",
    "  principalnaicscode contains 'software' and\n",
    "  fiscal_year = 2015\n",
    "group by\n",
    "  agency_id, naics_id\n",
    "order by\n",
    "  sum_dollarsobligated desc\n",
    "ignore case"
   ]
  },
  {
   "cell_type": "markdown",
   "metadata": {},
   "source": [
    "### Inspecting Specific Transactions"
   ]
  },
  {
   "cell_type": "markdown",
   "metadata": {},
   "source": [
    "You can learn details from looking at transactions for a specific `(agency, NAICS)` pair. For example, what software does TSA buy?"
   ]
  },
  {
   "cell_type": "code",
   "execution_count": 7,
   "metadata": {
    "collapsed": false
   },
   "outputs": [
    {
     "data": {
      "text/html": [
       "\n",
       "    <div class=\"bqtv\" id=\"4_146516669506\"><table><tr><th>fiscal_year</th><th>dollarsobligated</th><th>vendorname</th><th>city</th><th>state</th><th>annualrevenue</th><th>numberofemployees</th><th>descriptionofcontractrequirement</th></tr><tr><td>2003</td><td>75480.0</td><td>INTERNATIONAL BUSINESS MACHINE</td><td>BETHESDA</td><td>MD</td><td>0.0</td><td>0</td><td></td></tr><tr><td>2003</td><td>64800.0</td><td>AVAYA INC</td><td>ARLINGTON</td><td>VA</td><td>0.0</td><td>0</td><td></td></tr><tr><td>2016</td><td>0.0</td><td>IMMIXTECHNOLOGY, INC.</td><td>MCLEAN</td><td>VA</td><td>31929440.0</td><td>162</td><td>CLOSEOUT SERVICE</td></tr><tr><td>2008</td><td>5483.8</td><td>SPECTRUM SYSTEMS, INC.</td><td>FAIRFAX</td><td>VA</td><td>17000000.0</td><td>25</td><td>IT SECURITY  PR TO FUND ANNUAL LICENSE RENEWAL FOR SPIDYNAMICS WEBINSPECT IN THE AMOUNT OF $4,500  PR AMENDED- TO MATCH LOWEST QUOTE AND TO EXTEND  SERVICE THROUGH 12/31/2009.</td></tr><tr><td>2007</td><td>557880.0</td><td>GTSI CORPORATION</td><td>CHANTILLY</td><td>VA</td><td>900000000.0</td><td>850</td><td>THIS PROCUREMENT REQUEST IS FOR 250 D620 TRACE MACHINES FOR THE FSDS PER THE ATTACHED CONFIGURATION.  DELIVERY SCHEDULE AS FOLLOWS: DEC 18 - 25 JAN 8    - 25 JAN 15  - 50 JAN 29  - 50 FEB 12 - 50 FEB 26 - 50</td></tr><tr><td>2004</td><td>1640913.0</td><td>INTERNATIONAL BUSINESS MACHINE</td><td>BETHESDA</td><td>MD</td><td>0.0</td><td>0</td><td>IT SERVICES</td></tr><tr><td>2013</td><td>36372.5</td><td>IMMIXTECHNOLOGY, INC.</td><td>MCLEAN</td><td>VA</td><td>31929440.0</td><td>162</td><td>THE PURPOSE OF THIS BPA CALL IS TO PURCHASE A QUANTITY OF 250 POE WITH BATTERY BACKUP (PART # 8602806-001)TERMINAL CLOCK PRODUCTS.</td></tr><tr><td>2013</td><td>5373123.87</td><td>INTERNATIONAL BUSINESS MACHINE</td><td>BETHESDA</td><td>MD</td><td>0.0</td><td>0</td><td>IGF::OT::IGF SUBJECT: APPLICATION SUPPORT TEAM (AST) - OASIS II WORK ORDER</td></tr><tr><td>2008</td><td>16077.46</td><td>SPRINT COMMUNICATIONS COMPANY L.P.</td><td>RESTON</td><td>VA</td><td>38927998976.0</td><td>56001</td><td>QSEC AIRTIME FOR A BASE AND TWO ADDITIONAL OPTION PERIODS.</td></tr><tr><td>2005</td><td>100000.0</td><td>ORACLE CORPORATION</td><td>RESTON</td><td>VA</td><td>0.0</td><td>0</td><td>AFSP ORACLE SUPPORT</td></tr><tr><td>2016</td><td>0.0</td><td>INTERNATIONAL BUSINESS MACHINE</td><td>BETHESDA</td><td>MD</td><td>0.0</td><td>0</td><td>IGF::CT::IGF THE PURPOSE OF MODIFICATION P00004 TO OASIS II TASK ORDER #21 (HSTS03-14-J-SAS001) IS TO REALLOCATE AMONG TWO CLIN 10001 LABOR CATEGORIES FOR THE OPTION PERIOD 1.</td></tr><tr><td>2016</td><td>0.0</td><td>INTERNATIONAL BUSINESS MACHINE</td><td>BETHESDA</td><td>MD</td><td>0.0</td><td>0</td><td>IGF::CT::IGF THIS PURPOSE OF THIS MODIFICATION IS TO DISASSOCIATE FISCAL YEAR 2015/2016 LINE OF ACCOUNTING (LOA), DEOBLIGATE PERVIOUS CLINS AND ADD NEW SUB-CLINS WITH FISCAL YEAR 2016 LINE OF ACCOUNTING (LOA). THIS IS A TIME AND MATERIALS TASK ORDER ISSUED AGAINST BPA HSTS03-13-A-CIO549 TO PROVIDE SUPPORT AND MAINTENANCE FOR THE AUTOMATED TIME AND ATTENDANCE (T&amp;A) SYSTEM FOR THE TRANSPORTATION SECURITY OFFICER STAFF IN ACCORDANCE WITH THE INCLUDED PERFORMANCE WORK STATEMENT AND TERMS AND CONDITIONS.</td></tr><tr><td>2016</td><td>411498.48</td><td>INTERNATIONAL BUSINESS MACHINE</td><td>BETHESDA</td><td>MD</td><td>0.0</td><td>0</td><td>IGF::OT::IGF RAPID APPLICATION DEVELOPMENT (RAD) II CONTINUED SUPPORT SERVICES</td></tr><tr><td>2005</td><td>317680.0</td><td>INTERNATIONAL BUSINESS MACHINE</td><td>BETHESDA</td><td>MD</td><td>0.0</td><td>0</td><td></td></tr><tr><td>2005</td><td>413075.0</td><td>INTERNATIONAL BUSINESS MACHINE</td><td>BETHESDA</td><td>MD</td><td>0.0</td><td>0</td><td>IT SERVICES</td></tr><tr><td>2008</td><td>1834.02</td><td>TESSCO INCORPORATED</td><td>HUNT VALLEY</td><td>MD</td><td>513000000.0</td><td>592</td><td>MOBILE AMPLIFIERS</td></tr><tr><td>2008</td><td>14906.67</td><td>NETPRO COMPUTING, INC.</td><td>PHOENIX</td><td>AZ</td><td>9731484.0</td><td>88</td><td>SOFTWARE MAINTENANCE TO PROVIDE FY08 FUNDING IN THE AMOUNT OF $16,500 FOR  IT SOFTWARE MAINTENANCE FOR  NETPRO FOR THE PERIOD NOV 22, 2007 TO DEC 31, 2008.</td></tr><tr><td>2007</td><td>0.0</td><td>TALX CORPORATION</td><td>SAINT LOUIS</td><td>MO</td><td>45820000.0</td><td>878</td><td>TALX - ADDITIONAL FUNDS TO EXTEND TASK ORDER WITH USDA FOR THE TALX UC EXPESS PROGRAM. FUNDS SHALL COVER 4TH QUARTER OF FY06</td></tr><tr><td>2007</td><td>3939.74</td><td>POLYCOM, INC</td><td>PLEASANTON</td><td>CA</td><td>465959000.0</td><td>1271</td><td>THE PURPOSE OF THIS PROCUREMENT IS TO EXTEND THE POLYCOM PREMIER PLUS SERVICE MAINTENANCE AGREEMENT ON TWO (2) VIDEO CONFERENCING UNITS FOR AN ADDITIONAL YEAR.  PRESENT AGREEMENT EXPIRES ON 3-15-07.  THE TOTAL COST OF THIS PROCUREMENT IS $3,939.74.</td></tr><tr><td>2016</td><td>5000.0</td><td>INTERNATIONAL BUSINESS MACHINE</td><td>BETHESDA</td><td>MD</td><td>0.0</td><td>0</td><td>IGF::OT::IGF THE PURPOSE OF MODIFICATION P00003 TO OASIS II TASK ORDER #38 (HSTS03-14-J-SAS005) IS TO ADD CLIN 10007 TO OPTION PERIOD 1 AND CHANGE THE CONTRACTING OFFICER REPRESENTATIVE FROM DEREK SMITH TO SUNG LEE (VALERIE SANDY AS ALTERNATE CONTRACTING OFFICER REPRESENTATIVE)</td></tr><tr><td>2009</td><td>9379.91</td><td>SYNNEX CORPORATION</td><td>GREENVILLE</td><td>SC</td><td>4000000000.0</td><td>550</td><td>LCD MONITORS FOR PUBLIC SERVICE ANNOUNCEMENTS AT THE THREE SPOKE AIRPORTS AND TWO MONITORS FOR THE HUB COORDINATING CENTER. 10 IDENTICAL ITEMS WERE PURCHASED FOR THE HUB LAST YEAR UNDER CONTRACT GS-35F-4076D</td></tr><tr><td>2009</td><td>0.0</td><td>GTSI CORPORATION</td><td>CHANTILLY</td><td>VA</td><td>900000000.0</td><td>850</td><td>PURCHASE OF ADOBE LICENSES FOR THE OFFICE OF THE SPECIAL COUNSELOR</td></tr><tr><td>2011</td><td>415522.0</td><td>GTSI CORPORATION</td><td>CHANTILLY</td><td>VA</td><td>900000000.0</td><td>850</td><td>MAINTENANCE AND SUPPORT FOR SYMANTEC AND ALTIRIS LICENSES.</td></tr><tr><td>2006</td><td>152880.0</td><td>GTSI CORPORATION</td><td>CHANTILLY</td><td>VA</td><td>900000000.0</td><td>850</td><td>DELL COMPUTERS</td></tr><tr><td>2016</td><td>0.0</td><td>INTERNATIONAL BUSINESS MACHINE</td><td>BETHESDA</td><td>MD</td><td>0.0</td><td>0</td><td>IGF::CT::IGF ISHARE AND WORKFLOW APPLICATION DEVELOPMENT SERVICES.</td></tr></table></div>\n",
       "    <br />(rows: 584, time: 0.7s, cached, job: job_16eFmMJh3axW3zdfW7ioeWdHVE0)<br />\n",
       "    <script>\n",
       "      require(['extensions/charting', 'element!4_146516669506', 'style!/static/extensions/charting.css'],\n",
       "        function(charts, dom) {\n",
       "          charts.render(dom,\n",
       "            {\n",
       "              chartStyle:\"paged_table\",\n",
       "              dataName:\"3\",\n",
       "              fields:\"fiscal_year,dollarsobligated,vendorname,city,state,annualrevenue,numberofemployees,descriptionofcontractrequirement\",\n",
       "              totalRows:584,\n",
       "              rowsPerPage:25,\n",
       "            }, {}, {\"rows\": [{\"c\": [{\"v\": 2003}, {\"v\": 75480.0}, {\"v\": \"INTERNATIONAL BUSINESS MACHINE\"}, {\"v\": \"BETHESDA\"}, {\"v\": \"MD\"}, {\"v\": 0.0}, {\"v\": 0}, {\"v\": \"\"}]}, {\"c\": [{\"v\": 2003}, {\"v\": 64800.0}, {\"v\": \"AVAYA INC\"}, {\"v\": \"ARLINGTON\"}, {\"v\": \"VA\"}, {\"v\": 0.0}, {\"v\": 0}, {\"v\": \"\"}]}, {\"c\": [{\"v\": 2016}, {\"v\": 0.0}, {\"v\": \"IMMIXTECHNOLOGY, INC.\"}, {\"v\": \"MCLEAN\"}, {\"v\": \"VA\"}, {\"v\": 31929440.0}, {\"v\": 162}, {\"v\": \"CLOSEOUT SERVICE\"}]}, {\"c\": [{\"v\": 2008}, {\"v\": 5483.8}, {\"v\": \"SPECTRUM SYSTEMS, INC.\"}, {\"v\": \"FAIRFAX\"}, {\"v\": \"VA\"}, {\"v\": 17000000.0}, {\"v\": 25}, {\"v\": \"IT SECURITY  PR TO FUND ANNUAL LICENSE RENEWAL FOR SPIDYNAMICS WEBINSPECT IN THE AMOUNT OF $4,500  PR AMENDED- TO MATCH LOWEST QUOTE AND TO EXTEND  SERVICE THROUGH 12/31/2009.\"}]}, {\"c\": [{\"v\": 2007}, {\"v\": 557880.0}, {\"v\": \"GTSI CORPORATION\"}, {\"v\": \"CHANTILLY\"}, {\"v\": \"VA\"}, {\"v\": 900000000.0}, {\"v\": 850}, {\"v\": \"THIS PROCUREMENT REQUEST IS FOR 250 D620 TRACE MACHINES FOR THE FSDS PER THE ATTACHED CONFIGURATION.  DELIVERY SCHEDULE AS FOLLOWS: DEC 18 - 25 JAN 8    - 25 JAN 15  - 50 JAN 29  - 50 FEB 12 - 50 FEB 26 - 50\"}]}, {\"c\": [{\"v\": 2004}, {\"v\": 1640913.0}, {\"v\": \"INTERNATIONAL BUSINESS MACHINE\"}, {\"v\": \"BETHESDA\"}, {\"v\": \"MD\"}, {\"v\": 0.0}, {\"v\": 0}, {\"v\": \"IT SERVICES\"}]}, {\"c\": [{\"v\": 2013}, {\"v\": 36372.5}, {\"v\": \"IMMIXTECHNOLOGY, INC.\"}, {\"v\": \"MCLEAN\"}, {\"v\": \"VA\"}, {\"v\": 31929440.0}, {\"v\": 162}, {\"v\": \"THE PURPOSE OF THIS BPA CALL IS TO PURCHASE A QUANTITY OF 250 POE WITH BATTERY BACKUP (PART # 8602806-001)TERMINAL CLOCK PRODUCTS.\"}]}, {\"c\": [{\"v\": 2013}, {\"v\": 5373123.87}, {\"v\": \"INTERNATIONAL BUSINESS MACHINE\"}, {\"v\": \"BETHESDA\"}, {\"v\": \"MD\"}, {\"v\": 0.0}, {\"v\": 0}, {\"v\": \"IGF::OT::IGF SUBJECT: APPLICATION SUPPORT TEAM (AST) - OASIS II WORK ORDER\"}]}, {\"c\": [{\"v\": 2008}, {\"v\": 16077.46}, {\"v\": \"SPRINT COMMUNICATIONS COMPANY L.P.\"}, {\"v\": \"RESTON\"}, {\"v\": \"VA\"}, {\"v\": 38927998976.0}, {\"v\": 56001}, {\"v\": \"QSEC AIRTIME FOR A BASE AND TWO ADDITIONAL OPTION PERIODS.\"}]}, {\"c\": [{\"v\": 2005}, {\"v\": 100000.0}, {\"v\": \"ORACLE CORPORATION\"}, {\"v\": \"RESTON\"}, {\"v\": \"VA\"}, {\"v\": 0.0}, {\"v\": 0}, {\"v\": \"AFSP ORACLE SUPPORT\"}]}, {\"c\": [{\"v\": 2016}, {\"v\": 0.0}, {\"v\": \"INTERNATIONAL BUSINESS MACHINE\"}, {\"v\": \"BETHESDA\"}, {\"v\": \"MD\"}, {\"v\": 0.0}, {\"v\": 0}, {\"v\": \"IGF::CT::IGF THE PURPOSE OF MODIFICATION P00004 TO OASIS II TASK ORDER #21 (HSTS03-14-J-SAS001) IS TO REALLOCATE AMONG TWO CLIN 10001 LABOR CATEGORIES FOR THE OPTION PERIOD 1.\"}]}, {\"c\": [{\"v\": 2016}, {\"v\": 0.0}, {\"v\": \"INTERNATIONAL BUSINESS MACHINE\"}, {\"v\": \"BETHESDA\"}, {\"v\": \"MD\"}, {\"v\": 0.0}, {\"v\": 0}, {\"v\": \"IGF::CT::IGF THIS PURPOSE OF THIS MODIFICATION IS TO DISASSOCIATE FISCAL YEAR 2015/2016 LINE OF ACCOUNTING (LOA), DEOBLIGATE PERVIOUS CLINS AND ADD NEW SUB-CLINS WITH FISCAL YEAR 2016 LINE OF ACCOUNTING (LOA). THIS IS A TIME AND MATERIALS TASK ORDER ISSUED AGAINST BPA HSTS03-13-A-CIO549 TO PROVIDE SUPPORT AND MAINTENANCE FOR THE AUTOMATED TIME AND ATTENDANCE (T&A) SYSTEM FOR THE TRANSPORTATION SECURITY OFFICER STAFF IN ACCORDANCE WITH THE INCLUDED PERFORMANCE WORK STATEMENT AND TERMS AND CONDITIONS.\"}]}, {\"c\": [{\"v\": 2016}, {\"v\": 411498.48}, {\"v\": \"INTERNATIONAL BUSINESS MACHINE\"}, {\"v\": \"BETHESDA\"}, {\"v\": \"MD\"}, {\"v\": 0.0}, {\"v\": 0}, {\"v\": \"IGF::OT::IGF RAPID APPLICATION DEVELOPMENT (RAD) II CONTINUED SUPPORT SERVICES\"}]}, {\"c\": [{\"v\": 2005}, {\"v\": 317680.0}, {\"v\": \"INTERNATIONAL BUSINESS MACHINE\"}, {\"v\": \"BETHESDA\"}, {\"v\": \"MD\"}, {\"v\": 0.0}, {\"v\": 0}, {\"v\": \"\"}]}, {\"c\": [{\"v\": 2005}, {\"v\": 413075.0}, {\"v\": \"INTERNATIONAL BUSINESS MACHINE\"}, {\"v\": \"BETHESDA\"}, {\"v\": \"MD\"}, {\"v\": 0.0}, {\"v\": 0}, {\"v\": \"IT SERVICES\"}]}, {\"c\": [{\"v\": 2008}, {\"v\": 1834.02}, {\"v\": \"TESSCO INCORPORATED\"}, {\"v\": \"HUNT VALLEY\"}, {\"v\": \"MD\"}, {\"v\": 513000000.0}, {\"v\": 592}, {\"v\": \"MOBILE AMPLIFIERS\"}]}, {\"c\": [{\"v\": 2008}, {\"v\": 14906.67}, {\"v\": \"NETPRO COMPUTING, INC.\"}, {\"v\": \"PHOENIX\"}, {\"v\": \"AZ\"}, {\"v\": 9731484.0}, {\"v\": 88}, {\"v\": \"SOFTWARE MAINTENANCE TO PROVIDE FY08 FUNDING IN THE AMOUNT OF $16,500 FOR  IT SOFTWARE MAINTENANCE FOR  NETPRO FOR THE PERIOD NOV 22, 2007 TO DEC 31, 2008.\"}]}, {\"c\": [{\"v\": 2007}, {\"v\": 0.0}, {\"v\": \"TALX CORPORATION\"}, {\"v\": \"SAINT LOUIS\"}, {\"v\": \"MO\"}, {\"v\": 45820000.0}, {\"v\": 878}, {\"v\": \"TALX - ADDITIONAL FUNDS TO EXTEND TASK ORDER WITH USDA FOR THE TALX UC EXPESS PROGRAM. FUNDS SHALL COVER 4TH QUARTER OF FY06\"}]}, {\"c\": [{\"v\": 2007}, {\"v\": 3939.74}, {\"v\": \"POLYCOM, INC\"}, {\"v\": \"PLEASANTON\"}, {\"v\": \"CA\"}, {\"v\": 465959000.0}, {\"v\": 1271}, {\"v\": \"THE PURPOSE OF THIS PROCUREMENT IS TO EXTEND THE POLYCOM PREMIER PLUS SERVICE MAINTENANCE AGREEMENT ON TWO (2) VIDEO CONFERENCING UNITS FOR AN ADDITIONAL YEAR.  PRESENT AGREEMENT EXPIRES ON 3-15-07.  THE TOTAL COST OF THIS PROCUREMENT IS $3,939.74.\"}]}, {\"c\": [{\"v\": 2016}, {\"v\": 5000.0}, {\"v\": \"INTERNATIONAL BUSINESS MACHINE\"}, {\"v\": \"BETHESDA\"}, {\"v\": \"MD\"}, {\"v\": 0.0}, {\"v\": 0}, {\"v\": \"IGF::OT::IGF THE PURPOSE OF MODIFICATION P00003 TO OASIS II TASK ORDER #38 (HSTS03-14-J-SAS005) IS TO ADD CLIN 10007 TO OPTION PERIOD 1 AND CHANGE THE CONTRACTING OFFICER REPRESENTATIVE FROM DEREK SMITH TO SUNG LEE (VALERIE SANDY AS ALTERNATE CONTRACTING OFFICER REPRESENTATIVE)\"}]}, {\"c\": [{\"v\": 2009}, {\"v\": 9379.91}, {\"v\": \"SYNNEX CORPORATION\"}, {\"v\": \"GREENVILLE\"}, {\"v\": \"SC\"}, {\"v\": 4000000000.0}, {\"v\": 550}, {\"v\": \"LCD MONITORS FOR PUBLIC SERVICE ANNOUNCEMENTS AT THE THREE SPOKE AIRPORTS AND TWO MONITORS FOR THE HUB COORDINATING CENTER. 10 IDENTICAL ITEMS WERE PURCHASED FOR THE HUB LAST YEAR UNDER CONTRACT GS-35F-4076D\"}]}, {\"c\": [{\"v\": 2009}, {\"v\": 0.0}, {\"v\": \"GTSI CORPORATION\"}, {\"v\": \"CHANTILLY\"}, {\"v\": \"VA\"}, {\"v\": 900000000.0}, {\"v\": 850}, {\"v\": \"PURCHASE OF ADOBE LICENSES FOR THE OFFICE OF THE SPECIAL COUNSELOR\"}]}, {\"c\": [{\"v\": 2011}, {\"v\": 415522.0}, {\"v\": \"GTSI CORPORATION\"}, {\"v\": \"CHANTILLY\"}, {\"v\": \"VA\"}, {\"v\": 900000000.0}, {\"v\": 850}, {\"v\": \"MAINTENANCE AND SUPPORT FOR SYMANTEC AND ALTIRIS LICENSES.\"}]}, {\"c\": [{\"v\": 2006}, {\"v\": 152880.0}, {\"v\": \"GTSI CORPORATION\"}, {\"v\": \"CHANTILLY\"}, {\"v\": \"VA\"}, {\"v\": 900000000.0}, {\"v\": 850}, {\"v\": \"DELL COMPUTERS\"}]}, {\"c\": [{\"v\": 2016}, {\"v\": 0.0}, {\"v\": \"INTERNATIONAL BUSINESS MACHINE\"}, {\"v\": \"BETHESDA\"}, {\"v\": \"MD\"}, {\"v\": 0.0}, {\"v\": 0}, {\"v\": \"IGF::CT::IGF ISHARE AND WORKFLOW APPLICATION DEVELOPMENT SERVICES.\"}]}], \"cols\": [{\"type\": \"number\", \"id\": \"fiscal_year\", \"label\": \"fiscal_year\"}, {\"type\": \"number\", \"id\": \"dollarsobligated\", \"label\": \"dollarsobligated\"}, {\"type\": \"string\", \"id\": \"vendorname\", \"label\": \"vendorname\"}, {\"type\": \"string\", \"id\": \"city\", \"label\": \"city\"}, {\"type\": \"string\", \"id\": \"state\", \"label\": \"state\"}, {\"type\": \"number\", \"id\": \"annualrevenue\", \"label\": \"annualrevenue\"}, {\"type\": \"number\", \"id\": \"numberofemployees\", \"label\": \"numberofemployees\"}, {\"type\": \"string\", \"id\": \"descriptionofcontractrequirement\", \"label\": \"descriptionofcontractrequirement\"}]});\n",
       "        }\n",
       "      );\n",
       "    </script>\n",
       "  "
      ],
      "text/plain": [
       "QueryResultsTable job_16eFmMJh3axW3zdfW7ioeWdHVE0"
      ]
     },
     "execution_count": 7,
     "metadata": {},
     "output_type": "execute_result"
    }
   ],
   "source": [
    "%%sql\n",
    "select\n",
    "  fiscal_year,\n",
    "  dollarsobligated,\n",
    "  vendorname, city, state, annualrevenue, numberofemployees,\n",
    "  descriptionofcontractrequirement\n",
    "from\n",
    "  gpqueries:contracts.raw\n",
    "where\n",
    "  agencyid contains 'transportation security administration' and\n",
    "  principalnaicscode contains 'computer and software stores'\n",
    "ignore case"
   ]
  },
  {
   "cell_type": "markdown",
   "metadata": {},
   "source": [
    "Alternatively, specify vendors your product relates to and check how the government uses it. Top deals in data analytics:"
   ]
  },
  {
   "cell_type": "code",
   "execution_count": 8,
   "metadata": {
    "collapsed": false
   },
   "outputs": [
    {
     "data": {
      "text/html": [
       "\n",
       "    <div class=\"bqtv\" id=\"5_146516669631\"><table><tr><th>agencyid</th><th>dollarsobligated</th><th>vendorname</th><th>descriptionofcontractrequirement</th></tr><tr><td>9700: DEPT OF DEFENSE</td><td>22401901.14</td><td>PALANTIR TECHNOLOGIES INCORPORATED</td><td>PROCUREMENT OF PALANTIR GOTHAM SOFTWARE AND ASSOCIATED SUPPORT</td></tr><tr><td>9700: DEPT OF DEFENSE</td><td>19243057.44</td><td>PALANTIR TECHNOLOGIES INCORPORATED</td><td>PALANTIR CORE SERVER LICENSES AND HARDWARE</td></tr><tr><td>1549: FEDERAL BUREAU OF INVESTIGATION</td><td>14891225.66</td><td>PALANTIR TECHNOLOGIES INC.</td><td>UNLIMITED LICENSE</td></tr><tr><td>7012: U.S. IMMIGRATION AND CUSTOMS ENFORCEMENT</td><td>12472821.2</td><td>PALANTIR USG, INC.</td><td>ICE COTS BASED, WEB-ENABLED INVESTIGATIVE CASE MANAGEMENT (ICM) SYSTEM FOR ICE TECS MOD PROGRAM OFFICE.  IGF::CT::IGF</td></tr><tr><td>9700: DEPT OF DEFENSE</td><td>11999886.24</td><td>PALANTIR TECHNOLOGIES INCORPORATED</td><td>IGF::OT::IGF EXERCISE OPTION YEAR 1 AND ADD FUNDING</td></tr><tr><td>9700: DEPT OF DEFENSE</td><td>11805943.2</td><td>PALANTIR TECHNOLOGIES INCORPORATED</td><td>PALANTIR SW LICENSE MAINTENANCE SUPPORT RENEWAL.</td></tr><tr><td>7012: U.S. IMMIGRATION AND CUSTOMS ENFORCEMENT</td><td>9900000.0</td><td>PALANTIR TECHNOLOGIES INC.</td><td>IGF::OT::IGF FALCON OPERATIONS AND MAINTENANCE (O&amp;M), SYSTEM ENHANCEMENT SUPPORT SERVICES FOR PALANTIR GOVERNMENT</td></tr><tr><td>7012: U.S. IMMIGRATION AND CUSTOMS ENFORCEMENT</td><td>9857193.77</td><td>PALANTIR USG, INC.</td><td>ICE COTS BASED, WEB-ENABLED INVESTIGATIVE CASE MANAGEMENT (ICM) SYSTEM FOR ICE TECS MOD PROGRAM OFFICE. IGF::CT::IGF</td></tr><tr><td>1501: OFFICES, BOARDS AND DIVISIONS</td><td>9500000.0</td><td>PALANTIR TECHNOLOGIES INC.</td><td>IGF::OT::IGF</td></tr><tr><td>9700: DEPT OF DEFENSE</td><td>9125264.2</td><td>PALANTIR TECHNOLOGIES INCORPORATED</td><td>IFAP</td></tr><tr><td>9700: DEPT OF DEFENSE</td><td>7180568.16</td><td>PALANTIR TECHNOLOGIES INCORPORATED</td><td>PALANTIR SW LICENSE MAINTENANCE SUPPORT RENEWAL.</td></tr><tr><td>1501: OFFICES, BOARDS AND DIVISIONS</td><td>6500000.0</td><td>PALANTIR TECHNOLOGIES INC.</td><td>IGF::OT::IGF</td></tr><tr><td>5000: SECURITIES AND EXCHANGE COMMISSION</td><td>5999999.98</td><td>PALANTIR TECHNOLOGIES INC.</td><td>IGF::OT::IGF FOR OTHER FUNCTIONS PROVIDE AND IMPLEMENT A COTS SOLUTION FOR THE AGENCY'S ENTERPRISE DATA ANALYTICS</td></tr><tr><td>7012: U.S. IMMIGRATION AND CUSTOMS ENFORCEMENT</td><td>5936000.0</td><td>PALANTIR TECHNOLOGIES INCORPORATED</td><td>PALANTIR SOFTWARE, SERVICE, AND SUPPORT FOR HSI PERSONNEL</td></tr><tr><td>9700: DEPT OF DEFENSE</td><td>5724116.36</td><td>PALANTIR TECHNOLOGIES INCORPORATED</td><td>PALANTIR GOTHAM SERVER LICENSES AND ASSOCIATED FIELD SERVICE REPRESENTATIVE SUPPORT.</td></tr><tr><td>9700: DEPT OF DEFENSE</td><td>5717851.36</td><td>PALANTIR TECHNOLOGIES INCORPORATED</td><td>PALANTIR GOTHAM LICENSES AND FIELD SERVICE REPRESENTATIVE SUPPORT</td></tr><tr><td>9700: DEPT OF DEFENSE</td><td>5646384.24</td><td>PALANTIR TECHNOLOGIES INCORPORATED</td><td>PURCHASE OF PALANTIR SOFTWARE LICENSES&amp;FSR SUPPORT</td></tr><tr><td>7012: U.S. IMMIGRATION AND CUSTOMS ENFORCEMENT</td><td>5038025.59</td><td>PALANTIR TECHNOLOGIES INC.</td><td>IGF::OT::IGF FALCON OPERATIONS AND MAINTENANCE (O&amp;M) SUPPORT SERVICES FOR PALANTIR GOVERNMENT, A PROPRIETARY SOFTWARE PRODUCT OF PALANTIR TECHNOLOGIES, INC.</td></tr><tr><td>9700: DEPT OF DEFENSE</td><td>4700000.0</td><td>PALANTIR TECHNOLOGIES INCORPORATED</td><td>NEW WORK MOD</td></tr><tr><td>1501: OFFICES, BOARDS AND DIVISIONS</td><td>4690647.07</td><td>PALANTIR TECHNOLOGIES INC.</td><td>IGF::OT::IGF</td></tr><tr><td>9700: DEPT OF DEFENSE</td><td>4661082.38</td><td>PALANTIR TECHNOLOGIES INCORPORATED</td><td>IGF::OT::IGF PALANTIR MARINES IFAP III CORE LICENSES.</td></tr><tr><td>1501: OFFICES, BOARDS AND DIVISIONS</td><td>4579393.0</td><td>PALANTIR TECHNOLOGIES INC.</td><td>IGF::OT::IGF,EOUSA PALANTIR</td></tr><tr><td>1549: FEDERAL BUREAU OF INVESTIGATION</td><td>3609995.45</td><td>PALANTIR TECHNOLOGIES INCORPORATED</td><td>COMPUTER TOOL USAGE LICENSES</td></tr><tr><td>9700: DEPT OF DEFENSE</td><td>3271065.56</td><td>PALANTIR TECHNOLOGIES INC.</td><td>IGF::OT::IGF CAG/GMSC FSR SUPPORT</td></tr><tr><td>9700: DEPT OF DEFENSE</td><td>3203190.77</td><td>PALANTIR TECHNOLOGIES INC.</td><td>IGF::OT::IGF, TWO (2) 8-CORE PERPETUAL LICENSES</td></tr></table></div>\n",
       "    <br />(rows: 100, time: 0.8s, cached, job: job_GHwVcGuA_3SqI6q4FiMMI4k9yqY)<br />\n",
       "    <script>\n",
       "      require(['extensions/charting', 'element!5_146516669631', 'style!/static/extensions/charting.css'],\n",
       "        function(charts, dom) {\n",
       "          charts.render(dom,\n",
       "            {\n",
       "              chartStyle:\"paged_table\",\n",
       "              dataName:\"4\",\n",
       "              fields:\"agencyid,dollarsobligated,vendorname,descriptionofcontractrequirement\",\n",
       "              totalRows:100,\n",
       "              rowsPerPage:25,\n",
       "            }, {}, {\"rows\": [{\"c\": [{\"v\": \"9700: DEPT OF DEFENSE\"}, {\"v\": 22401901.14}, {\"v\": \"PALANTIR TECHNOLOGIES INCORPORATED\"}, {\"v\": \"PROCUREMENT OF PALANTIR GOTHAM SOFTWARE AND ASSOCIATED SUPPORT\"}]}, {\"c\": [{\"v\": \"9700: DEPT OF DEFENSE\"}, {\"v\": 19243057.44}, {\"v\": \"PALANTIR TECHNOLOGIES INCORPORATED\"}, {\"v\": \"PALANTIR CORE SERVER LICENSES AND HARDWARE\"}]}, {\"c\": [{\"v\": \"1549: FEDERAL BUREAU OF INVESTIGATION\"}, {\"v\": 14891225.66}, {\"v\": \"PALANTIR TECHNOLOGIES INC.\"}, {\"v\": \"UNLIMITED LICENSE\"}]}, {\"c\": [{\"v\": \"7012: U.S. IMMIGRATION AND CUSTOMS ENFORCEMENT\"}, {\"v\": 12472821.2}, {\"v\": \"PALANTIR USG, INC.\"}, {\"v\": \"ICE COTS BASED, WEB-ENABLED INVESTIGATIVE CASE MANAGEMENT (ICM) SYSTEM FOR ICE TECS MOD PROGRAM OFFICE.  IGF::CT::IGF\"}]}, {\"c\": [{\"v\": \"9700: DEPT OF DEFENSE\"}, {\"v\": 11999886.24}, {\"v\": \"PALANTIR TECHNOLOGIES INCORPORATED\"}, {\"v\": \"IGF::OT::IGF EXERCISE OPTION YEAR 1 AND ADD FUNDING\"}]}, {\"c\": [{\"v\": \"9700: DEPT OF DEFENSE\"}, {\"v\": 11805943.2}, {\"v\": \"PALANTIR TECHNOLOGIES INCORPORATED\"}, {\"v\": \"PALANTIR SW LICENSE MAINTENANCE SUPPORT RENEWAL.\"}]}, {\"c\": [{\"v\": \"7012: U.S. IMMIGRATION AND CUSTOMS ENFORCEMENT\"}, {\"v\": 9900000.0}, {\"v\": \"PALANTIR TECHNOLOGIES INC.\"}, {\"v\": \"IGF::OT::IGF FALCON OPERATIONS AND MAINTENANCE (O&M), SYSTEM ENHANCEMENT SUPPORT SERVICES FOR PALANTIR GOVERNMENT\"}]}, {\"c\": [{\"v\": \"7012: U.S. IMMIGRATION AND CUSTOMS ENFORCEMENT\"}, {\"v\": 9857193.77}, {\"v\": \"PALANTIR USG, INC.\"}, {\"v\": \"ICE COTS BASED, WEB-ENABLED INVESTIGATIVE CASE MANAGEMENT (ICM) SYSTEM FOR ICE TECS MOD PROGRAM OFFICE. IGF::CT::IGF\"}]}, {\"c\": [{\"v\": \"1501: OFFICES, BOARDS AND DIVISIONS\"}, {\"v\": 9500000.0}, {\"v\": \"PALANTIR TECHNOLOGIES INC.\"}, {\"v\": \"IGF::OT::IGF\"}]}, {\"c\": [{\"v\": \"9700: DEPT OF DEFENSE\"}, {\"v\": 9125264.2}, {\"v\": \"PALANTIR TECHNOLOGIES INCORPORATED\"}, {\"v\": \"IFAP\"}]}, {\"c\": [{\"v\": \"9700: DEPT OF DEFENSE\"}, {\"v\": 7180568.16}, {\"v\": \"PALANTIR TECHNOLOGIES INCORPORATED\"}, {\"v\": \"PALANTIR SW LICENSE MAINTENANCE SUPPORT RENEWAL.\"}]}, {\"c\": [{\"v\": \"1501: OFFICES, BOARDS AND DIVISIONS\"}, {\"v\": 6500000.0}, {\"v\": \"PALANTIR TECHNOLOGIES INC.\"}, {\"v\": \"IGF::OT::IGF\"}]}, {\"c\": [{\"v\": \"5000: SECURITIES AND EXCHANGE COMMISSION\"}, {\"v\": 5999999.98}, {\"v\": \"PALANTIR TECHNOLOGIES INC.\"}, {\"v\": \"IGF::OT::IGF FOR OTHER FUNCTIONS PROVIDE AND IMPLEMENT A COTS SOLUTION FOR THE AGENCY'S ENTERPRISE DATA ANALYTICS\"}]}, {\"c\": [{\"v\": \"7012: U.S. IMMIGRATION AND CUSTOMS ENFORCEMENT\"}, {\"v\": 5936000.0}, {\"v\": \"PALANTIR TECHNOLOGIES INCORPORATED\"}, {\"v\": \"PALANTIR SOFTWARE, SERVICE, AND SUPPORT FOR HSI PERSONNEL\"}]}, {\"c\": [{\"v\": \"9700: DEPT OF DEFENSE\"}, {\"v\": 5724116.36}, {\"v\": \"PALANTIR TECHNOLOGIES INCORPORATED\"}, {\"v\": \"PALANTIR GOTHAM SERVER LICENSES AND ASSOCIATED FIELD SERVICE REPRESENTATIVE SUPPORT.\"}]}, {\"c\": [{\"v\": \"9700: DEPT OF DEFENSE\"}, {\"v\": 5717851.36}, {\"v\": \"PALANTIR TECHNOLOGIES INCORPORATED\"}, {\"v\": \"PALANTIR GOTHAM LICENSES AND FIELD SERVICE REPRESENTATIVE SUPPORT\"}]}, {\"c\": [{\"v\": \"9700: DEPT OF DEFENSE\"}, {\"v\": 5646384.24}, {\"v\": \"PALANTIR TECHNOLOGIES INCORPORATED\"}, {\"v\": \"PURCHASE OF PALANTIR SOFTWARE LICENSES&FSR SUPPORT\"}]}, {\"c\": [{\"v\": \"7012: U.S. IMMIGRATION AND CUSTOMS ENFORCEMENT\"}, {\"v\": 5038025.59}, {\"v\": \"PALANTIR TECHNOLOGIES INC.\"}, {\"v\": \"IGF::OT::IGF FALCON OPERATIONS AND MAINTENANCE (O&M) SUPPORT SERVICES FOR PALANTIR GOVERNMENT, A PROPRIETARY SOFTWARE PRODUCT OF PALANTIR TECHNOLOGIES, INC.\"}]}, {\"c\": [{\"v\": \"9700: DEPT OF DEFENSE\"}, {\"v\": 4700000.0}, {\"v\": \"PALANTIR TECHNOLOGIES INCORPORATED\"}, {\"v\": \"NEW WORK MOD\"}]}, {\"c\": [{\"v\": \"1501: OFFICES, BOARDS AND DIVISIONS\"}, {\"v\": 4690647.07}, {\"v\": \"PALANTIR TECHNOLOGIES INC.\"}, {\"v\": \"IGF::OT::IGF\"}]}, {\"c\": [{\"v\": \"9700: DEPT OF DEFENSE\"}, {\"v\": 4661082.38}, {\"v\": \"PALANTIR TECHNOLOGIES INCORPORATED\"}, {\"v\": \"IGF::OT::IGF PALANTIR MARINES IFAP III CORE LICENSES.\"}]}, {\"c\": [{\"v\": \"1501: OFFICES, BOARDS AND DIVISIONS\"}, {\"v\": 4579393.0}, {\"v\": \"PALANTIR TECHNOLOGIES INC.\"}, {\"v\": \"IGF::OT::IGF,EOUSA PALANTIR\"}]}, {\"c\": [{\"v\": \"1549: FEDERAL BUREAU OF INVESTIGATION\"}, {\"v\": 3609995.45}, {\"v\": \"PALANTIR TECHNOLOGIES INCORPORATED\"}, {\"v\": \"COMPUTER TOOL USAGE LICENSES\"}]}, {\"c\": [{\"v\": \"9700: DEPT OF DEFENSE\"}, {\"v\": 3271065.56}, {\"v\": \"PALANTIR TECHNOLOGIES INC.\"}, {\"v\": \"IGF::OT::IGF CAG/GMSC FSR SUPPORT\"}]}, {\"c\": [{\"v\": \"9700: DEPT OF DEFENSE\"}, {\"v\": 3203190.77}, {\"v\": \"PALANTIR TECHNOLOGIES INC.\"}, {\"v\": \"IGF::OT::IGF, TWO (2) 8-CORE PERPETUAL LICENSES\"}]}], \"cols\": [{\"type\": \"string\", \"id\": \"agencyid\", \"label\": \"agencyid\"}, {\"type\": \"number\", \"id\": \"dollarsobligated\", \"label\": \"dollarsobligated\"}, {\"type\": \"string\", \"id\": \"vendorname\", \"label\": \"vendorname\"}, {\"type\": \"string\", \"id\": \"descriptionofcontractrequirement\", \"label\": \"descriptionofcontractrequirement\"}]});\n",
       "        }\n",
       "      );\n",
       "    </script>\n",
       "  "
      ],
      "text/plain": [
       "QueryResultsTable job_GHwVcGuA_3SqI6q4FiMMI4k9yqY"
      ]
     },
     "execution_count": 8,
     "metadata": {},
     "output_type": "execute_result"
    }
   ],
   "source": [
    "%%sql\n",
    "select\n",
    "  agencyid,\n",
    "  dollarsobligated,\n",
    "  vendorname,\n",
    "  descriptionofcontractrequirement\n",
    "from\n",
    "  gpqueries:contracts.raw\n",
    "where\n",
    "  vendorname contains 'tableau' or\n",
    "  vendorname contains 'socrata' or\n",
    "  vendorname contains 'palantir' or\n",
    "  vendorname contains 'revolution analytics' or\n",
    "  vendorname contains 'mathworks' or\n",
    "  vendorname contains 'statacorp' or\n",
    "  vendorname contains 'mathworks'\n",
    "order by\n",
    "  dollarsobligated desc\n",
    "limit\n",
    "  100\n",
    "ignore case"
   ]
  },
  {
   "cell_type": "markdown",
   "metadata": {},
   "source": [
    "### Searching Through Descriptions"
   ]
  },
  {
   "cell_type": "markdown",
   "metadata": {},
   "source": [
    "Full-text search and regular expressions for the variable `descriptionofcontractrequirement` narrow results for relevant product groups:"
   ]
  },
  {
   "cell_type": "code",
   "execution_count": 9,
   "metadata": {
    "collapsed": false
   },
   "outputs": [
    {
     "data": {
      "text/html": [
       "\n",
       "    <div class=\"bqtv\" id=\"6_146516669779\"><table><tr><th>agencyid</th><th>dollarsobligated</th><th>descriptionofcontractrequirement</th></tr><tr><td>9700: DEPT OF DEFENSE</td><td>5529.0</td><td>WEARABLE BODY CAMERA</td></tr><tr><td>1549: FEDERAL BUREAU OF INVESTIGATION</td><td>3978.0</td><td>BODY CAMERAS FOR WARM SPRINGS OFFICERS/DETECTIVES</td></tr><tr><td>7008: U.S. COAST GUARD</td><td>5154.21</td><td>POLICE BODY CAMERAS</td></tr><tr><td>1443: NATIONAL PARK SERVICE</td><td>12044.42</td><td>CACO WEARABLE BODY CAMERAS FOR THE LAW ENFORCEMENT RANGERS AT CAPE CODE NATIONAL SEASHORE</td></tr><tr><td>9700: DEPT OF DEFENSE</td><td>4315.0</td><td>NIKON D3 DIGITAL SLR BODY CAMERA</td></tr><tr><td>9700: DEPT OF DEFENSE</td><td>26285.6</td><td>BODY CAMERA'S</td></tr><tr><td>1443: NATIONAL PARK SERVICE</td><td>14605.4</td><td>VIEVU BODY CAMERAS</td></tr><tr><td>2036: BUREAU OF THE FISCAL SERVICE</td><td>23970.0</td><td>BODY CAMERAS</td></tr><tr><td>1443: NATIONAL PARK SERVICE</td><td>14850.0</td><td>LARO LE BODY CAMERAS</td></tr><tr><td>3600: VETERANS AFFAIRS, DEPARTMENT OF</td><td>5648.0</td><td>16 BODY CAMERAS FOR POLICE DEPT AT LEXINGTON VAMC</td></tr><tr><td>9700: DEPT OF DEFENSE</td><td>48667.5</td><td>DES BODY CAMERAS</td></tr><tr><td>9700: DEPT OF DEFENSE</td><td>58290.0</td><td>NIKON D300S BODY CAMERA</td></tr><tr><td>1443: NATIONAL PARK SERVICE</td><td>4855.03</td><td>MEVE-TASER AXON BODY CAMERAS</td></tr><tr><td>9700: DEPT OF DEFENSE</td><td>0.0</td><td>POLICE BODY CAMERA SYSTEM</td></tr><tr><td>1448: U.S. FISH AND WILDLIFE SERVICE</td><td>17133.6</td><td>RLE-15-0065-BODY CAMERAS</td></tr><tr><td>3600: VETERANS AFFAIRS, DEPARTMENT OF</td><td>7375.0</td><td>PURCHASE BODY CAMERAS FOR POLICE DEPARTMENT</td></tr><tr><td>1443: NATIONAL PARK SERVICE</td><td>8010.0</td><td>G: LOWTX, PURCHASE FIRSTVU BODY CAMERA(S)</td></tr><tr><td>1443: NATIONAL PARK SERVICE</td><td>0.0</td><td>X:NOGRN, WEARABLE BODY CAMERAS, BOSTON NATIONAL HISTORICAL PARK, CHARLESTOWN, MA, 02129</td></tr><tr><td>9700: DEPT OF DEFENSE</td><td>12989.34</td><td>IN-CAR AND BODY CAMERAS FOR POLICE DEPARTMENT</td></tr><tr><td>9700: DEPT OF DEFENSE</td><td>0.0</td><td>NIKON D300 BODY CAMERA,</td></tr><tr><td>7524: FOOD AND DRUG ADMINISTRATION</td><td>4420.0</td><td>IGF::OT::IGF BODY CAMERA</td></tr><tr><td>1448: U.S. FISH AND WILDLIFE SERVICE</td><td>68260.25</td><td>BODY CAMERAS FOR RLE IGF::OT::IGF</td></tr><tr><td>7009: U.S. SECRET SERVICE</td><td>6959.96</td><td>11-FSD-PR-NIKON D3X BODY CAMERA FOR USE IN THE FORENSICS SERVICES DIVISION.</td></tr><tr><td>9700: DEPT OF DEFENSE</td><td>22564.15</td><td>POLICE BODY CAMERA SYSTEM</td></tr><tr><td>1443: NATIONAL PARK SERVICE</td><td>9266.3</td><td>CANY-TASER BODY CAMERAS</td></tr></table></div>\n",
       "    <br />(rows: 53, time: 0.9s, cached, job: job_wIUPYZekHe4jwd-oHsy76OSUD4c)<br />\n",
       "    <script>\n",
       "      require(['extensions/charting', 'element!6_146516669779', 'style!/static/extensions/charting.css'],\n",
       "        function(charts, dom) {\n",
       "          charts.render(dom,\n",
       "            {\n",
       "              chartStyle:\"paged_table\",\n",
       "              dataName:\"5\",\n",
       "              fields:\"agencyid,dollarsobligated,descriptionofcontractrequirement\",\n",
       "              totalRows:53,\n",
       "              rowsPerPage:25,\n",
       "            }, {}, {\"rows\": [{\"c\": [{\"v\": \"9700: DEPT OF DEFENSE\"}, {\"v\": 5529.0}, {\"v\": \"WEARABLE BODY CAMERA\"}]}, {\"c\": [{\"v\": \"1549: FEDERAL BUREAU OF INVESTIGATION\"}, {\"v\": 3978.0}, {\"v\": \"BODY CAMERAS FOR WARM SPRINGS OFFICERS/DETECTIVES\"}]}, {\"c\": [{\"v\": \"7008: U.S. COAST GUARD\"}, {\"v\": 5154.21}, {\"v\": \"POLICE BODY CAMERAS\"}]}, {\"c\": [{\"v\": \"1443: NATIONAL PARK SERVICE\"}, {\"v\": 12044.42}, {\"v\": \"CACO WEARABLE BODY CAMERAS FOR THE LAW ENFORCEMENT RANGERS AT CAPE CODE NATIONAL SEASHORE\"}]}, {\"c\": [{\"v\": \"9700: DEPT OF DEFENSE\"}, {\"v\": 4315.0}, {\"v\": \"NIKON D3 DIGITAL SLR BODY CAMERA\"}]}, {\"c\": [{\"v\": \"9700: DEPT OF DEFENSE\"}, {\"v\": 26285.6}, {\"v\": \"BODY CAMERA'S\"}]}, {\"c\": [{\"v\": \"1443: NATIONAL PARK SERVICE\"}, {\"v\": 14605.4}, {\"v\": \"VIEVU BODY CAMERAS\"}]}, {\"c\": [{\"v\": \"2036: BUREAU OF THE FISCAL SERVICE\"}, {\"v\": 23970.0}, {\"v\": \"BODY CAMERAS\"}]}, {\"c\": [{\"v\": \"1443: NATIONAL PARK SERVICE\"}, {\"v\": 14850.0}, {\"v\": \"LARO LE BODY CAMERAS\"}]}, {\"c\": [{\"v\": \"3600: VETERANS AFFAIRS, DEPARTMENT OF\"}, {\"v\": 5648.0}, {\"v\": \"16 BODY CAMERAS FOR POLICE DEPT AT LEXINGTON VAMC\"}]}, {\"c\": [{\"v\": \"9700: DEPT OF DEFENSE\"}, {\"v\": 48667.5}, {\"v\": \"DES BODY CAMERAS\"}]}, {\"c\": [{\"v\": \"9700: DEPT OF DEFENSE\"}, {\"v\": 58290.0}, {\"v\": \"NIKON D300S BODY CAMERA\"}]}, {\"c\": [{\"v\": \"1443: NATIONAL PARK SERVICE\"}, {\"v\": 4855.03}, {\"v\": \"MEVE-TASER AXON BODY CAMERAS\"}]}, {\"c\": [{\"v\": \"9700: DEPT OF DEFENSE\"}, {\"v\": 0.0}, {\"v\": \"POLICE BODY CAMERA SYSTEM\"}]}, {\"c\": [{\"v\": \"1448: U.S. FISH AND WILDLIFE SERVICE\"}, {\"v\": 17133.6}, {\"v\": \"RLE-15-0065-BODY CAMERAS\"}]}, {\"c\": [{\"v\": \"3600: VETERANS AFFAIRS, DEPARTMENT OF\"}, {\"v\": 7375.0}, {\"v\": \"PURCHASE BODY CAMERAS FOR POLICE DEPARTMENT\"}]}, {\"c\": [{\"v\": \"1443: NATIONAL PARK SERVICE\"}, {\"v\": 8010.0}, {\"v\": \"G: LOWTX, PURCHASE FIRSTVU BODY CAMERA(S)\"}]}, {\"c\": [{\"v\": \"1443: NATIONAL PARK SERVICE\"}, {\"v\": 0.0}, {\"v\": \"X:NOGRN, WEARABLE BODY CAMERAS, BOSTON NATIONAL HISTORICAL PARK, CHARLESTOWN, MA, 02129\"}]}, {\"c\": [{\"v\": \"9700: DEPT OF DEFENSE\"}, {\"v\": 12989.34}, {\"v\": \"IN-CAR AND BODY CAMERAS FOR POLICE DEPARTMENT\"}]}, {\"c\": [{\"v\": \"9700: DEPT OF DEFENSE\"}, {\"v\": 0.0}, {\"v\": \"NIKON D300 BODY CAMERA,\"}]}, {\"c\": [{\"v\": \"7524: FOOD AND DRUG ADMINISTRATION\"}, {\"v\": 4420.0}, {\"v\": \"IGF::OT::IGF BODY CAMERA\"}]}, {\"c\": [{\"v\": \"1448: U.S. FISH AND WILDLIFE SERVICE\"}, {\"v\": 68260.25}, {\"v\": \"BODY CAMERAS FOR RLE IGF::OT::IGF\"}]}, {\"c\": [{\"v\": \"7009: U.S. SECRET SERVICE\"}, {\"v\": 6959.96}, {\"v\": \"11-FSD-PR-NIKON D3X BODY CAMERA FOR USE IN THE FORENSICS SERVICES DIVISION.\"}]}, {\"c\": [{\"v\": \"9700: DEPT OF DEFENSE\"}, {\"v\": 22564.15}, {\"v\": \"POLICE BODY CAMERA SYSTEM\"}]}, {\"c\": [{\"v\": \"1443: NATIONAL PARK SERVICE\"}, {\"v\": 9266.3}, {\"v\": \"CANY-TASER BODY CAMERAS\"}]}], \"cols\": [{\"type\": \"string\", \"id\": \"agencyid\", \"label\": \"agencyid\"}, {\"type\": \"number\", \"id\": \"dollarsobligated\", \"label\": \"dollarsobligated\"}, {\"type\": \"string\", \"id\": \"descriptionofcontractrequirement\", \"label\": \"descriptionofcontractrequirement\"}]});\n",
       "        }\n",
       "      );\n",
       "    </script>\n",
       "  "
      ],
      "text/plain": [
       "QueryResultsTable job_wIUPYZekHe4jwd-oHsy76OSUD4c"
      ]
     },
     "execution_count": 9,
     "metadata": {},
     "output_type": "execute_result"
    }
   ],
   "source": [
    "%%sql\n",
    "select\n",
    "  agencyid,\n",
    "  dollarsobligated,\n",
    "  descriptionofcontractrequirement\n",
    "from\n",
    "  gpqueries:contracts.raw\n",
    "where\n",
    "  descriptionofcontractrequirement contains 'body camera'\n",
    "limit\n",
    "  100\n",
    "ignore case"
   ]
  },
  {
   "cell_type": "markdown",
   "metadata": {},
   "source": [
    "Some rows of `descriptionofcontractrequirement` contain codes like \"IGF::CT::IGF\". These codes classify the purchase into three groups of \"[Inherently Governmental Functions](https://www.fpds.gov/fpdsng_cms/index.php/en/newsroom/108-nherently-governmental-functions.html)\" (IGF):\n",
    "\n",
    "1. IGF::CT::IGF for Critical Functions\n",
    "2. IGF::CL::IGF for Closely Associated\n",
    "3. IGF::OT::IGF for Other Functions"
   ]
  },
  {
   "cell_type": "markdown",
   "metadata": {},
   "source": [
    "### Narrowing Your Geography"
   ]
  },
  {
   "cell_type": "markdown",
   "metadata": {},
   "source": [
    "You can find local opportunities using variables for vendors (`city`, `state`) and services sold (`PlaceofPerformanceCity`, `pop_state_code`). The states where most contracts are delivered in:"
   ]
  },
  {
   "cell_type": "code",
   "execution_count": 10,
   "metadata": {
    "collapsed": false
   },
   "outputs": [
    {
     "data": {
      "text/html": [
       "\n",
       "    <div class=\"bqtv\" id=\"7_146516669984\"><table><tr><th>state_code</th><th>state_name</th><th>sum_dollarsobligated</th></tr><tr><td>CA</td><td> </td><td>7.12598903911e+11</td></tr><tr><td>VA</td><td> VIRGINIA</td><td>6.97817723705e+11</td></tr><tr><td>:</td><td></td><td>6.67791793514e+11</td></tr><tr><td>TX</td><td> TEXAS</td><td>5.12968110673e+11</td></tr><tr><td>MD</td><td> MARYLAND</td><td>3.51494588833e+11</td></tr><tr><td>DC</td><td> DISTRICT OF COLUMBIA</td><td>2.58102498463e+11</td></tr><tr><td>PA</td><td> PENNSYLVANIA</td><td>2.10745481833e+11</td></tr><tr><td>FL</td><td> FLORIDA</td><td>2.10241041129e+11</td></tr><tr><td>MA</td><td> MASSACHUSETTS</td><td>1.84166810727e+11</td></tr><tr><td>AZ</td><td> ARIZONA</td><td>1.68027358301e+11</td></tr><tr><td>CT</td><td> CONNECTICUT</td><td>1.6160664469e+11</td></tr><tr><td>MO</td><td> MISSOURI</td><td>1.58477274895e+11</td></tr><tr><td>NY</td><td> NEW YORK</td><td>1.50885801473e+11</td></tr><tr><td>WA</td><td> WASHINGTON</td><td>1.45630044425e+11</td></tr><tr><td>GA</td><td> GEORGIA</td><td>1.40264459673e+11</td></tr><tr><td>AL</td><td> ALABAMA</td><td>1.39065794738e+11</td></tr><tr><td>CO</td><td> COLORADO</td><td>1.19793072249e+11</td></tr><tr><td>IL</td><td> ILLINOIS</td><td>1.19266682187e+11</td></tr><tr><td>NM</td><td> NEW MEXICO</td><td>1.11178508246e+11</td></tr><tr><td>TN</td><td> TENNESSEE</td><td>1.08883193392e+11</td></tr><tr><td>OH</td><td> OHIO</td><td>1.07798459749e+11</td></tr><tr><td>NJ</td><td> NEW JERSEY</td><td>1.06487949719e+11</td></tr><tr><td>SC</td><td> SOUTH CAROLINA</td><td>87058229568.8</td></tr><tr><td>KY</td><td> KENTUCKY</td><td>85713398240.4</td></tr><tr><td>MI</td><td> MICHIGAN</td><td>81600382916.1</td></tr></table></div>\n",
       "    <br />(rows: 89, time: 1.5s, cached, job: job_xz8OgI40jd2GPlDk9J5fqZjxTDY)<br />\n",
       "    <script>\n",
       "      require(['extensions/charting', 'element!7_146516669984', 'style!/static/extensions/charting.css'],\n",
       "        function(charts, dom) {\n",
       "          charts.render(dom,\n",
       "            {\n",
       "              chartStyle:\"paged_table\",\n",
       "              dataName:\"6\",\n",
       "              fields:\"state_code,state_name,sum_dollarsobligated\",\n",
       "              totalRows:89,\n",
       "              rowsPerPage:25,\n",
       "            }, {}, {\"rows\": [{\"c\": [{\"v\": \"CA\"}, {\"v\": \" \"}, {\"v\": 712598903910.6709}]}, {\"c\": [{\"v\": \"VA\"}, {\"v\": \" VIRGINIA\"}, {\"v\": 697817723705.3901}]}, {\"c\": [{\"v\": \":\"}, {\"v\": \"\"}, {\"v\": 667791793513.7485}]}, {\"c\": [{\"v\": \"TX\"}, {\"v\": \" TEXAS\"}, {\"v\": 512968110672.57043}]}, {\"c\": [{\"v\": \"MD\"}, {\"v\": \" MARYLAND\"}, {\"v\": 351494588832.51935}]}, {\"c\": [{\"v\": \"DC\"}, {\"v\": \" DISTRICT OF COLUMBIA\"}, {\"v\": 258102498463.2103}]}, {\"c\": [{\"v\": \"PA\"}, {\"v\": \" PENNSYLVANIA\"}, {\"v\": 210745481833.37125}]}, {\"c\": [{\"v\": \"FL\"}, {\"v\": \" FLORIDA\"}, {\"v\": 210241041129.29965}]}, {\"c\": [{\"v\": \"MA\"}, {\"v\": \" MASSACHUSETTS\"}, {\"v\": 184166810726.58}]}, {\"c\": [{\"v\": \"AZ\"}, {\"v\": \" ARIZONA\"}, {\"v\": 168027358300.96024}]}, {\"c\": [{\"v\": \"CT\"}, {\"v\": \" CONNECTICUT\"}, {\"v\": 161606644689.70013}]}, {\"c\": [{\"v\": \"MO\"}, {\"v\": \" MISSOURI\"}, {\"v\": 158477274894.61005}]}, {\"c\": [{\"v\": \"NY\"}, {\"v\": \" NEW YORK\"}, {\"v\": 150885801472.92984}]}, {\"c\": [{\"v\": \"WA\"}, {\"v\": \" WASHINGTON\"}, {\"v\": 145630044425.0001}]}, {\"c\": [{\"v\": \"GA\"}, {\"v\": \" GEORGIA\"}, {\"v\": 140264459672.98993}]}, {\"c\": [{\"v\": \"AL\"}, {\"v\": \" ALABAMA\"}, {\"v\": 139065794738.24985}]}, {\"c\": [{\"v\": \"CO\"}, {\"v\": \" COLORADO\"}, {\"v\": 119793072248.78992}]}, {\"c\": [{\"v\": \"IL\"}, {\"v\": \" ILLINOIS\"}, {\"v\": 119266682186.78993}]}, {\"c\": [{\"v\": \"NM\"}, {\"v\": \" NEW MEXICO\"}, {\"v\": 111178508245.8199}]}, {\"c\": [{\"v\": \"TN\"}, {\"v\": \" TENNESSEE\"}, {\"v\": 108883193392.05989}]}, {\"c\": [{\"v\": \"OH\"}, {\"v\": \" OHIO\"}, {\"v\": 107798459749.37006}]}, {\"c\": [{\"v\": \"NJ\"}, {\"v\": \" NEW JERSEY\"}, {\"v\": 106487949719.40999}]}, {\"c\": [{\"v\": \"SC\"}, {\"v\": \" SOUTH CAROLINA\"}, {\"v\": 87058229568.83003}]}, {\"c\": [{\"v\": \"KY\"}, {\"v\": \" KENTUCKY\"}, {\"v\": 85713398240.40002}]}, {\"c\": [{\"v\": \"MI\"}, {\"v\": \" MICHIGAN\"}, {\"v\": 81600382916.09999}]}], \"cols\": [{\"type\": \"string\", \"id\": \"state_code\", \"label\": \"state_code\"}, {\"type\": \"string\", \"id\": \"state_name\", \"label\": \"state_name\"}, {\"type\": \"number\", \"id\": \"sum_dollarsobligated\", \"label\": \"sum_dollarsobligated\"}]});\n",
       "        }\n",
       "      );\n",
       "    </script>\n",
       "  "
      ],
      "text/plain": [
       "QueryResultsTable job_xz8OgI40jd2GPlDk9J5fqZjxTDY"
      ]
     },
     "execution_count": 10,
     "metadata": {},
     "output_type": "execute_result"
    }
   ],
   "source": [
    "%%sql\n",
    "select\n",
    "  substr(pop_state_code, 1, 2) state_code,\n",
    "  first(substr(pop_state_code, 4)) state_name,\n",
    "  sum(dollarsobligated) sum_dollarsobligated\n",
    "from\n",
    "  gpqueries:contracts.raw\n",
    "group by\n",
    "  state_code\n",
    "order by\n",
    "  sum_dollarsobligated desc"
   ]
  },
  {
   "cell_type": "markdown",
   "metadata": {},
   "source": [
    "## Facts about Government Contracting"
   ]
  },
  {
   "cell_type": "markdown",
   "metadata": {},
   "source": [
    "Let's check some popular statements about government contracting."
   ]
  },
  {
   "cell_type": "markdown",
   "metadata": {},
   "source": [
    "### Small Businesses Win Most Contracts"
   ]
  },
  {
   "cell_type": "markdown",
   "metadata": {},
   "source": [
    "Contractors had to report their revenue and the number of employees. It makes easy to check if small business is welcomed in government contracting:"
   ]
  },
  {
   "cell_type": "code",
   "execution_count": 11,
   "metadata": {
    "collapsed": false
   },
   "outputs": [],
   "source": [
    "%%sql --module gpq\n",
    "\n",
    "define query vendor_size_by_agency\n",
    "select\n",
    "  substr(agencyid, 1, 4) agency_id,\n",
    "  first(substr(agencyid, 7)) agency_name,\n",
    "  nth(11, quantiles(annualrevenue, 21)) vendor_median_annualrevenue,\n",
    "  nth(11, quantiles(numberofemployees, 21)) vendor_median_numberofemployees,\n",
    "  count(*) transactions,\n",
    "  sum(dollarsobligated) sum_dollarsobligated\n",
    "from\n",
    "  gpqueries:contracts.raw\n",
    "group by\n",
    "  agency_id\n",
    "having\n",
    "  transactions > 1000 and\n",
    "  sum_dollarsobligated > 10e6\n",
    "order by\n",
    "  vendor_median_annualrevenue asc"
   ]
  },
  {
   "cell_type": "code",
   "execution_count": 12,
   "metadata": {
    "collapsed": false
   },
   "outputs": [
    {
     "data": {
      "text/html": [
       "<div>\n",
       "<table border=\"1\" class=\"dataframe\">\n",
       "  <thead>\n",
       "    <tr style=\"text-align: right;\">\n",
       "      <th></th>\n",
       "      <th>agency_id</th>\n",
       "      <th>agency_name</th>\n",
       "      <th>vendor_median_annualrevenue</th>\n",
       "      <th>vendor_median_numberofemployees</th>\n",
       "      <th>transactions</th>\n",
       "      <th>sum_dollarsobligated</th>\n",
       "    </tr>\n",
       "  </thead>\n",
       "  <tbody>\n",
       "    <tr>\n",
       "      <th>0</th>\n",
       "      <td>1242</td>\n",
       "      <td>ANIMAL AND PLANT HEALTH INSPECTION SERVICE</td>\n",
       "      <td>0.0</td>\n",
       "      <td>0</td>\n",
       "      <td>1268</td>\n",
       "      <td>1.418465e+08</td>\n",
       "    </tr>\n",
       "    <tr>\n",
       "      <th>1</th>\n",
       "      <td>1528</td>\n",
       "      <td>IMMIGRATION AND NATURALIZATION SERVICE</td>\n",
       "      <td>0.0</td>\n",
       "      <td>0</td>\n",
       "      <td>4858</td>\n",
       "      <td>1.808390e+09</td>\n",
       "    </tr>\n",
       "    <tr>\n",
       "      <th>2</th>\n",
       "      <td>5800</td>\n",
       "      <td>FEDERAL EMERGENCY MANAGEMENT AGENCY</td>\n",
       "      <td>0.0</td>\n",
       "      <td>0</td>\n",
       "      <td>3857</td>\n",
       "      <td>7.360614e+08</td>\n",
       "    </tr>\n",
       "    <tr>\n",
       "      <th>3</th>\n",
       "      <td>1900</td>\n",
       "      <td>STATE, DEPARTMENT OF</td>\n",
       "      <td>1000.0</td>\n",
       "      <td>10</td>\n",
       "      <td>906835</td>\n",
       "      <td>9.612514e+10</td>\n",
       "    </tr>\n",
       "    <tr>\n",
       "      <th>4</th>\n",
       "      <td>9568</td>\n",
       "      <td>BROADCASTING BOARD OF GOVERNORS</td>\n",
       "      <td>1000.0</td>\n",
       "      <td>1</td>\n",
       "      <td>86580</td>\n",
       "      <td>1.719051e+09</td>\n",
       "    </tr>\n",
       "    <tr>\n",
       "      <th>5</th>\n",
       "      <td>7200</td>\n",
       "      <td>AGENCY FOR INTERNATIONAL DEVELOPMENT</td>\n",
       "      <td>1000.0</td>\n",
       "      <td>10</td>\n",
       "      <td>112903</td>\n",
       "      <td>5.683631e+10</td>\n",
       "    </tr>\n",
       "    <tr>\n",
       "      <th>6</th>\n",
       "      <td>2800</td>\n",
       "      <td>SOCIAL SECURITY ADMINISTRATION</td>\n",
       "      <td>81000.0</td>\n",
       "      <td>1</td>\n",
       "      <td>140669</td>\n",
       "      <td>1.636968e+10</td>\n",
       "    </tr>\n",
       "    <tr>\n",
       "      <th>7</th>\n",
       "      <td>1226</td>\n",
       "      <td>FOREST SERVICE</td>\n",
       "      <td>100000.0</td>\n",
       "      <td>2</td>\n",
       "      <td>24686</td>\n",
       "      <td>1.554254e+09</td>\n",
       "    </tr>\n",
       "    <tr>\n",
       "      <th>8</th>\n",
       "      <td>12E3</td>\n",
       "      <td>RURAL HOUSING SERVICE</td>\n",
       "      <td>110000.0</td>\n",
       "      <td>2</td>\n",
       "      <td>87659</td>\n",
       "      <td>1.124532e+09</td>\n",
       "    </tr>\n",
       "    <tr>\n",
       "      <th>9</th>\n",
       "      <td>2028</td>\n",
       "      <td>U.S. SECRET SERVICE</td>\n",
       "      <td>110000.0</td>\n",
       "      <td>2</td>\n",
       "      <td>1144</td>\n",
       "      <td>1.870609e+08</td>\n",
       "    </tr>\n",
       "    <tr>\n",
       "      <th>10</th>\n",
       "      <td>2001</td>\n",
       "      <td>DEPARTMENTAL OFFICES</td>\n",
       "      <td>128000.0</td>\n",
       "      <td>5</td>\n",
       "      <td>17514</td>\n",
       "      <td>2.408785e+09</td>\n",
       "    </tr>\n",
       "    <tr>\n",
       "      <th>11</th>\n",
       "      <td>4500</td>\n",
       "      <td>EQUAL EMPLOYMENT OPPORTUNITY COMMISSION</td>\n",
       "      <td>150000.0</td>\n",
       "      <td>3</td>\n",
       "      <td>32309</td>\n",
       "      <td>7.296316e+08</td>\n",
       "    </tr>\n",
       "    <tr>\n",
       "      <th>12</th>\n",
       "      <td>9524</td>\n",
       "      <td>NATIONAL MEDIATION BOARD</td>\n",
       "      <td>150000.0</td>\n",
       "      <td>2</td>\n",
       "      <td>1578</td>\n",
       "      <td>1.539304e+07</td>\n",
       "    </tr>\n",
       "    <tr>\n",
       "      <th>13</th>\n",
       "      <td>1560</td>\n",
       "      <td>ATF ACQUISITION AND PROPERTY MGMT DIV</td>\n",
       "      <td>500000.0</td>\n",
       "      <td>7</td>\n",
       "      <td>43268</td>\n",
       "      <td>2.834267e+09</td>\n",
       "    </tr>\n",
       "    <tr>\n",
       "      <th>14</th>\n",
       "      <td>1227</td>\n",
       "      <td>SOIL CONSERVATION SERVICE</td>\n",
       "      <td>600000.0</td>\n",
       "      <td>10</td>\n",
       "      <td>1202</td>\n",
       "      <td>2.188730e+08</td>\n",
       "    </tr>\n",
       "    <tr>\n",
       "      <th>15</th>\n",
       "      <td>2026</td>\n",
       "      <td>FINANCIAL CRIME ENFORCEMENT NETWORK</td>\n",
       "      <td>700000.0</td>\n",
       "      <td>10</td>\n",
       "      <td>5555</td>\n",
       "      <td>1.951988e+09</td>\n",
       "    </tr>\n",
       "    <tr>\n",
       "      <th>16</th>\n",
       "      <td>2022</td>\n",
       "      <td>ALCOHOL AND TOBACCO TAX AND TRADE BUREAU</td>\n",
       "      <td>757000.0</td>\n",
       "      <td>11</td>\n",
       "      <td>1850</td>\n",
       "      <td>3.831141e+08</td>\n",
       "    </tr>\n",
       "    <tr>\n",
       "      <th>17</th>\n",
       "      <td>12C2</td>\n",
       "      <td>FOREST SERVICE</td>\n",
       "      <td>850000.0</td>\n",
       "      <td>10</td>\n",
       "      <td>431521</td>\n",
       "      <td>1.722469e+10</td>\n",
       "    </tr>\n",
       "    <tr>\n",
       "      <th>18</th>\n",
       "      <td>7520</td>\n",
       "      <td>PUBLIC HEALTH SERVICE</td>\n",
       "      <td>890000.0</td>\n",
       "      <td>11</td>\n",
       "      <td>10775</td>\n",
       "      <td>1.076623e+09</td>\n",
       "    </tr>\n",
       "    <tr>\n",
       "      <th>19</th>\n",
       "      <td>6950</td>\n",
       "      <td>UNITED STATES COAST GUARD</td>\n",
       "      <td>1100000.0</td>\n",
       "      <td>15</td>\n",
       "      <td>25750</td>\n",
       "      <td>2.632710e+09</td>\n",
       "    </tr>\n",
       "    <tr>\n",
       "      <th>20</th>\n",
       "      <td>1422</td>\n",
       "      <td>BUREAU OF LAND MANAGEMENT</td>\n",
       "      <td>1100000.0</td>\n",
       "      <td>12</td>\n",
       "      <td>173546</td>\n",
       "      <td>4.997679e+09</td>\n",
       "    </tr>\n",
       "    <tr>\n",
       "      <th>21</th>\n",
       "      <td>2024</td>\n",
       "      <td>FEDERAL LAW ENFORCEMENT TRAINING CENTER</td>\n",
       "      <td>1100000.0</td>\n",
       "      <td>20</td>\n",
       "      <td>3227</td>\n",
       "      <td>2.085935e+08</td>\n",
       "    </tr>\n",
       "    <tr>\n",
       "      <th>22</th>\n",
       "      <td>6100</td>\n",
       "      <td>CONSUMER PRODUCT SAFETY COMMISSION</td>\n",
       "      <td>1100000.0</td>\n",
       "      <td>26</td>\n",
       "      <td>11533</td>\n",
       "      <td>2.786294e+08</td>\n",
       "    </tr>\n",
       "    <tr>\n",
       "      <th>23</th>\n",
       "      <td>1438</td>\n",
       "      <td>OFFICE OF SURFACE MINING, RECLAMATION AND ENFO...</td>\n",
       "      <td>1100000.0</td>\n",
       "      <td>10</td>\n",
       "      <td>11108</td>\n",
       "      <td>1.894074e+08</td>\n",
       "    </tr>\n",
       "    <tr>\n",
       "      <th>24</th>\n",
       "      <td>1153</td>\n",
       "      <td>UNITED STATES TRADE AND DEVELOPMENT AGENCY</td>\n",
       "      <td>1183519.0</td>\n",
       "      <td>10</td>\n",
       "      <td>2032</td>\n",
       "      <td>1.256019e+08</td>\n",
       "    </tr>\n",
       "    <tr>\n",
       "      <th>25</th>\n",
       "      <td>1230</td>\n",
       "      <td>AGRICULTURAL RESEARCH SERVICE</td>\n",
       "      <td>1300000.0</td>\n",
       "      <td>12</td>\n",
       "      <td>3171</td>\n",
       "      <td>3.087970e+08</td>\n",
       "    </tr>\n",
       "    <tr>\n",
       "      <th>26</th>\n",
       "      <td>2046</td>\n",
       "      <td>OFFICE OF THE COMPTROLLER OF THE CURRENCY</td>\n",
       "      <td>1400000.0</td>\n",
       "      <td>22</td>\n",
       "      <td>14898</td>\n",
       "      <td>1.668664e+09</td>\n",
       "    </tr>\n",
       "    <tr>\n",
       "      <th>27</th>\n",
       "      <td>1603</td>\n",
       "      <td>OFFICE OF THE SOLICITOR</td>\n",
       "      <td>1440000.0</td>\n",
       "      <td>21</td>\n",
       "      <td>1748</td>\n",
       "      <td>5.414278e+07</td>\n",
       "    </tr>\n",
       "    <tr>\n",
       "      <th>28</th>\n",
       "      <td>4740</td>\n",
       "      <td>PUBLIC BUILDINGS SERVICE</td>\n",
       "      <td>1573150.0</td>\n",
       "      <td>7</td>\n",
       "      <td>1488711</td>\n",
       "      <td>9.933295e+10</td>\n",
       "    </tr>\n",
       "    <tr>\n",
       "      <th>29</th>\n",
       "      <td>12C3</td>\n",
       "      <td>NATURAL RESOURCES CONSERVATION SERVICE</td>\n",
       "      <td>1631681.0</td>\n",
       "      <td>20</td>\n",
       "      <td>44705</td>\n",
       "      <td>1.585386e+09</td>\n",
       "    </tr>\n",
       "    <tr>\n",
       "      <th>...</th>\n",
       "      <td>...</td>\n",
       "      <td>...</td>\n",
       "      <td>...</td>\n",
       "      <td>...</td>\n",
       "      <td>...</td>\n",
       "      <td>...</td>\n",
       "    </tr>\n",
       "    <tr>\n",
       "      <th>121</th>\n",
       "      <td>2044</td>\n",
       "      <td>UNITED STATES MINT</td>\n",
       "      <td>10000000.0</td>\n",
       "      <td>50</td>\n",
       "      <td>53574</td>\n",
       "      <td>3.109847e+10</td>\n",
       "    </tr>\n",
       "    <tr>\n",
       "      <th>122</th>\n",
       "      <td>2700</td>\n",
       "      <td>FEDERAL COMMUNICATIONS COMMISSION</td>\n",
       "      <td>10000000.0</td>\n",
       "      <td>130</td>\n",
       "      <td>9954</td>\n",
       "      <td>1.160409e+09</td>\n",
       "    </tr>\n",
       "    <tr>\n",
       "      <th>123</th>\n",
       "      <td>9507</td>\n",
       "      <td>COMMODITY FUTURES TRADING COMMISSION</td>\n",
       "      <td>10500000.0</td>\n",
       "      <td>140</td>\n",
       "      <td>5559</td>\n",
       "      <td>5.247360e+08</td>\n",
       "    </tr>\n",
       "    <tr>\n",
       "      <th>124</th>\n",
       "      <td>4705</td>\n",
       "      <td>OFFICE OF THE ADMINISTRATOR(ACMD)</td>\n",
       "      <td>11000000.0</td>\n",
       "      <td>91</td>\n",
       "      <td>5894</td>\n",
       "      <td>1.319038e+09</td>\n",
       "    </tr>\n",
       "    <tr>\n",
       "      <th>125</th>\n",
       "      <td>7529</td>\n",
       "      <td>NATIONAL INSTITUTES OF HEALTH</td>\n",
       "      <td>11000000.0</td>\n",
       "      <td>115</td>\n",
       "      <td>401609</td>\n",
       "      <td>6.319064e+10</td>\n",
       "    </tr>\n",
       "    <tr>\n",
       "      <th>126</th>\n",
       "      <td>1540</td>\n",
       "      <td>FEDERAL PRISON SYSTEM</td>\n",
       "      <td>11000000.0</td>\n",
       "      <td>70</td>\n",
       "      <td>1019429</td>\n",
       "      <td>3.446292e+10</td>\n",
       "    </tr>\n",
       "    <tr>\n",
       "      <th>127</th>\n",
       "      <td>1665</td>\n",
       "      <td>PENSION BENEFIT GUARANTY CORPORATION</td>\n",
       "      <td>11000000.0</td>\n",
       "      <td>200</td>\n",
       "      <td>12647</td>\n",
       "      <td>3.141358e+09</td>\n",
       "    </tr>\n",
       "    <tr>\n",
       "      <th>128</th>\n",
       "      <td>7003</td>\n",
       "      <td>U.S. CITIZENSHIP AND IMMIGRATION SERVICES</td>\n",
       "      <td>11000000.0</td>\n",
       "      <td>72</td>\n",
       "      <td>37832</td>\n",
       "      <td>8.801395e+09</td>\n",
       "    </tr>\n",
       "    <tr>\n",
       "      <th>129</th>\n",
       "      <td>1344</td>\n",
       "      <td>PATENT AND TRADEMARK OFFICE</td>\n",
       "      <td>11000645.0</td>\n",
       "      <td>88</td>\n",
       "      <td>30012</td>\n",
       "      <td>8.576179e+09</td>\n",
       "    </tr>\n",
       "    <tr>\n",
       "      <th>130</th>\n",
       "      <td>3355</td>\n",
       "      <td>NATIONAL GALLERY OF ART</td>\n",
       "      <td>11500000.0</td>\n",
       "      <td>52</td>\n",
       "      <td>4034</td>\n",
       "      <td>3.882365e+08</td>\n",
       "    </tr>\n",
       "    <tr>\n",
       "      <th>131</th>\n",
       "      <td>6000</td>\n",
       "      <td>RAILROAD RETIREMENT BOARD</td>\n",
       "      <td>12000000.0</td>\n",
       "      <td>130</td>\n",
       "      <td>5483</td>\n",
       "      <td>2.725028e+08</td>\n",
       "    </tr>\n",
       "    <tr>\n",
       "      <th>132</th>\n",
       "      <td>19BM</td>\n",
       "      <td>INTERNATIONAL BOUNDARY AND WATER COMMISSION: U...</td>\n",
       "      <td>13209362.0</td>\n",
       "      <td>97</td>\n",
       "      <td>4832</td>\n",
       "      <td>6.288717e+08</td>\n",
       "    </tr>\n",
       "    <tr>\n",
       "      <th>133</th>\n",
       "      <td>8961</td>\n",
       "      <td>FEDERAL ENERGY REGULATORY COMMISSION</td>\n",
       "      <td>14996000.0</td>\n",
       "      <td>58</td>\n",
       "      <td>5678</td>\n",
       "      <td>5.596401e+08</td>\n",
       "    </tr>\n",
       "    <tr>\n",
       "      <th>134</th>\n",
       "      <td>4704</td>\n",
       "      <td>OFFICE OF INSPECTOR GENERAL</td>\n",
       "      <td>15000000.0</td>\n",
       "      <td>70</td>\n",
       "      <td>1134</td>\n",
       "      <td>3.663729e+07</td>\n",
       "    </tr>\n",
       "    <tr>\n",
       "      <th>135</th>\n",
       "      <td>3600</td>\n",
       "      <td>VETERANS AFFAIRS, DEPARTMENT OF</td>\n",
       "      <td>15000000.0</td>\n",
       "      <td>149</td>\n",
       "      <td>5285240</td>\n",
       "      <td>2.059998e+11</td>\n",
       "    </tr>\n",
       "    <tr>\n",
       "      <th>136</th>\n",
       "      <td>4732</td>\n",
       "      <td>FEDERAL ACQUISITION SERVICE</td>\n",
       "      <td>15000000.0</td>\n",
       "      <td>57</td>\n",
       "      <td>1413873</td>\n",
       "      <td>2.911922e+10</td>\n",
       "    </tr>\n",
       "    <tr>\n",
       "      <th>137</th>\n",
       "      <td>8000</td>\n",
       "      <td>NATIONAL AERONAUTICS AND SPACE ADMINISTRATION</td>\n",
       "      <td>18000000.0</td>\n",
       "      <td>180</td>\n",
       "      <td>446963</td>\n",
       "      <td>2.112742e+11</td>\n",
       "    </tr>\n",
       "    <tr>\n",
       "      <th>138</th>\n",
       "      <td>1549</td>\n",
       "      <td>FEDERAL BUREAU OF INVESTIGATION</td>\n",
       "      <td>18000000.0</td>\n",
       "      <td>100</td>\n",
       "      <td>72815</td>\n",
       "      <td>1.711656e+10</td>\n",
       "    </tr>\n",
       "    <tr>\n",
       "      <th>139</th>\n",
       "      <td>12D2</td>\n",
       "      <td>FARM SERVICE AGENCY</td>\n",
       "      <td>18000000.0</td>\n",
       "      <td>100</td>\n",
       "      <td>35722</td>\n",
       "      <td>1.874517e+10</td>\n",
       "    </tr>\n",
       "    <tr>\n",
       "      <th>140</th>\n",
       "      <td>6940</td>\n",
       "      <td>NATIONAL HIGHWAY TRAFFIC SAFETY ADMINISTRATION</td>\n",
       "      <td>19000000.0</td>\n",
       "      <td>120</td>\n",
       "      <td>12252</td>\n",
       "      <td>1.890718e+09</td>\n",
       "    </tr>\n",
       "    <tr>\n",
       "      <th>141</th>\n",
       "      <td>6930</td>\n",
       "      <td>FEDERAL RAILROAD ADMINISTRATION</td>\n",
       "      <td>20000000.0</td>\n",
       "      <td>579</td>\n",
       "      <td>12444</td>\n",
       "      <td>8.030557e+08</td>\n",
       "    </tr>\n",
       "    <tr>\n",
       "      <th>142</th>\n",
       "      <td>0559</td>\n",
       "      <td>GAO, EXCEPT COMPTROLLER GENERAL</td>\n",
       "      <td>20201548.0</td>\n",
       "      <td>189</td>\n",
       "      <td>2728</td>\n",
       "      <td>4.145613e+08</td>\n",
       "    </tr>\n",
       "    <tr>\n",
       "      <th>143</th>\n",
       "      <td>7001</td>\n",
       "      <td>OFFICE OF PROCUREMENT OPERATIONS</td>\n",
       "      <td>20828724.0</td>\n",
       "      <td>383</td>\n",
       "      <td>71728</td>\n",
       "      <td>2.463028e+10</td>\n",
       "    </tr>\n",
       "    <tr>\n",
       "      <th>144</th>\n",
       "      <td>7505</td>\n",
       "      <td>OFFICE OF ASSISTANT SECRETARY FOR ADMINISTRATI...</td>\n",
       "      <td>26106972.0</td>\n",
       "      <td>304</td>\n",
       "      <td>5181</td>\n",
       "      <td>1.413397e+10</td>\n",
       "    </tr>\n",
       "    <tr>\n",
       "      <th>145</th>\n",
       "      <td>9000</td>\n",
       "      <td>SELECTIVE SERVICE SYSTEM</td>\n",
       "      <td>30457000.0</td>\n",
       "      <td>300</td>\n",
       "      <td>1141</td>\n",
       "      <td>2.356269e+07</td>\n",
       "    </tr>\n",
       "    <tr>\n",
       "      <th>146</th>\n",
       "      <td>7528</td>\n",
       "      <td>AGENCY FOR HEALTHCARE RESEARCH AND QUALITY</td>\n",
       "      <td>32800000.0</td>\n",
       "      <td>1200</td>\n",
       "      <td>6719</td>\n",
       "      <td>2.759358e+09</td>\n",
       "    </tr>\n",
       "    <tr>\n",
       "      <th>147</th>\n",
       "      <td>1436</td>\n",
       "      <td>BUREAU OF SAFETY AND ENVIRONMENTAL ENFORCEMENT</td>\n",
       "      <td>32850550.0</td>\n",
       "      <td>141</td>\n",
       "      <td>2958</td>\n",
       "      <td>2.827946e+08</td>\n",
       "    </tr>\n",
       "    <tr>\n",
       "      <th>148</th>\n",
       "      <td>1524</td>\n",
       "      <td>DRUG ENFORCEMENT ADMINISTRATION</td>\n",
       "      <td>40000000.0</td>\n",
       "      <td>350</td>\n",
       "      <td>261796</td>\n",
       "      <td>6.429977e+09</td>\n",
       "    </tr>\n",
       "    <tr>\n",
       "      <th>149</th>\n",
       "      <td>12K2</td>\n",
       "      <td>AGRICULTURAL MARKETING SERVICE</td>\n",
       "      <td>50000000.0</td>\n",
       "      <td>296</td>\n",
       "      <td>22835</td>\n",
       "      <td>1.623015e+10</td>\n",
       "    </tr>\n",
       "    <tr>\n",
       "      <th>150</th>\n",
       "      <td>1544</td>\n",
       "      <td>U.S. MARSHALS SERVICE</td>\n",
       "      <td>120000000.0</td>\n",
       "      <td>2000</td>\n",
       "      <td>78441</td>\n",
       "      <td>7.840888e+09</td>\n",
       "    </tr>\n",
       "  </tbody>\n",
       "</table>\n",
       "<p>151 rows × 6 columns</p>\n",
       "</div>"
      ],
      "text/plain": [
       "    agency_id                                        agency_name  \\\n",
       "0        1242         ANIMAL AND PLANT HEALTH INSPECTION SERVICE   \n",
       "1        1528             IMMIGRATION AND NATURALIZATION SERVICE   \n",
       "2        5800                FEDERAL EMERGENCY MANAGEMENT AGENCY   \n",
       "3        1900                               STATE, DEPARTMENT OF   \n",
       "4        9568                    BROADCASTING BOARD OF GOVERNORS   \n",
       "5        7200               AGENCY FOR INTERNATIONAL DEVELOPMENT   \n",
       "6        2800                     SOCIAL SECURITY ADMINISTRATION   \n",
       "7        1226                                     FOREST SERVICE   \n",
       "8        12E3                              RURAL HOUSING SERVICE   \n",
       "9        2028                                U.S. SECRET SERVICE   \n",
       "10       2001                               DEPARTMENTAL OFFICES   \n",
       "11       4500            EQUAL EMPLOYMENT OPPORTUNITY COMMISSION   \n",
       "12       9524                           NATIONAL MEDIATION BOARD   \n",
       "13       1560              ATF ACQUISITION AND PROPERTY MGMT DIV   \n",
       "14       1227                          SOIL CONSERVATION SERVICE   \n",
       "15       2026                FINANCIAL CRIME ENFORCEMENT NETWORK   \n",
       "16       2022           ALCOHOL AND TOBACCO TAX AND TRADE BUREAU   \n",
       "17       12C2                                     FOREST SERVICE   \n",
       "18       7520                              PUBLIC HEALTH SERVICE   \n",
       "19       6950                          UNITED STATES COAST GUARD   \n",
       "20       1422                          BUREAU OF LAND MANAGEMENT   \n",
       "21       2024            FEDERAL LAW ENFORCEMENT TRAINING CENTER   \n",
       "22       6100                 CONSUMER PRODUCT SAFETY COMMISSION   \n",
       "23       1438  OFFICE OF SURFACE MINING, RECLAMATION AND ENFO...   \n",
       "24       1153         UNITED STATES TRADE AND DEVELOPMENT AGENCY   \n",
       "25       1230                      AGRICULTURAL RESEARCH SERVICE   \n",
       "26       2046          OFFICE OF THE COMPTROLLER OF THE CURRENCY   \n",
       "27       1603                            OFFICE OF THE SOLICITOR   \n",
       "28       4740                           PUBLIC BUILDINGS SERVICE   \n",
       "29       12C3             NATURAL RESOURCES CONSERVATION SERVICE   \n",
       "..        ...                                                ...   \n",
       "121      2044                                 UNITED STATES MINT   \n",
       "122      2700                  FEDERAL COMMUNICATIONS COMMISSION   \n",
       "123      9507               COMMODITY FUTURES TRADING COMMISSION   \n",
       "124      4705                  OFFICE OF THE ADMINISTRATOR(ACMD)   \n",
       "125      7529                      NATIONAL INSTITUTES OF HEALTH   \n",
       "126      1540                              FEDERAL PRISON SYSTEM   \n",
       "127      1665               PENSION BENEFIT GUARANTY CORPORATION   \n",
       "128      7003          U.S. CITIZENSHIP AND IMMIGRATION SERVICES   \n",
       "129      1344                        PATENT AND TRADEMARK OFFICE   \n",
       "130      3355                            NATIONAL GALLERY OF ART   \n",
       "131      6000                          RAILROAD RETIREMENT BOARD   \n",
       "132      19BM  INTERNATIONAL BOUNDARY AND WATER COMMISSION: U...   \n",
       "133      8961               FEDERAL ENERGY REGULATORY COMMISSION   \n",
       "134      4704                        OFFICE OF INSPECTOR GENERAL   \n",
       "135      3600                    VETERANS AFFAIRS, DEPARTMENT OF   \n",
       "136      4732                        FEDERAL ACQUISITION SERVICE   \n",
       "137      8000      NATIONAL AERONAUTICS AND SPACE ADMINISTRATION   \n",
       "138      1549                    FEDERAL BUREAU OF INVESTIGATION   \n",
       "139      12D2                                FARM SERVICE AGENCY   \n",
       "140      6940     NATIONAL HIGHWAY TRAFFIC SAFETY ADMINISTRATION   \n",
       "141      6930                    FEDERAL RAILROAD ADMINISTRATION   \n",
       "142      0559                    GAO, EXCEPT COMPTROLLER GENERAL   \n",
       "143      7001                   OFFICE OF PROCUREMENT OPERATIONS   \n",
       "144      7505  OFFICE OF ASSISTANT SECRETARY FOR ADMINISTRATI...   \n",
       "145      9000                           SELECTIVE SERVICE SYSTEM   \n",
       "146      7528         AGENCY FOR HEALTHCARE RESEARCH AND QUALITY   \n",
       "147      1436     BUREAU OF SAFETY AND ENVIRONMENTAL ENFORCEMENT   \n",
       "148      1524                    DRUG ENFORCEMENT ADMINISTRATION   \n",
       "149      12K2                     AGRICULTURAL MARKETING SERVICE   \n",
       "150      1544                              U.S. MARSHALS SERVICE   \n",
       "\n",
       "     vendor_median_annualrevenue  vendor_median_numberofemployees  \\\n",
       "0                            0.0                                0   \n",
       "1                            0.0                                0   \n",
       "2                            0.0                                0   \n",
       "3                         1000.0                               10   \n",
       "4                         1000.0                                1   \n",
       "5                         1000.0                               10   \n",
       "6                        81000.0                                1   \n",
       "7                       100000.0                                2   \n",
       "8                       110000.0                                2   \n",
       "9                       110000.0                                2   \n",
       "10                      128000.0                                5   \n",
       "11                      150000.0                                3   \n",
       "12                      150000.0                                2   \n",
       "13                      500000.0                                7   \n",
       "14                      600000.0                               10   \n",
       "15                      700000.0                               10   \n",
       "16                      757000.0                               11   \n",
       "17                      850000.0                               10   \n",
       "18                      890000.0                               11   \n",
       "19                     1100000.0                               15   \n",
       "20                     1100000.0                               12   \n",
       "21                     1100000.0                               20   \n",
       "22                     1100000.0                               26   \n",
       "23                     1100000.0                               10   \n",
       "24                     1183519.0                               10   \n",
       "25                     1300000.0                               12   \n",
       "26                     1400000.0                               22   \n",
       "27                     1440000.0                               21   \n",
       "28                     1573150.0                                7   \n",
       "29                     1631681.0                               20   \n",
       "..                           ...                              ...   \n",
       "121                   10000000.0                               50   \n",
       "122                   10000000.0                              130   \n",
       "123                   10500000.0                              140   \n",
       "124                   11000000.0                               91   \n",
       "125                   11000000.0                              115   \n",
       "126                   11000000.0                               70   \n",
       "127                   11000000.0                              200   \n",
       "128                   11000000.0                               72   \n",
       "129                   11000645.0                               88   \n",
       "130                   11500000.0                               52   \n",
       "131                   12000000.0                              130   \n",
       "132                   13209362.0                               97   \n",
       "133                   14996000.0                               58   \n",
       "134                   15000000.0                               70   \n",
       "135                   15000000.0                              149   \n",
       "136                   15000000.0                               57   \n",
       "137                   18000000.0                              180   \n",
       "138                   18000000.0                              100   \n",
       "139                   18000000.0                              100   \n",
       "140                   19000000.0                              120   \n",
       "141                   20000000.0                              579   \n",
       "142                   20201548.0                              189   \n",
       "143                   20828724.0                              383   \n",
       "144                   26106972.0                              304   \n",
       "145                   30457000.0                              300   \n",
       "146                   32800000.0                             1200   \n",
       "147                   32850550.0                              141   \n",
       "148                   40000000.0                              350   \n",
       "149                   50000000.0                              296   \n",
       "150                  120000000.0                             2000   \n",
       "\n",
       "     transactions  sum_dollarsobligated  \n",
       "0            1268          1.418465e+08  \n",
       "1            4858          1.808390e+09  \n",
       "2            3857          7.360614e+08  \n",
       "3          906835          9.612514e+10  \n",
       "4           86580          1.719051e+09  \n",
       "5          112903          5.683631e+10  \n",
       "6          140669          1.636968e+10  \n",
       "7           24686          1.554254e+09  \n",
       "8           87659          1.124532e+09  \n",
       "9            1144          1.870609e+08  \n",
       "10          17514          2.408785e+09  \n",
       "11          32309          7.296316e+08  \n",
       "12           1578          1.539304e+07  \n",
       "13          43268          2.834267e+09  \n",
       "14           1202          2.188730e+08  \n",
       "15           5555          1.951988e+09  \n",
       "16           1850          3.831141e+08  \n",
       "17         431521          1.722469e+10  \n",
       "18          10775          1.076623e+09  \n",
       "19          25750          2.632710e+09  \n",
       "20         173546          4.997679e+09  \n",
       "21           3227          2.085935e+08  \n",
       "22          11533          2.786294e+08  \n",
       "23          11108          1.894074e+08  \n",
       "24           2032          1.256019e+08  \n",
       "25           3171          3.087970e+08  \n",
       "26          14898          1.668664e+09  \n",
       "27           1748          5.414278e+07  \n",
       "28        1488711          9.933295e+10  \n",
       "29          44705          1.585386e+09  \n",
       "..            ...                   ...  \n",
       "121         53574          3.109847e+10  \n",
       "122          9954          1.160409e+09  \n",
       "123          5559          5.247360e+08  \n",
       "124          5894          1.319038e+09  \n",
       "125        401609          6.319064e+10  \n",
       "126       1019429          3.446292e+10  \n",
       "127         12647          3.141358e+09  \n",
       "128         37832          8.801395e+09  \n",
       "129         30012          8.576179e+09  \n",
       "130          4034          3.882365e+08  \n",
       "131          5483          2.725028e+08  \n",
       "132          4832          6.288717e+08  \n",
       "133          5678          5.596401e+08  \n",
       "134          1134          3.663729e+07  \n",
       "135       5285240          2.059998e+11  \n",
       "136       1413873          2.911922e+10  \n",
       "137        446963          2.112742e+11  \n",
       "138         72815          1.711656e+10  \n",
       "139         35722          1.874517e+10  \n",
       "140         12252          1.890718e+09  \n",
       "141         12444          8.030557e+08  \n",
       "142          2728          4.145613e+08  \n",
       "143         71728          2.463028e+10  \n",
       "144          5181          1.413397e+10  \n",
       "145          1141          2.356269e+07  \n",
       "146          6719          2.759358e+09  \n",
       "147          2958          2.827946e+08  \n",
       "148        261796          6.429977e+09  \n",
       "149         22835          1.623015e+10  \n",
       "150         78441          7.840888e+09  \n",
       "\n",
       "[151 rows x 6 columns]"
      ]
     },
     "execution_count": 12,
     "metadata": {},
     "output_type": "execute_result"
    }
   ],
   "source": [
    "bq.Query(gpq.vendor_size_by_agency).to_dataframe()"
   ]
  },
  {
   "cell_type": "markdown",
   "metadata": {},
   "source": [
    "The median shows the most likely supplier. Agencies on the top of the table actively employ vendors whose annual revenue is less than $1mn.\n",
    "\n",
    "The Department of Defence, the largest buyer with $4.5tn worth of goods and services bought over these 17 years, has the median vendor with $2.5mn in revenue and 20 employees. It means that half of the DoD's vendors have less than $2.5mn in revenue."
   ]
  },
  {
   "cell_type": "markdown",
   "metadata": {},
   "source": [
    "### Set-Aside Deals Take a Small Share"
   ]
  },
  {
   "cell_type": "markdown",
   "metadata": {},
   "source": [
    "Set-aside purchases are reserved for special categories of suppliers, like women-, minority-, and veteran-owned businesses. There's a lot of confusion about their share in transactions. We can settle this confusion with data:"
   ]
  },
  {
   "cell_type": "code",
   "execution_count": 13,
   "metadata": {
    "collapsed": false
   },
   "outputs": [
    {
     "data": {
      "text/html": [
       "\n",
       "    <div class=\"bqtv\" id=\"8_146516670452\"><table><tr><th>womenownedflag</th><th>transactions</th><th>sum_dollarsobligated</th></tr><tr><td>N</td><td>40191975</td><td>6.4051823538e+12</td></tr><tr><td>Y</td><td>4308966</td><td>2.48395258992e+11</td></tr></table></div>\n",
       "    <br />(rows: 2, time: 1.8s, cached, job: job_iOFnq8ieeeHX2gxQWTCCr4ZOEuE)<br />\n",
       "    <script>\n",
       "      require(['extensions/charting', 'element!8_146516670452', 'style!/static/extensions/charting.css'],\n",
       "        function(charts, dom) {\n",
       "          charts.render(dom,\n",
       "            {\n",
       "              chartStyle:\"table\",\n",
       "              dataName:\"7\",\n",
       "              fields:\"womenownedflag,transactions,sum_dollarsobligated\",\n",
       "              totalRows:2,\n",
       "              rowsPerPage:25,\n",
       "            }, {}, {\"rows\": [{\"c\": [{\"v\": \"N\"}, {\"v\": 40191975}, {\"v\": 6405182353804.281}]}, {\"c\": [{\"v\": \"Y\"}, {\"v\": 4308966}, {\"v\": 248395258992.29}]}], \"cols\": [{\"type\": \"string\", \"id\": \"womenownedflag\", \"label\": \"womenownedflag\"}, {\"type\": \"number\", \"id\": \"transactions\", \"label\": \"transactions\"}, {\"type\": \"number\", \"id\": \"sum_dollarsobligated\", \"label\": \"sum_dollarsobligated\"}]});\n",
       "        }\n",
       "      );\n",
       "    </script>\n",
       "  "
      ],
      "text/plain": [
       "QueryResultsTable job_iOFnq8ieeeHX2gxQWTCCr4ZOEuE"
      ]
     },
     "execution_count": 13,
     "metadata": {},
     "output_type": "execute_result"
    }
   ],
   "source": [
    "%%sql\n",
    "select\n",
    "  womenownedflag,\n",
    "  count(*) transactions,\n",
    "  sum(dollarsobligated) sum_dollarsobligated\n",
    "from\n",
    "  gpqueries:contracts.raw\n",
    "group by\n",
    "  womenownedflag"
   ]
  },
  {
   "cell_type": "markdown",
   "metadata": {},
   "source": [
    "Women-owned businesses make about one tenth of the transactions, but their share in terms of sales is only 3.7%.\n",
    "\n",
    "A cross-tabulation for major set-aside categories:"
   ]
  },
  {
   "cell_type": "code",
   "execution_count": 14,
   "metadata": {
    "collapsed": false
   },
   "outputs": [
    {
     "data": {
      "text/html": [
       "\n",
       "    <div class=\"bqtv\" id=\"9_146516670582\"><table><tr><th>womenownedflag</th><th>veteranownedflag</th><th>minorityownedbusinessflag</th><th>transactions</th><th>sum_dollarsobligated</th></tr><tr><td>N</td><td>N</td><td>Y</td><td>2051978</td><td>2.70617792041e+11</td></tr><tr><td>N</td><td>N</td><td>N</td><td>35286333</td><td>5.91438262215e+12</td></tr><tr><td>N</td><td>Y</td><td>Y</td><td>494617</td><td>61028950046.2</td></tr><tr><td>N</td><td>Y</td><td>N</td><td>2359047</td><td>1.59152989569e+11</td></tr><tr><td>Y</td><td>N</td><td>Y</td><td>862336</td><td>80295343639.0</td></tr><tr><td>Y</td><td>N</td><td>N</td><td>3265163</td><td>1.53867438135e+11</td></tr><tr><td>Y</td><td>Y</td><td>Y</td><td>62597</td><td>5086157754.65</td></tr><tr><td>Y</td><td>Y</td><td>N</td><td>118870</td><td>9146319463.28</td></tr></table></div>\n",
       "    <br />(rows: 8, time: 0.6s, cached, job: job_Qh4DhmZZecFIWeF7Wlah0cQwfSM)<br />\n",
       "    <script>\n",
       "      require(['extensions/charting', 'element!9_146516670582', 'style!/static/extensions/charting.css'],\n",
       "        function(charts, dom) {\n",
       "          charts.render(dom,\n",
       "            {\n",
       "              chartStyle:\"table\",\n",
       "              dataName:\"8\",\n",
       "              fields:\"womenownedflag,veteranownedflag,minorityownedbusinessflag,transactions,sum_dollarsobligated\",\n",
       "              totalRows:8,\n",
       "              rowsPerPage:25,\n",
       "            }, {}, {\"rows\": [{\"c\": [{\"v\": \"N\"}, {\"v\": \"N\"}, {\"v\": \"Y\"}, {\"v\": 2051978}, {\"v\": 270617792041.41986}]}, {\"c\": [{\"v\": \"N\"}, {\"v\": \"N\"}, {\"v\": \"N\"}, {\"v\": 35286333}, {\"v\": 5914382622147.547}]}, {\"c\": [{\"v\": \"N\"}, {\"v\": \"Y\"}, {\"v\": \"Y\"}, {\"v\": 494617}, {\"v\": 61028950046.22998}]}, {\"c\": [{\"v\": \"N\"}, {\"v\": \"Y\"}, {\"v\": \"N\"}, {\"v\": 2359047}, {\"v\": 159152989569.08}]}, {\"c\": [{\"v\": \"Y\"}, {\"v\": \"N\"}, {\"v\": \"Y\"}, {\"v\": 862336}, {\"v\": 80295343639.02997}]}, {\"c\": [{\"v\": \"Y\"}, {\"v\": \"N\"}, {\"v\": \"N\"}, {\"v\": 3265163}, {\"v\": 153867438135.33017}]}, {\"c\": [{\"v\": \"Y\"}, {\"v\": \"Y\"}, {\"v\": \"Y\"}, {\"v\": 62597}, {\"v\": 5086157754.6500025}]}, {\"c\": [{\"v\": \"Y\"}, {\"v\": \"Y\"}, {\"v\": \"N\"}, {\"v\": 118870}, {\"v\": 9146319463.28}]}], \"cols\": [{\"type\": \"string\", \"id\": \"womenownedflag\", \"label\": \"womenownedflag\"}, {\"type\": \"string\", \"id\": \"veteranownedflag\", \"label\": \"veteranownedflag\"}, {\"type\": \"string\", \"id\": \"minorityownedbusinessflag\", \"label\": \"minorityownedbusinessflag\"}, {\"type\": \"number\", \"id\": \"transactions\", \"label\": \"transactions\"}, {\"type\": \"number\", \"id\": \"sum_dollarsobligated\", \"label\": \"sum_dollarsobligated\"}]});\n",
       "        }\n",
       "      );\n",
       "    </script>\n",
       "  "
      ],
      "text/plain": [
       "QueryResultsTable job_Qh4DhmZZecFIWeF7Wlah0cQwfSM"
      ]
     },
     "execution_count": 14,
     "metadata": {},
     "output_type": "execute_result"
    }
   ],
   "source": [
    "%%sql\n",
    "select\n",
    "  womenownedflag, veteranownedflag, minorityownedbusinessflag,\n",
    "  count(*) transactions,\n",
    "  sum(dollarsobligated) sum_dollarsobligated\n",
    "from\n",
    "  gpqueries:contracts.raw\n",
    "group by\n",
    "  womenownedflag, veteranownedflag, minorityownedbusinessflag\n",
    "order by\n",
    "  womenownedflag, veteranownedflag, minorityownedbusinessflag desc"
   ]
  },
  {
   "cell_type": "markdown",
   "metadata": {},
   "source": [
    "For example, firms owned by women, veterans, and minorities (all represented at the same time) sell $5bn in goods and services. That's 0.07% of all government purchases."
   ]
  },
  {
   "cell_type": "markdown",
   "metadata": {},
   "source": [
    "### New Vendors Emerge Each Year"
   ]
  },
  {
   "cell_type": "markdown",
   "metadata": {},
   "source": [
    "Becoming a government contractor may seem difficult at first, but let's see how many new contractors the government had in 2015."
   ]
  },
  {
   "cell_type": "code",
   "execution_count": 15,
   "metadata": {
    "collapsed": false
   },
   "outputs": [
    {
     "data": {
      "text/html": [
       "\n",
       "    <div class=\"bqtv\" id=\"10_146516670749\"><table><tr><th>new_vendors</th><th>old_vendors</th></tr><tr><td>18258</td><td>131537</td></tr></table></div>\n",
       "    <br />(rows: 1, time: 0.7s, cached, job: job_OjFASl4YsdPFMqmG63vz8lXqgzc)<br />\n",
       "    <script>\n",
       "      require(['extensions/charting', 'element!10_146516670749', 'style!/static/extensions/charting.css'],\n",
       "        function(charts, dom) {\n",
       "          charts.render(dom,\n",
       "            {\n",
       "              chartStyle:\"table\",\n",
       "              dataName:\"9\",\n",
       "              fields:\"new_vendors,old_vendors\",\n",
       "              totalRows:1,\n",
       "              rowsPerPage:25,\n",
       "            }, {}, {\"rows\": [{\"c\": [{\"v\": 18258}, {\"v\": 131537}]}], \"cols\": [{\"type\": \"number\", \"id\": \"new_vendors\", \"label\": \"new_vendors\"}, {\"type\": \"number\", \"id\": \"old_vendors\", \"label\": \"old_vendors\"}]});\n",
       "        }\n",
       "      );\n",
       "    </script>\n",
       "  "
      ],
      "text/plain": [
       "QueryResultsTable job_OjFASl4YsdPFMqmG63vz8lXqgzc"
      ]
     },
     "execution_count": 15,
     "metadata": {},
     "output_type": "execute_result"
    }
   ],
   "source": [
    "%%sql\n",
    "select\n",
    "  sum(if(before2015.dunsnumber is null, 1, 0)) new_vendors,\n",
    "  sum(if(before2015.dunsnumber is null, 0, 1)) old_vendors\n",
    "from\n",
    "  flatten((select unique(dunsnumber) dunsnumber from gpqueries:contracts.raw where fiscal_year = 2015), dunsnumber) in2015\n",
    "left join\n",
    "  flatten((select unique(dunsnumber) dunsnumber from gpqueries:contracts.raw where fiscal_year < 2015), dunsnumber) before2015\n",
    "  on before2015.dunsnumber = in2015.dunsnumber"
   ]
  },
  {
   "cell_type": "markdown",
   "metadata": {},
   "source": [
    "(The variable `dunsnumber` refers to the unique number each contractor obtains at [SAM.gov](https://www.sam.gov/portal/SAM/). It identifies unique contractors better than `vendorname`, which varies.)\n",
    "\n",
    "In 2015, 12% of the suppliers turned out to be companies that had never sold to the government."
   ]
  },
  {
   "cell_type": "markdown",
   "metadata": {},
   "source": [
    "## More\n",
    "\n",
    "This was a short intro to government contracting data.\n",
    "\n",
    "For more, check the [Government Procurement Queries](https://github.com/antontarasenko/gpq) project."
   ]
  },
  {
   "cell_type": "markdown",
   "metadata": {},
   "source": [
    "## Contacts"
   ]
  },
  {
   "cell_type": "markdown",
   "metadata": {},
   "source": [
    "Anton Tarasenko\n",
    "\n",
    "<mailto:antontarasenko@gmail.com>\n",
    "\n",
    "<http://antontarasenko.com>\n",
    "\n"
   ]
  }
 ],
 "metadata": {
  "kernelspec": {
   "display_name": "Python 2",
   "language": "python",
   "name": "python2"
  },
  "language_info": {
   "codemirror_mode": {
    "name": "ipython",
    "version": 2
   },
   "file_extension": ".py",
   "mimetype": "text/x-python",
   "name": "python",
   "nbconvert_exporter": "python",
   "pygments_lexer": "ipython2",
   "version": "2.7.9"
  }
 },
 "nbformat": 4,
 "nbformat_minor": 0
}
