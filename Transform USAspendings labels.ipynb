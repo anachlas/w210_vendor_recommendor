{
 "cells": [
  {
   "cell_type": "markdown",
   "metadata": {},
   "source": [
    "# Relabelling USA spending field to integers in order to run Spark"
   ]
  },
  {
   "cell_type": "code",
   "execution_count": 1,
   "metadata": {
    "collapsed": true
   },
   "outputs": [],
   "source": [
    "import google.datalab.bigquery as bq"
   ]
  },
  {
   "cell_type": "code",
   "execution_count": 3,
   "metadata": {
    "collapsed": false
   },
   "outputs": [
    {
     "data": {
      "text/html": [
       "\n",
       "    <div class=\"bqtv\" id=\"1_150024818829\"><table><tr><th>contractingofficerbusinesssizedetermination</th><th>mod_agency</th><th>vendorname</th><th>count</th></tr><tr><td>O: OTHER THAN SMALL BUSINESS</td><td>97AS: DEFENSE LOGISTICS AGENCY</td><td>AMERISOURCEBERGEN DRUG CORPORA</td><td>676166</td></tr><tr><td>O: OTHER THAN SMALL BUSINESS</td><td>97AS: DEFENSE LOGISTICS AGENCY</td><td>CARDINAL HEALTH 200, LLC</td><td>419654</td></tr><tr><td>O: OTHER THAN SMALL BUSINESS</td><td>97AS: DEFENSE LOGISTICS AGENCY</td><td>CARDINAL HEALTH, INC</td><td>318861</td></tr><tr><td>O: OTHER THAN SMALL BUSINESS</td><td>4730: FEDERAL ACQUISITION SERVICE</td><td>NATIONAL INDUSTRIES FOR THE BLIND</td><td>308991</td></tr><tr><td>O: OTHER THAN SMALL BUSINESS</td><td>97AS: DEFENSE LOGISTICS AGENCY</td><td>OWENS &amp; MINOR DISTRIBUTION, INC.</td><td>262205</td></tr><tr><td>O: OTHER THAN SMALL BUSINESS</td><td>97AS: DEFENSE LOGISTICS AGENCY</td><td>AMERISOURCEBERGEN DRUG CORPORATION</td><td>243671</td></tr><tr><td>O: OTHER THAN SMALL BUSINESS</td><td>1900: STATE, DEPARTMENT OF</td><td>MISCELLANEOUS FOREIGN CONTRACTORS</td><td>237245</td></tr><tr><td>O: OTHER THAN SMALL BUSINESS</td><td>97AS: DEFENSE LOGISTICS AGENCY</td><td>SCIENCE APPLICATIONS INTERNATIONAL CORPORATION</td><td>218120</td></tr><tr><td>O: OTHER THAN SMALL BUSINESS</td><td>1900: STATE, DEPARTMENT OF</td><td>MISCELLANEOUS FOREIGN AWARDEES</td><td>217609</td></tr><tr><td>O: OTHER THAN SMALL BUSINESS</td><td>4730: FEDERAL ACQUISITION SERVICE</td><td>J &amp; L AMERICA INC</td><td>210475</td></tr><tr><td>O: OTHER THAN SMALL BUSINESS</td><td>2100: DEPT OF THE ARMY</td><td>MISCELLANEOUS FOREIGN CONTRACTORS</td><td>200091</td></tr><tr><td>S: SMALL BUSINESS</td><td>4730: FEDERAL ACQUISITION SERVICE</td><td>KAUFMAN COMPANY INC</td><td>190028</td></tr><tr><td>O: OTHER THAN SMALL BUSINESS</td><td>4730: FEDERAL ACQUISITION SERVICE</td><td>OFFICEMAX INCORPORATED</td><td>177307</td></tr><tr><td>O: OTHER THAN SMALL BUSINESS</td><td>4730: FEDERAL ACQUISITION SERVICE</td><td>IDSC HOLDING LIMITED LIABILITY COMPANY</td><td>168934</td></tr><tr><td>S: SMALL BUSINESS</td><td>4730: FEDERAL ACQUISITION SERVICE</td><td>KAUFMAN COMPANY INCORPORATED</td><td>168796</td></tr><tr><td>S: SMALL BUSINESS</td><td>4730: FEDERAL ACQUISITION SERVICE</td><td>NATIONAL INDUSTRIES FOR THE BLIND</td><td>160980</td></tr><tr><td>O: OTHER THAN SMALL BUSINESS</td><td>4730: FEDERAL ACQUISITION SERVICE</td><td>BOISE CASCADE OFFICE PRODUCTS</td><td>155104</td></tr><tr><td>O: OTHER THAN SMALL BUSINESS</td><td>97AS: DEFENSE LOGISTICS AGENCY</td><td>MCKESSON CORPORATION</td><td>142845</td></tr><tr><td>O: OTHER THAN SMALL BUSINESS</td><td>97AS: DEFENSE LOGISTICS AGENCY</td><td>LOCKHEED MARTIN CORPORATION</td><td>123176</td></tr><tr><td>S: SMALL BUSINESS</td><td>97AS: DEFENSE LOGISTICS AGENCY</td><td>SUPPLYCORE INC.</td><td>108350</td></tr><tr><td>O: OTHER THAN SMALL BUSINESS</td><td>3600: VETERANS AFFAIRS, DEPARTMENT OF</td><td>CARDINAL HEALTH 200 INCORPORATED THE MEDICAL PRODUCTS AND SERVICES GROUP OF CAR</td><td>108246</td></tr><tr><td>O: OTHER THAN SMALL BUSINESS</td><td>4730: FEDERAL ACQUISITION SERVICE</td><td>W W GRAINGER, INC</td><td>106331</td></tr><tr><td>O: OTHER THAN SMALL BUSINESS</td><td>4730: FEDERAL ACQUISITION SERVICE</td><td>GENERAL MOTORS CORPORATION</td><td>103171</td></tr><tr><td>O: OTHER THAN SMALL BUSINESS</td><td>4732: FEDERAL ACQUISITION SERVICE</td><td>NATIONAL INDUSTRIES FOR THE BLIND</td><td>94107</td></tr><tr><td>O: OTHER THAN SMALL BUSINESS</td><td>4730: FEDERAL ACQUISITION SERVICE</td><td>FORD MOTOR COMPANY</td><td>82619</td></tr></table></div>\n",
       "    <br />(rows: 100, time: 2.9s,     5GB processed, job: job_hD7RmHPOc8l8UkWW1Z7SF55xZWA)<br />\n",
       "    <script>\n",
       "\n",
       "      require.config({\n",
       "        paths: {\n",
       "          d3: '//cdnjs.cloudflare.com/ajax/libs/d3/3.4.13/d3',\n",
       "          plotly: 'https://cdn.plot.ly/plotly-1.5.1.min.js?noext',\n",
       "          jquery: '//ajax.googleapis.com/ajax/libs/jquery/2.0.0/jquery.min'\n",
       "        },\n",
       "        map: {\n",
       "          '*': {\n",
       "            datalab: 'nbextensions/gcpdatalab'\n",
       "          }\n",
       "        },\n",
       "        shim: {\n",
       "          plotly: {\n",
       "            deps: ['d3', 'jquery'],\n",
       "            exports: 'plotly'\n",
       "          }\n",
       "        }\n",
       "      });\n",
       "\n",
       "      require(['datalab/charting', 'datalab/element!1_150024818829', 'base/js/events',\n",
       "          'datalab/style!/nbextensions/gcpdatalab/charting.css'],\n",
       "        function(charts, dom, events) {\n",
       "          charts.render('gcharts', dom, events, 'paged_table', [], {\"rows\": [{\"c\": [{\"v\": \"O: OTHER THAN SMALL BUSINESS\"}, {\"v\": \"97AS: DEFENSE LOGISTICS AGENCY\"}, {\"v\": \"AMERISOURCEBERGEN DRUG CORPORA\"}, {\"v\": 676166}]}, {\"c\": [{\"v\": \"O: OTHER THAN SMALL BUSINESS\"}, {\"v\": \"97AS: DEFENSE LOGISTICS AGENCY\"}, {\"v\": \"CARDINAL HEALTH 200, LLC\"}, {\"v\": 419654}]}, {\"c\": [{\"v\": \"O: OTHER THAN SMALL BUSINESS\"}, {\"v\": \"97AS: DEFENSE LOGISTICS AGENCY\"}, {\"v\": \"CARDINAL HEALTH, INC\"}, {\"v\": 318861}]}, {\"c\": [{\"v\": \"O: OTHER THAN SMALL BUSINESS\"}, {\"v\": \"4730: FEDERAL ACQUISITION SERVICE\"}, {\"v\": \"NATIONAL INDUSTRIES FOR THE BLIND\"}, {\"v\": 308991}]}, {\"c\": [{\"v\": \"O: OTHER THAN SMALL BUSINESS\"}, {\"v\": \"97AS: DEFENSE LOGISTICS AGENCY\"}, {\"v\": \"OWENS & MINOR DISTRIBUTION, INC.\"}, {\"v\": 262205}]}, {\"c\": [{\"v\": \"O: OTHER THAN SMALL BUSINESS\"}, {\"v\": \"97AS: DEFENSE LOGISTICS AGENCY\"}, {\"v\": \"AMERISOURCEBERGEN DRUG CORPORATION\"}, {\"v\": 243671}]}, {\"c\": [{\"v\": \"O: OTHER THAN SMALL BUSINESS\"}, {\"v\": \"1900: STATE, DEPARTMENT OF\"}, {\"v\": \"MISCELLANEOUS FOREIGN CONTRACTORS\"}, {\"v\": 237245}]}, {\"c\": [{\"v\": \"O: OTHER THAN SMALL BUSINESS\"}, {\"v\": \"97AS: DEFENSE LOGISTICS AGENCY\"}, {\"v\": \"SCIENCE APPLICATIONS INTERNATIONAL CORPORATION\"}, {\"v\": 218120}]}, {\"c\": [{\"v\": \"O: OTHER THAN SMALL BUSINESS\"}, {\"v\": \"1900: STATE, DEPARTMENT OF\"}, {\"v\": \"MISCELLANEOUS FOREIGN AWARDEES\"}, {\"v\": 217609}]}, {\"c\": [{\"v\": \"O: OTHER THAN SMALL BUSINESS\"}, {\"v\": \"4730: FEDERAL ACQUISITION SERVICE\"}, {\"v\": \"J & L AMERICA INC\"}, {\"v\": 210475}]}, {\"c\": [{\"v\": \"O: OTHER THAN SMALL BUSINESS\"}, {\"v\": \"2100: DEPT OF THE ARMY\"}, {\"v\": \"MISCELLANEOUS FOREIGN CONTRACTORS\"}, {\"v\": 200091}]}, {\"c\": [{\"v\": \"S: SMALL BUSINESS\"}, {\"v\": \"4730: FEDERAL ACQUISITION SERVICE\"}, {\"v\": \"KAUFMAN COMPANY INC\"}, {\"v\": 190028}]}, {\"c\": [{\"v\": \"O: OTHER THAN SMALL BUSINESS\"}, {\"v\": \"4730: FEDERAL ACQUISITION SERVICE\"}, {\"v\": \"OFFICEMAX INCORPORATED\"}, {\"v\": 177307}]}, {\"c\": [{\"v\": \"O: OTHER THAN SMALL BUSINESS\"}, {\"v\": \"4730: FEDERAL ACQUISITION SERVICE\"}, {\"v\": \"IDSC HOLDING LIMITED LIABILITY COMPANY\"}, {\"v\": 168934}]}, {\"c\": [{\"v\": \"S: SMALL BUSINESS\"}, {\"v\": \"4730: FEDERAL ACQUISITION SERVICE\"}, {\"v\": \"KAUFMAN COMPANY INCORPORATED\"}, {\"v\": 168796}]}, {\"c\": [{\"v\": \"S: SMALL BUSINESS\"}, {\"v\": \"4730: FEDERAL ACQUISITION SERVICE\"}, {\"v\": \"NATIONAL INDUSTRIES FOR THE BLIND\"}, {\"v\": 160980}]}, {\"c\": [{\"v\": \"O: OTHER THAN SMALL BUSINESS\"}, {\"v\": \"4730: FEDERAL ACQUISITION SERVICE\"}, {\"v\": \"BOISE CASCADE OFFICE PRODUCTS\"}, {\"v\": 155104}]}, {\"c\": [{\"v\": \"O: OTHER THAN SMALL BUSINESS\"}, {\"v\": \"97AS: DEFENSE LOGISTICS AGENCY\"}, {\"v\": \"MCKESSON CORPORATION\"}, {\"v\": 142845}]}, {\"c\": [{\"v\": \"O: OTHER THAN SMALL BUSINESS\"}, {\"v\": \"97AS: DEFENSE LOGISTICS AGENCY\"}, {\"v\": \"LOCKHEED MARTIN CORPORATION\"}, {\"v\": 123176}]}, {\"c\": [{\"v\": \"S: SMALL BUSINESS\"}, {\"v\": \"97AS: DEFENSE LOGISTICS AGENCY\"}, {\"v\": \"SUPPLYCORE INC.\"}, {\"v\": 108350}]}, {\"c\": [{\"v\": \"O: OTHER THAN SMALL BUSINESS\"}, {\"v\": \"3600: VETERANS AFFAIRS, DEPARTMENT OF\"}, {\"v\": \"CARDINAL HEALTH 200 INCORPORATED THE MEDICAL PRODUCTS AND SERVICES GROUP OF CAR\"}, {\"v\": 108246}]}, {\"c\": [{\"v\": \"O: OTHER THAN SMALL BUSINESS\"}, {\"v\": \"4730: FEDERAL ACQUISITION SERVICE\"}, {\"v\": \"W W GRAINGER, INC\"}, {\"v\": 106331}]}, {\"c\": [{\"v\": \"O: OTHER THAN SMALL BUSINESS\"}, {\"v\": \"4730: FEDERAL ACQUISITION SERVICE\"}, {\"v\": \"GENERAL MOTORS CORPORATION\"}, {\"v\": 103171}]}, {\"c\": [{\"v\": \"O: OTHER THAN SMALL BUSINESS\"}, {\"v\": \"4732: FEDERAL ACQUISITION SERVICE\"}, {\"v\": \"NATIONAL INDUSTRIES FOR THE BLIND\"}, {\"v\": 94107}]}, {\"c\": [{\"v\": \"O: OTHER THAN SMALL BUSINESS\"}, {\"v\": \"4730: FEDERAL ACQUISITION SERVICE\"}, {\"v\": \"FORD MOTOR COMPANY\"}, {\"v\": 82619}]}], \"cols\": [{\"type\": \"string\", \"id\": \"contractingofficerbusinesssizedetermination\", \"label\": \"contractingofficerbusinesssizedetermination\"}, {\"type\": \"string\", \"id\": \"mod_agency\", \"label\": \"mod_agency\"}, {\"type\": \"string\", \"id\": \"vendorname\", \"label\": \"vendorname\"}, {\"type\": \"number\", \"id\": \"count\", \"label\": \"count\"}]},\n",
       "            {\n",
       "              pageSize: 25,\n",
       "              cssClassNames:  {\n",
       "                tableRow: 'gchart-table-row',\n",
       "                headerRow: 'gchart-table-headerrow',\n",
       "                oddTableRow: 'gchart-table-oddrow',\n",
       "                selectedTableRow: 'gchart-table-selectedrow',\n",
       "                hoverTableRow: 'gchart-table-hoverrow',\n",
       "                tableCell: 'gchart-table-cell',\n",
       "                headerCell: 'gchart-table-headercell',\n",
       "                rowNumberCell: 'gchart-table-rownumcell'\n",
       "              }\n",
       "            },\n",
       "            {source_index: 0, fields: 'contractingofficerbusinesssizedetermination,mod_agency,vendorname,count'},\n",
       "            0,\n",
       "            100);\n",
       "        }\n",
       "      );\n",
       "    </script>\n",
       "  "
      ],
      "text/plain": [
       "QueryResultsTable job_hD7RmHPOc8l8UkWW1Z7SF55xZWA"
      ]
     },
     "execution_count": 3,
     "metadata": {},
     "output_type": "execute_result"
    }
   ],
   "source": [
    "%%bq query\n",
    "select\n",
    "mod_agency,\n",
    "vendorname,\n",
    "count(*) as count\n",
    "from `fiery-set-171213.vrec.usa_spending_all`\n",
    "where vendorcountrycode in ('UNITED STATES', 'USA: UNITED STATES OF AMERICA')\n",
    "and contractingofficerbusinesssizedetermination in ('O: OTHER THAN SMALL BUSINESS', 'S: SMALL BUSINESS')\n",
    "and mod_agency not in (\"\")\n",
    "group by 1,2,3\n",
    "order by count DESC\n",
    "limit 100"
   ]
  },
  {
   "cell_type": "markdown",
   "metadata": {},
   "source": [
    "## usa_mod_agency_relabel"
   ]
  },
  {
   "cell_type": "code",
   "execution_count": 11,
   "metadata": {
    "collapsed": false
   },
   "outputs": [
    {
     "data": {
      "text/html": [
       "\n",
       "    <div class=\"bqtv\" id=\"5_150024841974\"><table><tr><th>user</th><th>user_row_num</th></tr><tr><td>9568: BROADCASTING BOARD OF GOVERNORS</td><td>34</td></tr><tr><td>2024: FEDERAL LAW ENFORCEMENT TRAINING CENTER</td><td>172</td></tr><tr><td>1438: OFFICE OF SURFACE MINING, RECLAMATION AND ENFORCEMENT</td><td>220</td></tr><tr><td>9514: OCCUPATIONAL SAFETY AND HEALTH REVIEW COMMISSION</td><td>49</td></tr><tr><td>6930: FEDERAL RAILROAD ADMINISTRATION</td><td>115</td></tr><tr><td>1650: OCCUPATIONAL SAFETY AND HEALTH ADMINISTRATION</td><td>184</td></tr><tr><td>1645: MINE SAFETY AND HEALTH ADMINISTRATION</td><td>185</td></tr><tr><td>1630: EMPLOYMENT AND TRAINING ADMINISTRATION</td><td>188</td></tr><tr><td>1425: BUREAU OF RECLAMATION</td><td>226</td></tr><tr><td>1153: UNITED STATES TRADE AND DEVELOPMENT AGENCY</td><td>278</td></tr><tr><td>9776: USTRANSCOM</td><td>21</td></tr><tr><td>8656: OFFICE OF FEDERAL HOUSING ENTERPRISE OVERSIGHT</td><td>64</td></tr><tr><td>7501: IMMED OFFICE OF THE SECRETARY OF HEALTH AND HUMAN SERVICES</td><td>89</td></tr><tr><td>6957: PIPELINE AND HAZARDOUS MATERIALS SAFETY ADMINISTRATON</td><td>107</td></tr><tr><td>2041: BUREAU OF ENGRAVING AND PRINTING</td><td>167</td></tr><tr><td>12K3: ANIMAL AND PLANT HEALTH INSPECTION SERVICE</td><td>248</td></tr><tr><td>97F5: WASHINGTON HEADQUARTERS SERVICES (WHS)</td><td>6</td></tr><tr><td>97AV: DEFENSE SECURITY SERVICE</td><td>14</td></tr><tr><td>955F: CONSUMER FINANCIAL PROTECTION BUREAU</td><td>37</td></tr><tr><td>6959: FEDERAL MOTOR CARRIER SAFETY ADMINISTRATION</td><td>106</td></tr><tr><td>6943: RESEARCH AND INNOVATIVE TECHNOLOGY ADMINISTRATION</td><td>112</td></tr><tr><td>1352: MINORITY BUSINESS DEVELOPMENT AGENCY</td><td>232</td></tr><tr><td>1304: OFFICE OF THE INSPECTOR GENERAL</td><td>245</td></tr><tr><td>97BZ: DEFENSE FINANCE AND ACCOUNTING SERVICE (DFAS)</td><td>12</td></tr><tr><td>96CE: U.S. ARMY CORPS OF ENGINEERS - CIVIL PROGRAM FINANCING ONLY</td><td>30</td></tr></table></div>\n",
       "    <br />(rows: 285, time: 1.9s,     1GB processed, job: job_8Cbb_dnPK8HlraYLbtxg2eASFcg)<br />\n",
       "    <script>\n",
       "\n",
       "      require.config({\n",
       "        paths: {\n",
       "          d3: '//cdnjs.cloudflare.com/ajax/libs/d3/3.4.13/d3',\n",
       "          plotly: 'https://cdn.plot.ly/plotly-1.5.1.min.js?noext',\n",
       "          jquery: '//ajax.googleapis.com/ajax/libs/jquery/2.0.0/jquery.min'\n",
       "        },\n",
       "        map: {\n",
       "          '*': {\n",
       "            datalab: 'nbextensions/gcpdatalab'\n",
       "          }\n",
       "        },\n",
       "        shim: {\n",
       "          plotly: {\n",
       "            deps: ['d3', 'jquery'],\n",
       "            exports: 'plotly'\n",
       "          }\n",
       "        }\n",
       "      });\n",
       "\n",
       "      require(['datalab/charting', 'datalab/element!5_150024841974', 'base/js/events',\n",
       "          'datalab/style!/nbextensions/gcpdatalab/charting.css'],\n",
       "        function(charts, dom, events) {\n",
       "          charts.render('gcharts', dom, events, 'paged_table', [], {\"rows\": [{\"c\": [{\"v\": \"9568: BROADCASTING BOARD OF GOVERNORS\"}, {\"v\": 34}]}, {\"c\": [{\"v\": \"2024: FEDERAL LAW ENFORCEMENT TRAINING CENTER\"}, {\"v\": 172}]}, {\"c\": [{\"v\": \"1438: OFFICE OF SURFACE MINING, RECLAMATION AND ENFORCEMENT\"}, {\"v\": 220}]}, {\"c\": [{\"v\": \"9514: OCCUPATIONAL SAFETY AND HEALTH REVIEW COMMISSION\"}, {\"v\": 49}]}, {\"c\": [{\"v\": \"6930: FEDERAL RAILROAD ADMINISTRATION\"}, {\"v\": 115}]}, {\"c\": [{\"v\": \"1650: OCCUPATIONAL SAFETY AND HEALTH ADMINISTRATION\"}, {\"v\": 184}]}, {\"c\": [{\"v\": \"1645: MINE SAFETY AND HEALTH ADMINISTRATION\"}, {\"v\": 185}]}, {\"c\": [{\"v\": \"1630: EMPLOYMENT AND TRAINING ADMINISTRATION\"}, {\"v\": 188}]}, {\"c\": [{\"v\": \"1425: BUREAU OF RECLAMATION\"}, {\"v\": 226}]}, {\"c\": [{\"v\": \"1153: UNITED STATES TRADE AND DEVELOPMENT AGENCY\"}, {\"v\": 278}]}, {\"c\": [{\"v\": \"9776: USTRANSCOM\"}, {\"v\": 21}]}, {\"c\": [{\"v\": \"8656: OFFICE OF FEDERAL HOUSING ENTERPRISE OVERSIGHT\"}, {\"v\": 64}]}, {\"c\": [{\"v\": \"7501: IMMED OFFICE OF THE SECRETARY OF HEALTH AND HUMAN SERVICES\"}, {\"v\": 89}]}, {\"c\": [{\"v\": \"6957: PIPELINE AND HAZARDOUS MATERIALS SAFETY ADMINISTRATON\"}, {\"v\": 107}]}, {\"c\": [{\"v\": \"2041: BUREAU OF ENGRAVING AND PRINTING\"}, {\"v\": 167}]}, {\"c\": [{\"v\": \"12K3: ANIMAL AND PLANT HEALTH INSPECTION SERVICE\"}, {\"v\": 248}]}, {\"c\": [{\"v\": \"97F5: WASHINGTON HEADQUARTERS SERVICES (WHS)\"}, {\"v\": 6}]}, {\"c\": [{\"v\": \"97AV: DEFENSE SECURITY SERVICE\"}, {\"v\": 14}]}, {\"c\": [{\"v\": \"955F: CONSUMER FINANCIAL PROTECTION BUREAU\"}, {\"v\": 37}]}, {\"c\": [{\"v\": \"6959: FEDERAL MOTOR CARRIER SAFETY ADMINISTRATION\"}, {\"v\": 106}]}, {\"c\": [{\"v\": \"6943: RESEARCH AND INNOVATIVE TECHNOLOGY ADMINISTRATION\"}, {\"v\": 112}]}, {\"c\": [{\"v\": \"1352: MINORITY BUSINESS DEVELOPMENT AGENCY\"}, {\"v\": 232}]}, {\"c\": [{\"v\": \"1304: OFFICE OF THE INSPECTOR GENERAL\"}, {\"v\": 245}]}, {\"c\": [{\"v\": \"97BZ: DEFENSE FINANCE AND ACCOUNTING SERVICE (DFAS)\"}, {\"v\": 12}]}, {\"c\": [{\"v\": \"96CE: U.S. ARMY CORPS OF ENGINEERS - CIVIL PROGRAM FINANCING ONLY\"}, {\"v\": 30}]}], \"cols\": [{\"type\": \"string\", \"id\": \"user\", \"label\": \"user\"}, {\"type\": \"number\", \"id\": \"user_row_num\", \"label\": \"user_row_num\"}]},\n",
       "            {\n",
       "              pageSize: 25,\n",
       "              cssClassNames:  {\n",
       "                tableRow: 'gchart-table-row',\n",
       "                headerRow: 'gchart-table-headerrow',\n",
       "                oddTableRow: 'gchart-table-oddrow',\n",
       "                selectedTableRow: 'gchart-table-selectedrow',\n",
       "                hoverTableRow: 'gchart-table-hoverrow',\n",
       "                tableCell: 'gchart-table-cell',\n",
       "                headerCell: 'gchart-table-headercell',\n",
       "                rowNumberCell: 'gchart-table-rownumcell'\n",
       "              }\n",
       "            },\n",
       "            {source_index: 4, fields: 'user,user_row_num'},\n",
       "            0,\n",
       "            285);\n",
       "        }\n",
       "      );\n",
       "    </script>\n",
       "  "
      ],
      "text/plain": [
       "QueryResultsTable job_8Cbb_dnPK8HlraYLbtxg2eASFcg"
      ]
     },
     "execution_count": 11,
     "metadata": {},
     "output_type": "execute_result"
    }
   ],
   "source": [
    "%%bq query\n",
    "select\n",
    "mod_agency,\n",
    "ROW_NUMBER() OVER (ORDER BY user DESC) row_num\n",
    "from\n",
    "  (select\n",
    "  mod_agency\n",
    "  #REGEXP_REPLACE(mod_agency, r',', '') as user\n",
    "  from `fiery-set-171213.vrec.usa_spending_all`\n",
    "  group by 1)"
   ]
  },
  {
   "cell_type": "markdown",
   "metadata": {},
   "source": [
    "## usa_vendorname_relabel"
   ]
  },
  {
   "cell_type": "code",
   "execution_count": 13,
   "metadata": {
    "collapsed": false
   },
   "outputs": [
    {
     "data": {
      "text/html": [
       "\n",
       "    <div class=\"bqtv\" id=\"6_150024854300\"><table><tr><th>item</th><th>item_row_num</th></tr><tr><td>orthopedic institute</td><td>34</td></tr><tr><td>ZYKRONIX INCORPORATED</td><td>172</td></tr><tr><td>ZWICK WINDOW SHADE COMPANY</td><td>220</td></tr><tr><td>ZURIAN, STEVEN</td><td>297</td></tr><tr><td>ZUHEIR INCORPORATED</td><td>403</td></tr><tr><td>ZREYATECH, LLC</td><td>491</td></tr><tr><td>ZORZA, INC.</td><td>527</td></tr><tr><td>ZORN COMPRESSOR AND EQUIPMENT INCORPORATED</td><td>535</td></tr><tr><td>ZOMEGA TECHNOLOGY CORPORATION</td><td>660</td></tr><tr><td>ZOLLO CFP, KIMBERLEY FEENEY</td><td>678</td></tr><tr><td>ZOLL SERVICES LLC</td><td>691</td></tr><tr><td>ZOELIMALALA RAMANASE</td><td>750</td></tr><tr><td>ZODIAC PROPERTIES II LIMITED LIABILITY COMPANY</td><td>771</td></tr><tr><td>ZODIAC PROPERTIES</td><td>772</td></tr><tr><td>ZKD INC.</td><td>857</td></tr><tr><td>ZIVOTOFSKY, JACOB</td><td>874</td></tr><tr><td>ZIP ENTERPRISES INC</td><td>988</td></tr><tr><td>ZIMMER MACHINERY CORPORATION</td><td>1157</td></tr><tr><td>ZIMMER GUNSUL FRASCA PARTNERSH</td><td>1162</td></tr><tr><td>ZIENTEK ANTHONY H</td><td>1258</td></tr><tr><td>ZIEMEK DENTAL LABORATORY, INC.</td><td>1269</td></tr><tr><td>ZIA IMPERIAL LOGISTIC SERVICES</td><td>1384</td></tr><tr><td>ZIA CONSULTANTS LIMITED LIABILITY COMPANY</td><td>1398</td></tr><tr><td>ZIA BUS SALES INCORPORATED</td><td>1400</td></tr><tr><td>ZHAO HONGSHEN</td><td>1472</td></tr></table></div>\n",
       "    <br />(rows: 952422, time: 4.7s,     1GB processed, job: job_fxH4-4V6yvl71wXrttJRtwR-y3w)<br />\n",
       "    <script>\n",
       "\n",
       "      require.config({\n",
       "        paths: {\n",
       "          d3: '//cdnjs.cloudflare.com/ajax/libs/d3/3.4.13/d3',\n",
       "          plotly: 'https://cdn.plot.ly/plotly-1.5.1.min.js?noext',\n",
       "          jquery: '//ajax.googleapis.com/ajax/libs/jquery/2.0.0/jquery.min'\n",
       "        },\n",
       "        map: {\n",
       "          '*': {\n",
       "            datalab: 'nbextensions/gcpdatalab'\n",
       "          }\n",
       "        },\n",
       "        shim: {\n",
       "          plotly: {\n",
       "            deps: ['d3', 'jquery'],\n",
       "            exports: 'plotly'\n",
       "          }\n",
       "        }\n",
       "      });\n",
       "\n",
       "      require(['datalab/charting', 'datalab/element!6_150024854300', 'base/js/events',\n",
       "          'datalab/style!/nbextensions/gcpdatalab/charting.css'],\n",
       "        function(charts, dom, events) {\n",
       "          charts.render('gcharts', dom, events, 'paged_table', [], {\"rows\": [{\"c\": [{\"v\": \"orthopedic institute\"}, {\"v\": 34}]}, {\"c\": [{\"v\": \"ZYKRONIX INCORPORATED\"}, {\"v\": 172}]}, {\"c\": [{\"v\": \"ZWICK WINDOW SHADE COMPANY\"}, {\"v\": 220}]}, {\"c\": [{\"v\": \"ZURIAN, STEVEN\"}, {\"v\": 297}]}, {\"c\": [{\"v\": \"ZUHEIR INCORPORATED\"}, {\"v\": 403}]}, {\"c\": [{\"v\": \"ZREYATECH, LLC\"}, {\"v\": 491}]}, {\"c\": [{\"v\": \"ZORZA, INC.\"}, {\"v\": 527}]}, {\"c\": [{\"v\": \"ZORN COMPRESSOR AND EQUIPMENT INCORPORATED\"}, {\"v\": 535}]}, {\"c\": [{\"v\": \"ZOMEGA TECHNOLOGY CORPORATION\"}, {\"v\": 660}]}, {\"c\": [{\"v\": \"ZOLLO CFP, KIMBERLEY FEENEY\"}, {\"v\": 678}]}, {\"c\": [{\"v\": \"ZOLL SERVICES LLC\"}, {\"v\": 691}]}, {\"c\": [{\"v\": \"ZOELIMALALA RAMANASE\"}, {\"v\": 750}]}, {\"c\": [{\"v\": \"ZODIAC PROPERTIES II LIMITED LIABILITY COMPANY\"}, {\"v\": 771}]}, {\"c\": [{\"v\": \"ZODIAC PROPERTIES\"}, {\"v\": 772}]}, {\"c\": [{\"v\": \"ZKD INC.\"}, {\"v\": 857}]}, {\"c\": [{\"v\": \"ZIVOTOFSKY, JACOB\"}, {\"v\": 874}]}, {\"c\": [{\"v\": \"ZIP ENTERPRISES INC\"}, {\"v\": 988}]}, {\"c\": [{\"v\": \"ZIMMER MACHINERY CORPORATION\"}, {\"v\": 1157}]}, {\"c\": [{\"v\": \"ZIMMER GUNSUL FRASCA PARTNERSH\"}, {\"v\": 1162}]}, {\"c\": [{\"v\": \"ZIENTEK ANTHONY H\"}, {\"v\": 1258}]}, {\"c\": [{\"v\": \"ZIEMEK DENTAL LABORATORY, INC.\"}, {\"v\": 1269}]}, {\"c\": [{\"v\": \"ZIA IMPERIAL LOGISTIC SERVICES\"}, {\"v\": 1384}]}, {\"c\": [{\"v\": \"ZIA CONSULTANTS LIMITED LIABILITY COMPANY\"}, {\"v\": 1398}]}, {\"c\": [{\"v\": \"ZIA BUS SALES INCORPORATED\"}, {\"v\": 1400}]}, {\"c\": [{\"v\": \"ZHAO HONGSHEN\"}, {\"v\": 1472}]}], \"cols\": [{\"type\": \"string\", \"id\": \"item\", \"label\": \"item\"}, {\"type\": \"number\", \"id\": \"item_row_num\", \"label\": \"item_row_num\"}]},\n",
       "            {\n",
       "              pageSize: 25,\n",
       "              cssClassNames:  {\n",
       "                tableRow: 'gchart-table-row',\n",
       "                headerRow: 'gchart-table-headerrow',\n",
       "                oddTableRow: 'gchart-table-oddrow',\n",
       "                selectedTableRow: 'gchart-table-selectedrow',\n",
       "                hoverTableRow: 'gchart-table-hoverrow',\n",
       "                tableCell: 'gchart-table-cell',\n",
       "                headerCell: 'gchart-table-headercell',\n",
       "                rowNumberCell: 'gchart-table-rownumcell'\n",
       "              }\n",
       "            },\n",
       "            {source_index: 5, fields: 'item,item_row_num'},\n",
       "            0,\n",
       "            952422);\n",
       "        }\n",
       "      );\n",
       "    </script>\n",
       "  "
      ],
      "text/plain": [
       "QueryResultsTable job_fxH4-4V6yvl71wXrttJRtwR-y3w"
      ]
     },
     "execution_count": 13,
     "metadata": {},
     "output_type": "execute_result"
    }
   ],
   "source": [
    "%%bq query\n",
    "select\n",
    "vendorname,\n",
    "ROW_NUMBER() OVER (ORDER BY vendorname DESC) row_num\n",
    "from\n",
    "  (select\n",
    "  vendorname\n",
    "  from `fiery-set-171213.vrec.usa_spending_all`\n",
    "  group by 1)"
   ]
  },
  {
   "cell_type": "markdown",
   "metadata": {},
   "source": [
    "# Get relabeled table "
   ]
  },
  {
   "cell_type": "code",
   "execution_count": 23,
   "metadata": {
    "collapsed": false
   },
   "outputs": [
    {
     "data": {
      "text/html": [
       "\n",
       "    <div class=\"bqtv\" id=\"11_150025752362\"><table><tr><th>user_number</th><th>item_number</th><th>count</th></tr><tr><td>16</td><td>895988</td><td>676166</td></tr><tr><td>143</td><td>348288</td><td>469971</td></tr><tr><td>16</td><td>795270</td><td>419655</td></tr><tr><td>16</td><td>795221</td><td>318862</td></tr><tr><td>16</td><td>306804</td><td>262224</td></tr><tr><td>16</td><td>895987</td><td>243671</td></tr><tr><td>178</td><td>370992</td><td>239677</td></tr><tr><td>16</td><td>190617</td><td>218145</td></tr><tr><td>178</td><td>370994</td><td>217610</td></tr><tr><td>143</td><td>506505</td><td>210493</td></tr><tr><td>161</td><td>370992</td><td>207995</td></tr><tr><td>143</td><td>475028</td><td>190245</td></tr><tr><td>143</td><td>319130</td><td>177307</td></tr><tr><td>143</td><td>530873</td><td>168934</td></tr><tr><td>143</td><td>475027</td><td>168907</td></tr><tr><td>143</td><td>828160</td><td>155104</td></tr><tr><td>142</td><td>348288</td><td>154628</td></tr><tr><td>16</td><td>395476</td><td>142845</td></tr><tr><td>16</td><td>430916</td><td>123212</td></tr><tr><td>16</td><td>125565</td><td>111677</td></tr><tr><td>150</td><td>795276</td><td>108281</td></tr><tr><td>143</td><td>41327</td><td>106597</td></tr><tr><td>143</td><td>602245</td><td>103172</td></tr><tr><td>143</td><td>623247</td><td>82619</td></tr><tr><td>16</td><td>795277</td><td>81609</td></tr></table></div>\n",
       "    <br />(rows: 100, time: 5.7s,     5GB processed, job: job_-WNvK1vVuBDsgQhDRjQDTR7u-nw)<br />\n",
       "    <script>\n",
       "\n",
       "      require.config({\n",
       "        paths: {\n",
       "          d3: '//cdnjs.cloudflare.com/ajax/libs/d3/3.4.13/d3',\n",
       "          plotly: 'https://cdn.plot.ly/plotly-1.5.1.min.js?noext',\n",
       "          jquery: '//ajax.googleapis.com/ajax/libs/jquery/2.0.0/jquery.min'\n",
       "        },\n",
       "        map: {\n",
       "          '*': {\n",
       "            datalab: 'nbextensions/gcpdatalab'\n",
       "          }\n",
       "        },\n",
       "        shim: {\n",
       "          plotly: {\n",
       "            deps: ['d3', 'jquery'],\n",
       "            exports: 'plotly'\n",
       "          }\n",
       "        }\n",
       "      });\n",
       "\n",
       "      require(['datalab/charting', 'datalab/element!11_150025752362', 'base/js/events',\n",
       "          'datalab/style!/nbextensions/gcpdatalab/charting.css'],\n",
       "        function(charts, dom, events) {\n",
       "          charts.render('gcharts', dom, events, 'paged_table', [], {\"rows\": [{\"c\": [{\"v\": 16}, {\"v\": 895988}, {\"v\": 676166}]}, {\"c\": [{\"v\": 143}, {\"v\": 348288}, {\"v\": 469971}]}, {\"c\": [{\"v\": 16}, {\"v\": 795270}, {\"v\": 419655}]}, {\"c\": [{\"v\": 16}, {\"v\": 795221}, {\"v\": 318862}]}, {\"c\": [{\"v\": 16}, {\"v\": 306804}, {\"v\": 262224}]}, {\"c\": [{\"v\": 16}, {\"v\": 895987}, {\"v\": 243671}]}, {\"c\": [{\"v\": 178}, {\"v\": 370992}, {\"v\": 239677}]}, {\"c\": [{\"v\": 16}, {\"v\": 190617}, {\"v\": 218145}]}, {\"c\": [{\"v\": 178}, {\"v\": 370994}, {\"v\": 217610}]}, {\"c\": [{\"v\": 143}, {\"v\": 506505}, {\"v\": 210493}]}, {\"c\": [{\"v\": 161}, {\"v\": 370992}, {\"v\": 207995}]}, {\"c\": [{\"v\": 143}, {\"v\": 475028}, {\"v\": 190245}]}, {\"c\": [{\"v\": 143}, {\"v\": 319130}, {\"v\": 177307}]}, {\"c\": [{\"v\": 143}, {\"v\": 530873}, {\"v\": 168934}]}, {\"c\": [{\"v\": 143}, {\"v\": 475027}, {\"v\": 168907}]}, {\"c\": [{\"v\": 143}, {\"v\": 828160}, {\"v\": 155104}]}, {\"c\": [{\"v\": 142}, {\"v\": 348288}, {\"v\": 154628}]}, {\"c\": [{\"v\": 16}, {\"v\": 395476}, {\"v\": 142845}]}, {\"c\": [{\"v\": 16}, {\"v\": 430916}, {\"v\": 123212}]}, {\"c\": [{\"v\": 16}, {\"v\": 125565}, {\"v\": 111677}]}, {\"c\": [{\"v\": 150}, {\"v\": 795276}, {\"v\": 108281}]}, {\"c\": [{\"v\": 143}, {\"v\": 41327}, {\"v\": 106597}]}, {\"c\": [{\"v\": 143}, {\"v\": 602245}, {\"v\": 103172}]}, {\"c\": [{\"v\": 143}, {\"v\": 623247}, {\"v\": 82619}]}, {\"c\": [{\"v\": 16}, {\"v\": 795277}, {\"v\": 81609}]}], \"cols\": [{\"type\": \"number\", \"id\": \"user_number\", \"label\": \"user_number\"}, {\"type\": \"number\", \"id\": \"item_number\", \"label\": \"item_number\"}, {\"type\": \"number\", \"id\": \"count\", \"label\": \"count\"}]},\n",
       "            {\n",
       "              pageSize: 25,\n",
       "              cssClassNames:  {\n",
       "                tableRow: 'gchart-table-row',\n",
       "                headerRow: 'gchart-table-headerrow',\n",
       "                oddTableRow: 'gchart-table-oddrow',\n",
       "                selectedTableRow: 'gchart-table-selectedrow',\n",
       "                hoverTableRow: 'gchart-table-hoverrow',\n",
       "                tableCell: 'gchart-table-cell',\n",
       "                headerCell: 'gchart-table-headercell',\n",
       "                rowNumberCell: 'gchart-table-rownumcell'\n",
       "              }\n",
       "            },\n",
       "            {source_index: 9, fields: 'user_number,item_number,count'},\n",
       "            0,\n",
       "            100);\n",
       "        }\n",
       "      );\n",
       "    </script>\n",
       "  "
      ],
      "text/plain": [
       "QueryResultsTable job_-WNvK1vVuBDsgQhDRjQDTR7u-nw"
      ]
     },
     "execution_count": 23,
     "metadata": {},
     "output_type": "execute_result"
    }
   ],
   "source": [
    "%%bq query\n",
    "select\n",
    "b.row_num as user_number,\n",
    "c.row_num as item_number,\n",
    "#vendorname as item,\n",
    "#a.mod_agency as user,\n",
    "count(*) as count\n",
    "from `fiery-set-171213.vrec.usa_spending_all` as a\n",
    "join `fiery-set-171213.vrec.usa_mod_agency_relabel` as b\n",
    "on a.mod_agency = b.mod_agency\n",
    "join `fiery-set-171213.vrec.usa_vendorname_relabel` as c\n",
    "on a.vendorname = c.vendorname\n",
    "where vendorcountrycode in ('UNITED STATES', 'USA: UNITED STATES OF AMERICA')\n",
    "and contractingofficerbusinesssizedetermination in ('O: OTHER THAN SMALL BUSINESS', 'S: SMALL BUSINESS')\n",
    "and a.mod_agency not in (\"\")\n",
    "group by 1,2\n",
    "order by count DESC\n",
    "limit 10000"
   ]
  }
 ],
 "metadata": {
  "kernelspec": {
   "display_name": "Python 2",
   "language": "python",
   "name": "python2"
  },
  "language_info": {
   "codemirror_mode": {
    "name": "ipython",
    "version": 2
   },
   "file_extension": ".py",
   "mimetype": "text/x-python",
   "name": "python",
   "nbconvert_exporter": "python",
   "pygments_lexer": "ipython2",
   "version": "2.7.9"
  }
 },
 "nbformat": 4,
 "nbformat_minor": 2
}
