{
 "cells": [
  {
   "cell_type": "code",
   "execution_count": 26,
   "metadata": {
    "collapsed": true
   },
   "outputs": [
    {
     "name": "stdout",
     "output_type": "stream",
     "text": [
      "BOF PUBLIC 00000000 20170604 0658869 0005747\n\n"
     ]
    }
   ],
   "source": [
    "import csv\n",
    "\n",
    "with open(\"SAM_PUBLIC_MONTHLY_20170604.dat\", \"r\") as input_file:\n",
    "    with open(\"output.csv\", \"w\") as output_file:\n",
    "        with open(\"sam_header.txt\", \"r\") as header_file:\n",
    "            header = header_file.read() #Read the header from a file\n",
    "            output_file.write(header) #Write the header to the output\n",
    "            print(input_file.readline()) #Discard the first line of the input\n",
    "            csv.writer(output_file, delimiter=',').writerows(csv.reader(input_file, delimiter='|')) #Process file"
   ]
  }
 ],
 "metadata": {
  "kernelspec": {
   "display_name": "Python 2",
   "language": "python",
   "name": "python2"
  },
  "language_info": {
   "codemirror_mode": {
    "name": "ipython",
    "version": 2.0
   },
   "file_extension": ".py",
   "mimetype": "text/x-python",
   "name": "python",
   "nbconvert_exporter": "python",
   "pygments_lexer": "ipython2",
   "version": "2.7.6"
  }
 },
 "nbformat": 4,
 "nbformat_minor": 0
}